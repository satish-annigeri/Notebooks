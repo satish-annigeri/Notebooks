{
 "cells": [
  {
   "cell_type": "markdown",
   "metadata": {},
   "source": [
    "# Python Functions\n",
    "Function is an independent, parameterized block of code, with a well defined input and output. They achieve modularity by hiding local variables from outside the function and allowing users of the function to replace the input and output with their own variables. Functions facilitate creation of computational elements that we can think of as primitives by providing decomposition and abstraction.\n",
    "\n",
    "* **Decomposition** creates structure. It allows us to break a problem into modules that are reasonably self-contained, and may be reused in different settings\n",
    "* **Abstraction** hides detail. It allows us to use a piece of code as if it were a black box -- that is, something whose interior details we cannot see, do not need to see, and shouldn't even want to see. The essence of abstraction is preserving information that is relevant in a given context, and forgetting information that is irrelevant in that context.\n",
    "\n",
    "While a **user** of a function need not know the inner working details of a function, the **designer** of the function must know its inner working details as well as decide what end users may need to know and what they don't need to know."
   ]
  },
  {
   "cell_type": "code",
   "execution_count": 1,
   "metadata": {
    "collapsed": false
   },
   "outputs": [
    {
     "name": "stdout",
     "output_type": "stream",
     "text": [
      "<type 'function'> <function fib at 0x00000000042227B8>\n",
      "0 1 1 2 3 5 8 13 21 34 55 89\n",
      "None\n",
      "<type 'list'> 12 Fibonacci numbers less than 100\n",
      "[0, 1, 1, 2, 3, 5, 8, 13, 21, 34, 55, 89]\n",
      "Help on function fib2 in module __main__:\n",
      "\n",
      "fib2(n)\n",
      "    Return a list of Fibonacci series upto n\n",
      "\n",
      "myfib(): 0 1 1 2 3 5 8 13 21 34 55 89 144 233 377 610 987 None\n"
     ]
    }
   ],
   "source": [
    "def fib(n): # Input n; No output for this function\n",
    "    a, b = 0, 1 # Local variables\n",
    "    while a < n:\n",
    "        print a,\n",
    "        a, b = b, a+b\n",
    "\n",
    "print type(fib), fib\n",
    "x = fib(100)\n",
    "print\n",
    "print x # This function does not return anything. Result must be None\n",
    "\n",
    "def fib2(n): # Input n; Output list L\n",
    "    '''Return a list of Fibonacci series upto n'''\n",
    "    a, b = 0, 1\n",
    "    L = []\n",
    "    while a < n:\n",
    "        L.append(a)\n",
    "        a, b = b, a+b\n",
    "    return L\n",
    "\n",
    "y = fib2(100)\n",
    "print type(y), len(y), 'Fibonacci numbers less than 100'\n",
    "print y\n",
    "help(fib2) # Self documenting!\n",
    "\n",
    "myfib = fib # Reference an existing function, and call it by a name of your choice\n",
    "print 'myfib():', myfib(1000)"
   ]
  },
  {
   "cell_type": "markdown",
   "metadata": {},
   "source": [
    "## Returning Multiple Results\n",
    "A function usually returns a single value, which replaces the function call. As a result, a function can be used as a part of an expression. When the function call completes, the function is replaced by the value returned by the function and expression can be evaluated.\n",
    "\n",
    "A Python function can also return multiple results, either as a Tuple or a List. When multiple values are returned as a Tuple, the individual values can be unpacked and assigned to different variables.\n",
    "\n",
    "Let us see an example. Given three numbers, the function must return the smallest and the largest of the given numbers, in that order."
   ]
  },
  {
   "cell_type": "markdown",
   "metadata": {},
   "source": [
    "## Default arguments\n",
    "Arguments can be assigned default values. Arguments with default values must be at the end of the list of arguments (an argument with a default value must never be followed by an argument which does not have a default value assigned to it). When a function is called and no argument is furnished corresponding to a default argument, it is assumed that the function has been called with the default value assigned to the argument.\n",
    "\n",
    "The function below has only one argument, and it has been assigned the default value 100. Therefore, this function can be called in two ways:\n",
    "\n",
    "1. Called with one value, and the furnished value is assigned to the argument. For example, **`fib(1000)`** assigns **`n`** to 1000 for this function call.\n",
    "2. Called without any value. For example, **`fib()`** assigns the default value 100 to the argument **`n`**."
   ]
  },
  {
   "cell_type": "code",
   "execution_count": 16,
   "metadata": {
    "collapsed": false
   },
   "outputs": [
    {
     "name": "stdout",
     "output_type": "stream",
     "text": [
      "5.0 [ 0.6  0.8]\n",
      "5.0 [ 0.6  0.8]\n",
      "<type 'tuple'> 2 items\n",
      "5.0 <type 'numpy.float64'>\n",
      "[ 0.6  0.8] <type 'numpy.ndarray'> 2 items: 0.6 0.8\n"
     ]
    }
   ],
   "source": [
    "import numpy as np\n",
    "\n",
    "def linedc(p1, p2):\n",
    "    projections = p2 - p1\n",
    "    L = np.sqrt(sum(projections**2))\n",
    "    dc = projections / L\n",
    "    return L, dc\n",
    "\n",
    "p1 = np.array([0.0, 0.0])\n",
    "p2 = np.array([3.0, 4.0])\n",
    "L1, dc1 = linedc(p1, p2)\n",
    "print L1, dc1\n",
    "\n",
    "p1 = np.array([-1.0, -2.0])\n",
    "p2 = np.array([2.0, 2.0])\n",
    "L2, dc2 = linedc(p1, p2)\n",
    "print L2, dc2\n",
    "\n",
    "x = linedc(p1, p2)\n",
    "print type(x), len(x), 'items'\n",
    "for i in x:\n",
    "    print i, type(i),\n",
    "    if type(i) == type(np.array([1,2.0])):\n",
    "        print len(i), 'items:', \n",
    "        for j in i:\n",
    "            print j,\n",
    "    print"
   ]
  },
  {
   "cell_type": "markdown",
   "metadata": {},
   "source": [
    "When a function returns multiple values, it is actually returning a tuple with multiple elements. A tuple ensures that the returned values are immutable. One side effect of returning multiple values is that it cannot be used as part of an epxression (unless the expression can make use of the returned tuple, perhaps by unpacking it."
   ]
  },
  {
   "cell_type": "code",
   "execution_count": 1,
   "metadata": {
    "collapsed": false
   },
   "outputs": [
    {
     "name": "stdout",
     "output_type": "stream",
     "text": [
      "[0, 1, 1, 2, 3, 5, 8, 13, 21, 34]\n",
      "[0, 1, 1, 2, 3, 5, 8, 13, 21, 34, 55, 89]\n",
      "[0, 1, 1, 2, 3, 5, 8, 13, 21, 34, 55, 89, 144, 233, 377, 610, 987]\n"
     ]
    }
   ],
   "source": [
    "def fib3(n=100):\n",
    "    '''\n",
    "    fib(int) -> list of integers\n",
    "    '''\n",
    "    a, b = 0, 1\n",
    "    result = []\n",
    "    while a < n:\n",
    "        result.append(a)\n",
    "        a, b = b, a+b\n",
    "    return result\n",
    "\n",
    "print fib3(50)\n",
    "print fib3()\n",
    "print fib3(1000)"
   ]
  },
  {
   "cell_type": "markdown",
   "metadata": {},
   "source": [
    "It is possible to have arguments without default values along with arguments with default values. When this is done, all arguments with default values must be listed at the end of the list of arguments. When the function is called, there must be sufficient values to match all the arguments without default values. If there are more values furnished, they are assigned to the arguments with default values from left to right. Any arguments left out, at the end of the argument list, are assigned default values.\n",
    "\n",
    "In the example below, there are 4 arguments, the first one does not have a default vale and the rest have default values. When this function is called, it must have at least one input value and at most four input values. When, say two input values are given, the first is assigned to the first and the second is assigned to the second. The third and fourth arguments are assigned default values."
   ]
  },
  {
   "cell_type": "code",
   "execution_count": null,
   "metadata": {
    "collapsed": false
   },
   "outputs": [],
   "source": []
  },
  {
   "cell_type": "code",
   "execution_count": 14,
   "metadata": {
    "collapsed": false
   },
   "outputs": [
    {
     "name": "stdout",
     "output_type": "stream",
     "text": [
      "-- This parrot wouldn't voom if you put 1000 volts through it.\n",
      "-- Lovely plumage, the Norwegian Blue\n",
      "-- It's a stiff !\n"
     ]
    }
   ],
   "source": [
    "def parrot(voltage, state='a stiff', action='voom', type='Norwegian Blue'):\n",
    "    print \"-- This parrot wouldn't\", action,\n",
    "    print \"if you put\", voltage, \"volts through it.\"\n",
    "    print \"-- Lovely plumage, the\", type\n",
    "    print \"-- It's\", state, \"!\"\n",
    "\n",
    "parrot(1000)"
   ]
  },
  {
   "cell_type": "code",
   "execution_count": 15,
   "metadata": {
    "collapsed": false
   },
   "outputs": [
    {
     "name": "stdout",
     "output_type": "stream",
     "text": [
      "-- This parrot wouldn't voom if you put 1000 volts through it.\n",
      "-- Lovely plumage, the Norwegian Blue\n",
      "-- It's a stiff !\n"
     ]
    }
   ],
   "source": [
    "parrot(voltage=1000)"
   ]
  },
  {
   "cell_type": "code",
   "execution_count": 16,
   "metadata": {
    "collapsed": false
   },
   "outputs": [
    {
     "name": "stdout",
     "output_type": "stream",
     "text": [
      "-- This parrot wouldn't VOOOOM if you put 1000000 volts through it.\n",
      "-- Lovely plumage, the Norwegian Blue\n",
      "-- It's a stiff !\n"
     ]
    }
   ],
   "source": [
    "parrot(voltage=1000000, action=\"VOOOOM\")"
   ]
  },
  {
   "cell_type": "code",
   "execution_count": 17,
   "metadata": {
    "collapsed": false
   },
   "outputs": [
    {
     "name": "stdout",
     "output_type": "stream",
     "text": [
      "-- This parrot wouldn't VOOOOM if you put 1000000 volts through it.\n",
      "-- Lovely plumage, the Norwegian Blue\n",
      "-- It's a stiff !\n"
     ]
    }
   ],
   "source": [
    "parrot(action=\"VOOOOM\", voltage=1000000)"
   ]
  },
  {
   "cell_type": "code",
   "execution_count": 18,
   "metadata": {
    "collapsed": false
   },
   "outputs": [
    {
     "name": "stdout",
     "output_type": "stream",
     "text": [
      "-- This parrot wouldn't jump if you put a million volts through it.\n",
      "-- Lovely plumage, the Norwegian Blue\n",
      "-- It's bereft of life !\n"
     ]
    }
   ],
   "source": [
    "parrot('a million', 'bereft of life', 'jump')"
   ]
  },
  {
   "cell_type": "code",
   "execution_count": 19,
   "metadata": {
    "collapsed": false
   },
   "outputs": [
    {
     "ename": "TypeError",
     "evalue": "parrot() takes at least 1 argument (0 given)",
     "output_type": "error",
     "traceback": [
      "\u001b[1;31m---------------------------------------------------------------------------\u001b[0m\n\u001b[1;31mTypeError\u001b[0m                                 Traceback (most recent call last)",
      "\u001b[1;32m<ipython-input-19-71d46e118f7b>\u001b[0m in \u001b[0;36m<module>\u001b[1;34m()\u001b[0m\n\u001b[1;32m----> 1\u001b[1;33m \u001b[0mparrot\u001b[0m\u001b[1;33m(\u001b[0m\u001b[1;33m)\u001b[0m \u001b[1;31m# Error\u001b[0m\u001b[1;33m\u001b[0m\u001b[0m\n\u001b[0m",
      "\u001b[1;31mTypeError\u001b[0m: parrot() takes at least 1 argument (0 given)"
     ]
    }
   ],
   "source": [
    "parrot() # Error, At least one argument required"
   ]
  },
  {
   "cell_type": "code",
   "execution_count": 20,
   "metadata": {
    "collapsed": false
   },
   "outputs": [
    {
     "ename": "SyntaxError",
     "evalue": "non-keyword arg after keyword arg (<ipython-input-20-8cde95efface>, line 1)",
     "output_type": "error",
     "traceback": [
      "\u001b[1;36m  File \u001b[1;32m\"<ipython-input-20-8cde95efface>\"\u001b[1;36m, line \u001b[1;32m1\u001b[0m\n\u001b[1;33m    parrot(voltage=5.0, 'dead') # Error.Non-keyword after a keyword argument\u001b[0m\n\u001b[1;31mSyntaxError\u001b[0m\u001b[1;31m:\u001b[0m non-keyword arg after keyword arg\n"
     ]
    }
   ],
   "source": [
    "parrot(voltage=5.0, 'dead') # Error.Non-keyword after a keyword argument"
   ]
  },
  {
   "cell_type": "code",
   "execution_count": 21,
   "metadata": {
    "collapsed": false
   },
   "outputs": [
    {
     "ename": "TypeError",
     "evalue": "parrot() got multiple values for keyword argument 'voltage'",
     "output_type": "error",
     "traceback": [
      "\u001b[1;31m---------------------------------------------------------------------------\u001b[0m\n\u001b[1;31mTypeError\u001b[0m                                 Traceback (most recent call last)",
      "\u001b[1;32m<ipython-input-21-d1dcfe45a039>\u001b[0m in \u001b[0;36m<module>\u001b[1;34m()\u001b[0m\n\u001b[1;32m----> 1\u001b[1;33m \u001b[0mparrot\u001b[0m\u001b[1;33m(\u001b[0m\u001b[1;36m100\u001b[0m\u001b[1;33m,\u001b[0m \u001b[0mvoltage\u001b[0m\u001b[1;33m=\u001b[0m\u001b[1;36m1000\u001b[0m\u001b[1;33m)\u001b[0m \u001b[1;31m# Error. Duplicate value for the same argument\u001b[0m\u001b[1;33m\u001b[0m\u001b[0m\n\u001b[0m",
      "\u001b[1;31mTypeError\u001b[0m: parrot() got multiple values for keyword argument 'voltage'"
     ]
    }
   ],
   "source": [
    "parrot(100, voltage=1000) # Error. Duplicate value for the same argument"
   ]
  },
  {
   "cell_type": "code",
   "execution_count": 22,
   "metadata": {
    "collapsed": false
   },
   "outputs": [
    {
     "ename": "TypeError",
     "evalue": "parrot() got an unexpected keyword argument 'actor'",
     "output_type": "error",
     "traceback": [
      "\u001b[1;31m---------------------------------------------------------------------------\u001b[0m\n\u001b[1;31mTypeError\u001b[0m                                 Traceback (most recent call last)",
      "\u001b[1;32m<ipython-input-22-c7e40881dee5>\u001b[0m in \u001b[0;36m<module>\u001b[1;34m()\u001b[0m\n\u001b[1;32m----> 1\u001b[1;33m \u001b[0mparrot\u001b[0m\u001b[1;33m(\u001b[0m\u001b[0mactor\u001b[0m\u001b[1;33m=\u001b[0m\u001b[1;34m'John Cleese'\u001b[0m\u001b[1;33m)\u001b[0m \u001b[1;31m# Error. Unknown keyword argument\u001b[0m\u001b[1;33m\u001b[0m\u001b[0m\n\u001b[0m",
      "\u001b[1;31mTypeError\u001b[0m: parrot() got an unexpected keyword argument 'actor'"
     ]
    }
   ],
   "source": [
    "parrot(actor='John Cleese') # Error. Unknown keyword argument"
   ]
  },
  {
   "cell_type": "markdown",
   "metadata": {},
   "source": [
    "## Arbitrary Argument List - Positional Arguments\n",
    "It is possible to define a function with a variable number of arguments, that can vary any time the function is called. The trick is to define the function with **`*args`**, which in fact is a Tuple. Of course, instead of **`args`** it could have been named anything you choose, but it is a convention to name it that way.\n",
    "\n",
    "The function then receives a Tuple, which is like a List, only immutable. The elements of the Tuple can be used within the function but cannot be changed. The function can determine how many elements there are in the Tuple, their data type etc. The responsibility of interpreting what the arguments represent rests with the function."
   ]
  },
  {
   "cell_type": "code",
   "execution_count": 5,
   "metadata": {
    "collapsed": false
   },
   "outputs": [
    {
     "name": "stdout",
     "output_type": "stream",
     "text": [
      "<type 'tuple'> 3\n",
      "<type 'int'> 1\n",
      "<type 'int'> 2\n",
      "<type 'str'> three\n",
      "\n",
      "<type 'tuple'> 4\n",
      "<type 'str'> One\n",
      "<type 'str'> Two\n",
      "<type 'int'> 3\n",
      "<type 'int'> 4\n"
     ]
    }
   ],
   "source": [
    "def f(*args):\n",
    "    print type(args), len(args)\n",
    "    for arg in args:\n",
    "        print type(arg), arg\n",
    "\n",
    "f(1, 2, 'three')\n",
    "print\n",
    "f('One', 'Two', 3, 4)"
   ]
  },
  {
   "cell_type": "markdown",
   "metadata": {},
   "source": [
    "## Arbitrary Argument List - Keyword Arguments\n",
    "Arbitrary arguments can also be created in another way, as a Dictionary (key-value pairs). The input argument is passed to the function as a Dictionary. The function can determine the number of elements in the Dictionary and access the values using the keys. In a Dictionary, there is no defined order for the keys. The responsibility of using the keys and the corresponding values correctly rests with the function."
   ]
  },
  {
   "cell_type": "code",
   "execution_count": 6,
   "metadata": {
    "collapsed": false
   },
   "outputs": [
    {
     "name": "stdout",
     "output_type": "stream",
     "text": [
      "<type 'dict'> 2\n",
      "Lastname : Cleese\n",
      "Name : John\n"
     ]
    }
   ],
   "source": [
    "def f(**kwargs):\n",
    "    print type(kwargs), len(kwargs)\n",
    "    keys = sorted(kwargs.keys())\n",
    "    for kw in keys:\n",
    "        print kw, \":\", kwargs[kw]\n",
    "\n",
    "f(Name='John', Lastname='Cleese')"
   ]
  },
  {
   "cell_type": "markdown",
   "metadata": {},
   "source": [
    "## Mixing Arguments\n",
    "It is possible to define a function with all four types of arguments, normal arguments, arguments with default values, Positional arguments and Keyword arguments. The order of these arguments is important.\n",
    "\n",
    "1. Normal arguments without default values, if present, must be listed first\n",
    "2. Normal arguments with default values, if present, must come after normal arguments without default values (if present) and before Positional arguments\n",
    "3. Positional arguments, if present, must appear after normal arguments without or with default values and before the Keyword arguments\n",
    "4. Keyword arguments, if present, must be listed last"
   ]
  },
  {
   "cell_type": "code",
   "execution_count": 16,
   "metadata": {
    "collapsed": false
   },
   "outputs": [
    {
     "name": "stdout",
     "output_type": "stream",
     "text": [
      "1 2 10\n",
      "Positional args: 0\n",
      "Keyword args: 0\n",
      "\n",
      "1 2 3\n",
      "Positional args: 0\n",
      "Keyword args: 0\n",
      "\n",
      "1 2 3\n",
      "Positional args: 1\n",
      "4\n",
      "Keyword args: 0\n",
      "\n",
      "1 2 3\n",
      "Positional args: 2\n",
      "4\n",
      "5\n",
      "Keyword args: 0\n",
      "1 2 10\n",
      "Positional args: 0\n",
      "Keyword args: 1\n",
      "name => Python\n",
      "1 2 3\n",
      "Positional args: 1\n",
      "4\n",
      "Keyword args: 1\n",
      "name => Spam\n"
     ]
    }
   ],
   "source": [
    "def f1(a, b, c=10, *args, **kwargs):\n",
    "    print a, b, c\n",
    "    print 'Positional args:', len(args)\n",
    "    for arg in args:\n",
    "        print arg\n",
    "    print 'Keyword args:', len(kwargs)\n",
    "    keys = kwargs.keys()\n",
    "    for kw in keys:\n",
    "        print kw, '=>', kwargs[kw]\n",
    "    return\n",
    "\n",
    "f1(1, 2)\n",
    "print\n",
    "f1(1, 2, 3)\n",
    "print\n",
    "f1(1, 2, 3, 4)\n",
    "print\n",
    "f1(1, 2, 3, 4, 5)\n",
    "f1(1, 2, name='Python')\n",
    "f1(1, 2, 3, 4, name='Spam')"
   ]
  },
  {
   "cell_type": "code",
   "execution_count": null,
   "metadata": {
    "collapsed": false
   },
   "outputs": [],
   "source": []
  }
 ],
 "metadata": {
  "kernelspec": {
   "display_name": "Python 2",
   "language": "python",
   "name": "python2"
  },
  "language_info": {
   "codemirror_mode": {
    "name": "ipython",
    "version": 2
   },
   "file_extension": ".py",
   "mimetype": "text/x-python",
   "name": "python",
   "nbconvert_exporter": "python",
   "pygments_lexer": "ipython2",
   "version": "2.7.9"
  }
 },
 "nbformat": 4,
 "nbformat_minor": 0
}
