{
 "metadata": {
  "name": ""
 },
 "nbformat": 3,
 "nbformat_minor": 0,
 "worksheets": [
  {
   "cells": [
    {
     "cell_type": "markdown",
     "metadata": {},
     "source": [
      "# Python Standard Library"
     ]
    },
    {
     "cell_type": "code",
     "collapsed": false,
     "input": [
      "import os\n",
      "\n",
      "os.getcwd()"
     ],
     "language": "python",
     "metadata": {},
     "outputs": [
      {
       "metadata": {},
       "output_type": "pyout",
       "prompt_number": 1,
       "text": [
        "'D:\\\\Users\\\\Satish\\\\My Documents\\\\Python\\\\klescet'"
       ]
      }
     ],
     "prompt_number": 1
    },
    {
     "cell_type": "code",
     "collapsed": false,
     "input": [
      "import glob\n",
      "\n",
      "glob.glob('*.ipynb')"
     ],
     "language": "python",
     "metadata": {},
     "outputs": [
      {
       "metadata": {},
       "output_type": "pyout",
       "prompt_number": 5,
       "text": [
        "['01 Numbers.ipynb',\n",
        " '02 String Tutorial.ipynb',\n",
        " '03 Lists Tutorial.ipynb',\n",
        " '04 Dictionaries.ipynb',\n",
        " '05 Tuples.ipynb',\n",
        " '06 Program Flow Control - For Loop.ipynb',\n",
        " '07 Program Flow Control - If.ipynb',\n",
        " '08 Defining Functions.ipynb',\n",
        " '09 Input and Output.ipynb',\n",
        " '10 Python Standard Library.ipynb',\n",
        " '15 Sqlite3 Tutorial.ipynb']"
       ]
      }
     ],
     "prompt_number": 5
    },
    {
     "cell_type": "code",
     "collapsed": false,
     "input": [
      "import math\n",
      "\n",
      "help('math.sqrt')"
     ],
     "language": "python",
     "metadata": {},
     "outputs": [
      {
       "output_type": "stream",
       "stream": "stdout",
       "text": [
        "Help on built-in function sqrt in math:\n",
        "\n",
        "math.sqrt = sqrt(...)\n",
        "    sqrt(x)\n",
        "    \n",
        "    Return the square root of x.\n",
        "\n"
       ]
      }
     ],
     "prompt_number": 7
    },
    {
     "cell_type": "code",
     "collapsed": false,
     "input": [
      "import random\n",
      "\n",
      "print random.choice(['apple', 'pear', 'banana'])\n",
      "print random.random()\n",
      "print random.sample(xrange(100), 10)\n",
      "print random.randrange(10)"
     ],
     "language": "python",
     "metadata": {},
     "outputs": [
      {
       "output_type": "stream",
       "stream": "stdout",
       "text": [
        "pear\n",
        "0.664003360261\n",
        "[95, 62, 6, 39, 12, 40, 86, 84, 74, 99]\n",
        "9\n"
       ]
      }
     ],
     "prompt_number": 12
    },
    {
     "cell_type": "code",
     "collapsed": false,
     "input": [
      "SMTPserver = \"mail.bvb.edu\"\n",
      "sender = 'satish@bvb.edu'\n",
      "dest = ['satish.annigeri@gmail.com']\n",
      "username = 'satish'\n",
      "password = 'password'\n",
      "\n",
      "text_subtype = 'plain'\n",
      "content = \"\"\"\n",
      "Test message\n",
      "\"\"\"\n",
      "subject = 'Sent from Python'\n",
      "\n",
      "import sys, os, re\n",
      "from smtplib import SMTP\n",
      "from email.MIMEText import MIMEText\n",
      "\n",
      "try:\n",
      "    msg = MIMEText(content, text_subtype)\n",
      "    msg['Subject'] = subject\n",
      "    msg['From'] = sender\n",
      "\n",
      "    conn = SMTP(SMTPserver)\n",
      "    conn.set_debuglevel(False)\n",
      "    conn.login(username, password)\n",
      "    try:\n",
      "        conn.sendmail(sender, dest, msg.as_string())\n",
      "    finally:\n",
      "        conn.close()\n",
      "except Exception, e:\n",
      "    sys.exit('Error sending mail: %s' % str(e))\n",
      "print 'Email sent'"
     ],
     "language": "python",
     "metadata": {},
     "outputs": [
      {
       "output_type": "stream",
       "stream": "stdout",
       "text": [
        "Email sent\n"
       ]
      }
     ],
     "prompt_number": 12
    },
    {
     "cell_type": "code",
     "collapsed": false,
     "input": [
      "from datetime import date\n",
      "\n",
      "now = date.today()\n",
      "print now\n",
      "print now.strftime(\"%d-%m-%y. %d %b %Y is a %A on the %d day of %B\")\n",
      "birthdate = date(1962, 07, 31)\n",
      "age = now - birthdate\n",
      "print type(age), age, age.days"
     ],
     "language": "python",
     "metadata": {},
     "outputs": [
      {
       "output_type": "stream",
       "stream": "stdout",
       "text": [
        "2013-10-15\n",
        "15-10-13. 15 Oct 2013 is a Tuesday on the 15 day of October\n",
        "<type 'datetime.timedelta'> 18704 days, 0:00:00 18704\n"
       ]
      }
     ],
     "prompt_number": 27
    }
   ],
   "metadata": {}
  }
 ]
}