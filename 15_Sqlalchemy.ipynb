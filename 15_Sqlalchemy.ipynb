{
 "cells": [
  {
   "cell_type": "markdown",
   "metadata": {},
   "source": [
    "# SQLAlchemy - Object Relational Mapping\n",
    "## Creating Tables"
   ]
  },
  {
   "cell_type": "code",
   "execution_count": 1,
   "metadata": {
    "collapsed": false
   },
   "outputs": [
    {
     "name": "stdout",
     "output_type": "stream",
     "text": [
      "0.8.2\n",
      "2013-10-16 10:01:14,790 INFO sqlalchemy.engine.base.Engine PRAGMA table_info(\"artists\")\n",
      "2013-10-16 10:01:14,790 INFO sqlalchemy.engine.base.Engine ()\n",
      "2013-10-16 10:01:14,792 INFO sqlalchemy.engine.base.Engine PRAGMA table_info(\"albums\")\n",
      "2013-10-16 10:01:14,792 INFO sqlalchemy.engine.base.Engine ()\n",
      "2013-10-16 10:01:14,793 INFO sqlalchemy.engine.base.Engine \n",
      "CREATE TABLE artists (\n",
      "\tid INTEGER NOT NULL, \n",
      "\tname VARCHAR, \n",
      "\tPRIMARY KEY (id)\n",
      ")\n",
      "\n",
      "\n",
      "2013-10-16 10:01:14,795 INFO sqlalchemy.engine.base.Engine ()\n",
      "2013-10-16 10:01:14,901 INFO sqlalchemy.engine.base.Engine COMMIT\n",
      "2013-10-16 10:01:14,903 INFO sqlalchemy.engine.base.Engine \n",
      "CREATE TABLE albums (\n",
      "\tid INTEGER NOT NULL, \n",
      "\ttitle VARCHAR, \n",
      "\trelease_date DATE, \n",
      "\tpublisher VARCHAR, \n",
      "\tmedia_type VARCHAR, \n",
      "\tartist_id INTEGER, \n",
      "\tPRIMARY KEY (id), \n",
      "\tFOREIGN KEY(artist_id) REFERENCES artists (id)\n",
      ")\n",
      "\n",
      "\n",
      "2013-10-16 10:01:14,904 INFO sqlalchemy.engine.base.Engine ()\n",
      "2013-10-16 10:01:15,081 INFO sqlalchemy.engine.base.Engine COMMIT\n"
     ]
    }
   ],
   "source": [
    "import sqlalchemy\n",
    "from sqlalchemy import create_engine, ForeignKey\n",
    "from sqlalchemy import Column, Date, Integer, String\n",
    "from sqlalchemy.ext.declarative import declarative_base\n",
    "from sqlalchemy.orm import relationship, backref\n",
    "\n",
    "print sqlalchemy.__version__\n",
    "\n",
    "engine = create_engine('sqlite:///mymusic.db', echo=True)\n",
    "Base = declarative_base()\n",
    "\n",
    "class Artist(Base):\n",
    "    \"\"\"\"\"\"\n",
    "    __tablename__ = 'artists'\n",
    "\n",
    "    id = Column(Integer, primary_key=True)\n",
    "    name = Column(String)\n",
    "\n",
    "    def __init__(self, name):\n",
    "        \"\"\"\"\"\"\n",
    "        self.name = name\n",
    "\n",
    "class Album(Base):\n",
    "    \"\"\"\"\"\"\n",
    "    __tablename__ = 'albums'\n",
    "    id = Column(Integer, primary_key = True)\n",
    "    title = Column(String)\n",
    "    release_date = Column(Date)\n",
    "    publisher = Column(String)\n",
    "    media_type = Column(String)\n",
    "\n",
    "    artist_id = Column(Integer, ForeignKey(\"artists.id\"))\n",
    "    artist = relationship(\"Artist\", backref=backref(\"albums\", order_by=id))\n",
    "\n",
    "    def __init__(self, title, release_date, publisher, media_type):\n",
    "        \"\"\"\"\"\"\n",
    "        self.title = title\n",
    "        self.release_date = release_date\n",
    "        self.publisher = publisher\n",
    "        self.media_type = media_type\n",
    "\n",
    "Base.metadata.create_all(engine)\n"
   ]
  },
  {
   "cell_type": "markdown",
   "metadata": {},
   "source": [
    "## Inserting Records into Tables"
   ]
  },
  {
   "cell_type": "code",
   "execution_count": 2,
   "metadata": {
    "collapsed": false
   },
   "outputs": [
    {
     "name": "stdout",
     "output_type": "stream",
     "text": [
      "2013-10-16 10:01:15,098 INFO sqlalchemy.engine.base.Engine BEGIN (implicit)\n",
      "2013-10-16 10:01:15,099 INFO sqlalchemy.engine.base.Engine INSERT INTO artists (name) VALUES (?)\n",
      "2013-10-16 10:01:15,101 INFO sqlalchemy.engine.base.Engine ('News Boys',)\n",
      "2013-10-16 10:01:15,102 INFO sqlalchemy.engine.base.Engine INSERT INTO albums (title, release_date, publisher, media_type, artist_id) VALUES (?, ?, ?, ?, ?)\n",
      "2013-10-16 10:01:15,104 INFO sqlalchemy.engine.base.Engine ('Read All ABout It', '1988-12-01', 'Refuge', 'CD', 1)\n",
      "2013-10-16 10:01:15,104 INFO sqlalchemy.engine.base.Engine INSERT INTO albums (title, release_date, publisher, media_type, artist_id) VALUES (?, ?, ?, ?, ?)\n",
      "2013-10-16 10:01:15,105 INFO sqlalchemy.engine.base.Engine ('Hell Is For Wimps', '1990-07-31', 'Star Song', 'CD', 1)\n",
      "2013-10-16 10:01:15,105 INFO sqlalchemy.engine.base.Engine INSERT INTO albums (title, release_date, publisher, media_type, artist_id) VALUES (?, ?, ?, ?, ?)\n",
      "2013-10-16 10:01:15,105 INFO sqlalchemy.engine.base.Engine ('Love Liberty Disco', '1999-11-16', 'Sparrow', 'CD', 1)\n",
      "2013-10-16 10:01:15,107 INFO sqlalchemy.engine.base.Engine INSERT INTO albums (title, release_date, publisher, media_type, artist_id) VALUES (?, ?, ?, ?, ?)\n",
      "2013-10-16 10:01:15,107 INFO sqlalchemy.engine.base.Engine ('Thrive', '2002-03-26', 'Sparrow', 'CD', 1)\n",
      "2013-10-16 10:01:15,108 INFO sqlalchemy.engine.base.Engine COMMIT\n",
      "2013-10-16 10:01:15,480 INFO sqlalchemy.engine.base.Engine BEGIN (implicit)\n",
      "2013-10-16 10:01:15,482 INFO sqlalchemy.engine.base.Engine INSERT INTO artists (name) VALUES (?)\n",
      "2013-10-16 10:01:15,482 INFO sqlalchemy.engine.base.Engine ('MXPX',)\n",
      "2013-10-16 10:01:15,483 INFO sqlalchemy.engine.base.Engine INSERT INTO artists (name) VALUES (?)\n",
      "2013-10-16 10:01:15,483 INFO sqlalchemy.engine.base.Engine ('Kutless',)\n",
      "2013-10-16 10:01:15,484 INFO sqlalchemy.engine.base.Engine INSERT INTO artists (name) VALUES (?)\n",
      "2013-10-16 10:01:15,484 INFO sqlalchemy.engine.base.Engine ('Thousand Foot Krutch',)\n",
      "2013-10-16 10:01:15,484 INFO sqlalchemy.engine.base.Engine COMMIT\n"
     ]
    }
   ],
   "source": [
    "import datetime\n",
    "from sqlalchemy.orm import sessionmaker\n",
    "#from table_def import Artist, Album\n",
    "\n",
    "Session = sessionmaker(bind=engine)\n",
    "session = Session()\n",
    "\n",
    "new_artist = Artist(\"News Boys\")\n",
    "new_artist.albums = [Album(\"Read All About It\", datetime.date(1988,12,1), \"Refuge\", \"CD\")]\n",
    "\n",
    "more_albums = [Album(\"Hell Is For Wimps\", datetime.date(1990,7,31), \"Star Song\", \"CD\"),\n",
    "               Album(\"Love Liberty Disco\", datetime.date(1999,11,16), \"Sparrow\", \"CD\"),\n",
    "               Album(\"Thrive\", datetime.date(2002,3,26), \"Sparrow\", \"CD\")]\n",
    "new_artist.albums.extend(more_albums)\n",
    "\n",
    "session.add(new_artist)\n",
    "session.commit()\n",
    "\n",
    "session.add_all([Artist(\"MXPX\"), Artist(\"Kutless\"), Artist(\"Thousand Foot Krutch\")])\n",
    "session.commit()"
   ]
  },
  {
   "cell_type": "markdown",
   "metadata": {},
   "source": [
    "## Selecting Data from Tables"
   ]
  },
  {
   "cell_type": "code",
   "execution_count": 3,
   "metadata": {
    "collapsed": false
   },
   "outputs": [
    {
     "name": "stdout",
     "output_type": "stream",
     "text": [
      "2013-10-16 10:01:15,614 INFO sqlalchemy.engine.base.Engine BEGIN (implicit)\n",
      "2013-10-16 10:01:15,615 INFO sqlalchemy.engine.base.Engine SELECT artists.id AS artists_id, artists.name AS artists_name \n",
      "FROM artists\n",
      "2013-10-16 10:01:15,615 INFO sqlalchemy.engine.base.Engine ()\n",
      "News Boys\n",
      "MXPX\n",
      "Kutless\n",
      "Thousand Foot Krutch\n",
      "2013-10-16 10:01:15,618 INFO sqlalchemy.engine.base.Engine SELECT artists.id AS artists_id, artists.name AS artists_name \n",
      "FROM artists \n",
      "WHERE artists.name = ?\n",
      " LIMIT ? OFFSET ?\n",
      "2013-10-16 10:01:15,618 INFO sqlalchemy.engine.base.Engine ('News Boys', 1, 0)\n",
      "News Boys\n",
      "2013-10-16 10:01:15,621 INFO sqlalchemy.engine.base.Engine SELECT albums.id AS albums_id, albums.title AS albums_title, albums.release_date AS albums_release_date, albums.publisher AS albums_publisher, albums.media_type AS albums_media_type, albums.artist_id AS albums_artist_id \n",
      "FROM albums ORDER BY albums.title\n",
      "2013-10-16 10:01:15,621 INFO sqlalchemy.engine.base.Engine ()\n",
      "Hell Is For Wimps\n",
      "Love Liberty Disco\n",
      "Read All ABout It\n",
      "Thrive\n",
      "2013-10-16 10:01:15,624 INFO sqlalchemy.engine.base.Engine SELECT artists.id AS artists_id, artists.name AS artists_name, albums.id AS albums_id, albums.title AS albums_title, albums.release_date AS albums_release_date, albums.publisher AS albums_publisher, albums.media_type AS albums_media_type, albums.artist_id AS albums_artist_id \n",
      "FROM artists, albums \n",
      "WHERE artists.id = albums.artist_id AND albums.title = ?\n",
      " LIMIT ? OFFSET ?\n",
      "2013-10-16 10:01:15,625 INFO sqlalchemy.engine.base.Engine ('Thrive', 1, 0)\n",
      "News Boys : Thrive\n",
      "2013-10-16 10:01:15,627 INFO sqlalchemy.engine.base.Engine SELECT albums.id AS albums_id, albums.title AS albums_title, albums.release_date AS albums_release_date, albums.publisher AS albums_publisher, albums.media_type AS albums_media_type, albums.artist_id AS albums_artist_id \n",
      "FROM albums \n",
      "WHERE albums.publisher LIKE ?\n",
      "2013-10-16 10:01:15,627 INFO sqlalchemy.engine.base.Engine ('S%a%',)\n",
      "Star Song\n",
      "Sparrow\n",
      "Sparrow\n"
     ]
    }
   ],
   "source": [
    "res = session.query(Artist).all()\n",
    "for artist in res:\n",
    "    print artist.name\n",
    "\n",
    "res = session.query(Artist).filter(Artist.name==\"News Boys\").first()\n",
    "print res.name\n",
    "\n",
    "res  =session.query(Album).order_by(Album.title).all()\n",
    "for album in res:\n",
    "    print album.title\n",
    "\n",
    "res = session.query(Artist, Album)\n",
    "res = res.filter(Artist.id == Album.artist_id)\n",
    "artist, album = res.filter(Album.title == \"Thrive\").first()\n",
    "print artist.name, ':', album.title\n",
    "\n",
    "res = session.query(Album).filter(Album.publisher.like(\"S%a%\")).all()\n",
    "for item in res:\n",
    "    print item.publisher"
   ]
  },
  {
   "cell_type": "markdown",
   "metadata": {},
   "source": [
    "## Modifying and Deleting Records"
   ]
  },
  {
   "cell_type": "code",
   "execution_count": 8,
   "metadata": {
    "collapsed": false
   },
   "outputs": [
    {
     "name": "stdout",
     "output_type": "stream",
     "text": [
      "2013-10-16 10:05:26,780 INFO sqlalchemy.engine.base.Engine SELECT artists.id AS artists_id, artists.name AS artists_name \n",
      "FROM artists \n",
      "WHERE artists.name = ?\n",
      " LIMIT ? OFFSET ?\n",
      "2013-10-16 10:05:26,782 INFO sqlalchemy.engine.base.Engine ('Kutless', 1, 0)\n",
      "2013-10-16 10:05:26,783 INFO sqlalchemy.engine.base.Engine SELECT artists.id AS artists_id, artists.name AS artists_name, albums.id AS albums_id, albums.title AS albums_title, albums.release_date AS albums_release_date, albums.publisher AS albums_publisher, albums.media_type AS albums_media_type, albums.artist_id AS albums_artist_id \n",
      "FROM artists, albums \n",
      "WHERE artists.id = albums.artist_id AND albums.title = ?\n",
      " LIMIT ? OFFSET ?\n",
      "2013-10-16 10:05:26,785 INFO sqlalchemy.engine.base.Engine ('Thrive', 1, 0)\n"
     ]
    },
    {
     "ename": "TypeError",
     "evalue": "'NoneType' object is not iterable",
     "output_type": "error",
     "traceback": [
      "\u001b[1;31m---------------------------------------------------------------------------\u001b[0m\n\u001b[1;31mTypeError\u001b[0m                                 Traceback (most recent call last)",
      "\u001b[1;32m<ipython-input-8-2601a46e0112>\u001b[0m in \u001b[0;36m<module>\u001b[1;34m()\u001b[0m\n\u001b[0;32m      5\u001b[0m     \u001b[0msession\u001b[0m\u001b[1;33m.\u001b[0m\u001b[0mcommit\u001b[0m\u001b[1;33m(\u001b[0m\u001b[1;33m)\u001b[0m\u001b[1;33m\u001b[0m\u001b[0m\n\u001b[0;32m      6\u001b[0m \u001b[1;33m\u001b[0m\u001b[0m\n\u001b[1;32m----> 7\u001b[1;33m \u001b[0martist\u001b[0m\u001b[1;33m,\u001b[0m \u001b[0malbum\u001b[0m \u001b[1;33m=\u001b[0m \u001b[0msession\u001b[0m\u001b[1;33m.\u001b[0m\u001b[0mquery\u001b[0m\u001b[1;33m(\u001b[0m\u001b[0mArtist\u001b[0m\u001b[1;33m,\u001b[0m \u001b[0mAlbum\u001b[0m\u001b[1;33m)\u001b[0m\u001b[1;33m.\u001b[0m\u001b[0mfilter\u001b[0m\u001b[1;33m(\u001b[0m\u001b[0mArtist\u001b[0m\u001b[1;33m.\u001b[0m\u001b[0mid\u001b[0m\u001b[1;33m==\u001b[0m\u001b[0mAlbum\u001b[0m\u001b[1;33m.\u001b[0m\u001b[0martist_id\u001b[0m\u001b[1;33m)\u001b[0m\u001b[1;33m.\u001b[0m\u001b[0mfilter\u001b[0m\u001b[1;33m(\u001b[0m\u001b[0mAlbum\u001b[0m\u001b[1;33m.\u001b[0m\u001b[0mtitle\u001b[0m\u001b[1;33m==\u001b[0m\u001b[1;34m\"Thrive\"\u001b[0m\u001b[1;33m)\u001b[0m\u001b[1;33m.\u001b[0m\u001b[0mfirst\u001b[0m\u001b[1;33m(\u001b[0m\u001b[1;33m)\u001b[0m\u001b[1;33m\u001b[0m\u001b[0m\n\u001b[0m\u001b[0;32m      8\u001b[0m \u001b[0malbum\u001b[0m\u001b[1;33m.\u001b[0m\u001b[0mtitle\u001b[0m \u001b[1;33m=\u001b[0m \u001b[1;34m\"Step Up To The Microphone\"\u001b[0m\u001b[1;33m\u001b[0m\u001b[0m\n\u001b[0;32m      9\u001b[0m \u001b[0msession\u001b[0m\u001b[1;33m.\u001b[0m\u001b[0mcommit\u001b[0m\u001b[1;33m(\u001b[0m\u001b[1;33m)\u001b[0m\u001b[1;33m\u001b[0m\u001b[0m\n",
      "\u001b[1;31mTypeError\u001b[0m: 'NoneType' object is not iterable"
     ]
    }
   ],
   "source": [
    "res = session.query(Artist).filter(Artist.name == \"Kutless\").first()\n",
    "if res:\n",
    "    print res.name\n",
    "    res.name = \"Beach Boys\"\n",
    "    session.commit()\n",
    "\n",
    "artist, album = session.query(Artist, Album).filter(Artist.id==Album.artist_id).filter(Album.title==\"Thrive\").first()\n",
    "album.title = \"Step Up To The Microphone\"\n",
    "session.commit()\n",
    "\n",
    "res = session.query(Artist, Album).filter(Artist.id==Album.artist_id).all()\n",
    "for item in res:\n",
    "    artist, album = item\n",
    "    print artist.name, album.title"
   ]
  },
  {
   "cell_type": "code",
   "execution_count": 4,
   "metadata": {
    "collapsed": false
   },
   "outputs": [],
   "source": []
  }
 ],
 "metadata": {
  "kernelspec": {
   "display_name": "Python 2",
   "language": "python",
   "name": "python2"
  },
  "language_info": {
   "codemirror_mode": {
    "name": "ipython",
    "version": 2
   },
   "file_extension": ".py",
   "mimetype": "text/x-python",
   "name": "python",
   "nbconvert_exporter": "python",
   "pygments_lexer": "ipython2",
   "version": "2.7.7"
  }
 },
 "nbformat": 4,
 "nbformat_minor": 0
}
