{
 "cells": [
  {
   "cell_type": "code",
   "execution_count": 1,
   "metadata": {
    "collapsed": false
   },
   "outputs": [],
   "source": [
    "from random import random\n",
    "\n",
    "class Food:\n",
    "    def __init__(self, x, y, amount=10):\n",
    "        self.x = x\n",
    "        self.y = y\n",
    "        self.amount = amount\n",
    "\n",
    "class Pheromone:\n",
    "    def __init__(self, x, y, strength=1.0):\n",
    "        self.x = x\n",
    "        self.y = y\n",
    "        self.strength = strength\n",
    "\n",
    "    def evaporate(self, m=0.99):\n",
    "        self.strength *= self.strength > 0.01 and m or 0\n",
    "\n",
    "class Ant:\n",
    "    def __init__(self, colony, x, y):\n",
    "        self.colony = colony\n",
    "        self.x = x\n",
    "        self.y = y\n",
    "        self.v = [0, 0]\n",
    "        self.food = False\n",
    "        self.trail = []\n",
    "        self.roaming = random() * 100\n",
    "\n",
    "def distance(v1, v2):\n",
    "    return ((v1.x - v2.x)**2 + (v1.y - v2.y)**2)**0.5\n",
    "\n",
    "def steer(ant, target):\n",
    "    d = distance(ant, target) + 0.0001\n",
    "    ant.v[0] = (target.x - ant.x) / d\n",
    "    ant.v[1] = (target.y - ant.y) / d\n",
    "    ant.roaming = 0\n",
    "\n",
    "def pheromones(colony):\n",
    "    for ant in colony.ants:\n",
    "        for pheromone in ant.trail:\n",
    "            yield pheromone\n",
    "            "
   ]
  },
  {
   "cell_type": "code",
   "execution_count": null,
   "metadata": {
    "collapsed": false
   },
   "outputs": [],
   "source": []
  }
 ],
 "metadata": {
  "kernelspec": {
   "display_name": "Python 2",
   "language": "python",
   "name": "python2"
  },
  "language_info": {
   "codemirror_mode": {
    "name": "ipython",
    "version": 2
   },
   "file_extension": ".py",
   "mimetype": "text/x-python",
   "name": "python",
   "nbconvert_exporter": "python",
   "pygments_lexer": "ipython2",
   "version": "2.7.10"
  }
 },
 "nbformat": 4,
 "nbformat_minor": 0
}
