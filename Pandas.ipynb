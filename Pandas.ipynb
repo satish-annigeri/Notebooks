{
 "cells": [
  {
   "cell_type": "markdown",
   "metadata": {},
   "source": [
    "# Pandas\n",
    "\n",
    "[Pandas](http://pandas.pydata.org) is a Python Data Analysis library. It is an open source library that brings data structures and data analysis tools to the Python programming language. It defines the a set of labelled array data structures to Python:\n",
    "\n",
    "1. **Series** - One-dimensioned homogeneously typed labelled array\n",
    "2. **TimeSeries** - Series with index containing dates\n",
    "2. **DataFrame** - A general two-dimensioned labelled array with potentially heterogeneously typed columns. It is a fast and efficient data structure for data manipulation with integrated indexing.\n",
    "3. **Panel** - A general three-dimensioned labelled array\n",
    "\n",
    "In addition, it adds several tools for reading and writing data. It is frequently used to read, clean, align, filter data.\n",
    "\n",
    "## Series\n",
    "\n",
    "**Series** is a one-dimensional labelled array capable of holding any data type."
   ]
  },
  {
   "cell_type": "code",
   "execution_count": 2,
   "metadata": {
    "collapsed": false
   },
   "outputs": [
    {
     "name": "stdout",
     "output_type": "stream",
     "text": [
      "a = [ 0.1  1.2  2.3  3.4  4.5]\n",
      "\n",
      "0    0.1\n",
      "1    1.2\n",
      "2    2.3\n",
      "3    3.4\n",
      "4    4.5\n",
      "dtype: float64\n",
      "\n",
      "0    0.1\n",
      "1    1.2\n",
      "2    2.3\n",
      "3    3.4\n",
      "4    4.5\n",
      "dtype: float64\n",
      "\n",
      "a    0.1\n",
      "b    1.2\n",
      "c    2.3\n",
      "d    3.4\n",
      "e    4.5\n",
      "dtype: float64\n"
     ]
    },
    {
     "data": {
      "text/plain": [
       "<matplotlib.axes._subplots.AxesSubplot at 0xcb095f8>"
      ]
     },
     "execution_count": 2,
     "metadata": {},
     "output_type": "execute_result"
    },
    {
     "data": {
      "image/png": "[encoded data removed]",
      "text/plain": [
       "<matplotlib.figure.Figure at 0xcb090f0>"
      ]
     },
     "metadata": {},
     "output_type": "display_data"
    }
   ],
   "source": [
    "%matplotlib inline\n",
    "\n",
    "import numpy as np\n",
    "from pandas import Series\n",
    "\n",
    "a = np.array([0.1, 1.2, 2.3, 3.4, 4.5])\n",
    "print 'a =', a\n",
    "print\n",
    "s = Series([0.1, 1.2, 2.3, 3.4, 4.5])\n",
    "print s\n",
    "print\n",
    "s1 = Series(a)\n",
    "print s1\n",
    "print\n",
    "s2 = Series(a, index=['a', 'b', 'c', 'd', 'e'])\n",
    "print s2\n",
    "s1.plot()"
   ]
  },
  {
   "cell_type": "code",
   "execution_count": 3,
   "metadata": {
    "collapsed": false
   },
   "outputs": [
    {
     "name": "stdout",
     "output_type": "stream",
     "text": [
      "s2['a'] = 0.1\n",
      "s2[0] = 0.1\n",
      "s2[['a', 'c']] = a    0.1\n",
      "c    2.3\n",
      "dtype: float64\n",
      "s2[[0, 2]] = a    0.1\n",
      "c    2.3\n",
      "dtype: float64\n",
      "s2[s2 > 2] = c    2.3\n",
      "d    3.4\n",
      "e    4.5\n",
      "dtype: float64\n",
      "0    0.1\n",
      "1    1.2\n",
      "2    2.3\n",
      "3    3.4\n",
      "4    4.5\n",
      "dtype: float64\n",
      "a    0.1\n",
      "b    1.2\n",
      "c    2.3\n",
      "d    3.4\n",
      "e    4.5\n",
      "dtype: float64\n"
     ]
    }
   ],
   "source": [
    "print \"s2['a'] =\", s2['a']\n",
    "print 's2[0] =', s2[0]\n",
    "print \"s2[['a', 'c']] =\", s2[['a', 'c']]\n",
    "print \"s2[[0, 2]] =\", s2[[0, 2]]\n",
    "print \"s2[s2 > 2] =\", s2[s2 > 2]\n",
    "s3 = Series([0.1, 1.2, 2.3, 3.4, 4.5])\n",
    "print s3\n",
    "s3.index = ['a', 'b', 'c', 'd', 'e']\n",
    "print s3"
   ]
  },
  {
   "cell_type": "code",
   "execution_count": 4,
   "metadata": {
    "collapsed": false
   },
   "outputs": [
    {
     "data": {
      "text/plain": [
       "a    0.1\n",
       "b    1.2\n",
       "c    2.3\n",
       "d    3.4\n",
       "e    4.5\n",
       "dtype: float64"
      ]
     },
     "execution_count": 4,
     "metadata": {},
     "output_type": "execute_result"
    }
   ],
   "source": [
    "s3.head()"
   ]
  },
  {
   "cell_type": "code",
   "execution_count": 5,
   "metadata": {
    "collapsed": false
   },
   "outputs": [
    {
     "data": {
      "text/plain": [
       "count    5.000000\n",
       "mean     2.300000\n",
       "std      1.739253\n",
       "min      0.100000\n",
       "25%      1.200000\n",
       "50%      2.300000\n",
       "75%      3.400000\n",
       "max      4.500000\n",
       "dtype: float64"
      ]
     },
     "execution_count": 5,
     "metadata": {},
     "output_type": "execute_result"
    }
   ],
   "source": [
    "s3.describe()"
   ]
  },
  {
   "cell_type": "code",
   "execution_count": 6,
   "metadata": {
    "collapsed": false
   },
   "outputs": [
    {
     "name": "stdout",
     "output_type": "stream",
     "text": [
      "count    5.000000\n",
      "mean     2.300000\n",
      "std      1.739253\n",
      "min      0.100000\n",
      "25%      1.200000\n",
      "50%      2.300000\n",
      "75%      3.400000\n",
      "max      4.500000\n",
      "dtype: float64\n",
      "Mean = 2.3\n"
     ]
    }
   ],
   "source": [
    "summary = s3.describe()\n",
    "print summary\n",
    "print \"Mean =\", summary['mean']"
   ]
  },
  {
   "cell_type": "markdown",
   "metadata": {},
   "source": [
    "## DataFrame"
   ]
  },
  {
   "cell_type": "code",
   "execution_count": 7,
   "metadata": {
    "collapsed": false
   },
   "outputs": [
    {
     "name": "stdout",
     "output_type": "stream",
     "text": [
      "   0  1\n",
      "0  1  2\n",
      "1  3  4\n"
     ]
    }
   ],
   "source": [
    "from pandas import DataFrame\n",
    "\n",
    "a = np.array([[1.0, 2], [3, 4]])\n",
    "df = DataFrame(a)\n",
    "print df"
   ]
  },
  {
   "cell_type": "code",
   "execution_count": 8,
   "metadata": {
    "collapsed": false
   },
   "outputs": [
    {
     "name": "stdout",
     "output_type": "stream",
     "text": [
      "   a  b\n",
      "0  1  2\n",
      "1  3  4\n"
     ]
    }
   ],
   "source": [
    "df = DataFrame(np.array([[1, 2], [3, 4]]), columns=['a', 'b'])\n",
    "print(df)"
   ]
  },
  {
   "cell_type": "code",
   "execution_count": 9,
   "metadata": {
    "collapsed": false
   },
   "outputs": [
    {
     "name": "stdout",
     "output_type": "stream",
     "text": [
      "   dogs  cats\n",
      "0     1     2\n",
      "1     3     4\n"
     ]
    }
   ],
   "source": [
    "df = DataFrame(np.array([[1, 2], [3, 4]]))\n",
    "df.columns = ['dogs', 'cats']\n",
    "print df"
   ]
  },
  {
   "cell_type": "code",
   "execution_count": 10,
   "metadata": {
    "collapsed": false
   },
   "outputs": [
    {
     "name": "stdout",
     "output_type": "stream",
     "text": [
      "0    0\n",
      "1    1\n",
      "2    2\n",
      "3    3\n",
      "4    4\n",
      "dtype: float64\n",
      "0    1\n",
      "1    2\n",
      "2    3\n",
      "3    4\n",
      "4    5\n",
      "dtype: float64\n"
     ]
    },
    {
     "data": {
      "text/html": [
       "<div style=\"max-height:1000px;max-width:1500px;overflow:auto;\">\n",
       "<table border=\"1\" class=\"dataframe\">\n",
       "  <thead>\n",
       "    <tr style=\"text-align: right;\">\n",
       "      <th></th>\n",
       "      <th>a</th>\n",
       "      <th>b</th>\n",
       "    </tr>\n",
       "  </thead>\n",
       "  <tbody>\n",
       "    <tr>\n",
       "      <th>0</th>\n",
       "      <td> 0</td>\n",
       "      <td> 1</td>\n",
       "    </tr>\n",
       "    <tr>\n",
       "      <th>1</th>\n",
       "      <td> 1</td>\n",
       "      <td> 2</td>\n",
       "    </tr>\n",
       "    <tr>\n",
       "      <th>2</th>\n",
       "      <td> 2</td>\n",
       "      <td> 3</td>\n",
       "    </tr>\n",
       "    <tr>\n",
       "      <th>3</th>\n",
       "      <td> 3</td>\n",
       "      <td> 4</td>\n",
       "    </tr>\n",
       "    <tr>\n",
       "      <th>4</th>\n",
       "      <td> 4</td>\n",
       "      <td> 5</td>\n",
       "    </tr>\n",
       "  </tbody>\n",
       "</table>\n",
       "</div>"
      ],
      "text/plain": [
       "   a  b\n",
       "0  0  1\n",
       "1  1  2\n",
       "2  2  3\n",
       "3  3  4\n",
       "4  4  5"
      ]
     },
     "execution_count": 10,
     "metadata": {},
     "output_type": "execute_result"
    }
   ],
   "source": [
    "s1 = Series(np.arange(0.0, 5))\n",
    "s2 = Series(np.arange(1.0, 6))\n",
    "print s1\n",
    "print s2\n",
    "DataFrame({'a': s1, 'b': s2})"
   ]
  },
  {
   "cell_type": "code",
   "execution_count": 12,
   "metadata": {
    "collapsed": false
   },
   "outputs": [
    {
     "name": "stdout",
     "output_type": "stream",
     "text": [
      "0    0\n",
      "1    1\n",
      "2    2\n",
      "dtype: float64\n"
     ]
    },
    {
     "ename": "AttributeError",
     "evalue": "'pandas.index.Int64Engine' object has no attribute 'is_monotonic_increasing'",
     "output_type": "error",
     "traceback": [
      "\u001b[1;31m---------------------------------------------------------------------------\u001b[0m\n\u001b[1;31mAttributeError\u001b[0m                            Traceback (most recent call last)",
      "\u001b[1;32m<ipython-input-12-ec0c24506b70>\u001b[0m in \u001b[0;36m<module>\u001b[1;34m()\u001b[0m\n\u001b[0;32m      1\u001b[0m \u001b[0ms3\u001b[0m \u001b[1;33m=\u001b[0m \u001b[0mSeries\u001b[0m\u001b[1;33m(\u001b[0m\u001b[0mnp\u001b[0m\u001b[1;33m.\u001b[0m\u001b[0marange\u001b[0m\u001b[1;33m(\u001b[0m\u001b[1;36m0.0\u001b[0m\u001b[1;33m,\u001b[0m \u001b[1;36m3\u001b[0m\u001b[1;33m)\u001b[0m\u001b[1;33m)\u001b[0m\u001b[1;33m\u001b[0m\u001b[0m\n\u001b[0;32m      2\u001b[0m \u001b[1;32mprint\u001b[0m \u001b[0ms3\u001b[0m\u001b[1;33m\u001b[0m\u001b[0m\n\u001b[1;32m----> 3\u001b[1;33m \u001b[0mDataFrame\u001b[0m\u001b[1;33m(\u001b[0m\u001b[1;33m{\u001b[0m\u001b[1;34m'a'\u001b[0m\u001b[1;33m:\u001b[0m \u001b[0ms1\u001b[0m\u001b[1;33m,\u001b[0m \u001b[1;34m'b'\u001b[0m\u001b[1;33m:\u001b[0m\u001b[0ms2\u001b[0m\u001b[1;33m,\u001b[0m \u001b[1;34m'c'\u001b[0m\u001b[1;33m:\u001b[0m \u001b[0ms3\u001b[0m\u001b[1;33m}\u001b[0m\u001b[1;33m)\u001b[0m\u001b[1;33m\u001b[0m\u001b[0m\n\u001b[0m",
      "\u001b[1;32mC:\\Anaconda\\lib\\site-packages\\pandas\\core\\frame.pyc\u001b[0m in \u001b[0;36m__init__\u001b[1;34m(self, data, index, columns, dtype, copy)\u001b[0m\n\u001b[0;32m    206\u001b[0m                                  dtype=dtype, copy=copy)\n\u001b[0;32m    207\u001b[0m         \u001b[1;32melif\u001b[0m \u001b[0misinstance\u001b[0m\u001b[1;33m(\u001b[0m\u001b[0mdata\u001b[0m\u001b[1;33m,\u001b[0m \u001b[0mdict\u001b[0m\u001b[1;33m)\u001b[0m\u001b[1;33m:\u001b[0m\u001b[1;33m\u001b[0m\u001b[0m\n\u001b[1;32m--> 208\u001b[1;33m             \u001b[0mmgr\u001b[0m \u001b[1;33m=\u001b[0m \u001b[0mself\u001b[0m\u001b[1;33m.\u001b[0m\u001b[0m_init_dict\u001b[0m\u001b[1;33m(\u001b[0m\u001b[0mdata\u001b[0m\u001b[1;33m,\u001b[0m \u001b[0mindex\u001b[0m\u001b[1;33m,\u001b[0m \u001b[0mcolumns\u001b[0m\u001b[1;33m,\u001b[0m \u001b[0mdtype\u001b[0m\u001b[1;33m=\u001b[0m\u001b[0mdtype\u001b[0m\u001b[1;33m)\u001b[0m\u001b[1;33m\u001b[0m\u001b[0m\n\u001b[0m\u001b[0;32m    209\u001b[0m         \u001b[1;32melif\u001b[0m \u001b[0misinstance\u001b[0m\u001b[1;33m(\u001b[0m\u001b[0mdata\u001b[0m\u001b[1;33m,\u001b[0m \u001b[0mma\u001b[0m\u001b[1;33m.\u001b[0m\u001b[0mMaskedArray\u001b[0m\u001b[1;33m)\u001b[0m\u001b[1;33m:\u001b[0m\u001b[1;33m\u001b[0m\u001b[0m\n\u001b[0;32m    210\u001b[0m             \u001b[1;32mimport\u001b[0m \u001b[0mnumpy\u001b[0m\u001b[1;33m.\u001b[0m\u001b[0mma\u001b[0m\u001b[1;33m.\u001b[0m\u001b[0mmrecords\u001b[0m \u001b[1;32mas\u001b[0m \u001b[0mmrecords\u001b[0m\u001b[1;33m\u001b[0m\u001b[0m\n",
      "\u001b[1;32mC:\\Anaconda\\lib\\site-packages\\pandas\\core\\frame.pyc\u001b[0m in \u001b[0;36m_init_dict\u001b[1;34m(self, data, index, columns, dtype)\u001b[0m\n\u001b[0;32m    334\u001b[0m \u001b[1;33m\u001b[0m\u001b[0m\n\u001b[0;32m    335\u001b[0m         return _arrays_to_mgr(arrays, data_names, index, columns,\n\u001b[1;32m--> 336\u001b[1;33m                               dtype=dtype)\n\u001b[0m\u001b[0;32m    337\u001b[0m \u001b[1;33m\u001b[0m\u001b[0m\n\u001b[0;32m    338\u001b[0m     def _init_ndarray(self, values, index, columns, dtype=None,\n",
      "\u001b[1;32mC:\\Anaconda\\lib\\site-packages\\pandas\\core\\frame.pyc\u001b[0m in \u001b[0;36m_arrays_to_mgr\u001b[1;34m(arrays, arr_names, index, columns, dtype)\u001b[0m\n\u001b[0;32m   4677\u001b[0m     \u001b[1;31m# figure out the index, if necessary\u001b[0m\u001b[1;33m\u001b[0m\u001b[1;33m\u001b[0m\u001b[0m\n\u001b[0;32m   4678\u001b[0m     \u001b[1;32mif\u001b[0m \u001b[0mindex\u001b[0m \u001b[1;32mis\u001b[0m \u001b[0mNone\u001b[0m\u001b[1;33m:\u001b[0m\u001b[1;33m\u001b[0m\u001b[0m\n\u001b[1;32m-> 4679\u001b[1;33m         \u001b[0mindex\u001b[0m \u001b[1;33m=\u001b[0m \u001b[0mextract_index\u001b[0m\u001b[1;33m(\u001b[0m\u001b[0marrays\u001b[0m\u001b[1;33m)\u001b[0m\u001b[1;33m\u001b[0m\u001b[0m\n\u001b[0m\u001b[0;32m   4680\u001b[0m     \u001b[1;32melse\u001b[0m\u001b[1;33m:\u001b[0m\u001b[1;33m\u001b[0m\u001b[0m\n\u001b[0;32m   4681\u001b[0m         \u001b[0mindex\u001b[0m \u001b[1;33m=\u001b[0m \u001b[0m_ensure_index\u001b[0m\u001b[1;33m(\u001b[0m\u001b[0mindex\u001b[0m\u001b[1;33m)\u001b[0m\u001b[1;33m\u001b[0m\u001b[0m\n",
      "\u001b[1;32mC:\\Anaconda\\lib\\site-packages\\pandas\\core\\frame.pyc\u001b[0m in \u001b[0;36mextract_index\u001b[1;34m(data)\u001b[0m\n\u001b[0;32m   4720\u001b[0m \u001b[1;33m\u001b[0m\u001b[0m\n\u001b[0;32m   4721\u001b[0m         \u001b[1;32mif\u001b[0m \u001b[0mhave_series\u001b[0m \u001b[1;32mor\u001b[0m \u001b[0mhave_dicts\u001b[0m\u001b[1;33m:\u001b[0m\u001b[1;33m\u001b[0m\u001b[0m\n\u001b[1;32m-> 4722\u001b[1;33m             \u001b[0mindex\u001b[0m \u001b[1;33m=\u001b[0m \u001b[0m_union_indexes\u001b[0m\u001b[1;33m(\u001b[0m\u001b[0mindexes\u001b[0m\u001b[1;33m)\u001b[0m\u001b[1;33m\u001b[0m\u001b[0m\n\u001b[0m\u001b[0;32m   4723\u001b[0m \u001b[1;33m\u001b[0m\u001b[0m\n\u001b[0;32m   4724\u001b[0m         \u001b[1;32mif\u001b[0m \u001b[0mhave_raw_arrays\u001b[0m\u001b[1;33m:\u001b[0m\u001b[1;33m\u001b[0m\u001b[0m\n",
      "\u001b[1;32mC:\\Anaconda\\lib\\site-packages\\pandas\\core\\index.pyc\u001b[0m in \u001b[0;36m_union_indexes\u001b[1;34m(indexes)\u001b[0m\n\u001b[0;32m   4556\u001b[0m         \u001b[1;32melse\u001b[0m\u001b[1;33m:\u001b[0m\u001b[1;33m\u001b[0m\u001b[0m\n\u001b[0;32m   4557\u001b[0m             \u001b[1;32mfor\u001b[0m \u001b[0mother\u001b[0m \u001b[1;32min\u001b[0m \u001b[0mindexes\u001b[0m\u001b[1;33m[\u001b[0m\u001b[1;36m1\u001b[0m\u001b[1;33m:\u001b[0m\u001b[1;33m]\u001b[0m\u001b[1;33m:\u001b[0m\u001b[1;33m\u001b[0m\u001b[0m\n\u001b[1;32m-> 4558\u001b[1;33m                 \u001b[0mresult\u001b[0m \u001b[1;33m=\u001b[0m \u001b[0mresult\u001b[0m\u001b[1;33m.\u001b[0m\u001b[0munion\u001b[0m\u001b[1;33m(\u001b[0m\u001b[0mother\u001b[0m\u001b[1;33m)\u001b[0m\u001b[1;33m\u001b[0m\u001b[0m\n\u001b[0m\u001b[0;32m   4559\u001b[0m             \u001b[1;32mreturn\u001b[0m \u001b[0mresult\u001b[0m\u001b[1;33m\u001b[0m\u001b[0m\n\u001b[0;32m   4560\u001b[0m     \u001b[1;32melif\u001b[0m \u001b[0mkind\u001b[0m \u001b[1;33m==\u001b[0m \u001b[1;34m'array'\u001b[0m\u001b[1;33m:\u001b[0m\u001b[1;33m\u001b[0m\u001b[0m\n",
      "\u001b[1;32mC:\\Anaconda\\lib\\site-packages\\pandas\\core\\index.pyc\u001b[0m in \u001b[0;36munion\u001b[1;34m(self, other)\u001b[0m\n\u001b[0;32m   1215\u001b[0m             \u001b[1;32mreturn\u001b[0m \u001b[0mthis\u001b[0m\u001b[1;33m.\u001b[0m\u001b[0munion\u001b[0m\u001b[1;33m(\u001b[0m\u001b[0mother\u001b[0m\u001b[1;33m)\u001b[0m\u001b[1;33m\u001b[0m\u001b[0m\n\u001b[0;32m   1216\u001b[0m \u001b[1;33m\u001b[0m\u001b[0m\n\u001b[1;32m-> 1217\u001b[1;33m         \u001b[1;32mif\u001b[0m \u001b[0mself\u001b[0m\u001b[1;33m.\u001b[0m\u001b[0mis_monotonic\u001b[0m \u001b[1;32mand\u001b[0m \u001b[0mother\u001b[0m\u001b[1;33m.\u001b[0m\u001b[0mis_monotonic\u001b[0m\u001b[1;33m:\u001b[0m\u001b[1;33m\u001b[0m\u001b[0m\n\u001b[0m\u001b[0;32m   1218\u001b[0m             \u001b[1;32mtry\u001b[0m\u001b[1;33m:\u001b[0m\u001b[1;33m\u001b[0m\u001b[0m\n\u001b[0;32m   1219\u001b[0m                 \u001b[0mresult\u001b[0m \u001b[1;33m=\u001b[0m \u001b[0mself\u001b[0m\u001b[1;33m.\u001b[0m\u001b[0m_outer_indexer\u001b[0m\u001b[1;33m(\u001b[0m\u001b[0mself\u001b[0m\u001b[1;33m.\u001b[0m\u001b[0mvalues\u001b[0m\u001b[1;33m,\u001b[0m \u001b[0mother\u001b[0m\u001b[1;33m.\u001b[0m\u001b[0mvalues\u001b[0m\u001b[1;33m)\u001b[0m\u001b[1;33m[\u001b[0m\u001b[1;36m0\u001b[0m\u001b[1;33m]\u001b[0m\u001b[1;33m\u001b[0m\u001b[0m\n",
      "\u001b[1;32mC:\\Anaconda\\lib\\site-packages\\pandas\\core\\index.pyc\u001b[0m in \u001b[0;36mis_monotonic\u001b[1;34m(self)\u001b[0m\n\u001b[0;32m    575\u001b[0m     \u001b[1;32mdef\u001b[0m \u001b[0mis_monotonic\u001b[0m\u001b[1;33m(\u001b[0m\u001b[0mself\u001b[0m\u001b[1;33m)\u001b[0m\u001b[1;33m:\u001b[0m\u001b[1;33m\u001b[0m\u001b[0m\n\u001b[0;32m    576\u001b[0m         \u001b[1;34m\"\"\" alias for is_monotonic_increasing (deprecated) \"\"\"\u001b[0m\u001b[1;33m\u001b[0m\u001b[0m\n\u001b[1;32m--> 577\u001b[1;33m         \u001b[1;32mreturn\u001b[0m \u001b[0mself\u001b[0m\u001b[1;33m.\u001b[0m\u001b[0m_engine\u001b[0m\u001b[1;33m.\u001b[0m\u001b[0mis_monotonic_increasing\u001b[0m\u001b[1;33m\u001b[0m\u001b[0m\n\u001b[0m\u001b[0;32m    578\u001b[0m \u001b[1;33m\u001b[0m\u001b[0m\n\u001b[0;32m    579\u001b[0m     \u001b[1;33m@\u001b[0m\u001b[0mproperty\u001b[0m\u001b[1;33m\u001b[0m\u001b[0m\n",
      "\u001b[1;31mAttributeError\u001b[0m: 'pandas.index.Int64Engine' object has no attribute 'is_monotonic_increasing'"
     ]
    }
   ],
   "source": [
    "s3 = Series(np.arange(0.0, 3))\n",
    "print s3\n",
    "DataFrame({'a': s1, 'b':s2, 'c': s3})"
   ]
  },
  {
   "cell_type": "code",
   "execution_count": null,
   "metadata": {
    "collapsed": false
   },
   "outputs": [],
   "source": [
    "df1 = DataFrame(np.random.randn(10, 4), columns=['A', 'B', 'C', 'D'])\n",
    "print df1\n",
    "df2 = DataFrame(np.random.randn(7, 3), columns=['A', 'B', 'C'])\n",
    "print df2"
   ]
  },
  {
   "cell_type": "code",
   "execution_count": null,
   "metadata": {
    "collapsed": false
   },
   "outputs": [],
   "source": [
    "df3 = df1 + df2\n",
    "print df3\n",
    "print df1 - df1.iloc[0]"
   ]
  },
  {
   "cell_type": "markdown",
   "metadata": {},
   "source": [
    "## Reading and Writing Data in Text Format\n",
    "\n",
    "There are several functions available in Pandas to read and write data in different text formats:\n",
    "\n",
    "* **`read_csv`**: Load delimited data from a file, URL or file like object. Use comma as default delimiter\n",
    "* **`read_table`**: Load delimited data from a file, URL or file like object. Use **`\\t`** as default delimiter\n",
    "* **`read_fwf`**: Read data in fixed-width column format (that is, no delimiters)\n",
    "* **`read_clipboard`**: Version of **`read_table`** that reads data from the clipboard. Useful for converting tables from web pages"
   ]
  },
  {
   "cell_type": "code",
   "execution_count": null,
   "metadata": {
    "collapsed": false
   },
   "outputs": [],
   "source": [
    "from pandas import read_csv\n",
    "\n",
    "df = read_csv('world.csv')\n",
    "print df.columns\n",
    "print df"
   ]
  },
  {
   "cell_type": "markdown",
   "metadata": {},
   "source": [
    "## Reading and Writing Data in Binary Format"
   ]
  },
  {
   "cell_type": "markdown",
   "metadata": {},
   "source": [
    "## Reading Microsoft Excel Files\n",
    "\n"
   ]
  },
  {
   "cell_type": "code",
   "execution_count": null,
   "metadata": {
    "collapsed": false
   },
   "outputs": [],
   "source": [
    "from pandas import ExcelFile\n",
    "\n",
    "xlFile = ExcelFile('india_steel.xls')\n",
    "print xlFile.sheet_names\n",
    "df = xlFile.parse(\"Sheet1\")\n",
    "print df"
   ]
  },
  {
   "cell_type": "markdown",
   "metadata": {},
   "source": [
    "# PandaSql\n",
    "\n",
    "**PandaSql** performs SQL operations on data stored in memory as a **DataFrame**. This makes it a versatile tool to perform a variety of search, sort, add, delete or modify operations on data stored in a DataFrame."
   ]
  },
  {
   "cell_type": "markdown",
   "metadata": {},
   "source": [
    "### PandaSql Example - Design of Connections in Steel Structures\n",
    "\n",
    "Properties of Indian Standard steel sections from SP:6(1) have been typed into a Microsoft Excel 2003 file named **india_steel.xls**. We will read the data from this file into program memory, and perform SQL queries on it.\n",
    "from pandasql import sqldf"
   ]
  },
  {
   "cell_type": "code",
   "execution_count": 13,
   "metadata": {
    "collapsed": false
   },
   "outputs": [
    {
     "name": "stdout",
     "output_type": "stream",
     "text": [
      "SELECT Name, w, AX FROM df WHERE Name LIKE 'ISMB%' AND Ax > 15 ORDER BY AX LIMIT 3\n",
      "Type =  <type 'NoneType'> \n",
      "None\n"
     ]
    }
   ],
   "source": [
    "from pandasql import sqldf\n",
    "\n",
    "pysqldf = lambda q: sqldf(q, globals())\n",
    "\n",
    "q = \"\"\"SELECT Name, w, AX FROM df WHERE Name LIKE '%s%%' AND Ax > 15 ORDER BY AX LIMIT 3\"\"\" % ('ISMB')\n",
    "print q\n",
    "sec = pysqldf(q)\n",
    "print \"Type = \", type(sec), \"\\n\", sec"
   ]
  },
  {
   "cell_type": "code",
   "execution_count": 14,
   "metadata": {
    "collapsed": false
   },
   "outputs": [
    {
     "ename": "AttributeError",
     "evalue": "'NoneType' object has no attribute 'Name'",
     "output_type": "error",
     "traceback": [
      "\u001b[1;31m---------------------------------------------------------------------------\u001b[0m\n\u001b[1;31mAttributeError\u001b[0m                            Traceback (most recent call last)",
      "\u001b[1;32m<ipython-input-14-05c0f2eae25d>\u001b[0m in \u001b[0;36m<module>\u001b[1;34m()\u001b[0m\n\u001b[1;32m----> 1\u001b[1;33m \u001b[1;32mprint\u001b[0m \u001b[0msec\u001b[0m\u001b[1;33m.\u001b[0m\u001b[0mName\u001b[0m\u001b[1;33m\u001b[0m\u001b[0m\n\u001b[0m\u001b[0;32m      2\u001b[0m \u001b[0ms1\u001b[0m \u001b[1;33m=\u001b[0m \u001b[0msec\u001b[0m\u001b[1;33m.\u001b[0m\u001b[0mloc\u001b[0m\u001b[1;33m[\u001b[0m\u001b[1;36m0\u001b[0m\u001b[1;33m]\u001b[0m\u001b[1;33m\u001b[0m\u001b[0m\n\u001b[0;32m      3\u001b[0m \u001b[1;32mprint\u001b[0m \u001b[0ms1\u001b[0m\u001b[1;33m\u001b[0m\u001b[0m\n\u001b[0;32m      4\u001b[0m \u001b[1;32mprint\u001b[0m \u001b[1;34m\"Type =\"\u001b[0m\u001b[1;33m,\u001b[0m \u001b[0mtype\u001b[0m\u001b[1;33m(\u001b[0m\u001b[0ms1\u001b[0m\u001b[1;33m)\u001b[0m\u001b[1;33m\u001b[0m\u001b[0m\n\u001b[0;32m      5\u001b[0m \u001b[1;32mprint\u001b[0m \u001b[0ms1\u001b[0m\u001b[1;33m[\u001b[0m\u001b[1;34m'Name'\u001b[0m\u001b[1;33m]\u001b[0m\u001b[1;33m,\u001b[0m \u001b[0ms1\u001b[0m\u001b[1;33m[\u001b[0m\u001b[1;34m'w'\u001b[0m\u001b[1;33m]\u001b[0m\u001b[1;33m,\u001b[0m \u001b[0ms1\u001b[0m\u001b[1;33m[\u001b[0m\u001b[1;34m'AX'\u001b[0m\u001b[1;33m]\u001b[0m\u001b[1;33m\u001b[0m\u001b[0m\n",
      "\u001b[1;31mAttributeError\u001b[0m: 'NoneType' object has no attribute 'Name'"
     ]
    }
   ],
   "source": [
    "print sec.Name\n",
    "s1 = sec.loc[0]\n",
    "print s1\n",
    "print \"Type =\", type(s1)\n",
    "print s1['Name'], s1['w'], s1['AX']\n",
    "print s1.Name, s1.w, s1.AX"
   ]
  },
  {
   "cell_type": "code",
   "execution_count": 15,
   "metadata": {
    "collapsed": false
   },
   "outputs": [
    {
     "name": "stdout",
     "output_type": "stream",
     "text": [
      "     Virulence  Replicate  ShannonDiversity\n",
      "0          0.5          1          0.059262\n",
      "1          0.5          2          1.093600\n",
      "2          0.5          3          1.139390\n",
      "3          0.5          4          0.547651\n",
      "4          0.5          5          0.065928\n",
      "5          0.5          6          1.344330\n",
      "6          0.5          7          1.680480\n",
      "7          0.5          8          0.000000\n",
      "8          0.5          9          2.047680\n",
      "9          0.5         10          0.000000\n",
      "10         0.5         11          1.507140\n",
      "11         0.5         12          0.000000\n",
      "12         0.5         13          1.589810\n",
      "13         0.5         14          1.144800\n",
      "14         0.5         15          1.011190\n",
      "15         0.5         16          0.000000\n",
      "16         0.5         17          0.776665\n",
      "17         0.5         18          0.001749\n",
      "18         0.5         19          1.761200\n",
      "19         0.5         20          0.021091\n",
      "20         0.5         21          0.790915\n",
      "21         0.5         22          0.000000\n",
      "22         0.5         23          0.018866\n",
      "23         0.5         24          0.994268\n",
      "24         0.5         25          1.729620\n",
      "25         0.5         26          0.967537\n",
      "26         0.5         27          0.457318\n",
      "27         0.5         28          0.992525\n",
      "28         0.5         29          1.506640\n",
      "29         0.5         30          0.697241\n",
      "..         ...        ...               ...\n",
      "320        NaN         21          0.000000\n",
      "321        NaN         22          0.000000\n",
      "322        NaN         23          0.000000\n",
      "323        NaN         24          0.000000\n",
      "324        NaN         25          0.000000\n",
      "325        NaN         26          0.000000\n",
      "326        NaN         27          1.702720\n",
      "327        NaN         28          0.169556\n",
      "328        NaN         29          0.949750\n",
      "329        NaN         30          0.240084\n",
      "330        NaN         31          0.925913\n",
      "331        NaN         32          0.000000\n",
      "332        NaN         33          0.693356\n",
      "333        NaN         34          0.000000\n",
      "334        NaN         35          0.310170\n",
      "335        NaN         36          0.000000\n",
      "336        NaN         37          0.000000\n",
      "337        NaN         38          0.000000\n",
      "338        NaN         39          0.000000\n",
      "339        NaN         40          0.000000\n",
      "340        NaN         41          0.000000\n",
      "341        NaN         42          0.000000\n",
      "342        NaN         43          0.000000\n",
      "343        NaN         44          0.000000\n",
      "344        NaN         45          0.391061\n",
      "345        NaN         46          0.001669\n",
      "346        NaN         47          0.000000\n",
      "347        NaN         48          0.444463\n",
      "348        NaN         49          0.383512\n",
      "349        NaN         50          0.511329\n",
      "\n",
      "[350 rows x 3 columns]\n"
     ]
    }
   ],
   "source": [
    "from pandas import read_csv\n",
    "\n",
    "df = read_csv('parasite_data.csv', na_values=[\" \"])\n",
    "print df"
   ]
  },
  {
   "cell_type": "markdown",
   "metadata": {
    "collapsed": false
   },
   "source": [
    "Retrieve the CSV file from this URL (Your computer must be connected to the Internet)\n",
    "\n",
    "https://raw.githubusercontent.com/rasbt/python_reference/master/Data/some_soccer_data.csv"
   ]
  },
  {
   "cell_type": "code",
   "execution_count": 1,
   "metadata": {
    "collapsed": false
   },
   "outputs": [
    {
     "data": {
      "text/html": [
       "<div>\n",
       "<table border=\"1\" class=\"dataframe\">\n",
       "  <thead>\n",
       "    <tr style=\"text-align: right;\">\n",
       "      <th></th>\n",
       "      <th>PLAYER</th>\n",
       "      <th>SALARY</th>\n",
       "      <th>GP</th>\n",
       "      <th>G</th>\n",
       "      <th>A</th>\n",
       "      <th>SOT</th>\n",
       "      <th>PPG</th>\n",
       "      <th>P</th>\n",
       "    </tr>\n",
       "  </thead>\n",
       "  <tbody>\n",
       "    <tr>\n",
       "      <th>0</th>\n",
       "      <td>Sergio Agüero\\n Forward — Manchester City</td>\n",
       "      <td>$19.2m</td>\n",
       "      <td>16.0</td>\n",
       "      <td>14</td>\n",
       "      <td>3.0</td>\n",
       "      <td>34</td>\n",
       "      <td>13.12</td>\n",
       "      <td>209.98</td>\n",
       "    </tr>\n",
       "    <tr>\n",
       "      <th>1</th>\n",
       "      <td>Eden Hazard\\n Midfield — Chelsea</td>\n",
       "      <td>$18.9m</td>\n",
       "      <td>21.0</td>\n",
       "      <td>8</td>\n",
       "      <td>4.0</td>\n",
       "      <td>17</td>\n",
       "      <td>13.05</td>\n",
       "      <td>274.04</td>\n",
       "    </tr>\n",
       "    <tr>\n",
       "      <th>2</th>\n",
       "      <td>Alexis Sánchez\\n Forward — Arsenal</td>\n",
       "      <td>$17.6m</td>\n",
       "      <td>NaN</td>\n",
       "      <td>12</td>\n",
       "      <td>7.0</td>\n",
       "      <td>29</td>\n",
       "      <td>11.19</td>\n",
       "      <td>223.86</td>\n",
       "    </tr>\n",
       "    <tr>\n",
       "      <th>3</th>\n",
       "      <td>Yaya Touré\\n Midfield — Manchester City</td>\n",
       "      <td>$16.6m</td>\n",
       "      <td>18.0</td>\n",
       "      <td>7</td>\n",
       "      <td>1.0</td>\n",
       "      <td>19</td>\n",
       "      <td>10.99</td>\n",
       "      <td>197.91</td>\n",
       "    </tr>\n",
       "    <tr>\n",
       "      <th>4</th>\n",
       "      <td>Ángel Di María\\n Midfield — Manchester United</td>\n",
       "      <td>$15.0m</td>\n",
       "      <td>13.0</td>\n",
       "      <td>3</td>\n",
       "      <td>NaN</td>\n",
       "      <td>13</td>\n",
       "      <td>10.17</td>\n",
       "      <td>132.23</td>\n",
       "    </tr>\n",
       "    <tr>\n",
       "      <th>5</th>\n",
       "      <td>Santiago Cazorla\\n Midfield — Arsenal</td>\n",
       "      <td>$14.8m</td>\n",
       "      <td>20.0</td>\n",
       "      <td>4</td>\n",
       "      <td>NaN</td>\n",
       "      <td>20</td>\n",
       "      <td>9.97</td>\n",
       "      <td>NaN</td>\n",
       "    </tr>\n",
       "    <tr>\n",
       "      <th>6</th>\n",
       "      <td>David Silva\\n Midfield — Manchester City</td>\n",
       "      <td>$14.3m</td>\n",
       "      <td>15.0</td>\n",
       "      <td>6</td>\n",
       "      <td>2.0</td>\n",
       "      <td>11</td>\n",
       "      <td>10.35</td>\n",
       "      <td>155.26</td>\n",
       "    </tr>\n",
       "    <tr>\n",
       "      <th>7</th>\n",
       "      <td>Cesc Fàbregas\\n Midfield — Chelsea</td>\n",
       "      <td>$14.0m</td>\n",
       "      <td>20.0</td>\n",
       "      <td>2</td>\n",
       "      <td>14.0</td>\n",
       "      <td>10</td>\n",
       "      <td>10.47</td>\n",
       "      <td>209.49</td>\n",
       "    </tr>\n",
       "    <tr>\n",
       "      <th>8</th>\n",
       "      <td>Saido Berahino\\n Forward — West Brom</td>\n",
       "      <td>$13.8m</td>\n",
       "      <td>21.0</td>\n",
       "      <td>9</td>\n",
       "      <td>0.0</td>\n",
       "      <td>20</td>\n",
       "      <td>7.02</td>\n",
       "      <td>147.43</td>\n",
       "    </tr>\n",
       "    <tr>\n",
       "      <th>9</th>\n",
       "      <td>Steven Gerrard\\n Midfield — Liverpool</td>\n",
       "      <td>$13.8m</td>\n",
       "      <td>20.0</td>\n",
       "      <td>5</td>\n",
       "      <td>1.0</td>\n",
       "      <td>11</td>\n",
       "      <td>7.50</td>\n",
       "      <td>150.01</td>\n",
       "    </tr>\n",
       "  </tbody>\n",
       "</table>\n",
       "</div>"
      ],
      "text/plain": [
       "                                          PLAYER  SALARY    GP   G     A  SOT  \\\n",
       "0      Sergio Agüero\\n Forward — Manchester City  $19.2m  16.0  14   3.0   34   \n",
       "1               Eden Hazard\\n Midfield — Chelsea  $18.9m  21.0   8   4.0   17   \n",
       "2             Alexis Sánchez\\n Forward — Arsenal  $17.6m   NaN  12   7.0   29   \n",
       "3        Yaya Touré\\n Midfield — Manchester City  $16.6m  18.0   7   1.0   19   \n",
       "4  Ángel Di María\\n Midfield — Manchester United  $15.0m  13.0   3   NaN   13   \n",
       "5          Santiago Cazorla\\n Midfield — Arsenal  $14.8m  20.0   4   NaN   20   \n",
       "6       David Silva\\n Midfield — Manchester City  $14.3m  15.0   6   2.0   11   \n",
       "7             Cesc Fàbregas\\n Midfield — Chelsea  $14.0m  20.0   2  14.0   10   \n",
       "8           Saido Berahino\\n Forward — West Brom  $13.8m  21.0   9   0.0   20   \n",
       "9          Steven Gerrard\\n Midfield — Liverpool  $13.8m  20.0   5   1.0   11   \n",
       "\n",
       "     PPG       P  \n",
       "0  13.12  209.98  \n",
       "1  13.05  274.04  \n",
       "2  11.19  223.86  \n",
       "3  10.99  197.91  \n",
       "4  10.17  132.23  \n",
       "5   9.97     NaN  \n",
       "6  10.35  155.26  \n",
       "7  10.47  209.49  \n",
       "8   7.02  147.43  \n",
       "9   7.50  150.01  "
      ]
     },
     "execution_count": 1,
     "metadata": {},
     "output_type": "execute_result"
    }
   ],
   "source": [
    "from __future__ import division, print_function\n",
    "import pandas as pd\n",
    "\n",
    "df = pd.read_csv('https://raw.githubusercontent.com/rasbt/python_reference/master/Data/some_soccer_data.csv')\n",
    "df"
   ]
  },
  {
   "cell_type": "code",
   "execution_count": 2,
   "metadata": {
    "collapsed": false
   },
   "outputs": [
    {
     "name": "stdout",
     "output_type": "stream",
     "text": [
      "PLAYER player\n",
      "SALARY salary\n",
      "GP gp\n",
      "G g\n",
      "A a\n",
      "SOT sot\n",
      "PPG ppg\n",
      "P p\n",
      "<class 'pandas.indexes.base.Index'> Index([u'player', u'salary', u'gp', u'g', u'a', u'sot', u'ppg', u'p'], dtype='object')\n",
      "player\n",
      "salary\n"
     ]
    }
   ],
   "source": [
    "for c in df.columns:\n",
    "    print(c, c.lower())\n",
    "df.columns = [c.lower() for c in df.columns]\n",
    "df.tail(3)\n",
    "print(type(df.columns), df.columns)\n",
    "print(df.columns[0])\n",
    "print(df.columns[1])"
   ]
  },
  {
   "cell_type": "code",
   "execution_count": 3,
   "metadata": {
    "collapsed": false
   },
   "outputs": [
    {
     "data": {
      "text/html": [
       "<div>\n",
       "<table border=\"1\" class=\"dataframe\">\n",
       "  <thead>\n",
       "    <tr style=\"text-align: right;\">\n",
       "      <th></th>\n",
       "      <th>player</th>\n",
       "      <th>salary</th>\n",
       "      <th>gp</th>\n",
       "      <th>g</th>\n",
       "      <th>a</th>\n",
       "      <th>sot</th>\n",
       "      <th>ppg</th>\n",
       "      <th>p</th>\n",
       "    </tr>\n",
       "  </thead>\n",
       "  <tbody>\n",
       "    <tr>\n",
       "      <th>5</th>\n",
       "      <td>Santiago Cazorla\\n Midfield — Arsenal</td>\n",
       "      <td>14.8</td>\n",
       "      <td>20.0</td>\n",
       "      <td>4</td>\n",
       "      <td>NaN</td>\n",
       "      <td>20</td>\n",
       "      <td>9.97</td>\n",
       "      <td>NaN</td>\n",
       "    </tr>\n",
       "    <tr>\n",
       "      <th>6</th>\n",
       "      <td>David Silva\\n Midfield — Manchester City</td>\n",
       "      <td>14.3</td>\n",
       "      <td>15.0</td>\n",
       "      <td>6</td>\n",
       "      <td>2.0</td>\n",
       "      <td>11</td>\n",
       "      <td>10.35</td>\n",
       "      <td>155.26</td>\n",
       "    </tr>\n",
       "    <tr>\n",
       "      <th>7</th>\n",
       "      <td>Cesc Fàbregas\\n Midfield — Chelsea</td>\n",
       "      <td>14.0</td>\n",
       "      <td>20.0</td>\n",
       "      <td>2</td>\n",
       "      <td>14.0</td>\n",
       "      <td>10</td>\n",
       "      <td>10.47</td>\n",
       "      <td>209.49</td>\n",
       "    </tr>\n",
       "    <tr>\n",
       "      <th>8</th>\n",
       "      <td>Saido Berahino\\n Forward — West Brom</td>\n",
       "      <td>13.8</td>\n",
       "      <td>21.0</td>\n",
       "      <td>9</td>\n",
       "      <td>0.0</td>\n",
       "      <td>20</td>\n",
       "      <td>7.02</td>\n",
       "      <td>147.43</td>\n",
       "    </tr>\n",
       "    <tr>\n",
       "      <th>9</th>\n",
       "      <td>Steven Gerrard\\n Midfield — Liverpool</td>\n",
       "      <td>13.8</td>\n",
       "      <td>20.0</td>\n",
       "      <td>5</td>\n",
       "      <td>1.0</td>\n",
       "      <td>11</td>\n",
       "      <td>7.50</td>\n",
       "      <td>150.01</td>\n",
       "    </tr>\n",
       "  </tbody>\n",
       "</table>\n",
       "</div>"
      ],
      "text/plain": [
       "                                     player salary    gp  g     a  sot    ppg  \\\n",
       "5     Santiago Cazorla\\n Midfield — Arsenal   14.8  20.0  4   NaN   20   9.97   \n",
       "6  David Silva\\n Midfield — Manchester City   14.3  15.0  6   2.0   11  10.35   \n",
       "7        Cesc Fàbregas\\n Midfield — Chelsea   14.0  20.0  2  14.0   10  10.47   \n",
       "8      Saido Berahino\\n Forward — West Brom   13.8  21.0  9   0.0   20   7.02   \n",
       "9     Steven Gerrard\\n Midfield — Liverpool   13.8  20.0  5   1.0   11   7.50   \n",
       "\n",
       "        p  \n",
       "5     NaN  \n",
       "6  155.26  \n",
       "7  209.49  \n",
       "8  147.43  \n",
       "9  150.01  "
      ]
     },
     "execution_count": 3,
     "metadata": {},
     "output_type": "execute_result"
    }
   ],
   "source": [
    "df['salary'] = df['salary'].apply(lambda x: x.strip('$m'))\n",
    "df.tail()"
   ]
  }
 ],
 "metadata": {
  "kernelspec": {
   "display_name": "Python 2",
   "language": "python",
   "name": "python2"
  },
  "language_info": {
   "codemirror_mode": {
    "name": "ipython",
    "version": 2
   },
   "file_extension": ".py",
   "mimetype": "text/x-python",
   "name": "python",
   "nbconvert_exporter": "python",
   "pygments_lexer": "ipython2",
   "version": "2.7.11"
  }
 },
 "nbformat": 4,
 "nbformat_minor": 0
}
