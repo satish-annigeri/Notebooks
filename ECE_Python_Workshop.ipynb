{
 "cells": [
  {
   "cell_type": "markdown",
   "metadata": {},
   "source": [
    "# Topics Covered Yesterday\n",
    "## Data Types\n",
    "**Scalar Types**\n",
    "\n",
    "* int\n",
    "* float\n",
    "* complex\n",
    "* bool\n",
    "\n",
    "**Container Types**\n",
    "\n",
    "* str\n",
    "* list\n",
    "\n",
    "** Arrays**\n",
    "\n",
    "* numpy.ndarray - NumPy n-dimensioned arrays"
   ]
  },
  {
   "cell_type": "code",
   "execution_count": 2,
   "metadata": {
    "collapsed": false
   },
   "outputs": [
    {
     "name": "stdout",
     "output_type": "stream",
     "text": [
      "<type 'int'>\n",
      "<type 'float'>\n",
      "<type 'complex'>\n",
      "<type 'bool'>\n",
      "<type 'str'>\n",
      "<type 'list'>\n",
      "<type 'numpy.ndarray'>\n"
     ]
    }
   ],
   "source": [
    "import numpy as np\n",
    "\n",
    "print type(1)\n",
    "print type(1.0)\n",
    "print type(1+0j)\n",
    "print type(2<3)\n",
    "print type('A')\n",
    "print type([1, 2, 3])\n",
    "print type(np.array([1,2,3]))"
   ]
  },
  {
   "cell_type": "markdown",
   "metadata": {},
   "source": [
    "# Importing Modules\n",
    "\n",
    "* Import a module as a whole, retain namespace\n",
    "* Import a module as a whole, and assign a sgorter/alternate name  to the module\n",
    "* From a module, import selected objects into main namespace"
   ]
  },
  {
   "cell_type": "code",
   "execution_count": 3,
   "metadata": {
    "collapsed": false
   },
   "outputs": [],
   "source": [
    "import math\n",
    "import numpy as np\n",
    "from math import pi"
   ]
  },
  {
   "cell_type": "markdown",
   "metadata": {},
   "source": [
    "## String\n",
    "* String is a container type - collection of items\n",
    "* Elements of a string can be accessed by indexing\n",
    "* Strings are **immutable**"
   ]
  },
  {
   "cell_type": "code",
   "execution_count": 6,
   "metadata": {
    "collapsed": false,
    "scrolled": true
   },
   "outputs": [
    {
     "name": "stdout",
     "output_type": "stream",
     "text": [
      "<type 'str'> 11 Abracadabra\n",
      "A\n",
      "b\n",
      "r\n",
      "a\n",
      "c\n",
      "a\n",
      "d\n",
      "a\n",
      "b\n",
      "r\n",
      "a\n"
     ]
    },
    {
     "ename": "TypeError",
     "evalue": "'str' object does not support item assignment",
     "output_type": "error",
     "traceback": [
      "\u001b[1;31m---------------------------------------------------------------------------\u001b[0m",
      "\u001b[1;31mTypeError\u001b[0m                                 Traceback (most recent call last)",
      "\u001b[1;32m<ipython-input-6-93bf41d34352>\u001b[0m in \u001b[0;36m<module>\u001b[1;34m()\u001b[0m\n\u001b[0;32m      3\u001b[0m \u001b[1;32mfor\u001b[0m \u001b[0mch\u001b[0m \u001b[1;32min\u001b[0m \u001b[0ms\u001b[0m\u001b[1;33m:\u001b[0m\u001b[1;33m\u001b[0m\u001b[0m\n\u001b[0;32m      4\u001b[0m     \u001b[1;32mprint\u001b[0m \u001b[0mch\u001b[0m\u001b[1;33m\u001b[0m\u001b[0m\n\u001b[1;32m----> 5\u001b[1;33m \u001b[0ms\u001b[0m\u001b[1;33m[\u001b[0m\u001b[1;36m0\u001b[0m\u001b[1;33m]\u001b[0m \u001b[1;33m=\u001b[0m \u001b[1;34m'a'\u001b[0m\u001b[1;33m\u001b[0m\u001b[0m\n\u001b[0m",
      "\u001b[1;31mTypeError\u001b[0m: 'str' object does not support item assignment"
     ]
    }
   ],
   "source": [
    "s = 'Abracadabra'\n",
    "print type(s), len(s), s\n",
    "for ch in s:\n",
    "    print ch\n",
    "s[0] = 'a'"
   ]
  },
  {
   "cell_type": "markdown",
   "metadata": {},
   "source": [
    "## Lists\n",
    "* List is a container type\n",
    "* List is **mutable**\n",
    "* List can contain heterogeneous elements"
   ]
  },
  {
   "cell_type": "code",
   "execution_count": 19,
   "metadata": {
    "collapsed": false
   },
   "outputs": [
    {
     "name": "stdout",
     "output_type": "stream",
     "text": [
      "<type 'list'> 5 [1, 2, 3, 4, 5]\n",
      "1\n",
      "2\n",
      "3\n",
      "4\n",
      "5\n",
      "[100, 2, 3, 4, 5]\n",
      "[1, 2, 3]\n",
      "[1, 2, 3]\n",
      "[3, 4, 5]\n",
      "[3, 4, 5]\n",
      "5\n",
      "4\n",
      "3\n",
      "2\n",
      "1\n",
      "[5, 4, 3, 2, 1]\n",
      "[4, 3, 2]\n"
     ]
    }
   ],
   "source": [
    "L = [1, 2, 3, 4, 5]\n",
    "print type(L), len(L), L\n",
    "for item in L:\n",
    "    print item\n",
    "L[0] = 100\n",
    "print L\n",
    "L[0] = 1\n",
    "print L[0:3]\n",
    "print L[:3]\n",
    "print L[2:5]\n",
    "print L[2:]\n",
    "for i in range(-1, -6, -1):\n",
    "    print L[i]\n",
    "print L[-1:-6:-1]\n",
    "print L[-2:-5:-1]"
   ]
  },
  {
   "cell_type": "markdown",
   "metadata": {},
   "source": [
    "# Tuples\n",
    "\n",
    "* Similar to Lists, except that Lists are **mutable**\n",
    "* Tuples are containers whose elements cannot be changed (**immutable**)\n",
    "* Tuples are similar to **lists** "
   ]
  },
  {
   "cell_type": "code",
   "execution_count": 27,
   "metadata": {
    "collapsed": false
   },
   "outputs": [
    {
     "name": "stdout",
     "output_type": "stream",
     "text": [
      "(10, 20, 30)\n",
      "<type 'tuple'>\n",
      "Items in Tuple a\n",
      "0 10\n",
      "1 20\n",
      "2 30\n",
      "Enumerate Tuple a\n",
      "0 10\n",
      "1 20\n",
      "2 30\n"
     ]
    }
   ],
   "source": [
    "a = (10, 20, 30, 'ECE', 1+0j)\n",
    "print a\n",
    "print type(a)\n",
    "print 'Items in Tuple a'\n",
    "for i in range(len(a)):\n",
    "    print i, a[i]\n",
    "print 'Enumerate Tuple a'\n",
    "for i, elem in enumerate(a):\n",
    "    print i, elem"
   ]
  },
  {
   "cell_type": "markdown",
   "metadata": {},
   "source": [
    "# Array Operations\n",
    "\n",
    "* Operations between an array and a scalar are elementwise\n",
    "* Array operations ($+, -, *, /, %$) involving two arrays, are always elementwise, provided the operation is permitted by rules of matrix operations"
   ]
  },
  {
   "cell_type": "code",
   "execution_count": 11,
   "metadata": {
    "collapsed": false
   },
   "outputs": [
    {
     "name": "stdout",
     "output_type": "stream",
     "text": [
      "[  0.   2.   4.   6.   8.  10.]\n",
      "[  2.   4.   6.   8.  10.  12.]\n",
      "[-2.  0.  2.  4.  6.  8.]\n",
      "[  0.   4.   8.  12.  16.  20.]\n",
      "[ 0.  1.  2.  3.  4.  5.]\n",
      "[ 0.  2.  1.  0.  2.  1.]\n"
     ]
    }
   ],
   "source": [
    "a = np.array(range(0, 11, 2), dtype=float)\n",
    "print a\n",
    "print a + 2\n",
    "print a - 2\n",
    "print a * 2\n",
    "print a / 2\n",
    "print a % 3"
   ]
  },
  {
   "cell_type": "code",
   "execution_count": 15,
   "metadata": {
    "collapsed": false
   },
   "outputs": [
    {
     "name": "stdout",
     "output_type": "stream",
     "text": [
      "[  0.   2.   4.   6.   8.  10.]\n",
      "[  1.   3.   5.   7.   9.  11.]\n",
      "[  1.   5.   9.  13.  17.  21.]\n",
      "[ 1.  1.  1.  1.  1.  1.]\n",
      "[   0.    6.   20.   42.   72.  110.]\n",
      "[ 0.          0.66666667  0.8         0.85714286  0.88888889  0.90909091]\n",
      "[  0.   2.   4.   6.   8.  10.]\n"
     ]
    }
   ],
   "source": [
    "b = np.array(range(1, 12, 2), dtype=float)\n",
    "print a\n",
    "print b\n",
    "print a + b\n",
    "print b - a\n",
    "print a * b\n",
    "print a / b\n",
    "print a % b\n",
    "print np.dot()"
   ]
  },
  {
   "cell_type": "markdown",
   "metadata": {},
   "source": [
    "# Generating Data\n",
    "\n",
    "* `range()`\n",
    "* `np.arange()`\n",
    "* `np.linspace()`\n",
    "\n",
    "# Creating Matrices\n",
    "\n",
    "* `np.zeros()`\n",
    "* `np.ones()`\n",
    "* `np.eye()`\n",
    "* `np.diag()`\n",
    "\n",
    "# Plotting Graphs\n",
    "\n",
    "* Module: `import matplotlib.pyplot as plt`\n",
    "* Plot graph: `plt.plot()`\n",
    "* Draw grid lines: `plt.grid()`\n",
    "* Display axis labels: `plt.xlabel('x-label')`, `plt.ylabel('y-label')`\n",
    "* Display legend: `plt.legend(['graph 1', 'graph 2'])`\n",
    "* Show the graph: `plt.show()`\n",
    "* Save the graph to an image file: `plt.savefig('figure01.png')`"
   ]
  },
  {
   "cell_type": "code",
   "execution_count": null,
   "metadata": {
    "collapsed": false
   },
   "outputs": [],
   "source": [
    "x = np."
   ]
  },
  {
   "cell_type": "code",
   "execution_count": 19,
   "metadata": {
    "collapsed": false
   },
   "outputs": [
    {
     "data": {
      "image/png": "[encoded data removed]",
      "text/plain": [
       "<matplotlib.figure.Figure at 0xb6a7b38>"
      ]
     },
     "metadata": {},
     "output_type": "display_data"
    }
   ],
   "source": [
    "import matplotlib.pyplot as plt\n",
    "%matplotlib inline\n",
    "\n",
    "x = np.linspace(0, np.pi * 4, 501)\n",
    "y1 = np.sin(x)\n",
    "y2 = np.cos(x)\n",
    "\n",
    "plt.plot(x, y1, 'r-', x, y2, 'b--')\n",
    "plt.grid()\n",
    "plt.xlabel(r'$x$')\n",
    "plt.ylabel(r'$f(x)$')\n",
    "plt.title('Sinusoidal Functions')\n",
    "plt.legend([r'$\\sin(x)$', r'$\\cos(x)$'], loc=3)\n",
    "plt.savefig('testfig01.png')\n",
    "plt.show()"
   ]
  },
  {
   "cell_type": "markdown",
   "metadata": {},
   "source": [
    "# Writing Your Own Functions\n",
    "\n",
    "* Functions are independent blocks of code that can be reused\n",
    "* Every function has\n",
    "  * **Purpose** what the function does\n",
    "  * **Name** to identify the function for later use\n",
    "  * **Input arguments** zero or more\n",
    "  * **Output arguments** zero or more\n",
    "  * **Body of the function** statements to achieve the purpose\n",
    "\n",
    "Let us define a function that calculates the length of a straight line in 3D Cartesian coordinate system and also its direction cosines.\n",
    "\n",
    "Let there be two points with coordinates $A(x_1, y_1, z_1)$ and $B(x_2, y_2, z_2)$. Then the length of the line is given by\n",
    "\n",
    "$$ L = \\sqrt{(x_2 - x_1)^2 + (y_2 - y_1)^2 + (z_2 - z_1)^2} $$\n",
    "\n",
    "Direction cosines are the cosines of the angle between the line and one of the coordinate axes. They are given as\n",
    "\n",
    "$$ l_x = \\cos(\\alpha) = \\frac{x_2 - x_1}{L}$$\n",
    "$$ l_y = \\cos(\\beta) = \\frac{y_2 - y_1}{L}$$\n",
    "$$ l_z = \\cos(\\gamma) = \\frac{z_2 - z_1}{L}$$\n",
    "\n",
    "As an example, let $A (0, 0, 0)$ and $B(2, 3, 1)$ be the two points. Then\n",
    "\n",
    "$$dx = x_2 - x_1 = 2, dy = y_2 - y_1 = 3, dz = z_2 - z_1 = 1$$\n",
    "\n",
    "$$L = \\sqrt{2^2 + 3^2 + 1^2} = \\sqrt{14} = 3.741657387$$\n",
    "\n",
    "$$l_x = \\frac{2}{3.741657387} = 0.534522483$$\n",
    "$$l_y = \\frac{3}{3.741657387} = 0.801783725$$\n",
    "$$l_z = \\frac{1}{3.741657387} = 0.267261241$$"
   ]
  },
  {
   "cell_type": "code",
   "execution_count": 35,
   "metadata": {
    "collapsed": false
   },
   "outputs": [
    {
     "name": "stdout",
     "output_type": "stream",
     "text": [
      "[ 0.  0.  0.] [ 2.  3.  1.]\n",
      "3.74165738677\n"
     ]
    }
   ],
   "source": [
    "def linedc(p1, p2):\n",
    "    '''(vector, vector --> float, vector)'''\n",
    "    # dx = p2[0] - p1[0]\n",
    "    # dy = p2[1] - p1[1]\n",
    "    # dz = p2[2] - p1[2]\n",
    "    # s = dx**2 + dy**2 + dz**2\n",
    "    # L = np.sqrt(s)\n",
    "    prj = p2 - p1\n",
    "    L = np.sqrt(sum(prj**2))\n",
    "    return L\n",
    "\n",
    "A = np.array([0., 0., 0.])\n",
    "B = np.array([2., 3., 1.])\n",
    "print A, B\n",
    "L = linedc(A, B)\n",
    "print L"
   ]
  },
  {
   "cell_type": "code",
   "execution_count": 38,
   "metadata": {
    "collapsed": false
   },
   "outputs": [
    {
     "name": "stdout",
     "output_type": "stream",
     "text": [
      "Length = 3.74165738677 <type 'numpy.float64'>\n",
      "Direction cosines: [ 0.53452248  0.80178373  0.26726124] <type 'numpy.ndarray'> 1 (3L,) 3\n"
     ]
    }
   ],
   "source": [
    "def linedc(p1, p2):\n",
    "    '''(vector, vector --> float, vector)'''\n",
    "    prj = p2 - p1\n",
    "    L = np.sqrt(sum(prj**2))\n",
    "    dc = prj / L\n",
    "    return L, dc\n",
    "\n",
    "L, dc = linedc(A, B)\n",
    "print 'Length =', L, type(L)\n",
    "print 'Direction cosines:', dc, type(dc), dc.ndim, dc.shape, dc.size"
   ]
  },
  {
   "cell_type": "code",
   "execution_count": null,
   "metadata": {
    "collapsed": false
   },
   "outputs": [],
   "source": []
  }
 ],
 "metadata": {
  "kernelspec": {
   "display_name": "Python 2",
   "language": "python",
   "name": "python2"
  },
  "language_info": {
   "codemirror_mode": {
    "name": "ipython",
    "version": 2
   },
   "file_extension": ".py",
   "mimetype": "text/x-python",
   "name": "python",
   "nbconvert_exporter": "python",
   "pygments_lexer": "ipython2",
   "version": "2.7.11"
  }
 },
 "nbformat": 4,
 "nbformat_minor": 0
}
