{
 "cells": [
  {
   "cell_type": "markdown",
   "metadata": {},
   "source": [
    "# Date and Time\n",
    "Date and time manipulation is provided by a built-in Python module datetime. This chapter assumes that datetime has been imported using import datetime as dt."
   ]
  },
  {
   "cell_type": "code",
   "execution_count": 5,
   "metadata": {
    "collapsed": false
   },
   "outputs": [
    {
     "name": "stdout",
     "output_type": "stream",
     "text": [
      "2014-03-08\n"
     ]
    }
   ],
   "source": [
    "from __future__ import print_function, division\n",
    "import datetime as dt\n",
    "\n",
    "yy, mm, dd = 2014, 3, 8\n",
    "d = dt.date(yy, mm, dd)\n",
    "print(d)"
   ]
  },
  {
   "cell_type": "code",
   "execution_count": 10,
   "metadata": {
    "collapsed": false
   },
   "outputs": [
    {
     "name": "stdout",
     "output_type": "stream",
     "text": [
      "12:26:36.000010\n"
     ]
    }
   ],
   "source": [
    "h, m, s, ms = 12, 26, 36, 10\n",
    "t = dt.time(h, m, s, ms)\n",
    "print(t)"
   ]
  },
  {
   "cell_type": "code",
   "execution_count": 11,
   "metadata": {
    "collapsed": false
   },
   "outputs": [
    {
     "name": "stdout",
     "output_type": "stream",
     "text": [
      "2014-03-08 12:26:36.000010\n"
     ]
    }
   ],
   "source": [
    "d1 = dt.datetime(yy, mm, dd, h, m, s, ms)\n",
    "print(d1)"
   ]
  },
  {
   "cell_type": "code",
   "execution_count": 12,
   "metadata": {
    "collapsed": false
   },
   "outputs": [
    {
     "name": "stdout",
     "output_type": "stream",
     "text": [
      "2015-03-08 12:26:36.000010\n",
      "365 days, 0:00:00\n"
     ]
    }
   ],
   "source": [
    "d2 = dt.datetime(yy+1, mm, dd, h, m, s, ms)\n",
    "print(d2)\n",
    "print(d2 - d1)"
   ]
  },
  {
   "cell_type": "code",
   "execution_count": 13,
   "metadata": {
    "collapsed": false
   },
   "outputs": [
    {
     "name": "stdout",
     "output_type": "stream",
     "text": [
      "2015-03-08 12:26:36.000010 2015-04-07 12:26:36.000010\n"
     ]
    }
   ],
   "source": [
    "d3 = d2 + dt.timedelta(30, 0, 0)\n",
    "print(d2, d3)"
   ]
  },
  {
   "cell_type": "code",
   "execution_count": 14,
   "metadata": {
    "collapsed": false
   },
   "outputs": [
    {
     "name": "stdout",
     "output_type": "stream",
     "text": [
      "2014-04-07 00:00:12\n"
     ]
    }
   ],
   "source": [
    "d4 = dt.datetime(2014, 3, 8) + dt.timedelta(30, 12, 0)\n",
    "print(d4)"
   ]
  },
  {
   "cell_type": "code",
   "execution_count": 15,
   "metadata": {
    "collapsed": true
   },
   "outputs": [
    {
     "ename": "SyntaxError",
     "evalue": "invalid syntax (<ipython-input-15-4d49016f4b3a>, line 4)",
     "output_type": "error",
     "traceback": [
      "\u001b[1;36m  File \u001b[1;32m\"<ipython-input-15-4d49016f4b3a>\"\u001b[1;36m, line \u001b[1;32m4\u001b[0m\n\u001b[1;33m    print dd, mm, yy\u001b[0m\n\u001b[1;37m           ^\u001b[0m\n\u001b[1;31mSyntaxError\u001b[0m\u001b[1;31m:\u001b[0m invalid syntax\n"
     ]
    }
   ],
   "source": [
    "from datetime import date\n",
    "d = date.today()\n",
    "yy, mm, dd = d.year, d.month, d.day\n",
    "print dd, mm, yy"
   ]
  },
  {
   "cell_type": "code",
   "execution_count": null,
   "metadata": {
    "collapsed": false
   },
   "outputs": [],
   "source": [
    "\n",
    "from datetime import date, time, timedelta\n",
    "start = dt.date(2015,2,9)\n",
    "end = dt.date(2015,6,1)\n",
    "print(start)\n",
    "print(end)\n",
    "print(end - start)"
   ]
  },
  {
   "cell_type": "code",
   "execution_count": null,
   "metadata": {
    "collapsed": false
   },
   "outputs": [],
   "source": [
    "d = timedelta(days=7)\n",
    "print(start+d)"
   ]
  },
  {
   "cell_type": "code",
   "execution_count": null,
   "metadata": {
    "collapsed": false
   },
   "outputs": [],
   "source": [
    "csrc512 = [(1, time(9,0,0)), (2, time(8,0,0)), (3, time(8,0,0)), (4,time(11,15,0))]\n",
    "csrc512_date = []\n",
    "print(csrc512)"
   ]
  },
  {
   "cell_type": "code",
   "execution_count": 30,
   "metadata": {
    "collapsed": false
   },
   "outputs": [
    {
     "name": "stdout",
     "output_type": "stream",
     "text": [
      "From: 2015-02-09 to: 2015-06-01\n",
      "\n",
      "2015-02-10   2015-02-11   2015-02-12   2015-02-13   \n",
      "2015-02-18   2015-02-19   2015-02-20   \n",
      "2015-02-24   2015-02-25   2015-02-26   2015-02-27   \n",
      "2015-03-03   2015-03-04   2015-03-05   2015-03-06   \n",
      "2015-03-10   2015-03-11   2015-03-12   2015-03-13   \n",
      "2015-03-17   2015-03-18   2015-03-19   2015-03-20   \n",
      "2015-03-26   2015-03-27   \n",
      "2015-03-31   2015-04-01   \n",
      "2015-04-07   2015-04-08   2015-04-09   2015-04-10   \n",
      "2015-04-15   2015-04-16   2015-04-17   \n",
      "2015-04-22   2015-04-23   2015-04-24   \n",
      "2015-04-28   2015-04-29   2015-04-30   \n",
      "2015-05-05   2015-05-06   2015-05-07   2015-05-08   \n",
      "2015-05-12   2015-05-13   \n",
      "2015-05-19   2015-05-20   2015-05-21   2015-05-22   \n",
      "2015-05-26   2015-05-27   2015-05-28   2015-05-29   \n",
      "\n",
      "54\n",
      "[datetime.date(2015, 2, 10), datetime.date(2015, 2, 11), datetime.date(2015, 2, 12), datetime.date(2015, 2, 13), datetime.date(2015, 2, 18), datetime.date(2015, 2, 19), datetime.date(2015, 2, 20), datetime.date(2015, 2, 24), datetime.date(2015, 2, 25), datetime.date(2015, 2, 26), datetime.date(2015, 2, 27), datetime.date(2015, 3, 3), datetime.date(2015, 3, 4), datetime.date(2015, 3, 5), datetime.date(2015, 3, 6), datetime.date(2015, 3, 10), datetime.date(2015, 3, 11), datetime.date(2015, 3, 12), datetime.date(2015, 3, 13), datetime.date(2015, 3, 17), datetime.date(2015, 3, 18), datetime.date(2015, 3, 19), datetime.date(2015, 3, 20), datetime.date(2015, 3, 26), datetime.date(2015, 3, 27), datetime.date(2015, 3, 31), datetime.date(2015, 4, 1), datetime.date(2015, 4, 7), datetime.date(2015, 4, 8), datetime.date(2015, 4, 9), datetime.date(2015, 4, 10), datetime.date(2015, 4, 15), datetime.date(2015, 4, 16), datetime.date(2015, 4, 17), datetime.date(2015, 4, 22), datetime.date(2015, 4, 23), datetime.date(2015, 4, 24), datetime.date(2015, 4, 28), datetime.date(2015, 4, 29), datetime.date(2015, 4, 30), datetime.date(2015, 5, 5), datetime.date(2015, 5, 6), datetime.date(2015, 5, 7), datetime.date(2015, 5, 8), datetime.date(2015, 5, 12), datetime.date(2015, 5, 13), datetime.date(2015, 5, 19), datetime.date(2015, 5, 20), datetime.date(2015, 5, 21), datetime.date(2015, 5, 22), datetime.date(2015, 5, 26), datetime.date(2015, 5, 27), datetime.date(2015, 5, 28), datetime.date(2015, 5, 29)]\n"
     ]
    }
   ],
   "source": [
    "from datetime import *\n",
    "from dateutil.relativedelta import *\n",
    "\n",
    "def get_working_days(s1, s2, c, holidays):\n",
    "    d = []\n",
    "    while s1 <= s2:\n",
    "        for x in c:\n",
    "            ss = s1 + relativedelta(weekday=x)\n",
    "            if ss <= s2:\n",
    "                if ss not in holidays:\n",
    "                    d.append(ss)\n",
    "                    print(ss, end=\"   \")\n",
    "            else:\n",
    "                break\n",
    "        s1 = s1 + relativedelta(days=7)\n",
    "        print()\n",
    "    return d\n",
    "\n",
    "s1 = date(2015,2,9)\n",
    "s2 = date(2015,6,1)\n",
    "print('From:', s1, 'to:', s2)\n",
    "print()\n",
    "\n",
    "holidays = [date(2015,2,17), date(2015,3,21), date(2015,3,23), date(2015,3,24), date(2015,3,25)]\n",
    "holidays += [date(2015,4,2), date(2015,4,3), date(2015,4,4), date(2015,4,14), date(2015,4,21)]\n",
    "holidays += [date(2015,5,1), date(2015,5,14), date(2015,5,15), date(2015,5,16)]\n",
    "\n",
    "csrc512 = [TU, WE, TH, FR]\n",
    "d = get_working_days(s1, s2, csrc512, holidays)\n",
    "print(len(d))\n",
    "print(d)"
   ]
  },
  {
   "cell_type": "code",
   "execution_count": 27,
   "metadata": {
    "collapsed": false
   },
   "outputs": [
    {
     "name": "stdout",
     "output_type": "stream",
     "text": [
      "2015-02-09\n"
     ]
    }
   ],
   "source": [
    "print(date(2015,2,9) + relativedelta(weekday=MO(-1)))"
   ]
  },
  {
   "cell_type": "code",
   "execution_count": 31,
   "metadata": {
    "collapsed": false
   },
   "outputs": [
    {
     "name": "stdout",
     "output_type": "stream",
     "text": [
      "2015-02-10   2015-02-12   2015-02-13   2015-02-14   \n",
      "2015-02-19   2015-02-20   2015-02-21   \n",
      "2015-02-24   2015-02-26   2015-02-27   2015-02-28   \n",
      "2015-03-03   2015-03-05   2015-03-06   2015-03-07   \n",
      "2015-03-10   2015-03-12   2015-03-13   2015-03-14   \n",
      "2015-03-17   2015-03-19   2015-03-20   \n",
      "2015-03-26   2015-03-27   2015-03-28   \n",
      "2015-03-31   \n",
      "2015-04-07   2015-04-09   2015-04-10   2015-04-11   \n",
      "2015-04-16   2015-04-17   2015-04-18   \n",
      "2015-04-23   2015-04-24   2015-04-25   \n",
      "2015-04-28   2015-04-30   2015-05-02   \n",
      "2015-05-05   2015-05-07   2015-05-08   2015-05-09   \n",
      "2015-05-12   \n",
      "2015-05-19   2015-05-21   2015-05-22   2015-05-23   \n",
      "2015-05-26   2015-05-28   2015-05-29   2015-05-30   \n",
      "\n",
      "52\n",
      "[datetime.date(2015, 2, 10), datetime.date(2015, 2, 12), datetime.date(2015, 2, 13), datetime.date(2015, 2, 14), datetime.date(2015, 2, 19), datetime.date(2015, 2, 20), datetime.date(2015, 2, 21), datetime.date(2015, 2, 24), datetime.date(2015, 2, 26), datetime.date(2015, 2, 27), datetime.date(2015, 2, 28), datetime.date(2015, 3, 3), datetime.date(2015, 3, 5), datetime.date(2015, 3, 6), datetime.date(2015, 3, 7), datetime.date(2015, 3, 10), datetime.date(2015, 3, 12), datetime.date(2015, 3, 13), datetime.date(2015, 3, 14), datetime.date(2015, 3, 17), datetime.date(2015, 3, 19), datetime.date(2015, 3, 20), datetime.date(2015, 3, 26), datetime.date(2015, 3, 27), datetime.date(2015, 3, 28), datetime.date(2015, 3, 31), datetime.date(2015, 4, 7), datetime.date(2015, 4, 9), datetime.date(2015, 4, 10), datetime.date(2015, 4, 11), datetime.date(2015, 4, 16), datetime.date(2015, 4, 17), datetime.date(2015, 4, 18), datetime.date(2015, 4, 23), datetime.date(2015, 4, 24), datetime.date(2015, 4, 25), datetime.date(2015, 4, 28), datetime.date(2015, 4, 30), datetime.date(2015, 5, 2), datetime.date(2015, 5, 5), datetime.date(2015, 5, 7), datetime.date(2015, 5, 8), datetime.date(2015, 5, 9), datetime.date(2015, 5, 12), datetime.date(2015, 5, 19), datetime.date(2015, 5, 21), datetime.date(2015, 5, 22), datetime.date(2015, 5, 23), datetime.date(2015, 5, 26), datetime.date(2015, 5, 28), datetime.date(2015, 5, 29), datetime.date(2015, 5, 30)]\n"
     ]
    }
   ],
   "source": [
    "csre503 = [TU, TH, FR, SA]\n",
    "d = get_working_days(s1, s2, csre503, holidays)\n",
    "print(len(d))\n",
    "print(d)"
   ]
  },
  {
   "cell_type": "code",
   "execution_count": 2,
   "metadata": {
    "collapsed": false
   },
   "outputs": [
    {
     "name": "stdout",
     "output_type": "stream",
     "text": [
      "('Ticks since 12:00am Jan 1, 1970:', 1460286812.467)\n"
     ]
    }
   ],
   "source": [
    "import time\n",
    "\n",
    "ticks = time.time()\n",
    "print(\"Ticks since 12:00am Jan 1, 1970:\", ticks)"
   ]
  },
  {
   "cell_type": "code",
   "execution_count": 6,
   "metadata": {
    "collapsed": false
   },
   "outputs": [
    {
     "name": "stdout",
     "output_type": "stream",
     "text": [
      "<type 'time.struct_time'> Local time: time.struct_time(tm_year=2016, tm_mon=4, tm_mday=10, tm_hour=16, tm_min=45, tm_sec=7, tm_wday=6, tm_yday=101, tm_isdst=0)\n",
      "Localtime: Sun Apr 10 16:45:07 2016\n"
     ]
    }
   ],
   "source": [
    "localtime = time.localtime()\n",
    "print(type(localtime), \"Local time:\", localtime)\n",
    "localtime = time.asctime(time.localtime(time.time()))\n",
    "print(\"Localtime:\", localtime)"
   ]
  },
  {
   "cell_type": "code",
   "execution_count": 7,
   "metadata": {
    "collapsed": false
   },
   "outputs": [
    {
     "name": "stdout",
     "output_type": "stream",
     "text": [
      "   February 2015\n",
      "Mo Tu We Th Fr Sa Su\n",
      "                   1\n",
      " 2  3  4  5  6  7  8\n",
      " 9 10 11 12 13 14 15\n",
      "16 17 18 19 20 21 22\n",
      "23 24 25 26 27 28\n",
      "\n"
     ]
    }
   ],
   "source": [
    "import calendar\n",
    "\n",
    "cal = calendar.month(2015, 2)\n",
    "print(cal)"
   ]
  },
  {
   "cell_type": "code",
   "execution_count": 8,
   "metadata": {
    "collapsed": false
   },
   "outputs": [
    {
     "name": "stdout",
     "output_type": "stream",
     "text": [
      "Sun Apr 10 16:45:50 2016\n"
     ]
    }
   ],
   "source": [
    "print(time.asctime(time.localtime(time.time())))"
   ]
  },
  {
   "cell_type": "code",
   "execution_count": 12,
   "metadata": {
    "collapsed": false
   },
   "outputs": [
    {
     "name": "stdout",
     "output_type": "stream",
     "text": [
      "False\n",
      "True\n"
     ]
    }
   ],
   "source": [
    "print(calendar.isleap(2014))\n",
    "print(calendar.isleap(2016))"
   ]
  },
  {
   "cell_type": "code",
   "execution_count": 13,
   "metadata": {
    "collapsed": false
   },
   "outputs": [
    {
     "name": "stdout",
     "output_type": "stream",
     "text": [
      "6\n"
     ]
    }
   ],
   "source": [
    "print(calendar.weekday(2015,2,15))"
   ]
  }
 ],
 "metadata": {
  "kernelspec": {
   "display_name": "Python 2",
   "language": "python",
   "name": "python2"
  },
  "language_info": {
   "codemirror_mode": {
    "name": "ipython",
    "version": 2
   },
   "file_extension": ".py",
   "mimetype": "text/x-python",
   "name": "python",
   "nbconvert_exporter": "python",
   "pygments_lexer": "ipython2",
   "version": "2.7.11"
  }
 },
 "nbformat": 4,
 "nbformat_minor": 0
}
