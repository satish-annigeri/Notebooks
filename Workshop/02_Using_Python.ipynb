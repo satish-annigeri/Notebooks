{
 "cells": [
  {
   "cell_type": "markdown",
   "metadata": {},
   "source": [
    "# Using Python\n",
    "Python offers several ways of using the language. One reason it is considered easy to use is that it can be used interactively through an REPL (Read, Evaluate and Print Loop). An REPL allows the user to execute one statement at a time. While this interactive mode is useful when you are learning the language it is not useful when you want to use it in the programming mode wherein you type the entire program and execute it in one go. Thus we will use the following modes in the given sequence:\n",
    "\n",
    "1. IPython text console: Interactive REPL mode good for learning but program statements are not saved.\n",
    "2. Spyder Integrated Development Environment: Programming mode good once you have learnt the language and want to start writing your own programs.\n",
    "3. IPython Notebook: Browser based interface that can be used either in interactive mode or programming mode. It can also combine inline documentation as well as program output. Documentation can contain $\\LaTeX{}$ equations and rich media in the form of images, videos and external websites."
   ]
  },
  {
   "cell_type": "code",
   "execution_count": 1,
   "metadata": {
    "collapsed": false
   },
   "outputs": [
    {
     "name": "stdout",
     "output_type": "stream",
     "text": [
      "1.5\n"
     ]
    }
   ],
   "source": [
    "from __future__ import print_function, division\n",
    "\n",
    "print(3/2)"
   ]
  },
  {
   "cell_type": "markdown",
   "metadata": {
    "collapsed": true
   },
   "source": [
    "Comment starts at the **`#`** character and ends at the end of line. Comments do not carry over to the next line."
   ]
  }
 ],
 "metadata": {
  "kernelspec": {
   "display_name": "Python 2",
   "language": "python",
   "name": "python2"
  },
  "language_info": {
   "codemirror_mode": {
    "name": "ipython",
    "version": 2
   },
   "file_extension": ".py",
   "mimetype": "text/x-python",
   "name": "python",
   "nbconvert_exporter": "python",
   "pygments_lexer": "ipython2",
   "version": "2.7.7"
  }
 },
 "nbformat": 4,
 "nbformat_minor": 0
}
