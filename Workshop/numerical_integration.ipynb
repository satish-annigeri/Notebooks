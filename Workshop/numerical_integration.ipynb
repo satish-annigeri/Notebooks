{
 "cells": [
  {
   "cell_type": "markdown",
   "metadata": {},
   "source": [
    "# Numerical Integration\n",
    "\n",
    "## Equally Spaced Points\n",
    "\n",
    "### Trapezoidal Rule\n",
    "Assuming $n$ equally spaced points $x_0=x_l, x_1, \\ldots , x_{n-2}, x_{n-1}=x_u$ with $h = x_i - x_{i-1}$ and corresponding values of the function stored in an array $y_0, y_1, \\ldots , y_{n-2}, y_{n-1}$, the approximation to the integral is\n",
    "$$\n",
    "I = \\int_{x_l}^{x_{u}} y \\ dx \\approx \\frac{h}{2} \\left[ y_0 + 2 \\left( y_1 + y_2 + \\cdots + y_{n-3} + y_{n-2} \\right) + y_{n-1} \\right]\n",
    "$$\n",
    "The above expresion presumes that the function $y = f(x)$ has been evaluated at $n$ equally spaced points prior to computing the integral\n",
    "\n",
    "In this procedure, we take the following approach:\n",
    "\n",
    "1. Generate $n$ equally spaced data points $x_i, i = 0, 1, 2, \\ldots , n-1$\n",
    "2. Compute the value of the function for each of the data points $y_i = f(x_i)$\n",
    "3. Carry out numerical integration using Trapezoidal rule"
   ]
  },
  {
   "cell_type": "code",
   "execution_count": 15,
   "metadata": {
    "collapsed": false
   },
   "outputs": [
    {
     "name": "stdout",
     "output_type": "stream",
     "text": [
      "10000 loops, best of 3: 81.3 µs per loop\n",
      "1.99999342026\n"
     ]
    },
    {
     "data": {
      "image/png": "[encoded data removed]",
      "text/plain": [
       "<matplotlib.figure.Figure at 0xa5b2b00>"
      ]
     },
     "metadata": {},
     "output_type": "display_data"
    }
   ],
   "source": [
    "from __future__ import print_function, division\n",
    "import numpy as np\n",
    "from matplotlib import pyplot as plt\n",
    "\n",
    "%matplotlib inline\n",
    "\n",
    "def trap(h, y):\n",
    "    n = len(y)\n",
    "    s = y[0] + 2 * sum(y[1:-1]) + y[-1]\n",
    "    return s * h / 2.0\n",
    "\n",
    "x1 = 0.0\n",
    "x2 = np.pi\n",
    "n = 500\n",
    "x = np.linspace(x1, x2, n+1)\n",
    "y = np.sin(x)\n",
    "h = (x2 - x1) / float(n)\n",
    "I = trap(h, y)\n",
    "%timeit trap(h, y)\n",
    "print(I)\n",
    "plt.fill(x, y)\n",
    "plt.axis([x1, 2*x2, -1.1, 1.1])\n",
    "plt.grid()\n",
    "plt.show()"
   ]
  },
  {
   "cell_type": "code",
   "execution_count": 14,
   "metadata": {
    "collapsed": false
   },
   "outputs": [
    {
     "name": "stdout",
     "output_type": "stream",
     "text": [
      "1.99999342026\n",
      "10000 loops, best of 3: 105 µs per loop\n"
     ]
    }
   ],
   "source": [
    "def f(x):\n",
    "    return np.sin(x)\n",
    "\n",
    "def trap2(f, x1, x2, n):\n",
    "    h = (x2 - x1) / n\n",
    "    x = np.linspace(x1, x2, n+1)\n",
    "    y = f(x)\n",
    "    s = y[0] + 2 * sum(y[1:-1]) + y[-1]\n",
    "    return s * h / 2\n",
    "\n",
    "I = trap2(f, 0, np.pi, 500)\n",
    "print(I)\n",
    "%timeit trap2(f, 0, np.pi, 500)"
   ]
  },
  {
   "cell_type": "code",
   "execution_count": 13,
   "metadata": {
    "collapsed": false
   },
   "outputs": [
    {
     "name": "stdout",
     "output_type": "stream",
     "text": [
      "1.99999342026\n",
      "1000 loops, best of 3: 851 µs per loop\n"
     ]
    }
   ],
   "source": [
    "def trap3(f, x1, x2, n):\n",
    "    h = (x2 - x1) / n\n",
    "    s = (f(x1) + f(x2)) / 2\n",
    "    x = x1 + h\n",
    "    while x <= x2:\n",
    "        s += f(x)\n",
    "        x += h\n",
    "    return s * h\n",
    "\n",
    "I = trap3(f, 0, np.pi, 500)\n",
    "print(I)\n",
    "%timeit trap3(f, 0, np.pi, 500)"
   ]
  },
  {
   "cell_type": "markdown",
   "metadata": {},
   "source": [
    "### Simpson's 1/3 Rule\n",
    "\n",
    "$$\n",
    "I = \\int_{x_1}^{x_2} y \\, dx \\approx \\frac{h}{3} \\left[ y_0 + 4 \\left( y_1 + y_3 + \\cdots + y_{n-2} \\right) + 2 \\left( y_2 + y_4 + \\cdots + y_{n-3} \\right) + y_{n-1} \\right]\n",
    "$$"
   ]
  },
  {
   "cell_type": "code",
   "execution_count": 16,
   "metadata": {
    "collapsed": false
   },
   "outputs": [
    {
     "name": "stdout",
     "output_type": "stream",
     "text": [
      "2.00000000002\n",
      "10000 loops, best of 3: 106 µs per loop\n"
     ]
    }
   ],
   "source": [
    "def simp(f, x1, x2, n):\n",
    "    h = (x2 - x1) / n\n",
    "    x = np.linspace(x1, x2, n+1)\n",
    "    y = f(x)\n",
    "    s = y[0] + y[-1]\n",
    "    s += 4 * sum(y[1:-1:2])\n",
    "    s += 2 * sum(y[2:-2:2])\n",
    "    return s * h / 3\n",
    "\n",
    "I = simp(f, 0, np.pi, 500)\n",
    "print(I)\n",
    "%timeit simp(f, 0, np.pi, 500)"
   ]
  },
  {
   "cell_type": "code",
   "execution_count": 18,
   "metadata": {
    "collapsed": false
   },
   "outputs": [
    {
     "data": {
      "text/plain": [
       "2"
      ]
     },
     "execution_count": 18,
     "metadata": {},
     "output_type": "execute_result"
    }
   ],
   "source": [
    "from sympy import *\n",
    "x = symbols('x')\n",
    "integrate(sin(x), (x, 0, pi))"
   ]
  }
 ],
 "metadata": {
  "kernelspec": {
   "display_name": "Python 2",
   "language": "python",
   "name": "python2"
  },
  "language_info": {
   "codemirror_mode": {
    "name": "ipython",
    "version": 2
   },
   "file_extension": ".py",
   "mimetype": "text/x-python",
   "name": "python",
   "nbconvert_exporter": "python",
   "pygments_lexer": "ipython2",
   "version": "2.7.9"
  }
 },
 "nbformat": 4,
 "nbformat_minor": 0
}
