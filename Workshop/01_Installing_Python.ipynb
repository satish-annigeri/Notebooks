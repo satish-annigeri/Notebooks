{
 "cells": [
  {
   "cell_type": "markdown",
   "metadata": {},
   "source": [
    "# An Introduction to Python\n",
    "\n",
    "## What is Python and Scientific Python?\n",
    "Python is a general purpose, high-level programming language. It first appeared in 1991 and current versions of Python are Python 2.7.x (called python 2) and Python 3.4.x (called Python 3). Python 3 is backward incompatible with Python 2 in some ways and therefore it is best to choose to work with one of the versions. At present, all scientific computing packages are not yet available for Python 3 and therefore most scientific computation is still done in Python 2. But this is set to change in the near future and it is best to start migrating to Python 3 wherever possible. One way to ease this transition is to start using the **`__future__`** module to start using some features of Python 3 in Python 2. We will do this right from the beginning.\n",
    "\n",
    "Scientific Python implies the use of certain packages that allow scientific computing in Python. The basic package for this purpose is the **NumPy** package that implements the n-dimensional array data structure in Python. The base language does not implement arrays, only lists which are inefficient for numerical computations. The other related modules which together enable scientific computing using Python are **SciPy** and **Matplotlib**. While SciPy adds several numerical computation algorithms on top of NumPy, Matplotlib provides graph plotting capability which imitates those in MATLAB (and hence the name). Other packages that add more capabilities are **Pandas** which implements the DataFrame data structure for data analysis, **PIL** (Python Imaging Library) and **scikit-image** which add image processing capabilities and **scikit-learn** which adds machine learning algorithms. Further packages that may be of interest are **SimpleCV** for computer vision and **statsmodels** for statistical modelling.\n",
    "\n",
    "## Python Implementations\n",
    "Python which is implemented in C and is called CPython, and by far is the most common implementation of Python. There are other Python implementations, with varying levels of maturity. **Jython** is Python implementation for the Java Virtual Machine. **IronPython** is the Python implementation for .NET framework. **PyPy** is a Python interpreter with Just In Time compiler with an emphasis on speed, efficiency and compatibility with the original CPython interpreter.\n",
    "\n",
    "## Pros and Cons of using Python\n",
    "Python has the following strengths:\n",
    "\n",
    "1. **Easy to learn:** Python was developed with this specific goal in mind. Python programs are highly readable and easy to understand what they do.\n",
    "2. **Batteries included:** Python has a huge collection of packages for a wide variety of tasks including web development, database access, desktop GUI frameworks, numerical and scientific computing, data analysis, image processing, network programming, system administration scripting.\n",
    "3. **Modern programming language:** Python is modular, supports procedural as well as object oriented programming paradigms. Has limited support for functional programming.\n",
    "4. **Open source:** Python is open source, has an activity community and comes with excellent documentation.\n",
    "\n",
    "Python has the following weaknesses:\n",
    "\n",
    "1. **Slow execution speeds:** Owing to its dynamic typing and interpreted nature, Python programs are slow compared to compiled languages such as C/C++ and Fortran. But several techniques exist that can improve performance of Python code making it comparable to C/C++.\n",
    "2. **Global interpreted lock:** GIL prevents Python from doing multi-threading and hence cannot take advantage of multi-core CPUs. But PyPy has eliminated GIL and several packages exist that allow parallel computing and GPU computing.\n",
    "3. **Dynamic data types:** Python is weakly typed, and data type of an object can be changed at run time. While this makes programming easier, it requires the programmer to keep tab on the data type of an object at run time. This is also the reason for slow execution speeds.\n",
    "\n",
    "## Installing Python\n",
    "There are several ways of installing Python, and to some extent depend on the operating system on which you want to install Python. Python is installed by default on GNU/Linux and Mac OS X as it is required for installing and setting up the OS. On Microsoft Windows, it must be installed after the OS is installed.\n",
    "\n",
    "Installing scientific computing packages for Python can be done after first installing Python. However, some packages require a C compiler to be available and required header files to be available. This is one reason why installing the scientific Python stack poses a challenege to a beginner. We will make this easy by installing a Python distribution that contains all the required scientific computing packages in a single install file thus avoiding the need to compile any code. There are two choice: Anaconda Python distribution from Continuum Analytics and Canopy from Enthought. We will use Anaconda.\n",
    "\n",
    "After Python and required packages are installed, we must be able to manage this installation. This involves updating installed packages, adding new packages, and removing unwanted packages. There are two Python package managers available if you have installed Anaconda:\n",
    "1. **`pip`** is the standard Python package manager. It is not installed with the base Python installation for version older than 2.7.9 and has to be installed separately.\n",
    "2. **`conda`** is the Anaconda package manager which is similar to **`pip`** but is more feature rich.\n",
    "\n",
    "### Install Anaconda Python\n",
    "1. Download [Anaconda Python](http://continuum.io/downloads). Choose the appropriate operating system and CPU architecture suited to your machine. Remember that a 32-bit distribution will work on both 32-bit and 64-bit operating systems whereas a 64-bit distribution requires a 64-bit OS.\n",
    "2. Run the downloaded installation file and follow all instructions choosing appropriate defaults.\n",
    "\n",
    "### Use `conda`\n",
    "**`conda`** is the package manager bundled with Anaconda Python. It fetches packages from repositories hosted by Continuum Analytics and not the default Python Package Index [Python Package Index](http://pypi.python.org). It is updated a little after PyPI is updated.\n",
    "\n",
    "1. Search repository for a package by name: **`conda search pkgname`**\n",
    "2. List installed packages by name: **`conda list pkgname`**\n",
    "3. Update an installed package **`conda update pkgname`**\n",
    "4. Remove an installed package: **`conda remove pkgname`**\n",
    "5. Install a new package: **`conda install pkgname`**\n",
    "6. Get command line help: **`conda help`**\n",
    "   \n",
    "### Use `pip`\n",
    "**`pip`** is the default Python package manager and fetches packages from the [Python Package Index](http://pypi.python.org). This repository is the original repository and contains many more packages than those available from Continuum Analytics repository, which is specialised for scientific computing.\n",
    "\n",
    "1. Search repository for a package by name: **`pip search pkgname`**\n",
    "2. List installed packages by name: **`pip list`**\n",
    "3. Update an installed package **`pip install -U pkgname`**\n",
    "4. Remove an installed package: **`pip uninstall pkgname`**\n",
    "5. Install a new package: **`pip install pkgname`**\n",
    "6. Get command line help: **`pip help`**\n"
   ]
  },
  {
   "cell_type": "markdown",
   "metadata": {},
   "source": []
  }
 ],
 "metadata": {
  "kernelspec": {
   "display_name": "Python 2",
   "language": "python",
   "name": "python2"
  },
  "language_info": {
   "codemirror_mode": {
    "name": "ipython",
    "version": 2
   },
   "file_extension": ".py",
   "mimetype": "text/x-python",
   "name": "python",
   "nbconvert_exporter": "python",
   "pygments_lexer": "ipython2",
   "version": "2.7.7"
  }
 },
 "nbformat": 4,
 "nbformat_minor": 0
}
