{
 "cells": [
  {
   "cell_type": "markdown",
   "metadata": {},
   "source": [
    "# Design of Retaining Wall\n",
    "http://structengblog.com/retaining-wall-analysis-ipython-sympy-possible-bim-integration/"
   ]
  },
  {
   "cell_type": "code",
   "execution_count": 1,
   "metadata": {
    "collapsed": false
   },
   "outputs": [
    {
     "data": {
      "image/png": "[encoded data removed]",
      "text/latex": [
       "$$p_{a} = k_{a} \\left(\\gamma_{fg} \\gamma_{s} z + \\gamma_{fq} q\\right)$$"
      ],
      "text/plain": [
       "pₐ = kₐ⋅(γ_fg⋅γ_s⋅z + γ_fq⋅q)"
      ]
     },
     "execution_count": 1,
     "metadata": {},
     "output_type": "execute_result"
    }
   ],
   "source": [
    "from sympy import *\n",
    "\n",
    "init_printing()\n",
    "\n",
    "ka, q, gs, z = symbols('k_a q gamma_s z') # soil properties and depth\n",
    "gfq, gfg = symbols('gamma_fq gamma_fg') # partial load factors\n",
    "pa, va, ma = symbols('p_a v_a m_a') # force effects\n",
    "\n",
    "pressure = Eq(pa,ka*(gs*z*gfg + q*gfq))\n",
    "pressure"
   ]
  },
  {
   "cell_type": "code",
   "execution_count": 2,
   "metadata": {
    "collapsed": false
   },
   "outputs": [
    {
     "data": {
      "image/png": "[encoded data removed]",
      "text/latex": [
       "$$v_{a} = \\int k_{a} \\left(\\gamma_{fg} \\gamma_{s} z + \\gamma_{fq} q\\right)\\, dz$$"
      ],
      "text/plain": [
       "     ⌠                            \n",
       "vₐ = ⎮ kₐ⋅(γ_fg⋅γ_s⋅z + γ_fq⋅q) dz\n",
       "     ⌡                            "
      ]
     },
     "execution_count": 2,
     "metadata": {},
     "output_type": "execute_result"
    }
   ],
   "source": [
    "shear = Eq(va, Integral(pressure.rhs, z))\n",
    "shear"
   ]
  },
  {
   "cell_type": "code",
   "execution_count": 3,
   "metadata": {
    "collapsed": false
   },
   "outputs": [
    {
     "data": {
      "image/png": "[encoded data removed]",
      "text/latex": [
       "$$v_{a} = \\frac{\\gamma_{fg} \\gamma_{s}}{2} k_{a} z^{2} + \\gamma_{fq} k_{a} q z$$"
      ],
      "text/plain": [
       "                  2              \n",
       "     γ_fg⋅γ_s⋅kₐ⋅z               \n",
       "vₐ = ────────────── + γ_fq⋅kₐ⋅q⋅z\n",
       "           2                     "
      ]
     },
     "execution_count": 3,
     "metadata": {},
     "output_type": "execute_result"
    }
   ],
   "source": [
    "shear = shear.doit()\n",
    "shear"
   ]
  },
  {
   "cell_type": "code",
   "execution_count": 4,
   "metadata": {
    "collapsed": false
   },
   "outputs": [
    {
     "data": {
      "image/png": "[encoded data removed]",
      "text/latex": [
       "$$m_{a} = \\int \\frac{\\gamma_{fg} \\gamma_{s}}{2} k_{a} z^{2} + \\gamma_{fq} k_{a} q z\\, dz$$"
      ],
      "text/plain": [
       "     ⌠                                  \n",
       "     ⎮ ⎛             2              ⎞   \n",
       "     ⎮ ⎜γ_fg⋅γ_s⋅kₐ⋅z               ⎟   \n",
       "mₐ = ⎮ ⎜────────────── + γ_fq⋅kₐ⋅q⋅z⎟ dz\n",
       "     ⎮ ⎝      2                     ⎠   \n",
       "     ⌡                                  "
      ]
     },
     "execution_count": 4,
     "metadata": {},
     "output_type": "execute_result"
    }
   ],
   "source": [
    "moment = Eq(ma, Integral(shear.rhs,z))\n",
    "moment"
   ]
  },
  {
   "cell_type": "code",
   "execution_count": 5,
   "metadata": {
    "collapsed": false
   },
   "outputs": [
    {
     "data": {
      "image/png": "[encoded data removed]",
      "text/latex": [
       "$$m_{a} = \\frac{\\gamma_{fg} \\gamma_{s}}{6} k_{a} z^{3} + \\frac{\\gamma_{fq} k_{a}}{2} q z^{2}$$"
      ],
      "text/plain": [
       "                  3              2\n",
       "     γ_fg⋅γ_s⋅kₐ⋅z    γ_fq⋅kₐ⋅q⋅z \n",
       "mₐ = ────────────── + ────────────\n",
       "           6               2      "
      ]
     },
     "execution_count": 5,
     "metadata": {},
     "output_type": "execute_result"
    }
   ],
   "source": [
    "moment = moment.doit()\n",
    "moment"
   ]
  },
  {
   "cell_type": "code",
   "execution_count": 6,
   "metadata": {
    "collapsed": false
   },
   "outputs": [
    {
     "name": "stdout",
     "output_type": "stream",
     "text": [
      "The ULS sliding force at the base of the wall = 52.13 kN\n"
     ]
    }
   ],
   "source": [
    "wallData = ({ka:0.3, gs:19, gfg:1.35, gfq:1.5, q:5, z:3.4})\n",
    "designSliding = shear.subs(wallData).rhs\n",
    "print('The ULS sliding force at the base of the wall = {:.2f} kN'.format(designSliding))\n",
    "\n"
   ]
  },
  {
   "cell_type": "code",
   "execution_count": 7,
   "metadata": {
    "collapsed": false
   },
   "outputs": [
    {
     "name": "stdout",
     "output_type": "stream",
     "text": [
      "The ULS overturning moment at the base of the wall = 63.41 kNm\n"
     ]
    }
   ],
   "source": [
    "designMoment = moment.subs(wallData).rhs\n",
    "print('The ULS overturning moment at the base of the wall = {:.2f} kNm'.format(designMoment))"
   ]
  },
  {
   "cell_type": "code",
   "execution_count": 8,
   "metadata": {
    "collapsed": false
   },
   "outputs": [
    {
     "data": {
      "image/png": "[encoded data removed]",
      "text/latex": [
       "$$W = \\gamma_{c} h_{s} t_{s} + \\gamma_{c} l_{b} t_{b} + \\gamma_{s} h_{s} \\left(l_{b} - t_{s} - toe\\right)$$"
      ],
      "text/plain": [
       "W = γ_c⋅h_s⋅t_s + γ_c⋅l_b⋅t_b + γ_s⋅h_s⋅(l_b - t_s - toe)"
      ]
     },
     "execution_count": 8,
     "metadata": {},
     "output_type": "execute_result"
    }
   ],
   "source": [
    "# geometric properties of the wall\n",
    "hs, ts, lb, tb, toe = symbols('h_s t_s l_b t_b toe')\n",
    "gc = symbols('gamma_c') # unit weight of the wall\n",
    "W, Mst, Ru = symbols('W M_st R_u') # resistances\n",
    "mu = symbols('mu') # coeff of friction to base\n",
    "stemWeight = gc*hs*ts\n",
    "baseWeight = gc*lb*tb\n",
    "soilLength = lb-(toe+ts)\n",
    "soilWeight = hs*soilLength*gs\n",
    "totalWeight = Eq(W,stemWeight+baseWeight+soilWeight)\n",
    "totalWeight "
   ]
  },
  {
   "cell_type": "code",
   "execution_count": 9,
   "metadata": {
    "collapsed": false
   },
   "outputs": [
    {
     "data": {
      "image/png": "[encoded data removed]",
      "text/latex": [
       "$$R_{u} = \\mu \\left(\\gamma_{c} h_{s} t_{s} + \\gamma_{c} l_{b} t_{b} + \\gamma_{s} h_{s} \\left(l_{b} - t_{s} - toe\\right)\\right)$$"
      ],
      "text/plain": [
       "Rᵤ = μ⋅(γ_c⋅h_s⋅t_s + γ_c⋅l_b⋅t_b + γ_s⋅h_s⋅(l_b - t_s - toe))"
      ]
     },
     "execution_count": 9,
     "metadata": {},
     "output_type": "execute_result"
    }
   ],
   "source": [
    "slidingResistance = Eq(Ru, totalWeight.rhs*mu)\n",
    "slidingResistance"
   ]
  },
  {
   "cell_type": "code",
   "execution_count": 10,
   "metadata": {
    "collapsed": false
   },
   "outputs": [
    {
     "data": {
      "image/png": "[encoded data removed]",
      "text/latex": [
       "$$M_{st} = \\gamma_{c} h_{s} t_{s} \\left(\\frac{t_{s}}{2} + toe\\right) + \\frac{\\gamma_{c} t_{b}}{2} l_{b}^{2} + \\gamma_{s} h_{s} \\left(\\frac{l_{b}}{2} + \\frac{t_{s}}{2} + \\frac{toe}{2}\\right) \\left(l_{b} - t_{s} - toe\\right)$$"
      ],
      "text/plain": [
       "                                        2                                     \n",
       "                   ⎛t_s      ⎞   γ_c⋅l_b ⋅t_b           ⎛l_b   t_s   toe⎞     \n",
       "M_st = γ_c⋅h_s⋅t_s⋅⎜─── + toe⎟ + ──────────── + γ_s⋅h_s⋅⎜─── + ─── + ───⎟⋅(l_b\n",
       "                   ⎝ 2       ⎠        2                 ⎝ 2     2     2 ⎠     \n",
       "\n",
       "             \n",
       "             \n",
       " - t_s - toe)\n",
       "             "
      ]
     },
     "execution_count": 10,
     "metadata": {},
     "output_type": "execute_result"
    }
   ],
   "source": [
    "# lever arms to the elements\n",
    "lab = lb/2\n",
    "las = toe+ts/2\n",
    "lau = lb - soilLength/2\n",
    "stabilityMoment = Eq(Mst,stemWeight*las+baseWeight*lab + soilWeight*lau)\n",
    "stabilityMoment"
   ]
  },
  {
   "cell_type": "code",
   "execution_count": 11,
   "metadata": {
    "collapsed": false
   },
   "outputs": [
    {
     "data": {
      "image/png": "[encoded data removed]",
      "text/latex": [
       "$$R_{u} = 32.925 l_{b} - 20.475$$"
      ],
      "text/plain": [
       "Rᵤ = 32.925⋅l_b - 20.475"
      ]
     },
     "execution_count": 11,
     "metadata": {},
     "output_type": "execute_result"
    }
   ],
   "source": [
    "wallGeo = ({gc:24, hs:3.15, ts:0.25, tb:0.25, toe:0.75, gs:19, mu:0.5})\n",
    "slidingStability = slidingResistance.subs(wallGeo)\n",
    "slidingStability"
   ]
  },
  {
   "cell_type": "code",
   "execution_count": 12,
   "metadata": {
    "collapsed": false
   },
   "outputs": [
    {
     "name": "stdout",
     "output_type": "stream",
     "text": [
      "The minimum base length to prevent sliding = 2.21 m\n"
     ]
    }
   ],
   "source": [
    "baseLength1 = solve(slidingStability.rhs - designSliding, lb)[0]\n",
    "print('The minimum base length to prevent sliding = {:.2f} m'.format(baseLength1))"
   ]
  },
  {
   "cell_type": "code",
   "execution_count": 13,
   "metadata": {
    "collapsed": false
   },
   "outputs": [
    {
     "data": {
      "image/png": "[encoded data removed]",
      "text/latex": [
       "$$M_{st} = 3.0 l_{b}^{2} + 59.85 \\left(\\frac{l_{b}}{2} + 0.5\\right) \\left(l_{b} - 1.0\\right) + 16.5375$$"
      ],
      "text/plain": [
       "              2         ⎛l_b      ⎞                      \n",
       "M_st = 3.0⋅l_b  + 59.85⋅⎜─── + 0.5⎟⋅(l_b - 1.0) + 16.5375\n",
       "                        ⎝ 2       ⎠                      "
      ]
     },
     "execution_count": 13,
     "metadata": {},
     "output_type": "execute_result"
    }
   ],
   "source": [
    "overturningStability = stabilityMoment.subs(wallGeo)\n",
    "overturningStability"
   ]
  },
  {
   "cell_type": "code",
   "execution_count": 14,
   "metadata": {
    "collapsed": false
   },
   "outputs": [
    {
     "name": "stdout",
     "output_type": "stream",
     "text": [
      "The minimum base length to resist overturning = 1.53 m\n"
     ]
    }
   ],
   "source": [
    "baseLength2 = solve(overturningStability.rhs - designMoment, lb)[1]\n",
    "print('The minimum base length to resist overturning = {:.2f} m'.format(baseLength2))"
   ]
  },
  {
   "cell_type": "code",
   "execution_count": 15,
   "metadata": {
    "collapsed": true
   },
   "outputs": [],
   "source": [
    "# by inspection of the above solutions adopt the following base length\n",
    "baseLength = 2.3"
   ]
  },
  {
   "cell_type": "code",
   "execution_count": 16,
   "metadata": {
    "collapsed": false
   },
   "outputs": [
    {
     "data": {
      "image/png": "[encoded data removed]",
      "text/latex": [
       "$$e_{c} = \\frac{l_{b}}{2} - \\frac{1}{\\gamma_{c} h_{s} t_{s} + \\gamma_{c} l_{b} t_{b} + \\gamma_{s} h_{s} \\left(l_{b} - t_{s} - toe\\right)} \\left(\\gamma_{c} h_{s} t_{s} \\left(\\frac{t_{s}}{2} + toe\\right) + \\frac{\\gamma_{c} t_{b}}{2} l_{b}^{2} - \\frac{\\gamma_{fg} \\gamma_{s}}{6} k_{a} z^{3} - \\frac{\\gamma_{fq} k_{a}}{2} q z^{2} + \\gamma_{s} h_{s} \\left(\\frac{l_{b}}{2} + \\frac{t_{s}}{2} + \\frac{toe}{2}\\right) \\left(l_{b} - t_{s} - toe\\right)\\right)$$"
      ],
      "text/plain": [
       "                                             2                    3           \n",
       "                        ⎛t_s      ⎞   γ_c⋅l_b ⋅t_b   γ_fg⋅γ_s⋅kₐ⋅z    γ_fq⋅kₐ⋅\n",
       "            γ_c⋅h_s⋅t_s⋅⎜─── + toe⎟ + ──────────── - ────────────── - ────────\n",
       "      l_b               ⎝ 2       ⎠        2               6               2  \n",
       "e_c = ─── - ──────────────────────────────────────────────────────────────────\n",
       "       2                                   γ_c⋅h_s⋅t_s + γ_c⋅l_b⋅t_b + γ_s⋅h_s\n",
       "\n",
       "   2                                              \n",
       "q⋅z            ⎛l_b   t_s   toe⎞                  \n",
       "──── + γ_s⋅h_s⋅⎜─── + ─── + ───⎟⋅(l_b - t_s - toe)\n",
       "               ⎝ 2     2     2 ⎠                  \n",
       "──────────────────────────────────────────────────\n",
       "⋅(l_b - t_s - toe)                                "
      ]
     },
     "execution_count": 16,
     "metadata": {},
     "output_type": "execute_result"
    }
   ],
   "source": [
    "# Calculate the eccentricity of load from the centroid of the base\n",
    "ec = symbols('e_c')\n",
    "netMoment = stabilityMoment.rhs-moment.rhs\n",
    "xBar = netMoment / totalWeight.rhs\n",
    "eccentricity = Eq(ec,lb/2 - xBar)\n",
    "eccentricity"
   ]
  },
  {
   "cell_type": "code",
   "execution_count": 17,
   "metadata": {
    "collapsed": false
   },
   "outputs": [
    {
     "data": {
      "image/png": "[encoded data removed]",
      "text/latex": [
       "$$e_{c} = 0.111$$"
      ],
      "text/plain": [
       "e_c = 0.111"
      ]
     },
     "execution_count": 17,
     "metadata": {},
     "output_type": "execute_result"
    }
   ],
   "source": [
    "# amend the partial load factors to 1 for the force effectrs\n",
    "wallData = ({ka:0.3, gs:19, gfg:1.0, gfq:1.0, q:5, z:3.4})\n",
    "wallGeo = ({gc:24, hs:3.15, ts:0.25, tb:0.25, toe:0.75, gs:19, mu:0.5, lb: baseLength})\n",
    "wallData.update(wallGeo)\n",
    "actEc = eccentricity.subs(wallData)\n",
    "actEc.evalf(3)"
   ]
  },
  {
   "cell_type": "code",
   "execution_count": 18,
   "metadata": {
    "collapsed": false
   },
   "outputs": [
    {
     "data": {
      "image/png": "[encoded data removed]",
      "text/latex": [
       "$$0.383$$"
      ],
      "text/plain": [
       "0.383"
      ]
     },
     "execution_count": 18,
     "metadata": {},
     "output_type": "execute_result"
    }
   ],
   "source": [
    "# The kern of the foundation\n",
    "kern = lb.subs(wallData)/6\n",
    "kern.evalf(3)"
   ]
  },
  {
   "cell_type": "code",
   "execution_count": 19,
   "metadata": {
    "collapsed": false
   },
   "outputs": [
    {
     "name": "stdout",
     "output_type": "stream",
     "text": [
      "No tension occurs under the base\n",
      "The maximum pressure = 62.00 kPa\n"
     ]
    }
   ],
   "source": [
    "if actEc.rhs > kern:\n",
    "    print('Tension occurs at the heel')\n",
    "    qmax = 2*totalWeight.rhs.subs(wallData)/(3*xBar.subs(wallData))\n",
    "    print('The maximum pressure = {:.2f} kPa'.format(qmax))\n",
    "else:\n",
    "    print('No tension occurs under the base')\n",
    "    qmax = actEc.rhs*totalWeight.rhs.subs(wallData)*6/(lb.subs(wallData)**2)\\\n",
    "    +totalWeight.rhs.subs(wallData)/lb.subs(wallData)\n",
    "    print('The maximum pressure = {:.2f} kPa'.format(qmax))"
   ]
  },
  {
   "cell_type": "code",
   "execution_count": 20,
   "metadata": {
    "collapsed": false
   },
   "outputs": [
    {
     "data": {
      "image/png": "[encoded data removed]",
      "text/latex": [
       "$$f_{c} = 0.444444444444444 f_{ck} \\left(- \\frac{e_{c}^{2}}{e_{cy}^{2}} + \\frac{2 e_{c}}{e_{cy}}\\right)$$"
      ],
      "text/plain": [
       "                             ⎛      2        ⎞\n",
       "                             ⎜   e_c    2⋅e_c⎟\n",
       "f_c = 0.444444444444444⋅f_ck⋅⎜- ───── + ─────⎟\n",
       "                             ⎜      2    e_cy⎟\n",
       "                             ⎝  e_cy         ⎠"
      ]
     },
     "execution_count": 20,
     "metadata": {},
     "output_type": "execute_result"
    }
   ],
   "source": [
    "fck, fy = symbols('f_ck f_y')\n",
    "ec, ecy, ecu = symbols('e_c, e_cy, e_cu')\n",
    "fc = symbols('f_c')\n",
    "conc_str = Eq(fc, 4.0/9*fck*(2*(ec/ecy)-(ec/ecy)**2))\n",
    "conc_str"
   ]
  },
  {
   "cell_type": "code",
   "execution_count": 21,
   "metadata": {
    "collapsed": false
   },
   "outputs": [
    {
     "data": {
      "image/png": "[encoded data removed]",
      "text/latex": [
       "$$10.4166666666667$$"
      ],
      "text/plain": [
       "10.4166666666667"
      ]
     },
     "execution_count": 21,
     "metadata": {},
     "output_type": "execute_result"
    }
   ],
   "source": [
    "conc_data = ({fck:25, ecy:0.002, ec:0.0025})\n",
    "conc_stress = conc_str.rhs.subs(conc_data)\n",
    "conc_stress"
   ]
  },
  {
   "cell_type": "code",
   "execution_count": null,
   "metadata": {
    "collapsed": true
   },
   "outputs": [],
   "source": []
  }
 ],
 "metadata": {
  "kernelspec": {
   "display_name": "Python 2",
   "language": "python",
   "name": "python2"
  },
  "language_info": {
   "codemirror_mode": {
    "name": "ipython",
    "version": 2
   },
   "file_extension": ".py",
   "mimetype": "text/x-python",
   "name": "python",
   "nbconvert_exporter": "python",
   "pygments_lexer": "ipython2",
   "version": "2.7.11"
  }
 },
 "nbformat": 4,
 "nbformat_minor": 0
}
