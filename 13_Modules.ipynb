{
 "metadata": {
  "name": ""
 },
 "nbformat": 3,
 "nbformat_minor": 0,
 "worksheets": [
  {
   "cells": [
    {
     "cell_type": "markdown",
     "metadata": {},
     "source": [
      "# Modules [Lutz, M., Learning Python, 3ed., O'Reilly, 2007]\n",
      "Module is the highest level program organization unit. It packages program code and data for reuse. Modules usually correspond to Python program files (or extensions coded in external languages such as C, Java, or C#). Each file is a module, and modules import other modules to use the names they define. Modules are processed with two statements (**`import`** and **`from`**), and one built-in function **`reload`**.\n",
      "\n",
      "* **`import`**: Lets a client (importer) fetch a module as a whole\n",
      "* **`from`**: Allows clients to fetch particular names from a module\n",
      "* **`reload`**: Provides a way to reload a module's code without stopping Python\n"
     ]
    },
    {
     "cell_type": "code",
     "collapsed": false,
     "input": [
      "import math\n",
      "\n",
      "print 'math.sin():', math.sin(math.pi/4)\n",
      "\n",
      "from math import sin, pi\n",
      "print 'sin():', sin(pi/4)"
     ],
     "language": "python",
     "metadata": {},
     "outputs": [
      {
       "output_type": "stream",
       "stream": "stdout",
       "text": [
        "math.sin(): 0.707106781187\n",
        "sin(): 0.707106781187\n"
       ]
      }
     ],
     "prompt_number": 4
    },
    {
     "cell_type": "markdown",
     "metadata": {},
     "source": [
      "## Why Use Modules?\n",
      "Modules server the following main purposes:\n",
      "\n",
      "* **_Code reuse_**\n",
      "\n",
      "  Modules let you save code in files permanently. It can be loaded and reruns as many times as needed. Modules are a place to define names, known as _attributes_, that may be referenced by multiple external clients.\n",
      "\n",
      "* **_System namespace partitioning_**\n",
      "\n",
      "  Modules are the highest level program organization unit in Python.Modules are just packages of names. They seal up names into self contained packages, which helps avoid name clashes. This way, the names **`sqrt`** available in **`math`** and **`numpy`** can be distinguished from one another and used simultaneously in the same program.\n",
      "  \n",
      "* **_Implementing shared services or data_**\n",
      "  Modules are handy in implementing components that are shared across a system, and not just used again and again by the same program."
     ]
    },
    {
     "cell_type": "code",
     "collapsed": false,
     "input": [
      "import math\n",
      "import numpy\n",
      "\n",
      "x = 9.0\n",
      "print 'sqrt(%f) = %f', (x, math.sqrt(x))\n",
      "\n",
      "y = numpy.array([4.0, 9.0, 16.0], dtype=float)\n",
      "print 'sqrt(', y, ') =', numpy.sqrt(y)"
     ],
     "language": "python",
     "metadata": {},
     "outputs": [
      {
       "output_type": "stream",
       "stream": "stdout",
       "text": [
        "sqrt(%f) = %f (9.0, 3.0)\n",
        "sqrt( [  4.   9.  16.] ) = [ 2.  3.  4.]\n"
       ]
      }
     ],
     "prompt_number": 13
    },
    {
     "cell_type": "markdown",
     "metadata": {},
     "source": [
      "It is possible to rename a mdule when it is imported, usually to make it easier to type its name."
     ]
    },
    {
     "cell_type": "code",
     "collapsed": false,
     "input": [
      "import numpy as np\n",
      "\n",
      "print np.sin(y)"
     ],
     "language": "python",
     "metadata": {},
     "outputs": [
      {
       "output_type": "stream",
       "stream": "stdout",
       "text": [
        "[-0.7568025   0.41211849 -0.28790332]\n"
       ]
      }
     ],
     "prompt_number": 15
    },
    {
     "cell_type": "markdown",
     "metadata": {},
     "source": [
      "## Where Does Python Look for Modules?\n",
      "When a client requests to import a moduls, Python has to do the following:\n",
      "\n",
      "1. **_Find_**  the module's file\n",
      "2. **_Compile_** it to byte code, if needed\n",
      "3. **_Run_** the module's code to build the objects it defines\n",
      "\n",
      "### Find It\n",
      "Python looks at the following locations, in that sequence, until it finds the file having the same name as the module being imported. The name of the file is the same as the name of the module being imported, and with a **_.py_** extension.\n",
      "\n",
      "1. **_Home_** directory\n",
      "   Python first looks for the imported file in the home directory. When using Python in the interactive mode in a Python shell, the home directory is the directory from which the Python shell is invoked. When using Python in batch mode, home directory is the same directory where the script being executed is located.\n",
      "   \n",
      "2. **`PYTHONPATH`** directories\n",
      "   If the required file is not found in the _Home_ directory, Pythonnext looks in the directories listed in the `PYTHONPATH` environment variable.\n",
      "3. **_Standard library directories_**\n",
      "   Next, Python automatically searches the directories where standard libraries are installed on your machine. Because they are always searched, they need not be added to your **`PYTHONPATH`** environment variable. Moreover, these locations are already known to Python and need not be explicitly made known\n",
      "4. **_.pth file directories_**\n",
      "   Finally, Python will look for files with extension **_.pth_** and read that file containing names of directories, one per line, which Python will look in to search for files to be imported. Each directory listed in the **_.pth_** file is searched in sequence.\n",
      "\n",
      "#### Module File Selection\n",
      "File name suffixes such as **_.py_** are intentionally omitted from the **`import`** statements. Python chooses the first file it can find on the search path that matches the imported name. For example, the statement **`import b`** might load:\n",
      "\n",
      "* A source code file named **_b.py_**\n",
      "* A byte code file named **_.pyc_**\n",
      "* A directory named **_b_**, for package imports\n",
      "* A compiled extension module, usually coded in C or C++, and dynamically linked when imported (e.g., **_b.so_** on Linux or **_b.dll_** or **_b.pyd_** on Cygwin and Windows\n",
      "* A compiled built-in module coded in C and statically linked into Python\n",
      "* A ZIP file component that is automatically extracted when imported\n",
      "* An in-memory image, for frozen executables\n",
      "* A Java class, in the Jython version of Python\n",
      "* A .NET component, in theIronPython version of Python\n",
      "\n",
      "If you have **_b.py_** and a **_b.so_** in different directories, Python will always use the one found first. If it finds both in the same directory, Python follows a standard picking order, though this order is not guaranteed to remain the same. You should not depend on which type of file Python will choose. It is best to make your module names distinct.\n",
      "\n",
      "### Compile It\n",
      "After finding a source code file that matches the **`import`** statement after traversing the module search path, Python compiles it to byte code, if necessary. Python checks the timestamps and skips the source-to-bytecode compile step if it finds that the **_.pyc_** byte code file is not older than the corresponding **_.py_** source file. If you change the source code, Python will automatically regenerate the bute code the next time your program is run. If just **_.pyc_** byte code file is present and not the corresponding **_.py_** source code, Python will proceed to load the bytecode file. This makes it possible to ship a program as just byte code files and avoid sending source.\n",
      "\n",
      "### Run It\n",
      "The final step is to execute the byte code of the module. All statements in the file are executed in turn, from top to bottom, and any assignments made to names during this step generate attributes of the resulting module object.Forinstance, **`def`** statements in a file are run at import time to create functions and assign attributes within the module to those functions. The functions can then be called later in the program in the file where the module is imported."
     ]
    },
    {
     "cell_type": "code",
     "collapsed": false,
     "input": [
      "import numpy as np\n",
      "\n",
      "print np.__name__ # Name of the imported module\n",
      "print __name__ # Name of the module where numpy was imported"
     ],
     "language": "python",
     "metadata": {},
     "outputs": [
      {
       "output_type": "stream",
       "stream": "stdout",
       "text": [
        "numpy\n",
        "__main__\n"
       ]
      }
     ],
     "prompt_number": 18
    },
    {
     "cell_type": "markdown",
     "metadata": {},
     "source": [
      "## Creating a Module\n",
      "When you **`import`** a Python source code file named **_module1.py_** containing the **`def printer(x)`** in it, you create a module object with name **_module1_** containing one attribute -- the name **`printer`**, which happens to be a reference to a function object."
     ]
    },
    {
     "cell_type": "code",
     "collapsed": false,
     "input": [
      "# file: module1.py\n",
      "\n",
      "def printer(x):\n",
      "    print x"
     ],
     "language": "python",
     "metadata": {},
     "outputs": []
    },
    {
     "cell_type": "markdown",
     "metadata": {},
     "source": [
      "Because module names become variable names inside a Python program when imported (without the **_.py_**), they should also follow the normal variable name rules. Thus module names must not be Python keywords and must begin with with an alphabet. If the name of the module in an **`import`** statement matches a directory, the diectory becomes a variable name and all Python source code files in that directory become the subpackages of the module.\n",
      "\n",
      "## The `from` Statement\n",
      "The **`from module1 import printer`** copies the names from one file over to another scope. It allows us to use copied names directly in the script without referring to the module from which it is copied. The **`from module1 import *`** copies **_all_** names from the imported module into another scope. The former allows the **`import`** of selected names while the latter copies **_all_** names.\n",
      "\n",
      "## Imports Happen Only Once\n",
      "A module is imported and run only the first time. The next time you import the same module, Python simply fetches the already loaded module object. This has important consequences for variables that are initialized inside a module. They are initialized only the first time, and are not reinitialized if the module is imported again later in the same program.\n",
      "\n",
      "## Reloading Modules\n",
      "To force a module to be reloaded and rerun after being imported once, you must use the **`reload`** Python built-in functon."
     ]
    }
   ],
   "metadata": {}
  }
 ]
}