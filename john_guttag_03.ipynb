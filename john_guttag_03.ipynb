{
 "cells": [
  {
   "cell_type": "code",
   "execution_count": 2,
   "metadata": {
    "collapsed": false
   },
   "outputs": [
    {
     "name": "stdout",
     "output_type": "stream",
     "text": [
      "Enter an integer: -27\n",
      "Cube root of -27 is -3\n"
     ]
    }
   ],
   "source": [
    "# Find the cube root of a perfect cube\n",
    "x = int(raw_input('Enter an integer: '))\n",
    "ans = 0\n",
    "while ans**3 < abs(x):\n",
    "    ans = ans + 1\n",
    "if ans**3 != abs(x):\n",
    "    print x, 'is not a perfect cube'\n",
    "else:\n",
    "    if x < 0:\n",
    "        ans = -ans\n",
    "    print 'Cube root of', x, 'is', ans"
   ]
  },
  {
   "cell_type": "code",
   "execution_count": 8,
   "metadata": {
    "collapsed": false
   },
   "outputs": [
    {
     "name": "stdout",
     "output_type": "stream",
     "text": [
      "Enter an integer: 65\n",
      "65 is not a perfect cube\n"
     ]
    }
   ],
   "source": [
    "# Find the cube root of a perfect cube\n",
    "x = int(raw_input('Enter an integer: '))\n",
    "for ans in range(0, abs(x)+1):\n",
    "    if ans**3 >= abs(x):\n",
    "        break\n",
    "if ans**3 != abs(x):\n",
    "    print x, 'is not a perfect cube'\n",
    "else:\n",
    "    if x < 0:\n",
    "        ans = -ans\n",
    "    print 'Cube root of', x, 'is', ans"
   ]
  },
  {
   "cell_type": "code",
   "execution_count": 9,
   "metadata": {
    "collapsed": false
   },
   "outputs": [
    {
     "name": "stdout",
     "output_type": "stream",
     "text": [
      "Number of guesses = 49990\n",
      "4.999 is close to square root of 25\n"
     ]
    }
   ],
   "source": [
    "x = 25\n",
    "epsilon = 0.01\n",
    "step = epsilon**2\n",
    "numGuesses = 0\n",
    "ans = 0.0\n",
    "while abs(ans**2 - x) >= epsilon and ans <= x:\n",
    "    ans += step\n",
    "    numGuesses += 1\n",
    "print 'Number of guesses =', numGuesses\n",
    "if abs(ans**2 - x) >= epsilon:\n",
    "    print 'Failed to find square root of', x\n",
    "else:\n",
    "    print ans, 'is close to square root of', x"
   ]
  },
  {
   "cell_type": "code",
   "execution_count": 12,
   "metadata": {
    "collapsed": false
   },
   "outputs": [
    {
     "name": "stdout",
     "output_type": "stream",
     "text": [
      "low = 0.0 high = 123456789 ans = 61728394.5\n",
      "low = 0.0 high = 61728394.5 ans = 30864197.25\n",
      "low = 0.0 high = 30864197.25 ans = 15432098.625\n",
      "low = 0.0 high = 15432098.625 ans = 7716049.3125\n",
      "low = 0.0 high = 7716049.3125 ans = 3858024.65625\n",
      "low = 0.0 high = 3858024.65625 ans = 1929012.32812\n",
      "low = 0.0 high = 1929012.32812 ans = 964506.164062\n",
      "low = 0.0 high = 964506.164062 ans = 482253.082031\n",
      "low = 0.0 high = 482253.082031 ans = 241126.541016\n",
      "low = 0.0 high = 241126.541016 ans = 120563.270508\n",
      "low = 0.0 high = 120563.270508 ans = 60281.6352539\n",
      "low = 0.0 high = 60281.6352539 ans = 30140.817627\n",
      "low = 0.0 high = 30140.817627 ans = 15070.4088135\n",
      "low = 0.0 high = 15070.4088135 ans = 7535.20440674\n",
      "low = 7535.20440674 high = 15070.4088135 ans = 11302.8066101\n",
      "low = 7535.20440674 high = 11302.8066101 ans = 9419.00550842\n",
      "low = 9419.00550842 high = 11302.8066101 ans = 10360.9060593\n",
      "low = 10360.9060593 high = 11302.8066101 ans = 10831.8563347\n",
      "low = 10831.8563347 high = 11302.8066101 ans = 11067.3314724\n",
      "low = 11067.3314724 high = 11302.8066101 ans = 11185.0690413\n",
      "low = 11067.3314724 high = 11185.0690413 ans = 11126.2002568\n",
      "low = 11067.3314724 high = 11126.2002568 ans = 11096.7658646\n",
      "low = 11096.7658646 high = 11126.2002568 ans = 11111.4830607\n",
      "low = 11096.7658646 high = 11111.4830607 ans = 11104.1244627\n",
      "low = 11104.1244627 high = 11111.4830607 ans = 11107.8037617\n",
      "low = 11107.8037617 high = 11111.4830607 ans = 11109.6434112\n",
      "low = 11109.6434112 high = 11111.4830607 ans = 11110.563236\n",
      "low = 11110.563236 high = 11111.4830607 ans = 11111.0231483\n",
      "low = 11111.0231483 high = 11111.4830607 ans = 11111.2531045\n",
      "low = 11111.0231483 high = 11111.2531045 ans = 11111.1381264\n",
      "low = 11111.0231483 high = 11111.1381264 ans = 11111.0806374\n",
      "low = 11111.0806374 high = 11111.1381264 ans = 11111.1093819\n",
      "low = 11111.1093819 high = 11111.1381264 ans = 11111.1237542\n",
      "low = 11111.1093819 high = 11111.1237542 ans = 11111.116568\n",
      "low = 11111.1093819 high = 11111.116568 ans = 11111.112975\n",
      "low = 11111.1093819 high = 11111.112975 ans = 11111.1111784\n",
      "low = 11111.1093819 high = 11111.1111784 ans = 11111.1102802\n",
      "low = 11111.1102802 high = 11111.1111784 ans = 11111.1107293\n",
      "low = 11111.1107293 high = 11111.1111784 ans = 11111.1109539\n",
      "low = 11111.1109539 high = 11111.1111784 ans = 11111.1110662\n",
      "low = 11111.1109539 high = 11111.1110662 ans = 11111.11101\n",
      "low = 11111.11101 high = 11111.1110662 ans = 11111.1110381\n",
      "low = 11111.1110381 high = 11111.1110662 ans = 11111.1110521\n",
      "low = 11111.1110521 high = 11111.1110662 ans = 11111.1110591\n",
      "low = 11111.1110591 high = 11111.1110662 ans = 11111.1110627\n",
      "Number of guesses = 45\n",
      "11111.1110609 is close to square root of 123456789\n"
     ]
    }
   ],
   "source": [
    "x = 123456789\n",
    "epsilon = 0.01\n",
    "numGuesses = 0\n",
    "low = 0.0\n",
    "high = max(1.0, x)\n",
    "ans = (high + low) / 2.0\n",
    "while abs(ans**2 - x) >= epsilon:\n",
    "    print 'low =', low, 'high =', high, 'ans =', ans\n",
    "    numGuesses += 1\n",
    "    if ans**2 < x:\n",
    "        low = ans\n",
    "    else:\n",
    "        high = ans\n",
    "    ans = (high + low) / 2.0\n",
    "print 'Number of guesses =', numGuesses\n",
    "print ans, 'is close to square root of', x"
   ]
  },
  {
   "cell_type": "code",
   "execution_count": 13,
   "metadata": {
    "collapsed": false
   },
   "outputs": [
    {
     "name": "stdout",
     "output_type": "stream",
     "text": [
      "Suqare root of 24.0 is about 4.89898874321\n"
     ]
    }
   ],
   "source": [
    "# Newton-Raphson for square root\n",
    "# Find x such that x**2 - 24 is within epsilon of 0\n",
    "epsilon = 0.01\n",
    "k = 24.0\n",
    "guess = k / 2.0\n",
    "while abs(guess*guess - k) >= epsilon:\n",
    "    guess = guess - (((guess**2) - k) / (2.0*guess))\n",
    "print 'Suqare root of', k, 'is about', guess"
   ]
  },
  {
   "cell_type": "code",
   "execution_count": null,
   "metadata": {
    "collapsed": true
   },
   "outputs": [],
   "source": []
  }
 ],
 "metadata": {
  "kernelspec": {
   "display_name": "Python 2",
   "language": "python",
   "name": "python2"
  },
  "language_info": {
   "codemirror_mode": {
    "name": "ipython",
    "version": 2
   },
   "file_extension": ".py",
   "mimetype": "text/x-python",
   "name": "python",
   "nbconvert_exporter": "python",
   "pygments_lexer": "ipython2",
   "version": "2.7.9"
  }
 },
 "nbformat": 4,
 "nbformat_minor": 0
}
