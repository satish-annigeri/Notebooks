{
 "metadata": {
  "name": "",
  "signature": "sha256:5e4fe13aff8ee1da7837976e003973cf796f668978c1874c59acd172a0a76c5a"
 },
 "nbformat": 3,
 "nbformat_minor": 0,
 "worksheets": [
  {
   "cells": [
    {
     "cell_type": "markdown",
     "metadata": {},
     "source": [
      "# Generating Lists\n",
      "* **`range()`** generates a list of integers\n",
      "* **`numpy.arange()`** generates an array of floating point numbers\n",
      "* **`numpy.linspace()`** generates an array of equally spaced data points\n",
      "\n",
      "## `range()`\n",
      "\n",
      "**`range()`** function generates a sequence of integers and returns them in a list. To generate this sequence of integers, the **`range()`** function uses three values:\n",
      "1. A start value, the value of the first element of the sequence\n",
      "2. An end value. The last element of the sequence will **always be less than** this value, **never equal to it**\n",
      "3. An integer increment, or a decrement. If end value if greater than the start value, increment must be positive, otherwise a null list is \n",
      "\n",
      "**`range()`** can be used in one of three ways:\n",
      "1. **One argument:** Argument is the end value, start value is **1** and increment is **1**. Ending value itself is not included in the sequence.\n",
      "2. **Two arguments:** First argument is the start value, second argument is the end value and increment is assumed to be **1**.\n",
      "3. **Three arguments:** First argument is the start value, second argument is the end value and the third argument is the increment/decrement."
     ]
    },
    {
     "cell_type": "code",
     "collapsed": false,
     "input": [
      "from __future__ import print_function, division\n",
      "\n",
      "a = range(5) # Start value 0, Increment 1. [0, 1, 2, 3, 4]\n",
      "print(type(a), len(a), a)\n",
      "\n",
      "b = range(1, 6)  # Increment 1. [1, 2, 3, 4, 5]\n",
      "print(type(b), len(b), b)\n",
      "\n",
      "c = range(2, 11, 2) # [2, 4, 6, 8, 10]\n",
      "print(c)\n",
      "\n",
      "d = range(10, 0, -2)  # [10, 8, 6, 4, 2]\n",
      "print(d)\n",
      "\n",
      "print(x)\n",
      "y = range(0, 5, 0.5) # ERROR"
     ],
     "language": "python",
     "metadata": {},
     "outputs": [
      {
       "output_type": "stream",
       "stream": "stdout",
       "text": [
        "<type 'list'> 5 [0, 1, 2, 3, 4]\n",
        "<type 'list'> 5 [1, 2, 3, 4, 5]\n",
        "[2, 4, 6, 8, 10]\n",
        "[10, 8, 6, 4, 2]\n"
       ]
      },
      {
       "ename": "NameError",
       "evalue": "name 'x' is not defined",
       "output_type": "pyerr",
       "traceback": [
        "\u001b[1;31m---------------------------------------------------------------------------\u001b[0m\n\u001b[1;31mNameError\u001b[0m                                 Traceback (most recent call last)",
        "\u001b[1;32m<ipython-input-1-5863823d99e1>\u001b[0m in \u001b[0;36m<module>\u001b[1;34m()\u001b[0m\n\u001b[0;32m     13\u001b[0m \u001b[1;32mprint\u001b[0m\u001b[1;33m(\u001b[0m\u001b[0md\u001b[0m\u001b[1;33m)\u001b[0m\u001b[1;33m\u001b[0m\u001b[0m\n\u001b[0;32m     14\u001b[0m \u001b[1;33m\u001b[0m\u001b[0m\n\u001b[1;32m---> 15\u001b[1;33m \u001b[1;32mprint\u001b[0m\u001b[1;33m(\u001b[0m\u001b[0mx\u001b[0m\u001b[1;33m)\u001b[0m\u001b[1;33m\u001b[0m\u001b[0m\n\u001b[0m\u001b[0;32m     16\u001b[0m \u001b[0my\u001b[0m \u001b[1;33m=\u001b[0m \u001b[0mrange\u001b[0m\u001b[1;33m(\u001b[0m\u001b[1;36m0\u001b[0m\u001b[1;33m,\u001b[0m \u001b[1;36m5\u001b[0m\u001b[1;33m,\u001b[0m \u001b[1;36m0.5\u001b[0m\u001b[1;33m)\u001b[0m \u001b[1;31m# ERROR\u001b[0m\u001b[1;33m\u001b[0m\u001b[0m\n",
        "\u001b[1;31mNameError\u001b[0m: name 'x' is not defined"
       ]
      }
     ],
     "prompt_number": 1
    },
    {
     "cell_type": "markdown",
     "metadata": {},
     "source": [
      "## `numpy.arange()`\n",
      "\n",
      "**`np.arange()`** is similar to **`range()`**, but returns a **numpy array**, and values can be real numbers, and not restricted to integers.\n",
      "\n",
      "If start, end and increment are all integers, it returns an array of integers, otherwise an array of floating point numbers."
     ]
    },
    {
     "cell_type": "code",
     "collapsed": false,
     "input": [
      "import numpy as np\n",
      "\n",
      "a = np.arange(10)\n",
      "print(type(a), len(a), a)\n",
      "\n",
      "b = np.arange(1, 10.)\n",
      "print(b)\n",
      "\n",
      "c = np.arange(0, 11, 2.5)\n",
      "print(c)\n",
      "\n",
      "d = np.arange(5, -0.1, -0.5)\n",
      "print(d)"
     ],
     "language": "python",
     "metadata": {},
     "outputs": []
    },
    {
     "cell_type": "markdown",
     "metadata": {},
     "source": [
      "## `numpy.linspace()`\n",
      "**`np.linspace()`** generates a sequence of a specified number of equidistance points between given starting and ending values, both values inclusive. It takes three arguments, first and second are the starting and ending values respectively. Third is the number of points to be generated.\n",
      "\n",
      "Unlike **`range()`** and **`numpy.arange()`**, the sequence **includes** the ending value. Instead of an increment/decrement, it takes the number of equally spaced points to be generated from the given start point to the given end point, both included. "
     ]
    },
    {
     "cell_type": "code",
     "collapsed": false,
     "input": [
      "a = np.linspace(0, 5, 11)\n",
      "print(type(a), len(a), a)\n",
      "\n",
      "b = np.linspace(5.0, 0.0, 11)\n",
      "print(b)"
     ],
     "language": "python",
     "metadata": {},
     "outputs": []
    },
    {
     "cell_type": "code",
     "collapsed": false,
     "input": [
      "a = np.linspace(0, 5, 6)\n",
      "print(type(a), a)\n",
      "b = np.linspace(0, 5, 11)\n",
      "print(b)"
     ],
     "language": "python",
     "metadata": {},
     "outputs": []
    },
    {
     "cell_type": "markdown",
     "metadata": {},
     "source": [
      "# Numerical Python\n",
      "\n",
      "An array has these properties, which distinguish it a list:\n",
      "\n",
      "1. All elements in an array are of the same type\n",
      "2. Memory for an array is contiguous\n",
      "3. If an array is multi-dimensioned, say two dimensioned, each row contains the same number of columns. This concept can be extended to arrays of higher dimensions\n",
      "\n",
      "Base Python programming language does not have the array data structure, instead it has List, which is more generalized than an array. NumPy module adds the n-dimensioned array (**`numpy.ndarray`**) data structure to Python"
     ]
    },
    {
     "cell_type": "markdown",
     "metadata": {},
     "source": [
      "## Creating Arrays\n",
      "\n",
      "Arrays can be created from an existing container objects, such as, lists. One can manually define the lists to create arrays out of them, or use functions which return lists, such as **`range()`**."
     ]
    },
    {
     "cell_type": "code",
     "collapsed": false,
     "input": [
      "a = np.array([1, 2, 3, 4, 5])\n",
      "print(type(a), a, type(a[0]))\n",
      "s = a.shape\n",
      "print(type(s), s)\n",
      "\n",
      "b = np.array([2*i for i in a])  # List comprehension)\n",
      "print(b, type(b), b.shape)"
     ],
     "language": "python",
     "metadata": {},
     "outputs": [
      {
       "output_type": "stream",
       "stream": "stdout",
       "text": [
        "<type 'numpy.ndarray'> [1 2 3 4 5] <type 'numpy.int64'>\n",
        "<type 'tuple'> (5,)\n",
        "[ 2  4  6  8 10] <type 'numpy.ndarray'> (5,)\n"
       ]
      }
     ],
     "prompt_number": 27
    },
    {
     "cell_type": "code",
     "collapsed": false,
     "input": [
      "b = np.array([[1, 2, 3], [4, 5, 6]], dtype=float)\n",
      "print(type(b), type(b[0,0]))\n",
      "print(b)\n",
      "\n",
      "c = [2*i for i in b]\n",
      "print(type(c), c)\n",
      "\n",
      "d = 2 * b\n",
      "print(type(d))\n",
      "print(d.T)  # Transpose of d"
     ],
     "language": "python",
     "metadata": {},
     "outputs": [
      {
       "output_type": "stream",
       "stream": "stdout",
       "text": [
        "<type 'numpy.ndarray'> <type 'numpy.float64'>\n",
        "[[ 1.  2.  3.]\n",
        " [ 4.  5.  6.]]\n",
        "<type 'list'> [array([ 2.,  4.,  6.]), array([  8.,  10.,  12.])]\n",
        "<type 'numpy.ndarray'>\n",
        "[[  2.   8.]\n",
        " [  4.  10.]\n",
        " [  6.  12.]]\n"
       ]
      }
     ],
     "prompt_number": 28
    },
    {
     "cell_type": "markdown",
     "metadata": {},
     "source": [
      "## NumPy Array Metadata\n",
      "An array has a shape, which is a tuple. Number of items in the shape tuple represents the dimension of the array. Value of each element of the shape tuple represents the size along that dimension."
     ]
    },
    {
     "cell_type": "code",
     "collapsed": false,
     "input": [
      "print(type(a), type(a.shape), len(a.shape), a.shape, a.ndim)\n",
      "print(type(b), type(b.shape), len(b.shape), b.shape, b.ndim)"
     ],
     "language": "python",
     "metadata": {},
     "outputs": [
      {
       "output_type": "stream",
       "stream": "stdout",
       "text": [
        "<type 'numpy.ndarray'> <type 'tuple'> 1 (5,) 1\n",
        "<type 'numpy.ndarray'> <type 'tuple'> 2 (2, 3) 2\n"
       ]
      }
     ],
     "prompt_number": 29
    },
    {
     "cell_type": "markdown",
     "metadata": {},
     "source": [
      "## Array Operations\n",
      "Mathematical operations such as addition (+), subtraction (-), multiplication (\\*) and division (/) are all performed elementwise. However matrix multiplication is not an elementwise operation and is performed using a function **`dot()`**."
     ]
    },
    {
     "cell_type": "code",
     "collapsed": false,
     "input": [
      "a = np.array([[1, 2, 3, 4], [5, 6, 7, 8]], dtype=float)\n",
      "b = np.array([[2, 4, 6, 8], [10, 12, 14, 16]], dtype=float)\n",
      "c = a + b\n",
      "print(a)\n",
      "print(b)\n",
      "print \n",
      "(c)\n",
      "d = b - a\n",
      "print(d)\n",
      "x = a * b\n",
      "print(x)\n",
      "y = b / a\n",
      "print(y)\n",
      "z = b.T\n",
      "print(z)\n",
      "p = np.dot(a, z)\n",
      "print(p)"
     ],
     "language": "python",
     "metadata": {},
     "outputs": [
      {
       "output_type": "stream",
       "stream": "stdout",
       "text": [
        "[[ 1.  2.  3.  4.]\n",
        " [ 5.  6.  7.  8.]]\n",
        "[[  2.   4.   6.   8.]\n",
        " [ 10.  12.  14.  16.]]\n",
        "[[ 1.  2.  3.  4.]\n",
        " [ 5.  6.  7.  8.]]\n",
        "[[   2.    8.   18.   32.]\n",
        " [  50.   72.   98.  128.]]\n",
        "[[ 2.  2.  2.  2.]\n",
        " [ 2.  2.  2.  2.]]\n",
        "[[  2.  10.]\n",
        " [  4.  12.]\n",
        " [  6.  14.]\n",
        " [  8.  16.]]\n",
        "[[  60.  140.]\n",
        " [ 140.  348.]]\n"
       ]
      }
     ],
     "prompt_number": 30
    },
    {
     "cell_type": "markdown",
     "metadata": {},
     "source": [
      "## Functions that Operate on Arrays\n",
      "NumPy also provides functions that operate on arrays. They are analogous to functions in **`math`**, except that they are capable of operating on arrays as well as single values."
     ]
    },
    {
     "cell_type": "code",
     "collapsed": false,
     "input": [
      "import math\n",
      "\n",
      "print(a)\n",
      "# Try x = math.sqrt(a)\n",
      "x = np.sqrt(a)\n",
      "print(x)\n",
      "print(np.cos(a))"
     ],
     "language": "python",
     "metadata": {},
     "outputs": [
      {
       "output_type": "stream",
       "stream": "stdout",
       "text": [
        "[[ 1.  2.  3.  4.]\n",
        " [ 5.  6.  7.  8.]]\n",
        "[[ 1.          1.41421356  1.73205081  2.        ]\n",
        " [ 2.23606798  2.44948974  2.64575131  2.82842712]]\n",
        "[[ 0.54030231 -0.41614684 -0.9899925  -0.65364362]\n",
        " [ 0.28366219  0.96017029  0.75390225 -0.14550003]]\n"
       ]
      }
     ],
     "prompt_number": 31
    },
    {
     "cell_type": "code",
     "collapsed": false,
     "input": [
      "c = np.array([[[1, 2], [3, 4], [5, 6]], [[7, 8], [9, 10], [11, 12]]])\n",
      "print(type(c), type(c.shape), len(c.shape), c.shape, c.ndim)\n",
      "print(c)"
     ],
     "language": "python",
     "metadata": {},
     "outputs": [
      {
       "output_type": "stream",
       "stream": "stdout",
       "text": [
        "<type 'numpy.ndarray'> <type 'tuple'> 3 (2, 3, 2) 3\n",
        "[[[ 1  2]\n",
        "  [ 3  4]\n",
        "  [ 5  6]]\n",
        "\n",
        " [[ 7  8]\n",
        "  [ 9 10]\n",
        "  [11 12]]]\n"
       ]
      }
     ],
     "prompt_number": 32
    },
    {
     "cell_type": "code",
     "collapsed": false,
     "input": [
      "print(len(a), len(b), len(c))\n",
      "print(a.dtype)"
     ],
     "language": "python",
     "metadata": {},
     "outputs": [
      {
       "output_type": "stream",
       "stream": "stdout",
       "text": [
        "2 2 2\n",
        "float64\n"
       ]
      }
     ],
     "prompt_number": 33
    },
    {
     "cell_type": "markdown",
     "metadata": {},
     "source": [
      "## Quick Creation of Common Arrays\n",
      "Commonly required arrays such as those with all zeros, all ones, identity matrix and such can be created easily."
     ]
    },
    {
     "cell_type": "code",
     "collapsed": false,
     "input": [
      "a = np.zeros((3,4), dtype=float)\n",
      "print(a)"
     ],
     "language": "python",
     "metadata": {},
     "outputs": [
      {
       "output_type": "stream",
       "stream": "stdout",
       "text": [
        "[[ 0.  0.  0.  0.]\n",
        " [ 0.  0.  0.  0.]\n",
        " [ 0.  0.  0.  0.]]\n"
       ]
      }
     ],
     "prompt_number": 34
    },
    {
     "cell_type": "code",
     "collapsed": false,
     "input": [
      "b = np.ones((2, 3, 4), dtype = int)\n",
      "print(b)"
     ],
     "language": "python",
     "metadata": {},
     "outputs": [
      {
       "output_type": "stream",
       "stream": "stdout",
       "text": [
        "[[[1 1 1 1]\n",
        "  [1 1 1 1]\n",
        "  [1 1 1 1]]\n",
        "\n",
        " [[1 1 1 1]\n",
        "  [1 1 1 1]\n",
        "  [1 1 1 1]]]\n"
       ]
      }
     ],
     "prompt_number": 35
    },
    {
     "cell_type": "code",
     "collapsed": false,
     "input": [
      "c = np.eye(4, dtype=int)\n",
      "print(c)"
     ],
     "language": "python",
     "metadata": {},
     "outputs": [
      {
       "output_type": "stream",
       "stream": "stdout",
       "text": [
        "[[1 0 0 0]\n",
        " [0 1 0 0]\n",
        " [0 0 1 0]\n",
        " [0 0 0 1]]\n"
       ]
      }
     ],
     "prompt_number": 36
    },
    {
     "cell_type": "code",
     "collapsed": false,
     "input": [
      "z = np.random.randn(3, 4)\n",
      "print(z)"
     ],
     "language": "python",
     "metadata": {},
     "outputs": [
      {
       "output_type": "stream",
       "stream": "stdout",
       "text": [
        "[[-2.14414288  0.52834834 -0.90470209 -1.04611247]\n",
        " [-0.7570284  -0.87987385 -0.38066307 -0.79368915]\n",
        " [-0.90440558 -0.74507332  0.48803766  0.7189766 ]]\n"
       ]
      }
     ],
     "prompt_number": 37
    },
    {
     "cell_type": "markdown",
     "metadata": {},
     "source": [
      "## diag()\n",
      "**`diag()`** generates a square array with the given argument placed on the main diagonal, or on a diagonal above or below the main diagonal."
     ]
    },
    {
     "cell_type": "code",
     "collapsed": false,
     "input": [
      "d = np.diag([1, 2, 3, 4])\n",
      "print(d)"
     ],
     "language": "python",
     "metadata": {},
     "outputs": [
      {
       "output_type": "stream",
       "stream": "stdout",
       "text": [
        "[[1 0 0 0]\n",
        " [0 2 0 0]\n",
        " [0 0 3 0]\n",
        " [0 0 0 4]]\n"
       ]
      }
     ],
     "prompt_number": 38
    },
    {
     "cell_type": "code",
     "collapsed": false,
     "input": [
      "x = np.diag([10, 20, 30], 1)  # List placed one place above the main diagonal\n",
      "print(x)"
     ],
     "language": "python",
     "metadata": {},
     "outputs": [
      {
       "output_type": "stream",
       "stream": "stdout",
       "text": [
        "[[ 0 10  0  0]\n",
        " [ 0  0 20  0]\n",
        " [ 0  0  0 30]\n",
        " [ 0  0  0  0]]\n"
       ]
      }
     ],
     "prompt_number": 39
    },
    {
     "cell_type": "code",
     "collapsed": false,
     "input": [
      "y = np.diag([10, 20, 30], -1)  # List placed one place below the main diagonal\n",
      "print(y)"
     ],
     "language": "python",
     "metadata": {},
     "outputs": [
      {
       "output_type": "stream",
       "stream": "stdout",
       "text": [
        "[[ 0  0  0  0]\n",
        " [10  0  0  0]\n",
        " [ 0 20  0  0]\n",
        " [ 0  0 30  0]]\n"
       ]
      }
     ],
     "prompt_number": 40
    },
    {
     "cell_type": "markdown",
     "metadata": {},
     "source": [
      "### Random Number Arrays"
     ]
    },
    {
     "cell_type": "code",
     "collapsed": false,
     "input": [
      "a = np.random.random((3,4))\n",
      "print(a)\n",
      "b = a * 100\n",
      "print(b)"
     ],
     "language": "python",
     "metadata": {},
     "outputs": [
      {
       "output_type": "stream",
       "stream": "stdout",
       "text": [
        "[[ 0.3421894   0.40971507  0.49669417  0.15522751]\n",
        " [ 0.67643243  0.19565344  0.84277855  0.87935235]\n",
        " [ 0.246088    0.74646798  0.34299212  0.46946585]]\n",
        "[[ 34.21893972  40.97150717  49.66941682  15.52275119]\n",
        " [ 67.64324322  19.5653441   84.27785521  87.93523529]\n",
        " [ 24.60880001  74.64679804  34.29921208  46.94658491]]\n"
       ]
      }
     ],
     "prompt_number": 41
    },
    {
     "cell_type": "markdown",
     "metadata": {},
     "source": [
      "# Slicing Arrays\n",
      "It is possible to access subarrays inside an array, either to copy their contents or replace them. The operation of accessing parts of an array is called **slicing**. Slicing is a powerful operation and requires some effort to master.\n",
      "## Copying Subarrays"
     ]
    },
    {
     "cell_type": "code",
     "collapsed": false,
     "input": [
      "a = np.zeros((4, 5), dtype=float)\n",
      "print(a)\n",
      "a[0,:] = [1, 2, 3, 4, 5]\n",
      "print(a)\n",
      "a[:, 2] = [10, 20, 30, 40]\n",
      "print(a)\n",
      "print(a[:4, :2])\n",
      "print(a[:,3:])"
     ],
     "language": "python",
     "metadata": {},
     "outputs": [
      {
       "output_type": "stream",
       "stream": "stdout",
       "text": [
        "[[ 0.  0.  0.  0.  0.]\n",
        " [ 0.  0.  0.  0.  0.]\n",
        " [ 0.  0.  0.  0.  0.]\n",
        " [ 0.  0.  0.  0.  0.]]\n",
        "[[ 1.  2.  3.  4.  5.]\n",
        " [ 0.  0.  0.  0.  0.]\n",
        " [ 0.  0.  0.  0.  0.]\n",
        " [ 0.  0.  0.  0.  0.]]\n",
        "[[  1.   2.  10.   4.   5.]\n",
        " [  0.   0.  20.   0.   0.]\n",
        " [  0.   0.  30.   0.   0.]\n",
        " [  0.   0.  40.   0.   0.]]\n",
        "[[ 1.  2.]\n",
        " [ 0.  0.]\n",
        " [ 0.  0.]\n",
        " [ 0.  0.]]\n",
        "[[ 4.  5.]\n",
        " [ 0.  0.]\n",
        " [ 0.  0.]\n",
        " [ 0.  0.]]\n"
       ]
      }
     ],
     "prompt_number": 42
    },
    {
     "cell_type": "markdown",
     "metadata": {},
     "source": [
      "## Rules for Slicing\n",
      "1. If start value is not specified, it defaults to 0\n",
      "2. If end value is not specifies, it defaults to the last\n",
      "3. Index -1 represents the index of the last element and -2 represents the index of the last but one elemen"
     ]
    },
    {
     "cell_type": "code",
     "collapsed": false,
     "input": [
      "b = np.array(range(9), dtype=float)\n",
      "print(b)\n",
      "print(b[0:4])   # b[0] to b[3]. b[4] NOT included\n",
      "print(b[:4])    # Same as b[0:4]\n",
      "print(b[2:9])   # b[2] to b[8], b[9] NOT included\n",
      "print(b[2:])    # Same as b[2:9]\n",
      "print(b[2:-1])  # b[2] to b[-2]. b[-1] NOT included\n",
      "print(b[-1:-3]) # empty array"
     ],
     "language": "python",
     "metadata": {},
     "outputs": [
      {
       "output_type": "stream",
       "stream": "stdout",
       "text": [
        "[ 0.  1.  2.  3.  4.  5.  6.  7.  8.]\n",
        "[ 0.  1.  2.  3.]\n",
        "[ 0.  1.  2.  3.]\n",
        "[ 2.  3.  4.  5.  6.  7.  8.]\n",
        "[ 2.  3.  4.  5.  6.  7.  8.]\n",
        "[ 2.  3.  4.  5.  6.  7.]\n",
        "[]\n"
       ]
      }
     ],
     "prompt_number": 43
    },
    {
     "cell_type": "markdown",
     "metadata": {},
     "source": [
      "## Replace Elements in an Array"
     ]
    },
    {
     "cell_type": "code",
     "collapsed": false,
     "input": [
      "x = np.array(range(11))\n",
      "print(x)\n",
      "x[0:5] = np.zeros(5)\n",
      "print(x)\n",
      "x[0:5] = np.ones(5)\n",
      "print(x)"
     ],
     "language": "python",
     "metadata": {},
     "outputs": [
      {
       "output_type": "stream",
       "stream": "stdout",
       "text": [
        "[ 0  1  2  3  4  5  6  7  8  9 10]\n",
        "[ 0  0  0  0  0  5  6  7  8  9 10]\n",
        "[ 1  1  1  1  1  5  6  7  8  9 10]\n"
       ]
      }
     ],
     "prompt_number": 44
    },
    {
     "cell_type": "code",
     "collapsed": false,
     "input": [
      "y = np.zeros((4,5))\n",
      "print(y)\n",
      "y[1:3, 2:] = np.ones((2, 3))\n",
      "print(y)"
     ],
     "language": "python",
     "metadata": {},
     "outputs": [
      {
       "output_type": "stream",
       "stream": "stdout",
       "text": [
        "[[ 0.  0.  0.  0.  0.]\n",
        " [ 0.  0.  0.  0.  0.]\n",
        " [ 0.  0.  0.  0.  0.]\n",
        " [ 0.  0.  0.  0.  0.]]\n",
        "[[ 0.  0.  0.  0.  0.]\n",
        " [ 0.  0.  1.  1.  1.]\n",
        " [ 0.  0.  1.  1.  1.]\n",
        " [ 0.  0.  0.  0.  0.]]\n"
       ]
      }
     ],
     "prompt_number": 45
    },
    {
     "cell_type": "markdown",
     "metadata": {},
     "source": [
      "## Reshaping Arrays"
     ]
    },
    {
     "cell_type": "code",
     "collapsed": false,
     "input": [
      "a = np.array(range(1, 13))\n",
      "print(a)\n",
      "b = np.reshape(a, (3, 4))\n",
      "print(b)\n",
      "x = np.array(range(1, 25))\n",
      "print(x)\n",
      "y = np.reshape(x, (2, 3, 4))\n",
      "print(y)"
     ],
     "language": "python",
     "metadata": {},
     "outputs": [
      {
       "output_type": "stream",
       "stream": "stdout",
       "text": [
        "[ 1  2  3  4  5  6  7  8  9 10 11 12]\n",
        "[[ 1  2  3  4]\n",
        " [ 5  6  7  8]\n",
        " [ 9 10 11 12]]\n",
        "[ 1  2  3  4  5  6  7  8  9 10 11 12 13 14 15 16 17 18 19 20 21 22 23 24]\n",
        "[[[ 1  2  3  4]\n",
        "  [ 5  6  7  8]\n",
        "  [ 9 10 11 12]]\n",
        "\n",
        " [[13 14 15 16]\n",
        "  [17 18 19 20]\n",
        "  [21 22 23 24]]]\n"
       ]
      }
     ],
     "prompt_number": 46
    },
    {
     "cell_type": "code",
     "collapsed": false,
     "input": [
      "y = np.reshape(y, (4, 3, 2)) # In place reshaping\n",
      "print(y)"
     ],
     "language": "python",
     "metadata": {},
     "outputs": [
      {
       "output_type": "stream",
       "stream": "stdout",
       "text": [
        "[[[ 1  2]\n",
        "  [ 3  4]\n",
        "  [ 5  6]]\n",
        "\n",
        " [[ 7  8]\n",
        "  [ 9 10]\n",
        "  [11 12]]\n",
        "\n",
        " [[13 14]\n",
        "  [15 16]\n",
        "  [17 18]]\n",
        "\n",
        " [[19 20]\n",
        "  [21 22]\n",
        "  [23 24]]]\n"
       ]
      }
     ],
     "prompt_number": 47
    },
    {
     "cell_type": "markdown",
     "metadata": {},
     "source": [
      "## Array Operations\n",
      "Operations on arrays, such as addition, subtraction are performed on arrays woth compatible sizes and are elementwise operations. Array multiplication can be performed either elementwise (if arrays are of the same size) or as a matrix/array operation (if sizes are compatible). Other mathematical operations such as trigonometric, logarithmic, exponential, hyperbolic can also be performed on arrays, wherein the operation is performed on each element of the array."
     ]
    },
    {
     "cell_type": "code",
     "collapsed": false,
     "input": [
      "x = np.array([range(1,6), range(6,11), range(11,16)])\n",
      "print(x)\n",
      "y = np.array([range(11,16), range(16,21), range(21, 26)])\n",
      "print(y)\n",
      "z = x + y\n",
      "print(z)\n",
      "print(y - x)\n",
      "print(x * y)\n",
      "print(np.dot(x, y.T))\n",
      "print(np.sin(x))\n",
      "print(np.dot(x, y)) # ERROR"
     ],
     "language": "python",
     "metadata": {},
     "outputs": [
      {
       "output_type": "stream",
       "stream": "stdout",
       "text": [
        "[[ 1  2  3  4  5]\n",
        " [ 6  7  8  9 10]\n",
        " [11 12 13 14 15]]\n",
        "[[11 12 13 14 15]\n",
        " [16 17 18 19 20]\n",
        " [21 22 23 24 25]]\n",
        "[[12 14 16 18 20]\n",
        " [22 24 26 28 30]\n",
        " [32 34 36 38 40]]\n",
        "[[10 10 10 10 10]\n",
        " [10 10 10 10 10]\n",
        " [10 10 10 10 10]]\n",
        "[[ 11  24  39  56  75]\n",
        " [ 96 119 144 171 200]\n",
        " [231 264 299 336 375]]\n",
        "[[ 205  280  355]\n",
        " [ 530  730  930]\n",
        " [ 855 1180 1505]]\n",
        "[[ 0.84147098  0.90929743  0.14112001 -0.7568025  -0.95892427]\n",
        " [-0.2794155   0.6569866   0.98935825  0.41211849 -0.54402111]\n",
        " [-0.99999021 -0.53657292  0.42016704  0.99060736  0.65028784]]\n"
       ]
      },
      {
       "ename": "ValueError",
       "evalue": "shapes (3,5) and (3,5) not aligned: 5 (dim 1) != 3 (dim 0)",
       "output_type": "pyerr",
       "traceback": [
        "\u001b[1;31m---------------------------------------------------------------------------\u001b[0m\n\u001b[1;31mValueError\u001b[0m                                Traceback (most recent call last)",
        "\u001b[1;32m<ipython-input-48-63d541f0289b>\u001b[0m in \u001b[0;36m<module>\u001b[1;34m()\u001b[0m\n\u001b[0;32m      9\u001b[0m \u001b[1;32mprint\u001b[0m\u001b[1;33m(\u001b[0m\u001b[0mnp\u001b[0m\u001b[1;33m.\u001b[0m\u001b[0mdot\u001b[0m\u001b[1;33m(\u001b[0m\u001b[0mx\u001b[0m\u001b[1;33m,\u001b[0m \u001b[0my\u001b[0m\u001b[1;33m.\u001b[0m\u001b[0mT\u001b[0m\u001b[1;33m)\u001b[0m\u001b[1;33m)\u001b[0m\u001b[1;33m\u001b[0m\u001b[0m\n\u001b[0;32m     10\u001b[0m \u001b[1;32mprint\u001b[0m\u001b[1;33m(\u001b[0m\u001b[0mnp\u001b[0m\u001b[1;33m.\u001b[0m\u001b[0msin\u001b[0m\u001b[1;33m(\u001b[0m\u001b[0mx\u001b[0m\u001b[1;33m)\u001b[0m\u001b[1;33m)\u001b[0m\u001b[1;33m\u001b[0m\u001b[0m\n\u001b[1;32m---> 11\u001b[1;33m \u001b[1;32mprint\u001b[0m\u001b[1;33m(\u001b[0m\u001b[0mnp\u001b[0m\u001b[1;33m.\u001b[0m\u001b[0mdot\u001b[0m\u001b[1;33m(\u001b[0m\u001b[0mx\u001b[0m\u001b[1;33m,\u001b[0m \u001b[0my\u001b[0m\u001b[1;33m)\u001b[0m\u001b[1;33m)\u001b[0m \u001b[1;31m# ERROR\u001b[0m\u001b[1;33m\u001b[0m\u001b[0m\n\u001b[0m",
        "\u001b[1;31mValueError\u001b[0m: shapes (3,5) and (3,5) not aligned: 5 (dim 1) != 3 (dim 0)"
       ]
      }
     ],
     "prompt_number": 48
    },
    {
     "cell_type": "markdown",
     "metadata": {},
     "source": [
      "## Polynomials\n",
      "Let us construct the polynomial $x^2 + 2x + 3$. Polynomials are represented by a one dimensioned array "
     ]
    },
    {
     "cell_type": "code",
     "collapsed": false,
     "input": [
      "p = np.poly1d([1, 2, 3])\n",
      "print(np.poly1d(p))\n",
      "print(p(0.5))\n",
      "print(p.r)\n",
      "print(p.c)"
     ],
     "language": "python",
     "metadata": {},
     "outputs": []
    },
    {
     "cell_type": "code",
     "collapsed": false,
     "input": [
      "p1 = p * p\n",
      "print(p1)"
     ],
     "language": "python",
     "metadata": {},
     "outputs": []
    },
    {
     "cell_type": "code",
     "collapsed": false,
     "input": [
      "p2 = np.poly1d([1, 2], True)\n",
      "print(p2)\n",
      "print(p2.c)\n",
      "print(p2.r)"
     ],
     "language": "python",
     "metadata": {},
     "outputs": []
    },
    {
     "cell_type": "markdown",
     "metadata": {},
     "source": [
      "## Polynomial Fit\n",
      "\n",
      "NumPy has the function **`polyfit()`** which is similar to the identically named function in Matlab. It returns the coefficients of a polynomial of the specified order obtained by least squares regression."
     ]
    },
    {
     "cell_type": "code",
     "collapsed": false,
     "input": [
      "%matplotlib inline\n",
      "import matplotlib.pyplot as plt\n",
      "\n",
      "x = np.array([1950, 1960, 1970, 1980, 1990, 2000])              # x values\n",
      "y = np.array([151326, 179323, 203302, 226542, 249633, 281422])  # y values\n",
      "\n",
      "coeff = np.polyfit(x, y, 1) # Calculate the coefficients of a linear fit\n",
      "poly = np.poly1d(coeff)\n",
      "print('Polynomial equation:', poly)\n",
      "yc = poly(x)\n",
      "\n",
      "for xx, yy, yyc in zip(x, y, yc):\n",
      "    print(xx, yy, yyc)\n",
      "\n",
      "plt.plot(x, y, 'o')\n",
      "plt.plot(x, yc)\n",
      "plt.grid()\n",
      "plt.legend(['Actual', 'Calculated'], loc='best')\n",
      "plt.show()"
     ],
     "language": "python",
     "metadata": {},
     "outputs": []
    },
    {
     "cell_type": "code",
     "collapsed": false,
     "input": [
      "c2, cov = np.polyfit(x, y, 2, cov=True)\n",
      "p2 = np.poly1d(c2)\n",
      "yc2 = p2(x)\n",
      "print(cov)\n",
      "for xx, yy, yyc, yyc2 in zip(x, y, yc, yc2):\n",
      "    print(xx, yy, yyc, yyc2)\n",
      "\n",
      "plt.plot(x, y, 'o')\n",
      "plt.plot(x, yc)\n",
      "plt.plot(x, yc2)\n",
      "plt.grid()\n",
      "plt.legend(['Actual', 'Linear', 'Parabolic'], loc='best')\n",
      "plt.show()"
     ],
     "language": "python",
     "metadata": {},
     "outputs": []
    },
    {
     "cell_type": "code",
     "collapsed": false,
     "input": [
      "x = np.array([0.0, 1.0, 2.0, 3.0,  4.0,  5.0])\n",
      "y = np.array([0.0, 0.8, 0.9, 0.1, -0.8, -1.0])\n",
      "c1 = np.polyfit(x, y, 1)\n",
      "c2 = np.polyfit(x, y, 2)\n",
      "c3 = np.polyfit(x, y, 3)\n",
      "c4 = np.polyfit(x, y, 10)\n",
      "\n",
      "p1 = np.poly1d(c1)\n",
      "p2 = np.poly1d(c2)\n",
      "p3 = np.poly1d(c3)\n",
      "p4 = np.poly1d(c4)\n",
      "\n",
      "xx = np.linspace(x[0], x[-1], 101)\n",
      "yc1 = p1(xx)\n",
      "yc2 = p2(xx)\n",
      "yc3 = p3(xx)\n",
      "yc4 = p4(xx)\n",
      "\n",
      "plt.plot(x, y, 'o')\n",
      "plt.plot(xx, yc1)\n",
      "plt.plot(xx, yc2)\n",
      "plt.plot(xx, yc3)\n",
      "plt.plot(xx, yc4)\n",
      "plt.grid()\n",
      "plt.legend(('Data', 'Linear', 'Parabolic', 'Cubic', 'Order 4'), loc='lower left')\n",
      "plt.show()"
     ],
     "language": "python",
     "metadata": {},
     "outputs": []
    },
    {
     "cell_type": "markdown",
     "metadata": {},
     "source": [
      "# Execution Speeds\n",
      "NumPy module has operations that are optimized for speed. Therefore, using the NumPy operations is faster than writing your own loops. For example, if we have two vectors (having the same size) and we want to create a new vector that is the product of the corresponding elements of the given arrays. That is, **`c = a * b`** where $a$ and $b$ are two vectors and we want an element-wise product $c_i = a_i * b_i$. This can be pwerformed in two ways - we can use the operator **`*`** supported by NumPy or we can write our onwn loop for the purpose."
     ]
    },
    {
     "cell_type": "code",
     "collapsed": false,
     "input": [
      "a = np.arange(1., 6)\n",
      "b = np.arange(11., 16)\n",
      "print(a)\n",
      "print(b)\n",
      "c = a * b\n",
      "print(c)\n",
      "\n",
      "def prod(a, b):\n",
      "    c = np.zeros(a.shape)\n",
      "    for i in range(len(a)):\n",
      "        c[i] = a[i] * b[i]\n",
      "    return c\n",
      "\n",
      "d = prod(a, b)\n",
      "print(d)"
     ],
     "language": "python",
     "metadata": {},
     "outputs": []
    },
    {
     "cell_type": "markdown",
     "metadata": {},
     "source": [
      "Now, let us compare their execution speeds. IPython has a **magic** command **`%timeit`** that executes Python code in a loop several times and determine the average time per loop. We will use this command to time the execution of the two different ways of finding the elementwise product."
     ]
    },
    {
     "cell_type": "code",
     "collapsed": false,
     "input": [
      "%timeit c = a * b"
     ],
     "language": "python",
     "metadata": {},
     "outputs": []
    },
    {
     "cell_type": "code",
     "collapsed": false,
     "input": [
      "%timeit d = prod(a, b)"
     ],
     "language": "python",
     "metadata": {},
     "outputs": []
    },
    {
     "cell_type": "markdown",
     "metadata": {},
     "source": [
      "From the execution times, we can see that the NumPy operator is much faster than our function using a loop. The main reason the loop is slow because of the fact that the data type of loop variable **`i`** is dynamic. If the data type of **`i`** were static, it would be possible to speed up the execution of this function. There is a way in which this can be donw, using a Python module named **Cython**, but we will not cover it here."
     ]
    },
    {
     "cell_type": "code",
     "collapsed": false,
     "input": [
      "print(3.32/0.487)"
     ],
     "language": "python",
     "metadata": {},
     "outputs": []
    },
    {
     "cell_type": "code",
     "collapsed": false,
     "input": [],
     "language": "python",
     "metadata": {},
     "outputs": []
    }
   ],
   "metadata": {}
  }
 ]
}