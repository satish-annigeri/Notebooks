{
 "metadata": {
  "name": "",
  "signature": "sha256:c16e73fcd1b2b4899d10abd8810db54a53166602a8be9d933e7f352017cd421b"
 },
 "nbformat": 3,
 "nbformat_minor": 0,
 "worksheets": [
  {
   "cells": [
    {
     "cell_type": "markdown",
     "metadata": {},
     "source": [
      "# Flow Control\n",
      "* **`for`** loop\n",
      "* **`while`** loop\n",
      "* **`if`**, **`elif`**, **`else`**\n",
      "\n",
      "## **`for`** Loop\n",
      "* Iterate over elements in a container\n",
      "* Enumerate elements in a container"
     ]
    },
    {
     "cell_type": "code",
     "collapsed": false,
     "input": [
      "from __future__ import print_function, division\n",
      "import numpy as np\n",
      "\n",
      "a = range(0, 11, 2)\n",
      "print(a)\n",
      "\n",
      "for x in a:\n",
      "    print(x, end=\" \")"
     ],
     "language": "python",
     "metadata": {},
     "outputs": [
      {
       "output_type": "stream",
       "stream": "stdout",
       "text": [
        "[0, 2, 4, 6, 8, 10]\n",
        "0 2 4 6 8 10 "
       ]
      }
     ],
     "prompt_number": 8
    },
    {
     "cell_type": "markdown",
     "metadata": {},
     "source": [
      "Knowing the length of the list, we can iterate over the elements of the list:"
     ]
    },
    {
     "cell_type": "code",
     "collapsed": false,
     "input": [
      "for i in range(len(a)):\n",
      "    print(i, a[i])"
     ],
     "language": "python",
     "metadata": {},
     "outputs": [
      {
       "output_type": "stream",
       "stream": "stdout",
       "text": [
        "0 0\n",
        "1 2\n",
        "2 4\n",
        "3 6\n",
        "4 8\n",
        "5 10\n"
       ]
      }
     ],
     "prompt_number": 2
    },
    {
     "cell_type": "markdown",
     "metadata": {},
     "source": [
      "We can enumerate the list"
     ]
    },
    {
     "cell_type": "code",
     "collapsed": false,
     "input": [
      "for i, x in enumerate(a):\n",
      "    print(i, x)"
     ],
     "language": "python",
     "metadata": {},
     "outputs": [
      {
       "output_type": "stream",
       "stream": "stdout",
       "text": [
        "0 0\n",
        "1 2\n",
        "2 4\n",
        "3 6\n",
        "4 8\n",
        "5 10\n"
       ]
      }
     ],
     "prompt_number": 3
    },
    {
     "cell_type": "code",
     "collapsed": false,
     "input": [
      "b = [10.0, -2.0, \"GNUnify2015\"]\n",
      "for x in b:\n",
      "    print(x)"
     ],
     "language": "python",
     "metadata": {},
     "outputs": [
      {
       "output_type": "stream",
       "stream": "stdout",
       "text": [
        "10.0\n",
        "-2.0\n",
        "GNUnify2015\n"
       ]
      }
     ],
     "prompt_number": 4
    },
    {
     "cell_type": "markdown",
     "metadata": {},
     "source": [
      "# While Loop"
     ]
    },
    {
     "cell_type": "code",
     "collapsed": false,
     "input": [
      "i = 0\n",
      "while i <= 10:\n",
      "    print(i)\n",
      "    i += 2"
     ],
     "language": "python",
     "metadata": {},
     "outputs": [
      {
       "output_type": "stream",
       "stream": "stdout",
       "text": [
        "0\n",
        "2\n",
        "4\n",
        "6\n",
        "8\n",
        "10\n"
       ]
      }
     ],
     "prompt_number": 5
    },
    {
     "cell_type": "code",
     "collapsed": false,
     "input": [
      "i = 10\n",
      "while i > 0:\n",
      "    print(i)\n",
      "    i -= 2"
     ],
     "language": "python",
     "metadata": {},
     "outputs": [
      {
       "output_type": "stream",
       "stream": "stdout",
       "text": [
        "10\n",
        "8\n",
        "6\n",
        "4\n",
        "2\n"
       ]
      }
     ],
     "prompt_number": 6
    },
    {
     "cell_type": "markdown",
     "metadata": {},
     "source": [
      "## `if`, `elif`, `else`\n",
      "\n"
     ]
    },
    {
     "cell_type": "code",
     "collapsed": false,
     "input": [
      "x = [10, 5, 0, -5, -10]\n",
      "for xx in x:\n",
      "    if xx == 0:\n",
      "        pass\n",
      "    else:\n",
      "        print(1 / xx)"
     ],
     "language": "python",
     "metadata": {},
     "outputs": [
      {
       "output_type": "stream",
       "stream": "stdout",
       "text": [
        "0.1\n",
        "0.2\n",
        "-0.2\n",
        "-0.1\n"
       ]
      }
     ],
     "prompt_number": 7
    },
    {
     "cell_type": "code",
     "collapsed": false,
     "input": [
      "a = (np.random.rand(5) - 0.5) * 10\n",
      "print(a)\n",
      "for x in a:\n",
      "    if x > 0:\n",
      "        print(x, 'is positive')\n",
      "    elif x == 0:\n",
      "        print(x, 'is zero')\n",
      "    else:\n",
      "        print(x, 'is negative')"
     ],
     "language": "python",
     "metadata": {},
     "outputs": [
      {
       "output_type": "stream",
       "stream": "stdout",
       "text": [
        "[ -1.84954258e-03   1.37948905e+00   2.35897085e+00  -4.99402852e+00\n",
        "   2.36943918e+00]\n",
        "-0.00184954257874 is negative\n",
        "1.379489049 is positive\n",
        "2.35897085088 is positive\n",
        "-4.99402852206 is negative\n",
        "2.36943918387 is positive\n"
       ]
      }
     ],
     "prompt_number": 17
    },
    {
     "cell_type": "markdown",
     "metadata": {},
     "source": [
      "# Python Functions\n",
      "Python supports both procedural as well as object oriented approaches to programming. Function is the building block of procedural approach and considers a program as a task. It attempts to accomplish a task by subdividing it into subtasks and delegating each task or subtask to one function. A typical program can then be thought of as a hierarchy of functions, a complex function in turn depending on one or more functions.\n",
      "\n",
      "**NOTE**\n",
      "\n",
      "1. Indentation is **required**\n",
      "2. Most people new to Python find this requirement a little disconcerting, but you will begin to appreciate it once you get used to it"
     ]
    },
    {
     "cell_type": "code",
     "collapsed": false,
     "input": [
      "def getArea(l, b):\n",
      "    return l * b\n",
      "\n",
      "a = getArea(10, 2.5)\n",
      "print('Area =', a)"
     ],
     "language": "python",
     "metadata": {},
     "outputs": [
      {
       "output_type": "stream",
       "stream": "stdout",
       "text": [
        "Area = 25.0\n"
       ]
      }
     ],
     "prompt_number": 10
    },
    {
     "cell_type": "markdown",
     "metadata": {},
     "source": [
      "Typically, a Python function has a name that is unique within its namespace, zero or more input parameters, zero or more output parameters and a body consisting of Python code.\n",
      "\n",
      "## Multiple Return Values\n",
      "\n",
      "A Python function can return more than one result to the calling function. When a Python function returns only one result, it is analogous to a C language function. When it does not return any result, it is analogous to a C language function that returns **`void`**."
     ]
    },
    {
     "cell_type": "code",
     "collapsed": false,
     "input": [
      "def MinMax(L):\n",
      "    m1 = min(L)\n",
      "    m2 = max(L)\n",
      "    return (m1, m2)\n",
      "\n",
      "a = [10, 2, -3, 7, 9]\n",
      "b = MinMax(a)\n",
      "print(type(b), b)"
     ],
     "language": "python",
     "metadata": {},
     "outputs": [
      {
       "output_type": "stream",
       "stream": "stdout",
       "text": [
        "<type 'tuple'> (-3, 10)\n"
       ]
      }
     ],
     "prompt_number": 11
    },
    {
     "cell_type": "code",
     "collapsed": false,
     "input": [
      "x, y = MinMax(a)   # Unpack the tuple returned by MinMax()\n",
      "print('Min =', x, 'Max =', y)"
     ],
     "language": "python",
     "metadata": {},
     "outputs": [
      {
       "output_type": "stream",
       "stream": "stdout",
       "text": [
        "Min = -3 Max = 10\n"
       ]
      }
     ],
     "prompt_number": 12
    },
    {
     "cell_type": "code",
     "collapsed": false,
     "input": [
      "print(MinMax(a) * 2) # Multiply the tuple returned by MinMax() with 2"
     ],
     "language": "python",
     "metadata": {},
     "outputs": [
      {
       "output_type": "stream",
       "stream": "stdout",
       "text": [
        "(-3, 10, -3, 10)\n"
       ]
      }
     ],
     "prompt_number": 13
    },
    {
     "cell_type": "markdown",
     "metadata": {},
     "source": [
      "## Function Arguments\n",
      "\n",
      "### Arguments  with Default Values\n",
      "\n",
      "You can assign default values to the input arguments. If that argument is not supplied when the function is called, the default value is used in its place."
     ]
    },
    {
     "cell_type": "code",
     "collapsed": false,
     "input": [
      "import math\n",
      "\n",
      "def posVector(x, y, z=0):\n",
      "    return math.sqrt(x**2 + y**2 + z**2)\n",
      "\n",
      "print(posVector(3, 4))\n",
      "print(posVector(2, 3, 4))"
     ],
     "language": "python",
     "metadata": {},
     "outputs": [
      {
       "output_type": "stream",
       "stream": "stdout",
       "text": [
        "5.0\n",
        "5.38516480713\n"
       ]
      }
     ],
     "prompt_number": 14
    },
    {
     "cell_type": "markdown",
     "metadata": {},
     "source": [
      "### Positional Arguments\n",
      "\n",
      "The positional arguments are available inside the function as a tuple. Thus they are matched by zero or more arguments during function call."
     ]
    },
    {
     "cell_type": "code",
     "collapsed": false,
     "input": [
      "def f1(*args):\n",
      "    print(type(args), len(args), args)\n",
      "    return\n",
      "\n",
      "f1(10, 20, 30)\n",
      "f1(1, 2, 3, 4, 5)\n",
      "f1()"
     ],
     "language": "python",
     "metadata": {},
     "outputs": [
      {
       "output_type": "stream",
       "stream": "stdout",
       "text": [
        "<type 'tuple'> 3 (10, 20, 30)\n",
        "<type 'tuple'> 5 (1, 2, 3, 4, 5)\n",
        "<type 'tuple'> 0 ()\n"
       ]
      }
     ],
     "prompt_number": 16
    },
    {
     "cell_type": "markdown",
     "metadata": {},
     "source": [
      "### Keyword Arguments\n",
      "\n",
      "Keyword arguments are available inside a function as a dictionary. Names associated with the argument is specified during the function call. Thus they are matched by zero or more named arguments during function call."
     ]
    },
    {
     "cell_type": "code",
     "collapsed": false,
     "input": [
      "def f2(**kwargs):\n",
      "    print(type(kwargs), len(kwargs), kwargs)\n",
      "    return\n",
      "\n",
      "f2(a = 10, b = 'Spam')\n",
      "f2(x = 10, y = 20, z = 'Spam')\n",
      "f2()"
     ],
     "language": "python",
     "metadata": {},
     "outputs": [
      {
       "output_type": "stream",
       "stream": "stdout",
       "text": [
        "<type 'dict'> 2 {'a': 10, 'b': 'Spam'}\n",
        "<type 'dict'> 3 {'y': 20, 'x': 10, 'z': 'Spam'}\n",
        "<type 'dict'> 0 {}\n"
       ]
      }
     ],
     "prompt_number": 17
    },
    {
     "cell_type": "code",
     "collapsed": false,
     "input": [
      "def f3(*args, **kwargs):\n",
      "    print(len(args), len(kwargs))\n",
      "    print(args)\n",
      "    print(kwargs)\n",
      "    return\n",
      "\n",
      "f3(1, 'Spam', i = 10, j = 'Foo')"
     ],
     "language": "python",
     "metadata": {},
     "outputs": [
      {
       "output_type": "stream",
       "stream": "stdout",
       "text": [
        "2 2\n",
        "(1, 'Spam')\n",
        "{'i': 10, 'j': 'Foo'}\n"
       ]
      }
     ],
     "prompt_number": 18
    },
    {
     "cell_type": "markdown",
     "metadata": {},
     "source": [
      "## Combination of Different Types of Arguments\n",
      "A function can have a combination of any of these types of arguments."
     ]
    },
    {
     "cell_type": "code",
     "collapsed": false,
     "input": [
      "def f4(a, b=20, *args, **kwargs): # 2 normal args (1 with default value), positional args, keyword args\n",
      "    print(a)\n",
      "    print(b)\n",
      "    print('args:', args)\n",
      "    print('kwargs:', kwargs)\n",
      "    return\n",
      "\n",
      "f4(10, 30, 40, 50, x=100)"
     ],
     "language": "python",
     "metadata": {},
     "outputs": [
      {
       "output_type": "stream",
       "stream": "stdout",
       "text": [
        "10\n",
        "30\n",
        "args: (40, 50)\n",
        "kwargs: {'x': 100}\n"
       ]
      }
     ],
     "prompt_number": 19
    },
    {
     "cell_type": "code",
     "collapsed": false,
     "input": [
      "f4(10, 50, y = 100)"
     ],
     "language": "python",
     "metadata": {},
     "outputs": [
      {
       "output_type": "stream",
       "stream": "stdout",
       "text": [
        "10\n",
        "50\n",
        "args: ()\n",
        "kwargs: {'y': 100}\n"
       ]
      }
     ],
     "prompt_number": 20
    },
    {
     "cell_type": "code",
     "collapsed": false,
     "input": [
      "f4(10, 20, 30, 40)"
     ],
     "language": "python",
     "metadata": {},
     "outputs": [
      {
       "output_type": "stream",
       "stream": "stdout",
       "text": [
        "10\n",
        "20\n",
        "args: (30, 40)\n",
        "kwargs: {}\n"
       ]
      }
     ],
     "prompt_number": 21
    },
    {
     "cell_type": "code",
     "collapsed": false,
     "input": [
      "f4(10, 20, 30, 40, 50, z = 100)"
     ],
     "language": "python",
     "metadata": {},
     "outputs": [
      {
       "output_type": "stream",
       "stream": "stdout",
       "text": [
        "10\n",
        "20\n",
        "args: (30, 40, 50)\n",
        "kwargs: {'z': 100}\n"
       ]
      }
     ],
     "prompt_number": 22
    },
    {
     "cell_type": "markdown",
     "metadata": {},
     "source": [
      "## Rules for Arguments\n",
      "Here are the rules to keep in mind:\n",
      "\n",
      "1. Normal arguments are defined first. If defined, they must be exactly matched by the arguments supplied during function call\n",
      "2. Normal arguments with default values are optional. If present, they appear at the end of the list of normal arguments\n",
      "3. Positional arguments are optional, and if present, must come after the normal arguments\n",
      "4. Keyword arguments are optional, and if present, must come last"
     ]
    },
    {
     "cell_type": "markdown",
     "metadata": {},
     "source": [
      "## Designing Function Interfaces\n",
      "A function has two distinct parts:\n",
      "\n",
      "* The interface consists of \n",
      "  * A statement explaining the purpose of the function\n",
      "  * The name of the function\n",
      "  * Its input arguments, if any\n",
      "  * Its output arguments, if any\n",
      "  * Its input and output arguments, if any\n",
      "* Body of the function, consisting of program code that processes the input to produce the output\n",
      "\n",
      "Body of the function is the implementation of the algorithm. The interface of the function requires careful thought, and this is what I wish to call the process of \"designing the function\". The word design implies application of conscious thought and effort that ensures that the outcome of an activity is the same as or close to what is initially planned or intended.\n",
      "\n",
      "As the designer of a function, it is not enough if you simply ensure that the function does what it claims to do. In addition, it must also have several other attributes:\n",
      "\n",
      "* Have a cryptic but self explanatory name that indicates what it does\n",
      "* Have a list of input variables that is short but complete\n",
      "* Have the input arguments that are arranged in a sequence that is logical and obvious\n",
      "\n",
      "Consider the following example, where we wish to write a function to calculate the length of a line segment joining two points in a plane. This statement specifies what the function is intended to do. Next comes the question what input do we need to achieve this objective. The answer to this question is not unique. Two possible answers to this question are:\n",
      "\n",
      "* Input arguments consist of $x_1, y_1, x_2, y_2$ which are the $x$ and $y$ coordinates of the points connected by the line segment.\n",
      "* Input arguments consist of two one-dimensioned arrays, each array containing two elements representing the coordinates of the points\n",
      "\n",
      "Then asking ourselves in what sequence ar ethese arguments are most logical, we could come out with different answers. For example, for the first choice of arguments, they could be arranged in several different sequences:\n",
      "\n",
      "* $x_1, y_1, x_2, y_2$,\n",
      "* $x_1, x_2, y_1, y_2$,\n",
      "* $x_1, y_2, x_2, y_1$, or \n",
      "* some other sequence\n",
      "\n",
      "For the second choice, thankfully we have only two alternatives:\n",
      "\n",
      "* $p_1, p_2$, or\n",
      "* $p_2, p_1$\n",
      "\n",
      "To decide on which choice to adopt, ask yourself the following questions:\n",
      "\n",
      "* Is it logical?\n",
      "* Is it easy to remember?\n",
      "* Does it offer additional benefits compared to the others?\n",
      "\n",
      "While personal tastes may vary, the following choice to use $p_1, p_2$ rather than $x_1, y_1, x_2, y_2$ could be relatively easily defended as it is\n",
      "\n",
      "* More logical to use\n",
      "* It more closely represents the problem at hand,\n",
      "* Is less confusing and easy to remember\n",
      "* Offers the advantage that if we want to extend the function to compute the length of a line in 3D space, we need not change the input arguments, except that it will now contain 3 elements instead of two\n"
     ]
    },
    {
     "cell_type": "code",
     "collapsed": false,
     "input": [
      "import numpy as np\n",
      "\n",
      "def linelen(p1, p2):\n",
      "    projections = p2 - p1\n",
      "    L = np.sqrt(sum(projections**2))\n",
      "    return L\n",
      "\n",
      "print(linelen(np.array([0., 0.]), np.array([3., 4.])))"
     ],
     "language": "python",
     "metadata": {},
     "outputs": [
      {
       "output_type": "stream",
       "stream": "stdout",
       "text": [
        "5.0\n"
       ]
      }
     ],
     "prompt_number": 23
    },
    {
     "cell_type": "code",
     "collapsed": false,
     "input": [
      "print(linelen(np.array([0., 0., 0.]), np.array([3., 4., 5.])))"
     ],
     "language": "python",
     "metadata": {},
     "outputs": [
      {
       "output_type": "stream",
       "stream": "stdout",
       "text": [
        "7.07106781187\n"
       ]
      }
     ],
     "prompt_number": 24
    },
    {
     "cell_type": "code",
     "collapsed": false,
     "input": [],
     "language": "python",
     "metadata": {},
     "outputs": [],
     "prompt_number": 14
    }
   ],
   "metadata": {}
  }
 ]
}