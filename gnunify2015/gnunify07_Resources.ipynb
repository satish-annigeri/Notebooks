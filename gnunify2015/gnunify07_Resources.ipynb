{
 "metadata": {
  "name": "",
  "signature": "sha256:6fe467c549e24f5efa71ea074143ef6c1616da5c7d1b3947f6c8a3c5026eeb66"
 },
 "nbformat": 3,
 "nbformat_minor": 0,
 "worksheets": [
  {
   "cells": [
    {
     "cell_type": "markdown",
     "metadata": {},
     "source": [
      "# Python Resources\n",
      "\n",
      "## Python Software\n",
      "1. http://www.python.org\n",
      "2. http://pypi.python.org\n",
      "3. http://continuum.io Anaconda scientific Python distribution\n",
      "4. http://www.enthought.com Canopy scientific Python distribution\n",
      "5. https://code.google.com/p/pythonxy/ A scientific Python distribution for Microsoft Windows\n",
      "6. http://www.lfd.uci.edu/~gohlke/pythonlibs/ Christoph Gohlke's unofficial Windows binaries for Python extension packages"
     ]
    },
    {
     "cell_type": "markdown",
     "metadata": {},
     "source": [
      "## Python Books\n",
      "1. Free online HTML book **Shaw, Z.A., Learn Python the Hard Way** http://learnpythonthehardway.org/book/\n",
      "2. Free PDF book **Swarup, C.H., A Byte of Python** http://files.swaroopch.com/python/byte_of_python.pdf\n",
      "\n",
      "## Scientific Python Books\n",
      "1. **Sheppard, K., Introduction to Python for Econometrics, Statistics and Data Analysis, 2ed** http://www.kevinsheppard.com/images/0/09/Python_introduction.pdf\n",
      "2. **Sargent, T. and Stachurski, J., Quantitative Economics with Python** http://quant-econ.net/_static/pdfs/py-quant-econ.pdf\n",
      "3. Python Scientific Lecture Notes https://scipy-lectures.github.io/"
     ]
    },
    {
     "cell_type": "code",
     "collapsed": false,
     "input": [],
     "language": "python",
     "metadata": {},
     "outputs": []
    }
   ],
   "metadata": {}
  }
 ]
}