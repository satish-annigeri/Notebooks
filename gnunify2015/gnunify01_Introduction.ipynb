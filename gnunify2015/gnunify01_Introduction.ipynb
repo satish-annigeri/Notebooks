{
 "metadata": {
  "name": "",
  "signature": "sha256:1a69a58105b2b530f5821914f9b094d3bb40af2a9a6903fe561c73058cc8857d"
 },
 "nbformat": 3,
 "nbformat_minor": 0,
 "worksheets": [
  {
   "cells": [
    {
     "cell_type": "markdown",
     "metadata": {},
     "source": [
      "# Introduction to Python\n",
      "\n",
      "1. Python is a dynamic (interpreted) programming language\n",
      "2. Python is case sensitive and weakly typed (data type of objects need not be declared before being used, and can be changed during program execution)\n",
      "3. Indentation is required, not optional\n",
      "4. There are two versions of Python available at this point of time, Python 2.7.x and Python 3.3.x. Python 3 is not fully backward compatible with  Python 2\n",
      "5. We are using Python 2.7.x\n",
      "\n",
      "## Version of Python\n",
      "Currently there are two versions of Python that are available for use and are under development. **Python 2** is currently in version **2.7.x** and **Python 3** is in version **3.4.x**. In the near future, development will stop for Python 2.\n",
      "\n",
      "There are some differences from Python 2 to Python 3 that are not backward compatible. Some of them which affect scientific computing are:\n",
      "* **`print`** is a statement in Python 2 where as it is a function in Python 3.\n",
      "* In Python 2, **`/`** performs an integer division when both numerator and denominator are integers and a floating point division if one or both of them are floating point numbers. In Python 3, **`/`** always performs a floating point division (even when both numerator and denominatoe are integers) and a new operator **`//`** is available to perform integer division\n",
      "\n",
      "This behaviour of Python 3 can be used in Python 2 with the help of **`from __future__ import print_function, division`** import statement. We will use this throughout this workshop."
     ]
    },
    {
     "cell_type": "code",
     "collapsed": false,
     "input": [
      "import sys\n",
      "\n",
      "print(sys.version)"
     ],
     "language": "python",
     "metadata": {},
     "outputs": [
      {
       "output_type": "stream",
       "stream": "stdout",
       "text": [
        "2.7.9 |Continuum Analytics, Inc.| (default, Dec 15 2014, 10:33:51) \n",
        "[GCC 4.4.7 20120313 (Red Hat 4.4.7-1)]\n"
       ]
      }
     ],
     "prompt_number": 1
    },
    {
     "cell_type": "markdown",
     "metadata": {},
     "source": [
      "## Creating Variables and Determining Their Type\n",
      "\n",
      "Data type of an object is determined automatically by Python. Python understands complex numbers.\n",
      "\n",
      "### Basic Data Types\n",
      "* `int` - Integer\n",
      "* `float` - Floating point number\n",
      "* `complex` - Complex number\n",
      "* `bool` - Boolean"
     ]
    },
    {
     "cell_type": "code",
     "collapsed": false,
     "input": [
      "from __future__ import print_function, division\n",
      "\n",
      "a = 10\n",
      "print('a =', a, type(a))\n",
      "b = 2.5\n",
      "print('b =', b, type(b))\n",
      "c = 1e3\n",
      "print('c =', c, type(c))\n",
      "d = 1 + 2j\n",
      "print('d =', d, type(d))\n",
      "f = 2 < 3\n",
      "print(f, type(f))"
     ],
     "language": "python",
     "metadata": {},
     "outputs": [
      {
       "output_type": "stream",
       "stream": "stdout",
       "text": [
        "a = 10 <type 'int'>\n",
        "b = 2.5 <type 'float'>\n",
        "c = 1000.0 <type 'float'>\n",
        "d = (1+2j) <type 'complex'>\n",
        "True <type 'bool'>\n"
       ]
      }
     ],
     "prompt_number": 2
    },
    {
     "cell_type": "markdown",
     "metadata": {},
     "source": [
      "### Container Types\n",
      "* `str` - String\n",
      "* `list` - List\n",
      "* `tuple` - Tuple\n",
      "* `dict` - Dictionary\n",
      "* `set` - Set\n",
      "\n",
      "### Strings"
     ]
    },
    {
     "cell_type": "code",
     "collapsed": false,
     "input": [
      "a = 'gnuNify 2015'\n",
      "print(a, type(a))\n",
      "b = \"SICSR, Pune\"\n",
      "print(b, type(b))\n",
      "print(a[0])\n",
      "print(a[1])\n",
      "print('Length =', len(a))"
     ],
     "language": "python",
     "metadata": {},
     "outputs": [
      {
       "output_type": "stream",
       "stream": "stdout",
       "text": [
        "gnuNify 2015 <type 'str'>\n",
        "SICSR, Pune <type 'str'>\n",
        "g\n",
        "n\n",
        "Length = 12\n"
       ]
      }
     ],
     "prompt_number": 3
    },
    {
     "cell_type": "markdown",
     "metadata": {},
     "source": [
      "### Indexing and Slicing Container Data Types (Strings, Lists, Tuples)\n",
      "* Indexing starts with 0 (**zero**)\n",
      "* Indices are positive in the forward direction and negative in the reverse direction\n",
      "* Index $0$ is the initial ement\n",
      "* Index $-1$ is the last element"
     ]
    },
    {
     "cell_type": "code",
     "collapsed": false,
     "input": [
      "print(a[-1])\n",
      "print(a[-2])"
     ],
     "language": "python",
     "metadata": {},
     "outputs": [
      {
       "output_type": "stream",
       "stream": "stdout",
       "text": [
        "5\n",
        "1\n"
       ]
      }
     ],
     "prompt_number": 4
    },
    {
     "cell_type": "code",
     "collapsed": false,
     "input": [
      "for i, ch in enumerate(a):\n",
      "    print(i, ch)"
     ],
     "language": "python",
     "metadata": {},
     "outputs": [
      {
       "output_type": "stream",
       "stream": "stdout",
       "text": [
        "0 g\n",
        "1 n\n",
        "2 u\n",
        "3 N\n",
        "4 i\n",
        "5 f\n",
        "6 y\n",
        "7  \n",
        "8 2\n",
        "9 0\n",
        "10 1\n",
        "11 5\n"
       ]
      }
     ],
     "prompt_number": 5
    },
    {
     "cell_type": "markdown",
     "metadata": {},
     "source": [
      "### Lists\n",
      "* List is a container for heterogeneous data element\n",
      "* List elements can be accessed through indexing\n",
      "* Lists are mutable - the valu of its elements can be changed"
     ]
    },
    {
     "cell_type": "code",
     "collapsed": false,
     "input": [
      "x = [10, 20, 'Pune', 2+0j, ]\n",
      "print('Length =', len(x), 'Type =', type(x))\n",
      "print(x[0], x[1], x[2], x[3])\n",
      "print(x[-1], x[-2], x[-3], x[-4])\n",
      "print(x[0:2])\n",
      "print(x[-1:-3:-1])\n",
      "\n",
      "x[1] = 200\n",
      "print(x)"
     ],
     "language": "python",
     "metadata": {},
     "outputs": [
      {
       "output_type": "stream",
       "stream": "stdout",
       "text": [
        "Length = 4 Type = <type 'list'>\n",
        "10 20 Pune (2+0j)\n",
        "(2+0j) Pune 20 10\n",
        "[10, 20]\n",
        "[(2+0j), 'Pune']\n",
        "[10, 200, 'Pune', (2+0j)]\n"
       ]
      }
     ],
     "prompt_number": 6
    },
    {
     "cell_type": "markdown",
     "metadata": {},
     "source": [
      "### Tuples\n",
      "* Tuples are similar to Lists, but are **immutable** (the value of their elements cannot be changed"
     ]
    },
    {
     "cell_type": "code",
     "collapsed": false,
     "input": [
      "x = (10, 20, 'Pune', 2+0j)\n",
      "print('Length =', len(x), 'Type =', type(x))\n",
      "print(x[0], x[1], x[2], x[3])\n",
      "print(x[-1], x[-2], x[-3], x[-4])\n",
      "print(x[0:2])\n",
      "print(x[-1:-3:-1])\n",
      "\n",
      "x[1] = 200  # ERROR"
     ],
     "language": "python",
     "metadata": {},
     "outputs": [
      {
       "output_type": "stream",
       "stream": "stdout",
       "text": [
        "Length = 4 Type = <type 'tuple'>\n",
        "10 20 Pune (2+0j)\n",
        "(2+0j) Pune 20 10\n",
        "(10, 20)\n",
        "((2+0j), 'Pune')\n"
       ]
      },
      {
       "ename": "TypeError",
       "evalue": "'tuple' object does not support item assignment",
       "output_type": "pyerr",
       "traceback": [
        "\u001b[1;31m---------------------------------------------------------------------------\u001b[0m\n\u001b[1;31mTypeError\u001b[0m                                 Traceback (most recent call last)",
        "\u001b[1;32m<ipython-input-9-ca07095596d4>\u001b[0m in \u001b[0;36m<module>\u001b[1;34m()\u001b[0m\n\u001b[0;32m      6\u001b[0m \u001b[1;32mprint\u001b[0m\u001b[1;33m(\u001b[0m\u001b[0mx\u001b[0m\u001b[1;33m[\u001b[0m\u001b[1;33m-\u001b[0m\u001b[1;36m1\u001b[0m\u001b[1;33m:\u001b[0m\u001b[1;33m-\u001b[0m\u001b[1;36m3\u001b[0m\u001b[1;33m:\u001b[0m\u001b[1;33m-\u001b[0m\u001b[1;36m1\u001b[0m\u001b[1;33m]\u001b[0m\u001b[1;33m)\u001b[0m\u001b[1;33m\u001b[0m\u001b[0m\n\u001b[0;32m      7\u001b[0m \u001b[1;33m\u001b[0m\u001b[0m\n\u001b[1;32m----> 8\u001b[1;33m \u001b[0mx\u001b[0m\u001b[1;33m[\u001b[0m\u001b[1;36m1\u001b[0m\u001b[1;33m]\u001b[0m \u001b[1;33m=\u001b[0m \u001b[1;36m200\u001b[0m  \u001b[1;31m# ERROR\u001b[0m\u001b[1;33m\u001b[0m\u001b[0m\n\u001b[0m",
        "\u001b[1;31mTypeError\u001b[0m: 'tuple' object does not support item assignment"
       ]
      }
     ],
     "prompt_number": 9
    },
    {
     "cell_type": "markdown",
     "metadata": {},
     "source": [
      "### Tuple with One Element"
     ]
    },
    {
     "cell_type": "code",
     "collapsed": false,
     "input": [
      "a = (10)\n",
      "print(type(a))\n",
      "b = (10,)\n",
      "print(type(b))"
     ],
     "language": "python",
     "metadata": {},
     "outputs": [
      {
       "output_type": "stream",
       "stream": "stdout",
       "text": [
        "<type 'int'>\n",
        "<type 'tuple'>\n"
       ]
      }
     ],
     "prompt_number": 8
    },
    {
     "cell_type": "markdown",
     "metadata": {},
     "source": [
      "### Dictionaries\n",
      "* Dictionaries are (key, value) pairs\n",
      "* Indexing is done using the keys"
     ]
    },
    {
     "cell_type": "code",
     "collapsed": false,
     "input": [
      "d = {'a': 10, 'b': 20, 'name': \"Satish\", 'email': 'satish.annigeri@gmail.com'}\n",
      "print('Length =', len(d), type(d))\n",
      "print(d.keys())"
     ],
     "language": "python",
     "metadata": {},
     "outputs": []
    },
    {
     "cell_type": "markdown",
     "metadata": {},
     "source": [
      "## Operations, Expressions and Statements\n",
      "### Numbers\n",
      "* Addition, Subtraction, Multiplication, Division\n",
      "* Modulo division\n",
      "* Exponentiation"
     ]
    },
    {
     "cell_type": "code",
     "collapsed": false,
     "input": [
      "a = 10; b = 20; c = a + b\n",
      "print(type(c), c)\n",
      "a = 10.0; b = 20; c = a + b\n",
      "print(type(c), c)"
     ],
     "language": "python",
     "metadata": {},
     "outputs": []
    },
    {
     "cell_type": "code",
     "collapsed": false,
     "input": [
      "a = 7; b = 3; c = a / b\n",
      "print(c)\n",
      "d = a // b\n",
      "print(d)"
     ],
     "language": "python",
     "metadata": {},
     "outputs": []
    },
    {
     "cell_type": "code",
     "collapsed": false,
     "input": [
      "d = a % b\n",
      "print(d)\n",
      "print(7.0 % 3.0)"
     ],
     "language": "python",
     "metadata": {},
     "outputs": []
    },
    {
     "cell_type": "code",
     "collapsed": false,
     "input": [
      "print(2**2)\n",
      "print(2**0.5)\n",
      "print(2**-1)"
     ],
     "language": "python",
     "metadata": {},
     "outputs": []
    },
    {
     "cell_type": "markdown",
     "metadata": {},
     "source": [
      "### Standard Functions"
     ]
    },
    {
     "cell_type": "code",
     "collapsed": false,
     "input": [
      "print(abs(-10))\n",
      "print(abs(-10.5))\n",
      "print(abs(3+4j))\n",
      "print(sum([10, 20, 30]))\n",
      "print(sum((10, 30, 50)))"
     ],
     "language": "python",
     "metadata": {},
     "outputs": []
    },
    {
     "cell_type": "markdown",
     "metadata": {},
     "source": [
      "### Mathematical Functions\n",
      "\n",
      "Mathematical functions similar to the C math library functions available in **`math.h`** are available in a module **`math`**. A module, such as **``math``** may contain data (such as **``math.pi``**) and functions (such as **``math.sqrt``**). Importing a module creates a new namespace, containing everything the module contains. To use these data and/or functions, use the name of the module."
     ]
    },
    {
     "cell_type": "code",
     "collapsed": false,
     "input": [
      "import math\n",
      "help(math.sqrt)"
     ],
     "language": "python",
     "metadata": {},
     "outputs": []
    },
    {
     "cell_type": "code",
     "collapsed": false,
     "input": [
      "print(math.sqrt(10))\n",
      "print(math.sqrt(-10))"
     ],
     "language": "python",
     "metadata": {},
     "outputs": []
    },
    {
     "cell_type": "code",
     "collapsed": false,
     "input": [
      "print(math.pi)\n",
      "print(math.sin(math.pi/4))\n",
      "print(math.acos(-1))\n",
      "print(math.exp(1))\n",
      "print(math.log(10))\n",
      "print(math.log10(10))"
     ],
     "language": "python",
     "metadata": {},
     "outputs": []
    },
    {
     "cell_type": "code",
     "collapsed": false,
     "input": [
      "import cmath\n",
      "\n",
      "print(cmath.sqrt(-2))\n",
      "print(cmath.sin(2j))"
     ],
     "language": "python",
     "metadata": {},
     "outputs": []
    },
    {
     "cell_type": "markdown",
     "metadata": {},
     "source": [
      "## Copying Lists\n",
      "\n",
      "\n",
      "### List assignemt creates an alias not a copy"
     ]
    },
    {
     "cell_type": "code",
     "collapsed": false,
     "input": [
      "a = [1, 2, 3, 4, 5]\n",
      "b = a         # This is an alias, not a copy\n",
      "print 'a =', a\n",
      "print 'b =', b\n",
      "a[0] = 100\n",
      "print 'a =', a\n",
      "print 'b =', b"
     ],
     "language": "python",
     "metadata": {},
     "outputs": []
    },
    {
     "cell_type": "markdown",
     "metadata": {},
     "source": [
      "It is possible to make a copy of a list"
     ]
    },
    {
     "cell_type": "code",
     "collapsed": false,
     "input": [
      "a = [1, 2, 3, 4, 5]\n",
      "print a\n",
      "c = a[:]       # c is a copy, not an alias\n",
      "a[0] = 100\n",
      "print 'a =', a\n",
      "print 'c =', c"
     ],
     "language": "python",
     "metadata": {},
     "outputs": []
    },
    {
     "cell_type": "markdown",
     "metadata": {},
     "source": [
      "# Boolean operations on a list"
     ]
    },
    {
     "cell_type": "code",
     "collapsed": false,
     "input": [
      "a = [1, 2, 3, 4, 5]\n",
      "b = a\n",
      "c = a[:]\n",
      "print a == b\n",
      "print a == c\n",
      "c[0] = 10\n",
      "print a == c\n",
      "print 1 in a\n",
      "print 100 in a"
     ],
     "language": "python",
     "metadata": {},
     "outputs": []
    },
    {
     "cell_type": "markdown",
     "metadata": {},
     "source": [
      "# Append, Extend, Insert, Delete, Pop\n",
      "## Append an item to a list"
     ]
    },
    {
     "cell_type": "code",
     "collapsed": false,
     "input": [
      "a = [1, 2, 3, 4, 5]\n",
      "print a\n",
      "a.append(6)\n",
      "print a\n",
      "a.pop()\n",
      "print a\n",
      "x = a.pop(1)  # Pop item at index 1 and return it in x\n",
      "print a, x"
     ],
     "language": "python",
     "metadata": {},
     "outputs": []
    },
    {
     "cell_type": "markdown",
     "metadata": {},
     "source": [
      "## Extend a list"
     ]
    },
    {
     "cell_type": "code",
     "collapsed": false,
     "input": [
      "a = [1, 2, 3]\n",
      "b = [4, 5, 6]\n",
      "c = a + b       # Return a new list which is an extension of a\n",
      "print a, b, c\n",
      "a.extend(b)     # Extend in place\n",
      "print a\n",
      "a = a + b\n",
      "print a"
     ],
     "language": "python",
     "metadata": {},
     "outputs": []
    },
    {
     "cell_type": "markdown",
     "metadata": {},
     "source": [
      "## Insert items into a list"
     ]
    },
    {
     "cell_type": "code",
     "collapsed": false,
     "input": [
      "a = [1, 2, 3, 4, 5]\n",
      "print a\n",
      "a.insert(0, 10)\n",
      "print a\n",
      "del(a[0])\n",
      "print a"
     ],
     "language": "python",
     "metadata": {},
     "outputs": []
    },
    {
     "cell_type": "code",
     "collapsed": false,
     "input": [
      "print a\n",
      "a.reverse()\n",
      "print a\n",
      "a.sort()\n",
      "print a"
     ],
     "language": "python",
     "metadata": {},
     "outputs": []
    },
    {
     "cell_type": "code",
     "collapsed": false,
     "input": [],
     "language": "python",
     "metadata": {},
     "outputs": []
    },
    {
     "cell_type": "code",
     "collapsed": false,
     "input": [
      "a = [1, 2, 10, 4, 5, 10]\n",
      "print a.index(1)   # Index of item in list having the given value\n",
      "print a.index(10)"
     ],
     "language": "python",
     "metadata": {},
     "outputs": []
    },
    {
     "cell_type": "markdown",
     "metadata": {},
     "source": [
      "## List repetition adds one level deep"
     ]
    },
    {
     "cell_type": "code",
     "collapsed": false,
     "input": [
      "a = [1, 2, 3, 4]\n",
      "b = a * 2\n",
      "print a\n",
      "print b\n",
      "c = [a] * 2\n",
      "print c"
     ],
     "language": "python",
     "metadata": {},
     "outputs": []
    },
    {
     "cell_type": "markdown",
     "metadata": {},
     "source": [
      "# Lists can contain heterogenous items"
     ]
    },
    {
     "cell_type": "code",
     "collapsed": false,
     "input": [
      "a = [1, 'spam', [10, 20, 30]]  # Items in a list can be of different types\n",
      "print a\n",
      "print a[0], type(a[0])\n",
      "print a[1], type(a[1])\n",
      "print a[2], type(a[2])\n",
      "print a[2][0], a[2][1], a[2][2]"
     ],
     "language": "python",
     "metadata": {},
     "outputs": []
    },
    {
     "cell_type": "markdown",
     "metadata": {},
     "source": [
      "# List Comprehension"
     ]
    },
    {
     "cell_type": "code",
     "collapsed": false,
     "input": [
      "a = [1, 2, 3, 4, 5]\n",
      "b = [r*2 for r in a]\n",
      "print type(a), a, type(b), b"
     ],
     "language": "python",
     "metadata": {},
     "outputs": [
      {
       "output_type": "stream",
       "stream": "stdout",
       "text": [
        "<type 'list'> [1, 2, 3, 4, 5] <type 'list'> [2, 4, 6, 8, 10]\n"
       ]
      }
     ],
     "prompt_number": 1
    },
    {
     "cell_type": "code",
     "collapsed": false,
     "input": [
      "c = [x**2 for x in a]\n",
      "print type(c)\n",
      "print c"
     ],
     "language": "python",
     "metadata": {},
     "outputs": [
      {
       "output_type": "stream",
       "stream": "stdout",
       "text": [
        "<type 'list'>\n",
        "[1, 4, 9, 16, 25]\n"
       ]
      }
     ],
     "prompt_number": 4
    },
    {
     "cell_type": "markdown",
     "metadata": {},
     "source": [
      "## Output to Standard Output\n",
      "\n",
      "1. **`print()`** function prints to standard output, after converting to string if necessary\n",
      "2. By default, **`print()`** prints a newline character at the end of each call\n",
      "3. Format strings similar to those used by **`printf()`** in C can be used to format the output"
     ]
    },
    {
     "cell_type": "code",
     "collapsed": false,
     "input": [
      "print(\"Hell world!\")"
     ],
     "language": "python",
     "metadata": {},
     "outputs": [
      {
       "output_type": "stream",
       "stream": "stdout",
       "text": [
        "Hell world!\n"
       ]
      }
     ],
     "prompt_number": 3
    },
    {
     "cell_type": "code",
     "collapsed": false,
     "input": [
      "print(2/3)\n",
      "print(\"%.3f\" % (2/3))\n",
      "print(\"The sum of %d and %d is %d\" % (2, 3, 2+3))"
     ],
     "language": "python",
     "metadata": {},
     "outputs": [
      {
       "output_type": "stream",
       "stream": "stdout",
       "text": [
        "0.666666666667\n",
        "0.667\n",
        "The sum of 2 and 3 is 5\n"
       ]
      }
     ],
     "prompt_number": 10
    },
    {
     "cell_type": "code",
     "collapsed": false,
     "input": [
      "print(2, end=\" \")\n",
      "print(3)"
     ],
     "language": "python",
     "metadata": {},
     "outputs": [
      {
       "output_type": "stream",
       "stream": "stdout",
       "text": [
        "2 3\n"
       ]
      }
     ],
     "prompt_number": 18
    },
    {
     "cell_type": "markdown",
     "metadata": {},
     "source": [
      "## Input from Standard Input\n",
      "\n",
      "* Input from keyboard in console applications is one of the weaknesses of Python.\n",
      "* Python has file operation functiions to read from or write to text or binary files, along similar lines to C programming language.\n",
      "* Python can read from and write to CSV and Microsoft files"
     ]
    },
    {
     "cell_type": "code",
     "collapsed": false,
     "input": [
      "x = int(raw_input(\"Enter an integer: \"))\n",
      "print(x, type(x))\n",
      "y = input(\"Enter a floating point number: \")\n",
      "print(y, type(y))"
     ],
     "language": "python",
     "metadata": {},
     "outputs": [
      {
       "name": "stdout",
       "output_type": "stream",
       "stream": "stdout",
       "text": [
        "Enter an integer: 100\n"
       ]
      },
      {
       "output_type": "stream",
       "stream": "stdout",
       "text": [
        "100 <type 'int'>\n"
       ]
      },
      {
       "name": "stdout",
       "output_type": "stream",
       "stream": "stdout",
       "text": [
        "Enter a floating point number: 2.5\n"
       ]
      },
      {
       "output_type": "stream",
       "stream": "stdout",
       "text": [
        "2.5 <type 'float'>\n"
       ]
      }
     ],
     "prompt_number": 16
    }
   ],
   "metadata": {}
  }
 ]
}