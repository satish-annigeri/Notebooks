{
 "metadata": {
  "name": "",
  "signature": "sha256:be1b34446d367912043e736ad59d4b3845956d973e8bf8d5daa3e102797fd223"
 },
 "nbformat": 3,
 "nbformat_minor": 0,
 "worksheets": [
  {
   "cells": [
    {
     "cell_type": "markdown",
     "metadata": {},
     "source": [
      "# More Python Data Types and Operators\n",
      "## Lists\n",
      "Python list is the most general sequence. Core Python does not provide an array data type. List is a positionally ordered collection of arbitrarily typed objects, and they have no fixed size. Lists have the following properties [Lutz, M., Learning Python, 3ed., O'Reilly, 2008]:\n",
      "\n",
      "1. Ordered collection of arbitrary objects\n",
      "2. Elements of a list are accessed by offset\n",
      "3. Lists can have variable length, are heterogeneous and arbitrarily nestable\n",
      "4. Lists are a mutable sequence\n",
      "5. Lists are an array of object references\n",
      "\n",
      "## Basic List Operations: Creation, Indexing, Slicing\n",
      "A List is created by enclosing the items of the list within square brackets and separating them by a comma. Once a list is created, its items can be addressed by referring to its index. First item has index **zero**. Index of last item can be represented as **-1**. Slicing is done by referring to a start and an end index."
     ]
    },
    {
     "cell_type": "code",
     "collapsed": false,
     "input": [
      "L = [123, 'spam', 1.23, (150,)]\n",
      "print L, type(L), 'Length =', len(L)\n",
      "for item in L:\n",
      "    print type(item), item\n",
      "print L[0]\n",
      "print L[1]\n",
      "print L[2]\n",
      "print L[:-1]\n",
      "print L[-1]\n",
      "print L[-2]\n",
      "print L[-3]"
     ],
     "language": "python",
     "metadata": {},
     "outputs": [
      {
       "output_type": "stream",
       "stream": "stdout",
       "text": [
        "[123, 'spam', 1.23, (150,)] <type 'list'> Length = 4\n",
        "<type 'int'> 123\n",
        "<type 'str'> spam\n",
        "<type 'float'> 1.23\n",
        "<type 'tuple'> (150,)\n",
        "123\n",
        "spam\n",
        "1.23\n",
        "[123, 'spam', 1.23]\n",
        "(150,)\n",
        "1.23\n",
        "spam\n"
       ]
      }
     ],
     "prompt_number": 5
    },
    {
     "cell_type": "markdown",
     "metadata": {},
     "source": [
      "A list can be empty."
     ]
    },
    {
     "cell_type": "code",
     "collapsed": false,
     "input": [
      "L1 = []\n",
      "print len(L1), L1"
     ],
     "language": "python",
     "metadata": {},
     "outputs": [
      {
       "output_type": "stream",
       "stream": "stdout",
       "text": [
        "0 []\n"
       ]
      }
     ],
     "prompt_number": 2
    },
    {
     "cell_type": "markdown",
     "metadata": {},
     "source": [
      "## Addition and Append\n",
      "\n",
      "Adding a List to an existing List produces a new list that is a combination of the two sequences. Addition operation does not change the lists being added, instead, a new list is created that is the sum of the two lists.\n",
      "\n",
      "Items can be appended to a list and popped from a List."
     ]
    },
    {
     "cell_type": "code",
     "collapsed": false,
     "input": [
      "L = [123, 'spam', 1.23]\n",
      "print L\n",
      "print L + [4, 5, 6]\n",
      "print L\n",
      "L.append('NI')\n",
      "print L\n",
      "L.pop(2)\n",
      "print L\n",
      "help(list.pop)"
     ],
     "language": "python",
     "metadata": {},
     "outputs": [
      {
       "output_type": "stream",
       "stream": "stdout",
       "text": [
        "[123, 'spam', 1.23]\n",
        "[123, 'spam', 1.23, 4, 5, 6]\n",
        "[123, 'spam', 1.23]\n",
        "[123, 'spam', 1.23, 'NI']\n",
        "[123, 'spam', 'NI']\n",
        "Help on method_descriptor:\n",
        "\n",
        "pop(...)\n",
        "    L.pop([index]) -> item -- remove and return item at index (default last).\n",
        "    Raises IndexError if list is empty or index is out of range.\n",
        "\n"
       ]
      }
     ],
     "prompt_number": 7
    },
    {
     "cell_type": "markdown",
     "metadata": {},
     "source": [
      "## Sorting\n",
      "\n",
      "Lists can be sorted and reversed. A Python List has the methods **`sort()`** and **1reverse()`** that sort the list and reverse the list \"in place\", that is, they modify the List itself instead of creating a copy with the items sorted or reversed."
     ]
    },
    {
     "cell_type": "code",
     "collapsed": false,
     "input": [
      "M = ['bb', 'aa', 'cc']\n",
      "print M\n",
      "M.sort()\n",
      "print M\n",
      "M.reverse()\n",
      "print M"
     ],
     "language": "python",
     "metadata": {},
     "outputs": [
      {
       "output_type": "stream",
       "stream": "stdout",
       "text": [
        "['bb', 'aa', 'cc']\n",
        "['aa', 'bb', 'cc']\n",
        "['cc', 'bb', 'aa']\n"
       ]
      }
     ],
     "prompt_number": 9
    },
    {
     "cell_type": "markdown",
     "metadata": {},
     "source": [
      "The function **`sorted`** returns a new list whose items are the items of the given list but arranged in ascending order. The original list remains unaltered."
     ]
    },
    {
     "cell_type": "code",
     "collapsed": false,
     "input": [
      "M1 = ['bb', 'aa', 'cc']\n",
      "M2 = sorted(M1)\n",
      "print type(M2), M2\n",
      "print M1, M2"
     ],
     "language": "python",
     "metadata": {},
     "outputs": [
      {
       "output_type": "stream",
       "stream": "stdout",
       "text": [
        "<type 'list'> ['aa', 'bb', 'cc']\n",
        "['bb', 'aa', 'cc'] ['aa', 'bb', 'cc']\n"
       ]
      }
     ],
     "prompt_number": 12
    },
    {
     "cell_type": "markdown",
     "metadata": {},
     "source": [
      "## Nested Lists\n",
      "\n",
      "An item in a list can itself be a list, thereby resulting in nested lists. In fact, an item in a List can be of any type, including a List."
     ]
    },
    {
     "cell_type": "code",
     "collapsed": false,
     "input": [
      "M = [[1, 2, 3],\n",
      "     [4, 5, 6],\n",
      "     [7, 8, 9]]\n",
      "print M\n",
      "print 'Item 0:', M[0]\n",
      "print 'Item 1:', M[1]\n",
      "print 'Item 2:', M[2]\n",
      "print M[1][2]"
     ],
     "language": "python",
     "metadata": {},
     "outputs": [
      {
       "output_type": "stream",
       "stream": "stdout",
       "text": [
        "[[1, 2, 3], [4, 5, 6], [7, 8, 9]]\n",
        "Item 0: [1, 2, 3]\n",
        "Item 1: [4, 5, 6]\n",
        "Item 2: [7, 8, 9]\n",
        "6\n"
       ]
      }
     ],
     "prompt_number": 13
    },
    {
     "cell_type": "markdown",
     "metadata": {},
     "source": [
      "## List Comprehension\n",
      "\n",
      "A list comprehension expression is a powerful way to create new lists or process lists. They are a way to build a new list by running an expression on each item in a sequence, one at a time, from left to right.List comprehensions are coded in square brackets (to indicate the fact that they create new lists), and are composed of an expression and a looping construct that share a variable name.\n",
      "\n",
      "In the following example, the variable name common to the expression and the looping construct is **`row`**, and represents the item of M that is processed, one at a time, from left to right. The expression **`row[1]`** copies the second item from each item and creates a new list from such extracted items.\n",
      "\n",
      "The expression can be of any complexity, thereby allowing the extracted items to be part of any complex expression. It is also possible to apply a condition that the selected item must satisfy."
     ]
    },
    {
     "cell_type": "code",
     "collapsed": false,
     "input": [
      "M = [[1, 2, 3],\n",
      "     [4, 5, 6],\n",
      "     [7, 8, 9]]\n",
      "print M\n",
      "col2 = [row[1] for row in M] # Copy elements from column index 1 (second column) of each row\n",
      "print type(col2), col2\n",
      "print [row[1]+1 for row in M]\n",
      "print [row[1] for row in M if row[1] % 2 == 0]\n",
      "diag = [M[i][i] for i in [0, 1, 2]]\n",
      "print diag\n",
      "doubles = [c*2 for c in 'spam']\n",
      "print doubles"
     ],
     "language": "python",
     "metadata": {},
     "outputs": [
      {
       "output_type": "stream",
       "stream": "stdout",
       "text": [
        "[[1, 2, 3], [4, 5, 6], [7, 8, 9]]\n",
        "<type 'list'> [2, 5, 8]\n",
        "[3, 6, 9]\n",
        "[2, 8]\n",
        "[1, 5, 9]\n",
        "['ss', 'pp', 'aa', 'mm']\n"
       ]
      }
     ],
     "prompt_number": 14
    },
    {
     "cell_type": "markdown",
     "metadata": {},
     "source": [
      "`list.`**`append`**`(x)`: Add an item to the end of the list\n",
      "\n",
      "`list.`**`extend`**`(L)`: Extend the list by appending all items in the given list\n",
      "\n",
      "`list.`**`insert`**`(i, x)`: Insert an item at a given position. The first argument is the index of the element before which to isert\n",
      "\n",
      "`list.`**`remove`**`(x)`: Removes the first item from the list whose value is x. It is an error if there is no such item.\n",
      "\n",
      "`list.`**`pop(x)`**: Remove the item at the given position in the list, and return it. If no index is specified, **`list.pop()`** removes and returns the last item in the list.\n",
      "\n",
      "`list.`**`index`**`(x)`: Return the index in the list of the first item whose value is x.It is an error if there is no such item.\n",
      "\n",
      "`list.`**`count`**`(x)`: Return the number of times x appears in the list.\n",
      "\n",
      "`list.`**`sort`**`()`: Sort the items of the list, in place.\n",
      "\n",
      "`list.`**`reverse`**`()`: Reverse the elements of the list, in place.\n",
      "\n",
      "## Assignment Creates References, Not Copies\n"
     ]
    },
    {
     "cell_type": "code",
     "collapsed": false,
     "input": [
      "L = [1, 2, 3, 4]\n",
      "M = L\n",
      "print id(L), 'L =', L\n",
      "print id(M), 'M =', M\n",
      "\n",
      "L[0] = 100\n",
      "print 'L =', L\n",
      "print 'M =', M"
     ],
     "language": "python",
     "metadata": {},
     "outputs": [
      {
       "output_type": "stream",
       "stream": "stdout",
       "text": [
        "67528200 L = [1, 2, 3, 4]\n",
        "67528200 M = [1, 2, 3, 4]\n",
        "L = [100, 2, 3, 4]\n",
        "M = [100, 2, 3, 4]\n"
       ]
      }
     ],
     "prompt_number": 1
    },
    {
     "cell_type": "markdown",
     "metadata": {},
     "source": [
      "To avoid creating a reference and force a copy, use the name of the empty-limits slice."
     ]
    },
    {
     "cell_type": "code",
     "collapsed": false,
     "input": [
      "L = [1, 2, 3, 4]\n",
      "M = L[:]\n",
      "print 'L =', L\n",
      "print 'M =', M\n",
      "L[0] = 100\n",
      "print 'L =', L\n",
      "print 'M =', M\n",
      "N = ['A', M[:], 'B']\n",
      "print 'N =', N"
     ],
     "language": "python",
     "metadata": {},
     "outputs": [
      {
       "output_type": "stream",
       "stream": "stdout",
       "text": [
        "L = [1, 2, 3, 4]\n",
        "M = [1, 2, 3, 4]\n",
        "L = [100, 2, 3, 4]\n",
        "M = [1, 2, 3, 4]\n",
        "N = ['A', [1, 2, 3, 4], 'B']\n"
       ]
      }
     ],
     "prompt_number": 6
    },
    {
     "cell_type": "markdown",
     "metadata": {},
     "source": [
      "## Repitition Adds One Level Deep"
     ]
    },
    {
     "cell_type": "code",
     "collapsed": false,
     "input": [
      "L = [4, 5, 6]\n",
      "print 'L =', L\n",
      "X = L * 4\n",
      "print 'X =', X\n",
      "Y = [L] * 4\n",
      "print 'Y =', Y"
     ],
     "language": "python",
     "metadata": {},
     "outputs": [
      {
       "output_type": "stream",
       "stream": "stdout",
       "text": [
        "L = [4, 5, 6]\n",
        "X = [4, 5, 6, 4, 5, 6, 4, 5, 6, 4, 5, 6]\n",
        "Y = [[4, 5, 6], [4, 5, 6], [4, 5, 6], [4, 5, 6]]\n"
       ]
      }
     ],
     "prompt_number": 3
    },
    {
     "cell_type": "code",
     "collapsed": false,
     "input": [
      "%matplotlib inline\n",
      "\n",
      "import numpy as np\n",
      "import matplotlib.pyplot as plt\n",
      "\n",
      "x = np.linspace(0, 4*np.pi, 501)\n",
      "y = np.sin(x)\n",
      "plt.plot(x, y)\n",
      "plt.grid()\n",
      "plt.show()"
     ],
     "language": "python",
     "metadata": {},
     "outputs": [
      {
       "metadata": {},
       "output_type": "display_data",
       "png": "[encoded data removed]",
       "text": [
        "<matplotlib.figure.Figure at 0xd60fb70>"
       ]
      }
     ],
     "prompt_number": 4
    },
    {
     "cell_type": "code",
     "collapsed": false,
     "input": [],
     "language": "python",
     "metadata": {},
     "outputs": []
    }
   ],
   "metadata": {}
  }
 ]
}