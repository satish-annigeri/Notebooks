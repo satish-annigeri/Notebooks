{
 "cells": [
  {
   "cell_type": "markdown",
   "metadata": {},
   "source": [
    "# Python Package Management\n",
    "Python uses packages and modules to add functionality to the base features of the language. Modules are analogous to libraries in other programming languages. Packages are collection of modules and provide a means of defining a collection of inter-related modules. Python Package Index (PyPI)(http://pypi.python.org) is the primary source of packages and modules. There are multiple ways you can obtain and install a package:\n",
    "1. Download the package in source form. To install you will require Python installed\n",
    "2. Download and install binary package specific to your operating system from PyPi. You will need Python installed and either **`easy_install`** or **`pip`** installedour operating system from Anaconda repoare a subset of those in PyPIsitory. Packages in Anaconda repository \n",
    "3. Download and install binary package specific to your operating system from Anaconda repository. Packages in Anaconda repo are a subset of those in PyPI, but has all packages related to scienttific compuing.\n",
    "\n",
    "# Anaconda Package Management\n",
    "Anaconda comes with its own package manager named **`conda`**. It can do everything with Anaconda repositories that **`pip`** does with PyPI repositories. In addition, it can create and manage Python virtual environments in a way similar to **`virtualenv`**. It is therefore **`pip`** and **`virtualenv`** rolled into one."
   ]
  },
  {
   "cell_type": "code",
   "execution_count": null,
   "metadata": {
    "collapsed": true
   },
   "outputs": [],
   "source": []
  }
 ],
 "metadata": {
  "kernelspec": {
   "display_name": "Python 2",
   "language": "python",
   "name": "python2"
  },
  "language_info": {
   "codemirror_mode": {
    "name": "ipython",
    "version": 2
   },
   "file_extension": ".py",
   "mimetype": "text/x-python",
   "name": "python",
   "nbconvert_exporter": "python",
   "pygments_lexer": "ipython2",
   "version": "2.7.7"
  }
 },
 "nbformat": 4,
 "nbformat_minor": 0
}
