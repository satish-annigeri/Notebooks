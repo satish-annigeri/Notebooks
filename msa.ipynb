{
 "cells": [
  {
   "cell_type": "markdown",
   "metadata": {},
   "source": [
    "# Matrix Structural Analysis"
   ]
  },
  {
   "cell_type": "code",
   "execution_count": 1,
   "metadata": {
    "collapsed": false
   },
   "outputs": [
    {
     "name": "stdout",
     "output_type": "stream",
     "text": [
      "Skeletal Structure: Space Frame Example 1\n",
      "Gravity Direction: z\n",
      "Structure degrees of freedom: 56\n",
      "\n",
      "[1, 1, 1, 1, 1, 1]\n",
      "0\n"
     ]
    }
   ],
   "source": [
    "from __future__ import division, print_function\n",
    "\n",
    "import numpy as np\n",
    "\n",
    "binary = lambda n: n>0 and [n&1]+binary(n>>1) or []\n",
    "\n",
    "class Structure:\n",
    "    def __init__(self, title, strDof, gravityDir='z'):\n",
    "        self.title = title\n",
    "        self.gravityDir = gravityDir\n",
    "        self.strDof = strDof\n",
    "        return\n",
    "\n",
    "    def __str__(self):\n",
    "        s = \"Skeletal Structure: %s\\n\" % self.title\n",
    "        s += \"Gravity Direction: %s\\n\" % self.gravityDir\n",
    "        s += \"Structure degrees of freedom: %s\\n\" % self.strDof\n",
    "        return s\n",
    "            \n",
    "S = Structure('Space Frame Example 1', 0b111000)\n",
    "print(S)\n",
    "print(binary(63))\n",
    "print(0b1 & 0b111000)"
   ]
  },
  {
   "cell_type": "code",
   "execution_count": 2,
   "metadata": {
    "collapsed": false
   },
   "outputs": [
    {
     "name": "stdout",
     "output_type": "stream",
     "text": [
      "Material: M25\n",
      "\tModulus of Elasticity, E = 25000000.0000\n",
      "\tPoisson's ratio, nu = 0.2000\n",
      "\tDensity = 25.0000\n",
      "\tCoefficient of Thermal Expansion = 0.0000\n"
     ]
    }
   ],
   "source": [
    "class Material(object):\n",
    "    def __init__(self, label, E, nu, density, alpha=0.0):\n",
    "        self.label = label\n",
    "        self._E = E\n",
    "        self._nu = nu\n",
    "        self._density = density\n",
    "        self._alpha = alpha\n",
    "        return\n",
    "\n",
    "    def __str__(self):\n",
    "        s  = 'Material: %s\\n' % self.label\n",
    "        s += '\\tModulus of Elasticity, E = %.4f\\n' % self._E\n",
    "        s += \"\\tPoisson's ratio, nu = %.4f\\n\" % self._nu\n",
    "        s += '\\tDensity = %.4f\\n' % self._density\n",
    "        s += '\\tCoefficient of Thermal Expansion = %.4f' % self._alpha\n",
    "        return s\n",
    "\n",
    "M25 = Material('M25', 25e6, 0.2, 25.0)\n",
    "print(M25)"
   ]
  },
  {
   "cell_type": "code",
   "execution_count": null,
   "metadata": {
    "collapsed": true
   },
   "outputs": [],
   "source": []
  },
  {
   "cell_type": "code",
   "execution_count": 3,
   "metadata": {
    "collapsed": false
   },
   "outputs": [
    {
     "ename": "SyntaxError",
     "evalue": "invalid syntax (<ipython-input-3-0c8198ca0a71>, line 11)",
     "output_type": "error",
     "traceback": [
      "\u001b[1;36m  File \u001b[1;32m\"<ipython-input-3-0c8198ca0a71>\"\u001b[1;36m, line \u001b[1;32m11\u001b[0m\n\u001b[1;33m    return s\u001b[0m\n\u001b[1;37m         ^\u001b[0m\n\u001b[1;31mSyntaxError\u001b[0m\u001b[1;31m:\u001b[0m invalid syntax\n"
     ]
    }
   ],
   "source": [
    "class Section(object):\n",
    "    def __init__(self, label, material, area):\n",
    "        self.label = label\n",
    "        self._material = material\n",
    "        self._area = area\n",
    "        return\n",
    "\n",
    "    def __str__(self):\n",
    "        s  = \"Section: %s\\n\" % self.label\n",
    "        s += \"Material: %s (E = %.4f)\" % (self._material.label, self._material.E\n",
    "        return s\n",
    "\n",
    "B1 = Section('B1', M25, 1250)\n",
    "print(B1)"
   ]
  },
  {
   "cell_type": "code",
   "execution_count": null,
   "metadata": {
    "collapsed": false
   },
   "outputs": [],
   "source": [
    "class test:\n",
    "    def __init__(self, a):\n",
    "        self.__a = a\n",
    "        return\n",
    "    def geta(self):\n",
    "        return self.__a\n",
    "    a = property(geta)\n",
    "    \n",
    "x = test(10)\n",
    "print(x.a)\n",
    "print(x.a)"
   ]
  }
 ],
 "metadata": {
  "kernelspec": {
   "display_name": "Python 2",
   "language": "python",
   "name": "python2"
  },
  "language_info": {
   "codemirror_mode": {
    "name": "ipython",
    "version": 2
   },
   "file_extension": ".py",
   "mimetype": "text/x-python",
   "name": "python",
   "nbconvert_exporter": "python",
   "pygments_lexer": "ipython2",
   "version": "2.7.11"
  }
 },
 "nbformat": 4,
 "nbformat_minor": 0
}
