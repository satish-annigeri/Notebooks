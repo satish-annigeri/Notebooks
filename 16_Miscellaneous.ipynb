{
 "cells": [
  {
   "cell_type": "markdown",
   "metadata": {},
   "source": [
    "## ``zip()``\n",
    "Assuming you have two one-dimensioned containers with the same length, you can create a **list** wherein each row is a tuple made up of the corresponding items of the containers."
   ]
  },
  {
   "cell_type": "code",
   "execution_count": 18,
   "metadata": {
    "collapsed": false
   },
   "outputs": [
    {
     "name": "stdout",
     "output_type": "stream",
     "text": [
      "Object z is of <type 'list'>\n",
      "[(0.0, 0.80000000000000004), (0.0001, 0.84999999999999998), (0.00029999999999999997, 0.90000000000000002), (0.00069999999999999999, 0.94999999999999996), (0.001, 0.97499999999999998), (0.002, 1.0)]\n",
      "<type 'tuple'> 0.0 0.8\n",
      "<type 'tuple'> 0.0001 0.85\n",
      "<type 'tuple'> 0.0003 0.9\n",
      "<type 'tuple'> 0.0007 0.95\n",
      "<type 'tuple'> 0.001 0.975\n",
      "<type 'tuple'> 0.002 1.0\n"
     ]
    }
   ],
   "source": [
    "from __future__ import print_function, division\n",
    "\n",
    "import numpy as np\n",
    "\n",
    "x = np.array([0, 0.0001, 0.0003, 0.0007, 0.001, 0.002])\n",
    "y = np.array([0.8, 0.85, 0.9, 0.95, 0.975, 1])\n",
    "z = zip(x, y)\n",
    "print('Object z is of', type(z))\n",
    "print(z)\n",
    "for item in z:\n",
    "    print(type(item), item[0], item[1])"
   ]
  },
  {
   "cell_type": "markdown",
   "metadata": {},
   "source": [
    "The **``zip()``** function will work with more than two containers, as long as all the containers are of the same length."
   ]
  },
  {
   "cell_type": "code",
   "execution_count": 13,
   "metadata": {
    "collapsed": false
   },
   "outputs": [
    {
     "name": "stdout",
     "output_type": "stream",
     "text": [
      "[(1.0, 10.0, 21.0), (2.0, 11.0, 22.0), (3.0, 13.0, 23.0), (4.0, 14.0, 24.0), (5.0, 15.0, 25.0)]\n"
     ]
    }
   ],
   "source": [
    "a = np.array([1, 2, 3, 4, 5], dtype=float)\n",
    "b = np.array([10, 11, 13, 14, 15], dtype=float)\n",
    "c = np.array([21, 22, 23, 24, 25], dtype=float)\n",
    "z = zip(a, b, c)\n",
    "print(z)"
   ]
  },
  {
   "cell_type": "markdown",
   "metadata": {},
   "source": [
    "Containers being zipped can be of different types. As long as each container is one-dimensioned and of the same length as the other containers being zipped, it is possible to zip them together."
   ]
  },
  {
   "cell_type": "code",
   "execution_count": 17,
   "metadata": {
    "collapsed": false
   },
   "outputs": [
    {
     "name": "stdout",
     "output_type": "stream",
     "text": [
      "<type 'numpy.ndarray'> <type 'list'> <type 'tuple'>\n",
      "[(1.0, 10, 21), (2.0, 11, 22), (3.0, 13, 23), (4.0, 14, 24), (5.0, 15, 25)]\n"
     ]
    }
   ],
   "source": [
    "a = np.array([1, 2, 3, 4, 5], dtype=float)\n",
    "b = [10, 11, 13, 14, 15]\n",
    "c = (21, 22, 23, 24, 25)\n",
    "z = zip(a, b, c)\n",
    "print(type(a), type(b), type(c))\n",
    "print(z)"
   ]
  },
  {
   "cell_type": "markdown",
   "metadata": {},
   "source": [
    "## ``enumerate()``\n",
    "Given a one-dimensioned container, you can create a two-dimensioned list with each row of type **``tuple``** with the first column being an index and second column being the given container."
   ]
  },
  {
   "cell_type": "code",
   "execution_count": 19,
   "metadata": {
    "collapsed": false
   },
   "outputs": [
    {
     "name": "stdout",
     "output_type": "stream",
     "text": [
      "e is of <type 'list'>\n",
      "[(0, 0.0), (1, 0.0001), (2, 0.00029999999999999997), (3, 0.00069999999999999999), (4, 0.001), (5, 0.002)]\n",
      "<type 'tuple'> 0 0.0\n",
      "<type 'tuple'> 1 0.0001\n",
      "<type 'tuple'> 2 0.0003\n",
      "<type 'tuple'> 3 0.0007\n",
      "<type 'tuple'> 4 0.001\n",
      "<type 'tuple'> 5 0.002\n"
     ]
    }
   ],
   "source": [
    "e = list(enumerate(x))\n",
    "print('e is of', type(e))\n",
    "print(e)\n",
    "for item in e:\n",
    "    print(type(item), item[0], item[1])"
   ]
  },
  {
   "cell_type": "markdown",
   "metadata": {},
   "source": [
    "**``enumerate()``** is very useful when you want to iterate over elements of a container, as well as use the index of the item."
   ]
  },
  {
   "cell_type": "code",
   "execution_count": 26,
   "metadata": {
    "collapsed": false
   },
   "outputs": [
    {
     "name": "stdout",
     "output_type": "stream",
     "text": [
      "5\n",
      "Using range(len())\n",
      "0 10\n",
      "1 20\n",
      "2 30\n",
      "3 40\n",
      "4 50\n",
      "Using enumerate()\n",
      "0 10\n",
      "1 20\n",
      "2 30\n",
      "3 40\n",
      "4 50\n"
     ]
    }
   ],
   "source": [
    "x = [10, 20, 30, 40, 50]\n",
    "print(len(x))\n",
    "print('Using range(len())')\n",
    "for i in range(len(x)):\n",
    "    print(i, x[i])\n",
    "\n",
    "print('Using enumerate()')\n",
    "for i, xx in list(enumerate(x)):\n",
    "    print(i, xx)"
   ]
  },
  {
   "cell_type": "code",
   "execution_count": 37,
   "metadata": {
    "collapsed": false
   },
   "outputs": [
    {
     "name": "stdout",
     "output_type": "stream",
     "text": [
      "[(1.0, 10, 21), (2.0, 11, 22), (3.0, 13, 23), (4.0, 14, 24), (5.0, 15, 25)]\n",
      "<enumerate object at 0x000000000486A6C0>\n",
      "[(0, (1.0, 10, 21)), (1, (2.0, 11, 22)), (2, (3.0, 13, 23)), (3, (4.0, 14, 24)), (4, (5.0, 15, 25))]\n",
      "0 (1.0, 10, 21)\n",
      "1 (2.0, 11, 22)\n",
      "2 (3.0, 13, 23)\n",
      "3 (4.0, 14, 24)\n",
      "4 (5.0, 15, 25)\n"
     ]
    }
   ],
   "source": [
    "z = zip(a, b, c)\n",
    "print(z)\n",
    "e = enumerate(z) # e is an object of type enumerate\n",
    "print(e)\n",
    "l = list(e) # Generate a list from the enumerate object\n",
    "print(l)\n",
    "for i, j in l:\n",
    "    print(i, j)"
   ]
  },
  {
   "cell_type": "code",
   "execution_count": null,
   "metadata": {
    "collapsed": true
   },
   "outputs": [],
   "source": []
  }
 ],
 "metadata": {
  "kernelspec": {
   "display_name": "Python 2",
   "language": "python",
   "name": "python2"
  },
  "language_info": {
   "codemirror_mode": {
    "name": "ipython",
    "version": 2
   },
   "file_extension": ".py",
   "mimetype": "text/x-python",
   "name": "python",
   "nbconvert_exporter": "python",
   "pygments_lexer": "ipython2",
   "version": "2.7.9"
  }
 },
 "nbformat": 4,
 "nbformat_minor": 0
}
