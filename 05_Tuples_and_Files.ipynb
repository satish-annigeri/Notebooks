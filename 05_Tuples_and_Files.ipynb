{
 "metadata": {
  "name": "",
  "signature": "sha256:3308c8551b3e1eb6c0a10386b070281a4eca56e5c425f1d747ae2a6dee9dc57e"
 },
 "nbformat": 3,
 "nbformat_minor": 0,
 "worksheets": [
  {
   "cells": [
    {
     "cell_type": "markdown",
     "metadata": {},
     "source": [
      "# More Python Data Types and Operators\n",
      "## Tuples\n",
      "Tuples are similar to lists in many ways. One difference is that Tuples are immutable, that is, elements of a Tuple once defined, cannot be changed.\n",
      "\n",
      "1. Ordered collection of arbitrary objects\n",
      "2. Elements of a list are accessed by offset\n",
      "3. Lists can have fixed length, are heterogeneous and arbitrarily nestable\n",
      "4. Lists are an immutable sequence\n",
      "5. Lists are an array of object references"
     ]
    },
    {
     "cell_type": "code",
     "collapsed": false,
     "input": [
      "T = (1, 2, 3, 4)\n",
      "print T, type(T), 'Length =', len(T)\n",
      "T = T + (5, 6)\n",
      "print T, 'Length:', len(T)\n",
      "for item in T:\n",
      "    print item"
     ],
     "language": "python",
     "metadata": {},
     "outputs": [
      {
       "output_type": "stream",
       "stream": "stdout",
       "text": [
        "(1, 2, 3, 4) <type 'tuple'> Length = 4\n",
        "(1, 2, 3, 4, 5, 6) Length: 6\n",
        "1\n",
        "2\n",
        "3\n",
        "4\n",
        "5\n",
        "6\n",
        "() 0\n",
        "('Singleton',) 1 <type 'tuple'>\n"
       ]
      }
     ],
     "prompt_number": 3
    },
    {
     "cell_type": "code",
     "collapsed": false,
     "input": [
      "T1 = () # Empty tuple\n",
      "print T1,len(T1)\n",
      "T2 = 'Singleton', # Note the trailing comma\n",
      "print T2, len(T2), type(T2)"
     ],
     "language": "python",
     "metadata": {},
     "outputs": [
      {
       "output_type": "stream",
       "stream": "stdout",
       "text": [
        "() 0\n",
        "('Singleton',) 1 <type 'tuple'>\n"
       ]
      }
     ],
     "prompt_number": 4
    },
    {
     "cell_type": "markdown",
     "metadata": {},
     "source": [
      "## Tuples are Immutable"
     ]
    },
    {
     "cell_type": "code",
     "collapsed": false,
     "input": [
      "T = (1, 2, 3, 4)\n",
      "print T[0]\n",
      "T[0] = 100 # Error"
     ],
     "language": "python",
     "metadata": {},
     "outputs": [
      {
       "ename": "TypeError",
       "evalue": "'tuple' object does not support item assignment",
       "output_type": "pyerr",
       "traceback": [
        "\u001b[1;31m---------------------------------------------------------------------------\u001b[0m\n\u001b[1;31mTypeError\u001b[0m                                 Traceback (most recent call last)",
        "\u001b[1;32m<ipython-input-1-e5ef8da47d66>\u001b[0m in \u001b[0;36m<module>\u001b[1;34m()\u001b[0m\n\u001b[0;32m      1\u001b[0m \u001b[0mT\u001b[0m \u001b[1;33m=\u001b[0m \u001b[1;33m(\u001b[0m\u001b[1;36m1\u001b[0m\u001b[1;33m,\u001b[0m \u001b[1;36m2\u001b[0m\u001b[1;33m,\u001b[0m \u001b[1;36m3\u001b[0m\u001b[1;33m,\u001b[0m \u001b[1;36m4\u001b[0m\u001b[1;33m)\u001b[0m\u001b[1;33m\u001b[0m\u001b[0m\n\u001b[0;32m      2\u001b[0m \u001b[1;32mprint\u001b[0m \u001b[0mT\u001b[0m\u001b[1;33m[\u001b[0m\u001b[1;36m0\u001b[0m\u001b[1;33m]\u001b[0m\u001b[1;33m\u001b[0m\u001b[0m\n\u001b[1;32m----> 3\u001b[1;33m \u001b[0mT\u001b[0m\u001b[1;33m[\u001b[0m\u001b[1;36m0\u001b[0m\u001b[1;33m]\u001b[0m \u001b[1;33m=\u001b[0m \u001b[1;36m100\u001b[0m \u001b[1;31m# Error\u001b[0m\u001b[1;33m\u001b[0m\u001b[0m\n\u001b[0m",
        "\u001b[1;31mTypeError\u001b[0m: 'tuple' object does not support item assignment"
       ]
      },
      {
       "output_type": "stream",
       "stream": "stdout",
       "text": [
        "1\n"
       ]
      }
     ],
     "prompt_number": 1
    },
    {
     "cell_type": "markdown",
     "metadata": {},
     "source": [
      "## Packing and Unpacking Tuples"
     ]
    },
    {
     "cell_type": "code",
     "collapsed": false,
     "input": [
      "T1 = 10, 20 # Packing. Note: Enclosing parentheses are optional when tuples are not nested\n",
      "print 'T1:', T1\n",
      "x, y = T1 # Unpacking\n",
      "print x, y"
     ],
     "language": "python",
     "metadata": {},
     "outputs": [
      {
       "output_type": "stream",
       "stream": "stdout",
       "text": [
        "T1: (10, 20)\n",
        "10 20\n"
       ]
      }
     ],
     "prompt_number": 14
    },
    {
     "cell_type": "markdown",
     "metadata": {},
     "source": [
      "## Nested Tuples"
     ]
    },
    {
     "cell_type": "code",
     "collapsed": false,
     "input": [
      "T = ((1, 2, 3, 4), ('spam', 100))\n",
      "print T[0], type(T[0])\n",
      "print T[1], type(T[1])"
     ],
     "language": "python",
     "metadata": {},
     "outputs": [
      {
       "output_type": "stream",
       "stream": "stdout",
       "text": [
        "(1, 2, 3, 4) <type 'tuple'>\n",
        "('spam', 100) <type 'tuple'>\n"
       ]
      }
     ],
     "prompt_number": 7
    },
    {
     "cell_type": "markdown",
     "metadata": {},
     "source": [
      "### Operations on Tuples"
     ]
    },
    {
     "cell_type": "code",
     "collapsed": false,
     "input": [
      "T1 = (1, 2) + (3, 4)\n",
      "print 'T1 =', T1\n",
      "T2 = (1, 2) * 3\n",
      "print 'T2 =', T2\n",
      "T3 = T1[0], T2[2:5]\n",
      "print 'T3 =', T3"
     ],
     "language": "python",
     "metadata": {},
     "outputs": [
      {
       "output_type": "stream",
       "stream": "stdout",
       "text": [
        "T1 = (1, 2, 3, 4)\n",
        "T2 = (1, 2, 1, 2, 1, 2)\n",
        "T3 = (1, (1, 2, 1))\n"
       ]
      }
     ],
     "prompt_number": 6
    },
    {
     "cell_type": "markdown",
     "metadata": {},
     "source": [
      "A Tuple containing a single element must be constructed in the following special way, trailing comma is important. You can use the trailing comma even when the number of elements is more than one."
     ]
    },
    {
     "cell_type": "code",
     "collapsed": false,
     "input": [
      "x = (40)\n",
      "print type(x), x\n",
      "y = (40,)\n",
      "print type(y), y\n",
      "z = (1, 2)\n",
      "print type(z), z\n",
      "z = (1, 2,)\n",
      "print type(z), z"
     ],
     "language": "python",
     "metadata": {},
     "outputs": [
      {
       "output_type": "stream",
       "stream": "stdout",
       "text": [
        "<type 'int'> 40\n",
        "<type 'tuple'> (40,)\n",
        "<type 'tuple'> (1, 2)\n",
        "<type 'tuple'> (1, 2)\n"
       ]
      }
     ],
     "prompt_number": 9
    },
    {
     "cell_type": "markdown",
     "metadata": {},
     "source": [
      "A Tuple can contain a List as one of its items."
     ]
    },
    {
     "cell_type": "code",
     "collapsed": false,
     "input": [
      "T = (1, [2, 3], 4)\n",
      "print type(T), T\n",
      "for x in T:\n",
      "    print type(x), x\n",
      "print T[1][0]\n",
      "T[1][0] = 200\n",
      "print T"
     ],
     "language": "python",
     "metadata": {},
     "outputs": [
      {
       "output_type": "stream",
       "stream": "stdout",
       "text": [
        "<type 'tuple'> (1, [2, 3], 4)\n",
        "<type 'int'> 1\n",
        "<type 'list'> [2, 3]\n",
        "<type 'int'> 4\n",
        "2\n",
        "(1, [200, 3], 4)\n"
       ]
      }
     ],
     "prompt_number": 12
    },
    {
     "cell_type": "markdown",
     "metadata": {},
     "source": [
      "# Files\n",
      "Files allow computer programs to write data out or read data in. This helps in data persistence, otherwise data has to be input through the keyboard each time and program must be rerun each time you wish to see the output."
     ]
    },
    {
     "cell_type": "code",
     "collapsed": false,
     "input": [
      "output = open('data', 'w')\n",
      "output.write('hello text file\\n')\n",
      "output.close()\n",
      "\n",
      "input = open('data', 'r')\n",
      "s = input.read()\n",
      "input.close()\n",
      "print s"
     ],
     "language": "python",
     "metadata": {},
     "outputs": [
      {
       "output_type": "stream",
       "stream": "stdout",
       "text": [
        "hello text file\n",
        "\n"
       ]
      }
     ],
     "prompt_number": 2
    },
    {
     "cell_type": "markdown",
     "metadata": {},
     "source": [
      "It is equally easy to read and write files containing data other than strings."
     ]
    },
    {
     "cell_type": "code",
     "collapsed": false,
     "input": [
      "x, y, z = 43, 44, 45\n",
      "s = 'spam'\n",
      "D = {'a': 1, 'b': 2, 'c': 3}\n",
      "L = [1, 2, 3]\n",
      "\n",
      "f = open('datafile.txt', 'w')\n",
      "f.write(s + '\\n')\n",
      "f.write('%s, %s, %s\\n' % (x, y, z))\n",
      "f.write(str(L) + '$' + str(D) + '\\n')\n",
      "f.close()"
     ],
     "language": "python",
     "metadata": {},
     "outputs": [],
     "prompt_number": 1
    },
    {
     "cell_type": "code",
     "collapsed": false,
     "input": [],
     "language": "python",
     "metadata": {},
     "outputs": []
    }
   ],
   "metadata": {}
  }
 ]
}