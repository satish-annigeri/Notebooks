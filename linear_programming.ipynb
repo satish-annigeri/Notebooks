{
 "cells": [
  {
   "cell_type": "markdown",
   "metadata": {},
   "source": [
    "# Linear Programming\n",
    "\n",
    "http://docs.scipy.org/doc/scipy/reference/generated/scipy.optimize.linprog.html\n",
    "\n",
    "Consider the following problem:\n",
    "\n",
    "Minimize: **`f = -1*x[0] + 4*x[1]`**\n",
    "\n",
    "Subject to: **`-3*x[0] + 1*x[1] <= 6`**\n",
    "\n",
    "**`1*x[0] + 2*x[1] <= 4`**\n",
    "\n",
    "**`x[1] >= -3`**\n",
    "\n",
    "where: **`-inf <= x[0] <= inf`**\n",
    "\n",
    "This problem deviates from the standard linear programming problem. In standard form, linear programming problems assume the variables x are non-negative. Since the variables don’t have standard bounds where 0 <= x <= inf, the bounds of the variables must be explicitly set.\n",
    "\n",
    "There are two upper-bound constraints, which can be expressed as\n",
    "\n",
    "**`dot(A_ub, x) <= b_ub`**\n",
    "\n",
    "The input for this problem is as follows:"
   ]
  },
  {
   "cell_type": "code",
   "execution_count": 4,
   "metadata": {
    "collapsed": false
   },
   "outputs": [
    {
     "name": "stdout",
     "output_type": "stream",
     "text": [
      "Optimization terminated successfully.\n",
      "         Current function value: -22.000000  \n",
      "         Iterations: 1\n",
      "\n",
      "  status: 0\n",
      "   slack: array([ 39.,   0.])\n",
      " success: True\n",
      "     fun: -22.0\n",
      "       x: array([ 10.,  -3.])\n",
      " message: 'Optimization terminated successfully.'\n",
      "     nit: 1\n"
     ]
    }
   ],
   "source": [
    "from __future__ import division, print_function\n",
    "import numpy as np\n",
    "from scipy.optimize import linprog\n",
    "\n",
    "c = [-1, 4]\n",
    "A = [ [-3, 1], [1, 2] ]\n",
    "b = [6, 4]\n",
    "x0_bounds = (None, None)\n",
    "x1_bounds = (-3, None)\n",
    "res = linprog(c, A_ub=A, b_ub=b, bounds=(x0_bounds, x1_bounds), options={\"disp\": True})\n",
    "print()\n",
    "print(res)"
   ]
  },
  {
   "cell_type": "markdown",
   "metadata": {},
   "source": [
    "https://pypi.python.org/pypi/PuLP/1.1\n"
   ]
  },
  {
   "cell_type": "code",
   "execution_count": 10,
   "metadata": {
    "collapsed": false
   },
   "outputs": [
    {
     "name": "stdout",
     "output_type": "stream",
     "text": [
      "x = 4.0\n",
      "y = -1.0\n",
      "z = 6.0\n",
      "objective= 54.0\n"
     ]
    }
   ],
   "source": [
    "from pulp import *\n",
    "\n",
    "prob = LpProblem(\"test1\", LpMinimize)\n",
    "\n",
    "# Variables\n",
    "x = LpVariable(\"x\", 0, 4)\n",
    "y = LpVariable(\"y\", -1, 1)\n",
    "z = LpVariable(\"z\", 0)\n",
    "\n",
    "# Objective\n",
    "prob += x + 4*y + 9*z\n",
    "\n",
    "# Constraints\n",
    "prob += x+y <= 5\n",
    "prob += x+z >= 10\n",
    "prob += -y+z == 7\n",
    "\n",
    "GLPK().solve(prob)\n",
    "\n",
    "# Solution\n",
    "for v in prob.variables():\n",
    "    print(v.name, \"=\", v.varValue)\n",
    "\n",
    "print(\"objective=\", value(prob.objective))"
   ]
  }
 ],
 "metadata": {
  "kernelspec": {
   "display_name": "Python 2",
   "language": "python",
   "name": "python2"
  },
  "language_info": {
   "codemirror_mode": {
    "name": "ipython",
    "version": 2
   },
   "file_extension": ".py",
   "mimetype": "text/x-python",
   "name": "python",
   "nbconvert_exporter": "python",
   "pygments_lexer": "ipython2",
   "version": "2.7.11"
  }
 },
 "nbformat": 4,
 "nbformat_minor": 0
}
