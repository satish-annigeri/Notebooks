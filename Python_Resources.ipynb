{
 "metadata": {
  "name": "",
  "signature": "sha256:1b7ed94fea487df2a3a40adeb310d9e37b905b5d28baaa8cf860a3e54b2b9e92"
 },
 "nbformat": 3,
 "nbformat_minor": 0,
 "worksheets": [
  {
   "cells": [
    {
     "cell_type": "markdown",
     "metadata": {},
     "source": [
      "# Documents\n",
      "* [Best Practices for Scientific Computing](http://arxiv.org/abs/1210.0530) by G. Wilson et al"
     ]
    },
    {
     "cell_type": "markdown",
     "metadata": {},
     "source": [
      "# Websites\n",
      "* [Python home page](http://www.python.org)\n",
      "* [IPython home page](http://ipython.org)\n"
     ]
    },
    {
     "cell_type": "markdown",
     "metadata": {},
     "source": [
      "# Scientific Python Software Distributions\n",
      "* [Anaconda from Continuum Analytics](http://www.continuum.io/downloads)\n",
      "* [Canopy from Enthought](http://www.enthought.com/products/canopy)\n",
      "* [PyZo](http://www.pyzo.org/index.html)\n",
      "* [Christoph Gohlke's Unofficial Windows Binaries for Python Extension Packages](http://www.lfd.uci.edu/~gohlke/pythonlibs/)"
     ]
    },
    {
     "cell_type": "markdown",
     "metadata": {},
     "source": [
      "# Twitter\n",
      "* Guido Van Rossum **@gvanrossum** Author of Python and BDFL (Benevolent Dictator for Life)\n",
      "* Fernando Perez **@fperez_org** Author of IPython\n",
      "* Travis Oliphant **@teoliphant** Author of NumPy\n",
      "* Wes McKinney **@wesmckinn** Author of Pandas\n",
      "* Gael Varoquaux **@GaelVaroquaux** Contributor to scikit-learn\n",
      "* Peter Wang **@pwang**\n",
      "* Scientific Python **@SciPyTip**"
     ]
    },
    {
     "cell_type": "markdown",
     "metadata": {},
     "source": [
      "# Resources for Learning Python\n",
      "* [Software Carpentry Python Course](http://software-carpentry.org/v4/python/)\n",
      "* [Codecademy Python Online Tutorials](http://www.codecademy.com/tracks/python)\n",
      "* [Learn Python](http://www.learnpython.org/)\n",
      "* [Google's Python Class](https://developers.google.com/edu/python/?csw=1)"
     ]
    },
    {
     "cell_type": "markdown",
     "metadata": {},
     "source": [
      "# MOOC\n",
      "* [edX](http://www.edx.org)\n",
      "* [Coursera](http://www.coursera.org)\n",
      "  * [High Performance Scientific Computing by Dr. Randall J. LeVeque, UW on Coursera](https://class.coursera.org/scicomp-002)"
     ]
    },
    {
     "cell_type": "markdown",
     "metadata": {},
     "source": [
      "# Python in the Cloud\n",
      "* [Wakari from Continuum Analytics](https://wakari.io)\n",
      "* [Python Anywhere](https://www.pythonanywhere.com/)"
     ]
    },
    {
     "cell_type": "markdown",
     "metadata": {},
     "source": [
      "# Other Mathematical Software\n",
      "* [Scilab](http://www.scilab.org)\n",
      "* [GNU Octave](http://www.gnu.org/software/octave)\n",
      "* [Sage](http://www.sagemath.org)\n",
      "* [gnuplot](http://www.gnuplot.info)"
     ]
    }
   ],
   "metadata": {}
  }
 ]
}