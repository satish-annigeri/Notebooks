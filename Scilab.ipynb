{
 "cells": [
  {
   "cell_type": "code",
   "execution_count": 1,
   "metadata": {
    "collapsed": false
   },
   "outputs": [
    {
     "name": "stdout",
     "output_type": "stream",
     "text": [
      "[[ 1.  4.  7.]\n",
      " [ 2.  5.  8.]\n",
      " [ 3.  6.  9.]]"
     ]
    }
   ],
   "source": [
    "a = [1 2 3; 4 5 6; 7 8 9]\n",
    "a'"
   ]
  }
 ],
 "metadata": {
  "kernelspec": {
   "display_name": "Scilab",
   "language": "scilab",
   "name": "scilab"
  },
  "language_info": {}
 },
 "nbformat": 4,
 "nbformat_minor": 0
}
