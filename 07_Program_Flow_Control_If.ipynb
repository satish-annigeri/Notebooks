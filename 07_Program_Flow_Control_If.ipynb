{
 "metadata": {
  "name": ""
 },
 "nbformat": 3,
 "nbformat_minor": 0,
 "worksheets": [
  {
   "cells": [
    {
     "cell_type": "markdown",
     "metadata": {},
     "source": [
      "# Program Flow Control - If"
     ]
    },
    {
     "cell_type": "code",
     "collapsed": false,
     "input": [
      "x = int(raw_input(\"Enter an integer:\"))\n",
      "if x < 0:\n",
      "    x = 0\n",
      "    print \"Negative changed to zero\"\n",
      "elif x == 0:\n",
      "    print \"Zero\"\n",
      "elif x == 1:\n",
      "    print \"Single\"\n",
      "else:\n",
      "    print \"More\""
     ],
     "language": "python",
     "metadata": {},
     "outputs": [
      {
       "name": "stdout",
       "output_type": "stream",
       "stream": "stdout",
       "text": [
        "Enter an integer:0\n"
       ]
      },
      {
       "output_type": "stream",
       "stream": "stdout",
       "text": [
        "Zero\n"
       ]
      }
     ],
     "prompt_number": 2
    },
    {
     "cell_type": "code",
     "collapsed": false,
     "input": [],
     "language": "python",
     "metadata": {},
     "outputs": []
    }
   ],
   "metadata": {}
  }
 ]
}