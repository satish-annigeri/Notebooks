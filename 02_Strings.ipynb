{
 "metadata": {
  "name": "",
  "signature": "sha256:aa438daaad746f5f5336aad7cd91d719a955ae48886b099725ae3866989aed79"
 },
 "nbformat": 3,
 "nbformat_minor": 0,
 "worksheets": [
  {
   "cells": [
    {
     "cell_type": "markdown",
     "metadata": {},
     "source": [
      "# More Python Data Types and Operators\n",
      "## Strings\n",
      "\n",
      "String constants must be enclosed within a pair of aphostrophes or double quotes. In a string enclosed by aphostrophes, an embedded aphostrophe can be represented as `\\'`. Alternately, enclose a string in double quotes when it has an embedded aphostrophe, and vice versa. Length of a string `str` can be obtained with the function `len(str)`."
     ]
    },
    {
     "cell_type": "code",
     "collapsed": false,
     "input": [
      "fname = 'Satish'\n",
      "lname = \"Annigeri\"\n",
      "print fname, lname,len(fname), len(lname)\n",
      "print fname + ' ' + lname\n",
      "print 3 * fname\n",
      "print 3 * (fname + ' ')\n",
      "s1 = '''\n",
      "This is \n",
      "a long string. It can\n",
      "spread over multiple lines'''\n",
      "print s1\n",
      "s2 = \"\"\"\n",
      "A string can be enclosed within a pair of \n",
      "matching \"\n",
      "\"\"\"\n",
      "print s2\n",
      "print \"%s %s\" % (fname, lname)"
     ],
     "language": "python",
     "metadata": {},
     "outputs": [
      {
       "output_type": "stream",
       "stream": "stdout",
       "text": [
        "Satish Annigeri 6 8\n",
        "Satish Annigeri\n",
        "SatishSatishSatish\n",
        "Satish Satish Satish \n",
        "\n",
        "This is \n",
        "a long string. It can\n",
        "spread over multiple lines\n",
        "\n",
        "A string can be enclosed within a pair of \n",
        "matching \"\n",
        "\n",
        "Satish Annigeri\n"
       ]
      }
     ],
     "prompt_number": 2
    },
    {
     "cell_type": "markdown",
     "metadata": {},
     "source": [
      "## String is a List\n",
      "String is a list of characters. All operations that are valid for a list are valid for a string.\n",
      "\n",
      "## String Methods\n",
      "Python uses a class `str` for strings, and provides a number of useful methods for string manipulation."
     ]
    },
    {
     "cell_type": "code",
     "collapsed": false,
     "input": [
      "s = 'Raj, 1992-03-22, Bangalore'\n",
      "print len(s)\n",
      "print s.upper()\n",
      "print s.lower()\n",
      "print s.split(',')\n",
      "name, dob, place = s.split(',')\n",
      "print name, dob, place\n",
      "yy, mm, dd = dob.split('-')\n",
      "print 'Date:', dd, 'Month:', mm, 'Year:', yy\n",
      "print type(yy), type(mm), type(dd)\n",
      "year = int(yy)\n",
      "print year, type(year)"
     ],
     "language": "python",
     "metadata": {},
     "outputs": [
      {
       "output_type": "stream",
       "stream": "stdout",
       "text": [
        "26\n",
        "RAJ, 1992-03-22, BANGALORE\n",
        "raj, 1992-03-22, bangalore\n",
        "['Raj', ' 1992-03-22', ' Bangalore']\n",
        "Raj  1992-03-22  Bangalore\n",
        "Date: 22 Month: 03 Year:  1992\n",
        "<type 'str'> <type 'str'> <type 'str'>\n",
        "1992 <type 'int'>\n"
       ]
      }
     ],
     "prompt_number": 4
    },
    {
     "cell_type": "code",
     "collapsed": false,
     "input": [
      "print s\n",
      "print s[0], s[-1]\n",
      "for ch in s:\n",
      "    print ch"
     ],
     "language": "python",
     "metadata": {},
     "outputs": [
      {
       "output_type": "stream",
       "stream": "stdout",
       "text": [
        "Raj, 1992-03-22, Bangalore\n",
        "R e\n",
        "R\n",
        "a\n",
        "j\n",
        ",\n",
        " \n",
        "1\n",
        "9\n",
        "9\n",
        "2\n",
        "-\n",
        "0\n",
        "3\n",
        "-\n",
        "2\n",
        "2\n",
        ",\n",
        " \n",
        "B\n",
        "a\n",
        "n\n",
        "g\n",
        "a\n",
        "l\n",
        "o\n",
        "r\n",
        "e\n"
       ]
      }
     ],
     "prompt_number": 6
    },
    {
     "cell_type": "code",
     "collapsed": false,
     "input": [
      "s = \"Satish Annigeri\"\n",
      "print s.capitalize()\n",
      "print s.upper()\n",
      "print s.lower()\n",
      "print s.swapcase()\n",
      "print 'satish annigeri'.title()\n",
      "print s.rjust(25, '-')\n",
      "print s.ljust(25, '-')\n",
      "print s.center(25, '-')\n",
      "fname, lname = s.split(' ')\n",
      "print 'First name:', fname, 'Lastname:', lname"
     ],
     "language": "python",
     "metadata": {},
     "outputs": [
      {
       "output_type": "stream",
       "stream": "stdout",
       "text": [
        "Satish annigeri\n",
        "SATISH ANNIGERI\n",
        "satish annigeri\n",
        "sATISH aNNIGERI\n",
        "Satish Annigeri\n",
        "----------Satish Annigeri\n",
        "Satish Annigeri----------\n",
        "-----Satish Annigeri-----\n",
        "First name: Satish Lastname: Annigeri\n"
       ]
      }
     ],
     "prompt_number": 14
    },
    {
     "cell_type": "code",
     "collapsed": false,
     "input": [],
     "language": "python",
     "metadata": {},
     "outputs": []
    }
   ],
   "metadata": {}
  }
 ]
}