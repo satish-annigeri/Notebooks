{
 "cells": [
  {
   "cell_type": "markdown",
   "metadata": {},
   "source": [
    "# 4. Programming in MATLAB: Scripts and Functions"
   ]
  },
  {
   "cell_type": "markdown",
   "metadata": {},
   "source": [
    "## 4.1 Script Files"
   ]
  },
  {
   "cell_type": "code",
   "execution_count": 1,
   "metadata": {
    "collapsed": false
   },
   "outputs": [
    {
     "name": "stdout",
     "output_type": "stream",
     "text": [
      "import numpy as np\n",
      "r = 1\n",
      "A = np.array([[5.0, 2*r, r], [3, 6, 2*r-1], [2, r-1, 3*r]])\n",
      "b = np.array([2.0, 3, 5])\n",
      "det_A = np.linalg.det(A)\n",
      "x = np.linalg.solve(A, b)\n"
     ]
    }
   ],
   "source": [
    "!type solvex.py"
   ]
  },
  {
   "cell_type": "code",
   "execution_count": 8,
   "metadata": {
    "collapsed": false
   },
   "outputs": [
    {
     "name": "stdout",
     "output_type": "stream",
     "text": [
      "64.0\n",
      "[-0.03125   0.234375  1.6875  ]\n"
     ]
    }
   ],
   "source": [
    "%run solvex\n",
    "print det_A\n",
    "print x"
   ]
  },
  {
   "cell_type": "code",
   "execution_count": 9,
   "metadata": {
    "collapsed": false
   },
   "outputs": [
    {
     "name": "stdout",
     "output_type": "stream",
     "text": [
      "64.0 [-0.03125   0.234375  1.6875  ]\n"
     ]
    }
   ],
   "source": [
    "def solvexf(r):\n",
    "    A = np.array([[5.0, 2*r, r], [3, 6, 2*r-1], [2, r-1, 3*r]])\n",
    "    b = np.array([2.0, 3, 5])\n",
    "    det_A = np.linalg.det(A)\n",
    "    x = np.linalg.solve(A, b)\n",
    "    return det_A, x\n",
    "\n",
    "det_a, x = solvexf(1.0)\n",
    "print det_a, x"
   ]
  },
  {
   "cell_type": "markdown",
   "metadata": {},
   "source": [
    "#### Inline functions"
   ]
  },
  {
   "cell_type": "markdown",
   "metadata": {},
   "source": [
    "$$f(r) = r^3 - 32 r^2 + (r - 22)r + 100$$"
   ]
  },
  {
   "cell_type": "code",
   "execution_count": 10,
   "metadata": {
    "collapsed": false
   },
   "outputs": [
    {
     "name": "stdout",
     "output_type": "stream",
     "text": [
      "100.0\n",
      "48.0\n"
     ]
    }
   ],
   "source": [
    "fr = lambda r : r**3 - 32.0*r**2 + (r-22)*r + 100\n",
    "print fr(0)\n",
    "print fr(1.0)"
   ]
  },
  {
   "cell_type": "markdown",
   "metadata": {},
   "source": [
    "You can send in an array as input to the function, and the function returns an array."
   ]
  },
  {
   "cell_type": "code",
   "execution_count": 24,
   "metadata": {
    "collapsed": true
   },
   "outputs": [
    {
     "name": "stdout",
     "output_type": "stream",
     "text": [
      "    0.00      100.000\n",
      "    0.50       81.375\n",
      "    1.00       48.000\n",
      "    1.50        0.625\n",
      "    2.00      -60.000\n",
      "    2.50     -133.125\n",
      "    3.00     -218.000\n",
      "    3.50     -313.875\n",
      "    4.00     -420.000\n",
      "    4.50     -535.625\n"
     ]
    }
   ],
   "source": [
    "x = np.arange(0, 5, 0.5)\n",
    "y = fr(x)\n",
    "for xx, yy in zip(x, y):\n",
    "    print \"%8.2f %12.3f\" % (xx, yy)"
   ]
  },
  {
   "cell_type": "code",
   "execution_count": 23,
   "metadata": {
    "collapsed": false
   },
   "outputs": [
    {
     "data": {
      "image/png": "[encoded data removed]",
      "text/plain": [
       "<matplotlib.figure.Figure at 0xb150cf8>"
      ]
     },
     "metadata": {},
     "output_type": "display_data"
    }
   ],
   "source": [
    "import matplotlib\n",
    "import matplotlib.pyplot as plt\n",
    "%matplotlib inline\n",
    "\n",
    "plt.plot(x, y)\n",
    "plt.grid()\n",
    "plt.show()"
   ]
  },
  {
   "cell_type": "markdown",
   "metadata": {},
   "source": [
    "You can pass the function as input to another function, such as, ``scipy.optimize.newton()`` for finding the root by Newton's method."
   ]
  },
  {
   "cell_type": "code",
   "execution_count": 22,
   "metadata": {
    "collapsed": false
   },
   "outputs": [
    {
     "name": "stdout",
     "output_type": "stream",
     "text": [
      "1.50576553621\n",
      "1.42108547152e-14\n"
     ]
    }
   ],
   "source": [
    "import scipy.optimize as spopt\n",
    "\n",
    "r = spopt.newton(fr, 1)\n",
    "print r\n",
    "print fr(r)"
   ]
  },
  {
   "cell_type": "code",
   "execution_count": null,
   "metadata": {
    "collapsed": false
   },
   "outputs": [],
   "source": []
  }
 ],
 "metadata": {
  "kernelspec": {
   "display_name": "Python 2",
   "language": "python",
   "name": "python2"
  },
  "language_info": {
   "codemirror_mode": {
    "name": "ipython",
    "version": 2
   },
   "file_extension": ".py",
   "mimetype": "text/x-python",
   "name": "python",
   "nbconvert_exporter": "python",
   "pygments_lexer": "ipython2",
   "version": "2.7.11"
  }
 },
 "nbformat": 4,
 "nbformat_minor": 0
}
