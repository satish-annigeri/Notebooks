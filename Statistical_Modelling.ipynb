{
 "cells": [
  {
   "cell_type": "markdown",
   "metadata": {},
   "source": [
    "# Statstical Modeling with statsmodels\n"
   ]
  },
  {
   "cell_type": "code",
   "execution_count": 8,
   "metadata": {
    "collapsed": false
   },
   "outputs": [
    {
     "data": {
      "text/html": [
       "<div style=\"max-height:1000px;max-width:1500px;overflow:auto;\">\n",
       "<table border=\"1\" class=\"dataframe\">\n",
       "  <thead>\n",
       "    <tr style=\"text-align: right;\">\n",
       "      <th></th>\n",
       "      <th>Department</th>\n",
       "      <th>Lottery</th>\n",
       "      <th>Literacy</th>\n",
       "      <th>Wealth</th>\n",
       "      <th>Region</th>\n",
       "    </tr>\n",
       "  </thead>\n",
       "  <tbody>\n",
       "    <tr>\n",
       "      <th>81</th>\n",
       "      <td>       Vienne</td>\n",
       "      <td> 40</td>\n",
       "      <td> 25</td>\n",
       "      <td> 68</td>\n",
       "      <td>   W</td>\n",
       "    </tr>\n",
       "    <tr>\n",
       "      <th>82</th>\n",
       "      <td> Haute-Vienne</td>\n",
       "      <td> 55</td>\n",
       "      <td> 13</td>\n",
       "      <td> 67</td>\n",
       "      <td>   C</td>\n",
       "    </tr>\n",
       "    <tr>\n",
       "      <th>83</th>\n",
       "      <td>       Vosges</td>\n",
       "      <td> 14</td>\n",
       "      <td> 62</td>\n",
       "      <td> 82</td>\n",
       "      <td>   E</td>\n",
       "    </tr>\n",
       "    <tr>\n",
       "      <th>84</th>\n",
       "      <td>        Yonne</td>\n",
       "      <td> 51</td>\n",
       "      <td> 47</td>\n",
       "      <td> 30</td>\n",
       "      <td>   C</td>\n",
       "    </tr>\n",
       "    <tr>\n",
       "      <th>85</th>\n",
       "      <td>        Corse</td>\n",
       "      <td> 83</td>\n",
       "      <td> 49</td>\n",
       "      <td> 37</td>\n",
       "      <td> NaN</td>\n",
       "    </tr>\n",
       "  </tbody>\n",
       "</table>\n",
       "<p>5 rows × 5 columns</p>\n",
       "</div>"
      ],
      "text/plain": [
       "      Department  Lottery  Literacy  Wealth Region\n",
       "81        Vienne       40        25      68      W\n",
       "82  Haute-Vienne       55        13      67      C\n",
       "83        Vosges       14        62      82      E\n",
       "84         Yonne       51        47      30      C\n",
       "85         Corse       83        49      37    NaN\n",
       "\n",
       "[5 rows x 5 columns]"
      ]
     },
     "execution_count": 8,
     "metadata": {},
     "output_type": "execute_result"
    }
   ],
   "source": [
    "import numpy as np\n",
    "import pandas as pd\n",
    "from patsy import dmatrices\n",
    "import statsmodels.api as sm\n",
    "\n",
    "df = pd.read_csv('Guerry.csv')\n",
    "\n",
    "vars = ['Department', 'Lottery', 'Literacy', 'Wealth', 'Region']\n",
    "df = df[vars]\n",
    "df[-5:]"
   ]
  },
  {
   "cell_type": "code",
   "execution_count": 3,
   "metadata": {
    "collapsed": false
   },
   "outputs": [
    {
     "data": {
      "text/html": [
       "<div style=\"max-height:1000px;max-width:1500px;overflow:auto;\">\n",
       "<table border=\"1\" class=\"dataframe\">\n",
       "  <thead>\n",
       "    <tr style=\"text-align: right;\">\n",
       "      <th></th>\n",
       "      <th>Department</th>\n",
       "      <th>Lottery</th>\n",
       "      <th>Literacy</th>\n",
       "      <th>Wealth</th>\n",
       "      <th>Region</th>\n",
       "    </tr>\n",
       "  </thead>\n",
       "  <tbody>\n",
       "    <tr>\n",
       "      <th>80</th>\n",
       "      <td>       Vendee</td>\n",
       "      <td> 68</td>\n",
       "      <td> 28</td>\n",
       "      <td> 56</td>\n",
       "      <td> W</td>\n",
       "    </tr>\n",
       "    <tr>\n",
       "      <th>81</th>\n",
       "      <td>       Vienne</td>\n",
       "      <td> 40</td>\n",
       "      <td> 25</td>\n",
       "      <td> 68</td>\n",
       "      <td> W</td>\n",
       "    </tr>\n",
       "    <tr>\n",
       "      <th>82</th>\n",
       "      <td> Haute-Vienne</td>\n",
       "      <td> 55</td>\n",
       "      <td> 13</td>\n",
       "      <td> 67</td>\n",
       "      <td> C</td>\n",
       "    </tr>\n",
       "    <tr>\n",
       "      <th>83</th>\n",
       "      <td>       Vosges</td>\n",
       "      <td> 14</td>\n",
       "      <td> 62</td>\n",
       "      <td> 82</td>\n",
       "      <td> E</td>\n",
       "    </tr>\n",
       "    <tr>\n",
       "      <th>84</th>\n",
       "      <td>        Yonne</td>\n",
       "      <td> 51</td>\n",
       "      <td> 47</td>\n",
       "      <td> 30</td>\n",
       "      <td> C</td>\n",
       "    </tr>\n",
       "  </tbody>\n",
       "</table>\n",
       "<p>5 rows × 5 columns</p>\n",
       "</div>"
      ],
      "text/plain": [
       "      Department  Lottery  Literacy  Wealth Region\n",
       "80        Vendee       68        28      56      W\n",
       "81        Vienne       40        25      68      W\n",
       "82  Haute-Vienne       55        13      67      C\n",
       "83        Vosges       14        62      82      E\n",
       "84         Yonne       51        47      30      C\n",
       "\n",
       "[5 rows x 5 columns]"
      ]
     },
     "execution_count": 3,
     "metadata": {},
     "output_type": "execute_result"
    }
   ],
   "source": [
    "df = df.dropna()\n",
    "df[-5:]"
   ]
  },
  {
   "cell_type": "code",
   "execution_count": 4,
   "metadata": {
    "collapsed": false
   },
   "outputs": [
    {
     "name": "stdout",
     "output_type": "stream",
     "text": [
      "   Lottery\n",
      "0       41\n",
      "1       38\n",
      "2       66\n",
      "\n",
      "[3 rows x 1 columns]\n",
      "   Intercept  Region[T.E]  Region[T.N]  Region[T.S]  Region[T.W]  Lottery  \\\n",
      "0          1            1            0            0            0       41   \n",
      "1          1            0            1            0            0       38   \n",
      "2          1            0            0            0            0       66   \n",
      "\n",
      "   Wealth  \n",
      "0      73  \n",
      "1      22  \n",
      "2      61  \n",
      "\n",
      "[3 rows x 7 columns]\n"
     ]
    }
   ],
   "source": [
    "y, X = dmatrices('Lottery ~ Lottery + Wealth + Region', data=df, return_type='dataframe')\n",
    "print y[:3]\n",
    "print X[:3]"
   ]
  },
  {
   "cell_type": "code",
   "execution_count": 5,
   "metadata": {
    "collapsed": false
   },
   "outputs": [
    {
     "name": "stdout",
     "output_type": "stream",
     "text": [
      "                            OLS Regression Results                            \n",
      "==============================================================================\n",
      "Dep. Variable:                Lottery   R-squared:                       1.000\n",
      "Model:                            OLS   Adj. R-squared:                  1.000\n",
      "Method:                 Least Squares   F-statistic:                 7.607e+31\n",
      "Date:                Sat, 05 Apr 2014   Prob (F-statistic):               0.00\n",
      "Time:                        23:22:01   Log-Likelihood:                 2618.1\n",
      "No. Observations:                  85   AIC:                            -5222.\n",
      "Df Residuals:                      78   BIC:                            -5205.\n",
      "Df Model:                           6                                         \n",
      "===============================================================================\n",
      "                  coef    std err          t      P>|t|      [95.0% Conf. Int.]\n",
      "-------------------------------------------------------------------------------\n",
      "Intercept    1.421e-14   3.96e-15      3.585      0.001      6.32e-15  2.21e-14\n",
      "Region[T.E] -3.553e-15   3.85e-15     -0.923      0.359     -1.12e-14  4.11e-15\n",
      "Region[T.N] -8.882e-16   3.92e-15     -0.227      0.821     -8.69e-15  6.92e-15\n",
      "Region[T.S] -3.553e-15   3.66e-15     -0.972      0.334     -1.08e-14  3.72e-15\n",
      "Region[T.W]   1.51e-14    3.7e-15      4.084      0.000      7.74e-15  2.25e-14\n",
      "Lottery         1.0000   5.72e-17   1.75e+16      0.000         1.000     1.000\n",
      "Wealth      -3.365e-16   5.76e-17     -5.844      0.000     -4.51e-16 -2.22e-16\n",
      "==============================================================================\n",
      "Omnibus:                        0.362   Durbin-Watson:                   1.902\n",
      "Prob(Omnibus):                  0.835   Jarque-Bera (JB):                0.529\n",
      "Skew:                          -0.103   Prob(JB):                        0.767\n",
      "Kurtosis:                       2.673   Cond. No.                         399.\n",
      "==============================================================================\n"
     ]
    }
   ],
   "source": [
    "mod = sm.OLS(y, X)\n",
    "res = mod.fit()\n",
    "print res.summary()"
   ]
  },
  {
   "cell_type": "code",
   "execution_count": 6,
   "metadata": {
    "collapsed": false
   },
   "outputs": [
    {
     "name": "stdout",
     "output_type": "stream",
     "text": [
      "Intercept      1.421085e-14\n",
      "Region[T.E]   -3.552714e-15\n",
      "Region[T.N]   -8.881784e-16\n",
      "Region[T.S]   -3.552714e-15\n",
      "Region[T.W]    1.509903e-14\n",
      "Lottery        1.000000e+00\n",
      "Wealth        -3.365364e-16\n",
      "dtype: float64\n"
     ]
    }
   ],
   "source": [
    "print res.params"
   ]
  },
  {
   "cell_type": "markdown",
   "metadata": {},
   "source": [
    "## Design of Experiments\n",
    "Montgomery, D.C., Design and Analysis of Experiments, 5ed., John Wiley & Sons, 2001\n",
    "\n"
   ]
  },
  {
   "cell_type": "code",
   "execution_count": 32,
   "metadata": {
    "collapsed": false
   },
   "outputs": [
    {
     "name": "stdout",
     "output_type": "stream",
     "text": [
      "[[ 16.85  17.5 ]\n",
      " [ 16.4   17.63]\n",
      " [ 17.21  18.25]\n",
      " [ 16.35  18.  ]\n",
      " [ 16.52  17.86]\n",
      " [ 17.04  17.75]\n",
      " [ 16.96  18.22]\n",
      " [ 17.15  17.9 ]\n",
      " [ 16.59  17.96]\n",
      " [ 16.57  18.15]]\n",
      "        Mean: [ 16.764  17.922]\n",
      "    Variance: [ 0.10013778  0.06146222]\n",
      "   Std. Dev.: [ 0.31644554  0.24791576]\n",
      "Corr. Coeff.: [[ 1.          0.21346431]\n",
      " [ 0.21346431  1.        ]]\n",
      "(10L, 2L)\n"
     ]
    }
   ],
   "source": [
    "comp_str = np.array([[16.85, 17.50], [16.40, 17.63], [17.21, 18.25], [16.35, 18.00], [16.52, 17.86], [17.04, 17.75], [16.96, 18.22], [17.15, 17.90], [16.59, 17.96], [16.57, 18.15]])\n",
    "print comp_str\n",
    "print '        Mean:', np.mean(comp_str, axis=0)\n",
    "print '    Variance:', np.var(comp_str, axis=0, ddof=1)\n",
    "print '   Std. Dev.:', np.std(comp_str, axis=0, ddof=1)\n",
    "print 'Corr. Coeff.:', np.corrcoef(comp_str, rowvar=0)\n",
    "print comp_str.shape"
   ]
  },
  {
   "cell_type": "code",
   "execution_count": 31,
   "metadata": {
    "collapsed": false
   },
   "outputs": [
    {
     "name": "stdout",
     "output_type": "stream",
     "text": [
      "-9.04463154667 4.09131615959e-08\n"
     ]
    }
   ],
   "source": [
    "from scipy.stats import ttest_ind\n",
    "\n",
    "t, prob = ttest_ind(comp_str[:,0], comp_str[:,1])\n",
    "print t, prob"
   ]
  },
  {
   "cell_type": "code",
   "execution_count": null,
   "metadata": {
    "collapsed": false
   },
   "outputs": [],
   "source": []
  }
 ],
 "metadata": {
  "kernelspec": {
   "display_name": "Python 2",
   "language": "python",
   "name": "python2"
  },
  "language_info": {
   "codemirror_mode": {
    "name": "ipython",
    "version": 2
   },
   "file_extension": ".py",
   "mimetype": "text/x-python",
   "name": "python",
   "nbconvert_exporter": "python",
   "pygments_lexer": "ipython2",
   "version": "2.7.11"
  }
 },
 "nbformat": 4,
 "nbformat_minor": 0
}
