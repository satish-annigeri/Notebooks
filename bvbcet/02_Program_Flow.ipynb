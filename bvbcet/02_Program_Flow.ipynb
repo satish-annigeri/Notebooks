{
 "cells": [
  {
   "cell_type": "markdown",
   "metadata": {},
   "source": [
    "# Program Flow Control\n",
    "* **`for`** loop\n",
    "* **`while`** loop\n",
    "* **`if`**, **`elif`**, **`else`**\n",
    "\n",
    "## **`for`** Loop\n",
    "* Iterate over elements in a container\n",
    "* Enumerate elements in a container"
   ]
  },
  {
   "cell_type": "code",
   "execution_count": 4,
   "metadata": {
    "collapsed": false
   },
   "outputs": [
    {
     "name": "stdout",
     "output_type": "stream",
     "text": [
      "[0, 2, 4, 6, 8, 10]\n",
      "0 2 4 6 8 10 "
     ]
    }
   ],
   "source": [
    "from __future__ import print_function, division\n",
    "import numpy as np\n",
    "\n",
    "a = range(0, 11, 2)\n",
    "print(a)\n",
    "\n",
    "for x in a:\n",
    "    print(x, end=\" \")"
   ]
  },
  {
   "cell_type": "markdown",
   "metadata": {},
   "source": [
    "Knowing the length of the list, we can iterate over the elements of the list:"
   ]
  },
  {
   "cell_type": "code",
   "execution_count": 2,
   "metadata": {
    "collapsed": false
   },
   "outputs": [
    {
     "name": "stdout",
     "output_type": "stream",
     "text": [
      "0 0\n",
      "1 2\n",
      "2 4\n",
      "3 6\n",
      "4 8\n",
      "5 10\n"
     ]
    }
   ],
   "source": [
    "for i in range(len(a)):\n",
    "    print(i, a[i])"
   ]
  },
  {
   "cell_type": "markdown",
   "metadata": {},
   "source": [
    "We can enumerate a List"
   ]
  },
  {
   "cell_type": "code",
   "execution_count": 2,
   "metadata": {
    "collapsed": false
   },
   "outputs": [
    {
     "name": "stdout",
     "output_type": "stream",
     "text": [
      "1\n",
      "2\n",
      "3\n",
      "4\n",
      "5\n",
      "(0, 1)\n",
      "(1, 2)\n",
      "(2, 3)\n",
      "(3, 4)\n",
      "(4, 5)\n"
     ]
    }
   ],
   "source": [
    "a = range(1, 6)\n",
    "\n",
    "for x in a:\n",
    "    print(x)\n",
    "for i, x in enumerate(a):\n",
    "    print(i, x)"
   ]
  },
  {
   "cell_type": "markdown",
   "metadata": {},
   "source": [
    "The **`for`** loop works with any **container**."
   ]
  },
  {
   "cell_type": "code",
   "execution_count": 2,
   "metadata": {
    "collapsed": false
   },
   "outputs": [
    {
     "name": "stdout",
     "output_type": "stream",
     "text": [
      "<type 'list'>\n",
      "(<type 'float'>, 10.0)\n",
      "(<type 'float'>, -2.0)\n",
      "(<type 'str'>, 'GNUnify2015')\n"
     ]
    }
   ],
   "source": [
    "b = [10.0, -2.0, \"GNUnify2015\"]\n",
    "print(type(b))\n",
    "for x in b:\n",
    "    print(type(x), x)"
   ]
  },
  {
   "cell_type": "markdown",
   "metadata": {},
   "source": [
    "## Using **`enumerate`** to index a List while Looping\n",
    "\n",
    "Many a times, it is required to know the index of the item being accessed in a loop. This can be done using **`enumerate`**. **`enumerate`** returns a **generatpr** whichwhen used in a loop, yields one item at a time in sequence."
   ]
  },
  {
   "cell_type": "code",
   "execution_count": 9,
   "metadata": {
    "collapsed": false
   },
   "outputs": [
    {
     "name": "stdout",
     "output_type": "stream",
     "text": [
      "<type 'enumerate'>\n",
      "0 10.0\n",
      "1 -2.0\n",
      "2 GNUnify2015\n",
      "\n",
      "0 10.0\n",
      "1 -2.0\n",
      "2 GNUnify2015\n"
     ]
    }
   ],
   "source": [
    "c = enumerate(b)\n",
    "print(type(c))\n",
    "\n",
    "for i, x in c:\n",
    "    print(i, x)\n",
    "print()\n",
    "# Use enumerate() directly\n",
    "for i, x in enumerate(b):\n",
    "    print(i, x)"
   ]
  },
  {
   "cell_type": "markdown",
   "metadata": {},
   "source": [
    "## While Loop"
   ]
  },
  {
   "cell_type": "code",
   "execution_count": 11,
   "metadata": {
    "collapsed": false
   },
   "outputs": [
    {
     "name": "stdout",
     "output_type": "stream",
     "text": [
      "0\n",
      "2\n",
      "4\n",
      "6\n",
      "8\n",
      "10\n"
     ]
    }
   ],
   "source": [
    "i = 0\n",
    "while i <= 10:\n",
    "    print(i)\n",
    "    i += 2"
   ]
  },
  {
   "cell_type": "code",
   "execution_count": 12,
   "metadata": {
    "collapsed": false
   },
   "outputs": [
    {
     "name": "stdout",
     "output_type": "stream",
     "text": [
      "10\n",
      "8\n",
      "6\n",
      "4\n",
      "2\n"
     ]
    }
   ],
   "source": [
    "i = 10\n",
    "while i > 0:\n",
    "    print(i)\n",
    "    i -= 2"
   ]
  },
  {
   "cell_type": "markdown",
   "metadata": {},
   "source": [
    "## `if`, `elif`, `else`"
   ]
  },
  {
   "cell_type": "code",
   "execution_count": 13,
   "metadata": {
    "collapsed": false
   },
   "outputs": [
    {
     "name": "stdout",
     "output_type": "stream",
     "text": [
      "0.1\n",
      "0.2\n",
      "-0.2\n",
      "-0.1\n"
     ]
    }
   ],
   "source": [
    "x = [10, 5, 0, -5, -10]\n",
    "for xx in x:\n",
    "    if xx == 0:\n",
    "        pass\n",
    "    else:\n",
    "        print(1 / xx)"
   ]
  },
  {
   "cell_type": "code",
   "execution_count": 14,
   "metadata": {
    "collapsed": false
   },
   "outputs": [
    {
     "name": "stdout",
     "output_type": "stream",
     "text": [
      "[ 3.11402875  0.54275267  1.96525987 -2.73048403 -0.79837068]\n",
      "3.11402875265 is positive\n",
      "0.542752671347 is positive\n",
      "1.96525987246 is positive\n",
      "-2.73048402607 is negative\n",
      "-0.798370680938 is negative\n"
     ]
    }
   ],
   "source": [
    "a = (np.random.rand(5) - 0.5) * 10\n",
    "print(a)\n",
    "for x in a:\n",
    "    if x > 0:\n",
    "        print(x, 'is positive')\n",
    "    elif x == 0:\n",
    "        print(x, 'is zero')\n",
    "    else:\n",
    "        print(x, 'is negative')"
   ]
  },
  {
   "cell_type": "code",
   "execution_count": null,
   "metadata": {
    "collapsed": true
   },
   "outputs": [],
   "source": []
  }
 ],
 "metadata": {
  "kernelspec": {
   "display_name": "Python 2",
   "language": "python",
   "name": "python2"
  },
  "language_info": {
   "codemirror_mode": {
    "name": "ipython",
    "version": 2
   },
   "file_extension": ".py",
   "mimetype": "text/x-python",
   "name": "python",
   "nbconvert_exporter": "python",
   "pygments_lexer": "ipython2",
   "version": "2.7.9"
  }
 },
 "nbformat": 4,
 "nbformat_minor": 0
}
