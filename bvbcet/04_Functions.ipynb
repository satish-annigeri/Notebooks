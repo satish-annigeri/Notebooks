{
 "cells": [
  {
   "cell_type": "markdown",
   "metadata": {},
   "source": [
    "# Functions\n",
    "\n",
    "Procedural approach to programming attempts to breakdown a complex task into one or more subtasks and assign one function to each subtask. Functions thus make a program modular, because:\n",
    "\n",
    "* Each function in conceptually complete in itself and therefore can be developed and tested as a modular block\n",
    "* Once a function is designed, developed and tested, a user of the function need not concern herself with the inner details of the function, the so called **black box** concept\n",
    "* If a complex function depends on other simpler functions, the development must first begin with the simpler independent functions before the complex dependent function can be developed.\n",
    "\n",
    "## Function Interface\n",
    "When designing a function, the developer can think of the function as being made up of:\n",
    "* Function interface consisting of:\n",
    "  - Name of the function\n",
    "  - Input arguments\n",
    "  - Output arguments\n",
    "* Body of the function, consisting of the procedure to to obtan the desired output from the given input\n",
    "\n",
    "The following guidelines will help you design a good function:\n",
    "* **Name of the function** must be cryptic and represent the task it aims to accomplish\n",
    "* **Input arguments** must just be sufficient to obtain the desired output. The sequence in which they are arranged needs to be carefully considered\n",
    "* **Output arguments** are the results returned by the function"
   ]
  },
  {
   "cell_type": "markdown",
   "metadata": {},
   "source": [
    "## Python Functions\n",
    "Python supports both procedural as well as object oriented approaches to programming. Function is the building block of procedural approach and considers a program as a task. It attempts to accomplish a task by subdividing it into subtasks and delegating each task or subtask to one function. A typical program can then be thought of as a hierarchy of functions, a complex function in turn depending on one or more simpler functions.\n",
    "\n",
    "**NOTE**\n",
    "1. Indentation is **required**\n",
    "2. Most people new to Python find this requirement a little disconcerting, but you will begin to appreciate it once you get used to it"
   ]
  },
  {
   "cell_type": "code",
   "execution_count": 1,
   "metadata": {
    "collapsed": false
   },
   "outputs": [
    {
     "name": "stdout",
     "output_type": "stream",
     "text": [
      "Area = 25.0\n",
      "Help on function getArea in module __main__:\n",
      "\n",
      "getArea(l, b)\n",
      "    Returns the area of a rectangle\n",
      "\n"
     ]
    }
   ],
   "source": [
    "from __future__ import division, print_function\n",
    "\n",
    "def getArea(l, b):\n",
    "    '''Returns the area of a rectangle'''\n",
    "    return l * b\n",
    "\n",
    "a = getArea(10, 2.5)\n",
    "print('Area =', a)\n",
    "help(getArea)"
   ]
  },
  {
   "cell_type": "markdown",
   "metadata": {},
   "source": [
    "Typically, a Python function has a name that is unique within its namespace, zero or more input parameters, zero or more output parameters and a body consisting of Python code.\n",
    "\n",
    "## Multiple Return Values\n",
    "\n",
    "A Python function can return more than one result to the calling function. When a Python function returns only one result, it is analogous to a C language function. When it does not return any result, it is analogous to a C language function that returns **`void`**."
   ]
  },
  {
   "cell_type": "code",
   "execution_count": 2,
   "metadata": {
    "collapsed": false
   },
   "outputs": [
    {
     "name": "stdout",
     "output_type": "stream",
     "text": [
      "<type 'tuple'> (-3, 10)\n"
     ]
    }
   ],
   "source": [
    "def MinMax(L):\n",
    "    m1 = min(L)\n",
    "    m2 = max(L)\n",
    "    return (m1, m2)\n",
    "\n",
    "a = [10, 2, -3, 7, 9]\n",
    "b = MinMax(a)\n",
    "print(type(b), b)"
   ]
  },
  {
   "cell_type": "code",
   "execution_count": 3,
   "metadata": {
    "collapsed": false
   },
   "outputs": [
    {
     "name": "stdout",
     "output_type": "stream",
     "text": [
      "Min = -3 Max = 10\n"
     ]
    }
   ],
   "source": [
    "x, y = MinMax(a)   # Unpack the tuple returned by MinMax()\n",
    "print('Min =', x, 'Max =', y)"
   ]
  },
  {
   "cell_type": "code",
   "execution_count": 4,
   "metadata": {
    "collapsed": false
   },
   "outputs": [
    {
     "name": "stdout",
     "output_type": "stream",
     "text": [
      "(-3, 10, -3, 10)\n"
     ]
    }
   ],
   "source": [
    "print(MinMax(a) * 2) # Multiply the tuple returned by MinMax() with 2"
   ]
  },
  {
   "cell_type": "markdown",
   "metadata": {},
   "source": [
    "## Function Arguments\n",
    "\n",
    "### Arguments  with Default Values\n",
    "\n",
    "You can assign default values to the input arguments. If that argument is not supplied when the function is called, the default value is used in its place."
   ]
  },
  {
   "cell_type": "code",
   "execution_count": 5,
   "metadata": {
    "collapsed": false
   },
   "outputs": [
    {
     "name": "stdout",
     "output_type": "stream",
     "text": [
      "5.0\n",
      "5.38516480713\n"
     ]
    }
   ],
   "source": [
    "import math\n",
    "\n",
    "def posVector(x, y, z=0):\n",
    "    return math.sqrt(x**2 + y**2 + z**2)\n",
    "\n",
    "print(posVector(3, 4))\n",
    "print(posVector(2, 3, 4))"
   ]
  },
  {
   "cell_type": "markdown",
   "metadata": {},
   "source": [
    "### Positional Arguments\n",
    "\n",
    "The positional arguments are available inside the function as a tuple. Thus they are matched by zero or more arguments during function call."
   ]
  },
  {
   "cell_type": "code",
   "execution_count": 6,
   "metadata": {
    "collapsed": false
   },
   "outputs": [
    {
     "name": "stdout",
     "output_type": "stream",
     "text": [
      "<type 'tuple'> 3 (10, 20, 30)\n",
      "<type 'tuple'> 5 (1, 2, 3, 4, 5)\n",
      "<type 'tuple'> 0 ()\n"
     ]
    }
   ],
   "source": [
    "def f1(*args):\n",
    "    print(type(args), len(args), args)\n",
    "    return\n",
    "\n",
    "f1(10, 20, 30)\n",
    "f1(1, 2, 3, 4, 5)\n",
    "f1()"
   ]
  },
  {
   "cell_type": "markdown",
   "metadata": {},
   "source": [
    "### Keyword Arguments\n",
    "\n",
    "Keyword arguments are available inside a function as a dictionary. Names associated with the argument is specified during the function call. Thus they are matched by zero or more named arguments during function call."
   ]
  },
  {
   "cell_type": "code",
   "execution_count": 7,
   "metadata": {
    "collapsed": false
   },
   "outputs": [
    {
     "name": "stdout",
     "output_type": "stream",
     "text": [
      "<type 'dict'> 2 {'a': 10, 'b': 'Spam'}\n",
      "<type 'dict'> 3 {'y': 20, 'x': 10, 'z': 'Spam'}\n",
      "<type 'dict'> 0 {}\n"
     ]
    }
   ],
   "source": [
    "def f2(**kwargs):\n",
    "    print(type(kwargs), len(kwargs), kwargs)\n",
    "    return\n",
    "\n",
    "f2(a = 10, b = 'Spam')\n",
    "f2(x = 10, y = 20, z = 'Spam')\n",
    "f2()"
   ]
  },
  {
   "cell_type": "code",
   "execution_count": 8,
   "metadata": {
    "collapsed": false
   },
   "outputs": [
    {
     "name": "stdout",
     "output_type": "stream",
     "text": [
      "2 2\n",
      "(1, 'Spam')\n",
      "{'i': 10, 'j': 'Foo'}\n"
     ]
    }
   ],
   "source": [
    "def f3(*args, **kwargs):\n",
    "    print(len(args), len(kwargs))\n",
    "    print(args)\n",
    "    print(kwargs)\n",
    "    return\n",
    "\n",
    "f3(1, 'Spam', i = 10, j = 'Foo')"
   ]
  },
  {
   "cell_type": "markdown",
   "metadata": {},
   "source": [
    "## Combination of Different Types of Arguments\n",
    "A function can have a combination of any of these types of arguments."
   ]
  },
  {
   "cell_type": "code",
   "execution_count": 9,
   "metadata": {
    "collapsed": false
   },
   "outputs": [
    {
     "name": "stdout",
     "output_type": "stream",
     "text": [
      "10\n",
      "30\n",
      "args: (40, 50)\n",
      "kwargs: {'x': 100}\n"
     ]
    }
   ],
   "source": [
    "def f4(a, b=20, *args, **kwargs): # 2 normal args (1 with default value), positional args, keyword args\n",
    "    print(a)\n",
    "    print(b)\n",
    "    print('args:', args)\n",
    "    print('kwargs:', kwargs)\n",
    "    return\n",
    "\n",
    "f4(10, 30, 40, 50, x=100)"
   ]
  },
  {
   "cell_type": "code",
   "execution_count": 10,
   "metadata": {
    "collapsed": false
   },
   "outputs": [
    {
     "name": "stdout",
     "output_type": "stream",
     "text": [
      "10\n",
      "50\n",
      "args: ()\n",
      "kwargs: {'y': 100}\n"
     ]
    }
   ],
   "source": [
    "f4(10, 50, y = 100)"
   ]
  },
  {
   "cell_type": "code",
   "execution_count": 11,
   "metadata": {
    "collapsed": false
   },
   "outputs": [
    {
     "name": "stdout",
     "output_type": "stream",
     "text": [
      "10\n",
      "20\n",
      "args: (30, 40)\n",
      "kwargs: {}\n"
     ]
    }
   ],
   "source": [
    "f4(10, 20, 30, 40)"
   ]
  },
  {
   "cell_type": "code",
   "execution_count": 12,
   "metadata": {
    "collapsed": false
   },
   "outputs": [
    {
     "name": "stdout",
     "output_type": "stream",
     "text": [
      "10\n",
      "20\n",
      "args: (30, 40, 50)\n",
      "kwargs: {'z': 100}\n"
     ]
    }
   ],
   "source": [
    "f4(10, 20, 30, 40, 50, z = 100)"
   ]
  },
  {
   "cell_type": "markdown",
   "metadata": {},
   "source": [
    "## Rules for Arguments\n",
    "Here are the rules to keep in mind:\n",
    "\n",
    "1. Normal arguments are defined first. If defined, they must be exactly matched by the arguments supplied during function call\n",
    "2. Normal arguments with default values are optional. If present, they appear at the end of the list of normal arguments\n",
    "3. Positional arguments are optional, and if present, must come after the normal arguments\n",
    "4. Keyword arguments are optional, and if present, must come last"
   ]
  },
  {
   "cell_type": "markdown",
   "metadata": {},
   "source": [
    "## Designing Function Interfaces\n",
    "A function has two distinct parts:\n",
    "\n",
    "* The interface consists of \n",
    "  * A statement explaining the purpose of the function\n",
    "  * The name of the function\n",
    "  * Its input arguments, if any\n",
    "  * Its output arguments, if any\n",
    "  * Its input and output arguments, if any\n",
    "* Body of the function, consisting of program code that processes the input to produce the output\n",
    "\n",
    "Body of the function is the implementation of the algorithm. The interface of the function requires careful thought, and this is what I wish to call the process of \"designing the function\". The word design implies application of conscious thought and effort that ensures that the outcome of an activity is the same as or close to what is initially planned or intended.\n",
    "\n",
    "As the designer of a function, it is not enough if you simply ensure that the function does what it claims to do. In addition, it must also have several other attributes:\n",
    "\n",
    "* Have a cryptic but self explanatory name that indicates what it does\n",
    "* Have a list of input variables that is short but complete\n",
    "* Have the input arguments that are arranged in a sequence that is logical and obvious\n",
    "\n",
    "Consider the following example, where we wish to write a function to calculate the length of a line segment joining two points in a plane. This statement specifies what the function is intended to do. Next comes the question what input do we need to achieve this objective. The answer to this question is not unique. Two possible answers to this question are:\n",
    "\n",
    "* Input arguments consist of $x_1, y_1, x_2, y_2$ which are the $x$ and $y$ coordinates of the points connected by the line segment.\n",
    "* Input arguments consist of two one-dimensioned arrays, each array containing two elements representing the coordinates of the points\n",
    "\n",
    "Then asking ourselves in what sequence ar ethese arguments are most logical, we could come out with different answers. For example, for the first choice of arguments, they could be arranged in several different sequences:\n",
    "\n",
    "* $x_1, y_1, x_2, y_2$,\n",
    "* $x_1, x_2, y_1, y_2$,\n",
    "* $x_1, y_2, x_2, y_1$, or \n",
    "* some other sequence\n",
    "\n",
    "For the second choice, thankfully we have only two alternatives:\n",
    "\n",
    "* $p_1, p_2$, or\n",
    "* $p_2, p_1$\n",
    "\n",
    "To decide on which choice to adopt, ask yourself the following questions:\n",
    "\n",
    "* Is it logical?\n",
    "* Is it easy to remember?\n",
    "* Does it offer additional benefits compared to the others?\n",
    "\n",
    "While personal tastes may vary, the following choice to use $p_1, p_2$ rather than $x_1, y_1, x_2, y_2$ could be relatively easily defended as it is\n",
    "\n",
    "* More logical to use\n",
    "* It more closely represents the problem at hand,\n",
    "* Is less confusing and easy to remember\n",
    "* Offers the advantage that if we want to extend the function to compute the length of a line in 3D space, we need not change the input arguments, except that it will now contain 3 elements instead of two\n"
   ]
  },
  {
   "cell_type": "code",
   "execution_count": 13,
   "metadata": {
    "collapsed": false
   },
   "outputs": [
    {
     "name": "stdout",
     "output_type": "stream",
     "text": [
      "5.0\n",
      "Help on function linelen in module __main__:\n",
      "\n",
      "linelen(p1, p2)\n",
      "    ([2], [2]) -> float\n",
      "\n"
     ]
    }
   ],
   "source": [
    "import numpy as np\n",
    "\n",
    "def linelen(p1, p2):\n",
    "    '''([2], [2]) -> float'''\n",
    "    projections = p2 - p1\n",
    "    L = np.sqrt(sum(projections**2))\n",
    "    return L\n",
    "\n",
    "print(linelen(np.array([0., 0.]), np.array([3., 4.])))\n",
    "help(linelen)"
   ]
  },
  {
   "cell_type": "code",
   "execution_count": 14,
   "metadata": {
    "collapsed": false
   },
   "outputs": [
    {
     "name": "stdout",
     "output_type": "stream",
     "text": [
      "7.07106781187\n"
     ]
    }
   ],
   "source": [
    "print(linelen(np.array([0., 0., 0.]), np.array([3., 4., 5.])))"
   ]
  },
  {
   "cell_type": "markdown",
   "metadata": {
    "collapsed": false
   },
   "source": [
    "## `lambda` Functions\n",
    "\n",
    "Short functions can be written as **`lambda`** functions."
   ]
  },
  {
   "cell_type": "code",
   "execution_count": 15,
   "metadata": {
    "collapsed": false
   },
   "outputs": [
    {
     "name": "stdout",
     "output_type": "stream",
     "text": [
      "20\n",
      "20.0\n",
      "[1, 2, 3, 1, 2, 3]\n",
      "(4+8j)\n",
      "[20 40 60]\n"
     ]
    }
   ],
   "source": [
    "func = lambda x: 2*x\n",
    "\n",
    "y = func(10)\n",
    "print(y)\n",
    "\n",
    "print(func(10.0))\n",
    "\n",
    "print(func([1, 2, 3]))\n",
    "\n",
    "print(func(2+4j))\n",
    "\n",
    "print(func(np.array([10, 20, 30])))"
   ]
  },
  {
   "cell_type": "code",
   "execution_count": 16,
   "metadata": {
    "collapsed": false
   },
   "outputs": [
    {
     "name": "stdout",
     "output_type": "stream",
     "text": [
      "10\n"
     ]
    }
   ],
   "source": [
    "func = lambda x, y: 2 * (x + y)\n",
    "\n",
    "print(func(2, 3))"
   ]
  },
  {
   "cell_type": "markdown",
   "metadata": {},
   "source": [
    "## Taking advantage of Keyword Arguments\n",
    "\n",
    "Consider a situation where you are developing a function that in turn is required to call another user defined function. To pass input arguments to thechild function, we first pass them into our user defined function and in turn they are passed on to the child function.\n",
    "\n",
    "Here is an example, we want to develop a function that plots the graph of any function that is passed in as an argument."
   ]
  },
  {
   "cell_type": "code",
   "execution_count": 20,
   "metadata": {
    "collapsed": false
   },
   "outputs": [
    {
     "data": {
      "image/png": "[encoded data removed]",
      "text/plain": [
       "<matplotlib.figure.Figure at 0x455f4a8>"
      ]
     },
     "metadata": {},
     "output_type": "display_data"
    },
    {
     "data": {
      "image/png": "[encoded data removed]",
      "text/plain": [
       "<matplotlib.figure.Figure at 0xb6e0a90>"
      ]
     },
     "metadata": {},
     "output_type": "display_data"
    },
    {
     "data": {
      "image/png": "[encoded data removed]",
      "text/plain": [
       "<matplotlib.figure.Figure at 0xb6e0a20>"
      ]
     },
     "metadata": {},
     "output_type": "display_data"
    }
   ],
   "source": [
    "import matplotlib.pyplot as plt\n",
    "%matplotlib inline\n",
    "\n",
    "def plotfunc(f, x0, x1, n):\n",
    "    x = np.linspace(x0, x1, n)\n",
    "    y = f(x)\n",
    "    plt.plot(x, y)\n",
    "    plt.grid()\n",
    "    plt.show()\n",
    "    return\n",
    "\n",
    "def myfunc(x):\n",
    "    return np.sin(x) + np.cos(x)\n",
    "\n",
    "plotfunc(np.sin, 0, 2*np.pi, 201)\n",
    "plotfunc(np.cos, 0, 2*np.pi, 201)\n",
    "plotfunc(myfunc, 0, 2*np.pi, 201)"
   ]
  },
  {
   "cell_type": "markdown",
   "metadata": {},
   "source": [
    "As long as the child function takes only one input argument, everything works well. What if the child function requires other input arguments? Well, we could send them in as input arguments to our function and then pass them on to the child function."
   ]
  },
  {
   "cell_type": "code",
   "execution_count": 25,
   "metadata": {
    "collapsed": false
   },
   "outputs": [
    {
     "data": {
      "image/png": "[encoded data removed]",
      "text/plain": [
       "<matplotlib.figure.Figure at 0xb764b70>"
      ]
     },
     "metadata": {},
     "output_type": "display_data"
    }
   ],
   "source": [
    "def f(x, a, b, c):\n",
    "    return a*x**2 + b*x + c\n",
    "\n",
    "def plotfunc2(f, x0, x1, n, a, b, c):\n",
    "    x = np.linspace(x0, x1, n)\n",
    "    y = f(x, a, b, c)\n",
    "    plt.plot(x, y)\n",
    "    plt.grid()\n",
    "    plt.show()\n",
    "    return\n",
    "\n",
    "plotfunc2(f, -10, 10, 201, 3, 2, -50)"
   ]
  },
  {
   "cell_type": "markdown",
   "metadata": {},
   "source": [
    "As long as the child function we wish to call takes x and three additional arguments, this modified function will work. What if we want to call different child functions, but each of them requires different input arguments?\n",
    "\n",
    "We will use the keyword argument feature to address this problem."
   ]
  },
  {
   "cell_type": "code",
   "execution_count": 29,
   "metadata": {
    "collapsed": false
   },
   "outputs": [
    {
     "data": {
      "image/png": "[encoded data removed]",
      "text/plain": [
       "<matplotlib.figure.Figure at 0xbb6a4a8>"
      ]
     },
     "metadata": {},
     "output_type": "display_data"
    },
    {
     "data": {
      "image/png": "[encoded data removed]",
      "text/plain": [
       "<matplotlib.figure.Figure at 0xb3c5588>"
      ]
     },
     "metadata": {},
     "output_type": "display_data"
    }
   ],
   "source": [
    "def plotfunc3(f, x0, x1, n, **kwargs):\n",
    "    x = np.linspace(x0, x1, n)\n",
    "    y = f(x, **kwargs)\n",
    "    plt.plot(x, y)\n",
    "    plt.grid()\n",
    "    plt.show()\n",
    "    return\n",
    "\n",
    "plotfunc3(np.sin, -10, 10, 201)\n",
    "plotfunc3(f, -10, 10, 201, a=3, b=2, c=-50)"
   ]
  },
  {
   "cell_type": "markdown",
   "metadata": {},
   "source": [
    "## User Defined Modules\n",
    "\n",
    "A Python file containing valid Python code can be imported into another Python file with the **`import`** keyword. The file being imported must be in the same directory as the file into which it is being imported, or in any directory defined in the **`PYTHONPATH`** environment variable. Thus **`import spam`** leads the Python interpreter to search for a file named **`spam.py`** in the same directory as the file in which the **`import`** statement appears. If such a file is not found, the interpreter continues to search for that file on any one of the directories listed in the **`PYTHONPATH`** environment variable, in the order they appear in that variable. The first occurrence of the file is imported. If the file is not found anywhere on the **`PYTHONPATH`**, the **`import`** operation fails.\n",
    "\n",
    "When a Python file is successfully imported within another Python file, following things happen:\n",
    "* A new namespace is created having the same name as the name of the Python file imported\n",
    "* Code in the imported file is compiled and the compiled functions, classes, variables are placed within the newly created namespace\n",
    "* All statements from the imported file are executed\n",
    "\n",
    "Each module (file) has a built-in attribute called **`__name__`** which is set automatically by Python as follows:\n",
    "* If the file is being run as a top level program file, **`__name__`** is set to **`\"__main__\"`** when it starts\n",
    "* If the file is being imported, **`__name__`** is instead set to the module's name as known by its clients\n",
    "\n",
    "It is therefore possible for a file to test itself to determine whether it is being imported or being run as a top level program. If **`__name__`** attribute is set to **`\"__main__:`**, then it is being run as a top level program, otherwise it is being imported into another file. This can be used to ensure that certain part of the file are executed only when the file is being run as a top level program and not to be executed otherwise. This is accomplished with the following **`if`** block:"
   ]
  },
  {
   "cell_type": "code",
   "execution_count": null,
   "metadata": {
    "collapsed": false
   },
   "outputs": [],
   "source": [
    "\n",
    "print(__name__)\n",
    "\n",
    "if __name__ == \"__main__\":\n",
    "    print(\"Running as top level program\")"
   ]
  },
  {
   "cell_type": "markdown",
   "metadata": {},
   "source": [
    "## User Defined Packages\n",
    "\n",
    "Just as files modules correspond to files, packages correspond to directories. Just one additional requirement, a file (possibly empty) named __init__.py must be present inside the directory for it to be treated as a package. Any file in such a directory becomes a submodule of that package."
   ]
  }
 ],
 "metadata": {
  "kernelspec": {
   "display_name": "Python 2",
   "language": "python",
   "name": "python2"
  },
  "language_info": {
   "codemirror_mode": {
    "name": "ipython",
    "version": 2
   },
   "file_extension": ".py",
   "mimetype": "text/x-python",
   "name": "python",
   "nbconvert_exporter": "python",
   "pygments_lexer": "ipython2",
   "version": "2.7.9"
  }
 },
 "nbformat": 4,
 "nbformat_minor": 0
}
