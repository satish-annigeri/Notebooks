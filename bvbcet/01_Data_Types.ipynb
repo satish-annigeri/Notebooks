{
 "cells": [
  {
   "cell_type": "markdown",
   "metadata": {},
   "source": [
    "# Introduction to Python\n",
    "\n",
    "* Python is a general purpose programming language with strong support for numerical computations\n",
    "* Original Python implementation is CPython, which is written in C. Hence you can easily include C/C++ code into Python\n",
    "* Huge collection of useful modules and packages for general as well as numerical computation applications\n",
    "* Mature programming language with support for imperative programming and limited support for functional programming\n",
    "* Under imperative programming paradigm, supports both **object oriented** and **procedural programming**\n",
    "* Python is a dynamic (interpreted) programming language\n",
    "* Python is case sensitive and weakly typed (data type of objects need not be declared before being used, and can be changed during program execution)\n",
    "* Indentation is required, not optional\n",
    "* There are two versions of Python available at this point of time, Python 2.7.x and Python 3.3.x. Python 3 is not fully backward compatible with  Python 2\n",
    "* We are using Python 2.7.x\n",
    "\n",
    "## Some Points to Remember\n",
    "* Python is case sensitive, similar to C\n",
    "* Python requires strict indentation to indicate blocks of code, **indentation is compulsory, not optional**\n",
    "* Python is a dynamic programming language - data type of an object can be changed at different points of your program\n",
    "* Base installation of Python does not have an array implementation, instead it offers a List implementation\n",
    "* Base installation of Python does not have built-in math functions such as **`sqrt()`**, you must import the **`math`** module to use such functions\n",
    "* Single line comments begin with **`#`** and end at the end of line"
   ]
  },
  {
   "cell_type": "markdown",
   "metadata": {},
   "source": [
    "## Versions of Python\n",
    "Currently there are two versions of Python that are available for use and are under development. **Python 2** is currently in version **2.7.x** and **Python 3** is in version **3.4.x**. In the near future, development will stop for Python 2.\n",
    "\n",
    "There are some differences from Python 2 to Python 3 that are not backward compatible. Some of them which affect scientific computing are:\n",
    "* **`print`** is a statement in Python 2 where as it is a function in Python 3.\n",
    "* In Python 2, **`/`** performs an integer division when both numerator and denominator are integers and a floating point division if one or both of them are floating point numbers. In Python 3, **`/`** always performs a floating point division (even when both numerator and denominatoe are integers) and a new operator **`//`** is available to perform integer division\n",
    "\n",
    "This behaviour of Python 3 can be used in Python 2 with the help of **`from __future__ import print_function, division`** import statement. We will use this throughout this workshop."
   ]
  },
  {
   "cell_type": "code",
   "execution_count": 6,
   "metadata": {
    "collapsed": false
   },
   "outputs": [
    {
     "name": "stdout",
     "output_type": "stream",
     "text": [
      "0.666666666667\n",
      "1.5\n",
      "1\n",
      "0.666666666667\n",
      "1.5\n",
      "1\n"
     ]
    }
   ],
   "source": [
    "print(2/3)\n",
    "print(3/2)\n",
    "print(3//2)\n",
    "\n",
    "from __future__ import division, print_function\n",
    "\n",
    "print(2/3)\n",
    "print(3/2)\n",
    "print(3//2)"
   ]
  },
  {
   "cell_type": "code",
   "execution_count": 1,
   "metadata": {
    "collapsed": false
   },
   "outputs": [
    {
     "name": "stdout",
     "output_type": "stream",
     "text": [
      "2.7.9 |Continuum Analytics, Inc.| (default, Dec 15 2014, 10:33:51) \n",
      "[GCC 4.4.7 20120313 (Red Hat 4.4.7-1)]\n"
     ]
    }
   ],
   "source": [
    "import sys\n",
    "\n",
    "print(sys.version)"
   ]
  },
  {
   "cell_type": "markdown",
   "metadata": {},
   "source": [
    "## Creating Variables and Determining Their Type\n",
    "\n",
    "Data type of an object is determined automatically by Python. Python understands complex numbers.\n",
    "\n",
    "### Basic Data Types\n",
    "* `int` - Integer\n",
    "* `float` - Floating point number\n",
    "* `complex` - Complex number\n",
    "* `bool` - Boolean"
   ]
  },
  {
   "cell_type": "code",
   "execution_count": 3,
   "metadata": {
    "collapsed": false
   },
   "outputs": [
    {
     "name": "stdout",
     "output_type": "stream",
     "text": [
      "a = 10 <type 'int'>\n",
      "b = 2.5 <type 'float'>\n",
      "c = 1000.0 <type 'float'>\n",
      "d = (1+2j) <type 'complex'>\n",
      "True <type 'bool'>\n"
     ]
    }
   ],
   "source": [
    "from __future__ import print_function, division\n",
    "\n",
    "a = 10\n",
    "print('a =', a, type(a))\n",
    "b = 2.5\n",
    "print('b =', b, type(b))\n",
    "c = 1e3\n",
    "print('c =', c, type(c))\n",
    "d = 1 + 2j\n",
    "print('d =', d, type(d))\n",
    "f = 2 < 3\n",
    "print(f, type(f))"
   ]
  },
  {
   "cell_type": "markdown",
   "metadata": {},
   "source": [
    "### Container Types\n",
    "* `str` - String\n",
    "* `list` - List\n",
    "* `tuple` - Tuple\n",
    "* `dict` - Dictionary\n",
    "* `set` - Set\n",
    "\n",
    "### Strings"
   ]
  },
  {
   "cell_type": "code",
   "execution_count": 4,
   "metadata": {
    "collapsed": false
   },
   "outputs": [
    {
     "name": "stdout",
     "output_type": "stream",
     "text": [
      "Python <type 'str'>\n",
      "Hubballi, Karnataka <type 'str'>\n",
      "P\n",
      "y\n",
      "Length = 6\n"
     ]
    }
   ],
   "source": [
    "a = 'Python'\n",
    "print(a, type(a))\n",
    "b = \"Hubballi, Karnataka\"\n",
    "print(b, type(b))\n",
    "print(a[0])\n",
    "print(a[1])\n",
    "print('Length =', len(a))"
   ]
  },
  {
   "cell_type": "markdown",
   "metadata": {},
   "source": [
    "### Indexing and Slicing Container Data Types (Strings, Lists, Tuples)\n",
    "* Indexing starts with 0 (**zero**)\n",
    "* Indices are positive in the forward direction and negative in the reverse direction\n",
    "* Index $0$ is the initial ement\n",
    "* Index $-1$ is the last element"
   ]
  },
  {
   "cell_type": "code",
   "execution_count": 5,
   "metadata": {
    "collapsed": false
   },
   "outputs": [
    {
     "name": "stdout",
     "output_type": "stream",
     "text": [
      "P\n",
      "y\n",
      "n\n",
      "o\n"
     ]
    }
   ],
   "source": [
    "print(a[0])\n",
    "print(a[1])\n",
    "print(a[-1])\n",
    "print(a[-2])"
   ]
  },
  {
   "cell_type": "code",
   "execution_count": 5,
   "metadata": {
    "collapsed": false
   },
   "outputs": [
    {
     "name": "stdout",
     "output_type": "stream",
     "text": [
      "0 g\n",
      "1 n\n",
      "2 u\n",
      "3 N\n",
      "4 i\n",
      "5 f\n",
      "6 y\n",
      "7  \n",
      "8 2\n",
      "9 0\n",
      "10 1\n",
      "11 5\n"
     ]
    }
   ],
   "source": [
    "for i, ch in enumerate(a):\n",
    "    print(i, ch)"
   ]
  },
  {
   "cell_type": "markdown",
   "metadata": {},
   "source": [
    "### Lists\n",
    "* List is a container for heterogeneous data element\n",
    "* List elements can be accessed through indexing\n",
    "* Lists are mutable - the value of the elements of a list can be changed"
   ]
  },
  {
   "cell_type": "code",
   "execution_count": 6,
   "metadata": {
    "collapsed": false
   },
   "outputs": [
    {
     "name": "stdout",
     "output_type": "stream",
     "text": [
      "Length = 4 Type = <type 'list'>\n",
      "10 20 Pune (2+0j)\n",
      "(2+0j) Pune 20 10\n",
      "[10, 20]\n",
      "[(2+0j), 'Pune']\n",
      "[10, 200, 'Pune', (2+0j)]\n"
     ]
    }
   ],
   "source": [
    "x = [10, 20, 'Pune', 2+0j, ]\n",
    "print('Length =', len(x), 'Type =', type(x))\n",
    "print(x[0], x[1], x[2], x[3])\n",
    "print(x[-1], x[-2], x[-3], x[-4])\n",
    "print(x[0:2])\n",
    "print(x[-1:-3:-1])\n",
    "\n",
    "x[1] = 200\n",
    "print(x)"
   ]
  },
  {
   "cell_type": "markdown",
   "metadata": {},
   "source": [
    "### Tuples\n",
    "* Tuples are similar to Lists, but are **immutable** -the value of their elements cannot be changed "
   ]
  },
  {
   "cell_type": "code",
   "execution_count": 9,
   "metadata": {
    "collapsed": false
   },
   "outputs": [
    {
     "name": "stdout",
     "output_type": "stream",
     "text": [
      "Length = 4 Type = <type 'tuple'>\n",
      "10 20 Pune (2+0j)\n",
      "(2+0j) Pune 20 10\n",
      "(10, 20)\n",
      "((2+0j), 'Pune')\n"
     ]
    },
    {
     "ename": "TypeError",
     "evalue": "'tuple' object does not support item assignment",
     "output_type": "error",
     "traceback": [
      "\u001b[1;31m---------------------------------------------------------------------------\u001b[0m\n\u001b[1;31mTypeError\u001b[0m                                 Traceback (most recent call last)",
      "\u001b[1;32m<ipython-input-9-ca07095596d4>\u001b[0m in \u001b[0;36m<module>\u001b[1;34m()\u001b[0m\n\u001b[0;32m      6\u001b[0m \u001b[1;32mprint\u001b[0m\u001b[1;33m(\u001b[0m\u001b[0mx\u001b[0m\u001b[1;33m[\u001b[0m\u001b[1;33m-\u001b[0m\u001b[1;36m1\u001b[0m\u001b[1;33m:\u001b[0m\u001b[1;33m-\u001b[0m\u001b[1;36m3\u001b[0m\u001b[1;33m:\u001b[0m\u001b[1;33m-\u001b[0m\u001b[1;36m1\u001b[0m\u001b[1;33m]\u001b[0m\u001b[1;33m)\u001b[0m\u001b[1;33m\u001b[0m\u001b[0m\n\u001b[0;32m      7\u001b[0m \u001b[1;33m\u001b[0m\u001b[0m\n\u001b[1;32m----> 8\u001b[1;33m \u001b[0mx\u001b[0m\u001b[1;33m[\u001b[0m\u001b[1;36m1\u001b[0m\u001b[1;33m]\u001b[0m \u001b[1;33m=\u001b[0m \u001b[1;36m200\u001b[0m  \u001b[1;31m# ERROR\u001b[0m\u001b[1;33m\u001b[0m\u001b[0m\n\u001b[0m",
      "\u001b[1;31mTypeError\u001b[0m: 'tuple' object does not support item assignment"
     ]
    }
   ],
   "source": [
    "x = (10, 20, 'Pune', 2+0j)\n",
    "print('Length =', len(x), 'Type =', type(x))\n",
    "print(x[0], x[1], x[2], x[3])\n",
    "print(x[-1], x[-2], x[-3], x[-4])\n",
    "print(x[0:2])\n",
    "print(x[-1:-3:-1])\n",
    "\n",
    "x[1] = 200  # ERROR"
   ]
  },
  {
   "cell_type": "markdown",
   "metadata": {},
   "source": [
    "### Tuple with One Element"
   ]
  },
  {
   "cell_type": "code",
   "execution_count": 8,
   "metadata": {
    "collapsed": false
   },
   "outputs": [
    {
     "name": "stdout",
     "output_type": "stream",
     "text": [
      "<type 'int'>\n",
      "<type 'tuple'>\n"
     ]
    }
   ],
   "source": [
    "a = (10)\n",
    "print(type(a))\n",
    "b = (10,)\n",
    "print(type(b))"
   ]
  },
  {
   "cell_type": "markdown",
   "metadata": {},
   "source": [
    "### Dictionaries\n",
    "* Dictionaries are (key, value) pairs\n",
    "* Indexing is done using the keys"
   ]
  },
  {
   "cell_type": "code",
   "execution_count": null,
   "metadata": {
    "collapsed": false
   },
   "outputs": [],
   "source": [
    "d = {'a': 10, 'b': 20, 'name': \"Satish\", 'email': 'satish.annigeri@gmail.com'}\n",
    "print('Length =', len(d), type(d))\n",
    "print(d.keys())"
   ]
  },
  {
   "cell_type": "markdown",
   "metadata": {},
   "source": [
    "## Operations, Expressions and Statements\n",
    "### Numbers\n",
    "* Addition +, Subtraction -, Multiplication `*`, Division `/`\n",
    "* Modulo division **`%`**\n",
    "* Exponentiation `**`"
   ]
  },
  {
   "cell_type": "code",
   "execution_count": null,
   "metadata": {
    "collapsed": false
   },
   "outputs": [],
   "source": [
    "a = 10; b = 20; c = a + b\n",
    "print(type(c), c)\n",
    "a = 10.0; b = 20; c = a + b\n",
    "print(type(c), c)"
   ]
  },
  {
   "cell_type": "code",
   "execution_count": null,
   "metadata": {
    "collapsed": false
   },
   "outputs": [],
   "source": [
    "a = 7; b = 3; c = a / b\n",
    "print(c)\n",
    "d = a // b\n",
    "print(d)"
   ]
  },
  {
   "cell_type": "code",
   "execution_count": null,
   "metadata": {
    "collapsed": false
   },
   "outputs": [],
   "source": [
    "d = a % b\n",
    "print(d)\n",
    "print(7.0 % 3.0)"
   ]
  },
  {
   "cell_type": "code",
   "execution_count": null,
   "metadata": {
    "collapsed": false
   },
   "outputs": [],
   "source": [
    "print(2**2)\n",
    "print(2**0.5)\n",
    "print(2**-1)"
   ]
  },
  {
   "cell_type": "markdown",
   "metadata": {},
   "source": [
    "### Standard Functions"
   ]
  },
  {
   "cell_type": "code",
   "execution_count": 3,
   "metadata": {
    "collapsed": false
   },
   "outputs": [
    {
     "name": "stdout",
     "output_type": "stream",
     "text": [
      "10\n",
      "10.5\n",
      "5.0\n",
      "60\n",
      "90\n",
      "-10\n",
      "5\n"
     ]
    }
   ],
   "source": [
    "print(abs(-10))\n",
    "print(abs(-10.5))\n",
    "print(abs(3+4j))\n",
    "print(sum([10, 20, 30]))\n",
    "print(sum((10, 30, 50)))\n",
    "print(min([-10, 0, 5]))\n",
    "print(max([-10, 0, 5]))"
   ]
  },
  {
   "cell_type": "markdown",
   "metadata": {},
   "source": [
    "### Mathematical Functions\n",
    "\n",
    "Mathematical functions similar to the C math library functions available in **`math.h`** are available in a module **`math`**. A module, such as **``math``** may contain data (such as **``math.pi``**) and functions (such as **``math.sqrt``**). Importing a module creates a new namespace, containing everything the module contains. To use these data and/or functions, use the name of the module."
   ]
  },
  {
   "cell_type": "code",
   "execution_count": null,
   "metadata": {
    "collapsed": false
   },
   "outputs": [],
   "source": [
    "import math\n",
    "help(math.sqrt)"
   ]
  },
  {
   "cell_type": "code",
   "execution_count": null,
   "metadata": {
    "collapsed": false
   },
   "outputs": [],
   "source": [
    "print(math.sqrt(10))\n",
    "print(math.sqrt(-10))"
   ]
  },
  {
   "cell_type": "code",
   "execution_count": null,
   "metadata": {
    "collapsed": false
   },
   "outputs": [],
   "source": [
    "print(math.pi)\n",
    "print(math.sin(math.pi/4))\n",
    "print(math.acos(-1))\n",
    "print(math.exp(1))\n",
    "print(math.log(10))\n",
    "print(math.log10(10))"
   ]
  },
  {
   "cell_type": "code",
   "execution_count": null,
   "metadata": {
    "collapsed": false
   },
   "outputs": [],
   "source": [
    "import cmath\n",
    "\n",
    "print(cmath.sqrt(-2))\n",
    "print(cmath.sin(2j))"
   ]
  },
  {
   "cell_type": "markdown",
   "metadata": {},
   "source": [
    "## Copying Lists\n",
    "\n",
    "\n",
    "### List assignemt creates an alias not a copy"
   ]
  },
  {
   "cell_type": "code",
   "execution_count": null,
   "metadata": {
    "collapsed": false
   },
   "outputs": [],
   "source": [
    "a = [1, 2, 3, 4, 5]\n",
    "b = a         # This is an alias, not a copy\n",
    "print 'a =', a\n",
    "print 'b =', b\n",
    "a[0] = 100\n",
    "print 'a =', a\n",
    "print 'b =', b"
   ]
  },
  {
   "cell_type": "markdown",
   "metadata": {},
   "source": [
    "It is possible to make a copy of a list"
   ]
  },
  {
   "cell_type": "code",
   "execution_count": null,
   "metadata": {
    "collapsed": false
   },
   "outputs": [],
   "source": [
    "a = [1, 2, 3, 4, 5]\n",
    "print a\n",
    "c = a[:]       # c is a copy, not an alias\n",
    "a[0] = 100\n",
    "print 'a =', a\n",
    "print 'c =', c"
   ]
  },
  {
   "cell_type": "markdown",
   "metadata": {},
   "source": [
    "# Boolean operations on a list"
   ]
  },
  {
   "cell_type": "code",
   "execution_count": 5,
   "metadata": {
    "collapsed": false
   },
   "outputs": [
    {
     "name": "stdout",
     "output_type": "stream",
     "text": [
      "True\n",
      "True\n",
      "False\n",
      "True\n",
      "False\n"
     ]
    }
   ],
   "source": [
    "a = [1, 2, 3, 4, 5]\n",
    "b = a\n",
    "c = a[:]\n",
    "print(a == b)\n",
    "print(a == c)\n",
    "c[0] = 10\n",
    "print(a == c)\n",
    "print(1 in a)\n",
    "print(100 in a)"
   ]
  },
  {
   "cell_type": "markdown",
   "metadata": {},
   "source": [
    "# Append, Extend, Insert, Delete, Pop\n",
    "## Append an item to a list"
   ]
  },
  {
   "cell_type": "code",
   "execution_count": null,
   "metadata": {
    "collapsed": false
   },
   "outputs": [],
   "source": [
    "a = [1, 2, 3, 4, 5]\n",
    "print(a)\n",
    "a.append(6)\n",
    "print(a)\n",
    "a.pop()\n",
    "print(a)\n",
    "x = a.pop(1)  # Pop item at index 1 and return it in x\n",
    "print(a, x)"
   ]
  },
  {
   "cell_type": "markdown",
   "metadata": {},
   "source": [
    "## Extend a list"
   ]
  },
  {
   "cell_type": "code",
   "execution_count": 6,
   "metadata": {
    "collapsed": false
   },
   "outputs": [
    {
     "name": "stdout",
     "output_type": "stream",
     "text": [
      "[1, 2, 3] [4, 5, 6] [1, 2, 3, 4, 5, 6]\n",
      "[1, 2, 3, 4, 5, 6]\n",
      "[1, 2, 3, 4, 5, 6, 4, 5, 6]\n"
     ]
    }
   ],
   "source": [
    "a = [1, 2, 3]\n",
    "b = [4, 5, 6]\n",
    "c = a + b       # Return a new list which is an extension of a\n",
    "print(a, b, c)\n",
    "a.extend(b)     # Extend in place\n",
    "print(a)\n",
    "a = a + b\n",
    "print(a)"
   ]
  },
  {
   "cell_type": "markdown",
   "metadata": {},
   "source": [
    "## Insert items into a list"
   ]
  },
  {
   "cell_type": "code",
   "execution_count": 7,
   "metadata": {
    "collapsed": false
   },
   "outputs": [
    {
     "name": "stdout",
     "output_type": "stream",
     "text": [
      "[1, 2, 3, 4, 5]\n",
      "[10, 1, 2, 3, 4, 5]\n",
      "[1, 2, 3, 4, 5]\n"
     ]
    }
   ],
   "source": [
    "a = [1, 2, 3, 4, 5]\n",
    "print(a)\n",
    "a.insert(0, 10)\n",
    "print(a)\n",
    "del(a[0])\n",
    "print(a)"
   ]
  },
  {
   "cell_type": "code",
   "execution_count": 8,
   "metadata": {
    "collapsed": false
   },
   "outputs": [
    {
     "name": "stdout",
     "output_type": "stream",
     "text": [
      "[1, 2, 3, 4, 5]\n",
      "[5, 4, 3, 2, 1]\n",
      "[1, 2, 3, 4, 5]\n"
     ]
    }
   ],
   "source": [
    "print(a)\n",
    "a.reverse()\n",
    "print(a)\n",
    "a.sort()\n",
    "print(a)"
   ]
  },
  {
   "cell_type": "code",
   "execution_count": 9,
   "metadata": {
    "collapsed": false
   },
   "outputs": [
    {
     "name": "stdout",
     "output_type": "stream",
     "text": [
      "0\n",
      "2\n"
     ]
    }
   ],
   "source": [
    "a = [1, 2, 10, 4, 5, 10]\n",
    "print(a.index(1))   # Index of item in list having the given value\n",
    "print(a.index(10))"
   ]
  },
  {
   "cell_type": "markdown",
   "metadata": {},
   "source": [
    "## List repetition adds one level deep"
   ]
  },
  {
   "cell_type": "code",
   "execution_count": 10,
   "metadata": {
    "collapsed": false
   },
   "outputs": [
    {
     "name": "stdout",
     "output_type": "stream",
     "text": [
      "[1, 2, 3, 4]\n",
      "[1, 2, 3, 4, 1, 2, 3, 4]\n",
      "[[1, 2, 3, 4], [1, 2, 3, 4]]\n"
     ]
    }
   ],
   "source": [
    "a = [1, 2, 3, 4]\n",
    "b = a * 2\n",
    "print(a)\n",
    "print(b)\n",
    "c = [a] * 2\n",
    "print(c)"
   ]
  },
  {
   "cell_type": "markdown",
   "metadata": {},
   "source": [
    "# Lists can contain heterogenous items"
   ]
  },
  {
   "cell_type": "code",
   "execution_count": 12,
   "metadata": {
    "collapsed": false
   },
   "outputs": [
    {
     "name": "stdout",
     "output_type": "stream",
     "text": [
      "[1, 'spam', [10, 20, 30]]\n",
      "1 <type 'int'>\n",
      "spam <type 'str'>\n",
      "[10, 20, 30] <type 'list'>\n",
      "10 20 30\n"
     ]
    }
   ],
   "source": [
    "a = [1, 'spam', [10, 20, 30]]  # Items in a list can be of different types\n",
    "print(a)\n",
    "print(a[0], type(a[0]))\n",
    "print(a[1], type(a[1]))\n",
    "print(a[2], type(a[2]))\n",
    "print(a[2][0], a[2][1], a[2][2])"
   ]
  },
  {
   "cell_type": "markdown",
   "metadata": {},
   "source": [
    "# List Comprehension\n"
   ]
  },
  {
   "cell_type": "code",
   "execution_count": 13,
   "metadata": {
    "collapsed": false
   },
   "outputs": [
    {
     "name": "stdout",
     "output_type": "stream",
     "text": [
      "<type 'list'> [1, 2, 3, 4, 5] <type 'list'> [2, 4, 6, 8, 10]\n"
     ]
    }
   ],
   "source": [
    "a = [1, 2, 3, 4, 5]\n",
    "b = [r*2 for r in a]\n",
    "print(type(a), a, type(b), b)"
   ]
  },
  {
   "cell_type": "code",
   "execution_count": 14,
   "metadata": {
    "collapsed": false
   },
   "outputs": [
    {
     "name": "stdout",
     "output_type": "stream",
     "text": [
      "<type 'list'>\n",
      "[1, 4, 9, 16, 25]\n"
     ]
    }
   ],
   "source": [
    "c = [x**2 for x in a]\n",
    "print(type(c))\n",
    "print(c)"
   ]
  },
  {
   "cell_type": "markdown",
   "metadata": {},
   "source": [
    "## Unpacking Lists and Tuples\n",
    "\n",
    "Individual items of a List or Tuple can be unpacked and copied into individual objects."
   ]
  },
  {
   "cell_type": "code",
   "execution_count": 12,
   "metadata": {
    "collapsed": false
   },
   "outputs": [
    {
     "name": "stdout",
     "output_type": "stream",
     "text": [
      "10 20 30\n",
      "100 200 300\n"
     ]
    },
    {
     "ename": "ValueError",
     "evalue": "too many values to unpack",
     "output_type": "error",
     "traceback": [
      "\u001b[1;31m---------------------------------------------------------------------------\u001b[0m",
      "\u001b[1;31mValueError\u001b[0m                                Traceback (most recent call last)",
      "\u001b[1;32m<ipython-input-12-93438d6a1490>\u001b[0m in \u001b[0;36m<module>\u001b[1;34m()\u001b[0m\n\u001b[0;32m      6\u001b[0m \u001b[1;32mprint\u001b[0m\u001b[1;33m(\u001b[0m\u001b[0mx\u001b[0m\u001b[1;33m,\u001b[0m \u001b[0my\u001b[0m\u001b[1;33m,\u001b[0m \u001b[0mz\u001b[0m\u001b[1;33m)\u001b[0m\u001b[1;33m\u001b[0m\u001b[0m\n\u001b[0;32m      7\u001b[0m \u001b[1;33m\u001b[0m\u001b[0m\n\u001b[1;32m----> 8\u001b[1;33m \u001b[0ma\u001b[0m\u001b[1;33m,\u001b[0m \u001b[0mb\u001b[0m \u001b[1;33m=\u001b[0m \u001b[1;33m[\u001b[0m\u001b[1;36m1\u001b[0m\u001b[1;33m,\u001b[0m \u001b[1;36m2\u001b[0m\u001b[1;33m,\u001b[0m \u001b[1;36m3\u001b[0m\u001b[1;33m]\u001b[0m\u001b[1;33m\u001b[0m\u001b[0m\n\u001b[0m\u001b[0;32m      9\u001b[0m \u001b[1;32mprint\u001b[0m\u001b[1;33m(\u001b[0m\u001b[0ma\u001b[0m\u001b[1;33m,\u001b[0m \u001b[0mb\u001b[0m\u001b[1;33m)\u001b[0m\u001b[1;33m\u001b[0m\u001b[0m\n",
      "\u001b[1;31mValueError\u001b[0m: too many values to unpack"
     ]
    }
   ],
   "source": [
    "x = [10, 20, 30]\n",
    "a, b, c = x\n",
    "print(a, b, c)\n",
    "\n",
    "x, y, z = (100, 200, 300)\n",
    "print(x, y, z)\n",
    "\n",
    "a, b = [1, 2, 3]\n",
    "print(a, b)"
   ]
  },
  {
   "cell_type": "markdown",
   "metadata": {},
   "source": [
    "## Output to Standard Output\n",
    "\n",
    "1. **`print()`** function prints to standard output, after converting to string if necessary\n",
    "2. By default, **`print()`** prints a newline character at the end of each call\n",
    "3. Format strings similar to those used by **`printf()`** in C can be used to format the output"
   ]
  },
  {
   "cell_type": "code",
   "execution_count": 3,
   "metadata": {
    "collapsed": false
   },
   "outputs": [
    {
     "name": "stdout",
     "output_type": "stream",
     "text": [
      "Hell world!\n"
     ]
    }
   ],
   "source": [
    "print(\"Hell world!\")"
   ]
  },
  {
   "cell_type": "code",
   "execution_count": 10,
   "metadata": {
    "collapsed": false
   },
   "outputs": [
    {
     "name": "stdout",
     "output_type": "stream",
     "text": [
      "0.666666666667\n",
      "0.667\n",
      "The sum of 2 and 3 is 5\n"
     ]
    }
   ],
   "source": [
    "print(2/3)\n",
    "print(\"%.3f\" % (2/3))\n",
    "print(\"The sum of %d and %d is %d\" % (2, 3, 2+3))"
   ]
  },
  {
   "cell_type": "code",
   "execution_count": 15,
   "metadata": {
    "collapsed": false
   },
   "outputs": [
    {
     "name": "stdout",
     "output_type": "stream",
     "text": [
      "2, 3\n"
     ]
    }
   ],
   "source": [
    "print(2, end=\", \")\n",
    "print(3)"
   ]
  },
  {
   "cell_type": "code",
   "execution_count": 20,
   "metadata": {
    "collapsed": false
   },
   "outputs": [
    {
     "name": "stdout",
     "output_type": "stream",
     "text": [
      "Hello, Vijay\n",
      "Hello, Vijay\n",
      "Hello, Vijay, today is a Saturday\n",
      "How are you this Saturday Vijay?\n"
     ]
    }
   ],
   "source": [
    "name = 'Vijay'\n",
    "print('Hello, %s' % name)\n",
    "print(\"Hello, {0}\".format(name))\n",
    "print(\"Hello, {0}, today is a {1}\".format(name, 'Saturday'))\n",
    "print(\"How are you this {1} {0}?\".format(name, 'Saturday'))"
   ]
  },
  {
   "cell_type": "markdown",
   "metadata": {},
   "source": [
    "## Input from Standard Input\n",
    "\n",
    "* Input from keyboard in console applications is one of the weaknesses of Python.\n",
    "* Python has file operation functiions to read from or write to text or binary files, along similar lines to C programming language.\n",
    "* Python can read from and write to CSV and Microsoft files"
   ]
  },
  {
   "cell_type": "code",
   "execution_count": 16,
   "metadata": {
    "collapsed": false
   },
   "outputs": [
    {
     "name": "stdout",
     "output_type": "stream",
     "text": [
      "Enter an integer: 100\n",
      "100 <type 'int'>\n",
      "Enter a floating point number: 2.5\n",
      "2.5 <type 'float'>\n"
     ]
    }
   ],
   "source": [
    "x = int(raw_input(\"Enter an integer: \"))\n",
    "print(x, type(x))\n",
    "y = input(\"Enter a floating point number: \")\n",
    "print(y, type(y))"
   ]
  },
  {
   "cell_type": "markdown",
   "metadata": {},
   "source": [
    "## Functions to Create Lists\n",
    "You can use the following functions to create lists with equally spaced points:\n",
    "\n",
    "* **`range()`** generates a list of integers\n",
    "* **`numpy.arange()`** generates an array of floating point numbers\n",
    "* **`numpy.linspace()`** generates an array of equally spaced data points\n",
    "\n",
    "## `range()`\n",
    "Lists with regularly spaced integer elements can be generated using the **`range()`** function.\n",
    "\n",
    "**`range()`** can be used in one of three ways:\n",
    "1. **One argument:** Argument is the end value, start value is **0** and increment is **1**.\n",
    "2. **Two arguments:** First argument is the start value, second argument is the end value and increment is assumed to be **1**.\n",
    "3. **Three arguments:** First argument is the start value, second argument is the end value and the third argument is the increment/decrement.\n",
    "\n",
    "**Note:** Ending value itself is not included in the List."
   ]
  },
  {
   "cell_type": "code",
   "execution_count": 28,
   "metadata": {
    "collapsed": false
   },
   "outputs": [
    {
     "name": "stdout",
     "output_type": "stream",
     "text": [
      "[0, 1, 2, 3, 4]\n",
      "[]\n",
      "[1, 2, 3, 4]\n",
      "[]\n",
      "[5, 4, 3, 2, 1]\n",
      "[0, 2, 4, 6, 8]\n",
      "10 0 -2\n"
     ]
    }
   ],
   "source": [
    "print(range(5))\n",
    "print(range(-5))\n",
    "print(range(1, 5))\n",
    "print(range(5, 1))\n",
    "print(range(5, 0, -1))\n",
    "print(range(0, 10, 2))\n",
    "print(10, 0, -2)"
   ]
  },
  {
   "cell_type": "code",
   "execution_count": 30,
   "metadata": {
    "collapsed": false
   },
   "outputs": [
    {
     "name": "stdout",
     "output_type": "stream",
     "text": [
      "<type 'list'> 10 [0, 1, 2, 3, 4, 5, 6, 7, 8, 9]\n"
     ]
    }
   ],
   "source": [
    "x = range(10)\n",
    "print(type(x), len(x), x)"
   ]
  },
  {
   "cell_type": "markdown",
   "metadata": {},
   "source": [
    "## `numpy.arange()`\n",
    "\n",
    "**`np.arange()`** is similar to **`range()`**, but returns a **numpy array**, and values can be real numbers, and not restricted to integers.\n",
    "\n",
    "NumPy module has a function **arange()** that is similar to **range()** except that:\n",
    "* **`arange()`** creates an array not a List\n",
    "* **`arange()`** can take real number increments and decrements"
   ]
  },
  {
   "cell_type": "code",
   "execution_count": 33,
   "metadata": {
    "collapsed": false
   },
   "outputs": [
    {
     "name": "stdout",
     "output_type": "stream",
     "text": [
      "<type 'numpy.ndarray'> 5 [0 1 2 3 4]\n",
      "[ 0.   0.5  1.   1.5  2.   2.5  3.   3.5  4.   4.5]\n",
      "[ 5.   4.5  4.   3.5  3.   2.5  2.   1.5  1.   0.5]\n"
     ]
    }
   ],
   "source": [
    "import numpy as np\n",
    "\n",
    "x = np.arange(5)\n",
    "print(type(x), len(x), x)\n",
    "\n",
    "x = np.arange(0, 5, 0.5)\n",
    "print(x)\n",
    "\n",
    "x = np.arange(5, 0, -0.5)\n",
    "print(x)"
   ]
  },
  {
   "cell_type": "markdown",
   "metadata": {},
   "source": [
    "## `numpy.linspace()`\n",
    "**`np.linspace()`** generates a sequence of a specified number of equidistance points between given starting and ending values, both values inclusive. It takes three arguments, first and second are the starting and ending values respectively. Third is the number of points to be generated.\n",
    "\n",
    "Unlike **`range()`** and **`numpy.arange()`**, the sequence **includes** the ending value. Instead of an increment/decrement, it takes the number of equally spaced points to be generated from the given start point to the given end point, both included. "
   ]
  },
  {
   "cell_type": "code",
   "execution_count": 72,
   "metadata": {
    "collapsed": false
   },
   "outputs": [
    {
     "name": "stdout",
     "output_type": "stream",
     "text": [
      "<type 'numpy.ndarray'> 11 [ 0.   0.5  1.   1.5  2.   2.5  3.   3.5  4.   4.5  5. ]\n",
      "[ 5.   4.5  4.   3.5  3.   2.5  2.   1.5  1.   0.5  0. ]\n"
     ]
    }
   ],
   "source": [
    "a = np.linspace(0, 5, 11)\n",
    "print(type(a), len(a), a)\n",
    "\n",
    "b = np.linspace(5.0, 0.0, 11)\n",
    "print(b)"
   ]
  },
  {
   "cell_type": "code",
   "execution_count": 73,
   "metadata": {
    "collapsed": false
   },
   "outputs": [
    {
     "name": "stdout",
     "output_type": "stream",
     "text": [
      "<type 'numpy.ndarray'> [ 0.  1.  2.  3.  4.  5.]\n",
      "[ 0.   0.5  1.   1.5  2.   2.5  3.   3.5  4.   4.5  5. ]\n"
     ]
    }
   ],
   "source": [
    "a = np.linspace(0, 5, 6)\n",
    "print(type(a), a)\n",
    "b = np.linspace(0, 5, 11)\n",
    "print(b)"
   ]
  },
  {
   "cell_type": "markdown",
   "metadata": {},
   "source": [
    "## Importing Modules and Packages\n",
    "\n",
    "* A **module** is a collection of functions, and optionally classes and data, similar to what other programming languages call **libraries**\n",
    "* A **package** is a collection of modules\n",
    "* To use a module or a package, you must first import it\n",
    "* Usually importing a module creates a **new namespace** containing everything the module contains\n",
    "* To use a member of a namespace, you must prepend the name of the object with its namespace\n",
    "\n",
    "There are several different ways to import a module, each with its associated merits and demerits. The simplest way is to import a module and create a new name space and use the namespace to refer to its members"
   ]
  },
  {
   "cell_type": "code",
   "execution_count": 35,
   "metadata": {
    "collapsed": false
   },
   "outputs": [
    {
     "name": "stdout",
     "output_type": "stream",
     "text": [
      "<type 'numpy.ndarray'> [1 2 3 4 5]\n"
     ]
    }
   ],
   "source": [
    "import numpy\n",
    "\n",
    "a = numpy.array([1, 2, 3, 4, 5])\n",
    "print(type(a), a)"
   ]
  },
  {
   "cell_type": "markdown",
   "metadata": {},
   "source": [
    "You can assign an alternative name to the module when you import it, to simplify the typing."
   ]
  },
  {
   "cell_type": "code",
   "execution_count": 37,
   "metadata": {
    "collapsed": false
   },
   "outputs": [
    {
     "name": "stdout",
     "output_type": "stream",
     "text": [
      "<type 'numpy.ndarray'> [1 2 3 4 5]\n"
     ]
    }
   ],
   "source": [
    "import numpy as np\n",
    "a = np.array([1, 2, 3, 4, 5])\n",
    "print(type(a), a)"
   ]
  },
  {
   "cell_type": "markdown",
   "metadata": {},
   "source": [
    "You can import selected objects from a module and merge it with the default namespace. But it is considered better practice to retain the namespace and not merge it with the default namespace."
   ]
  },
  {
   "cell_type": "code",
   "execution_count": 39,
   "metadata": {
    "collapsed": false
   },
   "outputs": [
    {
     "name": "stdout",
     "output_type": "stream",
     "text": [
      "<type 'numpy.ndarray'> [1 2 3 4 5]\n"
     ]
    }
   ],
   "source": [
    "from numpy import array\n",
    "\n",
    "a = array([1, 2, 3, 4, 5])\n",
    "print(type(a), a)"
   ]
  },
  {
   "cell_type": "markdown",
   "metadata": {},
   "source": [
    "It is possible to import multiple objects from a module and merge them with the default namespace"
   ]
  },
  {
   "cell_type": "code",
   "execution_count": 42,
   "metadata": {
    "collapsed": false
   },
   "outputs": [
    {
     "name": "stdout",
     "output_type": "stream",
     "text": [
      "[[ 0.  0.  0.  0.]\n",
      " [ 0.  0.  0.  0.]\n",
      " [ 0.  0.  0.  0.]]\n",
      "[[ 1.  1.  1.  1.  1.]\n",
      " [ 1.  1.  1.  1.  1.]\n",
      " [ 1.  1.  1.  1.  1.]\n",
      " [ 1.  1.  1.  1.  1.]]\n"
     ]
    }
   ],
   "source": [
    "from numpy import zeros, ones\n",
    "\n",
    "a = zeros((3, 4), dtype=float)\n",
    "print(a)\n",
    "b = ones((4, 5), dtype=float)\n",
    "print(b)"
   ]
  },
  {
   "cell_type": "markdown",
   "metadata": {},
   "source": [
    "It is possible to import every object from a module and merge them with the default namespace, **but you are strongly encouraged never to use it**."
   ]
  },
  {
   "cell_type": "code",
   "execution_count": 44,
   "metadata": {
    "collapsed": false
   },
   "outputs": [
    {
     "name": "stdout",
     "output_type": "stream",
     "text": [
      "[[1 0 0 0]\n",
      " [0 2 0 0]\n",
      " [0 0 3 0]\n",
      " [0 0 0 4]]\n"
     ]
    }
   ],
   "source": [
    "from numpy import *\n",
    "\n",
    "a = diag([1, 2, 3, 4])\n",
    "print(a)"
   ]
  },
  {
   "cell_type": "markdown",
   "metadata": {},
   "source": [
    "You can assign alternate name to an object when you import it from a module and merge it with the default namespace."
   ]
  },
  {
   "cell_type": "code",
   "execution_count": 47,
   "metadata": {
    "collapsed": false
   },
   "outputs": [
    {
     "name": "stdout",
     "output_type": "stream",
     "text": [
      "3.16227766017\n",
      "3.16227766017j\n"
     ]
    }
   ],
   "source": [
    "from math import sqrt as mysqrt\n",
    "from cmath import sqrt as csqrt\n",
    "\n",
    "print(mysqrt(10))\n",
    "print(csqrt(-10))"
   ]
  },
  {
   "cell_type": "markdown",
   "metadata": {},
   "source": [
    "## `math` Module\n",
    "\n",
    "The **`math`** module contains all functions and constants available in the **C** **`math`** library, that is, functions listed in the **`math.h`** C header file."
   ]
  },
  {
   "cell_type": "code",
   "execution_count": 53,
   "metadata": {
    "collapsed": false
   },
   "outputs": [
    {
     "name": "stdout",
     "output_type": "stream",
     "text": [
      "Help on built-in module math:\n",
      "\n",
      "NAME\n",
      "    math\n",
      "\n",
      "FILE\n",
      "    (built-in)\n",
      "\n",
      "DESCRIPTION\n",
      "    This module is always available.  It provides access to the\n",
      "    mathematical functions defined by the C standard.\n",
      "\n",
      "FUNCTIONS\n",
      "    acos(...)\n",
      "        acos(x)\n",
      "        \n",
      "        Return the arc cosine (measured in radians) of x.\n",
      "    \n",
      "    acosh(...)\n",
      "        acosh(x)\n",
      "        \n",
      "        Return the hyperbolic arc cosine (measured in radians) of x.\n",
      "    \n",
      "    asin(...)\n",
      "        asin(x)\n",
      "        \n",
      "        Return the arc sine (measured in radians) of x.\n",
      "    \n",
      "    asinh(...)\n",
      "        asinh(x)\n",
      "        \n",
      "        Return the hyperbolic arc sine (measured in radians) of x.\n",
      "    \n",
      "    atan(...)\n",
      "        atan(x)\n",
      "        \n",
      "        Return the arc tangent (measured in radians) of x.\n",
      "    \n",
      "    atan2(...)\n",
      "        atan2(y, x)\n",
      "        \n",
      "        Return the arc tangent (measured in radians) of y/x.\n",
      "        Unlike atan(y/x), the signs of both x and y are considered.\n",
      "    \n",
      "    atanh(...)\n",
      "        atanh(x)\n",
      "        \n",
      "        Return the hyperbolic arc tangent (measured in radians) of x.\n",
      "    \n",
      "    ceil(...)\n",
      "        ceil(x)\n",
      "        \n",
      "        Return the ceiling of x as a float.\n",
      "        This is the smallest integral value >= x.\n",
      "    \n",
      "    copysign(...)\n",
      "        copysign(x, y)\n",
      "        \n",
      "        Return x with the sign of y.\n",
      "    \n",
      "    cos(...)\n",
      "        cos(x)\n",
      "        \n",
      "        Return the cosine of x (measured in radians).\n",
      "    \n",
      "    cosh(...)\n",
      "        cosh(x)\n",
      "        \n",
      "        Return the hyperbolic cosine of x.\n",
      "    \n",
      "    degrees(...)\n",
      "        degrees(x)\n",
      "        \n",
      "        Convert angle x from radians to degrees.\n",
      "    \n",
      "    erf(...)\n",
      "        erf(x)\n",
      "        \n",
      "        Error function at x.\n",
      "    \n",
      "    erfc(...)\n",
      "        erfc(x)\n",
      "        \n",
      "        Complementary error function at x.\n",
      "    \n",
      "    exp(...)\n",
      "        exp(x)\n",
      "        \n",
      "        Return e raised to the power of x.\n",
      "    \n",
      "    expm1(...)\n",
      "        expm1(x)\n",
      "        \n",
      "        Return exp(x)-1.\n",
      "        This function avoids the loss of precision involved in the direct evaluation of exp(x)-1 for small x.\n",
      "    \n",
      "    fabs(...)\n",
      "        fabs(x)\n",
      "        \n",
      "        Return the absolute value of the float x.\n",
      "    \n",
      "    factorial(...)\n",
      "        factorial(x) -> Integral\n",
      "        \n",
      "        Find x!. Raise a ValueError if x is negative or non-integral.\n",
      "    \n",
      "    floor(...)\n",
      "        floor(x)\n",
      "        \n",
      "        Return the floor of x as a float.\n",
      "        This is the largest integral value <= x.\n",
      "    \n",
      "    fmod(...)\n",
      "        fmod(x, y)\n",
      "        \n",
      "        Return fmod(x, y), according to platform C.  x % y may differ.\n",
      "    \n",
      "    frexp(...)\n",
      "        frexp(x)\n",
      "        \n",
      "        Return the mantissa and exponent of x, as pair (m, e).\n",
      "        m is a float and e is an int, such that x = m * 2.**e.\n",
      "        If x is 0, m and e are both 0.  Else 0.5 <= abs(m) < 1.0.\n",
      "    \n",
      "    fsum(...)\n",
      "        fsum(iterable)\n",
      "        \n",
      "        Return an accurate floating point sum of values in the iterable.\n",
      "        Assumes IEEE-754 floating point arithmetic.\n",
      "    \n",
      "    gamma(...)\n",
      "        gamma(x)\n",
      "        \n",
      "        Gamma function at x.\n",
      "    \n",
      "    hypot(...)\n",
      "        hypot(x, y)\n",
      "        \n",
      "        Return the Euclidean distance, sqrt(x*x + y*y).\n",
      "    \n",
      "    isinf(...)\n",
      "        isinf(x) -> bool\n",
      "        \n",
      "        Check if float x is infinite (positive or negative).\n",
      "    \n",
      "    isnan(...)\n",
      "        isnan(x) -> bool\n",
      "        \n",
      "        Check if float x is not a number (NaN).\n",
      "    \n",
      "    ldexp(...)\n",
      "        ldexp(x, i)\n",
      "        \n",
      "        Return x * (2**i).\n",
      "    \n",
      "    lgamma(...)\n",
      "        lgamma(x)\n",
      "        \n",
      "        Natural logarithm of absolute value of Gamma function at x.\n",
      "    \n",
      "    log(...)\n",
      "        log(x[, base])\n",
      "        \n",
      "        Return the logarithm of x to the given base.\n",
      "        If the base not specified, returns the natural logarithm (base e) of x.\n",
      "    \n",
      "    log10(...)\n",
      "        log10(x)\n",
      "        \n",
      "        Return the base 10 logarithm of x.\n",
      "    \n",
      "    log1p(...)\n",
      "        log1p(x)\n",
      "        \n",
      "        Return the natural logarithm of 1+x (base e).\n",
      "        The result is computed in a way which is accurate for x near zero.\n",
      "    \n",
      "    modf(...)\n",
      "        modf(x)\n",
      "        \n",
      "        Return the fractional and integer parts of x.  Both results carry the sign\n",
      "        of x and are floats.\n",
      "    \n",
      "    pow(...)\n",
      "        pow(x, y)\n",
      "        \n",
      "        Return x**y (x to the power of y).\n",
      "    \n",
      "    radians(...)\n",
      "        radians(x)\n",
      "        \n",
      "        Convert angle x from degrees to radians.\n",
      "    \n",
      "    sin(...)\n",
      "        sin(x)\n",
      "        \n",
      "        Return the sine of x (measured in radians).\n",
      "    \n",
      "    sinh(...)\n",
      "        sinh(x)\n",
      "        \n",
      "        Return the hyperbolic sine of x.\n",
      "    \n",
      "    sqrt(...)\n",
      "        sqrt(x)\n",
      "        \n",
      "        Return the square root of x.\n",
      "    \n",
      "    tan(...)\n",
      "        tan(x)\n",
      "        \n",
      "        Return the tangent of x (measured in radians).\n",
      "    \n",
      "    tanh(...)\n",
      "        tanh(x)\n",
      "        \n",
      "        Return the hyperbolic tangent of x.\n",
      "    \n",
      "    trunc(...)\n",
      "        trunc(x:Real) -> Integral\n",
      "        \n",
      "        Truncates x to the nearest Integral toward 0. Uses the __trunc__ magic method.\n",
      "\n",
      "DATA\n",
      "    e = 2.718281828459045\n",
      "    pi = 3.141592653589793\n",
      "\n",
      "\n"
     ]
    }
   ],
   "source": [
    "import math\n",
    "\n",
    "help(math)"
   ]
  },
  {
   "cell_type": "code",
   "execution_count": 61,
   "metadata": {
    "collapsed": false
   },
   "outputs": [
    {
     "name": "stdout",
     "output_type": "stream",
     "text": [
      "3.14159265359\n",
      "2.5\n",
      "2.5\n",
      "0.707106781187\n",
      "3.14159265359\n"
     ]
    }
   ],
   "source": [
    "print(math.pi)\n",
    "print(math.fabs(-2.5))\n",
    "print(abs(-2.5))\n",
    "print(math.sin(math.pi/4))\n",
    "print(math.atan(1.0)*4)"
   ]
  },
  {
   "cell_type": "markdown",
   "metadata": {},
   "source": [
    "The **`math`** module only operates on real numbers but cannot operate on imaginary numbers. For operations on complex numbers, use the **`cmath`** module."
   ]
  },
  {
   "cell_type": "code",
   "execution_count": 63,
   "metadata": {
    "collapsed": false
   },
   "outputs": [
    {
     "ename": "ValueError",
     "evalue": "math domain error",
     "output_type": "error",
     "traceback": [
      "\u001b[1;31m---------------------------------------------------------------------------\u001b[0m",
      "\u001b[1;31mValueError\u001b[0m                                Traceback (most recent call last)",
      "\u001b[1;32m<ipython-input-63-b13f3b74db56>\u001b[0m in \u001b[0;36m<module>\u001b[1;34m()\u001b[0m\n\u001b[1;32m----> 1\u001b[1;33m \u001b[1;32mprint\u001b[0m\u001b[1;33m(\u001b[0m\u001b[0mmath\u001b[0m\u001b[1;33m.\u001b[0m\u001b[0msqrt\u001b[0m\u001b[1;33m(\u001b[0m\u001b[1;33m-\u001b[0m\u001b[1;36m4\u001b[0m\u001b[1;33m)\u001b[0m\u001b[1;33m)\u001b[0m\u001b[1;33m\u001b[0m\u001b[0m\n\u001b[0m",
      "\u001b[1;31mValueError\u001b[0m: math domain error"
     ]
    }
   ],
   "source": [
    "print(math.sqrt(-4))"
   ]
  },
  {
   "cell_type": "code",
   "execution_count": 71,
   "metadata": {
    "collapsed": false
   },
   "outputs": [
    {
     "name": "stdout",
     "output_type": "stream",
     "text": [
      "2j\n",
      "3.60555127546\n",
      "3.60555127546\n"
     ]
    }
   ],
   "source": [
    "import cmath\n",
    "\n",
    "print(cmath.sqrt(-4))\n",
    "print(abs(2+3j))\n",
    "print(math.sqrt(2**2 + 3**2))"
   ]
  }
 ],
 "metadata": {
  "kernelspec": {
   "display_name": "Python 2",
   "language": "python",
   "name": "python2"
  },
  "language_info": {
   "codemirror_mode": {
    "name": "ipython",
    "version": 2
   },
   "file_extension": ".py",
   "mimetype": "text/x-python",
   "name": "python",
   "nbconvert_exporter": "python",
   "pygments_lexer": "ipython2",
   "version": "2.7.9"
  }
 },
 "nbformat": 4,
 "nbformat_minor": 0
}
