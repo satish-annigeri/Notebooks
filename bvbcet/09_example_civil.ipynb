{
 "cells": [
  {
   "cell_type": "markdown",
   "metadata": {
    "collapsed": false
   },
   "source": [
    "# Simply Supported Beam subjected to Linearly Varying Load\n",
    "\n",
    "## Objective\n",
    "Design, develop and test a Python program to analyse a simply supported beam subjcted to linearly varying load applied over the entire span. The program should calculate the support reactions, SF and BM at regular intervals along the span, point of zero shear and maximum bending moment.\n",
    "\n",
    "## Theory\n",
    "<img src='example_civil.png'>\n",
    "\n",
    "The equations for reactions at supports, intensity of load ($w_x$), sfear force ($V_x$) and bending moment ($M_x$) at a distance $x$ from left support are as shown below:\n",
    "\n",
    "$$\n",
    "\\begin{align}\n",
    "R_a &= \\left( 2 w_1 + w_2 \\right) \\frac{L}{6} \\\\\n",
    "R_b &= \\left( w_1 + 2 w_2 \\right) \\frac{L}{6} \\\\\n",
    "w_x &= w_1 + \\frac{w_2 - w_1}{L} x \\\\\n",
    "V_x &= R_a - \\frac{w_1 + w_x}{2} x \\\\\n",
    "M_x &= R_a x - \\frac{w_1 + w_x}{2} x \\cdot \\frac{2 w_1 + w_x}{w_1 + w_x} \\frac{x}{3} = R_a x - (2 w_1 + w_x) \\frac{x^2}{6}\n",
    "\\end{align}$$\n",
    "\n",
    "It can be seen that when the intensity of load $w_x$ varies linearly with $x$, variation of $V_x$ and $M_x$ with respect to $x$ is parabolic and cubic, respectively.\n",
    "\n",
    "## Input Data\n",
    "The primary input data are:\n",
    "1. **Span $L$** in metres\n",
    "2. **Intensity of load at left support $w_1$** in kN/m\n",
    "3. **Intensity of load at right support $w_2$** in kN/m\n",
    "4. **Number of equal intervals along span** at which shear force and bending moment are to be calculated\n",
    "\n",
    "## Output Data\n",
    "1. Shear force at regular intervals\n",
    "2. Bending moment at regular intervals\n",
    "\n",
    "## Other Data and Sign Convention\n",
    "1. Distance $x$ of a chosen cross section from left support is positive when measured to the right of left support and $0 \\leq x \\leq L$\n",
    "2. Intensity of load $w_1, w_2, w_x$ are positive when acting downwards.\n",
    "3. Reactions at supports $R_a, R_b$ are positive when acting upwards.\n",
    "4. Shear force $V_x$ is positive when net force on left of section is upwards or when net force to the right of section is downwards. Negative otherwise.\n",
    "5. Bending moment $M_x$ is positive when bending moment is sagging and negative if hogging.\n",
    "\n",
    "## Program Organization\n",
    "We will develop functions to calculate each of these results, namely, reactions, intensity of load, sgear force and bending moment, as follows:\n",
    "\n",
    "<table>\n",
    "<tr>\n",
    "<td>Function Name</td><td>Input Data</td><td>Output Data</td><td>Purpose</td>\n",
    "</tr>\n",
    "<tr>\n",
    "<td>**`reactions()`**</td><td>$L$, $w_1$, $w_2$</td><td>$R_a, R_b$</td><td>Calculate reactions at supports</td>\n",
    "</tr>\n",
    "<tr>\n",
    "<td>**`calc_wx()`**</td><td>$x$, $L$, $w_1$, $w_2$</td><td>$w_x$</td><td>Calculate intensity of load at $x$</td>\n",
    "</tr>\n",
    "<tr>\n",
    "<td>**`calc_Vx()`**</td><td>$x$, $L$, $w_1$, $w_2$</td><td>$V_x$</td><td>Calculate shear force at $x$</td>\n",
    "</tr>\n",
    "<tr>\n",
    "<td>**`calc_Mx()`**</td><td>$x$, $L$, $w_1$, $w_2$</td><td>$M_x$</td><td>Calculate bending moment at $x$</td>\n",
    "</tr>\n",
    "</table>\n",
    "\n",
    "The function to calculate the reactions uses the above equations is shown below. It is tested for different types of input, namely, UDL ($w_1 = w_2$), triangular loads ($w_1 = 0$ and $w_2 = 0$)."
   ]
  },
  {
   "cell_type": "code",
   "execution_count": 1,
   "metadata": {
    "collapsed": false
   },
   "outputs": [
    {
     "name": "stdout",
     "output_type": "stream",
     "text": [
      "30.0 30.0\n",
      "30.0 60.0\n",
      "60.0 30.0\n",
      "Help on function reactions in module __main__:\n",
      "\n",
      "reactions(L, w1, w2)\n",
      "    Returns the reactions at left and right supports of a simply supported beam\n",
      "    subjected to a linearly varying load with intensity w1 and w2 at the left and right\n",
      "    ends, respectively\n",
      "\n"
     ]
    }
   ],
   "source": [
    "from __future__ import division, print_function\n",
    "import numpy as np\n",
    "import matplotlib.pyplot as plt\n",
    "%matplotlib inline\n",
    "\n",
    "def reactions(L, w1, w2):\n",
    "    '''Returns the reactions at left and right supports of a simply supported beam\n",
    "       subjected to a linearly varying load with intensity w1 and w2 at the left and right\n",
    "       ends, respectively'''\n",
    "    Ra = (2 * w1 + w2) * L / 6\n",
    "    Rb = (w1 + 2 * w2) * L / 6\n",
    "    return (Ra, Rb)\n",
    "\n",
    "Ra, Rb = reactions(6, 10, 10)\n",
    "print(Ra, Rb)\n",
    "\n",
    "Ra, Rb = reactions(6, 0, 30)\n",
    "print(Ra, Rb)\n",
    "\n",
    "Ra, Rb = reactions(6, 30, 0)\n",
    "print(Ra, Rb)\n",
    "\n",
    "help(reactions)"
   ]
  },
  {
   "cell_type": "markdown",
   "metadata": {},
   "source": [
    "Function to calculate intensity of load $w_x$ at distance $x$ from left support is shown below. It is tested for the intensity of load at midspan of a $6~m$ span beam with triangular loading ($w_1 = 0$) and UDL ($w_1 = w_2$)."
   ]
  },
  {
   "cell_type": "code",
   "execution_count": 2,
   "metadata": {
    "collapsed": false
   },
   "outputs": [
    {
     "name": "stdout",
     "output_type": "stream",
     "text": [
      "10.0\n",
      "10.0\n",
      "Help on function calc_wx in module __main__:\n",
      "\n",
      "calc_wx(x, L, w1, w2)\n",
      "    Returns the intensity of a linearly varying load at distance 'x' from left support\n",
      "    when intensity at x=0 is w1 and at x=L is w2\n",
      "\n",
      "<type 'numpy.ndarray'> 7\n",
      "<type 'numpy.ndarray'> 7\n",
      "[  0.   2.   4.   6.   8.  10.  12.]\n"
     ]
    }
   ],
   "source": [
    "def calc_wx(x, L, w1, w2):\n",
    "    '''Returns the intensity of a linearly varying load at distance 'x' from left support\n",
    "       when intensity at x=0 is w1 and at x=L is w2'''\n",
    "    return w1 + (w2 - w1) * x / L\n",
    "\n",
    "print(calc_wx(3, 6, 0, 20))\n",
    "print(calc_wx(3, 6, 10, 10))\n",
    "\n",
    "help(calc_wx)\n",
    "\n",
    "x = np.array([0, 1, 2, 3, 4, 5, 6], dtype=float)\n",
    "wx = calc_wx(x, 6.0, 0.0, 12.0)\n",
    "print(type(x), len(x))\n",
    "print(type(wx), len(wx))\n",
    "print(wx)"
   ]
  },
  {
   "cell_type": "markdown",
   "metadata": {},
   "source": [
    "Functions to calculate shear force $V_x$ and bending moment $M_x$ at $x$ are shown below. They are tested for 13 data points spaced equally along the span. Graphs of $w_x, V_x$ and $M_x$ are plotted and verified for the nature of their variation."
   ]
  },
  {
   "cell_type": "code",
   "execution_count": 3,
   "metadata": {
    "collapsed": false,
    "scrolled": false
   },
   "outputs": [
    {
     "name": "stdout",
     "output_type": "stream",
     "text": [
      "Ra = 12.0000, Rb = 24.0000\n",
      "    0.00       0.0000      12.0000       0.0000\n",
      "    0.50       1.0000      11.7500       5.9583\n",
      "    1.00       2.0000      11.0000      11.6667\n",
      "    1.50       3.0000       9.7500      16.8750\n",
      "    2.00       4.0000       8.0000      21.3333\n",
      "    2.50       5.0000       5.7500      24.7917\n",
      "    3.00       6.0000       3.0000      27.0000\n",
      "    3.50       7.0000      -0.2500      27.7083\n",
      "    4.00       8.0000      -4.0000      26.6667\n",
      "    4.50       9.0000      -8.2500      23.6250\n",
      "    5.00      10.0000     -13.0000      18.3333\n",
      "    5.50      11.0000     -18.2500      10.5417\n",
      "    6.00      12.0000     -24.0000       0.0000\n"
     ]
    },
    {
     "data": {
      "image/png": "[encoded data removed]",
      "text/plain": [
       "<matplotlib.figure.Figure at 0x38e3e80>"
      ]
     },
     "metadata": {},
     "output_type": "display_data"
    }
   ],
   "source": [
    "def calc_Vx(x, L, w1, w2):\n",
    "    '''Returns the shear force at a distance 'x' from left support in a simply supported beam\n",
    "       of span L subjected to a linearly varying load of intensity w1 at x=0 and w2 at x=L'''\n",
    "\n",
    "    Ra, Rb = reactions(L, w1, w2)\n",
    "    return (Ra  - (w1 + calc_wx(x, L, w1, w2)) / 2 * x)\n",
    "\n",
    "def calc_Mx(x, L, w1, w2):\n",
    "    '''Returns the bending moment at a distance 'x' from left support in a simply supported beam\n",
    "       of span L subjected to a linearly varying load of intensity w1 at x=0 and w2 at x=L'''\n",
    "    Ra, Rb = reactions(L, w1, w2)\n",
    "    wx = calc_wx(x, L, w1, w2)\n",
    "    return (Ra * x - (2*w1+wx)*x*x/6)\n",
    "\n",
    "L = 6.0\n",
    "w1 = 0.0\n",
    "w2 = 12.0\n",
    "numint = 12\n",
    "\n",
    "Ra, Rb = reactions(L, w1, w2)\n",
    "print('Ra = %.4f, Rb = %.4f' % (Ra, Rb))\n",
    "\n",
    "x = np.linspace(0, L, numint+1)\n",
    "wx = calc_wx(x, 6.0, w1, w2)\n",
    "Vx = calc_Vx(x, L, w1, w2)\n",
    "Mx = calc_Mx(x, L, w1, w2)\n",
    "\n",
    "for xx, yy, zz, mm in zip(x, wx, Vx, Mx):\n",
    "    print(\"%8.2f %12.4f %12.4f %12.4f\" % (xx, yy, zz, mm))\n",
    "\n",
    "plt.subplot(311)\n",
    "plt.plot(x, wx)\n",
    "plt.grid()\n",
    "\n",
    "plt.subplot(312)\n",
    "plt.plot(x, Vx)\n",
    "plt.grid()\n",
    "\n",
    "plt.subplot(313)\n",
    "plt.plot(x, Mx)\n",
    "plt.grid()\n",
    "\n",
    "plt.show()"
   ]
  },
  {
   "cell_type": "markdown",
   "metadata": {},
   "source": [
    "We must now determine the value of $x$ at which $V_x = 0$. This requires the calculation of root of the shear force equation. To achieve this, we will write two functions **`bracket()`** and **`false_pos()`** which will accomplish the following tasks, which are general in that they can be used in other problems which require finding of roots.\n",
    "\n",
    "**`bracket()`** takes as input two vectors, namely the values of the independent variable $x$ and the corresponding dependent variable $y$. It returs **`None`** if no roots are bracketed else it returns the first brackets if a root is bracketed\n",
    "\n",
    "**`false_pos()`** takes as input the function $f(x, L, w_1, w_2)$ whose roots are to be found, the brackets $x_1$, $x_2$, tolerance and the maximum number of iterations desired.\n",
    "\n",
    "The function **`false_pos()`** is tested and verified by calculating shear force at the distance calculated by **`false_pos()`**, which must be zero, subjected to the chosen tolerance. Once verified, we can calculate the bending moment at the same location."
   ]
  },
  {
   "cell_type": "code",
   "execution_count": 4,
   "metadata": {
    "collapsed": false
   },
   "outputs": [
    {
     "name": "stdout",
     "output_type": "stream",
     "text": [
      "<type 'numpy.ndarray'> 13\n",
      "[3.0, 3.5]\n"
     ]
    }
   ],
   "source": [
    "def bracket(x, y):\n",
    "    '''Returns an List with two elements corresponding to the first root that is bracketed \n",
    "       within the array x[], else returns None'''\n",
    "    \n",
    "    b = []\n",
    "    for i in range(len(x)-1):\n",
    "        if y[i] * y[i+1] <= 0.0:\n",
    "            b.append(x[i])\n",
    "            b.append(x[i+1])\n",
    "            return b\n",
    "    return None\n",
    "\n",
    "print(type(x), len(x))\n",
    "b = bracket(x, Vx)\n",
    "print(b)"
   ]
  },
  {
   "cell_type": "code",
   "execution_count": 5,
   "metadata": {
    "collapsed": false
   },
   "outputs": [
    {
     "name": "stdout",
     "output_type": "stream",
     "text": [
      "3.46410161514 5.24025267623e-13\n",
      "Help on function bisection in module __main__:\n",
      "\n",
      "bisection(f, x1, x2, L, w1, w2, tol=1e-06, maxiter=50)\n",
      "    Returns the root within the bracket [x1, x2] using Bisection method. Convergence is determined\n",
      "    by the tolerance 'tol', which defaults to 1e-6 if not specified. A maximum of 'maxiter' iterations \n",
      "    are performed, which defaults to 50 if not specified. If no root with the required tolerance can be \n",
      "    found within the specified number of iterations, function returns None\n",
      "    \n",
      "    When calling this function, keyword arguments 'L', 'w1' and 'w2' must be supplied, which in turn will \n",
      "    be passed on to function 'f', whose root is being determined.\n",
      "\n"
     ]
    }
   ],
   "source": [
    "def bisection(f, x1, x2, L, w1, w2, tol=1e-6, maxiter=50):\n",
    "    '''Returns the root within the bracket [x1, x2] using Bisection method. Convergence is determined\n",
    "       by the tolerance 'tol', which defaults to 1e-6 if not specified. A maximum of 'maxiter' iterations \n",
    "       are performed, which defaults to 50 if not specified. If no root with the required tolerance can be \n",
    "       found within the specified number of iterations, function returns None\n",
    "       \n",
    "       When calling this function, keyword arguments 'L', 'w1' and 'w2' must be supplied, which in turn will \n",
    "       be passed on to function 'f', whose root is being determined.'''\n",
    "\n",
    "    y1 = f(x1, L, w1, w2)\n",
    "    y2 = f(x2, L, w1, w2)\n",
    "    if abs(y1) <= tol:\n",
    "        return x1\n",
    "    elif abs(y2) <= tol:\n",
    "        return x2\n",
    "\n",
    "    if (y1 * y2) > 0:\n",
    "        print('Root not bracketed')\n",
    "        return None\n",
    "\n",
    "    k = 0\n",
    "    while (k <= maxiter):\n",
    "        k += 1\n",
    "        x = (x1 + x2) / 2\n",
    "        y = f(x, L, w1, w2)\n",
    "        if abs(y) <= tol:\n",
    "            return x\n",
    "        else:\n",
    "            if y1 * y < 0:\n",
    "                x2 = x\n",
    "                y2 = y\n",
    "            else:\n",
    "                x1 = x\n",
    "                y1 = y\n",
    "\n",
    "    if abs(y1) <= tol:\n",
    "        return(x1)\n",
    "    elif abs(y2) <= tol:\n",
    "        return x2\n",
    "    else:\n",
    "        return None\n",
    "\n",
    "x = bisection(calc_Vx, b[0],  b[1], 6.0, 0.0, 12.0, 1e-12)\n",
    "print(x, calc_Vx(x, L, w1, w2))\n",
    "\n",
    "help(bisection)"
   ]
  },
  {
   "cell_type": "code",
   "execution_count": 6,
   "metadata": {
    "collapsed": false
   },
   "outputs": [
    {
     "name": "stdout",
     "output_type": "stream",
     "text": [
      "27.7128129211\n"
     ]
    }
   ],
   "source": [
    "print(calc_Mx(x, L, w1, w2))"
   ]
  },
  {
   "cell_type": "markdown",
   "metadata": {},
   "source": [
    "Once each function is tested, we can now write the main function that will set up the input data, call the required functions in the correct sequence and print the results. A separate function is developed to plot graphs."
   ]
  },
  {
   "cell_type": "code",
   "execution_count": 7,
   "metadata": {
    "collapsed": false,
    "scrolled": true
   },
   "outputs": [
    {
     "name": "stdout",
     "output_type": "stream",
     "text": [
      "INPUT\n",
      "Span = 6.0000 m\n",
      "Intensity of load at left support  = 0.0000 kN/m\n",
      "Intensity of load at right support = 12.0000 kN/m\n",
      "\n",
      "OUTPUT\n",
      "Reactions\n",
      "Ra = 12.0000, Rb = 24.0000\n",
      "    0.00       0.0000      12.0000       0.0000\n",
      "    0.46       0.9231      11.7870       5.5057\n",
      "    0.92       1.8462      11.1479      10.8147\n",
      "    1.38       2.7692      10.0828      15.7305\n",
      "    1.85       3.6923       8.5917      20.0564\n",
      "    2.31       4.6154       6.6746      23.5958\n",
      "    2.77       5.5385       4.3314      26.1520\n",
      "    3.23       6.4615       1.5621      27.5284\n",
      "    3.69       7.3846      -1.6331      27.5284\n",
      "    4.15       8.3077      -5.2544      25.9554\n",
      "    4.62       9.2308      -9.3018      22.6127\n",
      "    5.08      10.1538     -13.7751      17.3036\n",
      "    5.54      11.0769     -18.6746       9.8316\n",
      "    6.00      12.0000     -24.0000       0.0000\n"
     ]
    },
    {
     "data": {
      "image/png": "[encoded data removed]",
      "text/plain": [
       "<matplotlib.figure.Figure at 0xa60d0f0>"
      ]
     },
     "metadata": {},
     "output_type": "display_data"
    },
    {
     "name": "stdout",
     "output_type": "stream",
     "text": [
      "Maximum Bending Moment\n",
      "x = 3.4641 V = -0.0000 Mmax = 27.7128\n"
     ]
    }
   ],
   "source": [
    "def plot_graphs(x, wx, Vx, Mx):\n",
    "    '''Function to plot graphs for intensity of load, shear force and bending moment. Does not return any value.'''\n",
    "\n",
    "    plt.subplot(311)\n",
    "    plt.plot(x, wx)\n",
    "    plt.grid()\n",
    "\n",
    "    plt.subplot(312)\n",
    "    plt.plot(x, Vx)\n",
    "    plt.grid()\n",
    "\n",
    "    plt.subplot(313)\n",
    "    plt.plot(x, Mx)\n",
    "    plt.grid()\n",
    "\n",
    "    plt.show()\n",
    "    return\n",
    "\n",
    "def main(L, w1, w2, numint):\n",
    "    '''Main function that sets up input, prints output and generates graphs. Does not return any value'''\n",
    "\n",
    "    Ra, Rb = reactions(L, w1, w2)\n",
    "    print('INPUT')\n",
    "    print('Span = %.4f m' % L)\n",
    "    print('Intensity of load at left support  = %.4f kN/m' % w1)\n",
    "    print('Intensity of load at right support = %.4f kN/m' % w2)\n",
    "    print()\n",
    "    print('OUTPUT')\n",
    "    print('Reactions')\n",
    "    print('Ra = %.4f, Rb = %.4f' % (Ra, Rb))\n",
    "    x = np.linspace(0.0, L, numint+1)\n",
    "    wx = calc_wx(x, L, w1, w2)\n",
    "    Vx = calc_Vx(x, L, w1, w2)\n",
    "    Mx = calc_Mx(x, L, w1, w2)\n",
    "    for xx, ww, sf, bm in zip(x, wx, Vx, Mx):\n",
    "        print(\"%8.2f %12.4f %12.4f %12.4f\" % (xx, ww, sf, bm))\n",
    "    plot_graphs(x, wx, Vx, Mx)\n",
    "    b = bracket(x, Vx)\n",
    "    xmax = bisection(calc_Vx, b[0], b[1], L, w1, w2, 1e-12)\n",
    "    Mmax = calc_Mx(xmax, L, w1, w2)\n",
    "    print('Maximum Bending Moment')\n",
    "    print('x = %.4f V = %.4f Mmax = %.4f' % (xmax, calc_Vx(xmax, L, w1, w2), calc_Mx(xmax, L, w1, w2)))\n",
    "    return\n",
    "\n",
    "L = 6.0\n",
    "w1 = 0.0\n",
    "w2 = 12.0\n",
    "main(L, w1, w2, 13)"
   ]
  },
  {
   "cell_type": "code",
   "execution_count": 8,
   "metadata": {
    "collapsed": false,
    "scrolled": true
   },
   "outputs": [
    {
     "name": "stdout",
     "output_type": "stream",
     "text": [
      "INPUT\n",
      "Span = 6.0000 m\n",
      "Intensity of load at left support  = 10.0000 kN/m\n",
      "Intensity of load at right support = 10.0000 kN/m\n",
      "\n",
      "OUTPUT\n",
      "Reactions\n",
      "Ra = 30.0000, Rb = 30.0000\n",
      "    0.00      10.0000      30.0000       0.0000\n",
      "    0.46      10.0000      25.3846      12.7811\n",
      "    0.92      10.0000      20.7692      23.4320\n",
      "    1.38      10.0000      16.1538      31.9527\n",
      "    1.85      10.0000      11.5385      38.3432\n",
      "    2.31      10.0000       6.9231      42.6036\n",
      "    2.77      10.0000       2.3077      44.7337\n",
      "    3.23      10.0000      -2.3077      44.7337\n",
      "    3.69      10.0000      -6.9231      42.6036\n",
      "    4.15      10.0000     -11.5385      38.3432\n",
      "    4.62      10.0000     -16.1538      31.9527\n",
      "    5.08      10.0000     -20.7692      23.4320\n",
      "    5.54      10.0000     -25.3846      12.7811\n",
      "    6.00      10.0000     -30.0000       0.0000\n"
     ]
    },
    {
     "data": {
      "image/png": "[encoded data removed]",
      "text/plain": [
       "<matplotlib.figure.Figure at 0xa60d438>"
      ]
     },
     "metadata": {},
     "output_type": "display_data"
    },
    {
     "name": "stdout",
     "output_type": "stream",
     "text": [
      "Maximum Bending Moment\n",
      "x = 3.0000 V = 0.0000 Mmax = 45.0000\n"
     ]
    }
   ],
   "source": [
    "L = 6.0\n",
    "w1 = 10.0\n",
    "w2 = 10.0\n",
    "main(L, w1, w2, 13)"
   ]
  },
  {
   "cell_type": "code",
   "execution_count": 9,
   "metadata": {
    "collapsed": false
   },
   "outputs": [
    {
     "name": "stdout",
     "output_type": "stream",
     "text": [
      "INPUT\n",
      "Span = 6.0000 m\n",
      "Intensity of load at left support  = 12.0000 kN/m\n",
      "Intensity of load at right support = 0.0000 kN/m\n",
      "\n",
      "OUTPUT\n",
      "Reactions\n",
      "Ra = 24.0000, Rb = 12.0000\n",
      "    0.00      12.0000      24.0000       0.0000\n",
      "    0.46      11.0769      18.6746       9.8316\n",
      "    0.92      10.1538      13.7751      17.3036\n",
      "    1.38       9.2308       9.3018      22.6127\n",
      "    1.85       8.3077       5.2544      25.9554\n",
      "    2.31       7.3846       1.6331      27.5284\n",
      "    2.77       6.4615      -1.5621      27.5284\n",
      "    3.23       5.5385      -4.3314      26.1520\n",
      "    3.69       4.6154      -6.6746      23.5958\n",
      "    4.15       3.6923      -8.5917      20.0564\n",
      "    4.62       2.7692     -10.0828      15.7305\n",
      "    5.08       1.8462     -11.1479      10.8147\n",
      "    5.54       0.9231     -11.7870       5.5057\n",
      "    6.00       0.0000     -12.0000       0.0000\n"
     ]
    },
    {
     "data": {
      "image/png": "[encoded data removed]",
      "text/plain": [
       "<matplotlib.figure.Figure at 0xb1e3780>"
      ]
     },
     "metadata": {},
     "output_type": "display_data"
    },
    {
     "name": "stdout",
     "output_type": "stream",
     "text": [
      "Maximum Bending Moment\n",
      "x = 2.5359 V = 0.0000 Mmax = 27.7128\n"
     ]
    }
   ],
   "source": [
    "L = 6.0\n",
    "w1 = 12.0\n",
    "w2 = 0.0\n",
    "main(L, w1, w2, 13)"
   ]
  },
  {
   "cell_type": "markdown",
   "metadata": {
    "collapsed": true
   },
   "source": [
    "## Results and Discussion\n",
    "* Discuss the results for different types of loads that can be generated using this program, namely\n",
    "  * Triangular load ($w_1=0, w_2 \\neq 0$ or $w1 \\neq 0, w_2=0$)\n",
    "  * Unifomly distributed load ($w_1 = w_2$)\n",
    "  * Trapezoidal load ($w_1 \\neq 0$ and $w_2 \\neq 0$)\n",
    "* A study on the effect of changing number of intervals could be made\n",
    "\n",
    "## Limitations of the Program\n",
    "The defined scope of the problem limits the program to simple supports, load applied over entire span and varying linearly from $w_1$ at left support to $w_2$ at the right support.\n",
    "\n",
    "## Improvements to the Program\n",
    "* Replacing Bisection with False Position method may reduce the number of iterations required.\n",
    "\n",
    "## Conclusions"
   ]
  },
  {
   "cell_type": "code",
   "execution_count": 10,
   "metadata": {
    "collapsed": false
   },
   "outputs": [
    {
     "name": "stdout",
     "output_type": "stream",
     "text": [
      "3.46410155296 4.30757552294e-07 27.7128129211\n",
      "\n",
      "3.46410161514 5.24025267623e-13 27.7128129211\n",
      "\n",
      "3.46410161514 0.0 27.7128129211\n"
     ]
    }
   ],
   "source": [
    "def bisection(f, x1, x2, L, w1, w2, tol, maxiter):\n",
    "    y1 = f(x1, L, w1, w2)\n",
    "\n",
    "    if abs(y1) <= tol:\n",
    "        return x1\n",
    "\n",
    "    y2 = f(x2, L, w1, w2)\n",
    "    if abs(y2) <= tol:\n",
    "        return x2\n",
    "    k = 0\n",
    "    while k <= maxiter:\n",
    "        k += 1\n",
    "        x = (x1 + x2) / 2\n",
    "        y = f(x, L, w1, w2)\n",
    "        # print(x, y)\n",
    "        if abs(y) <= tol:\n",
    "            return x\n",
    "        if y1 * y <= 0.0:  # Root is bracketed by left half\n",
    "            x2 = x\n",
    "            y2 = y\n",
    "        else: # Root is bracketed by right half\n",
    "            x1 = x\n",
    "            y1 = y\n",
    "    return None\n",
    "root = bisection(calc_Vx, 3.0, 3.5, 6, 0, 12, 1e-6, 50)\n",
    "Vmax = calc_Vx(root, 6, 0, 12)\n",
    "Mmax = calc_Mx(root, 6, 0, 12)\n",
    "print(root, Vmax, Mmax)\n",
    "print()\n",
    "root = bisection(calc_Vx, 3.0, 3.5, 6, 0, 12, 1e-12, 50)\n",
    "Vmax = calc_Vx(root, 6, 0, 12)\n",
    "Mmax = calc_Mx(root, 6, 0, 12)\n",
    "print(root, Vmax, Mmax)\n",
    "print()\n",
    "root = bisection(calc_Vx, 3.0, 3.5, 6, 0, 12, 1e-16, 50)\n",
    "Vmax = calc_Vx(root, 6, 0, 12)\n",
    "Mmax = calc_Mx(root, 6, 0, 12)\n",
    "print(root, Vmax, Mmax)"
   ]
  },
  {
   "cell_type": "code",
   "execution_count": 34,
   "metadata": {
    "collapsed": false
   },
   "outputs": [
    {
     "name": "stdout",
     "output_type": "stream",
     "text": [
      "Simply Supported Beam, Span = 6.00\n",
      "Ra = 30.00, Rb = 30.00\n",
      "[ 30.  25.  20.  15.  10.   5.   0.  -5. -10. -15. -20. -25. -30.]\n",
      "[  0.    13.75  25.    33.75  40.    43.75  45.    43.75  40.    33.75  25.\n",
      "  13.75   0.  ]\n"
     ]
    },
    {
     "data": {
      "image/png": "[encoded data removed]",
      "text/plain": [
       "<matplotlib.figure.Figure at 0xa6d3ef0>"
      ]
     },
     "metadata": {},
     "output_type": "display_data"
    }
   ],
   "source": [
    "class UDL(object):\n",
    "    def __init__(self, w, d1, d2):\n",
    "        self.w = w\n",
    "        if d2 > d1:\n",
    "            self.d1 = d1\n",
    "            self.d2 = d2\n",
    "        else:\n",
    "            seld.d1 = d2\n",
    "            self.d2 = d1\n",
    "        return\n",
    "\n",
    "    def getResultant(self):\n",
    "        return self.w * (self.d2 - self.d1)\n",
    "\n",
    "    def getCG(self):\n",
    "        return (self.d1 + self.d2) / 2.0\n",
    "\n",
    "    def getMagnitude(self):\n",
    "        return self.getResultant()\n",
    "\n",
    "    def getMoment(self):\n",
    "        return self.getResultant() * self.getCG()\n",
    "\n",
    "    def calcV(self, x):\n",
    "        if x <= self.d1:\n",
    "            return 0.0\n",
    "        elif x <= self.d2:\n",
    "            return -(self.w * (x - self.d1))\n",
    "        else:\n",
    "            return -self.getResultant()\n",
    "\n",
    "    def calcM(self, x):\n",
    "        if x <= self.d1:\n",
    "            return 0.0\n",
    "        elif x <= self.d2:\n",
    "            return -(self.w * (x - self.d1)**2 / 2.0)\n",
    "        else:\n",
    "            return -(self.getResultant() * (x - self.getCG()))\n",
    "\n",
    "class SSBeam(object):\n",
    "    def __init__(self, L, loads, ndiv=10):\n",
    "        self.L = L\n",
    "        self.loads = loads[:]\n",
    "        self.ndiv = ndiv\n",
    "        self.sections = np.linspace(0, self.L, self.ndiv+1)\n",
    "        self.V = np.zeros(self.sections.shape)\n",
    "        self.M = np.zeros(self.sections.shape)\n",
    "        return\n",
    "\n",
    "    def getSections(self):\n",
    "        self.sections = np.linspace(0, self.L, self.ndiv+1)\n",
    "        return\n",
    "\n",
    "    def __str__(self):\n",
    "        s = \"Simply Supported Beam, Span = %.2f\" % (self.L,)\n",
    "        return s\n",
    "\n",
    "    def calcReactions(self):\n",
    "        P = 0.0\n",
    "        M = 0.0\n",
    "        for load in self.loads:\n",
    "            P += load.getMagnitude()\n",
    "            M += load.getMoment()\n",
    "        Rb = M / self.L\n",
    "        Ra = P - Rb\n",
    "        return (Ra, Rb)\n",
    "\n",
    "    def calcV_M(self):\n",
    "        Ra, Rb = self.calcReactions()\n",
    "        for i, x in enumerate(self.sections):\n",
    "            V = Ra\n",
    "            M = Ra * x\n",
    "            for load in self.loads:\n",
    "                V += load.calcV(x)\n",
    "                M += load.calcM(x)\n",
    "            self.V[i] = V\n",
    "            self.M[i] = M\n",
    "        print(self.V)\n",
    "        print(self.M)\n",
    "        return\n",
    "\n",
    "    def plot(self):\n",
    "        plt.subplot(211)\n",
    "        plt.plot(self.sections, self.V)\n",
    "        plt.subplot(212)\n",
    "        plt.plot(self.sections, self.M)\n",
    "        plt.grid()\n",
    "        plt.show()\n",
    "        return\n",
    "\n",
    "loads = [UDL(10.0, 0.0, 6.0)]\n",
    "B = SSBeam(6, loads, 12)\n",
    "print(B)\n",
    "Ra, Rb = B.calcReactions()\n",
    "print(\"Ra = %.2f, Rb = %.2f\" % (Ra, Rb))\n",
    "B.calcV_M()\n",
    "B.plot()"
   ]
  },
  {
   "cell_type": "code",
   "execution_count": null,
   "metadata": {
    "collapsed": true
   },
   "outputs": [],
   "source": []
  }
 ],
 "metadata": {
  "kernelspec": {
   "display_name": "Python 2",
   "language": "python",
   "name": "python2"
  },
  "language_info": {
   "codemirror_mode": {
    "name": "ipython",
    "version": 2
   },
   "file_extension": ".py",
   "mimetype": "text/x-python",
   "name": "python",
   "nbconvert_exporter": "python",
   "pygments_lexer": "ipython2",
   "version": "2.7.9"
  }
 },
 "nbformat": 4,
 "nbformat_minor": 0
}
