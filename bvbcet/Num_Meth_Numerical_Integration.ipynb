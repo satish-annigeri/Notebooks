{
 "cells": [
  {
   "cell_type": "markdown",
   "metadata": {},
   "source": [
    "# Numerical Integration\n",
    "\n",
    "Numerical integration can be expressed as the following approximate sum:\n",
    "\n",
    "$$I = \\int_a^b f(x) dx \\approx \\sum_{i=1}^{n} A_i f(x_i)$$\n",
    "\n",
    "where $A_i$ are the weights associated with the function evaluated at $x_i$. Typically, $n+1$ data points $x_i, i = 0,1,2, \\ldots , n$ are selected starting from $a$ upto $b$, and the function is evaluated at each of these ordinates. The weighted sum above is an approximation to the integral we are attemptying to evaluate.\n",
    "\n",
    "There are two main approaches to carrying out numerical integration. The first approach based on Newton-Cotes formulae divides the interval $a$ to $b$ into a certain number of panels, usually of equal width. If $n$ is the number of panels, then $n+1$ is the number of ordinates, and the function is evaluated at each of these ordinates. For such methods, accuracy usually increases with the number of panels. The second approach is based on Gauss Quadrature. These methods evaluate the function at only a few specified ordinates. Gauss quadrature usually gives accurate results even with only a few function evaluations and can be used even when the limits tend to infinity.\n",
    "\n",
    "## Newton-Cotes Formulas\n",
    "Newton-Cotes formulas are based on approximating the given function by a polynomial and computing the integral of the polynomial.\n",
    "\n",
    "$$I = \\int_a^b f(x) dx \\approx \\int_a^b f_n(x) dx$$\n",
    "\n",
    "where $f_n(x)$ is a polynomial of the form $f_n(x) = a_0 + a_1 c + a_2 x^2 + \\cdots + a_{n-1} x^{n-1} + a_n x^n$.\n",
    "\n",
    "Trapezoidal Rule is Newton-Cotes formula with $n=1$, which is the equation of a straigt line. Simpson's 1/3 Rule is Newton-Cotes formula with $n=2$, which is a parabola. Trapezoidal rule requires us to determine two unknowns, $a_0$ and $a_1$, thereby requiring two points whereas Simpson's 1/3 rule requires three unknowns $a_0$, $a_1$ and $a_2$, thereby requiring three points. It is easier to obtain the coefficients $a_i$ if the panels are of equal width. The formula for Trapezoidal rule is as follows:\n",
    "\n",
    "$$I \\approx \\frac{h}{2} \\left[ f(a) + f(a+h) \\right]$$\n",
    "\n",
    "Simpson's 1/3 rule is as follows:\n",
    "\n",
    "$$I \\approx \\frac{h}{3} \\left[ f(a) + 4 f(a+h) + f(a+2h) \\right]$$\n",
    "\n",
    "## Example\n",
    "Let us consider the function $f(x) = e^{-x^2}$ and integrate it between the limits $a=0$ to $b=1$, $I = \\int_{0}^{1} e^{-x^2} dx$. Let us first use SymPy to calculate the exact answer. In SymPy we must define the symbols that we will use for variables, in this case $x$. We will then define the equation that we wish to integrate, the symbol for the variable and the lower and upper limits of integration. Method **`doit()`** evaluates the integral and the function **`N()`** calculates the numerical value of the integral."
   ]
  },
  {
   "cell_type": "code",
   "execution_count": 46,
   "metadata": {
    "collapsed": false
   },
   "outputs": [
    {
     "data": {
      "image/png": "[encoded data removed]",
      "text/latex": [
       "$$\\int_{0}^{1} e^{- x^{2}}\\, dx = \\frac{\\sqrt{\\pi}}{2} \\operatorname{erf}{\\left (1 \\right )}$$"
      ],
      "text/plain": [
       "1                       \n",
       "⌠                       \n",
       "⎮    2        ___       \n",
       "⎮  -x       ╲╱ π ⋅erf(1)\n",
       "⎮ ℯ    dx = ────────────\n",
       "⌡                2      \n",
       "0                       "
      ]
     },
     "execution_count": 46,
     "metadata": {},
     "output_type": "execute_result"
    }
   ],
   "source": [
    "from __future__ import division, print_function\n",
    "\n",
    "from sympy import *\n",
    "x = symbols('x')\n",
    "init_printing()\n",
    "\n",
    "c = Integral(exp(-x**2), (x, 0, 1))\n",
    "Eq(c, c.doit())"
   ]
  },
  {
   "cell_type": "code",
   "execution_count": 47,
   "metadata": {
    "collapsed": false
   },
   "outputs": [
    {
     "name": "stdout",
     "output_type": "stream",
     "text": [
      "0.746824132812427\n"
     ]
    }
   ],
   "source": [
    "d = N(c.doit())\n",
    "print(d)"
   ]
  },
  {
   "cell_type": "markdown",
   "metadata": {},
   "source": [
    "We now have the value of the integral stored in the object $d$, which we can use later.\n",
    "\n",
    "The two methods of numerical integration that we will use are the Trapezoidal Rule and Simpson's 1/3 Rule. Both methods require that the interval $a \\text{ to } b$ be divided into equal panels, but the latter method also requires that the number of panels be an even number.\n",
    "\n",
    "## Composite Trapezoidal Rule\n",
    "Let the range $a$ to $b$ be divided into $n$ equal panels, each of width $h = \\frac{b - a}{n}$. Thus the number of data points is $n+1$ and the ordinate of the points is $x_i = a + (i \\cdot h), i = 0, 1, \\ldots , n$.\n",
    "\n",
    "Trapezoidal rule assumes the function to vary linearly between successive data points, and the resulting approximation to the integral is given as:\n",
    "\n",
    "$$I = \\int_a^b f(x) dx \\approx \\frac{h}{2} \\left( y_0 + 2 \\sum_{i=1}^{n-2} y_i + y_{n-1} \\right)$$\n",
    "\n",
    "where $y_i = f(x_i)$ is the value of the function evaluated at each ordindate."
   ]
  },
  {
   "cell_type": "code",
   "execution_count": 48,
   "metadata": {
    "collapsed": false
   },
   "outputs": [
    {
     "name": "stdout",
     "output_type": "stream",
     "text": [
      "   10   0.7462107961317495  -0.0821\n",
      "   50   0.7467996071893513  -0.0033\n",
      "  100   0.7468180014679697  -0.0008\n"
     ]
    }
   ],
   "source": [
    "import numpy as np\n",
    "\n",
    "def f(x):\n",
    "    return np.exp(-x**2)\n",
    "\n",
    "def trap(f, a, b, n, verbose=False):\n",
    "    x = np.linspace(a, b, n+1)\n",
    "    y = f(x)\n",
    "    if verbose:\n",
    "        for xx, yy in zip(x, y):\n",
    "            print(\"%10.4f %20.16f\" % (xx, yy))\n",
    "    h = float(b - a) / n\n",
    "    s = h * (y[0] + y[-1] + 2 * sum(y[1:-1])) / 2.0\n",
    "    return s\n",
    "\n",
    "a = 0.0\n",
    "b = 1.0\n",
    "for n in [10, 50, 100]:\n",
    "    s = trap(f, a, b, n)\n",
    "    print(\"%5d %20.16f %8.4f\" % (n, s, (s - d) * 100 / d))"
   ]
  },
  {
   "cell_type": "markdown",
   "metadata": {},
   "source": [
    "## Composite Simpson's 1/3 Rule\n",
    "If the interval from $a$ to $b$ is divided into $n$ equal panels each of width $h = \\frac{b - a}{n}$ and $n+1$ is the number of ordinates, for Simpson's 1/3 rule, $n$ must be an even number (and $n+1$, obviously must be an odd number).\n",
    "\n",
    "Simpson's 1/3 rule fits a parabola (polynomial of order two) between three successive points and approximates the integral for the two consecutive panels. To be able to do so, the number of data points must be atleast 3 and the number of panels must be an even number. The composite Simpson's 1/3 rule for $n$ data points (where $n$ must be odd), and $n-1$ panels (where $n-1$ must be even) is given below:\n",
    "\n",
    "$$I = \\int_a^b f(x) dx \\approx \\frac{h}{3} \\left( y_0 + 4 \\sum_{i=1, 3, 5,\\ldots}^{n-2} y_i + 2 \\sum_{j=2,4,6,\\ldots}^{n-3} y_j \\right)$$"
   ]
  },
  {
   "cell_type": "code",
   "execution_count": 49,
   "metadata": {
    "collapsed": false
   },
   "outputs": [
    {
     "name": "stdout",
     "output_type": "stream",
     "text": [
      "   10   0.7468249482544435   0.0001091880\n",
      "   50   0.7468241341203178   0.0000001751\n",
      "  100   0.7468241328941762   0.0000000109\n"
     ]
    }
   ],
   "source": [
    "def simp(f, a, b, npanels, verbose=False):\n",
    "    x = np.linspace(a, b, npanels+1)\n",
    "    y = f(x)\n",
    "    if verbose:\n",
    "        for xx, yy in zip(x, y):\n",
    "            print(\"%10.4f %20.16f\" % (xx, yy))\n",
    "    h = float(b - a) / n\n",
    "    s = h * (y[0] + y[-1] + 4*sum(y[1:-1:2]) + 2*sum(y[2:-2:2])) / 3.0\n",
    "    return s\n",
    "\n",
    "f = lambda x: np.exp(-x*x)\n",
    "a = 0.0\n",
    "b = 1.0\n",
    "for n in [10, 50, 100]:\n",
    "    s = simp(f, a, b, n)\n",
    "    print(\"%5d %20.16f %14.10f\" % (n, s, (s - d)*100/d))"
   ]
  },
  {
   "cell_type": "markdown",
   "metadata": {},
   "source": [
    "Usually we are given the function, the lower and upper limits of the interval and the number of equal panels and we have to generate both the ordinates $x_i$ as well as the value of the function $y_i$ at these ordinates. However, sometimes the data points and value of the function at these ordinates are either already evaluated, or are obtained from an experimental observation, In such case, we must merely calculate the numerical integral. In the latter case, the panel width is calculated as $x_1 - x_0$ or the difference between any two consecutive data points. The functions for Trapezoidal and Simpson's 1/3 rules to calculate numerical integration from digitized data are given below:"
   ]
  },
  {
   "cell_type": "code",
   "execution_count": 50,
   "metadata": {
    "collapsed": false
   },
   "outputs": [
    {
     "name": "stdout",
     "output_type": "stream",
     "text": [
      "   10   0.7462107961317495  -0.0821934879335684\n",
      "   50   0.7467996071893513  -0.0032840969437502\n",
      "  100   0.7468180014679697  -0.0008209958042266\n"
     ]
    }
   ],
   "source": [
    "def trap1(x, y):\n",
    "    assert (len(x) == len(y)), 'x and y must have same length'\n",
    "    m = len(x)\n",
    "    h = x[1] - x[0]\n",
    "    return h * (y[0] + 2*sum(y[1:-1]) + y[-1]) / 2.0\n",
    "\n",
    "for n in [10, 50, 100]:\n",
    "    x = np.linspace(0, 1, n+1)\n",
    "    y = f(x)\n",
    "    s = trap1(x, y)\n",
    "    print(\"%5d %20.16f %20.16f\" % (n, s, (s-d)/s*100))"
   ]
  },
  {
   "cell_type": "code",
   "execution_count": 51,
   "metadata": {
    "collapsed": false
   },
   "outputs": [
    {
     "name": "stdout",
     "output_type": "stream",
     "text": [
      "   10   0.7468249482544436   0.0001091878382589\n",
      "   50   0.7468241341203179   0.0000001751270275\n",
      "  100   0.7468241328941762   0.0000000109462401\n"
     ]
    }
   ],
   "source": [
    "def simp1(x, y):\n",
    "    assert (len(x) == len(y)), 'x and y must have same length'\n",
    "    m = len(x)\n",
    "    h = x[1] - x[0]\n",
    "    return h / 3 * (y[0] + 4*sum(y[1:-1:2])+2*sum(y[2:-2:2])+y[-1])\n",
    "\n",
    "a = 0.0; b = 1.0; n = 10\n",
    "for n in [10, 50, 100]:\n",
    "    x = np.linspace(a, b, n+1)\n",
    "    y = f(x)\n",
    "    s = simp1(x, y)\n",
    "    print(\"%5d %20.16f %20.16f\" % (n, s, (s-d)/s*100))"
   ]
  },
  {
   "cell_type": "markdown",
   "metadata": {},
   "source": [
    "Accuracy of the integral computed by the Trapezoidal Rule and Simpson's 1/3 Rule depend greatly on the number of panels into which the interval is divided. However, it is inefficient to divide the interval into a large number of panels and carry out the integration. If it is possible to determine an optimum number of panels that will give us a desired accuracy, it would be a good idea. However, the optimal number of divisions depends greatly on the nature of variation of the function being integrated. Trapezoidal rule offers a simple approach to implement it recursively and we can stop when we don't see a noticable change in the integral on subsequent iterations. This is called the recursive Trapezoidal Rule. The number of divisions is doubled each time and a recursive equation is obtained giving the change to be made to the previously calculated integrand. When this change is smaller than the required accuracy, we can stop the recursion.\n",
    "\n",
    "\\begin{align*}I_1 &= \\frac{b - a}{2} \\left[ f(x_a) + f(x_b) \\right] \\\\\n",
    "I_k &= \\frac{1}{2} I_{k-1} + \\frac{H}{2^{k-1}} \\sum_{i=1}^{2^{k-2}} f\\left( a + \\frac{(2i-1)H}{2^{k-1}} \\right),\\quad k=2,3, \\ldots \\\\\n",
    "\\text{where } H &= b - a\n",
    "\\end{align*}"
   ]
  },
  {
   "cell_type": "code",
   "execution_count": 27,
   "metadata": {
    "collapsed": false
   },
   "outputs": [
    {
     "name": "stdout",
     "output_type": "stream",
     "text": [
      "    1    0.6839397205857212    0.3419698602928606   -1.0000000000000000\n",
      "    2    0.3419698602928606    0.5603853216821327    0.3897594261278027\n",
      "    3    0.5603853216821327    0.6574916327271660    0.1476920864258796\n",
      "    4    0.6574916327271660    0.7031193823090877    0.0648933178773671\n",
      "    5    0.7031193823090877    0.7252114805199178    0.0304629736349346\n",
      "    6    0.7252114805199178    0.7360776965181424    0.0147623220342430\n",
      "    7    0.7360776965181424    0.7414658845707519    0.0072669399425287\n",
      "    8    0.7414658845707519    0.7441487510080799    0.0036052824568926\n",
      "    9    0.7441487510080799    0.7454873774793834    0.0017956393518421\n",
      "   10    0.7454873774793834    0.7461559890375631    0.0008960747725714\n",
      "   11    0.7461559890375631    0.7464901193978701    0.0004476018524888\n",
      "   12    0.7464901193978701    0.7466571407233649    0.0002236921290713\n",
      "   13    0.7466571407233649    0.7467406404224493    0.0001118188760118\n",
      "   14    0.7467406404224493    0.7467823875310751    0.0000559026422193\n",
      "   15    0.7467823875310751    0.7468032604001609    0.0000279496223338\n",
      "   16    0.7468032604001609    0.7468136966633958    0.0000139743864923\n",
      "   17    0.7468136966633958    0.7468189147521860    0.0000069870870797\n",
      "   18    0.7468189147521860    0.7468215237858743    0.0000034935169987\n",
      "   19    0.7468215237858743    0.7468228283000390    0.0000017467518604\n",
      "   20    0.7468228283000390    0.7468234805564580    0.0000008733742792\n",
      "20 0.746823480556\n"
     ]
    }
   ],
   "source": [
    "def trap3(f, a, b, tol=1e-12, maxiter=50):\n",
    "    h = float(b - a)\n",
    "    s1 = h / 2.0 * (f(a) + f(b))\n",
    "    k = 1\n",
    "    while (k < maxiter):\n",
    "        n = 2**(k-2) + 1\n",
    "        s = 0.0\n",
    "        for i in range(1, int(n)):\n",
    "            x = a + (2*i-1)*h/2**(k-1)\n",
    "            s += f(x)\n",
    "        s *= h / 2**(k-1)\n",
    "        s2 = s1 / 2.0 + s\n",
    "        print(\"%5d %21.16f %21.16f %21.16f\" % (k, s1, s2, (s2-s1)/s2))\n",
    "        if abs(s2 - s1)/s2 < tol:\n",
    "            return k, s2\n",
    "        else:\n",
    "            s1 = s2\n",
    "            k += 1\n",
    "    return k, None\n",
    "\n",
    "i, s = trap3(f, 0.0, 1.0, 1e-6)\n",
    "print(i, s)"
   ]
  },
  {
   "cell_type": "code",
   "execution_count": 28,
   "metadata": {
    "collapsed": false
   },
   "outputs": [
    {
     "name": "stdout",
     "output_type": "stream",
     "text": [
      "    2    0.7313702518285630\n",
      "    3    0.7429840978003812\n",
      "    4    0.7458656148456952\n",
      "    5    0.7465845967882216\n",
      "    6    0.7467642546522943\n",
      "    7    0.7468091636378279\n",
      "    8    0.7468203905416179\n",
      "    9    0.7468231972461524\n",
      "   10    0.7468238989209475\n"
     ]
    }
   ],
   "source": [
    "def trap4(f, a, b, Iold, k):\n",
    "    '''Recursive Trapezoidal Rule'''\n",
    "    n = int(2**(k-2))\n",
    "    h = float(b - a) / n\n",
    "    x = a + h / 2.0\n",
    "    s = 0.0\n",
    "    for i in range(n):\n",
    "        s += f(x)\n",
    "        x += h\n",
    "    Inew = (Iold + h*s) / 2.0\n",
    "    return Inew\n",
    "\n",
    "Iold = float(b - a) * (f(a) + f(b)) / 2.0\n",
    "for k in range(2, 11):\n",
    "    Inew = trap4(f, 0.0, 1.0, Iold, k)\n",
    "    print(\"%5d %21.16f\" % (k, Inew))\n",
    "    Iold = Inew"
   ]
  },
  {
   "cell_type": "markdown",
   "metadata": {},
   "source": [
    "The points to be considered when writing functions that operate on digitized data are:\n",
    "\n",
    "1. The ordinates and function values must either be available as observed data or generated in advance\n",
    "2. Data digitization must be at equal intervals"
   ]
  },
  {
   "cell_type": "markdown",
   "metadata": {},
   "source": [
    "## Gauss Quadrature\n",
    "\n",
    "\\begin{align*}\n",
    "I &=\\int_{a}^{b} w(x) \\, f(x) \\, dx \\approx \\sum_{i=1}^{n} (A_i y_i) \\\\\n",
    "A_i &= \\text{weights, calculated based on number of points} \\\\\n",
    "x_i &= \\text{ordinates at which function is evaluated} \\\\\n",
    "y_i &= f(x_i)\n",
    "\\end{align*}\n",
    "\n",
    "### Gauss-Legendre Quadrature\n",
    "\\begin{align*}\n",
    "I &=\\int_{-1}^{1} w(x) \\, f(x) \\, dx \\approx \\sum_{i=1}^{n} (A_i y_i)\n",
    "\\end{align*}\n",
    "\n",
    "Methods based on Newton-Cotes formulas depend on the number of points at which the function is evaluated to increas ccuracy of the integral. Typically, larger the number of function evaluations, more accurate is the integral. On the other hand, Gauss quadrature requires only a few function evaluations but yield fairly accurate integrals. The points at which the function is evaluated is critical in Gauss quadrature.\n",
    "\n",
    "\n",
    "For Gauss-Legendre quadrature, the values of $x_i$ and $A_i$ for the limits $-1$ to $+1$ are as follows:\n",
    "<table>\n",
    "<tr>\n",
    "<td>**Number of Points**</td><td>**Points** $x_i$</td><td>**Weights** $A_i$</td>\n",
    "</tr>\n",
    "<tr>\n",
    "<td>1</td><td>0</td><td>2.000000</td>\n",
    "</tr>\n",
    "<tr>\n",
    "<td>2</td><td>$-\\sqrt{\\frac{1}{3}}=-0.577350$</td><td>1.000000</td>\n",
    "</tr>\n",
    "<tr>\n",
    "<td></td><td>$+\\sqrt{\\frac{1}{3}}=+0.577350$</td><td>1.000000</td>\n",
    "</tr>\n",
    "<tr>\n",
    "<td>3</td><td>$-\\sqrt{\\frac{3}{5}}=-0.774597$</td><td>$\\frac{5}{9}=0.555556$</td>\n",
    "</tr>\n",
    "<tr>\n",
    "<td></td><td>$0$</td><td>$\\frac{8}{9}=0.888889$</td>\n",
    "</tr>\n",
    "<tr>\n",
    "<td></td><td>$+\\sqrt{\\frac{3}{5}}=+0.774597$</td><td>$\\frac{5}{9}=0.555555$</td>\n",
    "</tr>\n",
    "</table>\n",
    "\n",
    "If the limits of integration are $a$ to $b$ instead of $-1$ to $1$, we can transform the formulation assuming $x = c_1 t + c_2$, with $x=a$ at $t=-1$ and $x=b$ at $t=+1$, resulting in $c_1 = \\frac{b-a}{2}$ and $c_2 = \\frac{b+a}{2}$. This leads to\n",
    "\n",
    "\\begin{align*}\n",
    "x &= \\frac{b-a}{2} \\, t + \\frac{b+a}{2} \\\\\n",
    "dx &= \\frac{b-a}{2} \\, dt\n",
    "\\end{align*}"
   ]
  },
  {
   "cell_type": "markdown",
   "metadata": {},
   "source": [
    "Let us consider the numerical integration of the following function\n",
    "\\begin{align*}\n",
    "f(x) = e^{-5t} \\, \\sin(\\frac {4 \\pi }{t})\n",
    "\\end{align*}"
   ]
  },
  {
   "cell_type": "code",
   "execution_count": 53,
   "metadata": {
    "collapsed": false
   },
   "outputs": [
    {
     "data": {
      "image/png": "[encoded data removed]",
      "text/plain": [
       "<matplotlib.figure.Figure at 0xc3ab6d8>"
      ]
     },
     "metadata": {},
     "output_type": "display_data"
    }
   ],
   "source": [
    "import matplotlib.pyplot as plt\n",
    "%matplotlib inline\n",
    "\n",
    "t = np.arange(0.0, 1.01, 0.01)\n",
    "s = np.sin(2*2*np.pi*t)\n",
    "\n",
    "plt.fill(t, s*np.exp(-5*t), 'r')\n",
    "plt.grid(True)\n",
    "plt.show()"
   ]
  },
  {
   "cell_type": "code",
   "execution_count": 55,
   "metadata": {
    "collapsed": false
   },
   "outputs": [
    {
     "data": {
      "image/png": "[encoded data removed]",
      "text/plain": [
       "<matplotlib.figure.Figure at 0xc44e278>"
      ]
     },
     "metadata": {},
     "output_type": "display_data"
    }
   ],
   "source": [
    "def f(x):\n",
    "    return 120.0*(x+0.5)*(x+0.25)*x*(x-1.0/3.0)*(x-0.2)*(x-1.0)\n",
    "\n",
    "x = np.linspace(-0.5, 0.5, 101)\n",
    "y = f(x)\n",
    "plt.plot(x, y)\n",
    "plt.grid()\n",
    "plt.show()"
   ]
  },
  {
   "cell_type": "code",
   "execution_count": 31,
   "metadata": {
    "collapsed": false
   },
   "outputs": [
    {
     "name": "stdout",
     "output_type": "stream",
     "text": [
      "[ 5. -1.  3.]\n",
      "7.0\n",
      "15.0\n",
      "[ 19.   9.   5.   7.  15.]\n"
     ]
    }
   ],
   "source": [
    "def horner(a, x):\n",
    "    n = len(a)\n",
    "    p = a[-1]\n",
    "    for k in range(n-2, -1, -1):\n",
    "        p = a[k] + p * x\n",
    "    return p\n",
    "\n",
    "a = np.array([5.0, -1.0, 3.0], dtype=float)\n",
    "x = np.array([-2, -1, 0, 1, 2], dtype=float)\n",
    "print(a)\n",
    "print(horner(a, 1.0))\n",
    "print(horner(a, 2.0))\n",
    "print(horner(a, x))"
   ]
  },
  {
   "cell_type": "code",
   "execution_count": 32,
   "metadata": {
    "collapsed": false
   },
   "outputs": [
    {
     "data": {
      "image/png": "[encoded data removed]",
      "text/plain": [
       "<matplotlib.figure.Figure at 0x15476860>"
      ]
     },
     "metadata": {},
     "output_type": "display_data"
    }
   ],
   "source": [
    "def f(x):\n",
    "    return 0.2+25*x-200*x**2+675*x**3-900*x**4+400.0*x**5\n",
    "\n",
    "x = np.linspace(0, 0.8, 201)\n",
    "y = f(x)\n",
    "plt.plot(x, y)\n",
    "plt.grid()\n",
    "xx = np.linspace(0, 0.8, 5)\n",
    "yy = f(xx)\n",
    "plt.plot(xx, yy, 'b')\n",
    "plt.fill(xx, yy, 'c')\n",
    "plt.stem(xx, yy, 'b')\n",
    "plt.show()"
   ]
  },
  {
   "cell_type": "code",
   "execution_count": 33,
   "metadata": {
    "collapsed": false
   },
   "outputs": [
    {
     "data": {
      "image/png": "[encoded data removed]",
      "text/plain": [
       "<matplotlib.figure.Figure at 0x1547f470>"
      ]
     },
     "metadata": {},
     "output_type": "display_data"
    },
    {
     "name": "stdout",
     "output_type": "stream",
     "text": [
      "0.746210796132\n",
      "0.746824948254\n"
     ]
    }
   ],
   "source": [
    "def f(x):\n",
    "    return np.exp(-x**2)\n",
    "\n",
    "x = np.linspace(0, 1, 11)\n",
    "y = f(x)\n",
    "plt.plot(x, y)\n",
    "plt.grid()\n",
    "plt.show()\n",
    "print(trap1(x, y))\n",
    "print(simp1(x, y))"
   ]
  },
  {
   "cell_type": "code",
   "execution_count": 34,
   "metadata": {
    "collapsed": false
   },
   "outputs": [
    {
     "name": "stdout",
     "output_type": "stream",
     "text": [
      "Correct answer = 0.746824132812\n",
      "n = 1 I = 0.778800783071\n",
      "n = 2 I = 0.746594688283\n",
      "n = 3 I = 0.746814584191\n",
      "n = 4 I = 0.746824468131\n",
      "n = 5 I = 0.746824126766\n"
     ]
    }
   ],
   "source": [
    "def gauss_legendre(f, a, b, n=2, debug=False):\n",
    "    if n == 1:\n",
    "        t = np.array([0.0])\n",
    "        A = np.array([2.0])\n",
    "    elif n == 2:\n",
    "        t1 = np.sqrt(1.0/3.0)\n",
    "        t = np.array([-t1, t1])\n",
    "        A = np.array([1.0, 1.0])\n",
    "    elif n == 3:\n",
    "        t1 = np.sqrt(3.0/5.0)\n",
    "        A1 = 5.0 / 9.0\n",
    "        A2 = 8.0 / 9.0\n",
    "        t = np.array([-t1, 0.0, t1])\n",
    "        A = np.array([A1, A2, A1])\n",
    "    elif n == 4:\n",
    "        t1 = np.sqrt(3.0/7 - 2.0/7*np.sqrt(6.0/5))\n",
    "        t2 = np.sqrt(3.0/7 + 2.0/7*np.sqrt(6.0/5))\n",
    "        A1 = (18.0 + np.sqrt(30.0)) / 36.0\n",
    "        A2 = (18.0 - np.sqrt(30.0)) / 36.0\n",
    "        t = np.array([-t2, -t1, t1, t2])\n",
    "        A = np.array([A2, A1, A1, A2])\n",
    "    else:\n",
    "        t1 = (np.sqrt(5.0 - 2.0 * np.sqrt(10.0/7))) / 3.0\n",
    "        t2 = (np.sqrt(5.0 + 2.0 * np.sqrt(10.0/7))) / 3.0\n",
    "        A1 = (322.0 + 13 * np.sqrt(70.0)) / 900.0\n",
    "        A2 = (322.0 - 13 * np.sqrt(70.0)) / 900.0\n",
    "        A3 = 128.0 / 225.0\n",
    "        t = np.array([-t2, -t1, 0.0, t1, t2])\n",
    "        A = np.array([A2, A1, A3, A1, A2])\n",
    "\n",
    "    c1 = (b - a) / 2.0\n",
    "    c2 = (b + a) / 2.0\n",
    "    x = c1 * t + c2\n",
    "    y = f(x)\n",
    "\n",
    "    if debug:\n",
    "        for tt, xx, yy, AA in zip(t, x, y, A):\n",
    "            print(\"%12.6f %12.6f %12.6f %12.6f %12.6f\" % (tt, xx, yy, AA, AA*yy))\n",
    "\n",
    "    return c1 * sum(y*A)\n",
    "\n",
    "from scipy.special import erf\n",
    "\n",
    "print('Correct answer =', np.sqrt(np.pi) * erf(1.0) / 2.0)\n",
    "\n",
    "for n in [1, 2, 3, 4, 5]:\n",
    "    I = gauss_legendre(f, 0, 1, n)\n",
    "    print('n =', n, 'I =', I)"
   ]
  },
  {
   "cell_type": "code",
   "execution_count": 35,
   "metadata": {
    "collapsed": false
   },
   "outputs": [
    {
     "name": "stdout",
     "output_type": "stream",
     "text": [
      "Exact I = 1.41815\n",
      "n = 2 I = 1.45031180528\n",
      "n = 3 I = 1.41618742467\n",
      "n = 4 I = 1.4182150179\n",
      "n = 5 I = 1.4181502678\n"
     ]
    }
   ],
   "source": [
    "def f(x):\n",
    "    return (np.sin(x) / x)**2\n",
    "\n",
    "print('Exact I =', 1.41815)\n",
    "for n in [2, 3, 4, 5]:\n",
    "    print('n =', n, 'I =', gauss_legendre(f, 0, np.pi, n))"
   ]
  },
  {
   "cell_type": "code",
   "execution_count": 36,
   "metadata": {
    "collapsed": false
   },
   "outputs": [
    {
     "name": "stdout",
     "output_type": "stream",
     "text": [
      "n = 2 I = 0.606725022862\n",
      "n = 3 I = 0.581686953277\n",
      "n = 4 I = 0.584768036213\n",
      "n = 5 I = 0.58500930387\n"
     ]
    }
   ],
   "source": [
    "def f(x):\n",
    "    return np.log(x) / (x**2 - 2.0*x + 2.0)\n",
    "\n",
    "for n in [2, 3, 4, 5]:\n",
    "    print('n =', n, 'I =', gauss_legendre(f, 1, np.pi, n))"
   ]
  },
  {
   "cell_type": "code",
   "execution_count": 37,
   "metadata": {
    "collapsed": false
   },
   "outputs": [
    {
     "name": "stdout",
     "output_type": "stream",
     "text": [
      "n = 2 I = 0.481728993916\n",
      "n = 3 I = 0.626557170805\n",
      "n = 4 I = 0.634859692783\n",
      "n = 5 I = 0.638388665011\n"
     ]
    }
   ],
   "source": [
    "def f(x):\n",
    "    return np.sin(x) * np.log(x)\n",
    "\n",
    "for n in [2, 3, 4, 5]:\n",
    "    print('n =', n, 'I =', gauss_legendre(f, 0, np.pi, n))"
   ]
  },
  {
   "cell_type": "code",
   "execution_count": null,
   "metadata": {
    "collapsed": false
   },
   "outputs": [],
   "source": []
  }
 ],
 "metadata": {
  "kernelspec": {
   "display_name": "Python 2",
   "language": "python",
   "name": "python2"
  },
  "language_info": {
   "codemirror_mode": {
    "name": "ipython",
    "version": 2
   },
   "file_extension": ".py",
   "mimetype": "text/x-python",
   "name": "python",
   "nbconvert_exporter": "python",
   "pygments_lexer": "ipython2",
   "version": "2.7.9"
  }
 },
 "nbformat": 4,
 "nbformat_minor": 0
}
