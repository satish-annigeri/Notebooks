{
 "cells": [
  {
   "cell_type": "markdown",
   "metadata": {},
   "source": [
    "#Numpy\n",
    "## Introduction to some important routines"
   ]
  },
  {
   "cell_type": "code",
   "execution_count": 45,
   "metadata": {
    "collapsed": false
   },
   "outputs": [
    {
     "name": "stdout",
     "output_type": "stream",
     "text": [
      "[ 5.  7.  9.]\n"
     ]
    }
   ],
   "source": [
    "from __future__ import division, print_function\n",
    "import numpy as np\n",
    "x = np.array([1, 2, 3], dtype = float)\n",
    "y = np.array([4, 5, 6], dtype = float)\n",
    "print (x + y)"
   ]
  },
  {
   "cell_type": "code",
   "execution_count": 46,
   "metadata": {
    "collapsed": false
   },
   "outputs": [
    {
     "name": "stdout",
     "output_type": "stream",
     "text": [
      "[-3. -3. -3.]\n",
      "[  4.  10.  18.]\n",
      "[ 0.25  0.4   0.5 ]\n",
      "[   1.   32.  729.]\n"
     ]
    }
   ],
   "source": [
    "print (x - y); print (x * y); print (x/y); print (x**y)"
   ]
  },
  {
   "cell_type": "code",
   "execution_count": 47,
   "metadata": {
    "collapsed": false
   },
   "outputs": [
    {
     "name": "stdout",
     "output_type": "stream",
     "text": [
      "[[ 1.  2.]\n",
      " [ 3.  4.]] \n",
      " [[ 5.  6.]\n",
      " [ 7.  8.]] \n",
      " [[  5.  12.]\n",
      " [ 21.  32.]] \n",
      "\n"
     ]
    }
   ],
   "source": [
    "a = np.array([[1, 2], [3, 4]], dtype = float)\n",
    "b = np.array([[5, 6], [7, 8]], dtype = float)\n",
    "c = a*b\n",
    "print (a,'\\n', b,'\\n', c,'\\n')"
   ]
  },
  {
   "cell_type": "code",
   "execution_count": 48,
   "metadata": {
    "collapsed": false
   },
   "outputs": [
    {
     "name": "stdout",
     "output_type": "stream",
     "text": [
      "[[ 11.  22.]\n",
      " [ 13.  24.]\n",
      " [ 15.  26.]]\n"
     ]
    }
   ],
   "source": [
    "a = np.array([[1, 2], [3, 4], [5, 6]], dtype = float)\n",
    "b = np.array([10, 20], dtype = float)\n",
    "print (a+b)"
   ]
  },
  {
   "cell_type": "markdown",
   "metadata": {},
   "source": [
    "* Here, the one-dimensional array `b` was broadcasted to a two-dimensional array that matched the size of `a`.\n",
    "* In essence, `b` was repeated for each item in `a`, as if it were given by\n",
    "**array ([[10, 20], [10, 20], [10, 20]])**"
   ]
  },
  {
   "cell_type": "code",
   "execution_count": 49,
   "metadata": {
    "collapsed": false
   },
   "outputs": [
    {
     "name": "stdout",
     "output_type": "stream",
     "text": [
      "[[ 1.          1.41421356]\n",
      " [ 1.73205081  2.        ]] \n",
      " [[ 2.23606798  2.44948974]\n",
      " [ 2.64575131  2.82842712]]\n"
     ]
    }
   ],
   "source": [
    "a = np.array([[1, 2], [3, 4]], dtype = float)\n",
    "b = np.array([[5, 6], [7, 8]], dtype = float)\n",
    "print (np.sqrt(a),'\\n', np.sqrt(b))"
   ]
  },
  {
   "cell_type": "code",
   "execution_count": 50,
   "metadata": {
    "collapsed": false
   },
   "outputs": [
    {
     "name": "stdout",
     "output_type": "stream",
     "text": [
      "[ 1.  3.  5.] \n",
      " [ 2.  4.  6.] \n",
      " [ 1.  4.  6.]\n"
     ]
    }
   ],
   "source": [
    "c = np.array([1.2, 3.6, 5.8 ], dtype = float)\n",
    "print (np.floor(c),'\\n', np.ceil(c),'\\n', np.rint(c))"
   ]
  },
  {
   "cell_type": "code",
   "execution_count": 51,
   "metadata": {
    "collapsed": false
   },
   "outputs": [
    {
     "name": "stdout",
     "output_type": "stream",
     "text": [
      "7.5 \n",
      " 7.5 \n",
      " 13.26 \n",
      " 13.26\n"
     ]
    }
   ],
   "source": [
    "a = np.array([1.5, 2.6, 3.4], dtype = float)\n",
    "print (a.sum(),'\\n', np.sum(a),'\\n', a.prod(),'\\n', np.prod(a))"
   ]
  },
  {
   "cell_type": "code",
   "execution_count": 52,
   "metadata": {
    "collapsed": false
   },
   "outputs": [
    {
     "name": "stdout",
     "output_type": "stream",
     "text": [
      "0.419613597797 \n",
      " 0.101810507895 \n",
      " 0.319077589146 \n",
      " 0.0112322232899 \n",
      " 0.915993677002 \n",
      " 3 \n",
      " 2\n"
     ]
    }
   ],
   "source": [
    "a = np.random.rand(10)\n",
    "print (np.mean(a),'\\n', np.var(a),'\\n', np.std(a),'\\n', a.min(),'\\n', a.max(),'\\n', a.argmin(),'\\n', a.argmax())"
   ]
  },
  {
   "cell_type": "code",
   "execution_count": 53,
   "metadata": {
    "collapsed": false
   },
   "outputs": [
    {
     "name": "stdout",
     "output_type": "stream",
     "text": [
      "[ 0.01123222  0.02982997  0.1619095   0.17568617  0.21388942  0.53165402\n",
      "  0.67806328  0.7116964   0.76618132  0.91599368]\n"
     ]
    }
   ],
   "source": [
    "print (np.sort(a))"
   ]
  },
  {
   "cell_type": "code",
   "execution_count": 54,
   "metadata": {
    "collapsed": false
   },
   "outputs": [
    {
     "name": "stdout",
     "output_type": "stream",
     "text": [
      "[False  True False] \n",
      " [ True False False]\n"
     ]
    }
   ],
   "source": [
    "a = np.array([2.5, np.NaN, np.Inf], dtype = float)\n",
    "print (np.isnan(a),'\\n', np.isfinite(a))"
   ]
  },
  {
   "cell_type": "markdown",
   "metadata": {},
   "source": [
    "##Vector and Matrix operations"
   ]
  },
  {
   "cell_type": "code",
   "execution_count": 55,
   "metadata": {
    "collapsed": false
   },
   "outputs": [
    {
     "name": "stdout",
     "output_type": "stream",
     "text": [
      "32.0\n"
     ]
    }
   ],
   "source": [
    "a = np.array([1, 2, 3], dtype = float); b = np.array([4, 5, 6], dtype = float)\n",
    "print (np.dot(a, b))"
   ]
  },
  {
   "cell_type": "code",
   "execution_count": 56,
   "metadata": {
    "collapsed": false
   },
   "outputs": [
    {
     "name": "stdout",
     "output_type": "stream",
     "text": [
      "[[ 1.  2.]\n",
      " [ 4.  5.]] \n",
      " [ 7.  8.] \n",
      " [ 23.  68.] \n",
      " [ 39.  54.]\n"
     ]
    }
   ],
   "source": [
    "a = np.array([[1, 2], [4, 5]], dtype = float)\n",
    "b = np.array([7, 8], dtype = float)\n",
    "print (a,'\\n', b,'\\n', np.dot(a, b),'\\n', np.dot(b, a))"
   ]
  },
  {
   "cell_type": "code",
   "execution_count": 57,
   "metadata": {
    "collapsed": false
   },
   "outputs": [
    {
     "data": {
      "text/plain": [
       "array([[ 2.,  2.,  1.],\n",
       "       [ 8.,  8.,  4.],\n",
       "       [ 0.,  0.,  0.]])"
      ]
     },
     "execution_count": 57,
     "metadata": {},
     "output_type": "execute_result"
    }
   ],
   "source": [
    "a = np.array([1, 4, 0], dtype = float)\n",
    "b = np.array([2, 2, 1], dtype = float)\n",
    "np.outer(a, b)"
   ]
  },
  {
   "cell_type": "code",
   "execution_count": 58,
   "metadata": {
    "collapsed": false
   },
   "outputs": [
    {
     "data": {
      "text/plain": [
       "10.0"
      ]
     },
     "execution_count": 58,
     "metadata": {},
     "output_type": "execute_result"
    }
   ],
   "source": [
    "np.inner(a, b)"
   ]
  },
  {
   "cell_type": "code",
   "execution_count": 59,
   "metadata": {
    "collapsed": false
   },
   "outputs": [
    {
     "data": {
      "text/plain": [
       "array([ 4., -1., -6.])"
      ]
     },
     "execution_count": 59,
     "metadata": {},
     "output_type": "execute_result"
    }
   ],
   "source": [
    "np.cross(a, b)"
   ]
  },
  {
   "cell_type": "code",
   "execution_count": 61,
   "metadata": {
    "collapsed": false
   },
   "outputs": [
    {
     "data": {
      "text/plain": [
       "-48.000000000000028"
      ]
     },
     "execution_count": 61,
     "metadata": {},
     "output_type": "execute_result"
    }
   ],
   "source": [
    "a = np.array([[4, 2, 0], [9, 3, 7], [1, 2, 1]], dtype = float)\n",
    "np.linalg.det(a)"
   ]
  },
  {
   "cell_type": "code",
   "execution_count": 62,
   "metadata": {
    "collapsed": false
   },
   "outputs": [
    {
     "name": "stdout",
     "output_type": "stream",
     "text": [
      "[ 8.85591316  1.9391628  -2.79507597] \n",
      " [[-0.3663565  -0.54736745  0.25928158]\n",
      " [-0.88949768  0.5640176  -0.88091903]\n",
      " [-0.27308752  0.61828231  0.39592263]]\n"
     ]
    }
   ],
   "source": [
    "vals, vecs = np.linalg.eig(a)\n",
    "print (vals, '\\n', vecs)"
   ]
  },
  {
   "cell_type": "code",
   "execution_count": 63,
   "metadata": {
    "collapsed": false
   },
   "outputs": [
    {
     "name": "stdout",
     "output_type": "stream",
     "text": [
      "[[ 0.22916667  0.04166667 -0.29166667]\n",
      " [ 0.04166667 -0.08333333  0.58333333]\n",
      " [-0.3125      0.125       0.125     ]] \n",
      " [[  1.00000000e+00   5.55111512e-17   0.00000000e+00]\n",
      " [  0.00000000e+00   1.00000000e+00   2.22044605e-16]\n",
      " [  0.00000000e+00   1.38777878e-17   1.00000000e+00]]\n"
     ]
    }
   ],
   "source": [
    "b = np.linalg.inv(a)\n",
    "print(b, '\\n', np.dot(a, b))"
   ]
  },
  {
   "cell_type": "code",
   "execution_count": 68,
   "metadata": {
    "collapsed": false
   },
   "outputs": [
    {
     "name": "stdout",
     "output_type": "stream",
     "text": [
      "[[-0.6113829  -0.79133492]\n",
      " [-0.79133492  0.6113829 ]] \n",
      " [ 7.46791327  2.86884495] \n",
      " [[-0.61169129 -0.45753324 -0.64536587]\n",
      " [ 0.78971838 -0.40129005 -0.46401635]\n",
      " [-0.046676   -0.79349205  0.60678804]] \n",
      " [[  1.00000000e+00   1.11022302e-16]\n",
      " [  1.11022302e-16   1.00000000e+00]]\n"
     ]
    }
   ],
   "source": [
    "a = np.array([[1, 3, 4], [5, 2, 3]], dtype = float)\n",
    "U, s, V = np.linalg.svd(a)\n",
    "print (U, '\\n', s, '\\n', V, '\\n', np.dot(U, U.T))"
   ]
  },
  {
   "cell_type": "markdown",
   "metadata": {},
   "source": [
    "## Polynomials"
   ]
  },
  {
   "cell_type": "code",
   "execution_count": 73,
   "metadata": {
    "collapsed": false
   },
   "outputs": [
    {
     "data": {
      "text/plain": [
       "array([  1, -13,  30])"
      ]
     },
     "execution_count": 73,
     "metadata": {},
     "output_type": "execute_result"
    }
   ],
   "source": [
    "np.poly([3, 10]) # Gives polynomial coefficients taking roots as input"
   ]
  },
  {
   "cell_type": "code",
   "execution_count": 74,
   "metadata": {
    "collapsed": false
   },
   "outputs": [
    {
     "data": {
      "text/plain": [
       "array([ 10.,   3.])"
      ]
     },
     "execution_count": 74,
     "metadata": {},
     "output_type": "execute_result"
    }
   ],
   "source": [
    "np.roots([1, -13, 30]) # Gives polynomial roots taking coefficients as input"
   ]
  },
  {
   "cell_type": "code",
   "execution_count": 75,
   "metadata": {
    "collapsed": false
   },
   "outputs": [
    {
     "data": {
      "text/plain": [
       "array([ 0.25      ,  0.33333333,  0.5       ,  1.        ,  0.        ])"
      ]
     },
     "execution_count": 75,
     "metadata": {},
     "output_type": "execute_result"
    }
   ],
   "source": [
    "np.polyint([1, 1, 1, 1]) # Integrates the coefficients of polynomial"
   ]
  },
  {
   "cell_type": "code",
   "execution_count": 77,
   "metadata": {
    "collapsed": false
   },
   "outputs": [
    {
     "data": {
      "text/plain": [
       "array([ 1.     ,  0.99999,  1.     ,  1.     ])"
      ]
     },
     "execution_count": 77,
     "metadata": {},
     "output_type": "execute_result"
    }
   ],
   "source": [
    "np.polyder([0.25, 0.33333, 0.5, 1, 0])"
   ]
  },
  {
   "cell_type": "code",
   "execution_count": 78,
   "metadata": {
    "collapsed": false
   },
   "outputs": [
    {
     "data": {
      "text/plain": [
       "34"
      ]
     },
     "execution_count": 78,
     "metadata": {},
     "output_type": "execute_result"
    }
   ],
   "source": [
    "np.polyval([1, -2, 0, 2], 4) # Evaluates a polynomial @ x = 4, taking coefficients as input"
   ]
  },
  {
   "cell_type": "code",
   "execution_count": 80,
   "metadata": {
    "collapsed": false
   },
   "outputs": [
    {
     "data": {
      "text/plain": [
       "array([ 0.03282828, -0.06818182,  0.8037518 , -0.57142857])"
      ]
     },
     "execution_count": 80,
     "metadata": {},
     "output_type": "execute_result"
    }
   ],
   "source": [
    "x = [1, 2, 3, 4, 5, 6, 7, 8]; y = [0, 2, 1, 3, 7, 10, 11, 19];# used to fit a polynomial of specified order to a set of data\n",
    "                                                              # using a least-squares approach\n",
    "np.polyfit(x, y, 3)"
   ]
  }
 ],
 "metadata": {
  "kernelspec": {
   "display_name": "Python 2",
   "language": "python",
   "name": "python2"
  },
  "language_info": {
   "codemirror_mode": {
    "name": "ipython",
    "version": 2
   },
   "file_extension": ".py",
   "mimetype": "text/x-python",
   "name": "python",
   "nbconvert_exporter": "python",
   "pygments_lexer": "ipython2",
   "version": "2.7.10"
  }
 },
 "nbformat": 4,
 "nbformat_minor": 0
}
