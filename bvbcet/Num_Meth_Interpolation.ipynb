{
 "cells": [
  {
   "cell_type": "markdown",
   "metadata": {},
   "source": [
    "# Interpolation and Curve Fitting"
   ]
  },
  {
   "cell_type": "markdown",
   "metadata": {},
   "source": [
    "## Lagrange Polynomial Interpolation"
   ]
  },
  {
   "cell_type": "markdown",
   "metadata": {},
   "source": [
    "## Newton Polynomial Interpolation"
   ]
  },
  {
   "cell_type": "code",
   "execution_count": 1,
   "metadata": {
    "collapsed": false
   },
   "outputs": [
    {
     "name": "stdout",
     "output_type": "stream",
     "text": [
      "1 [ -1.   1.  10.   5.   5.  26.]\n",
      "2 [-1.  1.  3. -2.  2. -5.]\n",
      "3 [-1.  1.  3.  1.  1.  1.]\n",
      "4 [-1.  1.  3.  1.  0. -0.]\n",
      "5 [-1.  1.  3.  1.  0.  0.]\n",
      "[-1.  1.  3.  1.  0.  0.]\n",
      "-1.0 [ -1.   2.  59.   4.  24. -53.]\n"
     ]
    }
   ],
   "source": [
    "from __future__ import division, print_function\n",
    "\n",
    "import numpy as np\n",
    "\n",
    "def evalPoly(a, xData, x):\n",
    "    n = len(xData) - 1 # Degree of polynomial\n",
    "    p = a[n]\n",
    "    for k in range(1, n+1):\n",
    "        p = a[n-k] + (x - xData[n-k]) * p\n",
    "    return p\n",
    "\n",
    "def NewtonCoeffs(xData, yData):\n",
    "    m = len(xData)   # Number of data points\n",
    "    a = yData.copy() # Create a deep copy of yData\n",
    "    for k in range(1, m):\n",
    "        a[k:m] = (a[k:m] - a[k-1]) / (xData[k:m] - xData[k-1])\n",
    "        print(k, a)\n",
    "    return a\n",
    "\n",
    "x = np.array([-2, 1, 4, -1, 3, -4], dtype=float)\n",
    "y = np.array([-1, 2, 59, 4, 24, -53], dtype=float)\n",
    "a = NewtonCoeffs(x, y)\n",
    "print(a)\n",
    "yy = evalPoly(a, x, x)\n",
    "print(y[0], yy)"
   ]
  },
  {
   "cell_type": "code",
   "execution_count": 6,
   "metadata": {
    "collapsed": false
   },
   "outputs": [
    {
     "name": "stdout",
     "output_type": "stream",
     "text": [
      "1 [ 4.79867    -0.14350698 -0.19145667 -0.28202979 -0.34949672 -0.42045897]\n",
      "2 [ 4.79867    -0.14350698 -0.0564114  -0.05432267 -0.0521493  -0.04901805]\n",
      "3 [  4.79867000e+00  -1.43506977e-01  -5.64113999e-02   1.22866419e-03\n",
      "   1.37487016e-03   1.54028067e-03]\n",
      "4 [  4.79867000e+00  -1.43506977e-01  -5.64113999e-02   1.22866419e-03\n",
      "   1.04432831e-04   1.00521445e-04]\n",
      "5 [  4.79867000e+00  -1.43506977e-01  -5.64113999e-02   1.22866419e-03\n",
      "   1.04432831e-04  -2.30081528e-06]\n",
      "[  4.79867000e+00  -1.43506977e-01  -5.64113999e-02   1.22866419e-03\n",
      "   1.04432831e-04  -2.30081528e-06]\n",
      "        0.150000         4.798670         4.798670\n",
      "        2.300000         4.490130         4.490130\n",
      "        3.150000         4.224300         4.224300\n",
      "        4.850000         3.473130         3.473130\n",
      "        6.250000         2.666740         2.666740\n",
      "        7.950000         1.519090         1.519090\n",
      "\n",
      "        0.000000         4.800025         4.800000     0.000523\n",
      "        0.500000         4.785178         4.785203    -0.000516\n",
      "        1.000000         4.740877         4.740904    -0.000571\n",
      "        1.500000         4.667361         4.667376    -0.000320\n",
      "        2.000000         4.565067         4.565071    -0.000097\n",
      "        2.500000         4.434621         4.434622    -0.000016\n",
      "        3.000000         4.276829         4.276831    -0.000062\n",
      "        3.500000         4.092666         4.092673    -0.000162\n",
      "        4.000000         3.883273         3.883282    -0.000232\n",
      "        4.500000         3.649941         3.649949    -0.000213\n",
      "        5.000000         3.394109         3.394113    -0.000101\n",
      "        5.500000         3.117352         3.117351     0.000052\n",
      "        6.000000         2.821373         2.821369     0.000134\n",
      "        6.500000         2.507994         2.507993     0.000019\n",
      "        7.000000         2.179147         2.179154    -0.000344\n",
      "        7.500000         1.836868         1.836880    -0.000677\n"
     ]
    }
   ],
   "source": [
    "x = np.array([0.15, 2.3, 3.15, 4.85, 6.25, 7.95], dtype=float)\n",
    "y = np.array([4.79867, 4.49013, 4.22430, 3.47313, 2.66674, 1.51909], dtype=float)\n",
    "a = NewtonCoeffs(x, y)\n",
    "print(a)\n",
    "yy = evalPoly(a, x, x)\n",
    "for xx, y1, y2 in zip(x, y, yy):\n",
    "    print(\"%16.6f %16.6f %16.6f\" % (xx, y1, y2))\n",
    "xx = np.arange(0.0, 8.0, 0.5)\n",
    "yy = evalPoly(a, x, xx)\n",
    "print()\n",
    "for x1, y1 in zip(xx, yy):\n",
    "    y2 = 4.8*np.cos(np.pi*x1/20.0)\n",
    "    print(\"%16.6f %16.6f %16.6f %12.6f\" % (x1, y1, y2, (y1-y2)/(y2)*100))"
   ]
  },
  {
   "cell_type": "markdown",
   "metadata": {},
   "source": [
    "## Neville's Method"
   ]
  },
  {
   "cell_type": "code",
   "execution_count": 7,
   "metadata": {
    "collapsed": false
   },
   "outputs": [
    {
     "name": "stdout",
     "output_type": "stream",
     "text": [
      "3.83170355972 0.0\n",
      "3.831704 1.79398720859e-06\n"
     ]
    }
   ],
   "source": [
    "def neville(xData, yData, x):\n",
    "    m = len(xData)    # Number of data points\n",
    "    y = yData.copy()  # Deep copy of yData\n",
    "    for k in range(1, m):\n",
    "        y[0:m-k] = ( (x - xData[k:m]) * y[0:m-k] + (xData[0:m-k] - x) * y[1:m-k+1] ) / (xData[0:m-k] - xData[k:m])\n",
    "    return y[0]\n",
    "\n",
    "xData = np.array([4.0, 3.9, 3.8, 3.7])\n",
    "yData = np.array([-0.06604, -0.02724, 0.01282, 0.05383])\n",
    "\n",
    "y = 0.0\n",
    "x = neville(yData, xData, y)\n",
    "print(x, y)\n",
    "\n",
    "x = 3.831704\n",
    "y = neville(xData, yData, x)\n",
    "print(x, y)"
   ]
  },
  {
   "cell_type": "code",
   "execution_count": 5,
   "metadata": {
    "collapsed": false
   },
   "outputs": [],
   "source": []
  }
 ],
 "metadata": {
  "kernelspec": {
   "display_name": "Python 2",
   "language": "python",
   "name": "python2"
  },
  "language_info": {
   "codemirror_mode": {
    "name": "ipython",
    "version": 2
   },
   "file_extension": ".py",
   "mimetype": "text/x-python",
   "name": "python",
   "nbconvert_exporter": "python",
   "pygments_lexer": "ipython2",
   "version": "2.7.9"
  }
 },
 "nbformat": 4,
 "nbformat_minor": 0
}
