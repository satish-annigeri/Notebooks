{
 "cells": [
  {
   "cell_type": "code",
   "execution_count": 2,
   "metadata": {
    "collapsed": false
   },
   "outputs": [
    {
     "name": "stdout",
     "output_type": "stream",
     "text": [
      "Rectangular Isolated Footing\n",
      "Size 1.50 x 1.50\n"
     ]
    }
   ],
   "source": [
    "from __future__ import print_function, division\n",
    "\n",
    "class RectFooting(object):\n",
    "    def __init__(self, Lx, Ly, Cx, Cy, D, P, density=25.0):\n",
    "        self.Lx = Lx; self.Ly = Ly\n",
    "        self.Cx = Cx; self.Cy = Cy\n",
    "        self.D = D\n",
    "        self.P = P\n",
    "        self.density = density\n",
    "        return\n",
    "\n",
    "    def __str__(self):\n",
    "        s = \"Rectangular Isolated Footing\\n\"\n",
    "        s += \"Size %.2f x %.2f\" % (self.Lx, self.Ly)\n",
    "        return s\n",
    "\n",
    "    def Weight(self):\n",
    "        return self.Lx * self.Ly * self.D * self.density\n",
    "\n",
    "F = RectFooting(1.5, 1.5, 0.2, 0.6, 0.75, 1200.0)\n",
    "print(F)"
   ]
  },
  {
   "cell_type": "code",
   "execution_count": null,
   "metadata": {
    "collapsed": true
   },
   "outputs": [],
   "source": []
  }
 ],
 "metadata": {
  "kernelspec": {
   "display_name": "Python 2",
   "language": "python",
   "name": "python2"
  },
  "language_info": {
   "codemirror_mode": {
    "name": "ipython",
    "version": 2
   },
   "file_extension": ".py",
   "mimetype": "text/x-python",
   "name": "python",
   "nbconvert_exporter": "python",
   "pygments_lexer": "ipython2",
   "version": "2.7.9"
  }
 },
 "nbformat": 4,
 "nbformat_minor": 0
}
