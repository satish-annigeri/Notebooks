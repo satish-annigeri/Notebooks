{
 "cells": [
  {
   "cell_type": "markdown",
   "metadata": {},
   "source": [
    "# Problems for Computing Laboratory Using Python"
   ]
  },
  {
   "cell_type": "markdown",
   "metadata": {},
   "source": [
    "## Problem statement 1\n",
    "Determine the rms value of the current given by\n",
    "\n",
    "\\begin{align}\n",
    "i(t) & = 5 \\exp^{-1.25t}\\sin(2 \\pi t) \\quad 0 \\leq t \\leq T/2 \\\\\n",
    "i(t) & = 0 \\quad T/2 \\leq t \\leq T \n",
    "\\end{align}"
   ]
  },
  {
   "cell_type": "markdown",
   "metadata": {},
   "source": [
    "Root Mean Square value of the current is defined as:\n",
    "$$\\sqrt{\\frac{1}{T}\\int_0^T i^2 dt}$$"
   ]
  },
  {
   "cell_type": "markdown",
   "metadata": {},
   "source": [
    "For the above said case it is given by\n",
    "$$\\sqrt{\\frac{1}{T}\\int_0^{T/2} i^2 dt}$$"
   ]
  },
  {
   "cell_type": "markdown",
   "metadata": {},
   "source": [
    "For Simpson's $\\frac{1}{3}$ rule,\n",
    "\n",
    "$$ I = (b-a) \\frac{f(x_0) + 4 \\sum_{i=1,3,5..}^{n-1} f(x_i) + 2 \\sum_{j=2,4,6..}^{n-2}f(x_j) + f(x_n)}{3n}$$"
   ]
  },
  {
   "cell_type": "markdown",
   "metadata": {},
   "source": [
    "As an example, let us find the definite integral of the following function: $f(x) = 0.2+25x-200x^2+675x^3-900x^4+400x^5$ from 0 to 0.8"
   ]
  },
  {
   "cell_type": "code",
   "execution_count": 16,
   "metadata": {
    "collapsed": false
   },
   "outputs": [
    {
     "name": "stdout",
     "output_type": "stream",
     "text": [
      "1.64052016461\n",
      "1.64052016461\n"
     ]
    }
   ],
   "source": [
    "from __future__ import division, print_function\n",
    "\n",
    "import numpy as np\n",
    "import scipy.integrate as sp\n",
    "\n",
    "lo_limit = 0.0; up_limit = 0.8; n = 25; total = 0.0; z1 = 0.0; z2 = 0.0;\n",
    "#\n",
    "a = np.linspace(lo_limit, up_limit, n)\n",
    "y = lambda x: 0.2 + (25 * x) - (200 * x**2) + (675 * x**3) - (900 * x**4) + (400 * x**5)\n",
    "#a = np.linspace(0, 2*np.pi, n)\n",
    "#y = lambda x: np.sin(x)\n",
    "#y = lambda x: np.exp(-1.5*x)*sin(2*np.pi*x) ** 2\n",
    "b = y(a)\n",
    "for i in range(1, n, 2):\n",
    "    z1 = z1 + 4 * b[i]\n",
    "for i in range(2, n-1, 2):\n",
    "    z2 = z2 + 2 * b[i]\n",
    "total = b[0] + b[n-1] + z1 + z2\n",
    "int_value = ((up_limit-lo_limit))*total/(3*(n-1))\n",
    "print (int_value)\n",
    "#Using Scipy.integrate module\n",
    "int_value1 = sp.simps(b, a)\n",
    "print(int_value1)"
   ]
  },
  {
   "cell_type": "markdown",
   "metadata": {},
   "source": [
    "#Solution of Single order differential equation"
   ]
  },
  {
   "cell_type": "markdown",
   "metadata": {},
   "source": [
    "### Problem statement 2\n",
    "For a simple RL circuit, Kirchoff’s voltage law requires that"
   ]
  },
  {
   "cell_type": "markdown",
   "metadata": {},
   "source": [
    "$$V = iR+L\\frac{di}{dt}$$ with R = 1.5 $\\Omega$, $L=1 H$, and $V=100$"
   ]
  },
  {
   "cell_type": "markdown",
   "metadata": {},
   "source": [
    "$$\\frac{di}{dt} = (100-iR)\\frac{1}{L}$$"
   ]
  },
  {
   "cell_type": "markdown",
   "metadata": {},
   "source": [
    "## Using Implicit Euler's Method"
   ]
  },
  {
   "cell_type": "markdown",
   "metadata": {},
   "source": [
    "\n",
    "\n",
    "\\begin{align}\n",
    "i_{n+1} &= i_n+\\frac{di_{n+1}}{dt} h \\\\\n",
    "i_{n+1} &= i_n+\\left(100-i_{n+1}R \\right)\\frac{h}{L} \\\\\n",
    "i_{n+1}\\left(1+\\frac{R}{L}h\\right) &= i_n+\\frac{100 h}{L} \\\\\n",
    "i_{n+1} &= \\frac{i_n+\\frac{100 h}{L}}{1+\\frac{R}{L}h}\n",
    "\\end{align}"
   ]
  },
  {
   "cell_type": "code",
   "execution_count": 17,
   "metadata": {
    "collapsed": false
   },
   "outputs": [
    {
     "data": {
      "image/png": "[encoded data removed]",
      "text/plain": [
       "<matplotlib.figure.Figure at 0x7f38b4380890>"
      ]
     },
     "metadata": {},
     "output_type": "display_data"
    }
   ],
   "source": [
    "%matplotlib inline\n",
    "from __future__ import division, print_function\n",
    "#\n",
    "import numpy as np\n",
    "import matplotlib.pyplot as plt\n",
    "#\n",
    "ind = 1.0; res = 1.5; volt = 100.0; i0 = 0.5; \n",
    "ini_t = 0; final_t = 1.0; no = 51; t = ini_t\n",
    "time = np.zeros(no, dtype=float); cur = np.zeros(no, dtype=float);\n",
    "h = float((final_t-ini_t)/no)\n",
    "# \n",
    "count = np.linspace(ini_t, final_t, no)\n",
    "for i in range(len(count)):\n",
    "    time[i] = t\n",
    "    cur[i] = i0\n",
    "    i1 = (i0 + (volt/ind) * h)/(1+(res/ind)*h)\n",
    "    i0 = i1\n",
    "    t = ini_t + (i+1) * h\n",
    "#\n",
    "plt.plot (time, cur)\n",
    "plt.grid(True)\n",
    "plt.xlabel('t (s)')\n",
    "plt.ylabel('i (A)')\n",
    "plt.show()"
   ]
  },
  {
   "cell_type": "code",
   "execution_count": 1,
   "metadata": {
    "collapsed": false
   },
   "outputs": [
    {
     "name": "stderr",
     "output_type": "stream",
     "text": [
      "Vendor:  Continuum Analytics, Inc.\n",
      "Package: mkl\n",
      "Message: trial mode expires in 30 days\n"
     ]
    },
    {
     "data": {
      "image/png": "[encoded data removed]",
      "text/plain": [
       "<matplotlib.figure.Figure at 0x7f6fb6f98c90>"
      ]
     },
     "metadata": {},
     "output_type": "display_data"
    }
   ],
   "source": [
    "%matplotlib inline\n",
    "import numpy as np\n",
    "from scipy.integrate import odeint\n",
    "import matplotlib.pyplot as plt\n",
    "\n",
    "def deriv(y, t):\n",
    "    ydot = np.array(100-y[0]*1.5)\n",
    "    return ydot\n",
    "\n",
    "tstart = 0\n",
    "tend = 5.0\n",
    "numint = 1000\n",
    "t = np.linspace(tstart, tend, numint+1)\n",
    "yinit = np.array([0.5])\n",
    "y = odeint(deriv, yinit, t)\n",
    "\n",
    "plt.plot(t, y[:, 0])\n",
    "plt.grid()\n",
    "plt.xlabel('t (s)')\n",
    "plt.ylabel('i (A)')\n",
    "plt.show()"
   ]
  },
  {
   "cell_type": "code",
   "execution_count": null,
   "metadata": {
    "collapsed": true
   },
   "outputs": [],
   "source": []
  }
 ],
 "metadata": {
  "kernelspec": {
   "display_name": "Python 2",
   "language": "python",
   "name": "python2"
  },
  "language_info": {
   "codemirror_mode": {
    "name": "ipython",
    "version": 2
   },
   "file_extension": ".py",
   "mimetype": "text/x-python",
   "name": "python",
   "nbconvert_exporter": "python",
   "pygments_lexer": "ipython2",
   "version": "2.7.10"
  }
 },
 "nbformat": 4,
 "nbformat_minor": 0
}
