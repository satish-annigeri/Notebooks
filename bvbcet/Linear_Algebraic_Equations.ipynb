{
 "cells": [
  {
   "cell_type": "markdown",
   "metadata": {},
   "source": [
    "# Linear Algebraic Equations\n",
    "\n",
    "## Direct Methods\n",
    "* Gauss elimination Method\n",
    "* Gauss-Jordan Method\n",
    "* LU Decomposition Methods\n",
    "  * Dolittle LU Decomposition\n",
    "  * Crout's Method\n",
    "  * Cholesky Method\n",
    "  \n",
    "## Iterative Methods\n",
    "* Gauss-Seidel Method\n",
    "* Successuve Over-relaxation Method"
   ]
  },
  {
   "cell_type": "markdown",
   "metadata": {},
   "source": [
    "## Gauss Elimination Method\n",
    "Gauss uses a series of row operations to reduce the coefficient matrix to upper triangular form while also performing the same row operations on the right hand side vector. The equations are then solved by backward substitution.\n",
    "\n",
    "Forward elimination consists of a series of row operation. A row operation is such that it does not affect the solution. Valid row operations are:\n",
    "\n",
    "1. Interchange two rows\n",
    "2. Multiply a row with a constant\n",
    "3. Add a row multiplied with a constant to another row\n",
    "\n",
    "Forward elimination begins by choosing the pivotal row, and performing a row operation on all rows below the pivotal row. If pivotal row is $p$, then all elements $a_{ip}, i=p+1 \\text{ to } n$ are made zero using appropriate row operations, namely, $a_{ij} \\leftarrow a_{ij} - a_{pj} \\cdot \\frac{a_{ip}}{a_{pp}}; \\quad j = p, p+1, \\ldots , n; \\quad i = p+1, p+2, \\ldots, n$"
   ]
  },
  {
   "cell_type": "code",
   "execution_count": 1,
   "metadata": {
    "collapsed": false
   },
   "outputs": [
    {
     "name": "stdout",
     "output_type": "stream",
     "text": [
      "[[ 10.   3.  -2.]\n",
      " [  5.   9.  -3.]\n",
      " [ -6.   8.  10.]]\n",
      "[ 95. -10.  20.]\n",
      "[[ 10.           3.          -2.        ]\n",
      " [  0.          -7.5          2.        ]\n",
      " [  0.           0.          11.41333333]]\n",
      "[  95.           57.5         152.13333333]\n",
      "[ 13.39953271  -4.11214953  13.32943925]\n",
      "[ 13.39953271  -4.11214953  13.32943925]\n"
     ]
    }
   ],
   "source": [
    "from __future__ import division, print_function\n",
    "import numpy as np\n",
    "\n",
    "def gauss_elim(a, b):\n",
    "    '''Returns copy of coefficient matrix [a] and right hand side vector {b} after forward elimination along with\n",
    "       solution vector {x}'''\n",
    "    aa, bb = forward_elim(a, b)  # Forward elimination\n",
    "    x = back_sub(a, b)           # Back substitution\n",
    "    return aa, bb, x\n",
    "\n",
    "def forward_elim(a, b):\n",
    "    ra, ca = a.shape  # Determine size of coefficient matrix\n",
    "    rb = b.shape[0]   # Determine size of right hand side vector\n",
    "    if ra == rb:      # Check if number of rows in [a] matches number of elements in {b}\n",
    "        for p in range(ra-1):  # Choose pivotal row\n",
    "            for i in range(p+1, ra):  # Perform row operations on all rows below pivotal row\n",
    "                f = a[i, p] / a[p, p] # Calculate multiplication factor\n",
    "                a[i, p:] = f * a[p, p:] - a[i, p:]  # Row operation on row 'i' of [a]\n",
    "                b[i] = f * b[p] - b[i]              #  Row operation on element 'i' of {b}\n",
    "        return a, b\n",
    "    else:\n",
    "        print('Error')\n",
    "        return None   # Return None if number of rows in [a] does not match number of elements in {b}\n",
    "\n",
    "def back_sub(a, b):\n",
    "    x = np.zeros(b.shape, dtype=float)\n",
    "    x[-1] = b[-1] / a[-1, -1]  # Determine x_n\n",
    "    for i in range(a.shape[1]-1, -1, -1):  # Determine remaining unknowns looping backwards\n",
    "        x[i] = (b[i] - np.dot(a[i, i+1:], x[i+1:])) / a[i, i]\n",
    "    return x\n",
    "\n",
    "a = np.array([[10, 3, -2], [5, 9, -3], [-6, 8, 10]], dtype=float)\n",
    "b = np.array([95, -10, 20], dtype=float)\n",
    "print(a)\n",
    "print(b)\n",
    "aa, bb, x = gauss_elim(a, b)\n",
    "print(aa)\n",
    "print(bb)\n",
    "print(x)\n",
    "\n",
    "print(np.linalg.solve(a, b))"
   ]
  },
  {
   "cell_type": "markdown",
   "metadata": {},
   "source": [
    "### Gauss Elimination with Partial Pivoting"
   ]
  },
  {
   "cell_type": "code",
   "execution_count": 13,
   "metadata": {
    "collapsed": false
   },
   "outputs": [
    {
     "name": "stdout",
     "output_type": "stream",
     "text": [
      "[[ 10.   3.  -2.]\n",
      " [  5.   9.  -3.]\n",
      " [ -6.   8.  10.]]\n",
      "[ 95. -10.  20.]\n",
      "[[ 10.           3.          -2.        ]\n",
      " [  0.          -7.5          2.        ]\n",
      " [  0.           0.          11.41333333]]\n",
      "[  95.           57.5         152.13333333]\n",
      "[ 13.39953271  -4.11214953  13.32943925]\n",
      "[ 13.39953271  -4.11214953  13.32943925]\n",
      "\n",
      "[[  5.   9.  -3.]\n",
      " [ 10.   3.  -2.]\n",
      " [ -6.   8.  10.]]\n",
      "[-10.  95.  20.]\n",
      "Interchange 0 and 1\n",
      "[[ 10.   3.  -2.]\n",
      " [  5.   9.  -3.]\n",
      " [ -6.   8.  10.]]\n",
      "[ 95. -10.  20.]\n",
      "\n",
      "[[ 10.           3.          -2.        ]\n",
      " [  0.          -7.5          2.        ]\n",
      " [  0.           0.          11.41333333]]\n",
      "[  95.           57.5         152.13333333]\n",
      "[ 13.39953271  -4.11214953  13.32943925]\n",
      "[ 13.39953271  -4.11214953  13.32943925]\n"
     ]
    }
   ],
   "source": [
    "def get_pivotal_row(a, r):\n",
    "    n = a.shape[0]\n",
    "    imax = r\n",
    "    absmax = abs(a[r, r])\n",
    "    for i in range(r+1, n):\n",
    "        if abs(a[i, r] > absmax):\n",
    "            imax = i\n",
    "            absmax = abs(a[i, r])\n",
    "    return imax\n",
    "\n",
    "def forward_elim(a, b, pivoting=True):\n",
    "    ra, ca = a.shape\n",
    "    rb = b.shape[0]\n",
    "    if ra == rb:\n",
    "        for p in range(ra-1):\n",
    "            if pivoting:  # If partial pivoting is to be performed\n",
    "                imax = get_pivotal_row(a, p)  # Determine index of row containing largest absolute a_ip\n",
    "                if imax != p:  # If current p is not the pivotal row, interchange rows p and imax\n",
    "                    print('Interchange %d and %d' % (p, imax))\n",
    "                    tmp = np.copy(a[p, p:])         # Use np.copy() to make a copy, otherwise it is a reference\n",
    "                    a[p, p:] = np.copy(a[imax, p:])\n",
    "                    a[imax, p:] = np.copy(tmp)\n",
    "                    b[p], b[imax] = b[imax], b[p]\n",
    "                    print(a)\n",
    "                    print(b)\n",
    "                    print()\n",
    "            for i in range(p+1, ra):\n",
    "                f = a[i, p] / a[p, p]\n",
    "                a[i, p:] = f * a[p, p:] - a[i, p:]\n",
    "                b[i] = f * b[p] - b[i]\n",
    "        return a, b\n",
    "    else:\n",
    "        print('Error')\n",
    "\n",
    "a = np.array([[10, 3, -2], [5, 9, -3], [-6, 8, 10]], dtype=float)\n",
    "b = np.array([95, -10, 20], dtype=float)\n",
    "print(a)\n",
    "print(b)\n",
    "aa, bb, x = gauss_elim(a, b)\n",
    "print(aa)\n",
    "print(bb)\n",
    "print(x)\n",
    "\n",
    "print(np.linalg.solve(a, b))\n",
    "print()\n",
    "\n",
    "a = np.array([[5, 9, -3], [10, 3, -2], [-6, 8, 10]], dtype=float)\n",
    "b = np.array([-10, 95, 20], dtype=float)\n",
    "print(a)\n",
    "print(b)\n",
    "aa, bb, x = gauss_elim(a, b)\n",
    "print(aa)\n",
    "print(bb)\n",
    "print(x)\n",
    "\n",
    "print(np.linalg.solve(a, b))"
   ]
  },
  {
   "cell_type": "code",
   "execution_count": null,
   "metadata": {
    "collapsed": true
   },
   "outputs": [],
   "source": []
  }
 ],
 "metadata": {
  "kernelspec": {
   "display_name": "Python 2",
   "language": "python",
   "name": "python2"
  },
  "language_info": {
   "codemirror_mode": {
    "name": "ipython",
    "version": 2
   },
   "file_extension": ".py",
   "mimetype": "text/x-python",
   "name": "python",
   "nbconvert_exporter": "python",
   "pygments_lexer": "ipython2",
   "version": "2.7.9"
  }
 },
 "nbformat": 4,
 "nbformat_minor": 0
}
