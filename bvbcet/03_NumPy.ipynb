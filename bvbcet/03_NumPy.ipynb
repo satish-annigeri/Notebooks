{
 "cells": [
  {
   "cell_type": "markdown",
   "metadata": {},
   "source": [
    "# Numerical Python\n",
    "\n",
    "Python does not have an array implementation, instead it has the less efficient but more versatile list. Numerical computations require an efficient array implementation and this is provided by the **NumPy package**.\n",
    "\n",
    "An array has these properties, which distinguish it from a List:\n",
    "\n",
    "1. All elements in an array are of the same type\n",
    "2. Memory for an array is contiguous\n",
    "3. If an array is multi-dimensioned, say two dimensioned, each row contains the same number of columns. This concept can be extended to arrays of higher dimensions\n",
    "\n",
    "Base Python programming language does not have the array data structure, instead it has List, which is more generalized than an array. NumPy module adds the n-dimensioned array (**`numpy.ndarray`**) data structure to Python"
   ]
  },
  {
   "cell_type": "markdown",
   "metadata": {},
   "source": [
    "## Creating Arrays\n",
    "\n",
    "Arrays can be created from an existing container objects, such as, lists. One can manually define the lists to create arrays out of them, or use functions which return lists, such as **`range()`**."
   ]
  },
  {
   "cell_type": "code",
   "execution_count": 7,
   "metadata": {
    "collapsed": false
   },
   "outputs": [
    {
     "name": "stdout",
     "output_type": "stream",
     "text": [
      "<type 'numpy.ndarray'> [1 2 3 4 5] <type 'numpy.int32'>\n",
      "<type 'tuple'> (5L,)\n",
      "[ 2  4  6  8 10] <type 'numpy.ndarray'> (5L,)\n"
     ]
    }
   ],
   "source": [
    "from __future__ import division, print_function\n",
    "import numpy as np\n",
    "\n",
    "a = np.array([1, 2, 3, 4, 5])\n",
    "print(type(a), a, type(a[0]))\n",
    "s = a.shape\n",
    "print(type(s), s)\n",
    "\n",
    "b = np.array([2*i for i in a])  # List comprehension)\n",
    "print(b, type(b), b.shape)"
   ]
  },
  {
   "cell_type": "code",
   "execution_count": 8,
   "metadata": {
    "collapsed": false
   },
   "outputs": [
    {
     "name": "stdout",
     "output_type": "stream",
     "text": [
      "<type 'numpy.ndarray'> <type 'numpy.float64'>\n",
      "[[ 1.  2.  3.]\n",
      " [ 4.  5.  6.]]\n",
      "<type 'list'> [array([ 2.,  4.,  6.]), array([  8.,  10.,  12.])]\n",
      "<type 'numpy.ndarray'>\n",
      "[[  2.   8.]\n",
      " [  4.  10.]\n",
      " [  6.  12.]]\n"
     ]
    }
   ],
   "source": [
    "b = np.array([[1, 2, 3], [4, 5, 6]], dtype=float)\n",
    "print(type(b), type(b[0,0]))\n",
    "print(b)\n",
    "\n",
    "c = [2*i for i in b]\n",
    "print(type(c), c)\n",
    "\n",
    "d = 2 * b\n",
    "print(type(d))\n",
    "print(d.T)  # Transpose of d"
   ]
  },
  {
   "cell_type": "markdown",
   "metadata": {},
   "source": [
    "## NumPy Array Metadata\n",
    "An array has a shape, which is a tuple. Number of items in the shape tuple represents the dimension of the array. Value of each element of the shape tuple represents the size along that dimension."
   ]
  },
  {
   "cell_type": "code",
   "execution_count": 9,
   "metadata": {
    "collapsed": false
   },
   "outputs": [
    {
     "name": "stdout",
     "output_type": "stream",
     "text": [
      "<type 'numpy.ndarray'> <type 'tuple'> 1 (5L,) 1\n",
      "<type 'numpy.ndarray'> <type 'tuple'> 2 (2L, 3L) 2\n"
     ]
    }
   ],
   "source": [
    "print(type(a), type(a.shape), len(a.shape), a.shape, a.ndim)\n",
    "print(type(b), type(b.shape), len(b.shape), b.shape, b.ndim)"
   ]
  },
  {
   "cell_type": "markdown",
   "metadata": {},
   "source": [
    "## Array Operations\n",
    "Mathematical operations such as addition (+), subtraction (-), multiplication (\\*) and division (/) are all performed elementwise. However matrix multiplication is not an elementwise operation and is performed using a function **`dot()`**."
   ]
  },
  {
   "cell_type": "code",
   "execution_count": 10,
   "metadata": {
    "collapsed": false
   },
   "outputs": [
    {
     "name": "stdout",
     "output_type": "stream",
     "text": [
      "[[ 1.  2.  3.  4.]\n",
      " [ 5.  6.  7.  8.]]\n",
      "[[  2.   4.   6.   8.]\n",
      " [ 10.  12.  14.  16.]]\n",
      "[[ 1.  2.  3.  4.]\n",
      " [ 5.  6.  7.  8.]]\n",
      "[[   2.    8.   18.   32.]\n",
      " [  50.   72.   98.  128.]]\n",
      "[[ 2.  2.  2.  2.]\n",
      " [ 2.  2.  2.  2.]]\n",
      "[[  2.  10.]\n",
      " [  4.  12.]\n",
      " [  6.  14.]\n",
      " [  8.  16.]]\n",
      "[[  60.  140.]\n",
      " [ 140.  348.]]\n"
     ]
    }
   ],
   "source": [
    "a = np.array([[1, 2, 3, 4], [5, 6, 7, 8]], dtype=float)\n",
    "b = np.array([[2, 4, 6, 8], [10, 12, 14, 16]], dtype=float)\n",
    "c = a + b\n",
    "print(a)\n",
    "print(b)\n",
    "print \n",
    "(c)\n",
    "d = b - a\n",
    "print(d)\n",
    "x = a * b\n",
    "print(x)\n",
    "y = b / a\n",
    "print(y)\n",
    "z = b.T\n",
    "print(z)\n",
    "p = np.dot(a, z)\n",
    "print(p)"
   ]
  },
  {
   "cell_type": "code",
   "execution_count": 28,
   "metadata": {
    "collapsed": false
   },
   "outputs": [
    {
     "name": "stdout",
     "output_type": "stream",
     "text": [
      "[[ 1  2  3  4  5]\n",
      " [ 6  7  8  9 10]\n",
      " [11 12 13 14 15]]\n",
      "[[11 12 13 14 15]\n",
      " [16 17 18 19 20]\n",
      " [21 22 23 24 25]]\n",
      "[[12 14 16 18 20]\n",
      " [22 24 26 28 30]\n",
      " [32 34 36 38 40]]\n",
      "[[10 10 10 10 10]\n",
      " [10 10 10 10 10]\n",
      " [10 10 10 10 10]]\n",
      "[[ 11  24  39  56  75]\n",
      " [ 96 119 144 171 200]\n",
      " [231 264 299 336 375]]\n",
      "[[ 205  280  355]\n",
      " [ 530  730  930]\n",
      " [ 855 1180 1505]]\n",
      "[[ 0.84147098  0.90929743  0.14112001 -0.7568025  -0.95892427]\n",
      " [-0.2794155   0.6569866   0.98935825  0.41211849 -0.54402111]\n",
      " [-0.99999021 -0.53657292  0.42016704  0.99060736  0.65028784]]\n"
     ]
    },
    {
     "ename": "ValueError",
     "evalue": "shapes (3,5) and (3,5) not aligned: 5 (dim 1) != 3 (dim 0)",
     "output_type": "error",
     "traceback": [
      "\u001b[1;31m---------------------------------------------------------------------------\u001b[0m",
      "\u001b[1;31mValueError\u001b[0m                                Traceback (most recent call last)",
      "\u001b[1;32m<ipython-input-28-63d541f0289b>\u001b[0m in \u001b[0;36m<module>\u001b[1;34m()\u001b[0m\n\u001b[0;32m      9\u001b[0m \u001b[1;32mprint\u001b[0m\u001b[1;33m(\u001b[0m\u001b[0mnp\u001b[0m\u001b[1;33m.\u001b[0m\u001b[0mdot\u001b[0m\u001b[1;33m(\u001b[0m\u001b[0mx\u001b[0m\u001b[1;33m,\u001b[0m \u001b[0my\u001b[0m\u001b[1;33m.\u001b[0m\u001b[0mT\u001b[0m\u001b[1;33m)\u001b[0m\u001b[1;33m)\u001b[0m\u001b[1;33m\u001b[0m\u001b[0m\n\u001b[0;32m     10\u001b[0m \u001b[1;32mprint\u001b[0m\u001b[1;33m(\u001b[0m\u001b[0mnp\u001b[0m\u001b[1;33m.\u001b[0m\u001b[0msin\u001b[0m\u001b[1;33m(\u001b[0m\u001b[0mx\u001b[0m\u001b[1;33m)\u001b[0m\u001b[1;33m)\u001b[0m\u001b[1;33m\u001b[0m\u001b[0m\n\u001b[1;32m---> 11\u001b[1;33m \u001b[1;32mprint\u001b[0m\u001b[1;33m(\u001b[0m\u001b[0mnp\u001b[0m\u001b[1;33m.\u001b[0m\u001b[0mdot\u001b[0m\u001b[1;33m(\u001b[0m\u001b[0mx\u001b[0m\u001b[1;33m,\u001b[0m \u001b[0my\u001b[0m\u001b[1;33m)\u001b[0m\u001b[1;33m)\u001b[0m \u001b[1;31m# ERROR\u001b[0m\u001b[1;33m\u001b[0m\u001b[0m\n\u001b[0m",
      "\u001b[1;31mValueError\u001b[0m: shapes (3,5) and (3,5) not aligned: 5 (dim 1) != 3 (dim 0)"
     ]
    }
   ],
   "source": [
    "x = np.array([range(1,6), range(6,11), range(11,16)])\n",
    "print(x)\n",
    "y = np.array([range(11,16), range(16,21), range(21, 26)])\n",
    "print(y)\n",
    "z = x + y\n",
    "print(z)\n",
    "print(y - x)\n",
    "print(x * y)\n",
    "print(np.dot(x, y.T))\n",
    "print(np.sin(x))\n",
    "print(np.dot(x, y)) # ERROR"
   ]
  },
  {
   "cell_type": "markdown",
   "metadata": {},
   "source": [
    "## Functions that Operate on Arrays\n",
    "NumPy also provides functions that operate on arrays. They are analogous to functions in **`math`**, except that they are capable of operating on arrays as well as single values."
   ]
  },
  {
   "cell_type": "code",
   "execution_count": 11,
   "metadata": {
    "collapsed": false
   },
   "outputs": [
    {
     "name": "stdout",
     "output_type": "stream",
     "text": [
      "[[ 1.  2.  3.  4.]\n",
      " [ 5.  6.  7.  8.]]\n",
      "[[ 1.          1.41421356  1.73205081  2.        ]\n",
      " [ 2.23606798  2.44948974  2.64575131  2.82842712]]\n",
      "[[ 0.54030231 -0.41614684 -0.9899925  -0.65364362]\n",
      " [ 0.28366219  0.96017029  0.75390225 -0.14550003]]\n"
     ]
    }
   ],
   "source": [
    "import math\n",
    "\n",
    "print(a)\n",
    "# Try x = math.sqrt(a)\n",
    "x = np.sqrt(a)\n",
    "print(x)\n",
    "print(np.cos(a))"
   ]
  },
  {
   "cell_type": "code",
   "execution_count": 12,
   "metadata": {
    "collapsed": false
   },
   "outputs": [
    {
     "name": "stdout",
     "output_type": "stream",
     "text": [
      "<type 'numpy.ndarray'> <type 'tuple'> 3 (2L, 3L, 2L) 3\n",
      "[[[ 1  2]\n",
      "  [ 3  4]\n",
      "  [ 5  6]]\n",
      "\n",
      " [[ 7  8]\n",
      "  [ 9 10]\n",
      "  [11 12]]]\n"
     ]
    }
   ],
   "source": [
    "c = np.array([[[1, 2], [3, 4], [5, 6]], [[7, 8], [9, 10], [11, 12]]])\n",
    "print(type(c), type(c.shape), len(c.shape), c.shape, c.ndim)\n",
    "print(c)"
   ]
  },
  {
   "cell_type": "code",
   "execution_count": 13,
   "metadata": {
    "collapsed": false
   },
   "outputs": [
    {
     "name": "stdout",
     "output_type": "stream",
     "text": [
      "2 2 2\n",
      "float64\n"
     ]
    }
   ],
   "source": [
    "print(len(a), len(b), len(c))\n",
    "print(a.dtype)"
   ]
  },
  {
   "cell_type": "markdown",
   "metadata": {},
   "source": [
    "## Quick Creation of Common Arrays\n",
    "Commonly required arrays such as those with all zeros, all ones, identity matrix and such can be created easily."
   ]
  },
  {
   "cell_type": "code",
   "execution_count": 14,
   "metadata": {
    "collapsed": false
   },
   "outputs": [
    {
     "name": "stdout",
     "output_type": "stream",
     "text": [
      "[[ 0.  0.  0.  0.]\n",
      " [ 0.  0.  0.  0.]\n",
      " [ 0.  0.  0.  0.]]\n"
     ]
    }
   ],
   "source": [
    "a = np.zeros((3,4), dtype=float)\n",
    "print(a)"
   ]
  },
  {
   "cell_type": "code",
   "execution_count": 15,
   "metadata": {
    "collapsed": false
   },
   "outputs": [
    {
     "name": "stdout",
     "output_type": "stream",
     "text": [
      "[[[1 1 1 1]\n",
      "  [1 1 1 1]\n",
      "  [1 1 1 1]]\n",
      "\n",
      " [[1 1 1 1]\n",
      "  [1 1 1 1]\n",
      "  [1 1 1 1]]]\n"
     ]
    }
   ],
   "source": [
    "b = np.ones((2, 3, 4), dtype = int)\n",
    "print(b)"
   ]
  },
  {
   "cell_type": "code",
   "execution_count": 16,
   "metadata": {
    "collapsed": false
   },
   "outputs": [
    {
     "name": "stdout",
     "output_type": "stream",
     "text": [
      "[[1 0 0 0]\n",
      " [0 1 0 0]\n",
      " [0 0 1 0]\n",
      " [0 0 0 1]]\n"
     ]
    }
   ],
   "source": [
    "c = np.eye(4, dtype=int)\n",
    "print(c)"
   ]
  },
  {
   "cell_type": "code",
   "execution_count": 17,
   "metadata": {
    "collapsed": false
   },
   "outputs": [
    {
     "name": "stdout",
     "output_type": "stream",
     "text": [
      "[[-0.66001357  0.68824462  1.409131    1.71253093]\n",
      " [-1.8589439  -0.20197068  1.90282863 -0.08021415]\n",
      " [-0.7289203  -1.14864007  0.11494438 -1.12937947]]\n"
     ]
    }
   ],
   "source": [
    "z = np.random.randn(3, 4)\n",
    "print(z)"
   ]
  },
  {
   "cell_type": "markdown",
   "metadata": {},
   "source": [
    "## diag()\n",
    "**`diag()`** generates a square array with the given argument placed on the main diagonal, or on a diagonal above or below the main diagonal."
   ]
  },
  {
   "cell_type": "code",
   "execution_count": 18,
   "metadata": {
    "collapsed": false
   },
   "outputs": [
    {
     "name": "stdout",
     "output_type": "stream",
     "text": [
      "[[1 0 0 0]\n",
      " [0 2 0 0]\n",
      " [0 0 3 0]\n",
      " [0 0 0 4]]\n"
     ]
    }
   ],
   "source": [
    "d = np.diag([1, 2, 3, 4])\n",
    "print(d)"
   ]
  },
  {
   "cell_type": "code",
   "execution_count": 19,
   "metadata": {
    "collapsed": false
   },
   "outputs": [
    {
     "name": "stdout",
     "output_type": "stream",
     "text": [
      "[[ 0 10  0  0]\n",
      " [ 0  0 20  0]\n",
      " [ 0  0  0 30]\n",
      " [ 0  0  0  0]]\n"
     ]
    }
   ],
   "source": [
    "x = np.diag([10, 20, 30], 1)  # List placed one place above the main diagonal\n",
    "print(x)"
   ]
  },
  {
   "cell_type": "code",
   "execution_count": 20,
   "metadata": {
    "collapsed": false
   },
   "outputs": [
    {
     "name": "stdout",
     "output_type": "stream",
     "text": [
      "[[ 0  0  0  0]\n",
      " [10  0  0  0]\n",
      " [ 0 20  0  0]\n",
      " [ 0  0 30  0]]\n"
     ]
    }
   ],
   "source": [
    "y = np.diag([10, 20, 30], -1)  # List placed one place below the main diagonal\n",
    "print(y)"
   ]
  },
  {
   "cell_type": "markdown",
   "metadata": {},
   "source": [
    "### Random Number Arrays"
   ]
  },
  {
   "cell_type": "code",
   "execution_count": 21,
   "metadata": {
    "collapsed": false
   },
   "outputs": [
    {
     "name": "stdout",
     "output_type": "stream",
     "text": [
      "[[ 0.47728888  0.05950243  0.48813849  0.24359009]\n",
      " [ 0.95941596  0.65437824  0.79965035  0.71109664]\n",
      " [ 0.79434576  0.4086556   0.85469238  0.98870638]]\n",
      "[[ 47.7288883    5.9502434   48.81384877  24.35900917]\n",
      " [ 95.94159585  65.43782432  79.96503537  71.10966401]\n",
      " [ 79.43457641  40.86555974  85.46923831  98.870638  ]]\n"
     ]
    }
   ],
   "source": [
    "a = np.random.random((3,4))\n",
    "print(a)\n",
    "b = a * 100\n",
    "print(b)"
   ]
  },
  {
   "cell_type": "markdown",
   "metadata": {},
   "source": [
    "# Slicing Arrays\n",
    "It is possible to access subarrays inside an array, either to copy their contents or replace them. The operation of accessing parts of an array is called **slicing**. Slicing is a powerful operation and requires some effort to master.\n",
    "## Copying Subarrays"
   ]
  },
  {
   "cell_type": "code",
   "execution_count": 22,
   "metadata": {
    "collapsed": false
   },
   "outputs": [
    {
     "name": "stdout",
     "output_type": "stream",
     "text": [
      "[[ 0.  0.  0.  0.  0.]\n",
      " [ 0.  0.  0.  0.  0.]\n",
      " [ 0.  0.  0.  0.  0.]\n",
      " [ 0.  0.  0.  0.  0.]]\n",
      "[[ 1.  2.  3.  4.  5.]\n",
      " [ 0.  0.  0.  0.  0.]\n",
      " [ 0.  0.  0.  0.  0.]\n",
      " [ 0.  0.  0.  0.  0.]]\n",
      "[[  1.   2.  10.   4.   5.]\n",
      " [  0.   0.  20.   0.   0.]\n",
      " [  0.   0.  30.   0.   0.]\n",
      " [  0.   0.  40.   0.   0.]]\n",
      "[[ 1.  2.]\n",
      " [ 0.  0.]\n",
      " [ 0.  0.]\n",
      " [ 0.  0.]]\n",
      "[[ 4.  5.]\n",
      " [ 0.  0.]\n",
      " [ 0.  0.]\n",
      " [ 0.  0.]]\n"
     ]
    }
   ],
   "source": [
    "a = np.zeros((4, 5), dtype=float)\n",
    "print(a)\n",
    "a[0,:] = [1, 2, 3, 4, 5]\n",
    "print(a)\n",
    "a[:, 2] = [10, 20, 30, 40]\n",
    "print(a)\n",
    "print(a[:4, :2])\n",
    "print(a[:,3:])"
   ]
  },
  {
   "cell_type": "markdown",
   "metadata": {},
   "source": [
    "## Rules for Slicing\n",
    "1. If start value is not specified, it defaults to 0\n",
    "2. If end value is not specified, it defaults to the last\n",
    "3. Index -1 represents the index of the last element and -2 represents the index of the last but one element"
   ]
  },
  {
   "cell_type": "code",
   "execution_count": 23,
   "metadata": {
    "collapsed": false
   },
   "outputs": [
    {
     "name": "stdout",
     "output_type": "stream",
     "text": [
      "[ 0.  1.  2.  3.  4.  5.  6.  7.  8.]\n",
      "[ 0.  1.  2.  3.]\n",
      "[ 0.  1.  2.  3.]\n",
      "[ 2.  3.  4.  5.  6.  7.  8.]\n",
      "[ 2.  3.  4.  5.  6.  7.  8.]\n",
      "[ 2.  3.  4.  5.  6.  7.]\n",
      "[]\n"
     ]
    }
   ],
   "source": [
    "b = np.array(range(9), dtype=float)\n",
    "print(b)\n",
    "print(b[0:4])   # b[0] to b[3]. b[4] NOT included\n",
    "print(b[:4])    # Same as b[0:4]\n",
    "print(b[2:9])   # b[2] to b[8], b[9] NOT included\n",
    "print(b[2:])    # Same as b[2:9]\n",
    "print(b[2:-1])  # b[2] to b[-2]. b[-1] NOT included\n",
    "print(b[-1:-3]) # empty array"
   ]
  },
  {
   "cell_type": "markdown",
   "metadata": {},
   "source": [
    "## Replace Elements in an Array"
   ]
  },
  {
   "cell_type": "code",
   "execution_count": 24,
   "metadata": {
    "collapsed": false
   },
   "outputs": [
    {
     "name": "stdout",
     "output_type": "stream",
     "text": [
      "[ 0  1  2  3  4  5  6  7  8  9 10]\n",
      "[ 0  0  0  0  0  5  6  7  8  9 10]\n",
      "[ 1  1  1  1  1  5  6  7  8  9 10]\n"
     ]
    }
   ],
   "source": [
    "x = np.array(range(11))\n",
    "print(x)\n",
    "x[0:5] = np.zeros(5)\n",
    "print(x)\n",
    "x[0:5] = np.ones(5)\n",
    "print(x)"
   ]
  },
  {
   "cell_type": "code",
   "execution_count": 25,
   "metadata": {
    "collapsed": false
   },
   "outputs": [
    {
     "name": "stdout",
     "output_type": "stream",
     "text": [
      "[[ 0.  0.  0.  0.  0.]\n",
      " [ 0.  0.  0.  0.  0.]\n",
      " [ 0.  0.  0.  0.  0.]\n",
      " [ 0.  0.  0.  0.  0.]]\n",
      "[[ 0.  0.  0.  0.  0.]\n",
      " [ 0.  0.  1.  1.  1.]\n",
      " [ 0.  0.  1.  1.  1.]\n",
      " [ 0.  0.  0.  0.  0.]]\n"
     ]
    }
   ],
   "source": [
    "y = np.zeros((4,5))\n",
    "print(y)\n",
    "y[1:3, 2:] = np.ones((2, 3))\n",
    "print(y)"
   ]
  },
  {
   "cell_type": "markdown",
   "metadata": {},
   "source": [
    "## Reshaping Arrays"
   ]
  },
  {
   "cell_type": "code",
   "execution_count": 26,
   "metadata": {
    "collapsed": false
   },
   "outputs": [
    {
     "name": "stdout",
     "output_type": "stream",
     "text": [
      "[ 1  2  3  4  5  6  7  8  9 10 11 12]\n",
      "[[ 1  2  3  4]\n",
      " [ 5  6  7  8]\n",
      " [ 9 10 11 12]]\n",
      "[ 1  2  3  4  5  6  7  8  9 10 11 12 13 14 15 16 17 18 19 20 21 22 23 24]\n",
      "[[[ 1  2  3  4]\n",
      "  [ 5  6  7  8]\n",
      "  [ 9 10 11 12]]\n",
      "\n",
      " [[13 14 15 16]\n",
      "  [17 18 19 20]\n",
      "  [21 22 23 24]]]\n"
     ]
    }
   ],
   "source": [
    "a = np.array(range(1, 13))\n",
    "print(a)\n",
    "b = np.reshape(a, (3, 4))\n",
    "print(b)\n",
    "x = np.array(range(1, 25))\n",
    "print(x)\n",
    "y = np.reshape(x, (2, 3, 4))\n",
    "print(y)"
   ]
  },
  {
   "cell_type": "code",
   "execution_count": 27,
   "metadata": {
    "collapsed": false
   },
   "outputs": [
    {
     "name": "stdout",
     "output_type": "stream",
     "text": [
      "[[[ 1  2]\n",
      "  [ 3  4]\n",
      "  [ 5  6]]\n",
      "\n",
      " [[ 7  8]\n",
      "  [ 9 10]\n",
      "  [11 12]]\n",
      "\n",
      " [[13 14]\n",
      "  [15 16]\n",
      "  [17 18]]\n",
      "\n",
      " [[19 20]\n",
      "  [21 22]\n",
      "  [23 24]]]\n"
     ]
    }
   ],
   "source": [
    "y = np.reshape(y, (4, 3, 2)) # In place reshaping\n",
    "print(y)"
   ]
  },
  {
   "cell_type": "markdown",
   "metadata": {},
   "source": [
    "# Execution Speeds\n",
    "NumPy module has operations that are optimized for speed. Therefore, using the NumPy operations is faster than writing your own loops. For example, if we have two vectors of the the same size, and we want to create a new vector that is the product of the corresponding elements of the given arrays. That is, **`c = a * b`** where $a$ and $b$ are two vectors and we want an element-wise product $c_i = a_i * b_i$. This can be performed in two ways - we can use the operator **`*`** supported by NumPy or we can write our own loop for the purpose."
   ]
  },
  {
   "cell_type": "code",
   "execution_count": 29,
   "metadata": {
    "collapsed": false
   },
   "outputs": [
    {
     "name": "stdout",
     "output_type": "stream",
     "text": [
      "[ 1.  2.  3.  4.  5.]\n",
      "[ 11.  12.  13.  14.  15.]\n",
      "[ 11.  24.  39.  56.  75.]\n",
      "[ 11.  24.  39.  56.  75.]\n"
     ]
    }
   ],
   "source": [
    "a = np.arange(1., 6)\n",
    "b = np.arange(11., 16)\n",
    "print(a)\n",
    "print(b)\n",
    "c = a * b\n",
    "print(c)\n",
    "\n",
    "def prod(a, b):\n",
    "    c = np.zeros(a.shape)\n",
    "    for i in range(len(a)):\n",
    "        c[i] = a[i] * b[i]\n",
    "    return c\n",
    "\n",
    "d = prod(a, b)\n",
    "print(d)"
   ]
  },
  {
   "cell_type": "markdown",
   "metadata": {},
   "source": [
    "Now, let us compare their execution speeds. IPython has a **magic** command **`%timeit`** that executes Python code in a loop several times and determine the average time per loop. We will use this command to time the execution of the two different ways of finding the elementwise product."
   ]
  },
  {
   "cell_type": "code",
   "execution_count": 32,
   "metadata": {
    "collapsed": false
   },
   "outputs": [
    {
     "name": "stdout",
     "output_type": "stream",
     "text": [
      "The slowest run took 23.58 times longer than the fastest. This could mean that an intermediate result is being cached \n",
      "1000000 loops, best of 3: 887 ns per loop\n"
     ]
    }
   ],
   "source": [
    "%timeit c = a * b"
   ]
  },
  {
   "cell_type": "code",
   "execution_count": 33,
   "metadata": {
    "collapsed": false
   },
   "outputs": [
    {
     "name": "stdout",
     "output_type": "stream",
     "text": [
      "The slowest run took 10.46 times longer than the fastest. This could mean that an intermediate result is being cached \n",
      "100000 loops, best of 3: 5.4 µs per loop\n"
     ]
    }
   ],
   "source": [
    "%timeit d = prod(a, b)"
   ]
  },
  {
   "cell_type": "markdown",
   "metadata": {},
   "source": [
    "From the execution times, we can see that the NumPy operator is much faster than our function using a loop. The main reason the loop is slow because of the fact that the data type of loop variable **`i`** is dynamic. If the data type of **`i`** were static, it would be possible to speed up the execution of this function. There is a way in which this can be donw, using a Python module named **Cython**, but we will not cover it here."
   ]
  }
 ],
 "metadata": {
  "kernelspec": {
   "display_name": "Python 2",
   "language": "python",
   "name": "python2"
  },
  "language_info": {
   "codemirror_mode": {
    "name": "ipython",
    "version": 2
   },
   "file_extension": ".py",
   "mimetype": "text/x-python",
   "name": "python",
   "nbconvert_exporter": "python",
   "pygments_lexer": "ipython2",
   "version": "2.7.9"
  }
 },
 "nbformat": 4,
 "nbformat_minor": 0
}
