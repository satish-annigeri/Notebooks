{
 "cells": [
  {
   "cell_type": "markdown",
   "metadata": {},
   "source": [
    "# The IPython Notebook\n",
    "* Facilitates interactive computing using a web-browser\n",
    "* Developing, \n",
    "* Documenting, \n",
    "* Executing code and \n",
    "* Communicating the results"
   ]
  },
  {
   "cell_type": "markdown",
   "metadata": {
    "collapsed": true
   },
   "source": [
    "## Starting the Notebook Server\n",
    "** `ipython notebook`**"
   ]
  },
  {
   "cell_type": "markdown",
   "metadata": {},
   "source": [
    "A new notebook document is created with following features"
   ]
  },
  {
   "cell_type": "markdown",
   "metadata": {},
   "source": [
    " * Notebook name, \n",
    " * Menu bar, \n",
    " * Toolbar and \n",
    " * Empty code cell"
   ]
  },
  {
   "cell_type": "markdown",
   "metadata": {},
   "source": [
    "Structure of a notebook document\n",
    "------------------------------------\n",
    "### There are four types of cells: \n",
    "* Code cells, \n",
    "* Markdown cells, \n",
    "* Raw cells and \n",
    "* Heading cells"
   ]
  },
  {
   "cell_type": "markdown",
   "metadata": {},
   "source": [
    "### Code cells\n",
    "* A code cell allows you to edit and write new code, with full syntax highlighting and tab completion"
   ]
  },
  {
   "cell_type": "code",
   "execution_count": 1,
   "metadata": {
    "collapsed": false,
    "scrolled": true
   },
   "outputs": [
    {
     "name": "stdout",
     "output_type": "stream",
     "text": [
      "<type 'numpy.ndarray'>\n",
      "[ 0.82183566  0.4249464   0.66023236  0.24285299  0.11646147  0.26724622\n",
      "  0.43001898  0.08840917  0.83570893  0.12698752]\n"
     ]
    }
   ],
   "source": [
    "from __future__ import division, print_function\n",
    "import numpy as np\n",
    "a = np.random.rand(10)\n",
    "print(type(a))\n",
    "print (a)"
   ]
  },
  {
   "cell_type": "code",
   "execution_count": 5,
   "metadata": {
    "collapsed": false
   },
   "outputs": [
    {
     "data": {
      "text/plain": [
       "array([ 0.19420961,  0.80987413,  0.37662322,  0.61959548,  0.4818346 ,\n",
       "        0.52143703,  0.76786701,  0.43159441,  0.29240385,  0.71729244])"
      ]
     },
     "execution_count": 5,
     "metadata": {},
     "output_type": "execute_result"
    }
   ],
   "source": [
    "np.sin(a) "
   ]
  },
  {
   "cell_type": "markdown",
   "metadata": {},
   "source": [
    "* Its possible to use np.sin(_); \n",
    "* (_) will represent last output, \n",
    "* (__) will represent second to last output, \n",
    "* (_N) represent Out [N] "
   ]
  },
  {
   "cell_type": "code",
   "execution_count": 6,
   "metadata": {
    "collapsed": false
   },
   "outputs": [
    {
     "data": {
      "text/plain": [
       "[<matplotlib.lines.Line2D at 0x7fb57cd54610>]"
      ]
     },
     "execution_count": 6,
     "metadata": {},
     "output_type": "execute_result"
    },
    {
     "data": {
      "image/png": "[encoded data removed]",
      "text/plain": [
       "<matplotlib.figure.Figure at 0x7fb590023890>"
      ]
     },
     "metadata": {},
     "output_type": "display_data"
    }
   ],
   "source": [
    "%matplotlib inline\n",
    "import matplotlib.pyplot as plt\n",
    "#import numpy as np\n",
    "x = np.linspace(0, 2*np.pi, 100)\n",
    "y = np.sin(x)\n",
    "plt.plot (x, y)"
   ]
  },
  {
   "cell_type": "markdown",
   "metadata": {},
   "source": [
    "### Markdown Cells\n",
    "1. It is possible to document the computational process in a literate way, alternating descriptive text with code\n",
    "2. Within Markdown cells, you can also include mathematics in a straightforward way, using standard LaTeX notation\n",
    "3. Standard mathematics environments defined by LaTeX and AMS-LaTeX (the amsmath package) also work"
   ]
  },
  {
   "cell_type": "markdown",
   "metadata": {},
   "source": [
    "$\\sin^2\\theta+\\cos^2\\theta= 1 $"
   ]
  },
  {
   "cell_type": "markdown",
   "metadata": {},
   "source": [
    "$$\\sin^2\\theta+\\cos^2{\\theta} = 1 $$"
   ]
  },
  {
   "cell_type": "markdown",
   "metadata": {},
   "source": [
    "\\begin{equation}\n",
    "y = 3x^3+2x^2+x+10\n",
    "\\end{equation}"
   ]
  },
  {
   "cell_type": "markdown",
   "metadata": {},
   "source": [
    "\\begin{align}\n",
    "y_1 & = x_1^3+x_2^2+x+5 \\\\\n",
    "y_2 & = x_1^4+x_2^3+x+10\n",
    "\\end{align}"
   ]
  },
  {
   "cell_type": "markdown",
   "metadata": {},
   "source": [
    "$$P_{r-j} = \\begin{cases}\n",
    "0 &  \\text{if $r-j$ is odd},\\\\\n",
    "r!\\,(-1)^{(r-j)/2}&  \\text{if $r-j$ is even}.\n",
    "\\end{cases}$$"
   ]
  },
  {
   "cell_type": "markdown",
   "metadata": {},
   "source": [
    "## Inserting Images"
   ]
  },
  {
   "cell_type": "markdown",
   "metadata": {},
   "source": [
    "<img src = 'bvb.jpg'>"
   ]
  },
  {
   "cell_type": "markdown",
   "metadata": {},
   "source": [
    "<img src = 'python_logo.png'>"
   ]
  },
  {
   "cell_type": "markdown",
   "metadata": {},
   "source": [
    "### Raw Cells\n",
    "* Raw cells provide a place in which you can write output directly. \n",
    "* Raw cells are not evaluated by the notebook.\n",
    "* When passed through _nbconvert_, raw cells arrive in the destination format unmodified.\n",
    "* For example, this allows you to type full LaTeX into a raw cell, which will only be rendered by LaTeX after conversion by nbconvert."
   ]
  },
  {
   "cell_type": "markdown",
   "metadata": {},
   "source": [
    "### Heading Cells\n",
    "* You can provide a conceptual structure for your computational document as a whole using different levels of headings\n",
    "* There are 6 levels available, from level 1 (top level) down to level 6 (paragraph)"
   ]
  },
  {
   "cell_type": "markdown",
   "metadata": {},
   "source": [
    "### Keyboard Shortcuts\n",
    "1. ** `Shift-Enter`: Run cell ** \n",
    "2. ** `Ctrl-Enter`: Run cell in-place ** \n",
    "3. ** `Alt-Enter`: Run cell, insert below **\n",
    "4. ** `Esc`** and **`Enter`: Command mode** and **edit mode **"
   ]
  },
  {
   "cell_type": "markdown",
   "metadata": {},
   "source": [
    "## Converting notebooks to other formats\n",
    "** `$ ipython nbconvert --to FORMAT notebook.ipynb` ** \n",
    "* The default output format is html\n",
    "* For example, for this notebook I can give the following command to export it to pdf format (via LaTeX)\n",
    "** `$ ipython nbconvert --to html session1.ipynb` **"
   ]
  },
  {
   "cell_type": "code",
   "execution_count": null,
   "metadata": {
    "collapsed": true
   },
   "outputs": [],
   "source": []
  }
 ],
 "metadata": {
  "kernelspec": {
   "display_name": "Python 2",
   "language": "python",
   "name": "python2"
  },
  "language_info": {
   "codemirror_mode": {
    "name": "ipython",
    "version": 2
   },
   "file_extension": ".py",
   "mimetype": "text/x-python",
   "name": "python",
   "nbconvert_exporter": "python",
   "pygments_lexer": "ipython2",
   "version": "2.7.10"
  }
 },
 "nbformat": 4,
 "nbformat_minor": 0
}
