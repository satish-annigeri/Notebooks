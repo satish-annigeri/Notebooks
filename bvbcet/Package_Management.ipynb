{
 "cells": [
  {
   "cell_type": "markdown",
   "metadata": {},
   "source": [
    "# Python Package Management\n",
    "Python uses packages and modules to add functionality to the base features of the language. Modules are analogous to libraries in other programming languages. Packages are collection of modules and provide a means of defining a collection of inter-related modules. Python Package Index (PyPI)(http://pypi.python.org) is the primary source of packages and modules. There are multiple ways you can obtain and install a package:\n",
    "1. Download the package in source form. To install you will require Python installed\n",
    "2. Download and install binary package specific to your operating system from PyPi. You will need Python installed and either **`easy_install`** or **`pip`** installedour operating system from Anaconda repoare a subset of those in PyPIsitory. Packages in Anaconda repository \n",
    "3. Download and install binary package specific to your operating system from Anaconda repository. Packages in Continuum Analytics repository are a subset of those in PyPI, but has all packages related to scienttific compuing.\n",
    "\n",
    "## Anaconda Package Management\n",
    "Anaconda comes with its own package manager named **`conda`**. It can do everything with Anaconda repositories that **`pip`** does with PyPI repositories. In addition, it can create and manage Python virtual environments in a way similar to **`virtualenv`**. It is therefore **`pip`** and **`virtualenv`** rolled into one.\n",
    "\n",
    "### Get Commandline Help\n",
    "**`>conda help`**\n",
    "\n",
    "Get help about a specific c**onda** option, for example, help about install.\n",
    "\n",
    "**`conda help install`**\n",
    "\n",
    "### List Installed Packages\n",
    "**`>conda list`**\n",
    "\n",
    "### Update Installed Packages\n",
    "**`>conda update numpy`**\n",
    "\n",
    "**`>conda update --all`**\n",
    "\n",
    "### Remove an Installed Package\n",
    "**`>conda remove numpy`**\n",
    "\n",
    "**Note:** Beware of packages dependencies. An installed package will not work if a package it depends on is removed.\n",
    "\n",
    "### Search for a Package by Name\n",
    "**`>conda search numpy`**\n",
    "\n",
    "### Download and Install a Package\n",
    "**`>conda install scipy`**\n",
    "\n",
    "**Note:** If the package is already installed, a message to that effect is displayed.\n",
    "\n",
    "## pip Package Management\n",
    "**conda** downloads packages from a package repository maintained by Continuum Analytics. This repository has many Python packages, especially those related to scientific computing. But Python has packages from a wide variety of application areas beyond scientific computing. Unfortunately such packges are not included in the Continuum Analytics repository.\n",
    "\n",
    "Python Software Foundation maintains a central repository of all Python packages at [PyPI (Python Package Index)](http://pypi.python.org). In fact all scientific computing packages are available from PyPI, but installing some of them requires that C/C++ or Fortran compilers are installed and properly configured on your machine before installing them. In fact, **conda** solves this part of the problem. However, if a required package is available only on PyPI, it must be installed using **pip**. Fortunately, packages installed from **conda** and **pip** can co-exist, except that you must use therespective package managers to manage the respective packages.\n",
    "\n",
    "### Get Commandline Help\n",
    "**`>pip help`**\n",
    "\n",
    "Get help about a specific **pip** option, for example, help about install.\n",
    "\n",
    "**`pip help install`**\n",
    "\n",
    "### List Installed Packages\n",
    "**`>pip list`**\n",
    "\n",
    "### Update Installed Packages\n",
    "**`>pip install -U numpy`**\n",
    "\n",
    "### Remove an Installed Package\n",
    "**`>pip uninstall numpy`**\n",
    "\n",
    "**Note:** Beware of packages dependencies. An installed package will not work if a package it depends on is removed.\n",
    "\n",
    "### Search for a Package by Name\n",
    "**`>pip search numpy`**\n",
    "\n",
    "### Download and Install a Package\n",
    "**`>pip install scipy`**\n",
    "\n",
    "**Note:** If the package is already installed, a message to that effect is displayed."
   ]
  },
  {
   "cell_type": "code",
   "execution_count": null,
   "metadata": {
    "collapsed": true
   },
   "outputs": [],
   "source": []
  }
 ],
 "metadata": {
  "kernelspec": {
   "display_name": "Python 2",
   "language": "python",
   "name": "python2"
  },
  "language_info": {
   "codemirror_mode": {
    "name": "ipython",
    "version": 2
   },
   "file_extension": ".py",
   "mimetype": "text/x-python",
   "name": "python",
   "nbconvert_exporter": "python",
   "pygments_lexer": "ipython2",
   "version": "2.7.9"
  }
 },
 "nbformat": 4,
 "nbformat_minor": 0
}
