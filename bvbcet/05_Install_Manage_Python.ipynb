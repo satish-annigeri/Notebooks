{
 "cells": [
  {
   "cell_type": "markdown",
   "metadata": {},
   "source": [
    "# Installing and Managing Scientific Python\n",
    "\n",
    "## Repositories of Packages\n",
    "1. [Python Package Index (PyPI)](http://pypi.python.org) is the central repository of all Python packages\n",
    "2. After first installing Python, install **`pip`**\n",
    "3. Install new packages or update or remove installed packages using **`pip`**\n",
    "\n",
    "## Installing Scientific Python\n",
    "Scientific Python consists of the following software:\n",
    "* Python\n",
    "* NumPy\n",
    "* Matplotlib\n",
    "* SciPy\n",
    "* Pandas\n",
    "* SymPy\n",
    "* scikit-image\n",
    "* scikit-learn\n",
    "\n",
    "There are several alternatives\n",
    "1. Install base Python and all required packages manually using **`pip`** - You will need to know the packages required and install them manually\n",
    "2. Install one of ready-made scientific Python distributions\n",
    "   * Anaconda Python from Continuum Analytics\n",
    "   * Canopy Python from Enthought\n",
    "\n",
    "## Installing Anaconda Python Distribution\n",
    "1. Download the right distribution for your operating system (Windows, GNU/Linux, Mac OS X) and CPU architecture (32-bit or 64-bit) from [Continuum Analytics website](http://continuum.io/downloads)\n",
    "2. Install a package\n",
    "3. Update a package\n",
    "4. Remove a package\n",
    "5. Update all packages\n",
    "6. Install, Update or remove a packages from PyPI if they are not available in Anaconda repository\n",
    "\n",
    "<table>\n",
    "<tr>\n",
    "<td>**Operation**</td><td>**Anaconda**</td><td>**`pip`**</td>\n",
    "</tr>\n",
    "<tr>\n",
    "<td>Get help on using package manager</td><td>**`conda help`**</td><td>**`pip help`**</td>\n",
    "</tr>\n",
    "<tr>\n",
    "<td>Get help on using specific option of package manager</td><td>**`conda help option`**</td><td>**`pip help option`**</td>\n",
    "</tr>\n",
    "<tr>\n",
    "<td>Search repository for a package</td><td>**`conda search package`**</td><td>**`pip search package`**</td>\n",
    "</tr>\n",
    "<tr>\n",
    "<td>List installed packages</td><td>**`conda list`**</td><td>**`pip list`**</td>\n",
    "</tr>\n",
    "<tr>\n",
    "<td>Install a package from repository</td><td>**`conda install package`**</td><td>**`pip install package`**</td>\n",
    "</tr>\n",
    "<tr>\n",
    "<td>Update an installed package</td><td>**`conda update package`**</td><td>**`pip install -U package`**</td>\n",
    "</tr>\n",
    "<tr>\n",
    "<td>Remove an installed package</td><td>**`conda remove package`**</td><td>**`pip uninstall package`**</td>\n",
    "</tr>\n",
    "</table>"
   ]
  },
  {
   "cell_type": "code",
   "execution_count": null,
   "metadata": {
    "collapsed": true
   },
   "outputs": [],
   "source": []
  }
 ],
 "metadata": {
  "kernelspec": {
   "display_name": "Python 2",
   "language": "python",
   "name": "python2"
  },
  "language_info": {
   "codemirror_mode": {
    "name": "ipython",
    "version": 2
   },
   "file_extension": ".py",
   "mimetype": "text/x-python",
   "name": "python",
   "nbconvert_exporter": "python",
   "pygments_lexer": "ipython2",
   "version": "2.7.9"
  }
 },
 "nbformat": 4,
 "nbformat_minor": 0
}
