{
 "cells": [
  {
   "cell_type": "markdown",
   "metadata": {},
   "source": [
    "# Roots of Equations\n",
    "\n",
    "To find values of $x$ such that $f(x)=0$."
   ]
  },
  {
   "cell_type": "code",
   "execution_count": 2,
   "metadata": {
    "collapsed": false
   },
   "outputs": [
    {
     "name": "stdout",
     "output_type": "stream",
     "text": [
      "[[0, 2.0], [2.0, 4.0]]\n",
      "[[3.5, 3.75], [4.0, 4.25], [4.25, 4.5], [4.5, 4.75], [5.5, 5.75]]\n"
     ]
    }
   ],
   "source": [
    "from __future__ import division, print_function\n",
    "from numpy import inf\n",
    "import numpy as np\n",
    "\n",
    "def f(x):\n",
    "    return x*x - 3*x + 1\n",
    "\n",
    "def fd(x):\n",
    "    return 2*x - 3\n",
    "\n",
    "def f1(x):\n",
    "    return np.sin(10*x) + np.cos(3*x)\n",
    "\n",
    "def f1d(x):\n",
    "    return 10.0*np.cos(10.0*x) - 3.0*np.sin(3.0*x)\n",
    "\n",
    "def inc_search(f, x0, xn, nint, maxcount=inf):\n",
    "    '''Divides the range x0 to xn into nint equal intervals and searches for brackets.\n",
    "       Returns a two dimensioned list, each row of the list containing one set of brackets.\n",
    "       Returns an empty list if no brackets are found'''\n",
    "\n",
    "    dx = (xn - x0) / nint\n",
    "    x1 = x0; x2 = x1 + dx; y1 = f(x1); y2 = f(x2)\n",
    "    b = []\n",
    "    count = 0\n",
    "\n",
    "    while x2 < xn and count < maxcount:\n",
    "        if y1 * y2 <= 0:\n",
    "            b.append([x1, x2])\n",
    "            count += 1\n",
    "        x1 = x2; x2 = x1 + dx; y1 = f(x1); y2 = f(x2)\n",
    "    return b\n",
    "\n",
    "print(inc_search(f, 0, 10, 5))\n",
    "print(inc_search(f1, 3, 6, 12))"
   ]
  },
  {
   "cell_type": "markdown",
   "metadata": {},
   "source": [
    "## Bracketing Methods\n",
    "### Bisection Method\n",
    "\n",
    "The given starting points $x_1$ and $x_2$ must bracket a root of the equation $f(x)$, that is, $y_1 \\cdot y_2 \\leq 0$ where $y_1 = f(x_1)$ and $y_2 = f(x_2)$. We then evaluate the function at the midpoint $x_m = \\frac{x_1 + x_2}{2}$ and determine $y_m = f(x_m)$ and check to see if indeed it is the root we seek, that is, $|y_m| \\leq tol$. If true, then $x_m$ is the root we seek. If not, we must choose one of the two halves which brackets the root. This is done by checking whether left half brackets the root, that is, $y_1 \\cdot y_m \\leq 0$, in which case left half brackets the root and we retain $x_1$ as the start point and update the end point as $x_2 = x_m, y_2 = y_m$. If not, right half brackets the root and we update the start point as $x_1 = x_m, y_1 - y_m$. We then resume iterations with the halved interval. We continue doing so until the interval is smaller than our required tolerance and we have found the root or we reach the maximum number of iterations allowed, in which case we abort the iterations and return without having found the root."
   ]
  },
  {
   "cell_type": "code",
   "execution_count": 3,
   "metadata": {
    "collapsed": false
   },
   "outputs": [
    {
     "name": "stdout",
     "output_type": "stream",
     "text": [
      "Bisection Method\n",
      "    1 (    0.000000     1.000000) (    0.500000    -0.250000) (    0.250000     0.312500)\n",
      "    2 (    0.250000     0.312500) (    0.500000    -0.250000) (    0.375000     0.015625)\n",
      "    3 (    0.375000     0.015625) (    0.500000    -0.250000) (    0.437500    -0.121094)\n",
      "    4 (    0.375000     0.015625) (    0.437500    -0.121094) (    0.406250    -0.053711)\n",
      "    5 (    0.375000     0.015625) (    0.406250    -0.053711) (    0.390625    -0.019287)\n",
      "    6 (    0.375000     0.015625) (    0.390625    -0.019287) (    0.382812    -0.001892)\n",
      "    7 (    0.375000     0.015625) (    0.382812    -0.001892) (    0.378906     0.006851)\n",
      "    8 (    0.378906     0.006851) (    0.382812    -0.001892) (    0.380859     0.002476)\n",
      "    9 (    0.380859     0.002476) (    0.382812    -0.001892) (    0.381836     0.000291)\n",
      "   10 (    0.381836     0.000291) (    0.382812    -0.001892) (    0.382324    -0.000801)\n",
      "   11 (    0.381836     0.000291) (    0.382324    -0.000801) (    0.382080    -0.000255)\n",
      "   12 (    0.381836     0.000291) (    0.382080    -0.000255) (    0.381958     0.000018)\n",
      "   13 (    0.381958     0.000018) (    0.382080    -0.000255) (    0.382019    -0.000119)\n",
      "   14 (    0.381958     0.000018) (    0.382019    -0.000119) (    0.381989    -0.000050)\n",
      "   15 (    0.381958     0.000018) (    0.381989    -0.000050) (    0.381973    -0.000016)\n",
      "   16 (    0.381958     0.000018) (    0.381973    -0.000016) (    0.381966     0.000001)\n",
      "Iterations = 16 Root =  0.381965637207 8.36385879666e-07\n"
     ]
    }
   ],
   "source": [
    "def bisection(f, x1, x2, tol=1e-6, maxiter=30):\n",
    "    '''Determine a root between x1 and x2 with tolerance tol, performing at most maxiter iterations\n",
    "       using Bisection method. x1 and x2 must bracket a root, else returns None. If no root to required \n",
    "       accuracy is found in maxiter iterations, returns None. Else returns the root.'''\n",
    "\n",
    "    y1 = f(x1); y2 = f(x2)\n",
    "\n",
    "    if y1 * y2 > 0:\n",
    "        return None\n",
    "    if abs(y1) <= tol:\n",
    "        return x1, 0\n",
    "    elif abs(y2) <= tol:\n",
    "        return x2, 0\n",
    "    k = 1\n",
    "    xm = (x1 + x2) / 2.0\n",
    "    ym = f(xm)\n",
    "    print(\"%5d (%12.6f %12.6f) (%12.6f %12.6f) (%12.6f %12.6f)\" % (k, x1, y1, x2, y2, xm, ym))\n",
    "\n",
    "    while abs(ym) > tol and k < maxiter:\n",
    "        k += 1\n",
    "        if y1 * ym < 0:\n",
    "            x2 = xm; y2 = ym\n",
    "        else:\n",
    "            x1 = xm; y1 = ym\n",
    "        xm = (x1 + x2) / 2.0\n",
    "        ym = f(xm)\n",
    "        print(\"%5d (%12.6f %12.6f) (%12.6f %12.6f) (%12.6f %12.6f)\" % (k, x1, y1, x2, y2, xm, ym))\n",
    "    if abs(ym) <= tol:\n",
    "        return xm, k\n",
    "    else:\n",
    "        return None, k\n",
    "\n",
    "print(\"Bisection Method\")\n",
    "x, k = bisection(f, 0.0, 0.5)\n",
    "print(\"Iterations =\", k, \"Root = \", x, f(x))"
   ]
  },
  {
   "cell_type": "code",
   "execution_count": 4,
   "metadata": {
    "collapsed": false
   },
   "outputs": [
    {
     "name": "stdout",
     "output_type": "stream",
     "text": [
      "    1 (    2.500000    -0.250000) (    3.000000     1.000000) (    2.750000     0.312500)\n",
      "    2 (    2.500000    -0.250000) (    2.750000     0.312500) (    2.625000     0.015625)\n",
      "    3 (    2.500000    -0.250000) (    2.625000     0.015625) (    2.562500    -0.121094)\n",
      "    4 (    2.562500    -0.121094) (    2.625000     0.015625) (    2.593750    -0.053711)\n",
      "    5 (    2.593750    -0.053711) (    2.625000     0.015625) (    2.609375    -0.019287)\n",
      "    6 (    2.609375    -0.019287) (    2.625000     0.015625) (    2.617188    -0.001892)\n",
      "    7 (    2.617188    -0.001892) (    2.625000     0.015625) (    2.621094     0.006851)\n",
      "    8 (    2.617188    -0.001892) (    2.621094     0.006851) (    2.619141     0.002476)\n",
      "    9 (    2.617188    -0.001892) (    2.619141     0.002476) (    2.618164     0.000291)\n",
      "   10 (    2.617188    -0.001892) (    2.618164     0.000291) (    2.617676    -0.000801)\n",
      "   11 (    2.617676    -0.000801) (    2.618164     0.000291) (    2.617920    -0.000255)\n",
      "   12 (    2.617920    -0.000255) (    2.618164     0.000291) (    2.618042     0.000018)\n",
      "   13 (    2.617920    -0.000255) (    2.618042     0.000018) (    2.617981    -0.000119)\n",
      "   14 (    2.617981    -0.000119) (    2.618042     0.000018) (    2.618011    -0.000050)\n",
      "   15 (    2.618011    -0.000050) (    2.618042     0.000018) (    2.618027    -0.000016)\n",
      "   16 (    2.618027    -0.000016) (    2.618042     0.000018) (    2.618034     0.000001)\n",
      "Iterations = 16 Root =  2.61803436279 8.36385879666e-07\n"
     ]
    }
   ],
   "source": [
    "x, k = bisection(f, 2.5, 3.0)\n",
    "print(\"Iterations =\", k, \"Root = \", x, f(x))"
   ]
  },
  {
   "cell_type": "markdown",
   "metadata": {},
   "source": [
    "### False Position Method\n",
    "\n",
    "False position method is similar to the Bisection method but instead of choosing the midpoint of the inetrval as the next guess for the root, computes the intersection of a straight line joning $y_1$ and $y_2$ as the next guess. In most cases, False-position method requires fewer iterations than the Bisection method.\n",
    "\n",
    "$$y_3 = y_1 + \\frac{y_2 - y_1}{x_2 - x_1} (x_3 - x_1) = 0$$\n",
    "Rearranging, we get\n",
    "$$x_3 = x_1 - y_1 \\frac{x_2 - x_1}{y_2 - y_1}$$"
   ]
  },
  {
   "cell_type": "code",
   "execution_count": 5,
   "metadata": {
    "collapsed": false
   },
   "outputs": [
    {
     "name": "stdout",
     "output_type": "stream",
     "text": [
      "    1 (    0.000000     1.000000) (    0.500000    -0.250000) (    0.400000    -0.040000)\n",
      "    2 (    0.000000     1.000000) (    0.400000    -0.040000) (    0.384615    -0.005917)\n",
      "    3 (    0.000000     1.000000) (    0.384615    -0.005917) (    0.382353    -0.000865)\n",
      "    4 (    0.000000     1.000000) (    0.382353    -0.000865) (    0.382022    -0.000126)\n",
      "    5 (    0.000000     1.000000) (    0.382022    -0.000126) (    0.381974    -0.000018)\n",
      "    6 (    0.000000     1.000000) (    0.381974    -0.000018) (    0.381967    -0.000003)\n",
      "    7 (    0.000000     1.000000) (    0.381967    -0.000003) (    0.381966    -0.000000)\n",
      "Iterations = 7 Root =  0.3819661866 -3.92093973733e-07\n"
     ]
    }
   ],
   "source": [
    "def false_pos(f, x1, x2, tol=1e-6, maxiter=30):\n",
    "    y1 = f(x1); y2 = f(x2)\n",
    "\n",
    "    if y1 * y2 > 0:\n",
    "        return None, 0\n",
    "    if abs(y1) <= tol:\n",
    "        return x1, 0\n",
    "    elif abs(y2) <= tol:\n",
    "        return x2, 0\n",
    "    k = 1\n",
    "    xm = x1 - y1 * (x2 - x1) / (y2 - y1)\n",
    "    ym = f(xm)\n",
    "    print(\"%5d (%12.6f %12.6f) (%12.6f %12.6f) (%12.6f %12.6f)\" % (k, x1, y1, x2, y2, xm, ym))\n",
    "    while abs(ym) > tol and k < maxiter:\n",
    "        k += 1\n",
    "        if y1 * ym > 0:\n",
    "            x1 = xm; y1 = ym\n",
    "        else:\n",
    "            x2 = xm; y2 = ym\n",
    "        xm = x1 - y1 * (x2 - x1) / (y2 - y1)\n",
    "        ym = f(xm)\n",
    "        print(\"%5d (%12.6f %12.6f) (%12.6f %12.6f) (%12.6f %12.6f)\" % (k, x1, y1, x2, y2, xm, ym))\n",
    "    if abs(ym) <= tol:\n",
    "        return xm, k\n",
    "    else:\n",
    "        return None, k\n",
    "\n",
    "x, k = false_pos(f, 0, 0.5, 1e-6, 50)\n",
    "print(\"Iterations =\", k, \"Root = \", x, f(x))"
   ]
  },
  {
   "cell_type": "code",
   "execution_count": 6,
   "metadata": {
    "collapsed": false
   },
   "outputs": [
    {
     "name": "stdout",
     "output_type": "stream",
     "text": [
      "    1 (    2.500000    -0.250000) (    3.000000     1.000000) (    2.600000    -0.040000)\n",
      "    2 (    2.600000    -0.040000) (    3.000000     1.000000) (    2.615385    -0.005917)\n",
      "    3 (    2.615385    -0.005917) (    3.000000     1.000000) (    2.617647    -0.000865)\n",
      "    4 (    2.617647    -0.000865) (    3.000000     1.000000) (    2.617978    -0.000126)\n",
      "    5 (    2.617978    -0.000126) (    3.000000     1.000000) (    2.618026    -0.000018)\n",
      "    6 (    2.618026    -0.000018) (    3.000000     1.000000) (    2.618033    -0.000003)\n",
      "    7 (    2.618033    -0.000003) (    3.000000     1.000000) (    2.618034    -0.000000)\n",
      "Iterations = 7 Root =  2.6180338134 -3.92093975066e-07\n"
     ]
    }
   ],
   "source": [
    "x, k = false_pos(f, 2.5, 3.0, 1e-6, 50)\n",
    "print(\"Iterations =\", k, \"Root = \", x, f(x))"
   ]
  },
  {
   "cell_type": "markdown",
   "metadata": {},
   "source": [
    "## Open Methods\n",
    "### Newton - Raphson Method\n",
    "The equation for slope is:\n",
    "$$f'(x) = \\frac{y_{i+1} - y_i}{x_{i+1} - x_i}$$\n",
    "Rearranging and equating $y_{i+1}$ to zero, we get\n",
    "\\begin{align*}\n",
    "y_{i+1} &= y_i + f'(x_i) (x_{i+1} - x_i) = 0 \\\\\n",
    "\\implies x_{i+1} &= x_i - \\frac{y_i}{f'(x_i)}\n",
    "\\end{align*}\n",
    "\n",
    "We must continue the iterations replacing $x_i$ with $x_{i+1}$ and $y_i$ with $y_{i+1}$ until we are close to the root, that is, $| y_{i+1}| \\leq tol$."
   ]
  },
  {
   "cell_type": "code",
   "execution_count": 7,
   "metadata": {
    "collapsed": false
   },
   "outputs": [
    {
     "name": "stdout",
     "output_type": "stream",
     "text": [
      "    1 [  2.666667   0.111111]   2.333333\n",
      "    2 [  2.619048   0.002268]   2.238095\n",
      "    3 [  2.618034   0.000001]   2.236069\n",
      "Iterations = 3 Root = 2.61803444782 Function = 1.02651593359e-06\n"
     ]
    }
   ],
   "source": [
    "def newton_raphson(f, fd, x, tol=1e-6, maxiter=30):\n",
    "    y = f(x)\n",
    "    yd = fd(x)\n",
    "    k = 0\n",
    "    if abs(y) <= tol:\n",
    "        return x, k\n",
    "    while abs(y) > tol and k < maxiter:\n",
    "        k += 1\n",
    "        x = x - y / yd\n",
    "        y = f(x)\n",
    "        yd = fd(x)\n",
    "        print(\"%5d [%10.6f %10.6f] %10.6f\" % (k, x, y, yd))\n",
    "    if abs(y) <= tol:\n",
    "        return x, k\n",
    "    else:\n",
    "        return None, k\n",
    "\n",
    "x, k = newton_raphson(f, fd, 3.0, 1e-3)\n",
    "print(\"Iterations =\", k, \"Root =\", x, \"Function =\", f(x))"
   ]
  },
  {
   "cell_type": "code",
   "execution_count": 8,
   "metadata": {
    "collapsed": false
   },
   "outputs": [
    {
     "name": "stdout",
     "output_type": "stream",
     "text": [
      "    1 [  2.902778   0.717785]   2.805556\n",
      "    2 [  2.646933   0.065456]   2.293867\n",
      "    3 [  2.618398   0.000814]   2.236796\n",
      "    4 [  2.618034   0.000000]   2.236068\n",
      "Iterations = 4 Root = 2.61803404801 Function = 1.3251979869e-07\n"
     ]
    }
   ],
   "source": [
    "x, k = newton_raphson(f, fd, 3.75)\n",
    "print(\"Iterations =\", k, \"Root =\", x, \"Function =\", f(x))"
   ]
  },
  {
   "cell_type": "markdown",
   "metadata": {},
   "source": [
    "### Secant Method\n",
    "Secant method has the advantage that it does not require the derivative of the function whose roots are to be found, but it requires two initial points to start the iterations. However, it is not necessary that the initial points bracket a root. It approximates the slope of the function by evaluating the function at two points and calculating the slope of the secant.\n",
    "\\begin{align*}\n",
    "  y &= y_1 + \\frac{y_2 - y_2}{x_2 - x_1} \\left( x - x_1 \\right) = 0 \\\\\n",
    "  x &= x_1 - \\frac{x_2 - x_1}{y_2 - y_1} y_1\n",
    "\\end{align*}\n",
    "\n",
    "Iterations are continued after updating $x_1$ with $x_2$ and $x_2$ with the new value $x$, and so also with the corresponding values of $y_1$ and $y_2$."
   ]
  },
  {
   "cell_type": "code",
   "execution_count": 14,
   "metadata": {
    "collapsed": false
   },
   "outputs": [
    {
     "name": "stdout",
     "output_type": "stream",
     "text": [
      "    1 [  2.500000  -0.250000] [  3.000000   1.000000] [  2.600000  -0.040000]\n",
      "    2 [  3.000000   1.000000] [  2.600000  -0.040000] [  2.615385  -0.005917]\n",
      "    3 [  2.600000  -0.040000] [  2.615385  -0.005917] [  2.618056   0.000048]\n",
      "    4 [  2.615385  -0.005917] [  2.618056   0.000048] [  2.618034  -0.000000]\n",
      "Iterations = 4 Root = 2.61803396317 Function = -5.72057476944e-08\n"
     ]
    }
   ],
   "source": [
    "def secant(f, x1, x2, tol=1e-6, maxiter=30):\n",
    "    y1 = f(x1); y2 = f(x2)\n",
    "    xnew = x1 - (x2 - x1) / (y2 - y1) * y1\n",
    "    ynew = f(xnew)\n",
    "    k = 1\n",
    "    print(\"%5d [%10.6f %10.6f] [%10.6f %10.6f] [%10.6f %10.6f]\" % (k, x1, y1, x2, y2, xnew, ynew))\n",
    "    if abs(ynew) <= tol:\n",
    "        return xnew, k\n",
    "\n",
    "    while abs(ynew) > tol and k < maxiter:\n",
    "        k += 1\n",
    "        x1 = x2; y1 = y2\n",
    "        x2 = xnew; y2 = ynew\n",
    "        xnew = x1 - (x2 - x1) / (y2 - y1) * y1\n",
    "        ynew = f(xnew)\n",
    "        print(\"%5d [%10.6f %10.6f] [%10.6f %10.6f] [%10.6f %10.6f]\" % (k, x1, y1, x2, y2, xnew, ynew))\n",
    "    if abs(ynew) <= tol:\n",
    "        return xnew, k\n",
    "    else:\n",
    "        return None, k\n",
    "\n",
    "x, k = secant(f, 2.5, 3.0)\n",
    "print(\"Iterations =\", k, \"Root =\", x, \"Function =\", f(x))"
   ]
  },
  {
   "cell_type": "markdown",
   "metadata": {},
   "source": [
    "The root you will find is sensitive to the starting points and you may not always converge to the same root if you start from different points."
   ]
  },
  {
   "cell_type": "code",
   "execution_count": 16,
   "metadata": {
    "collapsed": false
   },
   "outputs": [
    {
     "name": "stdout",
     "output_type": "stream",
     "text": [
      "    1 [  2.500000  -0.250000] [  3.000000   1.000000] [  2.600000  -0.040000]\n",
      "    2 [  3.000000   1.000000] [  2.600000  -0.040000] [  2.615385  -0.005917]\n",
      "    3 [  2.600000  -0.040000] [  2.615385  -0.005917] [  2.618056   0.000048]\n",
      "    4 [  2.615385  -0.005917] [  2.618056   0.000048] [  2.618034  -0.000000]\n",
      "Iterations = 4 Root = 2.61803396317 Function = -5.72057476944e-08\n",
      "\n",
      "    1 [  0.000000   1.000000] [  0.500000  -0.250000] [  0.400000  -0.040000]\n",
      "    2 [  0.500000  -0.250000] [  0.400000  -0.040000] [  0.380952   0.002268]\n",
      "    3 [  0.400000  -0.040000] [  0.380952   0.002268] [  0.381974  -0.000018]\n",
      "    4 [  0.380952   0.002268] [  0.381974  -0.000018] [  0.381966  -0.000000]\n",
      "Iterations = 4 Root = 0.381966014983 Function = -8.34620617063e-09\n"
     ]
    }
   ],
   "source": [
    "x, k = secant(f, 2.5, 3.0)\n",
    "print(\"Iterations =\", k, \"Root =\", x, \"Function =\", f(x))\n",
    "print()\n",
    "x, k = secant(f, 0.0, 0.5)\n",
    "print(\"Iterations =\", k, \"Root =\", x, \"Function =\", f(x))"
   ]
  },
  {
   "cell_type": "markdown",
   "metadata": {},
   "source": [
    "SciPy package has a submodule **`optimize`** that contains functions to find roots of equations of one variable. Below, we call these functions to find the roots of the same function $f(x) = x^2 - 3x + 1=0$, whose first derivative is $f'(x) = 2x - 3$."
   ]
  },
  {
   "cell_type": "code",
   "execution_count": 33,
   "metadata": {
    "collapsed": false
   },
   "outputs": [
    {
     "name": "stdout",
     "output_type": "stream",
     "text": [
      "0.38196601125\n",
      "7\n",
      "Bisection Method: 2.61803398875\n",
      "Secant Method: 2.61803398875\n",
      "Newton-Raphson Method: 2.61803398875\n"
     ]
    }
   ],
   "source": [
    "import scipy.optimize as spopt\n",
    "\n",
    "root, res = spopt.brentq(f, 0.0, 0.5, full_output=True)\n",
    "print(root)\n",
    "print(res.iterations)\n",
    "\n",
    "x0 = spopt.bisect(f, 2.0, 3.0)\n",
    "print('Bisection Method:', x0)\n",
    "\n",
    "x0 = spopt.newton(f, 3.0)\n",
    "print('Secant Method:', x0)\n",
    "\n",
    "x0 = spopt.newton(f, 3.0, fd)\n",
    "print('Newton-Raphson Method:', x0)"
   ]
  },
  {
   "cell_type": "code",
   "execution_count": 41,
   "metadata": {
    "collapsed": false
   },
   "outputs": [
    {
     "name": "stdout",
     "output_type": "stream",
     "text": [
      "    1 (   12.000000     0.452647) (   16.000000    -0.420719) (   14.073116     0.406633)\n",
      "    2 (   14.073116     0.406633) (   16.000000    -0.420719) (   15.020155    -0.087483)\n",
      "    3 (   14.073116     0.406633) (   15.020155    -0.087483) (   14.852482     0.074802)\n",
      "    4 (   14.852482     0.074802) (   15.020155    -0.087483) (   14.929768    -0.305743)\n",
      "    5 (   14.852482     0.074802) (   14.929768    -0.305743) (   14.867674    -0.039636)\n",
      "    6 (   14.852482     0.074802) (   14.867674    -0.039636) (   14.862412    -0.001936)\n",
      "Iterations = 6 Root =  14.8624123068 -0.00193553842547\n",
      "\n",
      "Bisection Method: 14.8621498612\n",
      "Secant Method: 11.962218181\n"
     ]
    },
    {
     "ename": "RuntimeError",
     "evalue": "Failed to converge after 50 iterations, value is 3.47269874237",
     "output_type": "error",
     "traceback": [
      "\u001b[1;31m---------------------------------------------------------------------------\u001b[0m",
      "\u001b[1;31mRuntimeError\u001b[0m                              Traceback (most recent call last)",
      "\u001b[1;32m<ipython-input-41-4e227a4e739a>\u001b[0m in \u001b[0;36m<module>\u001b[1;34m()\u001b[0m\n\u001b[0;32m     14\u001b[0m \u001b[1;32mprint\u001b[0m\u001b[1;33m(\u001b[0m\u001b[1;34m'Secant Method:'\u001b[0m\u001b[1;33m,\u001b[0m \u001b[0mx0\u001b[0m\u001b[1;33m)\u001b[0m\u001b[1;33m\u001b[0m\u001b[0m\n\u001b[0;32m     15\u001b[0m \u001b[1;33m\u001b[0m\u001b[0m\n\u001b[1;32m---> 16\u001b[1;33m \u001b[0mx0\u001b[0m \u001b[1;33m=\u001b[0m \u001b[0mspopt\u001b[0m\u001b[1;33m.\u001b[0m\u001b[0mnewton\u001b[0m\u001b[1;33m(\u001b[0m\u001b[0mf\u001b[0m\u001b[1;33m,\u001b[0m \u001b[1;36m12.0\u001b[0m\u001b[1;33m,\u001b[0m \u001b[0mf1d\u001b[0m\u001b[1;33m)\u001b[0m\u001b[1;33m\u001b[0m\u001b[0m\n\u001b[0m\u001b[0;32m     17\u001b[0m \u001b[1;32mprint\u001b[0m\u001b[1;33m(\u001b[0m\u001b[1;34m'Newton-Raphson Method:'\u001b[0m\u001b[1;33m,\u001b[0m \u001b[0mx0\u001b[0m\u001b[1;33m,\u001b[0m \u001b[0mmaxiter\u001b[0m\u001b[1;33m=\u001b[0m\u001b[1;36m100\u001b[0m\u001b[1;33m)\u001b[0m\u001b[1;33m\u001b[0m\u001b[0m\n",
      "\u001b[1;32mC:\\Anaconda\\lib\\site-packages\\scipy\\optimize\\zeros.pyc\u001b[0m in \u001b[0;36mnewton\u001b[1;34m(func, x0, fprime, args, tol, maxiter, fprime2)\u001b[0m\n\u001b[0;32m    159\u001b[0m             \u001b[0mq1\u001b[0m \u001b[1;33m=\u001b[0m \u001b[0mfunc\u001b[0m\u001b[1;33m(\u001b[0m\u001b[1;33m*\u001b[0m\u001b[1;33m(\u001b[0m\u001b[1;33m(\u001b[0m\u001b[0mp1\u001b[0m\u001b[1;33m,\u001b[0m\u001b[1;33m)\u001b[0m \u001b[1;33m+\u001b[0m \u001b[0margs\u001b[0m\u001b[1;33m)\u001b[0m\u001b[1;33m)\u001b[0m\u001b[1;33m\u001b[0m\u001b[0m\n\u001b[0;32m    160\u001b[0m     \u001b[0mmsg\u001b[0m \u001b[1;33m=\u001b[0m \u001b[1;34m\"Failed to converge after %d iterations, value is %s\"\u001b[0m \u001b[1;33m%\u001b[0m \u001b[1;33m(\u001b[0m\u001b[0mmaxiter\u001b[0m\u001b[1;33m,\u001b[0m \u001b[0mp\u001b[0m\u001b[1;33m)\u001b[0m\u001b[1;33m\u001b[0m\u001b[0m\n\u001b[1;32m--> 161\u001b[1;33m     \u001b[1;32mraise\u001b[0m \u001b[0mRuntimeError\u001b[0m\u001b[1;33m(\u001b[0m\u001b[0mmsg\u001b[0m\u001b[1;33m)\u001b[0m\u001b[1;33m\u001b[0m\u001b[0m\n\u001b[0m\u001b[0;32m    162\u001b[0m \u001b[1;33m\u001b[0m\u001b[0m\n\u001b[0;32m    163\u001b[0m \u001b[1;33m\u001b[0m\u001b[0m\n",
      "\u001b[1;31mRuntimeError\u001b[0m: Failed to converge after 50 iterations, value is 3.47269874237"
     ]
    }
   ],
   "source": [
    "def f1(x):\n",
    "    return np.sin(10*x) + np.cos(3*x)\n",
    "\n",
    "def f1d(x):\n",
    "    return 10.0*np.cos(10.0*x) - 3.0*np.sin(3.0*x)\n",
    "\n",
    "x, k = false_pos(f1, 12, 16, 1e-2, 50)\n",
    "print(\"Iterations =\", k, \"Root = \", x, func(x))\n",
    "print()\n",
    "x0 = spopt.bisect(f1, 12.0, 16.0)\n",
    "print('Bisection Method:', x0)\n",
    "\n",
    "x0 = spopt.newton(f1, 12.0)\n",
    "print('Secant Method:', x0)\n",
    "\n",
    "x0 = spopt.newton(f, 12.0, f1d)\n",
    "print('Newton-Raphson Method:', x0, maxiter=100)"
   ]
  },
  {
   "cell_type": "code",
   "execution_count": null,
   "metadata": {
    "collapsed": false
   },
   "outputs": [],
   "source": []
  }
 ],
 "metadata": {
  "kernelspec": {
   "display_name": "Python 2",
   "language": "python",
   "name": "python2"
  },
  "language_info": {
   "codemirror_mode": {
    "name": "ipython",
    "version": 2
   },
   "file_extension": ".py",
   "mimetype": "text/x-python",
   "name": "python",
   "nbconvert_exporter": "python",
   "pygments_lexer": "ipython2",
   "version": "2.7.9"
  }
 },
 "nbformat": 4,
 "nbformat_minor": 0
}
