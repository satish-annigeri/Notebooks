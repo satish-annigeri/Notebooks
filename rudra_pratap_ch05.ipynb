{
 "cells": [
  {
   "cell_type": "markdown",
   "metadata": {},
   "source": [
    "# Chapter 5. Applications"
   ]
  },
  {
   "cell_type": "markdown",
   "metadata": {},
   "source": [
    "## 5.1 Linear Algebra"
   ]
  },
  {
   "cell_type": "markdown",
   "metadata": {},
   "source": [
    "### 5.1.1 Solving a linear system"
   ]
  },
  {
   "cell_type": "code",
   "execution_count": 2,
   "metadata": {
    "collapsed": false
   },
   "outputs": [
    {
     "name": "stdout",
     "output_type": "stream",
     "text": [
      "[ 3.44419134  3.19817768  1.18678815]\n",
      "[ 10.  20.   9.]\n"
     ]
    }
   ],
   "source": [
    "import numpy as np\n",
    "from numpy.linalg import solve\n",
    "\n",
    "A = np.array([[5, -3, 2], [-3, 8, 4], [2, 4, -9]], dtype=float)\n",
    "b = np.array([10, 20, 9], dtype=float)\n",
    "x = solve(A, b)\n",
    "print x\n",
    "c = np.dot(A, x)\n",
    "print c"
   ]
  },
  {
   "cell_type": "markdown",
   "metadata": {},
   "source": [
    "## 5.1.2 Gaussian elimination"
   ]
  },
  {
   "cell_type": "code",
   "execution_count": 3,
   "metadata": {
    "collapsed": false
   },
   "outputs": [
    {
     "name": "stdout",
     "output_type": "stream",
     "text": [
      "[[ 5. -3.  2.]\n",
      " [-3.  8.  4.]\n",
      " [ 2.  4. -9.]] [[ 10.]\n",
      " [ 20.]\n",
      " [  9.]]\n",
      "(Matrix([\n",
      "[1.0,   0,   0, 3.44419134396355],\n",
      "[  0, 1.0,   0, 3.19817767653759],\n",
      "[  0,   0, 1.0, 1.18678815489749]]), [0, 1, 2])\n"
     ]
    }
   ],
   "source": [
    "from sympy import symbols, Function, Matrix, init_printing\n",
    "\n",
    "x, y, z, t = symbols('x y z t')          # Symbols representing real numbers\n",
    "k, m, n = symbols('k m n', integer=True) # Symbols representing integers\n",
    "f, g, h = symbols('f g h', cls=Function) # Symbols repesenting function names\n",
    "init_printing()\n",
    "\n",
    "A = np.array([[5, -3, 2], [-3, 8, 4], [2, 4, -9]], dtype=float)\n",
    "b = np.array([[10], [20], [9]], dtype=float)\n",
    "print A, b\n",
    "C = np.concatenate((A, b), axis=1)\n",
    "Cr = Matrix(C).rref()\n",
    "print Cr"
   ]
  },
  {
   "cell_type": "markdown",
   "metadata": {},
   "source": [
    "### 5.1.3 Finding eigenvalues and eigenvectors"
   ]
  },
  {
   "cell_type": "code",
   "execution_count": 4,
   "metadata": {
    "collapsed": false
   },
   "outputs": [
    {
     "name": "stdout",
     "output_type": "stream",
     "text": [
      "Eigenvalues\n",
      "[-10.22062687   4.42464106   9.7959858 ]\n",
      "Eigenvectors\n",
      "[[ 0.17254241  0.87060637 -0.53754162]\n",
      " [ 0.23822812  0.37738965  0.84287515]\n",
      " [-0.95575963  0.31562891 -0.02470826]]\n"
     ]
    }
   ],
   "source": [
    "A = np.array([[5, -3, 2], [-3, 8, 4], [4, 2, -9]], dtype=float)\n",
    "[V, D] = np.linalg.eig(A)\n",
    "print 'Eigenvalues\\n', V\n",
    "print 'Eigenvectors\\n', D"
   ]
  },
  {
   "cell_type": "markdown",
   "metadata": {},
   "source": [
    "### 5.1.4 Matrix factorizations"
   ]
  },
  {
   "cell_type": "code",
   "execution_count": 5,
   "metadata": {
    "collapsed": false
   },
   "outputs": [
    {
     "name": "stdout",
     "output_type": "stream",
     "text": [
      "[[-7.07106781  4.38406204  5.37401154]\n",
      " [-0.         -7.60131568  2.04701405]\n",
      " [ 0.          0.         -8.24194962]]\n"
     ]
    }
   ],
   "source": [
    "A = np.array([[5, -3, 2], [-3, 8, 4], [4, 2, -9]], dtype=float)\n",
    "[Q, R] = np.linalg.qr(A)\n",
    "print R"
   ]
  },
  {
   "cell_type": "code",
   "execution_count": 6,
   "metadata": {
    "collapsed": false
   },
   "outputs": [
    {
     "name": "stdout",
     "output_type": "stream",
     "text": [
      "U =\n",
      "[[ 0.19746661  0.4956575   0.84577218]\n",
      " [-0.68275873 -0.54956546  0.48147515]\n",
      " [ 0.70345395 -0.67253361  0.22989366]]\n",
      "D =\n",
      "[ 11.44271549   8.82037309   4.38922325]\n",
      "V =\n",
      "[[ 0.51119203 -0.40615899 -0.75744147]\n",
      " [ 0.16290121 -0.81953034  0.5493935 ]\n",
      " [ 0.84388737  0.40423371  0.35277359]]\n"
     ]
    }
   ],
   "source": [
    "[U, D, V] = np.linalg.svd(A)\n",
    "print 'U =\\n', U\n",
    "print 'D =\\n', D\n",
    "print 'V =\\n', V"
   ]
  },
  {
   "cell_type": "code",
   "execution_count": 7,
   "metadata": {
    "collapsed": false
   },
   "outputs": [
    {
     "name": "stdout",
     "output_type": "stream",
     "text": [
      "[[ 2.23606798  0.          0.        ]\n",
      " [-1.34164079  2.48997992  0.        ]\n",
      " [ 0.89442719  2.08837026  1.95926253]]\n"
     ]
    }
   ],
   "source": [
    "A = np.array([[5, -3, 2], [-3, 8, 4], [2, 4, 9]], dtype=float)\n",
    "R = np.linalg.cholesky(A)\n",
    "print R"
   ]
  },
  {
   "cell_type": "markdown",
   "metadata": {},
   "source": [
    "## 5.2 Curve Fitting and Interpolation"
   ]
  },
  {
   "cell_type": "code",
   "execution_count": 8,
   "metadata": {
    "collapsed": false
   },
   "outputs": [
    {
     "data": {
      "image/png": "[encoded data removed]",
      "text/plain": [
       "<matplotlib.figure.Figure at 0x15dfdfd0>"
      ]
     },
     "metadata": {},
     "output_type": "display_data"
    }
   ],
   "source": [
    "import matplotlib.pyplot as plt\n",
    "%matplotlib inline\n",
    "\n",
    "x = np.array([5, 10, 20, 50, 100], dtype=float)\n",
    "y = np.array([15, 33, 53, 140, 301], dtype=float)\n",
    "\n",
    "p1 = np.polyfit(x, y, 1)\n",
    "y1 = np.polyval(p1, x)\n",
    "\n",
    "p2 = np.polyfit(x, y, 2)\n",
    "y2 = np.polyval(p2, x)\n",
    "\n",
    "p3 = np.polyfit(x, y, 3)\n",
    "y3 = np.polyval(p3, x)\n",
    "\n",
    "plt.plot(x, y, 'bo--', label='Raw Data')\n",
    "plt.plot(x, y1, label='n = 1')\n",
    "plt.plot(x, y2, label='n = 2')\n",
    "plt.plot(x, y3, label='n = 3')\n",
    "plt.grid()\n",
    "plt.xlabel('x')\n",
    "plt.ylabel('y')\n",
    "plt.legend(loc=2)\n",
    "plt.show()"
   ]
  },
  {
   "cell_type": "markdown",
   "metadata": {},
   "source": [
    "## 5.4 Numerical Integration (Quadrature)"
   ]
  },
  {
   "cell_type": "code",
   "execution_count": 9,
   "metadata": {
    "collapsed": false
   },
   "outputs": [
    {
     "name": "stdout",
     "output_type": "stream",
     "text": [
      "(0.39490738721210866, 4.3843527387744516e-15)\n"
     ]
    }
   ],
   "source": [
    "import scipy.integrate as spint\n",
    "\n",
    "def erfcousin(x):\n",
    "    return np.exp(-x**2)\n",
    "\n",
    "y = spint.quad(erfcousin, 1/2.0, 3/2.0)\n",
    "print y"
   ]
  },
  {
   "cell_type": "markdown",
   "metadata": {},
   "source": [
    "### 5.4.1 Double integration"
   ]
  },
  {
   "cell_type": "code",
   "execution_count": 10,
   "metadata": {
    "collapsed": false
   },
   "outputs": [
    {
     "name": "stdout",
     "output_type": "stream",
     "text": [
      "(-3.9999999999999996, 5.55733536161384e-14)\n"
     ]
    }
   ],
   "source": [
    "def f(x, y):\n",
    "    return 1.0 - 6.0 * x**2 * y\n",
    "\n",
    "I = spint.dblquad(f, 0, 2.0, lambda x : -1, lambda x : 1)\n",
    "print I"
   ]
  },
  {
   "cell_type": "markdown",
   "metadata": {},
   "source": [
    "## 5.5 Ordinary DIfferential Equations"
   ]
  },
  {
   "cell_type": "code",
   "execution_count": 11,
   "metadata": {
    "collapsed": false
   },
   "outputs": [
    {
     "data": {
      "image/png": "[encoded data removed]",
      "text/plain": [
       "<matplotlib.figure.Figure at 0x14d0f160>"
      ]
     },
     "metadata": {},
     "output_type": "display_data"
    }
   ],
   "source": [
    "def simpmode(t, x):\n",
    "    return x + t\n",
    "\n",
    "t = np.arange(0, 2, 0.1)\n",
    "x0 = 0\n",
    "x = spint.odeint(simpmode, x0, t)\n",
    "\n",
    "plt.plot(t, x)\n",
    "plt.grid()\n",
    "plt.show()"
   ]
  },
  {
   "cell_type": "markdown",
   "metadata": {},
   "source": [
    "## 5.6 Nonlinear Algebraic Equations"
   ]
  },
  {
   "cell_type": "markdown",
   "metadata": {},
   "source": [
    "Solve the following transcendental equation\n",
    "$$\\sin(x) = e^x - 5$$\n",
    "Write the equation in standard form:\n",
    "$$\\sin(x) - e^x + 5 \\Rightarrow f(x) = \\sin(x) - e^x + 5$$"
   ]
  },
  {
   "cell_type": "code",
   "execution_count": 12,
   "metadata": {
    "collapsed": false
   },
   "outputs": [
    {
     "name": "stdout",
     "output_type": "stream",
     "text": [
      "1.78784147462 1.01252339846e-13\n"
     ]
    }
   ],
   "source": [
    "import scipy.optimize as spopt\n",
    "\n",
    "def transf(x):\n",
    "    return np.sin(x) - np.exp(x) + 5\n",
    "\n",
    "r = spopt.newton(transf, 1)\n",
    "print r, transf(r)"
   ]
  },
  {
   "cell_type": "raw",
   "metadata": {},
   "source": [
    "spopt.root(transf, 1)"
   ]
  },
  {
   "cell_type": "markdown",
   "metadata": {},
   "source": [
    "### 5.6.1 Roots of polynomials"
   ]
  },
  {
   "cell_type": "markdown",
   "metadata": {},
   "source": [
    "Polynomial equation\n",
    "$$x^5 - 3x^3 + x^2 - 9 = 0$$\n",
    "The coefficients are\n",
    "$$(1) x^5 + (0) x^4 + (-3) x^3 + (1) x^2 + (0) x + (-9) = 0$$"
   ]
  },
  {
   "cell_type": "code",
   "execution_count": 13,
   "metadata": {
    "collapsed": false
   },
   "outputs": [
    {
     "name": "stdout",
     "output_type": "stream",
     "text": [
      "[ 1.93160185+0.j          0.58983307+1.19342825j  0.58983307-1.19342825j\n",
      " -1.55563399+0.4573533j  -1.55563399-0.4573533j ]\n"
     ]
    }
   ],
   "source": [
    "p = np.poly1d([1, 0, -3, 1, 0, -9.0])\n",
    "print p.r"
   ]
  },
  {
   "cell_type": "code",
   "execution_count": 14,
   "metadata": {
    "collapsed": false
   },
   "outputs": [
    {
     "name": "stdout",
     "output_type": "stream",
     "text": [
      "[ 1.93160185+0.j          0.58983307+1.19342825j  0.58983307-1.19342825j\n",
      " -1.55563399+0.4573533j  -1.55563399-0.4573533j ]\n"
     ]
    }
   ],
   "source": [
    "print np.roots(p)"
   ]
  },
  {
   "cell_type": "code",
   "execution_count": 14,
   "metadata": {
    "collapsed": false
   },
   "outputs": [],
   "source": []
  }
 ],
 "metadata": {
  "kernelspec": {
   "display_name": "Python 2",
   "language": "python",
   "name": "python2"
  },
  "language_info": {
   "codemirror_mode": {
    "name": "ipython",
    "version": 2
   },
   "file_extension": ".py",
   "mimetype": "text/x-python",
   "name": "python",
   "nbconvert_exporter": "python",
   "pygments_lexer": "ipython2",
   "version": "2.7.11"
  }
 },
 "nbformat": 4,
 "nbformat_minor": 0
}
