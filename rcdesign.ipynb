{
 "cells": [
  {
   "cell_type": "markdown",
   "metadata": {},
   "source": [
    "# Design of Reinforced Concrete Sections as per IS 456:2000\n",
    "While reinforced concrete sections can have any shape, the most commonly used sections are the rectangular, flanged (T and L) and circular sections. The simplest of these is the rectangular section. IS 456 prescribes both the limit state method and working stress method. Of these, limit state method is more commonly used, however, certain types of structures are required to be design using working stress method. Some examples of such structures are liquid retaining structures and bridges. We will begin with the limit state method of design and first take up rectangular sections.\n",
    "\n",
    "The basic parameters required in the design of reinforced concrete sections are characteristic strengths of materials, partial safety factors for materials and the stress strain relations for the materials. All further derivations will be derived from these fundamental parameters. We will use the notations from IS 456:2000\n",
    "\n",
    "1. Characteristic strength of concrete $f_{ck}$: Depends on the grade of concrete, which can be from M20 to M80. The corresponding characteristic strengths, in N/mm$^2$ are 20 and 80, respectively.\n",
    "2. Characteristic strength of strength of steel $f_y$: Depends on the grade of steel, which can be one of Mild steel, Fe 415 and Fe 500. The corresponding characteristic strengths, in N/mm$^2$ are 250, 415 and 500 respectively.\n",
    "3. The partial safety factor for material is 1.5 for concrete and 1.15 for steel.\n",
    "4. For the limit state of collapse by flexure is defined in terms of the following parameters:\n",
    "   1. For design purposes, the compressive strength of concrete is obtained as $0.67 \\frac{f_{ck}}{\\gamma_m} = 0.67 \\frac{f_{ck}}{1.5} = 0.446 f_{ck}$\n",
    "   2. The tensile strength of concrete is ignored\n",
    "   3. The stresses in the reinforcement are derived from representative stress-strain for the type of steel used. For design purposes, design strength of steel in tension and compression is assumed to be identical and is taken as $\\frac{f_y}{\\gamma_m} = \\frac{f_y}{1.15} = 0.87 f_y$\n",
    "   4. The strain in tension reinforcement in the section at failure shall not be less than $\\frac{f_y}{1.15 E_s} + 0.002 = 0.87 f_y/E_s + 0.002$\n",
    "\n",
    "## Stress Strain Curve of Concrete\n",
    "The stress strain curve for concrete for the limit state of collapse in flexure is specified with the help of following parameters:\n",
    "\n",
    "1. The yield strain of concrete is $\\varepsilon_{cy} = 0.002$\n",
    "2. The maximum strain in concrete is $\\varepsilon_{cu} = 0.0035$\n",
    "3. The stress strain relation is parabolic up to yield and subsequently it is constant up to the maximum strain of 0.0035\n",
    "\n",
    "## Stress Strain Curve for Mild Steel\n",
    "The stress strain curve for mild steel is bilinear and is specified as follows:\n",
    "\n",
    "1. From zero strain to yield strain $0.87 f_y / E_s$, stress varies linearly and the modulus of elasticity is $E_s = 2 \\times 10^5$ N/mm$^2$\n",
    "2. After yield, stress remains constant at $0.87 f_y$\n",
    "3. Steel is assumed to be infinitely ductile and hence is assumed to be capable of undergoing infinite strains withour breaking\n",
    "\n",
    "## Stress Strain Curve for Cold Worked Steels\n",
    "The stress strain curve for cold worked steels is defined in terms of a series of straight lines, with the modulus of elasticity at start same as that for mild steel, namely, $E_s = 2 \\times 10^5$ N/mm$^2$. The code specifies stress for different levels of inelastic strain."
   ]
  },
  {
   "cell_type": "code",
   "execution_count": 40,
   "metadata": {
    "collapsed": false
   },
   "outputs": [
    {
     "name": "stdout",
     "output_type": "stream",
     "text": [
      "-0.01 0.0\n",
      "0.0 0.0\n",
      "0.001 0.335\n",
      "0.002 0.446666666667\n",
      "0.003 0.446666666667\n",
      "0.0035 0.446666666667\n",
      "0.004 0.0\n"
     ]
    },
    {
     "data": {
      "image/png": "[encoded data removed]",
      "text/plain": [
       "<matplotlib.figure.Figure at 0xa885a20>"
      ]
     },
     "metadata": {},
     "output_type": "display_data"
    },
    {
     "data": {
      "image/png": "[encoded data removed]",
      "text/plain": [
       "<matplotlib.figure.Figure at 0xb656240>"
      ]
     },
     "metadata": {},
     "output_type": "display_data"
    }
   ],
   "source": [
    "%matplotlib inline\n",
    "import math\n",
    "import numpy as np\n",
    "import matplotlib.pyplot as plt\n",
    "\n",
    "ecy = 0.002\n",
    "ecu = 0.0035\n",
    "Es = 2.0e5\n",
    "gamma_c = 1.5\n",
    "gamma_s = 1.15\n",
    "\n",
    "def fc(e):\n",
    "    if e < 0:\n",
    "        return 0.0\n",
    "    elif e < ecy:\n",
    "        return 0.67 / 1.5 * (e / ecy) * (2.0 - (e / ecy))\n",
    "    elif e <= ecu:\n",
    "        return 0.67 / 1.5\n",
    "    else:\n",
    "        return 0.0\n",
    "\n",
    "def interpolate(x, y, xx):\n",
    "    if xx < x[0]:\n",
    "        return None\n",
    "    elif xx > x[-1]:\n",
    "        return None\n",
    "    for i in range(len(x)-1):\n",
    "        x1 = x[i]\n",
    "        if xx == x1:\n",
    "            return (y[i])\n",
    "        elif xx == x[i+1]:\n",
    "            return y[i+1]\n",
    "        elif xx < x[i+1]:\n",
    "            y1 = y[i]\n",
    "            x2 = x[i+1]\n",
    "            y2 = y[i+1]\n",
    "            yy = y1 + (y2 - y1) / (x2 - x1) * (xx - x1)\n",
    "            return yy\n",
    "\n",
    "def fs_cw_stress_strain(fy):\n",
    "    inelstrain = np.array([0.0, 0.0, 0.0001, 0.0003, 0.0007, 0.001, 0.002], dtype=float)\n",
    "    sigma = np.array([0.0, 0.8, 0.85, 0.90, 0.95, 0.975, 1.0, 1.0], dtype=float)\n",
    "    eps = np.zeros(sigma.shape, dtype=float)\n",
    "\n",
    "    for i in range(1,len(inelstrain)):\n",
    "        sigma[i] *= (fy / 1.15)\n",
    "        eps[i] = (sigma[i] / Es) + inelstrain[i]\n",
    "    sigma[-1] = sigma[-2]\n",
    "    eps[-1] = np.inf\n",
    "    return eps, sigma\n",
    "\n",
    "def fs(e, fy, steel='mild steel'):\n",
    "    e = abs(e)\n",
    "    esy = fy / gamma_s / Es\n",
    "\n",
    "    if steel == 'mild steel':\n",
    "        if e < esy:\n",
    "            return e * Es\n",
    "        else:\n",
    "            return fy / gamma_s\n",
    "    elif steel == 'cold worked steel':\n",
    "        pass\n",
    "    return\n",
    "\n",
    "if __name__ == '__main__':\n",
    "    print -0.01, fc(-0.01)\n",
    "    print 0.0, fc(0.0)\n",
    "    print 0.001, fc(0.001)\n",
    "    print 0.002, fc(0.002)\n",
    "    print 0.003, fc(0.003)\n",
    "    print 0.0035, fc(0.0035)\n",
    "    print 0.004, fc(0.004)\n",
    "\n",
    "    x = np.linspace(0, 0.0035, 201)\n",
    "    y = np.zeros(x.shape, dtype=float)\n",
    "    for i in range(len(x)):\n",
    "        y[i] = fc(x[i])\n",
    "    plt.plot(x, y)\n",
    "    plt.ylim(0.0, 0.5)\n",
    "    plt.grid()\n",
    "    plt.show()\n",
    "\n",
    "    x = np.linspace(0, 0.002, 1001)\n",
    "    y = np.zeros(x.shape, dtype=float)\n",
    "    for i in range(len(x)):\n",
    "        y[i] = fs(x[i], 250)\n",
    "    plt.plot(x, y)\n",
    "    plt.grid()\n",
    "    plt.show()"
   ]
  },
  {
   "cell_type": "code",
   "execution_count": 42,
   "metadata": {
    "collapsed": false
   },
   "outputs": [
    {
     "name": "stdout",
     "output_type": "stream",
     "text": [
      "None\n",
      "0.0\n",
      "200.0\n",
      "327.583148559\n",
      "360.869565217\n"
     ]
    }
   ],
   "source": [
    "eps, str = fs_cw_stress_strain(415)\n",
    "\n",
    "print interpolate(eps, str, -0.01)\n",
    "print interpolate(eps, str, 0)\n",
    "print interpolate(eps, str, 0.001)\n",
    "print interpolate(eps, str, 0.002)\n",
    "print interpolate(eps, str, 0.005)"
   ]
  },
  {
   "cell_type": "markdown",
   "metadata": {},
   "source": [
    "## Rectangular Sections\n",
    "\n",
    "A rectangular section with reinforcement only on the tension side is the simplest possible section. Depending on the dimensions of the cross section, grades of steel and concrete used and the amount of reinforcement provided, the section can be classified as an under-reinforced, balanced or an over-reinforced section. If the area of reinforcement provided is such that steel reaches its specified minimum strain at the same time when strain in the extreme concrete fibre reaches its breaking strain, the section is said to be **balanced**.\n",
    "\n",
    "On the other hand, if when concrete reaches its breaking strain steel has not yet reached its minimum specified strain, section is said to be **over-reinforced**. This occurs when the area of tension reinforcement provided is more than what is required for a balanced section. Concrete fails before steel, and being a brittle material, section fails without giving sufficient advance warning.\n",
    "\n",
    "If the strain in steel is more than the specified minimum starin when concrete reaches its breaking strain, section is said to be **under-reinforced**. This occurs when the area of reinforcement provided is less than that required by a balanced section. In this case, steel fails first, but being a ductile material, it does not break immediately. It is capable of undergoing large deformations beyond yield without breaking, thereby giving concrete sufficient opportunity to reach its breaking strain. Failure of such a section is gradual and there is sufficient advance warning before the section collapses.\n",
    "\n",
    "It is a preferred method of design to provde a depth greater than the depth of a balanced section. Thus the capacity of the section is greater than the required design moment if the section is designed as a balanced section. It is thus possible to generate the required resistance equal to the design moment by providing area of reinforcement less than that for a balanced section, thereby making the section under-reinforced.\n",
    "\n",
    "### Balanced Section\n",
    "A balanced section must have a specified depth if it is to generate a resisting moment exactly equal to the design moment and have the required strains in tension steel and concrete at the same instant of time. This can be obtained by equating the ratio of the sides of the similar triangles.\n",
    "\n",
    "$$\\frac{x_{u, max}}{0.0035} = \\frac{d - x_{u, max}}{0.002 + \\frac{0.87 f_y}{E_s}}$$\n",
    "\n",
    "Solving for $x_{u, max}$ we get $\\frac{x_{u, max}}{d} = \\frac{0.0035}{0.0055 + \\frac{0.87 f_y}{E_s}}$\n",
    "\n",
    "A rectangular section having this exact depth would be a balanced section when it is provided with the exact area of steel required by a balanced section, obtained by equating the magnitudes of the compressive force in concrete with the tensile force in steel.\n",
    "\n",
    "$$A_{st, lim} (0.87 f_y) = 0.36 f_{ck} b x_{u, max}$$\n",
    "\n",
    "Solving for $A_{st, lim}$, we get $A_{st, lim} = \\frac{0.36 f_{ck} b x_{u, max}}{0.87 f_y}$. This can be written as\n",
    "\n",
    "$$p_{t, lim} =  \\frac{A_{st, lim}}{b d} \\cdot 100 = \\frac{0.36 f_{ck}}{0.87 f_y} \\cdot \\frac{x_{u, max}}{d} \\cdot 100$$\n",
    "\n",
    "When the above exact area of steel is provided, the balanced section generates the maximum possible moment of resistance (without providing compression steel). This moment can be calculated by the moment due to the couple generated by the compressive force in concrete and tensile force in steel.\n",
    "\n",
    "$$M_{u, lim} = 0.87 f_y A_{st, lim} \\left( d - 0.416 x_{u, max} \\right) = 0.36 f_{ck} b x_{u, max} \\left( d - 0.416 x_{u, max} \\right) $$\n",
    "\n",
    "This can be rearranged as follows:\n",
    "\n",
    "$$\\frac{M_{u, lim}}{f_{ck} b d^2} = 0.36 \\frac{x_{u, max}}{d}  \\left( 1 - 0.416 \\frac{x_{u, max}}{d} \\right) $$"
   ]
  },
  {
   "cell_type": "code",
   "execution_count": 2,
   "metadata": {
    "collapsed": false
   },
   "outputs": [
    {
     "name": "stdout",
     "output_type": "stream",
     "text": [
      "   250    0.531    0.149   21.985\n",
      "   415    0.479    0.138   19.825\n",
      "   500    0.456    0.133   18.870\n"
     ]
    }
   ],
   "source": [
    "def k1(fy):\n",
    "    return (0.0035 / (0.0055 + 0.87 * fy / 2e5))\n",
    "\n",
    "def k2(fy):\n",
    "    kk1 = k1(fy)\n",
    "    return (0.36 * kk1 * (1 - 0.416 * kk1))\n",
    "\n",
    "def k3(fy):\n",
    "    kk1 = k1(fy)\n",
    "    return (36 / 0.87 * kk1)\n",
    "\n",
    "fy = [250, 415, 500]\n",
    "for ffy in fy:\n",
    "    print \"%6d %8.3f %8.3f %8.3f\" % (ffy, k1(ffy), k2(ffy), k3(ffy))"
   ]
  },
  {
   "cell_type": "markdown",
   "metadata": {},
   "source": [
    "## Under-reinforced Sections\n",
    "\n",
    "However, it is not a good idea to design a section as balanced, for the following reasons:\n",
    "\n",
    "1. It is never possible to provide the exact amout of steel that is required by a balanced section as bar diameters are discrete and providing the required area of steel may require providing fraction of a bar, which is impossible.\n",
    "2. If we provide more steel than that required by a balanced section, section will become over-reinforced and while it can generate the required moment of resistance, its failure is brittle, which is undesirable.\n",
    "2. If we provide less steel than that required by a balanced section, the maximum moment of resistance it can generate is less than the design moment and hence the design is unsafe.\n",
    "\n",
    "It is therefore a better approach to provde a depth more than that required by a balanced section and provide area of steel sufficient to generate the required moment of resistance. Hence the actual depth of the neutral axis provided is $x_u > x_{u, max}$. Equating the compressive and tensile forces, we get\n",
    "\n",
    "$$\\frac{p_t}{100} \\cdot b d (0.87 f_y) = 0.36 f_{ck} b x_u$$\n",
    "\n",
    "Therefore\n",
    "\n",
    "$$\\frac{x_u}{d} = \\frac{p_t}{100} \\frac{0.87 f_y}{0.36 f_{ck}} = \\frac{p_t}{100} 0.4138 \\frac{f_y}{f_{ck}}$$\n",
    "\n",
    "$$M_u = 0.36 f_{ck} b x_u (d - 0.416 x_u)$$\n",
    "\n",
    "$$\\frac{M_u}{f_{ck} b d^2} = 0.36 \\frac{x_u}{d} \\left( 1 - 0.416 \\frac{x_u}{d} \\right)$$\n",
    "\n",
    "Substituting $\\frac{x_u}{d} = \\frac{p_t}{100} 0.4138 \\frac{f_y}{f_{ck}}$, we get\n",
    "\n",
    "$$\\frac{M_u}{0.87 f_y b d^2} = 0.$$\n",
    "\n",
    "$$\\left( \\frac{p_t}{100} \\right)^2 - 5.8092 \\frac{f_{ck}}{f_y} \\frac{p_t}{100} + 6.6788 \\frac{f_{ck}}{f_y^2} \\frac{M_u}{b d^2} = 0$$\n",
    "\n",
    "$$\\frac{p_t}{100} = 2.9046 \\frac{f_{ck}}{f_y} \\pm \\sqrt{\\left( 2.9046 \\frac{f_{ck}}{f_y} \\right)^2 - 6.6788 \\frac{f_{ck}}{f_y^2} \\frac{M_u}{b d^2}}$$"
   ]
  },
  {
   "cell_type": "code",
   "execution_count": 3,
   "metadata": {
    "collapsed": false
   },
   "outputs": [
    {
     "name": "stdout",
     "output_type": "stream",
     "text": [
      "0.00571151970002 5.45164555367\n"
     ]
    }
   ],
   "source": [
    "def pt(Mu, b, d, fck, fy):\n",
    "    a = 2.9046 * fck / fy\n",
    "    b = math.sqrt(a**2 - (6.6788*fck*Mu / (fy**2 * b * d**2)))\n",
    "    return a - b\n",
    "\n",
    "Mu = 80e6\n",
    "b = 230\n",
    "d  =415\n",
    "fck = 20\n",
    "fy = 415\n",
    "p = pt(Mu, b, d, fck, fy)\n",
    "print p, p/100 * b * d"
   ]
  },
  {
   "cell_type": "markdown",
   "metadata": {},
   "source": [
    "# Area of Concrete Stress Block\n",
    "\n",
    "Strain distribution across the depth of a cross section is assumed tb vary linearly. At the limit state of collapse in flexure, strain in the extreme compression edge is $\\epsilon_{cu}=0.0035$, assuming the section as under reinforced. Stress distribution in concrete varies parabolically from $0 \\leq \\epsilon_c \\leq \\epsilon_{cy}$, where $\\epsilon_{cy}=0.002$. Stress distribution in concrete is constant from $\\epsilon_{cy} \\leq \\epsilon_c \\leq \\epsilon_{cu}$, where $\\epsilon_{cu}=0.0035$. The yield stress in concrete is $f_{cy}= \\frac{0.67}{1.5} f_{ck} = 0.446 f_{ck}$. If $x_u$ is the depth of the neautral axis from the compression edge, then depth of parabolic portion of stress block is $\\frac{4}{7} x_u$ and depth of the uniform portion of the stress block is $\\frac{3}{7} x_u$. In order to compute the area and centroid of the stress block, let us consider the case when depth of neutral axis below the compression edge is given as $x_u$ and we wish to compute the area and centroid of the stress block up to a distance $x$ from the neutral axis.\n",
    "\n",
    "To simplify the derivation of the equations, let us use the following notations: $0 \\leq x \\leq R=\\frac{4}{7} x_u$ is the parabolic portion of the stress block and $R \\leq x \\leq \\frac{3}{4} R$ is the rectangular portion of the stress block. STress starts with zero, varies parabolicaly and reaches the maximum value $h = \\frac{0.67}{1.5} f_{ck} = 0.446 f_{ck}$ at $x=R$. Aftre that stress remains constant over the rectangular portion.\n",
    "\n",
    "Let us derive expressions for area of stress block and distance of centroid of stress block from neutral axis for portion of the stress block starting from $x_0 \\leq x \\leq (R + \\frac{3}{4}R)$, where $x$ is measured from the neutral axis.\n",
    "\n",
    "\\begin{align*}\n",
    "f_c(x) &= \n",
    "  \\begin{cases}\n",
    "    h \\left[ 2 \\left( \\frac{x}{R} \\right) - \\left( \\frac{x}{R} \\right)^2 \\right] & \\text{ if } 0 \\leq x \\leq R \\\\\n",
    "    h & \\text{ if } R \\leq x \\leq \\frac{7}{4} R\n",
    "  \\end{cases}\n",
    "\\end{align*}\n",
    "\n",
    "The area of the stress block for $0 \\leq x \\leq R$ can be written as\n",
    "$$\n",
    "A(x_0) = \\int_{0}^{x_0} f_c(x) dx = h x_0 \\left[\\left(\\frac{x_0}{R} \\right) - \\frac{1}{3} \\left( \\frac{x_0}{R} \\right)^2  \\right] \\quad \\text{ for } 0 \\leq x_0 \\leq R\n",
    "$$\n",
    "and first moment of area about the neutral axis can be written as\n",
    "$$\n",
    "A \\bar{x} = \\int_{0}^{x_0} f_c(x) x dx = h x_0^2 \\left[ \\frac{2}{3} \\frac{x_0}{R} - \\frac{1}{4} \\left( \\frac{x_0}{R} \\right)^2 \\right]\n",
    "$$\n",
    "Distance of the centroid of the parabolic portion of the stress block is given as\n",
    "$$\n",
    "\\bar{x}(x_0) = \\frac{A \\bar{x}}{A} = x_0 \\frac{\\left[ \\frac{2}{3} \\frac{x_0}{R} - \\frac{1}{4} \\left( \\frac{x_0}{R} \\right)^2 \\right]}{\\left[ \\frac{x_0}{R} - \\frac{1}{3} \\left( \\frac{x_0}{R} \\right)^2 \\right]}\n",
    "$$\n",
    "For the particular case when $x_0 = R$, we have\n",
    "\\begin{align*}\n",
    "A(R) &= \\frac{2}{3} h R \\\\\n",
    "\\bar{x}(R) &= \\frac{5}{8} R\n",
    "\\end{align*}\n",
    "Knowing $R=\\frac{4}{7} x_u$, and $h = \\frac{1}{1.5^2} f_{ck} = \\left( \\frac{2}{3} \\right)^2 f_{ck}$, we can now find the area and centroid of the full stress block:\n",
    "\\begin{align*}\n",
    "A &= \\frac{3}{4} hR + \\frac{2}{3} hR = \\frac{17}{12} hR = \\frac{68}{189} f_{ck} x_u \\approx 0.36 f_{ck} x_u \\\\\n",
    "A \\bar{x} &= \\frac{3}{4} hR \\left(R + \\frac{1}{2} \\frac{3}{4} R  \\right) + \\frac{2}{3} hR \\frac{5}{8} R = \\frac{139}{96} hR^2 \\\\\n",
    "\\bar{x} &= \\frac{A \\bar{x}} {A} = \\frac{139}{96} \\frac{12}{17} R = \\frac{139}{136} R = \\frac{139}{238} x_u \\approx 0.584 x_u\n",
    "\\end{align*}\n",
    "Distance of the centroid from the compression edge can be obtained as\n",
    "$$\n",
    "\\bar{x} = x_u - \\frac{139}{238} x_u = \\frac{99}{238} x_u \\approx 0.416 x_u\n",
    "$$\n",
    "\n",
    "Let us determine the area and centroid for the case when the a part of the stress block from the compression edge up to a distance $x_0$ from the neutral axis is considered. The equations are:\n",
    "\\begin{align*}\n",
    "A &= \\left( \\frac{3}{4} h R \\right) + \\left( \\frac{2}{3} hR \\right) - hx_0 \\left[ \\left( \\frac{x_0}{R} \\right) - \\frac{1}{3} \\left(  \\frac{x_0}{R} \\right)^2 \\right] \\\\\n",
    "A \\bar{x} &= \\left( \\frac{3}{4} h R \\right) \\left( \\frac{11}{8} R \\right) + \\left( \\frac{2}{3} hR \\right) \\left( \\frac{5}{8} R \\right) - hx_0^2 \\left[ \\left( \\frac{x_0}{R} \\right) - \\frac{1}{3} \\left(  \\frac{x_0}{R} \\right)^2 \\right] \\frac{\\left[ \\frac{2}{3} \\frac{x_0}{R} - \\frac{1}{4} \\left( \\frac{x_0}{R} \\right)^2 \\right]}{\\left[ \\frac{x_0}{R} - \\frac{1}{3} \\left( \\frac{x_0}{R} \\right)^2 \\right]}\n",
    "\\end{align*}\n"
   ]
  },
  {
   "cell_type": "code",
   "execution_count": 2,
   "metadata": {
    "collapsed": false
   },
   "outputs": [
    {
     "name": "stdout",
     "output_type": "stream",
     "text": [
      "Concrete Stress Block, yield stress = 0.447, depth = 1.00\n",
      "0.170158730159\n",
      "0.0607709750567\n",
      "0.191428571429 0.785714285714\n",
      "0.361587301587\n",
      "0.211179138322\n",
      "0.415966386555 0.584033613445\n",
      "(0.0025666666666666667, 0.006183333333333333)\n"
     ]
    }
   ],
   "source": [
    "from __future__ import division, print_function\n",
    "from math import pi\n",
    "\n",
    "class ConcStressBlock(object):\n",
    "    def __init__(self, h, xu):\n",
    "        self.h = h\n",
    "        self.xu = xu\n",
    "        self.R = 4 / 7 * self.xu\n",
    "\n",
    "    def __str__(self):\n",
    "        s = \"Concrete Stress Block, yield stress = %.3f, depth = %.2f\" % (self.h, self.xu)\n",
    "        return s\n",
    "\n",
    "    def set_xu(self, xu):\n",
    "        self.xu = xu\n",
    "        self.R = 4.0/7.0*self.xu\n",
    "        return\n",
    "\n",
    "    def rect_area(self):\n",
    "        return 3/4*self.h*self.R\n",
    "\n",
    "    def rect_firstmom(self):\n",
    "        return 11/8*self.R\n",
    "\n",
    "    def par_area(self, x):\n",
    "        xr = x / self.R\n",
    "        return self.h * x * (xr - 1/3*xr**2)\n",
    "\n",
    "    def par_firstmom(self, x):\n",
    "        xr = x / self.R\n",
    "        return self.h * x * x * (2/3*xr - xr*xr/4)\n",
    "\n",
    "    def area(self, x, b=1.0):\n",
    "        if x > self.R:\n",
    "            A = self.h * (self.xu - x)\n",
    "        else:\n",
    "            A = 17/12*self.h*self.R - self.par_area(x)\n",
    "        return A * b\n",
    "\n",
    "    def firstmom(self, x, b=1.0):\n",
    "        if x > self.R:\n",
    "            Ax = self.h * (self.xu - x) * (self.R + (self.xu - x)/2.0)\n",
    "        else:\n",
    "            Ax = 139/96*self.h*self.R**2 - self.par_firstmom(x)\n",
    "        return Ax * b\n",
    "\n",
    "    def centroid_na(self, x):\n",
    "        A = self.area(x)\n",
    "        Ax = self.firstmom(x)\n",
    "        return Ax / A\n",
    "\n",
    "    def centroid(self, x):\n",
    "        return 1.0 - self.centroid_na(x)\n",
    "\n",
    "\n",
    "def calc_mom_curv(b, d, dd, fck, fy, Asc, Ast, xu, ec=0.0035):\n",
    "    es = ec * (d - xu) / xu\n",
    "    esc = ec * (xu - dd) / xu\n",
    "    return esc, es\n",
    "\n",
    "csb = ConcStressBlock(0.67/1.5, 1.0)\n",
    "print(csb)\n",
    "print(csb.par_area(4/7))\n",
    "print(csb.par_firstmom(4/7))\n",
    "print(csb.rect_area(), csb.rect_firstmom())\n",
    "print(csb.area(0.0))\n",
    "print(csb.firstmom(0))\n",
    "print(csb.centroid(0), csb.centroid_na(0))\n",
    "print(calc_mom_curv(230, 415, 40, 20, 415, 3*pi*16**2/4, 4*pi*20**2/4, 150, 0.0035))\n"
   ]
  },
  {
   "cell_type": "code",
   "execution_count": null,
   "metadata": {
    "collapsed": false
   },
   "outputs": [],
   "source": []
  }
 ],
 "metadata": {
  "kernelspec": {
   "display_name": "Python 2",
   "language": "python",
   "name": "python2"
  },
  "language_info": {
   "codemirror_mode": {
    "name": "ipython",
    "version": 2
   },
   "file_extension": ".py",
   "mimetype": "text/x-python",
   "name": "python",
   "nbconvert_exporter": "python",
   "pygments_lexer": "ipython2",
   "version": "2.7.11"
  }
 },
 "nbformat": 4,
 "nbformat_minor": 0
}
