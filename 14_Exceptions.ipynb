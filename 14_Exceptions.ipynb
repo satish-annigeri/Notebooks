{
 "cells": [
  {
   "cell_type": "markdown",
   "metadata": {},
   "source": [
    "# Exceptions\n",
    "\n",
    "Exceptions help us catch run time errors and take appropriate remedial measures if needed. Consider for example the division operation. If the denominator is zero, the operation results in a ZeroDivisionError. Attempting to access an item in a list outside the bounds of the list leads to IndexError. Errors occur while attempting to read beyond the end of a file. Errors may occur while attempting to convert a string to an integer or real number because of illegal characters in the string. Exceptions can help a program recover from the error or gracefully terminate the program."
   ]
  },
  {
   "cell_type": "code",
   "execution_count": 3,
   "metadata": {
    "collapsed": false
   },
   "outputs": [
    {
     "name": "stdout",
     "output_type": "stream",
     "text": [
      "m\n",
      "Error\n"
     ]
    }
   ],
   "source": [
    "from __future__ import print_function, division\n",
    "\n",
    "def fetcher(obj, index):\n",
    "    return obj[index]\n",
    "\n",
    "x = 'spam'\n",
    "try:\n",
    "    print(fetcher(x, 3))\n",
    "    print(fetcher(x, 5))\n",
    "except IndexError:\n",
    "    print('Error')\n"
   ]
  },
  {
   "cell_type": "code",
   "execution_count": 5,
   "metadata": {
    "collapsed": false
   },
   "outputs": [
    {
     "name": "stdout",
     "output_type": "stream",
     "text": [
      "Enter an integer (0 to exit): 0\n",
      "0\n"
     ]
    }
   ],
   "source": [
    "while True:\n",
    "    try:\n",
    "        x = int(raw_input('Enter an integer (0 to exit): '))\n",
    "        print(x * 2)\n",
    "        if x == 0:\n",
    "            break\n",
    "    except ValueError:\n",
    "        print(\"That was not a valid integer. Try again\")"
   ]
  },
  {
   "cell_type": "code",
   "execution_count": null,
   "metadata": {
    "collapsed": false
   },
   "outputs": [],
   "source": []
  }
 ],
 "metadata": {
  "kernelspec": {
   "display_name": "Python 2",
   "language": "python",
   "name": "python2"
  },
  "language_info": {
   "codemirror_mode": {
    "name": "ipython",
    "version": 2
   },
   "file_extension": ".py",
   "mimetype": "text/x-python",
   "name": "python",
   "nbconvert_exporter": "python",
   "pygments_lexer": "ipython2",
   "version": "2.7.9"
  }
 },
 "nbformat": 4,
 "nbformat_minor": 0
}
