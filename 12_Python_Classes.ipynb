{
 "metadata": {
  "name": ""
 },
 "nbformat": 3,
 "nbformat_minor": 0,
 "worksheets": [
  {
   "cells": [
    {
     "cell_type": "markdown",
     "metadata": {},
     "source": [
      "# Python Classes\n",
      "\n",
      "Python supports object oriented programming. Classes are defined and usedas follows:"
     ]
    },
    {
     "cell_type": "code",
     "collapsed": false,
     "input": [
      "class rec:\n",
      "    pass\n",
      "\n",
      "rec.name = 'Bob'\n",
      "rec.age = 40\n",
      "\n",
      "x = rec()\n",
      "y = rec()\n",
      "print x.name, y.name\n",
      "\n",
      "x.name = 'Sue'\n",
      "print x.name, y.name\n",
      "\n",
      "print rec.__dict__.keys()\n",
      "print x.__dict__.keys()\n",
      "print y.__dict__.keys()\n",
      "print x.__class__, y.__class__\n",
      "print rec.__bases__ # Empty, because it is not a subclass\n",
      "\n",
      "def upperName(self):\n",
      "    return self.name.upper()\n",
      "\n",
      "rec.method = upperName\n",
      "print x.method()"
     ],
     "language": "python",
     "metadata": {},
     "outputs": [
      {
       "output_type": "stream",
       "stream": "stdout",
       "text": [
        "Bob Bob\n",
        "Sue Bob\n",
        "['age', '__module__', '__doc__', 'name']\n",
        "['name']\n",
        "[]\n",
        "__main__.rec __main__.rec\n",
        "()\n",
        "SUE\n"
       ]
      }
     ],
     "prompt_number": 30
    },
    {
     "cell_type": "markdown",
     "metadata": {},
     "source": [
      "There are two kinds of objects in Python OOP model: **_class_** objects and **_instance_** objects. Class objects provide defauly behaviour and serve as factories for instance objects. Instance objects are the real objects your program processes. Each instance is a namespace in its own right, but inherits (i.e., has automatic access to) names in the class from which it was created. __Classes__ objects are __abstract__ items. __Instance__ objects are __concrete__ items.\n",
      "\n",
      "## Class Objects Provide Default Behaviour [Lutz, Mark, Learning Python, 3ed., O'Reilly, 2007]\n",
      "* The class statement creates a class object and assigns it a name\n",
      "* Assignments inside class statements make class attributes\n",
      "* Class attributes provide object state and behaviour\n",
      "\n",
      "## Instance Objects Are Concrete Items\n",
      "* __Calling a class object like a function makes a new instance object:__ Each time a class is called, it creates and returns a new instance object. Instances represent concrete items in your program's domain\n",
      "* __Each instance object inherits class attributes and gets its own namespace:__ Instance objects created from classes are new namespaces; they start out empty, but inherit attributes that live in the class objects from which they were generated.\n",
      "* __Assignments to attributes of self in methods make per-instance attributes:__ Inside class method functions, the first argument )called **_self_** by convention) references the instance object being processed; assignments to attributes of **`self`** create or change data in the instance, not the class.\n",
      "\n",
      "## Class Coding Details\n",
      "Writing code for a class can be streamlined and simplified.\n",
      "\n",
      "* A function defined within a class automatically becomes its method. There is no need to create a method after first defining a non-member function.\n",
      "* Instance objects defined within a class are automatically static objects of the class and shared by all instances of the class\n",
      "* First argument to a method accesses the instance object which invokes the method at run time\n",
      "* Instance objects and methods whose name begins with two underscores (and optionally has at most one underscore) are treated as local to the class and its methods and cannot be accessed from a namespace outside the class"
     ]
    },
    {
     "cell_type": "code",
     "collapsed": false,
     "input": [
      "class Complex:\n",
      "    def __init__(self, realpart, imagpart):\n",
      "        self.r = realpart\n",
      "        self.i = imagpart\n",
      "\n",
      "x = Complex(3.0, -4.5)\n",
      "print x.r, x.i\n",
      "print x"
     ],
     "language": "python",
     "metadata": {},
     "outputs": [
      {
       "output_type": "stream",
       "stream": "stdout",
       "text": [
        "3.0 -4.5\n",
        "<__main__.Complex instance at 0x0000000004B66AC8>\n"
       ]
      }
     ],
     "prompt_number": 4
    },
    {
     "cell_type": "code",
     "collapsed": false,
     "input": [
      "import math\n",
      "\n",
      "class Complex:\n",
      "    def __init__(self, realpart, imagpart):\n",
      "        self.r = realpart\n",
      "        self.i = imagpart\n",
      "\n",
      "    def __repr__(self):\n",
      "        return '(Real: %f, Imag: %f)' % (self.r, self.i)\n",
      "\n",
      "    def __add__(self, b):\n",
      "        return Complex(self.r+b.r, self.i+b.i)\n",
      "\n",
      "    def __sub__(self, b):\n",
      "        return Complex(self.r-b.r, self.i-b.i)\n",
      "\n",
      "    def __mul__(self, b):\n",
      "        return Complex(self.r*b.r - self.i*b.i, self.r*b.i + self.i*b.r)\n",
      "\n",
      "    def __div__(self, b):\n",
      "        b_conj = Complex(b.r, -b.i)\n",
      "        den = (b * b_conj).r\n",
      "        num = self * b_conj\n",
      "        return Complex(num.r / den, num.i / den)\n",
      "\n",
      "    def abs(self):\n",
      "        return math.sqrt(self.r*self.r + self.i*self.i)\n",
      "\n",
      "    def __eq__(self, b):\n",
      "        return (self.r == b.r and self.i == b.i)\n",
      "\n",
      "    def __ne(self, b):\n",
      "        return (self.r != b.r or self.i != b.i)\n",
      "\n",
      "    def __nonzero__(self):\n",
      "        return (self.r != 0 or self.i != 0)\n",
      "\n",
      "x = Complex(3.0, -4.5)\n",
      "print x.r, x.i\n",
      "y = Complex(2.0, +4.5)\n",
      "print 'x =', x, 'y =', y\n",
      "\n",
      "z = x + y\n",
      "print z\n",
      "\n",
      "z = x - y\n",
      "print z\n",
      "\n",
      "z = x * y\n",
      "print z\n",
      "\n",
      "z = x / y\n",
      "print z\n",
      "\n",
      "print x.abs(), y.abs(), x == y, x != y, bool(x)"
     ],
     "language": "python",
     "metadata": {},
     "outputs": [
      {
       "output_type": "stream",
       "stream": "stdout",
       "text": [
        "3.0 -4.5\n",
        "x = (Real: 3.000000, Imag: -4.500000) y = (Real: 2.000000, Imag: 4.500000)\n",
        "(Real: 5.000000, Imag: 0.000000)\n",
        "(Real: 1.000000, Imag: -9.000000)\n",
        "(Real: 26.250000, Imag: 4.500000)\n",
        "(Real: -0.587629, Imag: -0.927835)\n",
        "5.4083269132 4.9244289009 False True True\n"
       ]
      }
     ],
     "prompt_number": 13
    },
    {
     "cell_type": "markdown",
     "metadata": {},
     "source": [
      "## Classes are Customized by Inheritance\n",
      "Besides serving as factories for generating multiple instance objects, classes also allow us to make changes by introducing new components, called subclasses, instead of changing existing components in-place."
     ]
    },
    {
     "cell_type": "code",
     "collapsed": false,
     "input": [
      "class Employee:\n",
      "    def __init__(self, name, dept, salary):\n",
      "        self.name = name\n",
      "        self.dept = dept\n",
      "        self.salary = salary\n",
      "\n",
      "    def __str__(self):\n",
      "        return (\"Name: %s, Department: %s, Salary: %.2f\" % (self.name, self.dept, self.salary))\n",
      "\n",
      "class Manager(Employee):\n",
      "    def __init__(self, name, dept, salary, subordinates):\n",
      "        Employee.__init__(self, name, dept, salary)\n",
      "        self.subordinates = subordinates\n",
      "\n",
      "    def __str__(self):\n",
      "        s = Employee.__str__(self) + '\\n      Subordinates: '\n",
      "        for i in range(len(self.subordinates)):\n",
      "            s += str(self.subordinates[i].name)\n",
      "        return s\n",
      "        \n",
      "john = Employee('John Doe', 'Sales', 5000)\n",
      "print john\n",
      "mary = Manager('Mary Jane', 'Sales', 8000, [john])\n",
      "print mary"
     ],
     "language": "python",
     "metadata": {},
     "outputs": [
      {
       "output_type": "stream",
       "stream": "stdout",
       "text": [
        "Name: John Doe, Department: Sales, Salary: 5000.00\n",
        "Name: Mary Jane, Department: Sales, Salary: 8000.00\n",
        "      Subordinates: John Doe\n"
       ]
      }
     ],
     "prompt_number": 10
    },
    {
     "cell_type": "markdown",
     "metadata": {},
     "source": [
      "## Static Methods"
     ]
    },
    {
     "cell_type": "code",
     "collapsed": false,
     "input": [
      "class Spam:\n",
      "    numInst = 0\n",
      "    def __init__(self):\n",
      "        Spam.numInst += 1\n",
      "    @staticmethod\n",
      "    def printNumInst():\n",
      "        print 'Number of instances:', Spam.numInst\n",
      "\n",
      "Spam.printNumInst()\n",
      "a = Spam()\n",
      "Spam.printNumInst()\n",
      "b = Spam()\n",
      "Spam.printNumInst()\n",
      "c = Spam()\n",
      "Spam.printNumInst()\n",
      "a.printNumInst()\n",
      "\n",
      "class tracer:\n",
      "    def __init__(self, func):\n",
      "        self.calls = 0\n",
      "        self.func = func\n",
      "\n",
      "    def __call__(self, *args):\n",
      "        self.calls += 1\n",
      "        print 'call %s to %s' % (self.calls, self.func.__name__)\n",
      "        self.func(*args)\n",
      "\n",
      "@tracer\n",
      "def spam(a, b, c):\n",
      "    print a, b, c\n",
      "\n",
      "spam(1, 2, 3)\n",
      "spam('a', 'b', 'c')\n",
      "spam(4, 5, 6)"
     ],
     "language": "python",
     "metadata": {},
     "outputs": [
      {
       "output_type": "stream",
       "stream": "stdout",
       "text": [
        "Number of instances: 0\n",
        "Number of instances: 1\n",
        "Number of instances: 2\n",
        "Number of instances: 3\n",
        "Number of instances: 3\n",
        "call 1 to spam\n",
        "1 2 3\n",
        "call 2 to spam\n",
        "a b c\n",
        "call 3 to spam\n",
        "4 5 6\n"
       ]
      }
     ],
     "prompt_number": 5
    },
    {
     "cell_type": "code",
     "collapsed": false,
     "input": [],
     "language": "python",
     "metadata": {},
     "outputs": []
    }
   ],
   "metadata": {}
  }
 ]
}