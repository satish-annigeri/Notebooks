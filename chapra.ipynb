{
 "metadata": {
  "name": "",
  "signature": "sha256:6c49f542cf774c4413d12c90851c45394f0874f031645b730c89523be7d1f5ab"
 },
 "nbformat": 3,
 "nbformat_minor": 0,
 "worksheets": [
  {
   "cells": [
    {
     "cell_type": "code",
     "collapsed": false,
     "input": [
      "import numpy as np\n",
      "import matplotlib.pyplot as plt\n",
      "%matplotlib inline\n",
      "\n",
      "def fp(m, cd, t, v, g):\n",
      "    return np.sqrt(g*m/cd) * np.tanh(np.sqrt(g*cd/m) * t) - v\n",
      "\n",
      "cd = 0.25\n",
      "g = 9.81\n",
      "v = 36.0\n",
      "t = 4.0\n",
      "m = np.linspace(50, 200, 151)\n",
      "f = fp(m, cd, t, v, g)\n",
      "\n",
      "plt.plot(m, f)\n",
      "plt.grid()\n",
      "plt.xlim(50, 200)\n",
      "plt.show()\n",
      "print fp(145.0, cd, t, v, g)"
     ],
     "language": "python",
     "metadata": {},
     "outputs": [
      {
       "metadata": {},
       "output_type": "display_data",
       "png": "[encoded data removed]",
       "text": [
        "<matplotlib.figure.Figure at 0x4801ac8>"
       ]
      },
      {
       "output_type": "stream",
       "stream": "stdout",
       "text": [
        "0.0456264915264\n"
       ]
      }
     ],
     "prompt_number": 5
    },
    {
     "cell_type": "code",
     "collapsed": false,
     "input": [
      "def incsearch(f, xmin, xmax, ns=50):\n",
      "    x = np.linspace(xmin, xmax, ns)\n",
      "    y = f(x)\n",
      "\n",
      "    xb = []\n",
      "    for k in range(len(x) - 1):\n",
      "        if f(x[k]) * f(x[k+1]) <= 0:\n",
      "            xb.append((x[k], x[k+1]))\n",
      "    return xb\n",
      "\n",
      "def f(x):\n",
      "    return np.sin(10.0*x) + np.cos(3.0*x)\n",
      "\n",
      "xb = incsearch(f, 3, 6)\n",
      "print len(xb), xb\n",
      "\n",
      "xb = incsearch(f, 3, 6, 100)\n",
      "print len(xb), xb"
     ],
     "language": "python",
     "metadata": {},
     "outputs": [
      {
       "output_type": "stream",
       "stream": "stdout",
       "text": [
        "5 [(3.2448979591836733, 3.306122448979592), (3.306122448979592, 3.3673469387755102), (3.7346938775510203, 3.795918367346939), (4.6530612244897958, 4.7142857142857144), (5.6326530612244898, 5.6938775510204085)]\n",
        "9 [(3.2424242424242422, 3.2727272727272725), (3.3636363636363638, 3.393939393939394), (3.7272727272727275, 3.7575757575757578), (4.2121212121212119, 4.2424242424242422), (4.2424242424242422, 4.2727272727272725), (4.6969696969696972, 4.7272727272727275), (5.1515151515151514, 5.1818181818181817), (5.1818181818181817, 5.2121212121212128), (5.666666666666667, 5.6969696969696972)]\n"
       ]
      }
     ],
     "prompt_number": 8
    },
    {
     "cell_type": "code",
     "collapsed": false,
     "input": [],
     "language": "python",
     "metadata": {},
     "outputs": []
    }
   ],
   "metadata": {}
  }
 ]
}