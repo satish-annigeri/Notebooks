{
 "metadata": {
  "name": "",
  "signature": "sha256:798dab93eb7f7dc49d00bdc9b890513636ae80aa5a569e757f41a2bed5cbd557"
 },
 "nbformat": 3,
 "nbformat_minor": 0,
 "worksheets": [
  {
   "cells": [
    {
     "cell_type": "markdown",
     "metadata": {},
     "source": [
      "# More Python data Types and Operators\n",
      "## Dictionaries\n",
      "Python Dictionaries are mappings. Mappings are also collections of objects, but they store items by key instead of by relative position. In fact, mappings don't maintain any reliable left to right order; they simply map keys to associated values."
     ]
    },
    {
     "cell_type": "code",
     "collapsed": false,
     "input": [
      "D = {'food': 'Spam', 'qty': 4, 'color': 'pink'}\n",
      "print D, type(D), 'Length =', len(D)\n",
      "print D['food']\n",
      "print D['qty']\n",
      "print D['color']\n",
      "D['qty'] += 1\n",
      "print D"
     ],
     "language": "python",
     "metadata": {},
     "outputs": [
      {
       "output_type": "stream",
       "stream": "stdout",
       "text": [
        "{'food': 'Spam', 'color': 'pink', 'qty': 4} <type 'dict'> Length = 3\n",
        "Spam\n",
        "4\n",
        "pink\n",
        "{'food': 'Spam', 'color': 'pink', 'qty': 5}\n"
       ]
      }
     ],
     "prompt_number": 2
    },
    {
     "cell_type": "code",
     "collapsed": false,
     "input": [
      "D = {}\n",
      "print D\n",
      "D['name'] = 'Raj'\n",
      "D['job'] = 'Developer'\n",
      "D['age'] = 25\n",
      "print D"
     ],
     "language": "python",
     "metadata": {},
     "outputs": [
      {
       "output_type": "stream",
       "stream": "stdout",
       "text": [
        "{}\n",
        "{'age': 25, 'job': 'Developer', 'name': 'Raj'}\n"
       ]
      }
     ],
     "prompt_number": 5
    },
    {
     "cell_type": "markdown",
     "metadata": {},
     "source": [
      "## Nested Dictionaries\n",
      "\n",
      "Dictionary items can themselves be dictionaries."
     ]
    },
    {
     "cell_type": "code",
     "collapsed": false,
     "input": [
      "rec = {'name': {'first': 'John', 'last': 'Doe'}, 'job': ['Developer', 'Manager'], 'age': 40}\n",
      "print rec\n",
      "print rec['name'], type(rec['name'])\n",
      "print rec['name']['first'], type(rec['name']['first'])\n",
      "print rec['job'], type(rec['job'])"
     ],
     "language": "python",
     "metadata": {},
     "outputs": [
      {
       "output_type": "stream",
       "stream": "stdout",
       "text": [
        "{'age': 40, 'job': ['Developer', 'Manager'], 'name': {'last': 'Doe', 'first': 'John'}}\n",
        "{'last': 'Doe', 'first': 'John'} <type 'dict'>\n",
        "John <type 'str'>\n",
        "['Developer', 'Manager'] <type 'list'>\n"
       ]
      }
     ],
     "prompt_number": 13
    },
    {
     "cell_type": "markdown",
     "metadata": {},
     "source": [
      "## Keys, Values and Looping\n",
      "\n",
      "As mappings, Dictionaries do not preserve any defined order."
     ]
    },
    {
     "cell_type": "code",
     "collapsed": false,
     "input": [
      "D = {'a': 1, 'b': 2, 'c': 3}\n",
      "print D\n",
      "keys = D.keys()\n",
      "print keys\n",
      "keys.sort()\n",
      "print keys\n",
      "for k in keys:\n",
      "    print k, '=>', D[k]\n",
      "\n",
      "for k in sorted(D.keys()):\n",
      "    print k, '=>', D[k]"
     ],
     "language": "python",
     "metadata": {},
     "outputs": [
      {
       "output_type": "stream",
       "stream": "stdout",
       "text": [
        "{'a': 1, 'c': 3, 'b': 2}\n",
        "['a', 'c', 'b']\n",
        "['a', 'b', 'c']\n",
        "a => 1\n",
        "b => 2\n",
        "c => 3\n",
        "a => 1\n",
        "b => 2\n",
        "c => 3\n"
       ]
      }
     ],
     "prompt_number": 19
    },
    {
     "cell_type": "markdown",
     "metadata": {},
     "source": [
      "## Missing Keys"
     ]
    },
    {
     "cell_type": "code",
     "collapsed": false,
     "input": [
      "D = {'a': 1, 'b': 2, 'c': 3}\n",
      "print D\n",
      "D['e'] = 99\n",
      "print D\n",
      "print D.has_key('f')\n",
      "if not D.has_key('f'):\n",
      "    print 'Missing key'\n",
      "print D.values()"
     ],
     "language": "python",
     "metadata": {},
     "outputs": [
      {
       "output_type": "stream",
       "stream": "stdout",
       "text": [
        "{'a': 1, 'c': 3, 'b': 2}\n",
        "{'a': 1, 'c': 3, 'b': 2, 'e': 99}\n",
        "False\n",
        "Missing key\n",
        "[1, 3, 2, 99]\n"
       ]
      }
     ],
     "prompt_number": 3
    },
    {
     "cell_type": "code",
     "collapsed": false,
     "input": [],
     "language": "python",
     "metadata": {},
     "outputs": []
    }
   ],
   "metadata": {}
  }
 ]
}