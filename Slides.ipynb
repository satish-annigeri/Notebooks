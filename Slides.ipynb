{
 "cells": [
  {
   "cell_type": "markdown",
   "metadata": {
    "slideshow": {
     "slide_type": "slide"
    }
   },
   "source": [
    "# Introduction to Python\n",
    "\n",
    "Python is a general purpose programming language that is\n",
    "\n",
    "* Expressive\n",
    "* Supports procedural as well as object oriented programming\n",
    "* Has a huge collection of libraries\n",
    "* Has an excellent implementation of multi-dimensioned arrays and numerical alogorithms based on this array implementation\n",
    "* Has good 2D and 3D graph visualization libraries"
   ]
  },
  {
   "cell_type": "markdown",
   "metadata": {
    "slideshow": {
     "slide_type": "slide"
    }
   },
   "source": [
    "# Scientific Computation in Python\n",
    "\n",
    "* Python - Base language does not have arrays\n",
    "* NumPy - Provides multi-dimensioned arrays\n",
    "* Matplotlib - 2D graph plotting\n",
    "* SciPy - Algorithms for interpolation, integration, linear algebra, statistics, optimization, FFT analysis, image processing\n",
    "* SymPy - Symbolic processing\n",
    "* scikit-image - Additional image processing\n",
    "* scikit-learn - machine learning\n",
    "* SimpleCV - Computer vision"
   ]
  },
  {
   "cell_type": "code",
   "execution_count": 4,
   "metadata": {
    "collapsed": false,
    "slideshow": {
     "slide_type": "slide"
    }
   },
   "outputs": [
    {
     "data": {
      "image/png": "[encoded data removed]",
      "text/plain": [
       "<matplotlib.figure.Figure at 0xad395c0>"
      ]
     },
     "metadata": {},
     "output_type": "display_data"
    }
   ],
   "source": [
    "%matplotlib inline\n",
    "import numpy as np\n",
    "import matplotlib.pyplot as plt\n",
    "x = np.linspace(0, 2*np.pi, 201)\n",
    "y = np.sin(x)\n",
    "plt.plot(x, y, 'r-')\n",
    "plt.ylim(-1.1, 1.1)\n",
    "plt.grid()\n",
    "plt.show()"
   ]
  },
  {
   "cell_type": "markdown",
   "metadata": {
    "slideshow": {
     "slide_type": "slide"
    }
   },
   "source": [
    "# IPython Notebook\n",
    "\n",
    "* In the Notebook mode, IPython provides a browser based Python environment for:\n",
    "  * Writing Python code\n",
    "  * Executing Python code and seeing output from code, including graphical output\n",
    "  * Writing text documentation including $\\LaTeX$ equations and graphics and video media files\n",
    "* Starting up the IPython Notebook Server\n",
    "  * IPython can be run in the notebook server mode - IPython starts up a webserver and you can connect to it through a web browser. The web server is connected to a Python engine that will interpret and execute the Python code written in the browser\n",
    "  * IPython Notebook Dashboard shows a list of IPython Notebook files (files with **`.ipynb`**) extension\n",
    "  * Clicking on a Notebook file name opens up the Notebook in a new tab\n",
    "  * Before closing a Notebook, save its contents\n",
    "  * In the dashboard, it can be **Shutdown**\n",
    "  * The server can be shutdown by pressing **`Ctrl-C`** in the MS-DOS prompt window from where it was started"
   ]
  },
  {
   "cell_type": "markdown",
   "metadata": {
    "slideshow": {
     "slide_type": "slide"
    }
   },
   "source": [
    "# Starting up the IPython Notebook Server\n",
    "* Open an MS-DOS prompt Window\n",
    "  * Windows Start -> Run -> cmd\n",
    "* Change over to the folder where your IPython Notebook files are stored or where you want to store your Notebook files\n",
    "* Start the Notebook server with the command\n",
    "  * **`ipython notebook`**\n",
    "* The server begins to run and the command prompt is longer available. Browser will start automatically and the IPython Notebook Dashboard is shown. If this does not happen automatically, Open the Browser yourself and in the address bar enter **`http://127.0.0.1:5000`** or **`http://localhost:5000`**. That should display the Dashboard.\n",
    "* To stop the server, first save all Notebook files and close them. Shutdown all running Notebooks in the Dashboard. Close the Dashboard itself. Then go to the MS-DOS prompt from where the server was started and press **`Ctrl-C`** twice and answer **`Y`** to the question."
   ]
  },
  {
   "cell_type": "markdown",
   "metadata": {
    "slideshow": {
     "slide_type": "slide"
    }
   },
   "source": [
    "# Notebook Dashboard User Interface\n",
    "The Dashboard has the following features:\n",
    "* A header\n",
    "* Tabs\n",
    "  * **Notebooks:** List of all Notebooks available in the folder from where the server was started. It is possible to traverse sub-folders of the parent folder and open Notebook files in the sub-folders. But it is not possible to traverse above the folder from where the server is started\n",
    "  * **Running:** List of all Notebooks currently running\n",
    "  * **Cluster:** Cluster is used for paralle computing\n",
    "* In the Notebooks tab of the Dashboard, one can also open a new Notebook and refresh the list of Notebooks in the current folder"
   ]
  },
  {
   "cell_type": "markdown",
   "metadata": {
    "slideshow": {
     "slide_type": "slide"
    }
   },
   "source": [
    "# Notebook User Interface\n",
    "When you open a Notebook, the user interface will consist of the following:\n",
    "* Header\n",
    "* A Menu\n",
    "* A Toolbar\n",
    "* It is possible to hide or display the header and toolbar. Menu will always be visible.\n",
    "* The Menu consists of the items File, Edit, View, Insert, Cell, Kernel, Help\n",
    "* For a list of Keyboard Shortcuts, see Help -> Keyboard SHortcuts\n",
    "* While working in a Notebook, you can be in one of two distinct modes: Command Mode or Edit Mode. Current mode is indicated by an icon at the top right along side the Menu.\n",
    "* To switch from Edit Mode to Command Mode, press **`Esc`** key on the keyboard or click Run on the toolbar\n",
    "* To switch from Command Mode to Edit Mode, select the cell (using mouse or keyboard) and press **`Enter`** key on the keyboard. Alternately, double click on the cell."
   ]
  },
  {
   "cell_type": "markdown",
   "metadata": {
    "slideshow": {
     "slide_type": "slide"
    }
   },
   "source": [
    "# Cells in an IPython Notebook\n",
    "Cells in an IPython Notebook can be one of the following type:\n",
    "* **Code Cell**\n",
    "  * Code cells can contain Python code\n",
    "  * Code cells support syntax highlighting\n",
    "  * Code cells support automatic indentation\n",
    "  * Code cells display automatic help for functions\n",
    "* **Markdown Cell**\n",
    "  * Markdown cells can contain text written in [Markdown](http://daringfireball.net/projects/markdown/syntax)\n",
    "  * Markdown cells can contain $\\LaTeX$ equations\n",
    "  * Markdown cells can contain hyperlinks"
   ]
  },
  {
   "cell_type": "markdown",
   "metadata": {
    "slideshow": {
     "slide_type": "slide"
    }
   },
   "source": []
  }
 ],
 "metadata": {
  "celltoolbar": "Slideshow",
  "kernelspec": {
   "display_name": "Python 2",
   "language": "python",
   "name": "python2"
  },
  "language_info": {
   "codemirror_mode": {
    "name": "ipython",
    "version": 2
   },
   "file_extension": ".py",
   "mimetype": "text/x-python",
   "name": "python",
   "nbconvert_exporter": "python",
   "pygments_lexer": "ipython2",
   "version": "2.7.11"
  }
 },
 "nbformat": 4,
 "nbformat_minor": 0
}
