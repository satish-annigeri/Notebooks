{
 "metadata": {
  "name": "",
  "signature": "sha256:10c58d216a26eed233c2defc3951d494c2e0b84b7a8b3fc7e2554bd4d6ea44fd"
 },
 "nbformat": 3,
 "nbformat_minor": 0,
 "worksheets": [
  {
   "cells": [
    {
     "cell_type": "markdown",
     "metadata": {},
     "source": [
      "# Input and Output\n",
      "\n",
      "The **`print`** statement prints out values of expressions. In its simplest form, you can separate the expressions whose value you wish to print by commas. The **`print`** statement automatically does the following:\n",
      "\n",
      "* Insert a space between the expressions it prints\n",
      "* Adds a newline (**`\\n`**) after the last expression\n",
      "* A comma after the last expression in the print list suppresses the newline after printing the last expression\n"
     ]
    },
    {
     "cell_type": "code",
     "collapsed": false,
     "input": [
      "n = 2\n",
      "print 'There are', n, 'members in the team'"
     ],
     "language": "python",
     "metadata": {},
     "outputs": [
      {
       "output_type": "stream",
       "stream": "stdout",
       "text": [
        "There are 2 members in the team\n"
       ]
      }
     ],
     "prompt_number": 1
    },
    {
     "cell_type": "markdown",
     "metadata": {},
     "source": [
      "## Formatted Output\n",
      "\n",
      "It is possible to format the output printed by **`print`** statement. After the print statement comes the format specification string, which is similar to that in C programming language. Following the format specification string and separated by the **`%`** symbol is a Tuple of values which will substitue the corresponding specifiers in the specification string. Being a Tuple, the individual elements must be enclosed within parentheses."
     ]
    },
    {
     "cell_type": "code",
     "collapsed": false,
     "input": [
      "x = 10.2; y = 2.3; z = x / y\n",
      "print \"%.4f / %.4f = %.4f\" % (x, y, z)\n",
      "print \"Answer: %10.2f / %10.2f = %10.2f\" % (x, y, z)\n",
      "#print \"Answer: {0} / {1} = {2}\" % (x, y, z)\n",
      "print \"Numerator: %f\" % x\n",
      "print \"Denominator: %f\" % (y)\n",
      "print \"%11s: %f\" % ('Answer', z)"
     ],
     "language": "python",
     "metadata": {},
     "outputs": [
      {
       "output_type": "stream",
       "stream": "stdout",
       "text": [
        "10.2000 / 2.3000 = 4.4348\n",
        "Answer:      10.20 /       2.30 =       4.43\n",
        "Numerator: 10.200000\n",
        "Denominator: 2.300000\n",
        "     Answer: 4.434783\n"
       ]
      }
     ],
     "prompt_number": 1
    },
    {
     "cell_type": "markdown",
     "metadata": {},
     "source": [
      "Formatted output in Python is similar to that in C. Hence **`%d`** prints in integer format, **`%f`**, **`%e`**, **`%g`** prints in floating point format, **`%s`** prints in string format etc. Precision can be indicated in terms of field width and decimal places can also be indicated, just as in C. Important points to remember when using this formatting are as follows:\n",
      "\n",
      "* Number of arguments supplied must match the number of place holders in the format string\n",
      "* Arguments must be enclosed within parentheses (that is, they must be supplied as a Tuple). When ther eis only one argument, parentheses are optional\n",
      "* The **`print`** statement adds a newline after printing the string"
     ]
    },
    {
     "cell_type": "code",
     "collapsed": false,
     "input": [
      "print \"%10s\" % (12*'-') # More characters than the field width\n",
      "print \"%10d\" % 5\n",
      "print \"%10.4f\" % (2. / 3.1)"
     ],
     "language": "python",
     "metadata": {},
     "outputs": [
      {
       "output_type": "stream",
       "stream": "stdout",
       "text": [
        "------------\n",
        "         5\n",
        "    0.6452\n"
       ]
      }
     ],
     "prompt_number": 4
    },
    {
     "cell_type": "markdown",
     "metadata": {},
     "source": [
      "## Formatted Output using `str`\n",
      "\n",
      "The **`str`** class can output justified strings:"
     ]
    },
    {
     "cell_type": "code",
     "collapsed": false,
     "input": [
      "s = 'Hubli'\n",
      "print s.ljust(11)\n",
      "print s.rjust(11)\n",
      "print s.center(11)\n",
      "print '12.5'.zfill(10)"
     ],
     "language": "python",
     "metadata": {},
     "outputs": [
      {
       "output_type": "stream",
       "stream": "stdout",
       "text": [
        "Hubli      \n",
        "      Hubli\n",
        "   Hubli   \n",
        "00000012.5\n"
       ]
      }
     ],
     "prompt_number": 2
    },
    {
     "cell_type": "markdown",
     "metadata": {},
     "source": [
      "## Input\n",
      "\n",
      "Keyboard input is a little tedious in Python."
     ]
    },
    {
     "cell_type": "code",
     "collapsed": false,
     "input": [
      "x = int(raw_input('Enter an integer: '))\n",
      "print x, type(x)"
     ],
     "language": "python",
     "metadata": {},
     "outputs": [
      {
       "name": "stdout",
       "output_type": "stream",
       "stream": "stdout",
       "text": [
        "Enter an integer: -20\n"
       ]
      },
      {
       "output_type": "stream",
       "stream": "stdout",
       "text": [
        "-20 <type 'int'>\n"
       ]
      }
     ],
     "prompt_number": 3
    },
    {
     "cell_type": "code",
     "collapsed": false,
     "input": [],
     "language": "python",
     "metadata": {},
     "outputs": []
    }
   ],
   "metadata": {}
  }
 ]
}