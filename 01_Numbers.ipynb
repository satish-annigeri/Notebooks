{
 "cells": [
  {
   "cell_type": "markdown",
   "metadata": {},
   "source": [
    "# Getting to Know Python Data Types and Operators\n",
    "## Numbers\n",
    "\n",
    "Python interpreter can be used as an interactive calculator. You can type an expression and press **`Enter`** key to immediately see the result of the expression evaluation. The same can also be done in btch mode by placing the expressions in a text file (with an extension **`.py`** and executing the script.\n",
    "\n",
    "**Note:** In Puthon 2, if both numerator and denominator are integer, the result is also an integer. If you want a floating point result, one or both of them must be floating point. If the input are constants, remember to place a decimal to indicate the number is a floating point number. If the input are variables, remember to do an explicit typecasting."
   ]
  },
  {
   "cell_type": "code",
   "execution_count": 3,
   "metadata": {
    "collapsed": false
   },
   "outputs": [
    {
     "name": "stdout",
     "output_type": "stream",
     "text": [
      "4\n",
      "1\n",
      "1.5\n",
      "9 1.41421356237 0.707106781187\n"
     ]
    }
   ],
   "source": [
    "print 2 + 2\n",
    "print 3 / 2\n",
    "print 3. / 2 # Note the decimal after 3\n",
    "print 3**2, 2**0.5, 2**-0.5"
   ]
  },
  {
   "cell_type": "markdown",
   "metadata": {},
   "source": [
    "## Modulo\n",
    "\n",
    "Modulo operation returns the remainder of an integer division operation."
   ]
  },
  {
   "cell_type": "code",
   "execution_count": 4,
   "metadata": {
    "collapsed": false
   },
   "outputs": [
    {
     "name": "stdout",
     "output_type": "stream",
     "text": [
      "3\n",
      "2.6\n",
      "100.5 12.5625 113.0625 113.06\n"
     ]
    }
   ],
   "source": [
    "print 13 % 5\n",
    "print 13.0 % 5.2  # 5.2 * (13.0/5.2 - int(13/5.2))\n",
    "price = 100.5; tax = 12.5 / 100 * price; amount = price + tax\n",
    "print price, tax, amount, round(amount, 2)"
   ]
  },
  {
   "cell_type": "markdown",
   "metadata": {},
   "source": [
    "## Variables\n",
    "\n",
    "Variables store values so they can be used later in expressions. Python automatically assigns a data type to the variable based on the value used to initialize it. Result of a division in Python 2.x is an integer division if both the numerator and denominator are of type **integer**, whereas the result is a **float** if either or both are **float**. In Python 3.x, this has been changed so that result of a division is float even when both numerator and denominator are integers. A new operator **`//`** returns the result of an integer division."
   ]
  },
  {
   "cell_type": "code",
   "execution_count": 5,
   "metadata": {
    "collapsed": false
   },
   "outputs": [
    {
     "name": "stdout",
     "output_type": "stream",
     "text": [
      "<type 'int'> 20\n",
      "<type 'float'> 0.001\n",
      "3 3.0 3.5 3.5\n"
     ]
    }
   ],
   "source": [
    "x = 10\n",
    "print type(x), x * 2\n",
    "y = 1e-3\n",
    "print type(y), y\n",
    "a = 7\n",
    "b = 2\n",
    "print a / b, float(a / b), float(a) / b, a / float(b)"
   ]
  },
  {
   "cell_type": "markdown",
   "metadata": {},
   "source": [
    "## Complex Numbers\n",
    "Python has a built-in data type for complex numbers. All operations are defined for complex numbers."
   ]
  },
  {
   "cell_type": "code",
   "execution_count": 6,
   "metadata": {
    "collapsed": false
   },
   "outputs": [
    {
     "name": "stdout",
     "output_type": "stream",
     "text": [
      "1j <type 'complex'>\n",
      "(-1+0j)\n",
      "(1+0j)\n",
      "(3-4j) 3.0 -4.0 5.0\n"
     ]
    }
   ],
   "source": [
    "a = 1j  # Same as 0 + 1j\n",
    "print a, type(a)\n",
    "b = 1J  # Same as 0 + 1j\n",
    "print a*b\n",
    "print a / b   # Even when imaginary part is zero, it is retianed as a complex number\n",
    "a = 2 + 1j\n",
    "b = 1 - 5j\n",
    "c = a + b\n",
    "print c, c.real, c.imag, abs(c)"
   ]
  },
  {
   "cell_type": "markdown",
   "metadata": {},
   "source": [
    "## Math Module\n",
    "\n",
    "Mathematical functions are not included in the standard library. To use mathematical functions such as **`sqrt`**, trigonometrical functions, logarithmic functions, exponential functions, one must import the **`math`** library.\n",
    "\n",
    "Functions and constants in the **`math`** library can be accessed by referring to the **namespace** **`math`** to which they belong. So, **`math.pi`** is the constant $\\pi$ and **`math.sin()`** is the trigonometric function $\\sin$."
   ]
  },
  {
   "cell_type": "code",
   "execution_count": 7,
   "metadata": {
    "collapsed": false
   },
   "outputs": [
    {
     "name": "stdout",
     "output_type": "stream",
     "text": [
      "2.0\n",
      "3.14159265359\n",
      "0.707106781187\n",
      "4.0 3.0\n"
     ]
    }
   ],
   "source": [
    "import math\n",
    "\n",
    "print math.sqrt(4)\n",
    "print math.pi\n",
    "print math.sin(math.pi / 4)\n",
    "print math.ceil(math.pi), math.floor(math.pi)"
   ]
  },
  {
   "cell_type": "code",
   "execution_count": 12,
   "metadata": {
    "collapsed": false
   },
   "outputs": [
    {
     "name": "stdout",
     "output_type": "stream",
     "text": [
      "nan\n",
      "1j\n"
     ]
    }
   ],
   "source": [
    "import numpy as np\n",
    "\n",
    "#print math.sqrt(-1.0)    # Try this. Results in an error\n",
    "#print math.sqrt(-1.0+0j) # Try this. Results in an error\n",
    "print np.sqrt(-1.0)       # Results in a warning, not an error\n",
    "print np.sqrt(-1.0+0j)    # Gives the result"
   ]
  },
  {
   "cell_type": "markdown",
   "metadata": {},
   "source": [
    "## Online Help\n",
    "IPython has help built-in. In fact, in a code cell, you will get auto-completion and help as you type code. Type the name of a function and the left parenthesis and the help system will kick into action, just give it a second or two. Clicking on the + symbol in the pop-up gives more information. Learn to use the help system and you will rarely need to refer to a book or manual."
   ]
  },
  {
   "cell_type": "code",
   "execution_count": null,
   "metadata": {
    "collapsed": false
   },
   "outputs": [],
   "source": [
    "help(math)"
   ]
  },
  {
   "cell_type": "code",
   "execution_count": null,
   "metadata": {
    "collapsed": false
   },
   "outputs": [],
   "source": [
    "help(math.ceil)"
   ]
  },
  {
   "cell_type": "code",
   "execution_count": null,
   "metadata": {
    "collapsed": false
   },
   "outputs": [],
   "source": [
    "help(round)"
   ]
  },
  {
   "cell_type": "code",
   "execution_count": null,
   "metadata": {
    "collapsed": false
   },
   "outputs": [],
   "source": [
    "print round(12345.25, -1)\n",
    "print round(12345.25, 1)"
   ]
  },
  {
   "cell_type": "code",
   "execution_count": null,
   "metadata": {
    "collapsed": false
   },
   "outputs": [],
   "source": []
  }
 ],
 "metadata": {
  "kernelspec": {
   "display_name": "Python 2",
   "language": "python",
   "name": "python2"
  },
  "language_info": {
   "codemirror_mode": {
    "name": "ipython",
    "version": 2
   },
   "file_extension": ".py",
   "mimetype": "text/x-python",
   "name": "python",
   "nbconvert_exporter": "python",
   "pygments_lexer": "ipython2",
   "version": "2.7.11"
  }
 },
 "nbformat": 4,
 "nbformat_minor": 0
}
