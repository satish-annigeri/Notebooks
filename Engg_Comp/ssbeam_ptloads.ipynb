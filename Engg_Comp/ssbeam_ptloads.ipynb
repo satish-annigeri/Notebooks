{
 "cells": [
  {
   "cell_type": "markdown",
   "metadata": {},
   "source": [
    "# Simply Supported Beams subjected to Point Loads - Reactions, Shear Force and Bending Moment\n",
    "\n",
    "Let span be $L$, $P_j, \\, j = 1, 2, \\ldots , np$ be the point loads applied at distances $d_j, \\, j=1, 2, \\ldots , np$ from the left end, respectively.\n",
    "\n",
    "$$R_b = \\frac{1}{L} \\sum_{j=1}^{np} \\left( P_j \\cdot d_j \\right)$$\n",
    "\n",
    "$$R_a = \\sum_{j=1}^{np} \\left( P_j \\right) - R_b$$"
   ]
  },
  {
   "cell_type": "code",
   "execution_count": 5,
   "metadata": {
    "collapsed": false
   },
   "outputs": [
    {
     "name": "stdout",
     "output_type": "stream",
     "text": [
      "12.0 20 0.6\n",
      "[  0.    0.6   1.2   1.8   2.4   3.    3.6   4.2   4.8   5.4   6.    6.6\n",
      "   7.2   7.8   8.4   9.    9.6  10.2  10.8  11.4  12. ]\n",
      "[[ 10.   2.]\n",
      " [ 20.   5.]]\n"
     ]
    }
   ],
   "source": [
    "import numpy as np\n",
    "\n",
    "L = 12.0\n",
    "ndiv = 20\n",
    "dx = float(L) / ndiv\n",
    "x = np.linspace(0, L, ndiv+1)\n",
    "print L, ndiv, dx\n",
    "print x\n",
    "P = np.array([[10, 2], [20, 5]], dtype=float)\n",
    "print P"
   ]
  }
 ],
 "metadata": {
  "kernelspec": {
   "display_name": "Python 2",
   "language": "python",
   "name": "python2"
  },
  "language_info": {
   "codemirror_mode": {
    "name": "ipython",
    "version": 2
   },
   "file_extension": ".py",
   "mimetype": "text/x-python",
   "name": "python",
   "nbconvert_exporter": "python",
   "pygments_lexer": "ipython2",
   "version": "2.7.11"
  }
 },
 "nbformat": 4,
 "nbformat_minor": 0
}
