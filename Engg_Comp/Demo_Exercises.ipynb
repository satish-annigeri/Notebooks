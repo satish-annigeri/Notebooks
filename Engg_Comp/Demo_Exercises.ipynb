{
 "cells": [
  {
   "cell_type": "code",
   "execution_count": 2,
   "metadata": {
    "collapsed": false
   },
   "outputs": [
    {
     "name": "stdout",
     "output_type": "stream",
     "text": [
      "<type 'int'> 20\n",
      "<type 'float'> -20.0\n",
      "<type 'float'> 3.5\n"
     ]
    }
   ],
   "source": [
    "n = 20\n",
    "print type(n), n\n",
    "x = -20.0\n",
    "print type(x), x\n",
    "span = 3.5\n",
    "print type(span), span"
   ]
  },
  {
   "cell_type": "code",
   "execution_count": 6,
   "metadata": {
    "collapsed": false
   },
   "outputs": [
    {
     "name": "stdout",
     "output_type": "stream",
     "text": [
      "<type 'bool'> True\n",
      "<type 'complex'> (2-3j)\n",
      "<type 'float'> -0.002\n"
     ]
    }
   ],
   "source": [
    "converge = True\n",
    "print type(converge), converge\n",
    "phaseAngle = 2 - 3j\n",
    "print type(phaseAngle), phaseAngle\n",
    "sigma_x = -2e-3\n",
    "print type(sigma_x), sigma_x"
   ]
  },
  {
   "cell_type": "code",
   "execution_count": 9,
   "metadata": {
    "collapsed": false
   },
   "outputs": [
    {
     "name": "stdout",
     "output_type": "stream",
     "text": [
      "<type 'list'> [1, 2, 3]\n",
      "<type 'tuple'> (10,)\n",
      "<type 'float'> 0.0001\n"
     ]
    }
   ],
   "source": [
    "L = [1, 2, 3]\n",
    "print type(L), L\n",
    "T = (10,)\n",
    "print type(T), T\n",
    "eps = 0.0001\n",
    "print type(eps), eps"
   ]
  },
  {
   "cell_type": "code",
   "execution_count": 10,
   "metadata": {
    "collapsed": false
   },
   "outputs": [
    {
     "name": "stdout",
     "output_type": "stream",
     "text": [
      "<type 'str'> Hubli\n",
      "<type 'str'> Hubballi\n",
      "<type 'str'> BVBCET\n"
     ]
    }
   ],
   "source": [
    "s1 = 'Hubli'\n",
    "print type(s1), s1\n",
    "s2 = \"Hubballi\"\n",
    "print type(s2), s2\n",
    "s3 = '''BVBCET'''\n",
    "print type(s3), s3"
   ]
  },
  {
   "cell_type": "markdown",
   "metadata": {},
   "source": [
    "List the operations that can be performed on a list"
   ]
  },
  {
   "cell_type": "code",
   "execution_count": 18,
   "metadata": {
    "collapsed": false
   },
   "outputs": [
    {
     "name": "stdout",
     "output_type": "stream",
     "text": [
      "5\n",
      "1 2 3 4 5\n",
      "[1, 2, 3, 4, 5, 1, 2, 3, 4, 5]\n",
      "[1, 2, 3, 4, 5, 1, 2, 3, 4, 5]\n",
      "<type 'list'> [[1, 2, 3, 4, 5], [1, 2, 3, 4, 5]]\n"
     ]
    }
   ],
   "source": [
    "L = [1, 2, 3, 4, 5]\n",
    "print len(L)\n",
    "print L[0], L[1], L[2], L[3], L[4]\n",
    "print 2 * L\n",
    "print L + L\n",
    "L1 = 2*[L]\n",
    "print type(L1), L1"
   ]
  },
  {
   "cell_type": "code",
   "execution_count": 26,
   "metadata": {
    "collapsed": false
   },
   "outputs": [
    {
     "name": "stdout",
     "output_type": "stream",
     "text": [
      "64698504 64698504\n",
      "[100, 2, 3, 4, 5] [100, 2, 3, 4, 5]\n",
      "[100, 200, 3, 4, 5] [100, 200, 3, 4, 5]\n",
      "65401800 64691080\n",
      "[100, 2, 3, 4, 5] [1, 2, 3, 4, 5]\n",
      "[100, 2, 3, 4, 5] [1, 200, 3, 4, 5]\n"
     ]
    }
   ],
   "source": [
    "a = [1, 2, 3, 4, 5]\n",
    "b = a\n",
    "print id(a), id(b)\n",
    "a[0] = 100\n",
    "print a, b\n",
    "b[1] = 200\n",
    "print a, b\n",
    "\n",
    "a = [1, 2, 3, 4, 5]\n",
    "b = a[:]\n",
    "print id(a), id(b)\n",
    "a[0] = 100\n",
    "print a, b\n",
    "b[1] = 200\n",
    "print a, b"
   ]
  },
  {
   "cell_type": "code",
   "execution_count": 40,
   "metadata": {
    "collapsed": false
   },
   "outputs": [
    {
     "name": "stdout",
     "output_type": "stream",
     "text": [
      "Hello\n",
      "world\n",
      "olleH\n",
      "dlrow ,olleH\n",
      "world, Hello\n"
     ]
    }
   ],
   "source": [
    "s = 'Hello, world'\n",
    "print s[:5]\n",
    "print s[7:]\n",
    "print s[4::-1]\n",
    "print s[::-1]\n",
    "print s[7:] + s[5:7] + s[:5]"
   ]
  },
  {
   "cell_type": "code",
   "execution_count": 41,
   "metadata": {
    "collapsed": false
   },
   "outputs": [
    {
     "name": "stdout",
     "output_type": "stream",
     "text": [
      "11\n"
     ]
    }
   ],
   "source": [
    "s = 'Abracadabra'\n",
    "print len(s)"
   ]
  },
  {
   "cell_type": "code",
   "execution_count": 47,
   "metadata": {
    "collapsed": false
   },
   "outputs": [
    {
     "name": "stdout",
     "output_type": "stream",
     "text": [
      "16\n",
      "3.14159265359\n",
      "1.28402541669\n",
      "1.28402541669\n",
      "0.195090322016\n",
      "3.14159265359\n"
     ]
    }
   ],
   "source": [
    "import math\n",
    "print 4**2\n",
    "print math.pi\n",
    "print math.e**0.25\n",
    "print math.exp(0.25)\n",
    "print math.sin(math.pi/16)\n",
    "print math.atan(1.0) * 4"
   ]
  },
  {
   "cell_type": "code",
   "execution_count": 51,
   "metadata": {
    "collapsed": false
   },
   "outputs": [
    {
     "data": {
      "image/png": "[encoded data removed]",
      "text/plain": [
       "<matplotlib.figure.Figure at 0x7dce4a8>"
      ]
     },
     "metadata": {},
     "output_type": "display_data"
    }
   ],
   "source": [
    "import numpy as np\n",
    "import matplotlib.pyplot as plt\n",
    "%matplotlib inline\n",
    "\n",
    "t = np.arange(0, 10.1, 0.1)\n",
    "y = np.exp(-t) * (np.sin(2*t) + np.cos(3*t))\n",
    "plt.plot(t, y)\n",
    "plt.grid()\n",
    "plt.show()"
   ]
  },
  {
   "cell_type": "code",
   "execution_count": 53,
   "metadata": {
    "collapsed": false
   },
   "outputs": [
    {
     "name": "stdout",
     "output_type": "stream",
     "text": [
      "2\n",
      "3\n",
      "4\n",
      "5\n",
      "6\n",
      "7\n",
      "8\n",
      "9\n",
      "10\n",
      "11\n",
      "12\n",
      "13\n",
      "14\n"
     ]
    }
   ],
   "source": [
    "for i in range(2, 15):\n",
    "    print i"
   ]
  },
  {
   "cell_type": "code",
   "execution_count": 56,
   "metadata": {
    "collapsed": false
   },
   "outputs": [
    {
     "name": "stdout",
     "output_type": "stream",
     "text": [
      "0.0\n",
      "1.0\n",
      "2.0\n",
      "3.0\n",
      "4.0\n"
     ]
    }
   ],
   "source": [
    "for i in np.arange(0, 5.0):\n",
    "    print i"
   ]
  },
  {
   "cell_type": "code",
   "execution_count": 59,
   "metadata": {
    "collapsed": false
   },
   "outputs": [
    {
     "name": "stdout",
     "output_type": "stream",
     "text": [
      "-1.0\n",
      "-0.5\n",
      "0.0\n",
      "0.5\n",
      "1.0\n",
      "1.5\n",
      "2.0\n"
     ]
    }
   ],
   "source": [
    "for x in np.arange(-1, 2.5, 0.5):\n",
    "    print x"
   ]
  },
  {
   "cell_type": "code",
   "execution_count": 61,
   "metadata": {
    "collapsed": false
   },
   "outputs": [
    {
     "name": "stdout",
     "output_type": "stream",
     "text": [
      "5.0\n",
      "4.5\n",
      "4.0\n",
      "3.5\n",
      "3.0\n",
      "2.5\n",
      "2.0\n",
      "1.5\n",
      "1.0\n",
      "0.5\n",
      "0.0\n"
     ]
    }
   ],
   "source": [
    "for x in np.arange(5, -0.5, -0.5):\n",
    "    print x"
   ]
  },
  {
   "cell_type": "code",
   "execution_count": 63,
   "metadata": {
    "collapsed": false
   },
   "outputs": [
    {
     "name": "stdout",
     "output_type": "stream",
     "text": [
      "[ 10.   12.5  15.   17.5  20. ]\n"
     ]
    }
   ],
   "source": [
    "print np.linspace(10, 20, 5)"
   ]
  },
  {
   "cell_type": "code",
   "execution_count": 74,
   "metadata": {
    "collapsed": false
   },
   "outputs": [
    {
     "name": "stdout",
     "output_type": "stream",
     "text": [
      "1\n",
      "(5L,)\n",
      "5\n",
      "5\n",
      "15\n",
      "55\n",
      "3.0\n"
     ]
    }
   ],
   "source": [
    "x = np.array(range(1, 6))\n",
    "print x.ndim\n",
    "print x.shape\n",
    "print len(x)\n",
    "print x.size\n",
    "print np.sum(x)\n",
    "print np.sum(x**2)\n",
    "print np.average(x)"
   ]
  },
  {
   "cell_type": "code",
   "execution_count": 87,
   "metadata": {
    "collapsed": false
   },
   "outputs": [
    {
     "name": "stdout",
     "output_type": "stream",
     "text": [
      "[[ 1  2  3  4]\n",
      " [ 5  6  7  8]\n",
      " [ 9 10 11 12]]\n",
      "2\n",
      "3\n",
      "12\n",
      "78\n",
      "[15 18 21 24]\n",
      "[10 26 42]\n",
      "650\n",
      "6.5\n",
      "[ 5.  6.  7.  8.]\n",
      "[  2.5   6.5  10.5]\n"
     ]
    }
   ],
   "source": [
    "x = np.array(range(1, 13)).reshape((3,4))\n",
    "print x\n",
    "print x.ndim\n",
    "print len(x)\n",
    "print x.size\n",
    "print np.sum(x)\n",
    "print np.sum(x, axis=0)\n",
    "print np.sum(x, axis=1)\n",
    "print np.sum(x**2)\n",
    "print np.average(x)\n",
    "print np.average(x, axis=0)\n",
    "print np.average(x, axis=1)"
   ]
  }
 ],
 "metadata": {
  "kernelspec": {
   "display_name": "Python 2",
   "language": "python",
   "name": "python2"
  },
  "language_info": {
   "codemirror_mode": {
    "name": "ipython",
    "version": 2
   },
   "file_extension": ".py",
   "mimetype": "text/x-python",
   "name": "python",
   "nbconvert_exporter": "python",
   "pygments_lexer": "ipython2",
   "version": "2.7.11"
  }
 },
 "nbformat": 4,
 "nbformat_minor": 0
}
