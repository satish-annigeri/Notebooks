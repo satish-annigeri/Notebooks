{
 "cells": [
  {
   "cell_type": "markdown",
   "metadata": {
    "collapsed": true
   },
   "source": [
    "# Fixed Beam subjected to Point Loads\n",
    "Consider a fixed beam subjected to point loads applied perpendicular to the span. The structure is statically indeterminate to second degree. However, our knowledge of fixed end moments, obtained from other methods such as strain energy or conjugate beam method give us the expressions to compute the fixed end moments $M_a$ and $M_b$ at the left and right supports respectively in a fixed beam of span $L$ due to a single point load $P_i$ applied at a distance $a_i$ from the left support as follows:.\n",
    "$$\n",
    "\\begin{align*}\n",
    "M_a &= \\frac{1}{L^2} \\sum P_i \\, a_i \\, (L - a_i)^2 \\\\\n",
    "M_b &= \\frac{1}{L^2} \\sum P_i \\, (L - a_i) \\, a_i^2\n",
    "\\end{align*}$$\n",
    "\n",
    "Knowing the fixed end moments at the two ends, we are left with only two unknown reactions, namely, $R_a$ and $R_b$ at the keft and right supports respectively. These can be determined by writing the two equations of static equilibrium, namely:\n",
    "$$\n",
    "\\begin{align*}\n",
    "\\sum F_x &= R_a + R_b - \\sum_{i=0}^{n-1} P_i = 0 \\\\\n",
    "\\sum M_a &= R_b \\, L + M_a - M_b - \\sum_{i=0}^{n-1} P_i \\, a_i = 0\n",
    "\\end{align*}$$\n",
    "\n",
    "These equations can be rearranged to obtain the reactions $R_a$ and $R_b$ as follows:\n",
    "$$\n",
    "\\begin{align*}\n",
    "R_b &= \\frac{1}{L} \\left( M_b - M_a + \\sum_{i=0}^{n-1} P_i \\, a_i \\right) \\\\\n",
    "R_a &= \\sum_{i=0}^{n-1} P_i - R_b \n",
    "\\end{align*}$$\n",
    "\n",
    "In the above expressions, $n$ is the number of applied point loads."
   ]
  },
  {
   "cell_type": "code",
   "execution_count": 1,
   "metadata": {
    "collapsed": false
   },
   "outputs": [
    {
     "name": "stdout",
     "output_type": "stream",
     "text": [
      "Span = 10.0\n",
      "Loads = [ 50.  75.  40.]\n",
      "Distance of loads = [ 2.  5.  6.]\n",
      "Number of equal divisions = 1000\n",
      "Number of sections = 1001\n",
      "\n",
      "Reactions\n",
      "Ra = 96.38 Ma = 196.15 Rb = 68.62 Mb = 167.35\n",
      "\n",
      "           x (m)    SF (kN)   BM (kNm)\n",
      "    0       0.00      96.38    -196.15\n",
      "  100       1.00      96.38     -99.77\n",
      "  200       2.00      96.38      -3.39\n",
      "  300       3.00      46.38      42.99\n",
      "  400       4.00      46.38      89.37\n",
      "  500       5.00      46.38     135.75\n",
      "  600       6.00     -28.62     107.13\n",
      "  700       7.00     -68.62      38.51\n",
      "  800       8.00     -68.62     -30.11\n",
      "  900       9.00     -68.62     -98.73\n",
      " 1000      10.00     -68.62    -167.35\n"
     ]
    },
    {
     "data": {
      "image/png": "[encoded data removed]",
      "text/plain": [
       "<matplotlib.figure.Figure at 0x6cc59b0>"
      ]
     },
     "metadata": {},
     "output_type": "display_data"
    }
   ],
   "source": [
    "import numpy as np\n",
    "import matplotlib.pyplot as plt\n",
    "%matplotlib inline\n",
    "\n",
    "# Input Data\n",
    "L = 10.0\n",
    "P = np.array([50.0, 75.0, 40.0])\n",
    "a = np.array([2.0, 5.0, 6.0])\n",
    "ndiv = 1000\n",
    "nprint = 100\n",
    "\n",
    "# Echo of input\n",
    "nsec = ndiv + 1 # Number of sections\n",
    "print 'Span =', L\n",
    "print 'Loads =', P\n",
    "print 'Distance of loads =', a\n",
    "print 'Number of equal divisions =', ndiv\n",
    "print 'Number of sections =', nsec\n",
    "\n",
    "# Reactions\n",
    "sumP = 0.0\n",
    "sumM = 0.0\n",
    "Ma = 0.0\n",
    "Mb = 0.0\n",
    "nloads = P.size\n",
    "for i in range(nloads):\n",
    "    sumP += P[i]\n",
    "    sumM += P[i] * a[i]\n",
    "    Ma += P[i] * a[i] * (L - a[i])**2 / L**2\n",
    "    Mb += P[i] * (L - a[i]) * a[i]**2 / L**2\n",
    "\n",
    "Rb = (Mb - Ma + sumM) / L\n",
    "Ra = sumP - Rb\n",
    "print '\\nReactions'\n",
    "print 'Ra =', Ra, 'Ma =', Ma, 'Rb =', Rb, 'Mb =', Mb\n",
    "\n",
    "# SF and BM\n",
    "V = np.zeros(nsec, dtype=float) # SF\n",
    "M = np.zeros_like(V)            # BM\n",
    "x = np.linspace(0, L, nsec)     # Section distances\n",
    "\n",
    "print\n",
    "print \"%5s %10s %10s %10s\" % ('', 'x (m)', 'SF (kN)', 'BM (kNm)')\n",
    "for j in range(nsec): # One section at a time\n",
    "    V[j] = Ra\n",
    "    M[j] = Ra * x[j] - Ma\n",
    "    for i in range(nloads): # One load at a time\n",
    "        if a[i] < x[j]: # Load to left of section\n",
    "            V[j] -= P[i]\n",
    "            M[j] -= P[i] * (x[j] - a[i])\n",
    "\n",
    "    if j % nprint == 0:\n",
    "        print \"%5d %10.2f %10.2f %10.2f\" % (j, x[j], V[j], M[j])\n",
    "\n",
    "# Plot of SF and BM\n",
    "plt.subplot(211)\n",
    "plt.plot(x, V)\n",
    "plt.grid()\n",
    "plt.axhline(0.0, color='k')\n",
    "plt.xlabel('x (m)')\n",
    "plt.ylabel('SF (kN)')\n",
    "plt.title('SF Diagram')\n",
    "plt.subplot(212)\n",
    "plt.plot(x, M)\n",
    "plt.axhline(0.0, color='k')\n",
    "plt.grid()\n",
    "plt.xlabel('x (m)')\n",
    "plt.ylabel('BM (kNm)')\n",
    "plt.title('BM Diagram')\n",
    "plt.tight_layout()\n",
    "plt.savefig('sf_bm.png')\n",
    "plt.show()"
   ]
  },
  {
   "cell_type": "markdown",
   "metadata": {
    "collapsed": true
   },
   "source": [
    "To play around with parameters, it would be best to modularise the program by converting the above program into functions that would do the following:\n",
    "\n",
    "1. Function **`input()`** where we can define the input data\n",
    "2. Function **`reactions`** to calculate support reactions\n",
    "3. Function **`sf_bm()`** to calculate SF and BM at chosen sections\n",
    "4. Function **`plot_sf_bm()`** to plot SF and BM diagram"
   ]
  },
  {
   "cell_type": "code",
   "execution_count": 9,
   "metadata": {
    "collapsed": false
   },
   "outputs": [
    {
     "name": "stdout",
     "output_type": "stream",
     "text": [
      "Fixed Beam subjected to point Loads\n",
      "Span = 10.00m\n",
      "Magnitude of loads (kN): [ 50.  75.  40.]\n",
      "Distance of loads from left support (m): [ 2.  5.  6.]\n",
      "Number of equal divisions of span: 1000\n",
      "\n",
      "Reactions\n",
      "Ra = 96.38kN, Ma = 196.15kNm, Rb = 68.62kN, Mb = 167.35kNm\n",
      "\n",
      "           x (m)    SF (kN)   BM (kNm)\n",
      "    0       0.00      96.38    -196.15\n",
      "  100       1.00      96.38     -99.77\n",
      "  200       2.00      96.38      -3.39\n",
      "  300       3.00      46.38      42.99\n",
      "  400       4.00      46.38      89.37\n",
      "  500       5.00      46.38     135.75\n",
      "  600       6.00     -28.62     107.13\n",
      "  700       7.00     -68.62      38.51\n",
      "  800       8.00     -68.62     -30.11\n",
      "  900       9.00     -68.62     -98.73\n",
      " 1000      10.00     -68.62    -167.35\n"
     ]
    },
    {
     "data": {
      "image/png": "[encoded data removed]",
      "text/plain": [
       "<matplotlib.figure.Figure at 0x86980b8>"
      ]
     },
     "metadata": {},
     "output_type": "display_data"
    }
   ],
   "source": [
    "def input():\n",
    "    L = 10.0\n",
    "    P = np.array([50.0, 75.0, 40.0])\n",
    "    a = np.array([2.0, 5.0, 6.0])\n",
    "    ndiv = 1000\n",
    "    nprint = 100\n",
    "    print 'Fixed Beam subjected to point Loads'\n",
    "    print 'Span = %.2fm' % L\n",
    "    print 'Magnitude of loads (kN):', P\n",
    "    print 'Distance of loads from left support (m):', a\n",
    "    print 'Number of equal divisions of span:', ndiv\n",
    "    return L, P, a, ndiv, nprint\n",
    "\n",
    "def reactions(L, P, a):\n",
    "    sumP = 0.0\n",
    "    sumM = 0.0\n",
    "    Ma = 0.0\n",
    "    Mb = 0.0\n",
    "    nloads = P.size\n",
    "    for i in range(nloads):\n",
    "        sumP += P[i]\n",
    "        sumM += P[i] * a[i]\n",
    "        Ma += P[i] * a[i] * (L - a[i])**2 / L**2\n",
    "        Mb += P[i] * (L - a[i]) * a[i]**2 / L**2\n",
    "\n",
    "    Rb = (Mb - Ma + sumM) / L\n",
    "    Ra = sumP - Rb\n",
    "    return Ra, Ma, Rb, Mb\n",
    "\n",
    "def sf_bm(L, P, a, ndiv, nprint):\n",
    "    V = np.zeros(nsec, dtype=float) # SF\n",
    "    M = np.zeros_like(V)            # BM\n",
    "    x = np.linspace(0, L, nsec)     # Section distances\n",
    "\n",
    "    print\n",
    "    print \"%5s %10s %10s %10s\" % ('', 'x (m)', 'SF (kN)', 'BM (kNm)')\n",
    "    for j in range(nsec): # One section at a time\n",
    "        V[j] = Ra\n",
    "        M[j] = Ra * x[j] - Ma\n",
    "        for i in range(nloads): # One load at a time\n",
    "            if a[i] < x[j]: # Load to left of section\n",
    "                V[j] -= P[i]\n",
    "                M[j] -= P[i] * (x[j] - a[i])\n",
    "\n",
    "        if j % nprint == 0:\n",
    "            print \"%5d %10.2f %10.2f %10.2f\" % (j, x[j], V[j], M[j])\n",
    "    return x, V, M\n",
    "\n",
    "def plot_sf_bm(x, V, M):\n",
    "    plt.subplot(211)\n",
    "    plt.plot(x, V)\n",
    "    plt.grid()\n",
    "    plt.axhline(0.0, color='k')\n",
    "    plt.xlabel('x (m)')\n",
    "    plt.ylabel('SF (kN)')\n",
    "    plt.title('SF Diagram')\n",
    "    plt.subplot(212)\n",
    "    plt.plot(x, M)\n",
    "    plt.axhline(0.0, color='k')\n",
    "    plt.grid()\n",
    "    plt.xlabel('x (m)')\n",
    "    plt.ylabel('BM (kNm)')\n",
    "    plt.title('BM Diagram')\n",
    "    plt.tight_layout()\n",
    "    plt.savefig('sf_bm.png')\n",
    "    plt.show()\n",
    "    return\n",
    "\n",
    "L, P, a, ndiv, nprint = input()\n",
    "Ra, Ma, Rb, Mb = reactions(L, P, a)\n",
    "print\n",
    "print 'Reactions'\n",
    "print 'Ra = %.2fkN, Ma = %.2fkNm, Rb = %.2fkN, Mb = %.2fkNm' % (Ra, Ma, Rb, Mb)\n",
    "\n",
    "x, V, M = sf_bm(L, P, a, ndiv, nprint)\n",
    "plot_sf_bm(x, V, M)"
   ]
  },
  {
   "cell_type": "code",
   "execution_count": null,
   "metadata": {
    "collapsed": true
   },
   "outputs": [],
   "source": []
  }
 ],
 "metadata": {
  "kernelspec": {
   "display_name": "Python 2",
   "language": "python",
   "name": "python2"
  },
  "language_info": {
   "codemirror_mode": {
    "name": "ipython",
    "version": 2
   },
   "file_extension": ".py",
   "mimetype": "text/x-python",
   "name": "python",
   "nbconvert_exporter": "python",
   "pygments_lexer": "ipython2",
   "version": "2.7.11"
  }
 },
 "nbformat": 4,
 "nbformat_minor": 0
}
