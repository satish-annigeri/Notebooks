{
 "cells": [
  {
   "cell_type": "markdown",
   "metadata": {},
   "source": [
    "# Linear Algebraic Equations\n",
    "Linear algebraic equations are represented as:\n",
    "$$\n",
    "\\begin{align*}\n",
    "\\begin{bmatrix} A \\end{bmatrix}\n",
    "\\begin{Bmatrix} x \\end{Bmatrix} &= \\begin{Bmatrix} B \\end{Bmatrix} \\\\\n",
    "\\begin{bmatrix}\n",
    "a_{11} & a_{12} & \\cdots & a_{1n} \\\\\n",
    "a_{21} & a_{22} & \\cdots & a_{2n} \\\\\n",
    " \\vdots & \\vdots & \\ddots & \\vdots \\\\\n",
    "a_{n1} & a_{n2} & \\cdots & a_{nn}\n",
    "\\end{bmatrix}\n",
    "\\begin{Bmatrix}\n",
    "x_1 \\\\ x_2 \\\\ \\vdots \\\\ x_n\n",
    "\\end{Bmatrix} &=\n",
    "\\begin{Bmatrix}\n",
    "b_1 \\\\ b_2 \\\\ \\vdots \\\\ b_n\n",
    "\\end{Bmatrix}\n",
    "\\end{align*}\n",
    "$$\n",
    "Given $[A]$ and $\\{ B \\}$, we must find $\\{ x \\}$. Methods of solving linear algebraic equations can be categorized into:\n",
    "1. **Direct Methods:** which are non-iterative and involve a fixed number of steps\n",
    "1. **Iterative Methods:** which are iterative and repeat a fixed sequence of steps agai and again until the results reach the desired accuracy.\n",
    "\n",
    "## Gauss Elimination\n",
    "Gauss elimination is a direct method and serves as the base for many other direct methods.\n",
    "\n",
    "Gauss elimination method involves a series of row operations carried out on the coefficient matrix and the right hand side vector such that the coefficient matrix is converted into an upper triangular matrix. Solving linear algebraic equations when coefficient matrix is an upper triangular matrix is trivial, as the last row contains only one unknown and can be easily solved. Subsequently, working backwards one row at a time, we can solve for the remaining unknowns as each row now contains only one unknown while the others are determined from the rows below it.\n",
    "\n",
    "Gauss elimination consists of two steps:\n",
    "1. Forward elimination\n",
    "2. Back substitution\n",
    "\n",
    "### Row Operations\n",
    "Gauss elimination uses **row operations**. Row operations can be one of the following:\n",
    "1. Interchanging two rows\n",
    "2. Scaling a row by multiplying it with a constant\n",
    "3. Scaling one row and adding it to another row\n",
    "\n",
    "Row operations change the coefficient matrix and right hand side vector but not the unknowns.\n",
    "\n",
    "## Naive Gauss Elimination\n",
    "Pivoting is the process of interchanging the rows to bring the row with largest absolute value in the pivotal column to the pivotal position. Pivoting increases numerical accuracy of the solution as well as make it possible to solve some problems which cannot be solved without pivoting. At this point of time, we will not consider pivoting and naively carry out Gauss elimination.\n",
    "\n",
    "We will first input the given data and solve the equations using the built-in function **``numpy.linalg.solve()``**"
   ]
  },
  {
   "cell_type": "code",
   "execution_count": 1,
   "metadata": {
    "collapsed": false
   },
   "outputs": [
    {
     "name": "stdout",
     "output_type": "stream",
     "text": [
      "Before Forward Elimination\n",
      "[[  5.   4.   1.]\n",
      " [ 10.   9.   4.]\n",
      " [ 10.  13.  15.]]\n",
      "[  6.8  17.6  38.4]\n",
      "\n",
      "Solution\n",
      "[ 0.4  0.8  1.6]\n",
      "[  0.00000000e+00   0.00000000e+00  -7.10542736e-15]\n"
     ]
    }
   ],
   "source": [
    "from __future__ import division, print_function\n",
    "import numpy as np\n",
    "\n",
    "# Input coefficient matrix [A] and right hand side vector {b}\n",
    "a = np.array([ [5, 4, 1], [10, 9, 4], [10, 13, 15]], dtype=float)\n",
    "print('Before Forward Elimination')\n",
    "print(a)\n",
    "b = np.array([6.8, 17.6, 38.4])\n",
    "print(b)\n",
    "\n",
    "# Solve the equations using built-in function numpy.linalg.solve()\n",
    "x = np.linalg.solve(a, b)\n",
    "print()\n",
    "print('Solution')\n",
    "print(x)\n",
    "print(np.dot(a, x) - b)"
   ]
  },
  {
   "cell_type": "markdown",
   "metadata": {},
   "source": [
    "## Count Rows and Columns and Loop through Rows \n",
    "We will first learn how to count the number of rows and columns and then loop through the rows, select the pivotal row and determne the rows that will be modified for a given pivotal row.\n",
    "\n",
    "### Forward Elimination\n",
    "$$ f_i = \\frac{a_{ip}}{a_{pp}}  \\text{ where } i=p+1, p+2, \\ldots, n  \\text{ and } p=1, 2, \\ldots, n-1$$\n",
    "\n",
    "$$ a'_{ij} = a_{ij} - f_i \\cdot a_{pj}  \\text{ where } j = p, p+1, \\ldots, n, i=p+1, p+2, \\ldots, n  \\text{ and } p=1, 2, \\ldots, n-1$$\n",
    "\n",
    "$$ b'_i = b_i - f_i \\cdot b{p} i=p+1, p+2, \\ldots, n  \\text{ and } p=1, 2, \\ldots, n-1$$\n",
    "\n",
    "$$[A] \\begin{bmatrix}a'_{11} & a'_{12} & \\cdots & a'_{1n} \\\\\n",
    "0 & a'_{22} & \\cdots & a'_{2n} \\\\\n",
    "\\vdots & \\vdots & \\ddots & \\vdots \\\\\n",
    "0 & 0 & \\cdots & a'_{nn}\n",
    "\\end{bmatrix}  \\begin{Bmatrix} x_1 \\\\ x_2 \\\\ \\vdots \\\\ x_n \\end{Bmatrix} = \\begin{Bmatrix} b'_1 \\\\ b'_2 \\\\ \\vdots \\\\ b'_n \\end{Bmatrix}$$\n",
    "\n",
    "### Back Substitution\n",
    "$$ x_n = \\frac{b'_n}{a'_{nn}} $$\n",
    "\n",
    "$$ x_i = b'_i - \\sum_{j=i+1}^{n} \\left( a'_{ij} b'_j \\right); \\text{ where } i = n-1, n-2, \\ldots, 1$$"
   ]
  },
  {
   "cell_type": "code",
   "execution_count": 2,
   "metadata": {
    "collapsed": false,
    "scrolled": false
   },
   "outputs": [
    {
     "name": "stdout",
     "output_type": "stream",
     "text": [
      "Before Forward Elimination\n",
      "[[  5.   4.   1.]\n",
      " [ 10.   9.   4.]\n",
      " [ 10.  13.  15.]]\n",
      "[  6.8  17.6  38.4]\n",
      "Rows = 3 Columns = 3\n",
      "Coefficient matrix is square\n",
      "Size of b is correct\n",
      "Row 0 : [ 5.  4.  1.] 6.8\n",
      "Row 1 : [ 10.   9.   4.] 17.6\n",
      "Row 2 : [ 10.  13.  15.] 38.4\n",
      "Pivotal row 0 [ 5.  4.  1.]\n",
      "\tModify row 1 [ 10.   9.   4.] 17.6 2.0\n",
      "\tAfter modification [ 0.  1.  2.] 4.0\n",
      "\tModify row 2 [ 10.  13.  15.] 38.4 2.0\n",
      "\tAfter modification [  0.   5.  13.] 24.8\n",
      "Pivotal row 1 [ 0.  1.  2.]\n",
      "\tModify row 2 [  0.   5.  13.] 24.8 5.0\n",
      "\tAfter modification [ 0.  0.  3.] 4.8\n",
      "After Forward Elimination\n",
      "[[ 5.  4.  1.]\n",
      " [ 0.  1.  2.]\n",
      " [ 0.  0.  3.]]\n",
      "[ 6.8  4.   4.8]\n",
      "1.6\n",
      "Solving for unknown 1 3.2 0.8\n",
      "Solving for unknown 0 4.8 0.4\n",
      "[ 0.4  0.8  1.6]\n"
     ]
    }
   ],
   "source": [
    "a = np.array([ [5, 4, 1], [10, 9, 4], [10, 13, 15]], dtype=float)\n",
    "b = np.array([6.8, 17.6, 38.4])\n",
    "print('Before Forward Elimination')\n",
    "print(a)\n",
    "print(b)\n",
    "m, n = a.shape\n",
    "print('Rows =', m, 'Columns =', n)\n",
    "if m != n:\n",
    "    print('Error: Coefficient matrix must be square')\n",
    "else:\n",
    "    print('Coefficient matrix is square')\n",
    "\n",
    "if m != len(b):\n",
    "    print('Size of b is incorrect')\n",
    "else:\n",
    "    print('Size of b is correct')\n",
    "    \n",
    "for i in range(m):\n",
    "    print('Row', i, ':', a[i, :], b[i])\n",
    "\n",
    "for p in range(m-1):\n",
    "    print('Pivotal row', p, a[p, :])\n",
    "    for i in range(p+1, m):\n",
    "        f = a[i,p] / a[p, p]\n",
    "        print('\\tModify row', i, a[i, :], b[i], f)\n",
    "        a[i, p:] = a[i, p:] - f * a[p, p:]\n",
    "        b[i] = b[i] - f * b[p]\n",
    "        print('\\tAfter modification', a[i, :], b[i])\n",
    "print('After Forward Elimination')\n",
    "print(a)\n",
    "print(b)\n",
    "# Back Substitution\n",
    "x = np.zeros_like(b)\n",
    "# Last unknown\n",
    "x[m-1] = b[m-1] / a[m-1, m-1]\n",
    "print(x[m-1])\n",
    "\n",
    "for i in range(m-2, -1, -1):\n",
    "    s = np.dot(a[i, i+1:], x[i+1:])\n",
    "    x[i] = (b[i] - s) / a[i, i]\n",
    "    print('Solving for unknown', i, s, x[i])\n",
    "print(x)"
   ]
  },
  {
   "cell_type": "code",
   "execution_count": 3,
   "metadata": {
    "collapsed": false
   },
   "outputs": [
    {
     "name": "stdout",
     "output_type": "stream",
     "text": [
      "[ 0.4  0.8  1.6]\n",
      "[ 0.4  0.8  1.6]\n"
     ]
    }
   ],
   "source": [
    "def gauss_elim(a, b):\n",
    "    m, n = a.shape\n",
    "    if m != n:\n",
    "        print('Error: Coefficient matrix is not square')\n",
    "        return None\n",
    "    if m != len(b):\n",
    "        print('Error: Rows in [A] must be equal to size of b')\n",
    "        return None\n",
    "    # Forward elimination\n",
    "    for p in range(m-1):\n",
    "        for i in range(p+1, m):\n",
    "            f = a[i,p] / a[p, p]\n",
    "            a[i, p:] = a[i, p:] - f * a[p, p:]\n",
    "            b[i] = b[i] - f * b[p]\n",
    "    # Back substitution\n",
    "    x = np.zeros_like(b)\n",
    "    x[m-1] = b[m-1] / a[m-1, m-1]\n",
    "    for i in range(m-2, -1, -1):\n",
    "        s = np.dot(a[i, i+1:], x[i+1:])\n",
    "        x[i] = (b[i] - s) / a[i, i]\n",
    "    return x\n",
    "\n",
    "a = np.array([ [5, 4, 1], [10, 9, 4], [10, 13, 15]], dtype=float)\n",
    "b = np.array([6.8, 17.6, 38.4])\n",
    "x = gauss_elim(a, b)\n",
    "print(x)\n",
    "a = np.array([ [5, 4, 1], [10, 9, 4], [10, 13, 15]], dtype=float)\n",
    "b = np.array([6.8, 17.6, 38.4])\n",
    "print(np.linalg.solve(a, b))"
   ]
  },
  {
   "cell_type": "markdown",
   "metadata": {},
   "source": [
    "### Function for Forward Elimination\n",
    "Having understood how to count rows and columns and selecting pivotal row and rows to be modified for each pivotal row, we can now proceed to carry out naive forward elimination. Forward elimination is a series of row operations, mainly involving subtraction of scaled form of the pivotal row from the row being modified such that the element in the pivotal column of the row being modified must become zero. At the end of forward elimination, coefficient matrix $[A]$ must be converted into an upper triangular matrix and right hand side vector $\\{ b \\}$ must be modified compared to the original.\n",
    "$$\n",
    "a_{i,j} = a_{ij} - \\frac{a_{ip}}{a_{pp}} \\, a_{pj}\n",
    "$$"
   ]
  },
  {
   "cell_type": "code",
   "execution_count": 4,
   "metadata": {
    "collapsed": false
   },
   "outputs": [
    {
     "name": "stdout",
     "output_type": "stream",
     "text": [
      "Before Forward Elimination\n",
      "[[  5.   4.   1.]\n",
      " [ 10.   9.   4.]\n",
      " [ 10.  13.  15.]]\n",
      "[  6.8  17.6  38.4]\n",
      "After Forward Elimination\n",
      "[[ 5.  4.  1.]\n",
      " [ 0.  1.  2.]\n",
      " [ 0.  0.  3.]]\n",
      "[ 6.8  4.   4.8]\n"
     ]
    }
   ],
   "source": [
    "def forward_elim(a, b):\n",
    "    m, n = a.shape\n",
    "    if m != n:\n",
    "        print('Coefficient matrix [A] must be square')\n",
    "        return\n",
    "    if m != len(b):\n",
    "        print('Number of rows in [A] must equal number of elements in {b}')\n",
    "        return\n",
    "    for p in range(m-1):\n",
    "        for i in range(p+1, m):\n",
    "            f = a[i, p] / a[p, p]\n",
    "            a[i, p:] = a[i, p:] - f * a[p, p:]\n",
    "            b[i] = b[i] - f * b[p]\n",
    "    return a, b\n",
    "\n",
    "a = np.array([ [5, 4, 1], [10, 9, 4], [10, 13, 15]], dtype=float)\n",
    "b = np.array([6.8, 17.6, 38.4])\n",
    "print('Before Forward Elimination')\n",
    "print(a)\n",
    "print(b)\n",
    "aa, bb = forward_elim(a, b)\n",
    "print('After Forward Elimination')\n",
    "print(aa)\n",
    "print(bb)"
   ]
  },
  {
   "cell_type": "markdown",
   "metadata": {},
   "source": [
    "## Back Substitution\n",
    "When coeficient matrix $[A]$ is an upper triangular matrix, the last unknown $x_n$ can be obtained easily because all elements in the last row of $[A]$ except $a_{nn}$ are zero. Thus\n",
    "$$x_n = \\frac{b_n}{a_{nn}}$$\n",
    "With $x_n$ known, we can gradually work backwards and find the remaining unknowns in the reverse sequence $x_{n-1}, x_{n-1}, \\ldots, x_n$.\n",
    "\n",
    "To find the unknown $x_i$ corresponding to row $i$, we must multiply columns of that row with the corresponding unknowns that have been previously determined and subtract it from the value on the right hand side. Then we must divide that difference with the diagonal element of that row.\n",
    "$$x_i = \\frac{b_i - \\sum_{j=i+1}^{n}{a_{ij} x_j}}{a_{ii}} \\qquad i = n-1, n-2, \\ldots , 1$$\n",
    "### Function for Back Substitution"
   ]
  },
  {
   "cell_type": "code",
   "execution_count": 6,
   "metadata": {
    "collapsed": false
   },
   "outputs": [
    {
     "name": "stdout",
     "output_type": "stream",
     "text": [
      "[ 0.  0.  0.]\n",
      "Row 1 [ 2.] [ 1.6] 4.0 Sum = 3.2\n",
      "0.8\n",
      "Row 0 [ 4.  1.] [ 0.8  1.6] 6.8 Sum = 4.8\n",
      "0.4\n",
      "\n",
      "Solution\n",
      "[ 0.4  0.8  1.6]\n"
     ]
    }
   ],
   "source": [
    "x = np.zeros_like(b)\n",
    "print(x)\n",
    "\n",
    "x[-1] = bb[-1] / aa[-1, -1]\n",
    "print \n",
    "(x)\n",
    "\n",
    "for i in range(m-2, -1, -1):\n",
    "    s = np.dot(aa[i, i+1:], x[i+1:])\n",
    "    print('Row', i, aa[i, i+1:], x[i+1:], bb[i], 'Sum =', s)\n",
    "    x[i] = (bb[i] - s) / aa[i, i]\n",
    "    print(x[i])\n",
    "print()\n",
    "print('Solution')\n",
    "print(x)"
   ]
  },
  {
   "cell_type": "markdown",
   "metadata": {},
   "source": [
    "We can now convert this procedure into a function that takes in the modified coefficient matrix $[A]$ and right hand side vector $\\{ b \\}$ obtained after forward elimination and calculates all the unknowns $\\{ x \\}$."
   ]
  },
  {
   "cell_type": "code",
   "execution_count": 7,
   "metadata": {
    "collapsed": false
   },
   "outputs": [
    {
     "name": "stdout",
     "output_type": "stream",
     "text": [
      "Solution\n",
      "[ 0.4  0.8  1.6]\n",
      "[ 0.  0.  0.]\n"
     ]
    }
   ],
   "source": [
    "def back_sub(a, b):\n",
    "    x = np.zeros_like(b)\n",
    "    x[-1] = b[-1] / a[-1, -1]\n",
    "    for i in range(m-1, -1, -1):\n",
    "        s = np.dot(a[i,i+1:], x[i+1:])\n",
    "        x[i] = (b[i] - s) / a[i, i]\n",
    "    return x\n",
    "\n",
    "x = back_sub(aa, bb)\n",
    "print('Solution')\n",
    "print(x)\n",
    "print(np.dot(a, x) - b)"
   ]
  },
  {
   "cell_type": "markdown",
   "metadata": {},
   "source": [
    "## Partial Pivoting\n",
    "Before commencing with modifying the rows below the pivotal row, we must examine which of the rows is best suited to be the pivotal row. The row with the largest absolute value in the pivotal column must be exchanged with the pivotal row. We must therefore be able to identify row number of the row with the largest absolute value in the pivotal column, starting from the pivotal row.\n",
    "$$max(a_{ip}), \\qquad i=p, p+1, \\ldots, n-1, \\quad p=0, 1, \\ldots , n-2, \\quad n=\\text{number of equations}$$"
   ]
  },
  {
   "cell_type": "code",
   "execution_count": 8,
   "metadata": {
    "collapsed": false
   },
   "outputs": [
    {
     "name": "stdout",
     "output_type": "stream",
     "text": [
      "Before partial pivoting\n",
      "[[ 0.  2.  3.  9.]\n",
      " [ 4.  2.  4.  0.]\n",
      " [ 2.  2.  3.  2.]\n",
      " [ 4.  3.  6.  3.]]\n",
      "[ 122.   20.   36.   60.]\n"
     ]
    }
   ],
   "source": [
    "def partial_pivoting(a, b, p):\n",
    "    n = len(a)\n",
    "    amax = np.abs(a[p, p])\n",
    "    imax = p\n",
    "    for i in range(p+1, n):\n",
    "        if np.abs(a[i, p] > amax):\n",
    "            imax = i\n",
    "            amax = np.abs(a[i, p])\n",
    "    if imax > p:\n",
    "        tmp = a[p, p:].copy()\n",
    "        a[p, p:] = a[imax, p:].copy()\n",
    "        a[imax, p:] = tmp.copy()\n",
    "        \n",
    "        tmp = b[p]\n",
    "        b[p] = b[imax]\n",
    "        b[imax] = tmp\n",
    "    return a, b\n",
    "\n",
    "a = np.array([ [0, 2, 3, 9], [4, 2, 4, 0], \n",
    "               [2, 2, 3, 2], [4, 3, 6, 3] ], dtype=float)\n",
    "b = np.array([122, 20, 36, 60], dtype=float)\n",
    "print('Before partial pivoting')\n",
    "print(a)\n",
    "print(b)"
   ]
  },
  {
   "cell_type": "code",
   "execution_count": 9,
   "metadata": {
    "collapsed": false
   },
   "outputs": [
    {
     "name": "stdout",
     "output_type": "stream",
     "text": [
      "After partial pivoting\n",
      "[[ 4.  2.  4.  0.]\n",
      " [ 0.  2.  3.  9.]\n",
      " [ 2.  2.  3.  2.]\n",
      " [ 4.  3.  6.  3.]]\n",
      "[  20.  122.   36.   60.]\n"
     ]
    }
   ],
   "source": [
    "aa, bb = partial_pivoting(a, b, 0)\n",
    "print('After partial pivoting')\n",
    "print(aa)\n",
    "print(bb)"
   ]
  },
  {
   "cell_type": "markdown",
   "metadata": {},
   "source": [
    "## Forward Elimination with Partial Pivoting\n",
    "We will now modify forward elimination in such a way that we can choose to use partial pivoting only when we want."
   ]
  },
  {
   "cell_type": "code",
   "execution_count": 12,
   "metadata": {
    "collapsed": false
   },
   "outputs": [
    {
     "name": "stdout",
     "output_type": "stream",
     "text": [
      "[[ 0.  2.  3.  9.]\n",
      " [ 4.  2.  4.  0.]\n",
      " [ 2.  2.  3.  2.]\n",
      " [ 4.  3.  6.  3.]]\n",
      "[ 122.   20.   36.   60.]\n",
      "Without partial pivoting\n",
      "[[  0.   2.   3.   9.]\n",
      " [ nan -inf -inf -inf]\n",
      " [ nan  nan  nan  nan]\n",
      " [ nan  nan  nan  nan]] [ 122.  -inf   nan   nan]\n"
     ]
    },
    {
     "name": "stderr",
     "output_type": "stream",
     "text": [
      "C:\\Users\\Satish\\Anaconda2\\lib\\site-packages\\ipykernel\\__main__.py:13: RuntimeWarning: divide by zero encountered in double_scalars\n",
      "C:\\Users\\Satish\\Anaconda2\\lib\\site-packages\\ipykernel\\__main__.py:14: RuntimeWarning: invalid value encountered in multiply\n",
      "C:\\Users\\Satish\\Anaconda2\\lib\\site-packages\\ipykernel\\__main__.py:13: RuntimeWarning: invalid value encountered in double_scalars\n"
     ]
    }
   ],
   "source": [
    "def forward_elim(a, b, pivoting=True):\n",
    "    m, n = a.shape\n",
    "    if m != n:\n",
    "        print('Coefficient matrix [A] must be square')\n",
    "        return\n",
    "    if m != len(b):\n",
    "        print('Number of rows in [A] must equal number of elements in {b}')\n",
    "        return\n",
    "    for p in range(m-1):\n",
    "        if pivoting:\n",
    "            a, b = partial_pivoting(a, b, p)\n",
    "        for i in range(p+1, m):\n",
    "            f = a[i, p] / a[p, p]\n",
    "            a[i, p:] = a[i, p:] - f * a[p, p:]\n",
    "            b[i] = b[i] - f * b[p]\n",
    "    return a, b\n",
    "\n",
    "a = np.array([ [0, 2, 3, 9], [4, 2, 4, 0], [2, 2, 3, 2], [4, 3, 6, 3] ], dtype=float)\n",
    "b = np.array([122, 20, 36, 60], dtype=float)\n",
    "print(a)\n",
    "print(b)\n",
    "print('Without partial pivoting')\n",
    "aa, bb = forward_elim(a, b, False)\n",
    "print(aa, bb)"
   ]
  },
  {
   "cell_type": "markdown",
   "metadata": {},
   "source": [
    "If the diagonal element is zero, Gauss elimination fails. A simple interchange of rows can overcome this problem. If after row interchange, the diagonal element is still zero, it means that the coefficient matrix is singular and cannot be solved.\n",
    "\n",
    "Here is the solution if partial pivoting is carried out."
   ]
  },
  {
   "cell_type": "code",
   "execution_count": 13,
   "metadata": {
    "collapsed": false
   },
   "outputs": [
    {
     "name": "stdout",
     "output_type": "stream",
     "text": [
      "[[ 0.  2.  3.  9.]\n",
      " [ 4.  2.  4.  0.]\n",
      " [ 2.  2.  3.  2.]\n",
      " [ 4.  3.  6.  3.]]\n",
      "[ 122.   20.   36.   60.]\n",
      "With partial pivoting\n",
      "[[ 4.   2.   4.   0. ]\n",
      " [ 0.   2.   3.   9. ]\n",
      " [ 0.   0.  -0.5 -2.5]\n",
      " [ 0.   0.   0.  -4. ]] [  20.  122.  -35.  -56.]\n",
      "Solution\n",
      "[  6.  -2.  -0.  14.]\n",
      "Verification\n",
      "[ 0.  0.  0.  0.]\n",
      "\n",
      "Solution using numpy.linalg.solve()\n",
      "[  6.  -2.  -0.  14.]\n"
     ]
    }
   ],
   "source": [
    "a = np.array([ [0, 2, 3, 9], [4, 2, 4, 0], [2, 2, 3, 2], [4, 3, 6, 3] ], dtype=float)\n",
    "b = np.array([122, 20, 36, 60], dtype=float)\n",
    "print(a)\n",
    "print(b)\n",
    "print('With partial pivoting')\n",
    "aa, bb = forward_elim(a, b)\n",
    "print(aa, bb)\n",
    "x = back_sub(aa, bb)\n",
    "print('Solution')\n",
    "print(x)\n",
    "print('Verification')\n",
    "print(np.dot(a, x) - b)\n",
    "print()\n",
    "print('Solution using numpy.linalg.solve()')\n",
    "print(np.linalg.solve(a, b))"
   ]
  },
  {
   "cell_type": "markdown",
   "metadata": {},
   "source": [
    "## Gauss Jordan Method"
   ]
  },
  {
   "cell_type": "code",
   "execution_count": 16,
   "metadata": {
    "collapsed": false
   },
   "outputs": [
    {
     "name": "stdout",
     "output_type": "stream",
     "text": [
      "Before Gauss-Jordan\n",
      "[A] =\n",
      " [[ 1. -1.  2. -1.]\n",
      " [ 2. -2.  3. -3.]\n",
      " [ 1.  1.  1.  0.]\n",
      " [ 1. -1.  4.  3.]]\n",
      "{b} =\n",
      " [ -8. -20.  -2.   4.]\n",
      "0\n",
      "1\n",
      "2\n",
      "3\n",
      "After Gauss-Jordan\n",
      "Number of row interchanges = 3\n",
      "[A] =\n",
      " [[ 1.  0.  0.  0.]\n",
      " [ 0.  1.  0.  0.]\n",
      " [ 0.  0.  1.  0.]\n",
      " [ 0.  0.  0.  1.]]\n",
      "{b} =\n",
      " [-7.  3.  2.  2.]\n",
      "Solution using scipy.linalg\n",
      "[-7.  3.  2.  2.]\n"
     ]
    }
   ],
   "source": [
    "import scipy.linalg as LA\n",
    "\n",
    "def gauss_jordan(a, b, pivot=True):\n",
    "    (nr, nc) = a.shape\n",
    "\n",
    "    def pivot_rows(a, b, p, iexchg):\n",
    "        if p < nr:\n",
    "            imax = p\n",
    "            amax = abs(a[p,p])\n",
    "            for i in range(p+1, nr):\n",
    "                if abs(a[i,p]) > amax:\n",
    "                    imax = i\n",
    "                    amax = abs(a[i,p])\n",
    "            if p != imax:\n",
    "                iexchg += 1\n",
    "                tmp = a[p,:].copy()\n",
    "                a[p,:] = a[imax,:].copy()\n",
    "                a[imax,:] = tmp.copy()\n",
    "                b[p], b[imax] = b[imax], b[p]\n",
    "        return iexchg\n",
    "\n",
    "    if nr == len(b):\n",
    "        iexchg = 0\n",
    "        for p in range(nr):\n",
    "            print(p)\n",
    "            if pivot:\n",
    "                iexchg = pivot_rows(a, b, p, iexchg)\n",
    "            f = a[p,p]\n",
    "            #print 'f =', f\n",
    "            b[p] = b[p] / f\n",
    "            a[p, p:] = a[p, p:] / f\n",
    "            #print a, b\n",
    "            for i in range(nr):\n",
    "                #print '\\t', i\n",
    "                if i != p:\n",
    "                    f = a[i, p]\n",
    "                    a[i, p:] = a[i, p:] - f * a[p, p:]\n",
    "                    b[i] = b[i] - f * b[p]\n",
    "        return a, b, iexchg\n",
    "    else:\n",
    "        return None\n",
    "\n",
    "\n",
    "if __name__ == '__main__':\n",
    "    a = np.array([[1, -1, 2, -1], [2, -2, 3, -3], [1, 1, 1, 0], [1, -1, 4, 3]], dtype=float)\n",
    "    b = np.array([-8, -20, -2, 4], dtype=float)\n",
    "    print('Before Gauss-Jordan')\n",
    "    print('[A] =\\n',a)\n",
    "    print('{b} =\\n', b)\n",
    "    (a, b, iexchg) = gauss_jordan(a, b)\n",
    "    print('After Gauss-Jordan')\n",
    "    print('Number of row interchanges =', iexchg)\n",
    "    print('[A] =\\n',a)\n",
    "    print('{b} =\\n', b)\n",
    "    print('Solution using scipy.linalg')\n",
    "    print(LA.solve(a, b))"
   ]
  },
  {
   "cell_type": "code",
   "execution_count": null,
   "metadata": {
    "collapsed": true
   },
   "outputs": [],
   "source": []
  }
 ],
 "metadata": {
  "kernelspec": {
   "display_name": "Python 2",
   "language": "python",
   "name": "python2"
  },
  "language_info": {
   "codemirror_mode": {
    "name": "ipython",
    "version": 2
   },
   "file_extension": ".py",
   "mimetype": "text/x-python",
   "name": "python",
   "nbconvert_exporter": "python",
   "pygments_lexer": "ipython2",
   "version": "2.7.11"
  }
 },
 "nbformat": 4,
 "nbformat_minor": 0
}
