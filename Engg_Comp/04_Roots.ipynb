{
 "cells": [
  {
   "cell_type": "markdown",
   "metadata": {},
   "source": [
    "# Roots of Equations\n",
    "Finding roots of an equation can be defined as follows:\n",
    "\n",
    "Given $f(x)$, to find $x$ such that $f(x) = 0$\n",
    "\n",
    "## Application\n",
    "Consider a simply supported beam subjected to a linearly varying load applied over the entire span.\n",
    "\n",
    "<img src=\"ssbeam_uvl.jpg\" width=600px />\n",
    "\n",
    "### Input Data\n",
    "Let the span of the simply supported beam be $L$. The intensity of load at the left support and right support be $w_1$ and $w_2$, respectively.\n",
    "\n",
    "### Output Data\n",
    "We must determine the following:\n",
    "1. Reactions $R_a$ and $R_b$, at the left and right support, respectively.\n",
    "2. Distribution of shear force and bending moment along the span of the beam\n",
    "3. Location and magnitude of the maximum bending moment\n",
    "\n",
    "### Reactions\n",
    "To find the reactions, we must determine magnitude and point of action of the resultant of the linearly varying load. The necessary equations are given below:\n",
    "$$\\begin{align*}\n",
    "P & = \\frac{w_1 + w_2}{2} \\, L \\\\\n",
    "d & = \\frac{2 \\, w_2 + w_1}{w_1 + w_2} \\, \\frac{L}{3} \\\\\n",
    "R_b & = \\frac{1}{L} \\, \\frac{w_1 + w_2}{2} \\, L \\, \\frac{2 \\, w_2 + w_1}{w_1 + w_2} \\, \\frac{L}{3} = \\frac{(2 w_2 + w_1) \\, L}{6} \\\\\n",
    "R_a & = \\frac{(2 w_1 + w_2) \\, L}{6}\n",
    "\\end{align*}\n",
    "$$\n",
    "\n",
    "### Shear Force and Bending Moment\n",
    "$$\\begin{align*}\n",
    "w_x & = w_1 + \\frac{w_2 - w_1}{L} \\, x \\\\\n",
    "W_x & = \\frac{w_1 + w_x}{2} \\, x = w_1 \\, x + \\frac{w_2  -w_1}{2L} \\, x^2 \\\\\n",
    "\\bar{x} & = \\frac{2w_1 + w_x}{w_1 + w_x} \\, \\frac{x}{3} \\\\\n",
    "V_x & = R_a - W_x \\\\\n",
    "M_x & = R_a \\, x - W_x \\, \\bar{x}\n",
    "\\end{align*}\n",
    "$$\n",
    "\n",
    "### Maximum Bending Moment\n",
    "Bending moment is maximum at the location where shear force undergoes change of sign, that is, where shear force is zero."
   ]
  },
  {
   "cell_type": "code",
   "execution_count": 24,
   "metadata": {
    "collapsed": false,
    "scrolled": true
   },
   "outputs": [
    {
     "name": "stdout",
     "output_type": "stream",
     "text": [
      "Reactions Ra = 20.0 Rb = 40.0\n",
      "20.0\n",
      "60.0\n"
     ]
    },
    {
     "data": {
      "image/png": "[encoded data removed]",
      "text/plain": [
       "<matplotlib.figure.Figure at 0x78b0358>"
      ]
     },
     "metadata": {},
     "output_type": "display_data"
    },
    {
     "name": "stdout",
     "output_type": "stream",
     "text": [
      "0 0.0 20.0 0.0\n",
      "1 0.6 19.4 0.599985\n",
      "2 1.2 17.6 1.19988\n",
      "3 1.8 14.6 1.799595\n",
      "4 2.4 10.4 2.39904\n",
      "5 3.0 5.0 2.998125\n",
      "6 3.6 -1.6 3.59676\n",
      "7 4.2 -9.4 4.194855\n",
      "8 4.8 -18.4 4.79232\n",
      "9 5.4 -28.6 5.389065\n",
      "10 6.0 -40.0 5.985\n",
      "At x = 3.4 Vx = 0.733333333333\n",
      "At x = 3.5 Vx = -0.416666666667\n"
     ]
    }
   ],
   "source": [
    "from __future__ import division, print_function\n",
    "import numpy as np\n",
    "import matplotlib.pyplot as plt\n",
    "%matplotlib inline\n",
    "\n",
    "w1 = 0.0\n",
    "w2 = 20.0\n",
    "L = 6.0\n",
    "Ra = (2*w1 + w2) * L / 6.0\n",
    "Rb = (2*w2 + w1) * L / 6.0\n",
    "print('Reactions Ra =', Ra, 'Rb =', Rb)\n",
    "\n",
    "def get_wx(x, w1, w2, L):\n",
    "    return w1 + (w2 - w1) * x / L\n",
    "print(get_wx(6.0, 0.0, 20.0, 6.0))\n",
    "\n",
    "def get_Wx(x, w1, w2, L):\n",
    "    wx = get_wx(x, w1, w2, L)\n",
    "    return (w1 + wx) * x / 2.0\n",
    "print(get_Wx(6.0, 0.0, 20.0, 6.0))\n",
    "\n",
    "def get_xbar(x, w1, w2, L):\n",
    "    wx = get_wx(x, w1, w2, L)\n",
    "    if wx == 0:\n",
    "        return 0.0\n",
    "    else:\n",
    "        return (2*w1 + wx) / (w1 + wx) * x / 3.0\n",
    "\n",
    "def get_Vx(x, w1, w2, L, Ra):\n",
    "    Wx = get_Wx(x, w1, w2, L)\n",
    "    return Ra - Wx\n",
    "\n",
    "def get_Mx(x, w1, w2, L, Ra):\n",
    "    Wx = get_Wx(x, w1, w2, L)\n",
    "    xbar = get_xbar(x, w1, w2, L)\n",
    "    return Ra * x - Wx * xbar\n",
    "\n",
    "x = np.linspace(0, L, 201)\n",
    "wx = np.array([get_wx(xx, w1, w2, L) for xx in x])\n",
    "Vx = np.array([get_Vx(xx, w1, w2, L, Ra) for xx in x])\n",
    "Mx = np.array([get_Mx(xx, w1, w2, L, Ra) for xx in x])\n",
    "\n",
    "plt.subplot(311)\n",
    "plt.tight_layout()\n",
    "plt.plot(x, wx)\n",
    "plt.grid()\n",
    "plt.xlabel('x')\n",
    "plt.ylabel('w (kN/m)')\n",
    "\n",
    "plt.subplot(312)\n",
    "plt.plot(x, Vx)\n",
    "plt.grid()\n",
    "plt.axhline(0.0, color='k')\n",
    "plt.xlabel('x')\n",
    "plt.ylabel('SF (kN)')\n",
    "\n",
    "plt.subplot(313)\n",
    "plt.plot(x, Mx)\n",
    "plt.grid()\n",
    "plt.axhline(0.0, color='k')\n",
    "plt.xlabel('x')\n",
    "plt.ylabel('BM (kNm)')\n",
    "plt.show()\n",
    "\n",
    "x = np.linspace(0, L, 11)\n",
    "Vx = np.array([get_Vx(xx, w1, w2, L, Ra) for xx in x])\n",
    "for i in range(len(Vx)):\n",
    "    print(i, x[i], Vx[i], Mx[i])\n",
    "\n",
    "print('At x =', 3.4, 'Vx =', get_Vx(3.4, w1, w2, L, Ra))\n",
    "print('At x =', 3.5, 'Vx =', get_Vx(3.5, w1, w2, L, Ra))"
   ]
  },
  {
   "cell_type": "markdown",
   "metadata": {},
   "source": [
    "Having determine shear force and bending moment distribution, we must now determine $x$ where $V_x = 0$. From the graph of $V_x$ we can see that $x$ lies between 3 and 4. It appears to be close to $x=3.5$. In fact, we can see by calculating $V_x$ at $x=3.4$ and $x=3.5$ that it lies in between these two points. But this trial and error approach is tedious and time consuming.\n",
    "\n",
    "Several numerical methods are available that can systematically determine a root of an equation once the root is bracketed. Two such methods are the **Bisection method** and the ^^False-position method**. We will explore these two methods independent of the application problem that we are trying to solve beore we come back to it.\n",
    "\n",
    "Let us try and find the roots of \n",
    "$$f(x) = \\sin 10x + \\cos 3x = 0$$\n",
    "\n",
    "A visual and intuitive way of finding the roots is to evaluate the function at close intervals and plot a graph of the function and see where it intersects with the x-axis."
   ]
  },
  {
   "cell_type": "code",
   "execution_count": 25,
   "metadata": {
    "collapsed": false
   },
   "outputs": [
    {
     "data": {
      "image/png": "[encoded data removed]",
      "text/plain": [
       "<matplotlib.figure.Figure at 0x42c5048>"
      ]
     },
     "metadata": {},
     "output_type": "display_data"
    }
   ],
   "source": [
    "def f(x):\n",
    "    return np.sin(10*x) + np.cos(3*x)\n",
    "\n",
    "a = 0.0\n",
    "b = 5.0\n",
    "x = np.linspace(a, b, 101)\n",
    "y = f(x)\n",
    "\n",
    "plt.plot(x, y)\n",
    "plt.grid()\n",
    "plt.axhline(0, color='k')\n",
    "plt.show()"
   ]
  },
  {
   "cell_type": "markdown",
   "metadata": {},
   "source": [
    "We can see that there are three roots in the range $x = 0 \\text{ to } 1$, three more between $x = 1 \\text{ to } 2$, $x = 2 \\text{ to } 3$, $x = 3 \\text{ to } 4$ and what appears to be one or two between $x = 4 \\text{ to } 5$. Bracketing is the operation of determining whether we are sure there is **at least one root** between two given values of $x$. This can be done by evaluating $f(x)$ at the two given values $x_1$ and $x_2$. If $f(x_1) \\, f(x_2) < 0$, then there is at least one root between $x_1$ and $x_2$. Otherwise, we are not sure whether there are or there are no roots between the specified values."
   ]
  },
  {
   "cell_type": "code",
   "execution_count": 26,
   "metadata": {
    "collapsed": false
   },
   "outputs": [
    {
     "name": "stdout",
     "output_type": "stream",
     "text": [
      "-1.53401360749\n",
      "1.87311553738\n",
      "-0.888187072995\n"
     ]
    }
   ],
   "source": [
    "x1 = 0.0\n",
    "x2 = 1.0\n",
    "print(f(x1) * f(x2))\n",
    "\n",
    "x2 = 2.0\n",
    "print(f(x1) * f(x2))\n",
    "\n",
    "x2 = 0.5\n",
    "print(f(x1) * f(x2))"
   ]
  },
  {
   "cell_type": "markdown",
   "metadata": {},
   "source": [
    "Let us divide a given range into short intervals and identify pairs of $x$ values which bracket a root. Let us take the range $x = 0 \\text{ to } 5$ and divide it into 10 equal intervals. Then determine pairs of $x$ values that are assured to have at least one root between them."
   ]
  },
  {
   "cell_type": "code",
   "execution_count": 27,
   "metadata": {
    "collapsed": false
   },
   "outputs": [
    {
     "name": "stdout",
     "output_type": "stream",
     "text": [
      "    0.000000     1.000000\n",
      "    0.500000    -0.888187\n",
      "    1.000000    -1.534014\n",
      "    1.500000     0.439492\n",
      "    2.000000     1.873116\n",
      "    2.500000     0.214284\n",
      "    3.000000    -1.899162\n",
      "    3.500000    -0.903720\n",
      "    4.000000     1.588967\n",
      "    4.500000     1.445824\n",
      "    5.000000    -1.022063\n"
     ]
    }
   ],
   "source": [
    "a = 0.0\n",
    "b = 5.0\n",
    "n = 10\n",
    "x = np.linspace(a, b, n+1)\n",
    "y = f(x)\n",
    "for xx, yy in zip(x, y):\n",
    "    print(\"%12.6f %12.6f\" % (xx, yy))"
   ]
  },
  {
   "cell_type": "markdown",
   "metadata": {},
   "source": [
    "The values of $x$ that bracket a root are $(0, 0.5), (1.0, 1.5), (2.5, 3.0), (3.5, 4.0), (4.5, 5.0)$. From the graph it is obvious that there are roots in between other intervals, but we cannot conclude that by going at an interval of $0.5$."
   ]
  },
  {
   "cell_type": "code",
   "execution_count": 28,
   "metadata": {
    "collapsed": false
   },
   "outputs": [
    {
     "name": "stdout",
     "output_type": "stream",
     "text": [
      "    0.00     1.000000\n",
      "    0.50    -0.888187\n",
      "    1.00    -1.534014\n",
      "    1.50     0.439492\n",
      "    2.00     1.873116\n",
      "    2.50     0.214284\n",
      "    3.00    -1.899162\n",
      "    3.50    -0.903720\n",
      "    4.00     1.588967\n",
      "    4.50     1.445824\n",
      "    5.00    -1.022063\n",
      "[(0.0, 0.5), (1.0, 1.5), (2.5, 3.0), (3.5, 4.0), (4.5, 5.0)]\n"
     ]
    }
   ],
   "source": [
    "def brackets(fn, a, b, n, **kwargs):\n",
    "    brack = []\n",
    "    x = np.linspace(a, b, n+1)\n",
    "    y = fn(x)\n",
    "    for xx, yy in zip(x, y):\n",
    "        print(\"%8.2f %12.6f\" %(xx, yy))\n",
    "\n",
    "    for i in range(1, n+1):\n",
    "        if y[i] * y[i-1] <= 0:\n",
    "            brack.append((x[i-1], x[i]))\n",
    "    return brack\n",
    "\n",
    "brckts = brackets(f, a, b, 10)\n",
    "print(brckts)"
   ]
  },
  {
   "cell_type": "markdown",
   "metadata": {},
   "source": [
    "We can now take up one of these intervals and determine the root between them. Note that if the interval contains more than one bracket, we can only find one of them at a time.\n",
    "\n",
    "## Bisection Method\n",
    "\n",
    "1. Find the brackets within a given interval\n",
    "2. Determine the root within the given brackets\n"
   ]
  },
  {
   "cell_type": "code",
   "execution_count": 29,
   "metadata": {
    "collapsed": false
   },
   "outputs": [
    {
     "name": "stdout",
     "output_type": "stream",
     "text": [
      "Root is bracketed\n",
      "Root lies between xm and b. Discard a\n",
      "1.25 -0.886881254691 1.5 0.439492040726 1.375 0.371792916316\n"
     ]
    }
   ],
   "source": [
    "a = 1.0\n",
    "b = 1.5\n",
    "if f(a) * f(b) < 0:\n",
    "    print('Root is bracketed')\n",
    "else:\n",
    "    print('No roots are bracketed')\n",
    "\n",
    "xm = (a + b) / 2.0\n",
    "\n",
    "if f(a) * f(xm) < 0:\n",
    "    print('Root lies between a and xm. Discard b')\n",
    "    b = xm\n",
    "else:\n",
    "    print('Root lies between xm and b. Discard a')\n",
    "    a = xm\n",
    "\n",
    "xm = (a + b) / 2.0\n",
    "print(a, f(a), b, f(b), xm, f(xm))"
   ]
  },
  {
   "cell_type": "markdown",
   "metadata": {},
   "source": [
    "We can successively halve the interval $(a, b)$ and eventually $|b - a| \\approx 0$. We can stop when this difference is very small."
   ]
  },
  {
   "cell_type": "code",
   "execution_count": 30,
   "metadata": {
    "collapsed": false
   },
   "outputs": [
    {
     "name": "stdout",
     "output_type": "stream",
     "text": [
      "Iterations: 36\n",
      "0.36249146003 3.66651153882e-13\n"
     ]
    }
   ],
   "source": [
    "def bisection(fn, a, b, tol=1e-12, maxiter=100):\n",
    "    y1 = fn(a)\n",
    "    y2 = fn(b)\n",
    "    if y1 * y2 > 0:\n",
    "        print('Error: Root is not bracketed')\n",
    "        return\n",
    "\n",
    "    i = 0\n",
    "    while i <= maxiter:\n",
    "        if np.abs(y1) <= tol:\n",
    "            print('Iterations:', i)\n",
    "            return a\n",
    "        elif np.abs(y2) <= tol:\n",
    "            print('Iterations:', i)\n",
    "            return b\n",
    "        else:\n",
    "            i += 1\n",
    "\n",
    "            xm = (a + b) / 2.0\n",
    "            ym = fn(xm)\n",
    "\n",
    "            if np.abs(b - a) <= tol:\n",
    "                print('Iterations:', i)\n",
    "                return xm\n",
    "            elif y1 * ym < 0:\n",
    "                b = xm\n",
    "                y2 = ym\n",
    "            else:\n",
    "                a = xm\n",
    "                y1 = ym\n",
    "    return\n",
    "\n",
    "a = brckts[0][0]\n",
    "b = brckts[0][1]\n",
    "x = bisection(f, a, b)\n",
    "print(x, f(x))"
   ]
  },
  {
   "cell_type": "markdown",
   "metadata": {},
   "source": [
    "## Improvements - False Position Method\n",
    "\n",
    "Instead of selecting the mid-point of the interval $(a, b)$ as the next guess for the root, we can determine where a straight line joining the points $(x_1, y_1) \\text{ and } (x_2, y_2)$ can be determined by linear interpolation and used as the next guess for the root.\n",
    "$$\n",
    "\\begin{align*}\n",
    "y_m &= y_1 + \\frac{y_2 - y_1}{x_2 - x_1} (x_m - x_1) = 0 \\\\\n",
    "\\therefore \\; x_m &= x_1 - \\frac{x_2 - x_1}{y_2 - y_1} y_1\n",
    "\\end{align*}\n",
    "$$"
   ]
  },
  {
   "cell_type": "code",
   "execution_count": 31,
   "metadata": {
    "collapsed": false
   },
   "outputs": [
    {
     "name": "stdout",
     "output_type": "stream",
     "text": [
      "False-Position Method\n",
      "0.0 1.0 0.5 -0.888187072995\n",
      "Iterations: 11\n",
      "0.36249146003 -4.58910687229e-13\n"
     ]
    }
   ],
   "source": [
    "def false_position(fn, a, b, tol=1e-12, maxiter=100, **kwargs):\n",
    "    print('False-Position Method')\n",
    "    y1 = fn(a, **kwargs)\n",
    "    y2 = fn(b, **kwargs)\n",
    "    print(a, y1, b, y2)\n",
    "    if y1 * y2 > 0:\n",
    "        print('Root must be bracketed')\n",
    "        return\n",
    "\n",
    "    i = 0\n",
    "    while i <= maxiter:\n",
    "        if np.abs(y1) <= tol:\n",
    "            print('Iterations:', i)\n",
    "            return a\n",
    "        elif np.abs(y2) <= tol:\n",
    "            print('Iterations:', i)\n",
    "            return b\n",
    "        else:\n",
    "            i += 1\n",
    "\n",
    "            xm = a - (b - a) / (y2 - y1) * y1\n",
    "            ym = fn(xm, **kwargs)\n",
    "\n",
    "            if np.abs(b - a) <= tol:\n",
    "                print('Iterations:', i)\n",
    "                return xm\n",
    "            elif y1 * ym < 0:\n",
    "                b = xm\n",
    "                y2 = ym\n",
    "            else:\n",
    "                a = xm\n",
    "                y1 = ym\n",
    "    return\n",
    "\n",
    "a = brckts[0][0]\n",
    "b = brckts[0][1]\n",
    "x = false_position(f, a, b)\n",
    "print(x, f(x))"
   ]
  },
  {
   "cell_type": "code",
   "execution_count": 32,
   "metadata": {
    "collapsed": false
   },
   "outputs": [
    {
     "ename": "SyntaxError",
     "evalue": "invalid syntax (<ipython-input-32-339e127fbba4>, line 2)",
     "output_type": "error",
     "traceback": [
      "\u001b[1;36m  File \u001b[1;32m\"<ipython-input-32-339e127fbba4>\"\u001b[1;36m, line \u001b[1;32m2\u001b[0m\n\u001b[1;33m    print 'x =', x, 'Vx =', get_Vx(x, w1, w2, L, Ra)\u001b[0m\n\u001b[1;37m              ^\u001b[0m\n\u001b[1;31mSyntaxError\u001b[0m\u001b[1;31m:\u001b[0m invalid syntax\n"
     ]
    }
   ],
   "source": [
    "x = false_position(get_Vx, a=3.0, b=3.6, w1=0.0, w2=20.0, L=6.0, Ra=Ra)\n",
    "print 'x =', x, 'Vx =', get_Vx(x, w1, w2, L, Ra)\n",
    "print 'x =', x, 'Mmax =', get_Mx(x, w1, w2, L, Ra)"
   ]
  },
  {
   "cell_type": "markdown",
   "metadata": {},
   "source": [
    "## Python Features Introduced in this Exercise\n",
    "### Generators\n",
    "Generators are a way of generating a list by processing each element of a list in an implicit loop. Consider this situation. You have a list or an array of numbers. You want to generate another list/array wherein each number in this new list/array is a function of the corresponding number in the given list/array. The usual way to do this is to use a **`for`** loop. But this is not necessary in the case of an array as NumPy does looping implicitly. But this implicit looping in NumPy does not work when the function involves a boolean check. This forces us to use a **`for`** loop. The following two are equivalent:"
   ]
  },
  {
   "cell_type": "code",
   "execution_count": null,
   "metadata": {
    "collapsed": false
   },
   "outputs": [],
   "source": [
    "x = np.linspace(0, 5, 6)\n",
    "print type(x), x\n",
    "\n",
    "# NumPy arrays loop automatically\n",
    "y = 2 * x\n",
    "print type(y), y\n",
    "\n",
    "# We can use a for loop, but we must first create a new array to store the results\n",
    "y1 = np.zeros_like(x)\n",
    "for i in range(len(x)):\n",
    "    y1[i] = 2*x[i]\n",
    "print type(y1), y1\n",
    "\n",
    "# Generators remove the need to cre\n",
    "y1 = [2*xx for xx in x]\n",
    "print type(y1), y1\n",
    "\n",
    "def func(x):\n",
    "    if x <= 2:\n",
    "        return 2*x\n",
    "    else:\n",
    "        return 10*x\n",
    "\n",
    "# NumPy array automatic looping fails when function has a boolean statement\n",
    "# This fails\n",
    "#y3 = func(x)\n",
    "\n",
    "# But this works\n",
    "y3 = [func(xx) for xx in x]\n",
    "print type(y3), y3\n",
    "\n",
    "y4 = np.array([func(xx) for xx in x])\n",
    "print type(y4), y4"
   ]
  },
  {
   "cell_type": "markdown",
   "metadata": {},
   "source": [
    "### Subplots\n",
    "Subplots allow us to plot multiple graphs within the same graphic window, by imaginarily splitting it into cells and directing the output of the next **`plot()`** command to a specific cell. For example, **`plt.subplot(324)`** splits the graphic windows into 3 rows and 2 columns and chooses the 4th cell as the target for the next **`plt.plot()`** command. Cells are counted row-wise, starting from first row and first column as cell number 1.\n",
    "\n",
    "The advantage of using **`subplot()`** is that length of the axes are made equal and graphs are neatly aligned.\n",
    "## References\n",
    "1. Chapra, S.C., _Applied Numerical Methods with MATLAB for Engineers and Scientists_, 3ed., McGraw Hill, 2008.\n",
    "2. Kiusalaas, J., _Numerical Methods in Engineering with Python_, Cambridge University Press, 2005."
   ]
  },
  {
   "cell_type": "code",
   "execution_count": null,
   "metadata": {
    "collapsed": false
   },
   "outputs": [],
   "source": [
    "from __future__ import division, print_function\n",
    "from numpy import inf\n",
    "import numpy as np\n",
    "\n",
    "def f(x):\n",
    "    return x*x - 3*x + 1\n",
    "\n",
    "def fd(x):\n",
    "    return 2*x - 3\n",
    "\n",
    "def f1(x):\n",
    "    return np.sin(10*x) + np.cos(3*x)\n",
    "\n",
    "def f1d(x):\n",
    "    return 10.0*np.cos(10.0*x) - 3.0*np.sin(3.0*x)\n",
    "\n",
    "def inc_search(f, x0, xn, nint, maxcount=inf):\n",
    "    dx = (xn - x0) / nint\n",
    "    x1 = x0; x2 = x1 + dx; y1 = f(x1); y2 = f(x2)\n",
    "    b = []\n",
    "    count = 0\n",
    "\n",
    "    while x2 < xn and count < maxcount:\n",
    "        if y1 * y2 <= 0:\n",
    "            b.append([x1, x2])\n",
    "            count += 1\n",
    "        x1 = x2; x2 = x1 + dx; y1 = f(x1); y2 = f(x2)\n",
    "    return b\n",
    "\n",
    "print(inc_search(f, 0, 10, 5))\n",
    "print(inc_search(f1, 3, 6, 12))"
   ]
  },
  {
   "cell_type": "markdown",
   "metadata": {},
   "source": [
    "## Open Methods\n",
    "### Newton - Raphson Method\n",
    "$$x_{i+1} = x_i - \\frac{y_i}{f'(x_i)}\n",
    "$$"
   ]
  },
  {
   "cell_type": "code",
   "execution_count": null,
   "metadata": {
    "collapsed": false
   },
   "outputs": [],
   "source": [
    "def newton_raphson(f, fd, x, tol=1e-6, maxiter=30):\n",
    "    y = f(x)\n",
    "    yd = fd(x)\n",
    "    k = 0\n",
    "    if abs(y) <= tol:\n",
    "        return x, k\n",
    "    while abs(y) > tol and k < maxiter:\n",
    "        k += 1\n",
    "        x = x - y / yd\n",
    "        y = f(x)\n",
    "        yd = fd(x)\n",
    "        print(\"%5d [%10.6f %10.6f] %10.6f\" % (k, x, y, yd))\n",
    "    if abs(y) <= tol:\n",
    "        return x, k\n",
    "    else:\n",
    "        return None, k\n",
    "\n",
    "x, k = newton_raphson(f, fd, 3.0, 1e-3)\n",
    "print(\"Iterations =\", k, \"Root =\", x, \"Function =\", f(x))"
   ]
  },
  {
   "cell_type": "code",
   "execution_count": null,
   "metadata": {
    "collapsed": false
   },
   "outputs": [],
   "source": [
    "x, k = newton_raphson(f, fd, 3.75)\n",
    "print(\"Iterations =\", k, \"Root =\", x, \"Function =\", f(x))"
   ]
  },
  {
   "cell_type": "markdown",
   "metadata": {},
   "source": [
    "### Secant Method\n",
    "\\begin{align*}\n",
    "  y &= y_1 + \\frac{y_2 - y_2}{x_2 - x_1} \\left( x - x_1 \\right) = 0 \\\\\n",
    "  x &= x_1 - \\frac{x_2 - x_1}{y_2 - y_1} y_1\n",
    "\\end{align*}"
   ]
  },
  {
   "cell_type": "code",
   "execution_count": null,
   "metadata": {
    "collapsed": false
   },
   "outputs": [],
   "source": [
    "def secant(f, x1, x2, tol=1e-6, maxiter=30):\n",
    "    y1 = f(x1); y2 = f(x2)\n",
    "    xnew = x1 - (x2 - x1) / (y2 - y1) * y1\n",
    "    ynew = f(xnew)\n",
    "    k = 1\n",
    "    print(\"%5d [%10.6f %10.6f] [%10.6f %10.6f] [%10.6f %10.6f]\" % (k, x1, y1, x2, y2, xnew, ynew))\n",
    "    if abs(ynew) <= tol:\n",
    "        return xnew, k\n",
    "\n",
    "    while abs(ynew) > tol and k < maxiter:\n",
    "        k += 1\n",
    "        x1 = x2; y1 = y2\n",
    "        x2 = xnew; y2 = ynew\n",
    "        xnew = x1 - (x2 - x1) / (y2 - y1) * y1\n",
    "        ynew = f(xnew)\n",
    "        print(\"%5d [%10.6f %10.6f] [%10.6f %10.6f] [%10.6f %10.6f]\" % (k, x1, y1, x2, y2, xnew, ynew))\n",
    "    if abs(ynew) <= tol:\n",
    "        return xnew, k\n",
    "    else:\n",
    "        return None, k\n",
    "\n",
    "x, k = secant(f, 0.0, 0.5)\n",
    "print(\"Iterations =\", k, \"Root =\", x, \"Function =\", f(x))"
   ]
  },
  {
   "cell_type": "code",
   "execution_count": null,
   "metadata": {
    "collapsed": false
   },
   "outputs": [],
   "source": [
    "x, k = secant(f, 2.5, 3.0)\n",
    "print(\"Iterations =\", k, \"Root =\", x, \"Function =\", f(x))"
   ]
  },
  {
   "cell_type": "code",
   "execution_count": null,
   "metadata": {
    "collapsed": false
   },
   "outputs": [],
   "source": [
    "def func(x):\n",
    "    return np.sin(10.0*x) + np.cos(3.0*x)\n",
    "\n",
    "x, k = false_position(func, 12, 16, 1e-2, 50)\n",
    "print(\"Iterations =\", k, \"Root = \", x, func(x))"
   ]
  },
  {
   "cell_type": "code",
   "execution_count": null,
   "metadata": {
    "collapsed": true
   },
   "outputs": [],
   "source": []
  }
 ],
 "metadata": {
  "kernelspec": {
   "display_name": "Python 2",
   "language": "python",
   "name": "python2"
  },
  "language_info": {
   "codemirror_mode": {
    "name": "ipython",
    "version": 2
   },
   "file_extension": ".py",
   "mimetype": "text/x-python",
   "name": "python",
   "nbconvert_exporter": "python",
   "pygments_lexer": "ipython2",
   "version": "2.7.11"
  }
 },
 "nbformat": 4,
 "nbformat_minor": 0
}
