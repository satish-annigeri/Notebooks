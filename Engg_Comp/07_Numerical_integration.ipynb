{
 "cells": [
  {
   "cell_type": "markdown",
   "metadata": {},
   "source": [
    "# Numerical Integration\n",
    "\n",
    "Numerical integration can be expressed as the following approximate sum:\n",
    "\n",
    "$$I = \\int_a^b f(x) dx \\approx \\sum_{i=1}^{n} A_i f(x_i)$$\n",
    "\n",
    "where $A_i$ are the weights associated with the function evaluated at $x_i$. Typically, $n+1$ data points $x_i, i = 0,1,2, \\ldots , n$ are selected starting from $a$ upto $b$, and the function is evaluated at each of these ordinates. The weighted sum above is an approximation to the integral we are attemptying to evaluate.\n",
    "\n",
    "There are two main approaches to carrying out numerical integration. The first approach based on Newton-Cotes formulae divides the interval $a$ to $b$ into a certain number of panels, usually of equal width. If $n$ is the number of panels, then $n+1$ is the number of ordinates, and the function is evaluated at each of these ordinates. For such methods, accuracy usually increases with the number of panels. The second approach is based on Gauss Quadrature. These methods evaluate the function at only a few specified ordinates. Gauss quadrature usually gives accurate results even with only a few function evaluations and can be used even when the limits tend to infinity.\n",
    "\n",
    "## Newton-Cotes Formulas\n",
    "Newton-Cotes formulas are based on approximating the given function by a polynomial and computing the integral of the polynomial.\n",
    "\n",
    "$$I = \\int_a^b f(x) dx \\approx \\int_a^b f_n(x) dx$$\n",
    "\n",
    "where $f_n(x)$ is a polynomial of the form $f_n(x) = a_0 + a_1 c + a_2 x^2 + \\cdots + a_{n-1} x^{n-1} + a_n x^n$.\n",
    "\n",
    "Trapezoidal Rule is Newton-Cotes formula with $n=1$, which is the equation of a straigt line. Simpson's 1/3 Rule is Newton-Cotes formula with $n=2$, which is a parabola. Trapezoidal rule requires us to determine two unknowns, $a_0$ and $a_1$, thereby requiring two points whereas Simpson's 1/3 rule requires three unknowns $a_0$, $a_1$ and $a_2$, thereby requiring three points. It is easier to obtain the coefficients $a_i$ if the panels are of equal width. The formula for Trapezoidal rule is as follows:\n",
    "\n",
    "$$I \\approx \\frac{h}{2} \\left[ f(a) + f(a+h) \\right]$$\n",
    "\n",
    "Simpson's 1/3 rule is as follows:\n",
    "\n",
    "$$I \\approx \\frac{h}{3} \\left[ f(a) + 4 f(a+h) + f(a+2h) \\right]$$\n",
    "\n",
    "## Example\n",
    "Let us consider the function $f(x) = e^{-x^2}$ and integrate it between the limits $a=0$ to $b=1$, $I = \\int_{0}^{1} e^{-x^2} dx$. Let us first use SymPy to calculate the exact answer. In SymPy we must define the symbols that we will use for variables, in this case $x$. We will then define the equation that we wish to integrate, the symbol for the variable and the lower and upper limits of integration. Method **`doit()`** evaluates the integral and the function **`N()`** calculates the numerical value of the integral."
   ]
  },
  {
   "cell_type": "code",
   "execution_count": 4,
   "metadata": {
    "collapsed": false
   },
   "outputs": [
    {
     "data": {
      "image/png": "[encoded data removed]",
      "text/latex": [
       "$$\\int_{0}^{1} e^{- x^{2}}\\, dx = \\frac{\\sqrt{\\pi}}{2} \\operatorname{erf}{\\left (1 \\right )}$$"
      ],
      "text/plain": [
       "1                    \n",
       "⌠                    \n",
       "⎮    2               \n",
       "⎮  -x       √π⋅erf(1)\n",
       "⎮ ℯ    dx = ─────────\n",
       "⌡               2    \n",
       "0                    "
      ]
     },
     "execution_count": 4,
     "metadata": {},
     "output_type": "execute_result"
    }
   ],
   "source": [
    "from sympy import *\n",
    "x = symbols('x')\n",
    "init_printing()\n",
    "\n",
    "c = Integral(exp(-x**2), (x, 0, 1))\n",
    "Eq(c, c.doit())"
   ]
  },
  {
   "cell_type": "code",
   "execution_count": 5,
   "metadata": {
    "collapsed": false
   },
   "outputs": [
    {
     "name": "stdout",
     "output_type": "stream",
     "text": [
      "0.746824132812427\n"
     ]
    }
   ],
   "source": [
    "d = N(c.doit())\n",
    "print d"
   ]
  },
  {
   "cell_type": "markdown",
   "metadata": {},
   "source": [
    "We now have the value of the integral stored in the object $d$, which we can use later.\n",
    "\n",
    "## Trapezoidal Rule\n",
    "<img src=\"trapezoidal.png\" width=500px />\n",
    "\n",
    "Considering one panel, $(x_i, y_i)$ and $(x_{i+1}, y_{i+1})$, and assuming the function to be varying linearly, we get:\n",
    "$$ I = \\frac{y_i + y_{i+1}}{2} \\, h$$\n",
    "where $h = x_{i+1} - x_i$.\n",
    "\n",
    "### Composite Trapezoidal Rule\n",
    "Let the range $a$ to $b$ be divided into $n$ equal panels, each of width $h = \\frac{b - a}{n}$. Thus the number of data points is $n+1$ and the ordinate of the points is $x_i = a + (i \\cdot h), i = 0, 1, \\ldots , n$.\n",
    "\n",
    "Trapezoidal rule assumes the function to vary linearly between successive data points, and the resulting approximation to the integral is given as:\n",
    "\n",
    "$$I = \\int_a^b f(x) dx \\approx \\frac{h}{2} \\left( y_0 + 2 \\sum_{i=1}^{n-2} y_i + y_{n-1} \\right)$$\n",
    "\n",
    "where $y_i = f(x_i)$ is the value of the function evaluated at each ordindate."
   ]
  },
  {
   "cell_type": "code",
   "execution_count": 6,
   "metadata": {
    "collapsed": false
   },
   "outputs": [
    {
     "name": "stdout",
     "output_type": "stream",
     "text": [
      "Trapezoidal rule with 21 points: 0.999486\n"
     ]
    },
    {
     "data": {
      "image/png": "[encoded data removed]",
      "text/plain": [
       "<matplotlib.figure.Figure at 0x41cab38>"
      ]
     },
     "metadata": {},
     "output_type": "display_data"
    },
    {
     "name": "stdout",
     "output_type": "stream",
     "text": [
      "Trapezoidal rule with    6 points: 0.991762\n",
      "Trapezoidal rule with   11 points: 0.997943\n",
      "Trapezoidal rule with   21 points: 0.999486\n",
      "Trapezoidal rule with   51 points: 0.999918\n",
      "Trapezoidal rule with  101 points: 0.999979\n",
      "Trapezoidal rule with  501 points: 0.999999\n",
      "Trapezoidal rule with 1001 points: 1.000000\n"
     ]
    }
   ],
   "source": [
    "from __future__ import division\n",
    "\n",
    "import numpy as np\n",
    "import matplotlib.pyplot as plt\n",
    "\n",
    "%matplotlib inline\n",
    "\n",
    "def trapezoidal(y, h):\n",
    "    n = len(y)\n",
    "    if n < 2:\n",
    "        return None\n",
    "    elif n == 2:\n",
    "        s = (y[0] + y[1]) * h / 2.0\n",
    "    else:\n",
    "        s = (y[0] + y[-1] + 2* np.sum(y[1:-1])) * h / 2.0\n",
    "    return s\n",
    "\n",
    "x = np.linspace(0, np.pi/2, 21)\n",
    "y = np.sin(x)\n",
    "h = x[1] - x[0]\n",
    "s1 = trapezoidal(y, h)\n",
    "print 'Trapezoidal rule with %d points: %f' % (len(x), s1)\n",
    "plt.plot(x, y)\n",
    "plt.grid()\n",
    "plt.title('sin(x) with %d points' % (len(x)))\n",
    "plt.xlabel('x')\n",
    "plt.ylabel('sin(x)')\n",
    "plt.show()\n",
    "\n",
    "n = [6, 11, 21, 51, 101, 501, 1001]\n",
    "for nn in n:\n",
    "    x = np.linspace(0, np.pi/2, nn)\n",
    "    y = np.sin(x)\n",
    "    h = x[1] - x[0]\n",
    "    s = trapezoidal(y, h)\n",
    "    print 'Trapezoidal rule with %4d points: %f' % (len(x), s)"
   ]
  },
  {
   "cell_type": "markdown",
   "metadata": {},
   "source": [
    "## Simpson's 1/3 Rule\n",
    "<img src=\"simpson.png\" width=500px/>\n",
    "\n",
    "Considering two consecutine panels $(x_i, y_i), (x_{i+1}, y_{i+1}), (x_{i+2}, y_{i+2})$, where $h = x_{i+1} - x_i = x_{i+2} - x_{i+1}$\n",
    "$$ I = \\left( y_i + 4 \\, y_{i+1} + y_{i+2} \\right) \\frac{h}{3} $$\n",
    "\n",
    "### Composite Simpson's 1/3 Rule\n",
    "If the interval from $a$ to $b$ is divided into $n$ equal panels each of width $h = \\frac{b - a}{n}$ and $n+1$ is the number of ordinates, for Simpson's 1/3 rule, $n$ must be an even number (and $n+1$, obviously must be an odd number).\n",
    "\n",
    "Simpson's 1/3 rule fits a parabola (polynomial of order two) between three successive points and approximates the integral for the two consecutive panels. To be able to do so, the number of data points must be atleast 3 and the number of panels must be an even number. The composite Simpson's 1/3 rule for $n$ data points, and $n-1$ panels (where $n-1$ must be even) is given below:\n",
    "\n",
    "$$I = \\int_a^b f(x) dx \\approx \\frac{h}{3} \\left( y_0 + 4 \\sum_{i=1, 3, 5,\\ldots}^{n-2} y_i + 2 \\sum_{j=2,4,6,\\ldots}^{n-3} y_j \\right)$$"
   ]
  },
  {
   "cell_type": "code",
   "execution_count": 7,
   "metadata": {
    "collapsed": false
   },
   "outputs": [
    {
     "name": "stdout",
     "output_type": "stream",
     "text": [
      "Simpson's 1/3 rule with 21 points: 1.000000\n",
      "Trapezoidal rule with 101 points: 0.999979\n",
      "Simpson's 1/3 rule with 101 points: 1.000000\n"
     ]
    },
    {
     "data": {
      "image/png": "[encoded data removed]",
      "text/plain": [
       "<matplotlib.figure.Figure at 0x8db54e0>"
      ]
     },
     "metadata": {},
     "output_type": "display_data"
    },
    {
     "name": "stdout",
     "output_type": "stream",
     "text": [
      "Simpson's rule with    7 points: 1.000026\n",
      "Simpson's rule with   11 points: 1.000003\n",
      "Simpson's rule with   21 points: 1.000000\n",
      "Simpson's rule with   51 points: 1.000000\n",
      "Simpson's rule with  101 points: 1.000000\n",
      "Simpson's rule with  501 points: 1.000000\n",
      "Simpson's rule with 1001 points: 1.000000\n"
     ]
    }
   ],
   "source": [
    "def simpson(y, h):\n",
    "    n = len(y)\n",
    "    if n < 3:\n",
    "        return None\n",
    "    elif n == 3:\n",
    "        s = y[0] + 4 * y[1] + y[2]\n",
    "        return s * h / 3.0\n",
    "    elif n % 2 == 1:\n",
    "        s = (y[0] + y[-1] + 4 * np.sum(y[1:-1:2]) + 2 * np.sum(y[2:-2:2])) * h / 3.0\n",
    "    else:\n",
    "        s = (y[0] + y[-2] + 4 * np.sum(y[1:-2:2]) + 2 * np.sum(y[2:-3:2])) * h / 3.0\n",
    "        s += (y[-2] + y[-1]) * h / 2.0\n",
    "    return s\n",
    "\n",
    "x = np.linspace(0, np.pi/2, 21)\n",
    "y = np.sin(x)\n",
    "h = x[1] - x[0]\n",
    "s2 = simpson(y, h)\n",
    "print \"Simpson's 1/3 rule with %d points: %f\" % (len(x), s2)\n",
    "\n",
    "x = np.linspace(0, np.pi/2, 101)\n",
    "y = np.sin(x)\n",
    "h = x[1] - x[0]\n",
    "s3 = trapezoidal(y, h)\n",
    "print 'Trapezoidal rule with %d points: %f' % (len(x), s3)\n",
    "s4 = simpson(y, h)\n",
    "print \"Simpson's 1/3 rule with %d points: %f\" % (len(x), s4)\n",
    "\n",
    "plt.plot(x, y)\n",
    "plt.grid()\n",
    "plt.title(\"sin(x) with %d points\" % (len(x)))\n",
    "plt.xlabel('x')\n",
    "plt.ylabel('sin(x)')\n",
    "plt.show()\n",
    "\n",
    "n = [7, 11, 21, 51, 101, 501, 1001]\n",
    "for nn in n:\n",
    "    x = np.linspace(0, np.pi/2, nn)\n",
    "    y = np.sin(x)\n",
    "    h = x[1] - x[0]\n",
    "    s = simpson(y, h)\n",
    "    print \"Simpson's rule with %4d points: %f\" % (len(x), s)"
   ]
  },
  {
   "cell_type": "markdown",
   "metadata": {},
   "source": [
    "It is possible to evaluate an integral exactly using symbolic computing. SymPy is a Python module for symbolic computing and we can find the exact integral as follows:"
   ]
  },
  {
   "cell_type": "code",
   "execution_count": 8,
   "metadata": {
    "collapsed": false
   },
   "outputs": [
    {
     "name": "stdout",
     "output_type": "stream",
     "text": [
      "1\n"
     ]
    }
   ],
   "source": [
    "import sympy\n",
    "from sympy import init_printing\n",
    "\n",
    "init_printing()\n",
    "\n",
    "xx, yy = sympy.symbols('x y')\n",
    "yy = sympy.sin(xx)\n",
    "yy\n",
    "A = sympy.integrate(yy, (xx, 0, pi/2))\n",
    "print A"
   ]
  },
  {
   "cell_type": "markdown",
   "metadata": {},
   "source": [
    "## Stress Distribution in Concrete as per IS456:2000\n",
    "\n",
    "As per IS 456:2000, it is assumed that the strain varies linearly across the depth of a cross section. IS 456:2000 also specifies the stress strain relationship for concrete and steel. We can use this information to determine the stress distribution across the depth of a concrete beam, find the stress resultant and its point of action using numerical integration.\n",
    "$$\n",
    "\\begin{align*}\n",
    "\\frac{\\epsilon_c}{x} & = \\frac{\\epsilon_{cu}}{x_u} \\\\\n",
    "\\epsilon_c & = \\frac{\\epsilon_{cu}}{x_u} \\, x \\\\\n",
    "f_c & = \\begin{cases}\n",
    "0.446 \\, f_{ck} \\left[ 2 \\, \\left( \\frac{\\epsilon_c}{\\epsilon_{cy}} \\right) - \\left( \\frac{\\epsilon_c}{\\epsilon_{cy}} \\right)^2 \\right] & 0 \\leq \\epsilon_c \\leq \\epsilon_{cy} \\\\\n",
    "0.446 \\, f_{ck} & \\epsilon_{cy} < \\epsilon_{c} \\leq \\epsilon_{cu}\n",
    "\\end{cases} \\\\\n",
    "C & = b \\, \\int_{0}^{x_u} f_c \\, dx \\\\\n",
    "  & = b \\, \\int_{0}^{x_u} f_c \\, dx \\\\\n",
    "  M & = \\int_{0}^{x_u} f_c \\, b \\, x \\, dx \\\\\n",
    "    & = b \\, \\int_{0}^{x_u} f_c \\, x \\, dx \\\\\n",
    "    \\bar{x} & = \\frac{M}{C}\n",
    "\\end{align*}\n",
    "$$\n",
    "\n",
    "At collapse, strain in concrete is $\\epsilon_{cu} = 0.0035$. If we know the depth of neutral axis, we can determine the strain and stress at different locations across the depth. Magnitude of the stress resultant is given by the area of the stress distribution, which is obtained by integrating stress across the depth. Moment of the stress resultant about the neutral axis is obtained by integrating "
   ]
  },
  {
   "cell_type": "code",
   "execution_count": 9,
   "metadata": {
    "collapsed": false,
    "scrolled": true
   },
   "outputs": [
    {
     "data": {
      "image/png": "[encoded data removed]",
      "text/plain": [
       "<matplotlib.figure.Figure at 0x8e0cd30>"
      ]
     },
     "metadata": {},
     "output_type": "display_data"
    },
    {
     "name": "stdout",
     "output_type": "stream",
     "text": [
      "1124.33877315 1124.33862434\n"
     ]
    }
   ],
   "source": [
    "def conc_stress(ec, fck, ecy=0.002):\n",
    "    if ec < ecy:\n",
    "        ee = ec / ecy\n",
    "        fc = 2 * ee - ee**2\n",
    "    else:\n",
    "        fc = 1.0\n",
    "    return 4.0 / 9.0 * fck * fc\n",
    "\n",
    "ecu = 0.0035\n",
    "xu = 125.0\n",
    "fck = 25.0\n",
    "xx = np.linspace(0, xu, 101)\n",
    "x = xx * ecu / xu\n",
    "y = np.array([conc_stress(e, fck) for e in x])\n",
    "\n",
    "plt.plot(xx, y)\n",
    "plt.grid()\n",
    "plt.show()\n",
    "\n",
    "h = xx[1] - xx[0]\n",
    "C = simpson(y, h)\n",
    "print C, 68/189*fck*xu"
   ]
  },
  {
   "cell_type": "code",
   "execution_count": 10,
   "metadata": {
    "collapsed": false
   },
   "outputs": [
    {
     "name": "stdout",
     "output_type": "stream",
     "text": [
      "51.9957981734 51.9957983193 0.00808108882941\n"
     ]
    }
   ],
   "source": [
    "yy = y * xx\n",
    "M = simpson(yy, h)\n",
    "xbar = M/C\n",
    "print xu - xbar, 99/238*xu, (0.416*xu - (xu - xbar)) / (99/238*xu) * 100"
   ]
  },
  {
   "cell_type": "markdown",
   "metadata": {},
   "source": [
    "The actual area of stress diagram is given by\n",
    "$$A = \\frac{68}{189} \\, f_{ck} \\, b \\, x_u$$\n",
    "Assuming $f_{ck}=25, b=1 \\text{ and } x_u = 125$, we get $A = \\frac{68}{189} \\times 25 \\times 1 \\times 125 = 1124.3386$. "
   ]
  },
  {
   "cell_type": "markdown",
   "metadata": {},
   "source": [
    "## Improvements\n",
    "Accuracy of the integral depends on the step size (that is, number of intervals). More the number of intervals, more accurate is the integral. Theoretically, a numerical method can never give the accurate answer. Trapezoidal rule is simple but not as accurate as Simpson's rule for the same number of data points.\n",
    "\n",
    "There is a recursive form of trapezoidal rule where we can begin with only one interval and successively keep on doubling the number of intervals. Each time we double the number of intervals, the value of the integral will improve. We can keep checking the change in the integral in subsequent iterations and stop when the change is too small.\n",
    "\n",
    "## References\n",
    "1. Chapra, S.C., _Applied Numerical Methods with MATLAB for Engineers and Scientists_, 3ed., McGraw Hill, 2008.\n",
    "2. Kiusalaas, J., _Numerical Methods in Engineering with Python_, Cambridge University Press, 2005.\n",
    "3. IS456:2000, Plain and Reinforced Concrete - Code of Practice (Fourth Revision), Bureau of Indian Standards, New Delhi, 2000"
   ]
  },
  {
   "cell_type": "markdown",
   "metadata": {
    "collapsed": true
   },
   "source": [
    "## Gauss Quadrature\n",
    "### Gauss-Legendre Quadrature"
   ]
  },
  {
   "cell_type": "code",
   "execution_count": 11,
   "metadata": {
    "collapsed": false
   },
   "outputs": [
    {
     "data": {
      "image/png": "[encoded data removed]",
      "text/plain": [
       "<matplotlib.figure.Figure at 0x8f10358>"
      ]
     },
     "metadata": {},
     "output_type": "display_data"
    }
   ],
   "source": [
    "import matplotlib.pyplot as plt\n",
    "%matplotlib inline\n",
    "\n",
    "t = np.arange(0.0, 1.01, 0.01)\n",
    "s = np.sin(2*2*np.pi*t)\n",
    "\n",
    "plt.fill(t, s*np.exp(-5*t), 'r')\n",
    "plt.grid(True)\n",
    "plt.show()"
   ]
  },
  {
   "cell_type": "code",
   "execution_count": 13,
   "metadata": {
    "collapsed": false
   },
   "outputs": [
    {
     "data": {
      "image/png": "[encoded data removed]",
      "text/plain": [
       "<matplotlib.figure.Figure at 0xa93ccc0>"
      ]
     },
     "metadata": {},
     "output_type": "display_data"
    }
   ],
   "source": [
    "def f(x):\n",
    "    return 120.0*(x+0.5)*(x+0.25)*x*(x-1.0/3.0)*(x-0.2)*(x-1.0)\n",
    "\n",
    "x = np.linspace(-0.5, 0.5, 101)\n",
    "y = f(x)\n",
    "plt.plot(x, y)\n",
    "plt.grid()\n",
    "plt.show()"
   ]
  },
  {
   "cell_type": "code",
   "execution_count": 14,
   "metadata": {
    "collapsed": false
   },
   "outputs": [
    {
     "name": "stdout",
     "output_type": "stream",
     "text": [
      "[ 5. -1.  3.]\n",
      "7.0\n",
      "15.0\n",
      "[ 19.   9.   5.   7.  15.]\n"
     ]
    }
   ],
   "source": [
    "def horner(a, x):\n",
    "    n = len(a)\n",
    "    p = a[-1]\n",
    "    for k in range(n-2, -1, -1):\n",
    "        p = a[k] + p * x\n",
    "    return p\n",
    "\n",
    "a = np.array([5.0, -1.0, 3.0], dtype=float)\n",
    "x = np.array([-2, -1, 0, 1, 2], dtype=float)\n",
    "print a\n",
    "print horner(a, 1.0)\n",
    "print horner(a, 2.0)\n",
    "print horner(a, x)"
   ]
  },
  {
   "cell_type": "code",
   "execution_count": 15,
   "metadata": {
    "collapsed": false
   },
   "outputs": [
    {
     "data": {
      "image/png": "[encoded data removed]",
      "text/plain": [
       "<matplotlib.figure.Figure at 0xa92f828>"
      ]
     },
     "metadata": {},
     "output_type": "display_data"
    }
   ],
   "source": [
    "def f(x):\n",
    "    return 0.2+25*x-200*x**2+675*x**3-900*x**4+400.0*x**5\n",
    "\n",
    "x = np.linspace(0, 0.8, 201)\n",
    "y = f(x)\n",
    "plt.plot(x, y)\n",
    "plt.grid()\n",
    "xx = np.linspace(0, 0.8, 5)\n",
    "yy = f(xx)\n",
    "plt.plot(xx, yy, 'b')\n",
    "plt.fill(xx, yy, 'c')\n",
    "plt.stem(xx, yy, 'b')\n",
    "plt.show()"
   ]
  },
  {
   "cell_type": "code",
   "execution_count": 19,
   "metadata": {
    "collapsed": false
   },
   "outputs": [
    {
     "name": "stdout",
     "output_type": "stream",
     "text": [
      "   10   0.7462107961317495  -0.0821934879335684\n",
      "   50   0.7467996071893513  -0.0032840969437502\n",
      "  100   0.7468180014679697  -0.0008209958042266\n",
      "   10   0.7468249482544436   0.0001091878382589\n",
      "   50   0.7468241341203179   0.0000001751270275\n",
      "  100   0.7468241328941762   0.0000000109462401\n"
     ]
    },
    {
     "data": {
      "image/png": "[encoded data removed]",
      "text/plain": [
       "<matplotlib.figure.Figure at 0xa78b320>"
      ]
     },
     "metadata": {},
     "output_type": "display_data"
    },
    {
     "name": "stdout",
     "output_type": "stream",
     "text": [
      "0.746210796132\n",
      "0.746824948254\n"
     ]
    }
   ],
   "source": [
    "def trap1(x, y):\n",
    "    assert (len(x) == len(y)), 'x and y must have same length'\n",
    "    m = len(x)\n",
    "    h = x[1] - x[0]\n",
    "    return h * (y[0] + 2*sum(y[1:-1]) + y[-1]) / 2.0\n",
    "\n",
    "for n in [10, 50, 100]:\n",
    "    x = np.linspace(0, 1, n+1)\n",
    "    y = f(x)\n",
    "    s = trap1(x, y)\n",
    "    print \"%5d %20.16f %20.16f\" % (n, s, (s-d)/s*100)\n",
    "\n",
    "def simp1(x, y):\n",
    "    assert (len(x) == len(y)), 'x and y must have same length'\n",
    "    m = len(x)\n",
    "    h = x[1] - x[0]\n",
    "    return h / 3 * (y[0] + 4*sum(y[1:-1:2])+2*sum(y[2:-2:2])+y[-1])\n",
    "\n",
    "a = 0.0; b = 1.0; n = 10\n",
    "for n in [10, 50, 100]:\n",
    "    x = np.linspace(a, b, n+1)\n",
    "    y = f(x)\n",
    "    s = simp1(x, y)\n",
    "    print \"%5d %20.16f %20.16f\" % (n, s, (s-d)/s*100)\n",
    "\n",
    "def f(x):\n",
    "    return np.exp(-x**2)\n",
    "\n",
    "x = np.linspace(0, 1, 11)\n",
    "y = f(x)\n",
    "plt.plot(x, y)\n",
    "plt.grid()\n",
    "plt.show()\n",
    "print trap1(x, y)\n",
    "print simp1(x, y)"
   ]
  },
  {
   "cell_type": "code",
   "execution_count": 22,
   "metadata": {
    "collapsed": false
   },
   "outputs": [
    {
     "name": "stdout",
     "output_type": "stream",
     "text": [
      "Correct answer = 0.746824132812\n",
      "n = 1 I = 0.778800783071\n",
      "n = 2 I = 0.746594688283\n",
      "n = 3 I = 0.746814584191\n",
      "n = 4 I = 0.746824468131\n",
      "n = 5 I = 0.746824126766\n"
     ]
    }
   ],
   "source": [
    "def gauss_legendre(f, a, b, n=2, debug=False):\n",
    "    if n == 1:\n",
    "        t = np.array([0.0])\n",
    "        A = np.array([2.0])\n",
    "    elif n == 2:\n",
    "        t1 = np.sqrt(1.0/3.0)\n",
    "        t = np.array([-t1, t1])\n",
    "        A = np.array([1.0, 1.0])\n",
    "    elif n == 3:\n",
    "        t1 = np.sqrt(3.0/5.0)\n",
    "        A1 = 5.0 / 9.0\n",
    "        A2 = 8.0 / 9.0\n",
    "        t = np.array([-t1, 0.0, t1])\n",
    "        A = np.array([A1, A2, A1])\n",
    "    elif n == 4:\n",
    "        t1 = np.sqrt(3.0/7 - 2.0/7*np.sqrt(6.0/5))\n",
    "        t2 = np.sqrt(3.0/7 + 2.0/7*np.sqrt(6.0/5))\n",
    "        A1 = (18.0 + np.sqrt(30.0)) / 36.0\n",
    "        A2 = (18.0 - np.sqrt(30.0)) / 36.0\n",
    "        t = np.array([-t2, -t1, t1, t2])\n",
    "        A = np.array([A2, A1, A1, A2])\n",
    "    else:\n",
    "        t1 = (np.sqrt(5.0 - 2.0 * np.sqrt(10.0/7))) / 3.0\n",
    "        t2 = (np.sqrt(5.0 + 2.0 * np.sqrt(10.0/7))) / 3.0\n",
    "        A1 = (322.0 + 13 * np.sqrt(70.0)) / 900.0\n",
    "        A2 = (322.0 - 13 * np.sqrt(70.0)) / 900.0\n",
    "        A3 = 128.0 / 225.0\n",
    "        t = np.array([-t2, -t1, 0.0, t1, t2])\n",
    "        A = np.array([A2, A1, A3, A1, A2])\n",
    "\n",
    "    c1 = (b - a) / 2.0\n",
    "    c2 = (b + a) / 2.0\n",
    "    x = c1 * t + c2\n",
    "    y = f(x)\n",
    "\n",
    "    if debug:\n",
    "        for tt, xx, yy, AA in zip(t, x, y, A):\n",
    "            print \"%12.6f %12.6f %12.6f %12.6f %12.6f\" % (tt, xx, yy, AA, AA*yy)\n",
    "\n",
    "    return c1 * sum(y*A)\n",
    "\n",
    "from scipy.special import erf\n",
    "\n",
    "print 'Correct answer =', np.sqrt(np.pi) * erf(1.0) / 2.0\n",
    "\n",
    "for n in [1, 2, 3, 4, 5]:\n",
    "    I = gauss_legendre(f, 0, 1, n)\n",
    "    print 'n =', n, 'I =', I"
   ]
  },
  {
   "cell_type": "code",
   "execution_count": 21,
   "metadata": {
    "collapsed": false
   },
   "outputs": [
    {
     "name": "stdout",
     "output_type": "stream",
     "text": [
      "    2    0.7313702518285630\n",
      "    3    0.7429840978003812\n",
      "    4    0.7458656148456952\n",
      "    5    0.7465845967882216\n",
      "    6    0.7467642546522943\n",
      "    7    0.7468091636378279\n",
      "    8    0.7468203905416179\n",
      "    9    0.7468231972461524\n",
      "   10    0.7468238989209475\n"
     ]
    }
   ],
   "source": [
    "def trap4(f, a, b, Iold, k):\n",
    "    '''Recursive Trapezoidal Rule'''\n",
    "    n = int(2**(k-2))\n",
    "    h = float(b - a) / n\n",
    "    x = a + h / 2.0\n",
    "    s = 0.0\n",
    "    for i in range(n):\n",
    "        s += f(x)\n",
    "        x += h\n",
    "    Inew = (Iold + h*s) / 2.0\n",
    "    return Inew\n",
    "\n",
    "Iold = float(b - a) * (f(a) + f(b)) / 2.0\n",
    "for k in range(2, 11):\n",
    "    Inew = trap4(f, 0.0, 1.0, Iold, k)\n",
    "    print \"%5d %21.16f\" % (k, Inew)\n",
    "    Iold = Inew"
   ]
  },
  {
   "cell_type": "code",
   "execution_count": 23,
   "metadata": {
    "collapsed": false
   },
   "outputs": [
    {
     "name": "stdout",
     "output_type": "stream",
     "text": [
      "Exact I = 1.41815\n",
      "n = 2 I = 1.45031180528\n",
      "n = 3 I = 1.41618742467\n",
      "n = 4 I = 1.4182150179\n",
      "n = 5 I = 1.4181502678\n"
     ]
    }
   ],
   "source": [
    "def f(x):\n",
    "    return (np.sin(x) / x)**2\n",
    "\n",
    "print 'Exact I =', 1.41815\n",
    "for n in [2, 3, 4, 5]:\n",
    "    print 'n =', n, 'I =', gauss_legendre(f, 0, np.pi, n)"
   ]
  },
  {
   "cell_type": "code",
   "execution_count": 24,
   "metadata": {
    "collapsed": false
   },
   "outputs": [
    {
     "name": "stdout",
     "output_type": "stream",
     "text": [
      "n = 2 I = 0.606725022862\n",
      "n = 3 I = 0.581686953277\n",
      "n = 4 I = 0.584768036213\n",
      "n = 5 I = 0.58500930387\n"
     ]
    }
   ],
   "source": [
    "def f(x):\n",
    "    return np.log(x) / (x**2 - 2.0*x + 2.0)\n",
    "\n",
    "for n in [2, 3, 4, 5]:\n",
    "    print 'n =', n, 'I =', gauss_legendre(f, 1, np.pi, n)"
   ]
  },
  {
   "cell_type": "code",
   "execution_count": 25,
   "metadata": {
    "collapsed": false
   },
   "outputs": [
    {
     "name": "stdout",
     "output_type": "stream",
     "text": [
      "n = 2 I = 0.481728993916\n",
      "n = 3 I = 0.626557170805\n",
      "n = 4 I = 0.634859692783\n",
      "n = 5 I = 0.638388665011\n"
     ]
    }
   ],
   "source": [
    "def f(x):\n",
    "    return np.sin(x) * np.log(x)\n",
    "\n",
    "for n in [2, 3, 4, 5]:\n",
    "    print 'n =', n, 'I =', gauss_legendre(f, 0, np.pi, n)"
   ]
  }
 ],
 "metadata": {
  "kernelspec": {
   "display_name": "Python 2",
   "language": "python",
   "name": "python2"
  },
  "language_info": {
   "codemirror_mode": {
    "name": "ipython",
    "version": 2
   },
   "file_extension": ".py",
   "mimetype": "text/x-python",
   "name": "python",
   "nbconvert_exporter": "python",
   "pygments_lexer": "ipython2",
   "version": "2.7.11"
  }
 },
 "nbformat": 4,
 "nbformat_minor": 0
}
