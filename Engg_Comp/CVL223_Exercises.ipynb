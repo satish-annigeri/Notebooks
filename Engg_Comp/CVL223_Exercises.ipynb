{
 "cells": [
  {
   "cell_type": "markdown",
   "metadata": {},
   "source": [
    "# CVL223 Engineering Computations Lab\n",
    "## Python Exercises\n",
    "\n",
    "### Data Types Available in Python\n",
    "Following data types are available in Python\n",
    "1. Numeric types: Integer (`int`) and floating point real (`float`), Complex (`complex`)\n",
    "2. String (`str`)\n",
    "3. Container types: List (`list`), Tuple (`tuple`), Dictionary (`dict`), Set (`set`)\n",
    "5. NumPy n-dimensional arrays (`ndarray`)\n"
   ]
  },
  {
   "cell_type": "code",
   "execution_count": 16,
   "metadata": {
    "collapsed": false,
    "scrolled": true
   },
   "outputs": [
    {
     "name": "stdout",
     "output_type": "stream",
     "text": [
      "<type 'int'> 10\n",
      "<type 'float'> -20.0\n",
      "<type 'float'> 3.5\n",
      "<type 'bool'> True\n",
      "<type 'complex'> (2-3j)\n",
      "<type 'float'> -0.002\n",
      "<type 'list'> [1, 2, 3]\n",
      "<type 'tuple'> (10,)\n",
      "<type 'float'> 0.001\n",
      "<type 'set'> set([1, 2, 4, 5])\n",
      "<type 'str'> Hubli\n",
      "<type 'str'> Hubballi\n"
     ]
    }
   ],
   "source": [
    "n = 10\n",
    "print type(n), n\n",
    "\n",
    "x = -20.0\n",
    "print type(x), x\n",
    "\n",
    "span = 3.5\n",
    "print type(span), span\n",
    "\n",
    "converge = True\n",
    "print type(converge), converge\n",
    "\n",
    "phaseAngle = 2 - 3j\n",
    "print type(phaseAngle), phaseAngle\n",
    "\n",
    "sigma_x = -2e-3\n",
    "print type(sigma_x), sigma_x\n",
    "\n",
    "L = [1, 2, 3]\n",
    "print type(L), L\n",
    "\n",
    "T = (10,)\n",
    "print type(T), T\n",
    "\n",
    "eps = 0.001\n",
    "print type(eps), eps\n",
    "\n",
    "s1 = 'Hubli'\n",
    "print type(s), s\n",
    "\n",
    "s2 = \"Hubballi\"\n",
    "print type(s1), s1\n",
    "\n",
    "s3 = '''Hubballi'''\n",
    "print type(s3), s3"
   ]
  },
  {
   "cell_type": "code",
   "execution_count": 18,
   "metadata": {
    "collapsed": false
   },
   "outputs": [
    {
     "data": {
      "text/plain": [
       "['__add__',\n",
       " '__class__',\n",
       " '__contains__',\n",
       " '__delattr__',\n",
       " '__delitem__',\n",
       " '__delslice__',\n",
       " '__doc__',\n",
       " '__eq__',\n",
       " '__format__',\n",
       " '__ge__',\n",
       " '__getattribute__',\n",
       " '__getitem__',\n",
       " '__getslice__',\n",
       " '__gt__',\n",
       " '__hash__',\n",
       " '__iadd__',\n",
       " '__imul__',\n",
       " '__init__',\n",
       " '__iter__',\n",
       " '__le__',\n",
       " '__len__',\n",
       " '__lt__',\n",
       " '__mul__',\n",
       " '__ne__',\n",
       " '__new__',\n",
       " '__reduce__',\n",
       " '__reduce_ex__',\n",
       " '__repr__',\n",
       " '__reversed__',\n",
       " '__rmul__',\n",
       " '__setattr__',\n",
       " '__setitem__',\n",
       " '__setslice__',\n",
       " '__sizeof__',\n",
       " '__str__',\n",
       " '__subclasshook__',\n",
       " 'append',\n",
       " 'count',\n",
       " 'extend',\n",
       " 'index',\n",
       " 'insert',\n",
       " 'pop',\n",
       " 'remove',\n",
       " 'reverse',\n",
       " 'sort']"
      ]
     },
     "execution_count": 18,
     "metadata": {},
     "output_type": "execute_result"
    }
   ],
   "source": [
    "dir(list)"
   ]
  },
  {
   "cell_type": "code",
   "execution_count": 19,
   "metadata": {
    "collapsed": false
   },
   "outputs": [
    {
     "data": {
      "text/plain": [
       "['__add__',\n",
       " '__class__',\n",
       " '__contains__',\n",
       " '__delattr__',\n",
       " '__doc__',\n",
       " '__eq__',\n",
       " '__format__',\n",
       " '__ge__',\n",
       " '__getattribute__',\n",
       " '__getitem__',\n",
       " '__getnewargs__',\n",
       " '__getslice__',\n",
       " '__gt__',\n",
       " '__hash__',\n",
       " '__init__',\n",
       " '__iter__',\n",
       " '__le__',\n",
       " '__len__',\n",
       " '__lt__',\n",
       " '__mul__',\n",
       " '__ne__',\n",
       " '__new__',\n",
       " '__reduce__',\n",
       " '__reduce_ex__',\n",
       " '__repr__',\n",
       " '__rmul__',\n",
       " '__setattr__',\n",
       " '__sizeof__',\n",
       " '__str__',\n",
       " '__subclasshook__',\n",
       " 'count',\n",
       " 'index']"
      ]
     },
     "execution_count": 19,
     "metadata": {},
     "output_type": "execute_result"
    }
   ],
   "source": [
    "dir(tuple)"
   ]
  },
  {
   "cell_type": "markdown",
   "metadata": {},
   "source": [
    "If **`a`** is a list, then **`b = a`** creates **`b`** as an **alias** of **`a`**. That is **`b`** is an **alternate name** for **`a`** and if one of them is changed, the other one is also changed because they are two different names for the same object in memory."
   ]
  },
  {
   "cell_type": "code",
   "execution_count": 25,
   "metadata": {
    "collapsed": false
   },
   "outputs": [
    {
     "name": "stdout",
     "output_type": "stream",
     "text": [
      "62024200 62024200\n",
      "[100, 2, 3] [100, 2, 3]\n",
      "[100, 200, 3] [100, 200, 3]\n"
     ]
    }
   ],
   "source": [
    "a = [1, 2, 3]\n",
    "b = a\n",
    "print id(a), id(b)\n",
    "a[0] = 100\n",
    "print a, b\n",
    "b[1] = 200\n",
    "print a, b"
   ]
  },
  {
   "cell_type": "code",
   "execution_count": 27,
   "metadata": {
    "collapsed": false
   },
   "outputs": [
    {
     "name": "stdout",
     "output_type": "stream",
     "text": [
      "62024904 62023624\n",
      "[100, 2, 3] [1, 2, 3]\n",
      "[100, 2, 3] [1, 200, 3]\n"
     ]
    }
   ],
   "source": [
    "a = [1, 2, 3]\n",
    "b = a[:]\n",
    "print id(a), id(b)\n",
    "a[0] = 100\n",
    "print a, b\n",
    "b[1] = 200\n",
    "print a, b"
   ]
  },
  {
   "cell_type": "code",
   "execution_count": 29,
   "metadata": {
    "collapsed": false
   },
   "outputs": [
    {
     "name": "stdout",
     "output_type": "stream",
     "text": [
      "(4+0j)\n",
      "6j\n",
      "(13+0j)\n",
      "(-0.384615384615+0.923076923077j)\n"
     ]
    }
   ],
   "source": [
    "a = 2 + 3j\n",
    "b = 2 - 3j\n",
    "print a + b\n",
    "print a - b\n",
    "print a * b\n",
    "print a / b"
   ]
  },
  {
   "cell_type": "code",
   "execution_count": 37,
   "metadata": {
    "collapsed": false
   },
   "outputs": [
    {
     "name": "stdout",
     "output_type": "stream",
     "text": [
      "Hello\n",
      "world\n",
      "olleH\n",
      "dlrow\n",
      "dlrow ,olleH\n",
      "world, Hello\n"
     ]
    }
   ],
   "source": [
    "s = 'Hello, world'\n",
    "print s[:5]\n",
    "print s[7:]\n",
    "print s[4::-1]\n",
    "print s[:-6:-1]\n",
    "print s[::-1]\n",
    "print s[7:] + s[5:7] + s[:5]"
   ]
  },
  {
   "cell_type": "code",
   "execution_count": 39,
   "metadata": {
    "collapsed": false
   },
   "outputs": [
    {
     "name": "stdout",
     "output_type": "stream",
     "text": [
      "11\n"
     ]
    }
   ],
   "source": [
    "s = 'Abracadabra'\n",
    "print len(s)"
   ]
  },
  {
   "cell_type": "code",
   "execution_count": 49,
   "metadata": {
    "collapsed": false
   },
   "outputs": [
    {
     "name": "stdout",
     "output_type": "stream",
     "text": [
      "16\n",
      "3.14159265359\n",
      "1.28402541669\n",
      "0.195090322016\n",
      "3.14159265359\n"
     ]
    }
   ],
   "source": [
    "print 4**2\n",
    "\n",
    "import numpy as np\n",
    "from numpy import pi\n",
    "\n",
    "print pi\n",
    "print np.exp(0.25)\n",
    "print np.sin(pi/16)\n",
    "print 4 * np.arctan(1.0)"
   ]
  },
  {
   "cell_type": "code",
   "execution_count": 59,
   "metadata": {
    "collapsed": false
   },
   "outputs": [
    {
     "name": "stdout",
     "output_type": "stream",
     "text": [
      "102 102\n"
     ]
    },
    {
     "data": {
      "image/png": "[encoded data removed]",
      "text/plain": [
       "<matplotlib.figure.Figure at 0xc2f45c0>"
      ]
     },
     "metadata": {},
     "output_type": "display_data"
    }
   ],
   "source": [
    "import matplotlib.pyplot as plt\n",
    "%matplotlib inline\n",
    "\n",
    "t = np.arange(0, 10.2, 0.1)\n",
    "y = np.exp(-t) * (np.sin(2*t) + np.cos(3*t))\n",
    "\n",
    "print len(t), len(y)\n",
    "plt.plot(t, y)\n",
    "plt.xlabel('t')\n",
    "plt.ylabel('f(t)')\n",
    "plt.title('Decaying Harmonic Function')\n",
    "plt.grid()\n",
    "plt.savefig('demo_fig10.pdf')\n",
    "plt.show()"
   ]
  },
  {
   "cell_type": "code",
   "execution_count": 69,
   "metadata": {
    "collapsed": false
   },
   "outputs": [
    {
     "name": "stdout",
     "output_type": "stream",
     "text": [
      "2 3 4 5 6 7 8 9 10\n",
      "0 1 2 3 4 5\n",
      "-1.0 -0.5 0.0 0.5 1.0 1.5 2.0\n",
      "5.0 4.5 4.0 3.5 3.0 2.5 2.0 1.5 1.0 0.5 0.0\n"
     ]
    }
   ],
   "source": [
    "for i in range(2, 11):\n",
    "    print i,\n",
    "print\n",
    "\n",
    "for i in np.arange(0, 6):\n",
    "    print i,\n",
    "print\n",
    "\n",
    "for x in np.arange(-1, 2.5, 0.5):\n",
    "    print x,\n",
    "print\n",
    "\n",
    "for x in np.arange(5, -0.5, -0.5):\n",
    "    print x,\n",
    "print"
   ]
  },
  {
   "cell_type": "code",
   "execution_count": 71,
   "metadata": {
    "collapsed": false
   },
   "outputs": [
    {
     "name": "stdout",
     "output_type": "stream",
     "text": [
      "[ 10.   12.5  15.   17.5  20. ]\n"
     ]
    }
   ],
   "source": [
    "print np.linspace(10.0, 20.0, 5)"
   ]
  },
  {
   "cell_type": "code",
   "execution_count": 85,
   "metadata": {
    "collapsed": false
   },
   "outputs": [
    {
     "name": "stdout",
     "output_type": "stream",
     "text": [
      "[1 2 3 4 5]\n",
      "1 (5L,) 5 5 15 55 3.0\n"
     ]
    }
   ],
   "source": [
    "x = np.array(range(1, 6))\n",
    "print x\n",
    "print x.ndim, x.shape, len(x), x.size, sum(x), sum(x**2), np.mean(x)"
   ]
  },
  {
   "cell_type": "code",
   "execution_count": 96,
   "metadata": {
    "collapsed": false
   },
   "outputs": [
    {
     "name": "stdout",
     "output_type": "stream",
     "text": [
      "[[ 1  2  3  4]\n",
      " [ 5  6  7  8]\n",
      " [ 9 10 11 12]]\n",
      "2 (3L, 4L) 3 12\n",
      "[15 18 21 24] [10 26 42] 78\n",
      "[[ 1  5  9]\n",
      " [ 2  6 10]\n",
      " [ 3  7 11]\n",
      " [ 4  8 12]]\n"
     ]
    }
   ],
   "source": [
    "x = np.array([range(1, 5), range(5, 9), range(9, 13)])\n",
    "print x\n",
    "print x.ndim, x.shape, len(x), x.size\n",
    "print np.sum(x, axis=0), np.sum(x, axis=1), np.sum(x)\n",
    "print x.T"
   ]
  },
  {
   "cell_type": "code",
   "execution_count": 105,
   "metadata": {
    "collapsed": false
   },
   "outputs": [
    {
     "name": "stdout",
     "output_type": "stream",
     "text": [
      "[[11 14 17 20]\n",
      " [22 25 28 31]]\n",
      "[[ 10  33  60  91]\n",
      " [ 40  84 132 184]]\n",
      "[[ 10  33  60  91]\n",
      " [ 40  84 132 184]]\n",
      "[[ 9  8  7  6]\n",
      " [18 17 16 15]]\n",
      "[[10  3  2  1]\n",
      " [10  5  3  2]]\n",
      "[[194 240]\n",
      " [354 440]]\n",
      "[[ 50  53  56  59]\n",
      " [110 117 124 131]\n",
      " [170 181 192 203]\n",
      " [230 245 260 275]]\n"
     ]
    }
   ],
   "source": [
    "a = np.array([[10, 11, 12, 13], [20, 21, 22, 23]])\n",
    "b = np.array([[1, 2], [3, 4], [5, 6], [7, 8]])\n",
    "\n",
    "print a + b.T\n",
    "print a * b.T\n",
    "print b.T * a\n",
    "print a - b.T\n",
    "print a / b.T\n",
    "print np.dot(a, b)\n",
    "print np.dot(b, a)"
   ]
  },
  {
   "cell_type": "code",
   "execution_count": 111,
   "metadata": {
    "collapsed": false
   },
   "outputs": [
    {
     "name": "stdout",
     "output_type": "stream",
     "text": [
      "[ 34.44546801  29.57001228   6.52185769  79.69617111  97.85638808\n",
      "  98.24348418  83.83223265   3.42438997  24.96934968  72.09240641] 53.0651760065 53.0651760065\n"
     ]
    }
   ],
   "source": [
    "def average(xx):\n",
    "    avg = 0.0\n",
    "    for x in xx:\n",
    "        avg += x\n",
    "    return avg / len(xx)\n",
    "\n",
    "x = np.random.rand(10) * 100\n",
    "print x, np.mean(x), average(x)"
   ]
  },
  {
   "cell_type": "code",
   "execution_count": 114,
   "metadata": {
    "collapsed": false
   },
   "outputs": [
    {
     "name": "stdout",
     "output_type": "stream",
     "text": [
      "[ 4.  8. -2.]\n",
      "[ 0.  0.  0.]\n"
     ]
    }
   ],
   "source": [
    "a = np.array([[2, -6, -1], [-3, -1, 7], [-8, 1, -2]], dtype=float)\n",
    "b = np.array([-38, -34, -20], dtype=float)\n",
    "x = np.linalg.solve(a, b)\n",
    "print x\n",
    "print np.dot(a, x) - b"
   ]
  },
  {
   "cell_type": "code",
   "execution_count": 118,
   "metadata": {
    "collapsed": false
   },
   "outputs": [
    {
     "name": "stdout",
     "output_type": "stream",
     "text": [
      "[[ 100.   75.   50.]\n",
      " [  75. -120.   20.]\n",
      " [  50.   20.   25.]]\n",
      "[ 146.80049737 -143.25673922    1.45624185]\n",
      "[[-0.87254453 -0.28930094 -0.39366358]\n",
      " [-0.27552193  0.95683544 -0.09248568]\n",
      " [-0.40342746 -0.02776508  0.91459028]]\n"
     ]
    }
   ],
   "source": [
    "a = np.array([[100, 75, 50], [75, -120, 20], [50, 20, 25]], dtype=float)\n",
    "print a\n",
    "w, v = np.linalg.eig(a)\n",
    "print w\n",
    "print v"
   ]
  },
  {
   "cell_type": "code",
   "execution_count": 119,
   "metadata": {
    "collapsed": false
   },
   "outputs": [
    {
     "name": "stdout",
     "output_type": "stream",
     "text": [
      "7.07106781187 [ 0.42426407  0.56568542  0.70710678]\n"
     ]
    }
   ],
   "source": [
    "def length(a, b):\n",
    "    proj = b - a\n",
    "    L = np.sqrt(np.sum(proj**2))\n",
    "    return L, proj/L\n",
    "\n",
    "p1 = np.array([0, 0, 0.0])\n",
    "p2 = np.array([3.0, 4, 5])\n",
    "L, dc = length(p1, p2)\n",
    "print L, dc"
   ]
  }
 ],
 "metadata": {
  "kernelspec": {
   "display_name": "Python 2",
   "language": "python",
   "name": "python2"
  },
  "language_info": {
   "codemirror_mode": {
    "name": "ipython",
    "version": 2
   },
   "file_extension": ".py",
   "mimetype": "text/x-python",
   "name": "python",
   "nbconvert_exporter": "python",
   "pygments_lexer": "ipython2",
   "version": "2.7.11"
  }
 },
 "nbformat": 4,
 "nbformat_minor": 0
}
