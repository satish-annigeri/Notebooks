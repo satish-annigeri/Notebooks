{
 "cells": [
  {
   "cell_type": "markdown",
   "metadata": {},
   "source": [
    "# Numerical Solution of Initial Value Problems"
   ]
  },
  {
   "cell_type": "markdown",
   "metadata": {},
   "source": [
    "## First Order ODEs"
   ]
  },
  {
   "cell_type": "markdown",
   "metadata": {},
   "source": [
    "First order ODEs are of the form\n",
    "$$y'(x) = f(x,y), \\quad y(x_0) = y_0$$\n",
    "where $y(x_0)=y_0$ is the given initial value. Typically, such an ODE is solved by dividing the range $x_0$ to $x_n$ over which the solution is sought into $n$ equal intervals each of width $h$, and solving the equation at these points $x_0, x_1=x_0 + h, \\ldots, x_n=x_0 + n \\cdot h$ The recurrence equation is based on the Taylor Series, considering the first two terms:\n",
    "$$y(x+h) = y(x) + h \\cdot y'(x)$$\n",
    "Since $y'(x)=f(x,y)$, above equation can be written as:\n",
    "$$y(x+h) = y(x) + h \\cdot f(x,y)$$\n",
    "Applying this to the sequence of points above, the recurrence equation can be written as:\n",
    "$$y_{i+1} = y_{i} + h \\cdot f(x_i, y_i)$$\n",
    "Note that the value of $y(x)$ at the current point $y_{i+1}$ requires the slope to be estimated at the previous point $x_i$ and requires the value of the function $y_i$ at the previous point. If the interval is sufficiently small, the solution is close to the exact solution."
   ]
  },
  {
   "cell_type": "code",
   "execution_count": 1,
   "metadata": {
    "collapsed": false
   },
   "outputs": [
    {
     "name": "stdout",
     "output_type": "stream",
     "text": [
      "           x        Euler        Exact        Error\n",
      "    0.000000     0.000000     0.000000     0.000000\n",
      "    0.200000     0.000000     0.021403     0.021403\n",
      "    0.400000     0.040000     0.091825     0.051825\n",
      "    0.600000     0.128000     0.222119     0.094119\n",
      "    0.800000     0.273600     0.425541     0.151941\n",
      "    1.000000     0.488320     0.718282     0.229962\n"
     ]
    },
    {
     "data": {
      "image/png": "[encoded data removed]",
      "text/plain": [
       "<matplotlib.figure.Figure at 0x77eae80>"
      ]
     },
     "metadata": {},
     "output_type": "display_data"
    }
   ],
   "source": [
    "from __future__ import division, print_function\n",
    "\n",
    "import numpy as np\n",
    "import matplotlib.pyplot as plt\n",
    "\n",
    "%matplotlib inline\n",
    "\n",
    "def f(x, y):\n",
    "    return y + x\n",
    "\n",
    "def euler(f, x0, y0, xn, n):\n",
    "    h = float(xn - x0) / n\n",
    "    x = np.linspace(x0, xn, n+1)\n",
    "    y = np.zeros_like(x)\n",
    "    for i in range(n):\n",
    "        y[i+1] = y[i] + h * f(x[i], y[i])\n",
    "    return x, y\n",
    "\n",
    "x, y = euler(f, 0, 0, 1, 5)\n",
    "yexact = np.exp(x) - x - 1\n",
    "print('%12s %12s %12s %12s' % ('x', 'Euler', 'Exact', 'Error'))\n",
    "for xx, y1, y2 in zip(x, y, yexact):\n",
    "    print('%12.6f %12.6f %12.6f %12.6f' % (xx, y1, y2, y2-y1))\n",
    "plt.plot(x, y, 'b-', x, yexact, 'r-')\n",
    "plt.legend(['Euler', 'Exact'], loc=2)\n",
    "plt.grid()\n",
    "plt.xlabel('x')\n",
    "plt.ylabel('y(x)')\n",
    "plt.title(r\"Euler Method, n=5, $y' = y + x$\")\n",
    "plt.show()"
   ]
  },
  {
   "cell_type": "code",
   "execution_count": 2,
   "metadata": {
    "collapsed": false
   },
   "outputs": [
    {
     "name": "stdout",
     "output_type": "stream",
     "text": [
      "           x        Euler        Exact        Error\n",
      "    0.000000     0.000000     0.000000     0.000000\n",
      "    0.020000     0.000000     0.000201     0.000201\n",
      "    0.040000     0.000400     0.000811     0.000411\n",
      "    0.060000     0.001208     0.001837     0.000629\n",
      "    0.080000     0.002432     0.003287     0.000855\n",
      "    0.100000     0.004081     0.005171     0.001090\n",
      "    0.120000     0.006162     0.007497     0.001334\n",
      "    0.140000     0.008686     0.010274     0.001588\n",
      "    0.160000     0.011659     0.013511     0.001851\n",
      "    0.180000     0.015093     0.017217     0.002125\n",
      "    0.200000     0.018994     0.021403     0.002408\n",
      "    0.220000     0.023374     0.026077     0.002702\n",
      "    0.240000     0.028242     0.031249     0.003007\n",
      "    0.260000     0.033607     0.036930     0.003323\n",
      "    0.280000     0.039479     0.043130     0.003651\n",
      "    0.300000     0.045868     0.049859     0.003990\n",
      "    0.320000     0.052786     0.057128     0.004342\n",
      "    0.340000     0.060241     0.064948     0.004706\n",
      "    0.360000     0.068246     0.073329     0.005083\n",
      "    0.380000     0.076811     0.082285     0.005473\n",
      "    0.400000     0.085947     0.091825     0.005877\n",
      "    0.420000     0.095666     0.101962     0.006295\n",
      "    0.440000     0.105980     0.112707     0.006728\n",
      "    0.460000     0.116899     0.124074     0.007175\n",
      "    0.480000     0.128437     0.136074     0.007637\n",
      "    0.500000     0.140606     0.148721     0.008115\n",
      "    0.520000     0.153418     0.162028     0.008610\n",
      "    0.540000     0.166886     0.176007     0.009120\n",
      "    0.560000     0.181024     0.190673     0.009648\n",
      "    0.580000     0.195845     0.206038     0.010194\n",
      "    0.600000     0.211362     0.222119     0.010757\n",
      "    0.620000     0.227589     0.238928     0.011339\n",
      "    0.640000     0.244541     0.256481     0.011940\n",
      "    0.660000     0.262231     0.274792     0.012561\n",
      "    0.680000     0.280676     0.293878     0.013202\n",
      "    0.700000     0.299890     0.313753     0.013863\n",
      "    0.720000     0.319887     0.334433     0.014546\n",
      "    0.740000     0.340685     0.355936     0.015250\n",
      "    0.760000     0.362299     0.378276     0.015977\n",
      "    0.780000     0.384745     0.401472     0.016727\n",
      "    0.800000     0.408040     0.425541     0.017501\n",
      "    0.820000     0.432200     0.450500     0.018299\n",
      "    0.840000     0.457244     0.476367     0.019123\n",
      "    0.860000     0.483189     0.503161     0.019971\n",
      "    0.880000     0.510053     0.530900     0.020847\n",
      "    0.900000     0.537854     0.559603     0.021749\n",
      "    0.920000     0.566611     0.589290     0.022679\n",
      "    0.940000     0.596344     0.619981     0.023638\n",
      "    0.960000     0.627070     0.651696     0.024626\n",
      "    0.980000     0.658812     0.684456     0.025644\n",
      "    1.000000     0.691588     0.718282     0.026694\n"
     ]
    },
    {
     "data": {
      "image/png": "[encoded data removed]",
      "text/plain": [
       "<matplotlib.figure.Figure at 0x7bf31d0>"
      ]
     },
     "metadata": {},
     "output_type": "display_data"
    }
   ],
   "source": [
    "n = 50\n",
    "x, y = euler(f, 0, 0, 1, n)\n",
    "yexact = np.exp(x) - x - 1\n",
    "print('%12s %12s %12s %12s' % ('x', 'Euler', 'Exact', 'Error'))\n",
    "for xx, y1, y2 in zip(x, y, yexact):\n",
    "    print('%12.6f %12.6f %12.6f %12.6f' % (xx, y1, y2, y2-y1))\n",
    "plt.plot(x, y, 'b-', x, yexact, 'r-')\n",
    "plt.legend(['Euler', 'Exact'], loc=2)\n",
    "plt.grid()\n",
    "plt.xlabel('x')\n",
    "plt.ylabel('y(x)')\n",
    "plt.title(r\"Euler Method, n=%d, $y' = y + x$\" % (n))\n",
    "plt.show()"
   ]
  },
  {
   "cell_type": "markdown",
   "metadata": {},
   "source": [
    "## Heun's Method (Improved Euler method)\n",
    "Heun's method estimates the slope as the average of the slopes at $x_i$ and $x_{i+1}$. Using $x_i$ and $y_i$, we estimate slope at $x_i$, namely $f(x_i, y_i)$ and using that, we estimate $y_{i+1}$. Knowing $y_{i+1}$, we can now estimate slope at $x_{i+1}$, namely, $f(x_{i+1}, y_{i+1})$. The slope is approximated as $\\frac{f(x_i, y_i) + f(x_{i+1}, y_{i+1}))}{2}$.\n",
    "\n",
    "Slope at left = $f(x_i, y_i)$\n",
    "\n",
    "Ordinate at right = $y_i + h \\, f(x_i, y_i)$\n",
    "\n",
    "Slope at right = $f(x_i + h, y_i + h \\, f(x_i, y_i))$\n",
    "\n",
    "Ideal slope = $\\frac{1}{2} \\left( f(x_i, y_i) + f(x_i + h, y_i + h \\, f(x_i, y_i)) \\right)$\n",
    "\n",
    "$\\Delta y = h \\, \\frac{1}{2} \\left( f(x_i, y_i) + f(x_i + h, y_i + h \\, f(x_i, y_i)) \\right)$\n",
    "\n",
    "$x_{i+1} = x_i + h$\n",
    "\n",
    "$y_{i+1} = y_i + h \\, \\frac{1}{2} \\left( f(x_i, y_i) + f(x_i + h, y_i + h \\, f(x_i, y_i)) \\right)$\n",
    "\n",
    "**Reference:** [Wikipedia article on Heun's Method](https://en.wikipedia.org/wiki/Heun's_method)"
   ]
  },
  {
   "cell_type": "code",
   "execution_count": 18,
   "metadata": {
    "collapsed": false
   },
   "outputs": [
    {
     "name": "stdout",
     "output_type": "stream",
     "text": [
      "           x         Heun        Exact        Error\n",
      "    0.000000     0.000000     0.000000     0.000000\n",
      "    0.050000     0.000000     0.005171     0.005171\n",
      "    0.100000     0.002500     0.021403     0.018903\n",
      "    0.150000     0.007625     0.049859     0.042234\n",
      "    0.200000     0.015506     0.091825     0.076318\n",
      "    0.250000     0.026282     0.148721     0.122440\n",
      "    0.300000     0.040096     0.222119     0.182023\n",
      "    0.350000     0.057100     0.313753     0.256652\n",
      "    0.400000     0.077455     0.425541     0.348085\n",
      "    0.450000     0.101328     0.559603     0.458275\n",
      "    0.500000     0.128895     0.718282     0.589387\n",
      "    0.550000     0.160339     0.904166     0.743827\n",
      "    0.600000     0.195856     1.120117     0.924261\n",
      "    0.650000     0.235649     1.369297     1.133648\n",
      "    0.700000     0.279932     1.655200     1.375268\n",
      "    0.750000     0.328928     1.981689     1.652761\n",
      "    0.800000     0.382875     2.353032     1.970158\n",
      "    0.850000     0.442018     2.773947     2.331929\n",
      "    0.900000     0.506619     3.249647     2.743028\n",
      "    0.950000     0.576950     3.785894     3.208944\n",
      "    1.000000     0.653298     4.389056     3.735758\n"
     ]
    },
    {
     "data": {
      "image/png": "[encoded data removed]",
      "text/plain": [
       "<matplotlib.figure.Figure at 0x8c985c0>"
      ]
     },
     "metadata": {},
     "output_type": "display_data"
    },
    {
     "name": "stdout",
     "output_type": "stream",
     "text": [
      "           x         Heun        Exact        Error\n",
      "    0.000000     0.000000     0.000000     0.000000\n",
      "    0.050000     0.001250     0.005171     0.003921\n",
      "    0.100000     0.005127     0.021403     0.016276\n",
      "    0.150000     0.011764     0.049859     0.038095\n",
      "    0.200000     0.021305     0.091825     0.070520\n",
      "    0.250000     0.033897     0.148721     0.114825\n",
      "    0.300000     0.049696     0.222119     0.172423\n",
      "    0.350000     0.068868     0.313753     0.244884\n",
      "    0.400000     0.091585     0.425541     0.333956\n",
      "    0.450000     0.118029     0.559603     0.441574\n",
      "    0.500000     0.148390     0.718282     0.569891\n",
      "    0.550000     0.182870     0.904166     0.721296\n",
      "    0.600000     0.221680     1.120117     0.898437\n",
      "    0.650000     0.265041     1.369297     1.104255\n",
      "    0.700000     0.313187     1.655200     1.342013\n",
      "    0.750000     0.366363     1.981689     1.615326\n",
      "    0.800000     0.424826     2.353032     1.928206\n",
      "    0.850000     0.488849     2.773947     2.285099\n",
      "    0.900000     0.558715     3.249647     2.690933\n",
      "    0.950000     0.634724     3.785894     3.151170\n",
      "    1.000000     0.717191     4.389056     3.671865\n"
     ]
    }
   ],
   "source": [
    "def heun(f, x0, y0, xn, n, debug=False):\n",
    "    h = float(xn - x0) / n\n",
    "    x = np.linspace(x0, xn, n+1)\n",
    "    y = np.zeros((n+1,), dtype=float)\n",
    "    y[0] = y0\n",
    "    for i in range(n):\n",
    "        f1 = f(x[i], y[i])  # slope at x[i]\n",
    "        y1 = y[i] + h * f1  # y[i+1]\n",
    "        f2 = f(x[i+1], y1)  # slope at x[i+1]\n",
    "        y[i+1] = y[i] + h * (f1 + f2) / 2.0\n",
    "        if debug:\n",
    "            print('%4d %12.6f %12.6f %12.6f %12.6f %12.6f' % (i, x[i+1], f1, y1, f2, y[i+1]))\n",
    "    return x, y\n",
    "\n",
    "n = 20\n",
    "x1, y1 = euler(f, 0, 0, 1, n)\n",
    "x2, y2 = heun(f, 0, 0, 1, n)\n",
    "yexact = np.exp(x) - x - 1\n",
    "print('%12s %12s %12s %12s' % ('x', 'Heun', 'Exact', 'Error'))\n",
    "for xx, yy1, yy2 in zip(x1, y1, yexact):\n",
    "    print('%12.6f %12.6f %12.6f %12.6f' % (xx, yy1, yy2, yy2-yy1))\n",
    "plt.plot(x1, y1, 'b-', x2, y2, 'r-', x, yexact, 'g-')\n",
    "plt.legend(['Euler', 'Heun', 'Exact'], loc=2)\n",
    "plt.grid()\n",
    "plt.xlabel('x')\n",
    "plt.ylabel('y(x)')\n",
    "plt.title(r\"Euler and Heun Methods, n=5, $y' = y + x$\")\n",
    "plt.show()\n",
    "\n",
    "def heun2(f, x0, y0, xn, h):\n",
    "    x = np.arange(x0, xn+h, h)\n",
    "    y = np.zeros_like(x)\n",
    "    y[0] = y0\n",
    "    n = len(x)\n",
    "    for i in range(1, n):\n",
    "        k0 = h * f(x[i-1], y[i-1])\n",
    "        k1 = h * f(x[i-1]+h/2.0, y[i-1]+k0/2.0)\n",
    "        y[i] = y[i-1] + k1\n",
    "    return x, y\n",
    "\n",
    "x3, y3 = heun2(f, 0.0, 0.0, 1.0, 0.05)\n",
    "print('%12s %12s %12s %12s' % ('x', 'Heun', 'Exact', 'Error'))\n",
    "for xx, yy1, yy2 in zip(x3, y3, yexact):\n",
    "    print('%12.6f %12.6f %12.6f %12.6f' % (xx, yy1, yy2, yy2-yy1))"
   ]
  },
  {
   "cell_type": "code",
   "execution_count": 4,
   "metadata": {
    "collapsed": false
   },
   "outputs": [
    {
     "name": "stdout",
     "output_type": "stream",
     "text": [
      "           x         Heun        Exact        Error\n",
      "    0.000000     0.000000     0.000000     0.000000\n",
      "    0.050000     0.001250     0.001271     0.000021\n",
      "    0.100000     0.005127     0.005171     0.000044\n",
      "    0.150000     0.011764     0.011834     0.000070\n",
      "    0.200000     0.021305     0.021403     0.000098\n",
      "    0.250000     0.033897     0.034025     0.000129\n",
      "    0.300000     0.049696     0.049859     0.000163\n",
      "    0.350000     0.068868     0.069068     0.000199\n",
      "    0.400000     0.091585     0.091825     0.000239\n",
      "    0.450000     0.118029     0.118312     0.000283\n",
      "    0.500000     0.148390     0.148721     0.000331\n",
      "    0.550000     0.182870     0.183253     0.000383\n",
      "    0.600000     0.221680     0.222119     0.000439\n",
      "    0.650000     0.265041     0.265541     0.000500\n",
      "    0.700000     0.313187     0.313753     0.000566\n",
      "    0.750000     0.366363     0.367000     0.000637\n",
      "    0.800000     0.424826     0.425541     0.000714\n",
      "    0.850000     0.488849     0.489647     0.000798\n",
      "    0.900000     0.558715     0.559603     0.000888\n",
      "    0.950000     0.634724     0.635710     0.000986\n",
      "    1.000000     0.717191     0.718282     0.001091\n"
     ]
    },
    {
     "data": {
      "image/png": "[encoded data removed]",
      "text/plain": [
       "<matplotlib.figure.Figure at 0x3de3048>"
      ]
     },
     "metadata": {},
     "output_type": "display_data"
    }
   ],
   "source": [
    "n = 20\n",
    "x2, y2 = heun(f, 0, 0, 1, n)\n",
    "yexact = np.exp(x2) - x2 - 1\n",
    "print('%12s %12s %12s %12s' % ('x', 'Heun', 'Exact', 'Error'))\n",
    "for xx, yy1, yy2 in zip(x2, y2, yexact):\n",
    "    print('%12.6f %12.6f %12.6f %12.6f' % (xx, yy1, yy2, yy2-yy1))\n",
    "plt.plot(x2, y2, 'b-', x2, y2, 'r-', x2, yexact, 'g-')\n",
    "plt.legend(['Heun', 'Exact'], loc=2)\n",
    "plt.grid()\n",
    "plt.xlabel('x')\n",
    "plt.ylabel('y(x)')\n",
    "plt.title(r\"Heun Method, n=10, $y' = y + x$\")\n",
    "plt.show()"
   ]
  },
  {
   "cell_type": "code",
   "execution_count": 5,
   "metadata": {
    "collapsed": false
   },
   "outputs": [
    {
     "name": "stdout",
     "output_type": "stream",
     "text": [
      "           x         Heun\n",
      "    0.000000     1.000000\n",
      "    0.100000     1.005000\n",
      "    0.200000     1.020354\n",
      "    0.300000     1.047026\n",
      "    0.400000     1.086795\n",
      "    0.500000     1.142568\n",
      "    0.600000     1.218971\n",
      "    0.700000     1.323440\n",
      "    0.800000     1.468384\n",
      "    0.900000     1.675791\n",
      "    1.000000     1.988126\n"
     ]
    },
    {
     "data": {
      "image/png": "[encoded data removed]",
      "text/plain": [
       "<matplotlib.figure.Figure at 0x3d78a58>"
      ]
     },
     "metadata": {},
     "output_type": "display_data"
    }
   ],
   "source": [
    "def fx(x, y):\n",
    "    return x*y**2\n",
    "\n",
    "x, y = heun(fx, 0, 1, 1, 10)\n",
    "print('%12s %12s' % ('x', 'Heun'))\n",
    "for xx, yy in zip(x, y):\n",
    "    print('%12.6f %12.6f' % (xx, yy))\n",
    "plt.plot(x, y)\n",
    "plt.grid()\n",
    "plt.xlabel('x')\n",
    "plt.ylabel('y(x)')\n",
    "plt.title(r\"Heun Method, n=10, $y' = x y^2$\")\n",
    "plt.show()"
   ]
  },
  {
   "cell_type": "code",
   "execution_count": 6,
   "metadata": {
    "collapsed": false
   },
   "outputs": [
    {
     "name": "stdout",
     "output_type": "stream",
     "text": [
      "           x         Heun\n",
      "    0.000000     0.000000\n",
      "    0.100000     0.000500\n",
      "    0.200000     0.003035\n",
      "    0.300000     0.009814\n",
      "    0.400000     0.023408\n",
      "    0.500000     0.047024\n",
      "    0.600000     0.084899\n",
      "    0.700000     0.142949\n",
      "    0.800000     0.229887\n",
      "    0.900000     0.359299\n",
      "    1.000000     0.553790\n"
     ]
    },
    {
     "data": {
      "image/png": "[encoded data removed]",
      "text/plain": [
       "<matplotlib.figure.Figure at 0x7ac15c0>"
      ]
     },
     "metadata": {},
     "output_type": "display_data"
    }
   ],
   "source": [
    "def f3(x, y):\n",
    "    return (y + x)**2\n",
    "\n",
    "x, y = heun(f3, 0, 0, 1, 10)\n",
    "print('%12s %12s' % ('x', 'Heun'))\n",
    "for xx, yy in zip(x, y):\n",
    "    print('%12.6f %12.6f' % (xx, yy))\n",
    "plt.plot(x, y)\n",
    "plt.grid()\n",
    "plt.xlabel('x')\n",
    "plt.ylabel('y(x)')\n",
    "plt.title(r\"Heun Method, n=10, $y' = (y + x)^2$\")\n",
    "plt.show()"
   ]
  },
  {
   "cell_type": "markdown",
   "metadata": {},
   "source": [
    "Solve the following first-order ODE over the range $x = 0$ to $x=4$ with the initial value $y_0 = 1.0$ by dividing the interval into 8, 40 and 80 equal intervals. Use Euler method .\n",
    "$$y' = \\frac{dy}{dx} = -2x^3 + 12 x^2 - 20x + 8.5$$"
   ]
  },
  {
   "cell_type": "code",
   "execution_count": 7,
   "metadata": {
    "collapsed": false
   },
   "outputs": [
    {
     "data": {
      "image/png": "[encoded data removed]",
      "text/plain": [
       "<matplotlib.figure.Figure at 0x81ac160>"
      ]
     },
     "metadata": {},
     "output_type": "display_data"
    }
   ],
   "source": [
    "def f2(x, y):\n",
    "    return -2*x**3 + 12 * x**2 -20*x + 8.5\n",
    "\n",
    "x0 = 0.0\n",
    "y0 = 1.0\n",
    "xn = 4.0\n",
    "\n",
    "x1, y1 = euler(f2, x0, y0, xn, 8)\n",
    "x2, y2 = euler(f2, x0, y0, xn, 40)\n",
    "x3, y3 = euler(f2, x0, y0, xn, 80)\n",
    "\n",
    "plt.plot(x1, y1, x2, y2, x3, y3)\n",
    "plt.grid()\n",
    "plt.xlabel('x')\n",
    "plt.ylabel('y(x)')\n",
    "plt.legend(['h=0.5', 'h=0.1', 'h=0.05'], loc=4)\n",
    "plt.show()"
   ]
  },
  {
   "cell_type": "markdown",
   "metadata": {},
   "source": [
    "Solve the following first order ODE using Euler method for the following values: $x_0 = 0, x_n = 1, y_0 = 1, n = 10$.\n",
    "$$ \\frac{dy}{dx} = x y^2$$"
   ]
  },
  {
   "cell_type": "code",
   "execution_count": 8,
   "metadata": {
    "collapsed": false
   },
   "outputs": [
    {
     "name": "stdout",
     "output_type": "stream",
     "text": [
      "    0.000000     0.000000\n",
      "    0.100000     0.000000\n",
      "    0.200000     0.000000\n",
      "    0.300000     0.000000\n",
      "    0.400000     0.000000\n",
      "    0.500000     0.000000\n",
      "    0.600000     0.000000\n",
      "    0.700000     0.000000\n",
      "    0.800000     0.000000\n",
      "    0.900000     0.000000\n",
      "    1.000000     0.000000\n"
     ]
    }
   ],
   "source": [
    "def f4(x, y):\n",
    "    return x * y**2\n",
    "\n",
    "x, y = euler(f4, 0, 1, 1, 10)\n",
    "\n",
    "for xx, yy in zip(x, y):\n",
    "    print('%12.6f %12.6f' % (xx, yy))"
   ]
  },
  {
   "cell_type": "code",
   "execution_count": 9,
   "metadata": {
    "collapsed": false
   },
   "outputs": [
    {
     "name": "stdout",
     "output_type": "stream",
     "text": [
      "   0     0.100000     0.000000     0.000000     0.010000     0.000500\n",
      "   1     0.200000     0.010100     0.001510     0.040606     0.003035\n",
      "   2     0.300000     0.041223     0.007158     0.094346     0.009814\n",
      "   3     0.400000     0.095985     0.019412     0.175907     0.023408\n",
      "   4     0.500000     0.179275     0.041336     0.293044     0.047024\n",
      "    0.000000     0.000000\n",
      "    0.100000     0.000500\n",
      "    0.200000     0.003035\n",
      "    0.300000     0.009814\n",
      "    0.400000     0.023408\n",
      "    0.500000     0.047024\n"
     ]
    }
   ],
   "source": [
    "def func(x, y):\n",
    "    return (x + y)**2\n",
    "\n",
    "x, y = heun(func, 0, 0, 0.5, 5, True)\n",
    "for xx, yy in zip(x, y):\n",
    "    print('%12.6f %12.6f' % (xx, yy))"
   ]
  },
  {
   "cell_type": "markdown",
   "metadata": {},
   "source": [
    "## Fourth Order Runge-Kutta Method"
   ]
  },
  {
   "cell_type": "code",
   "execution_count": 10,
   "metadata": {
    "collapsed": false
   },
   "outputs": [
    {
     "data": {
      "image/png": "[encoded data removed]",
      "text/plain": [
       "<matplotlib.figure.Figure at 0x3ddcf28>"
      ]
     },
     "metadata": {},
     "output_type": "display_data"
    }
   ],
   "source": [
    "def rk4(f, x0, y0, xn, n):\n",
    "    x = np.linspace(x0, xn, n+1)\n",
    "    n = len(x)\n",
    "    h = x[1] - x[0]\n",
    "    y = np.zeros_like(x)\n",
    "    y[0] = y0\n",
    "    for i in range(1, n):\n",
    "        k1 = h * f(x[i-1], y[i-1])\n",
    "        k2 = h * f(x[i-1]+h/2.0, y[i-1]+k1/2.0)\n",
    "        k3 = h * f(x[i-1]+h/2.0, y[i-1]+k2/2.0)\n",
    "        k4 = h * f(x[i-1]+h, y[i-1]+k3)\n",
    "        y[i] = y[i-1] + (k1 + 2*k2 + 2*k3 + k4) / 6.0\n",
    "    return x, y\n",
    "\n",
    "x, y = euler(f, 0, 0, 1, 5)\n",
    "x1, y1 = heun(f, 0, 0, 1, 5)\n",
    "x2, y2 = rk4(f, 0, 0, 1, 5)\n",
    "\n",
    "plt.plot(x, y, x1, y1, x2, y2, x, np.exp(x)-x-1)\n",
    "plt.grid()\n",
    "plt.legend(['Euler, h=0.2', 'Heun, h=0.2', 'R-K 4, h=0.2', 'Exact'], loc=2)\n",
    "plt.show()"
   ]
  },
  {
   "cell_type": "markdown",
   "metadata": {
    "collapsed": false
   },
   "source": [
    "## Kiusalaas\n",
    "\n",
    "$$ y' = \\sin(y), \\qquad y(0) = 0$$"
   ]
  },
  {
   "cell_type": "code",
   "execution_count": 11,
   "metadata": {
    "collapsed": false
   },
   "outputs": [
    {
     "name": "stdout",
     "output_type": "stream",
     "text": [
      "0.000000 1.000000\n",
      "0.100000 1.086269\n",
      "0.200000 1.176643\n",
      "0.300000 1.270549\n",
      "0.400000 1.367268\n",
      "0.500000 1.465958\n"
     ]
    }
   ],
   "source": [
    "def f5(x, y):\n",
    "    return np.sin(y)\n",
    "\n",
    "x0 = 0.0\n",
    "y0 = 1.0\n",
    "xn = 0.5\n",
    "n = 5\n",
    "\n",
    "x, y = heun(f5, x0, y0, xn, n)\n",
    "for xx, yy in zip(x, y):\n",
    "    print(\"%f %f\" % (xx, yy))"
   ]
  },
  {
   "cell_type": "markdown",
   "metadata": {},
   "source": [
    "## Series of ODEs\n",
    "\n",
    "$$ y'' = -0.1 y' - x, \\qquad y(0) = 0, y'(0) = 1 $$\n",
    "\n",
    "Let $y_0 = y$ and $y_1 = y'$.The equivalent first order equations \n",
    "$$\n",
    "\\begin{align*}\n",
    "y' &= F(x, y) = \\begin{bmatrix} y'_0 \\\\ y'_1 \\end{bmatrix} = \\begin{bmatrix} y_1 \\\\ -0.1 y_1 - x \\end{bmatrix}\n",
    "\\end{align*}\n",
    "$$"
   ]
  },
  {
   "cell_type": "code",
   "execution_count": 12,
   "metadata": {
    "collapsed": true
   },
   "outputs": [],
   "source": [
    "def integrate(F, x0, y0, xn, h):\n",
    "    def run_kut4(F, x, y, h):\n",
    "        k0 = h * F(x, y)\n",
    "        k1 = h * F(x + h/2.0, y + k0/2.0)\n",
    "        k2 = h * F(x + h/2.0, y + k1/2.0)\n",
    "        k3 = h * F(x + h, y + k2)\n",
    "        return (k0 + 2*k1 + 2*k2 + k3) / 6.0\n",
    "\n",
    "    x = []\n",
    "    y = []\n",
    "    x.append(x0)\n",
    "    y.append(y0)\n",
    "    while x <= xn:\n",
    "        h = min(h, xn - x0)\n",
    "        y0 = y0 + run_kut4(F, x0, y0, h)\n",
    "        x0 = x0 + h\n",
    "        x.append(x0)\n",
    "        y.append(y0)\n",
    "    return np.array(x), np.array(y)\n",
    "\n",
    "def F(x, y):\n",
    "    f = zeros((2,), dtype=float)\n",
    "    f[0] = y[1]\n",
    "    f[1] = -0.1 * y[1] - x\n",
    "    return f\n",
    "\n",
    "x0 = 0.0\n",
    "xn = 2.0\n",
    "y = np.array([0.0, 1.0])\n",
    "n = 8"
   ]
  },
  {
   "cell_type": "markdown",
   "metadata": {},
   "source": [
    "### Numerical Solution of Initial Value Problems\n",
    "\n",
    "General form of _first order differential equation_ is\n",
    "\n",
    "$$y' = f(x, y) $$\n",
    "\n",
    "where $y' = dy / dx$ and $f(x, y)$ is a given function. The solution of this equation contains an arbitrary constant (the constant of integration). To find this constant, we must know a point on the solution curve, that is, $y$ must be specified at some value of $x$, say at $x = a$. We write this auxiliary condition as\n",
    "$$y(a) = \\alpha$$\n",
    "\n",
    "An ordinary differential equaion of order $n$\n",
    "$$y^{(n)} = f(x, y, y', \\ldots , y^{(n-1)} )$$\n",
    "can always be transformed into $n$ first-order equations. Using the notation\n",
    "$$y_0 = y \\quad y_1 = y' \\quad y_2 = y'' \\quad \\ldots \\quad y_{n-1} = y^{(n-1)}$$\n",
    "the equivalent first-order equations are\n",
    "$$y'_0 = y_1 \\quad y'_1 = y_2 \\quad y'_3 = y_3 \\quad \\ldots \\quad y'_n = f(x, y_0, y_1, \\ldots , y_{n-1}) $$\n",
    "\n",
    "The solution now requires the knowledge of $n$ auxiliary conditions. If these conditions are specified at the same value of $x$, the problem is said to be an _initial value problem_. Then the auxiliary conditions are called initial conditions, and have the form\n",
    "$$y_0(a) = \\alpha_0 \\quad y_1(a) = \\alpha_1 \\quad \\ldots \\quad y_{n-1}(a) = \\alpha_{n-1}$$\n",
    "\n",
    "If $y_i$ are specified at different values of $x$, the problem is called a _boundary value problem_.\n",
    "\n",
    "A numerical solution of differential equations is essentially a table of $x-$ and $y-$ values listed at discrete intervals of $x$.\n",
    "\n",
    "## Taylor's Series Method\n",
    "\n",
    "$$y(x+h) \\approx y(x) y'(x) h + \\frac{1}{2!} y''(x) h^2 + \\frac{1}{3!} y'''(x) h^3 + \\cdots + \\frac{1}{m!} y^{(m)}(x) h^m $$\n",
    "\n",
    "## Runge Kutta Methods\n",
    "\n",
    "### First Order R-K Method - Euler's Method\n",
    "$$y(x+h) = y(x) + y'(x) h = y(x) + F(x, y) h $$\n",
    "\n",
    "### Second Order R-K Methods\n",
    "$$ y(x+h) = y(x) + c_0 F(x, y) + c_1 \\left [ x+ph, y+qhF(x,y) \\right]h = y(x) + y'(x) h + \\frac{1}{2!} y''(x) h^2 + O(h^3) $$\n",
    "\n",
    "#### Modified Euler's Method\n",
    "$$y(x+h) = y(x) + F \\left[ x+\\frac{h}{2}, \\frac{h}{2} F(x, y) \\right] $$\n",
    "\n",
    "This can be conveniently evaluated by the following sequence of operations\n",
    "$$\\begin{align*}\n",
    "K_0 &= h F(x, y) \\\\\n",
    "K_1 &= h F \\left( x+\\frac{h}{2}, y + \\frac{1}{2} K_0 \\right) \\\\\n",
    "y(x+h) &= y(x) + K_1\n",
    "\\end{align*}\n",
    "$$\n",
    "#### Heun's Method\n",
    "\n",
    "#### Ralston's Method\n",
    "\n",
    "### Fourth Order Runge Kutta Method\n",
    "$$\n",
    "\\begin{align*}\n",
    "K_0 &= h \\, F(x, y) \\\\\n",
    "K_1 &= h \\, F \\left( x+\\frac{h}{2}, y + \\frac{K_0}{2} \\right) \\\\\n",
    "K_2 &= h \\, F \\left( x+\\frac{h}{2}, y+\\frac{K_1}{2} \\right) \\\\\n",
    "K_3 &= h \\, F \\left( x+h, y+K_2 \\right) \\\\\n",
    "y(x+h) &= y(x) + \\frac{1}{6} \\left( K_0 + 2 K_1 + 2 K_2 + K_3 \\right)\n",
    "\\end{align*}\n",
    "$$"
   ]
  },
  {
   "cell_type": "code",
   "execution_count": 13,
   "metadata": {
    "collapsed": false
   },
   "outputs": [
    {
     "name": "stdout",
     "output_type": "stream",
     "text": [
      "4th Order Runge Kutta Method with h = 0.1\n",
      "    0.00       1.00000000\n",
      "    0.10       1.08635572\n",
      "    0.20       1.17682004\n",
      "    0.30       1.27081680\n",
      "    0.40       1.36762610\n",
      "    0.50       1.46640386\n",
      "4th Order Runge Kutta Method with h = 0.05\n",
      "    0.00       1.00000000\n",
      "    0.05       1.04263418\n",
      "    0.10       1.08635576\n",
      "    0.15       1.13110686\n",
      "    0.20       1.17682011\n",
      "    0.25       1.22341873\n",
      "    0.30       1.27081689\n",
      "    0.35       1.31892015\n",
      "    0.40       1.36762622\n",
      "    0.45       1.41682586\n",
      "    0.50       1.46640400\n"
     ]
    }
   ],
   "source": [
    "def rk4_step(F, x, y, h):\n",
    "    K0 = h * F(x, y)\n",
    "    K1 = h * F(x + h/2.0, y + K0/2.0)\n",
    "    K2 = h * F(x + h/2.0, y + K1/2.0)\n",
    "    K3 = h * F(x+h, y+K2)\n",
    "    return (K0 + 2.0 * (K1 + K2) + K3) / 6.0\n",
    "\n",
    "def rk4(F, x0, xn, h):\n",
    "    x = np.zeros(int((xn - x0) / h)+1, dtype=float)\n",
    "    x[0] = x0\n",
    "    y = np.zeros_like(x)\n",
    "    y[0] = 1.0\n",
    "    for i in range(1, len(x)):\n",
    "        x[i] = x[i-1] + h\n",
    "        y[i] = y[i-1] + rk4_step(F, x[i-1], y[i-1], h)\n",
    "    return x, y\n",
    "\n",
    "def F(x, y):\n",
    "    return np.sin(y)\n",
    "\n",
    "x0 = 0.0\n",
    "h = 0.1\n",
    "xn = 0.5\n",
    "x, y = rk4(F, x0, xn, h)\n",
    "print('4th Order Runge Kutta Method with h =', h)\n",
    "for xx, yy in zip(x, y):\n",
    "    print(\"%8.2f %16.8f\" % (xx, yy))\n",
    "\n",
    "x0 = 0.0\n",
    "h = 0.05\n",
    "xn = 0.5\n",
    "x, y = rk4(F, x0, xn, h)\n",
    "print('4th Order Runge Kutta Method with h =', h)\n",
    "for xx, yy in zip(x, y):\n",
    "    print(\"%8.2f %16.8f\" % (xx, yy))"
   ]
  },
  {
   "cell_type": "markdown",
   "metadata": {},
   "source": [
    "### Second Order Differential Equations\n",
    "Let\n",
    "$$y'' = -0.1 \\, y' - x \\qquad y(0) = 0. \\quad y'(0) = 1$$\n",
    "from $x = 0 \\text{ to } 2$ in increments of $h = 0.25$\n",
    "\n",
    "Let $y_0 = y'$ and $y_1 = y''$. The equivalent first order equations are\n",
    "$$\n",
    "y' = F(x, y) = \\begin{bmatrix} y'_0 \\\\ y'_1 \\end{bmatrix} = \\begin{bmatrix} y_1 \\\\ -0.1 \\, y_1 - x \\end{bmatrix}\n",
    "$$"
   ]
  },
  {
   "cell_type": "code",
   "execution_count": 14,
   "metadata": {
    "collapsed": false
   },
   "outputs": [
    {
     "name": "stdout",
     "output_type": "stream",
     "text": [
      "  0.00     0.000000     1.000000 \n",
      "  0.25     0.244313     0.944319 \n",
      "  0.50     0.467130     0.828287 \n",
      "  0.75     0.653552     0.653395 \n",
      "  1.00     0.789044     0.421096 \n",
      "  1.25     0.859434     0.132807 \n",
      "  1.50     0.850897    -0.210090 \n",
      "  1.75     0.749951    -0.606245 \n",
      "  2.00     0.543446    -1.054345 \n"
     ]
    }
   ],
   "source": [
    "def F1(x, y):\n",
    "    F = np.zeros((2,), dtype=float)\n",
    "    F[0] = y[1]\n",
    "    F[1] = -0.1 * y[1] - x\n",
    "    return F\n",
    "\n",
    "def integrate(F, x, y, xStop, h):\n",
    "    X = []\n",
    "    Y = []\n",
    "    X.append(x)\n",
    "    Y.append(y)\n",
    "\n",
    "    while x < xStop:\n",
    "        h = min(h, xStop - x)\n",
    "        y = y + rk4_step(F, x, y, h)\n",
    "        x = x + h\n",
    "        X.append(x)\n",
    "        Y.append(y)\n",
    "    return np.array(X), np.array(Y)\n",
    "\n",
    "x0 = 0.0\n",
    "xn = 2.0\n",
    "y = np.array([0.0, 1.0])\n",
    "h = 0.25\n",
    "x, y = integrate(F1, x0, y, xn, h)\n",
    "for i in range(len(x)):\n",
    "    print(\"%6.2f\" % (x[i]), end=' ')\n",
    "    for j in range(len(y[i,:])):\n",
    "        print(\"%12.6f\" % (y[i, j]), end=' ')\n",
    "    print()"
   ]
  },
  {
   "cell_type": "markdown",
   "metadata": {},
   "source": [
    "Solve the first order ODE\n",
    "$$y' = y + x \\qquad y(0) = 0 $$\n",
    "choosing $h = 0.2$ from $x=0$ to $x=1.0$.\n",
    "\n",
    "[Ref: Kreyszig, E., _Advanced Engineering Mathematics_, 10ed., John Wiley & Sons, Inc., 2011, Chap. 21, pp. 906]"
   ]
  },
  {
   "cell_type": "code",
   "execution_count": 15,
   "metadata": {
    "collapsed": false,
    "scrolled": true
   },
   "outputs": [
    {
     "name": "stdout",
     "output_type": "stream",
     "text": [
      "4th Order R-K Method, h = 0.2\n",
      "  0.00         0.000000\n",
      "  0.20         0.021400\n",
      "  0.40         0.091818\n",
      "  0.60         0.222106\n",
      "  0.80         0.425521\n",
      "  1.00         0.718251\n"
     ]
    }
   ],
   "source": [
    "def F2(x, y):\n",
    "    return y + x\n",
    "\n",
    "x0 = 0\n",
    "y0 = 0.0\n",
    "xn = 1.0\n",
    "h = 0.2\n",
    "x, y = integrate(F2, x0, y0, xn, h)\n",
    "print('4th Order R-K Method, h =', h)\n",
    "for i in range(len(x)):\n",
    "    print(\"%6.2f %16.6f\" % (x[i], y[i]))"
   ]
  },
  {
   "cell_type": "markdown",
   "metadata": {},
   "source": [
    "Use fourth order Runge Kutta method to integrate\n",
    "$$y' = 3y - 4e^{-x} \\qquad y(0) = 1$$\n",
    "from $x=0$ to $10$ in steps of $h=0.1$. Compare the results with the analytical solution $y = e^{-x}$\n",
    "\n",
    "[Ref: Kiusalaas, J., _Numerical Methods in Engineering with Python_, Cambridge University Press, 2005, Chap. 7, Example 7.5, pp. 261]"
   ]
  },
  {
   "cell_type": "code",
   "execution_count": 16,
   "metadata": {
    "collapsed": false
   },
   "outputs": [
    {
     "name": "stdout",
     "output_type": "stream",
     "text": [
      "4th Order R-K Method, h = 0.1\n",
      "  0.00    +1.0000e+00\n",
      "  2.00    +1.3250e-01\n",
      "  4.00    -1.1237e+00\n",
      "  6.00    -4.6056e+02\n",
      "  8.00    -1.8575e+05\n",
      " 10.00    -7.4912e+07\n"
     ]
    }
   ],
   "source": [
    "def F3(x, y):\n",
    "    return 3*y - 4 * np.exp(-x)\n",
    "\n",
    "x0 = 0.0\n",
    "y0 = 1.0\n",
    "xn = 10.0\n",
    "h = 0.1\n",
    "x, y = integrate(F3, x0, y0, xn, h)\n",
    "print('4th Order R-K Method, h =', h)\n",
    "for i in range(0, len(x), int(2.0/h)):\n",
    "    print(\"%6.2f %+14.4e\" % (x[i], y[i]))"
   ]
  }
 ],
 "metadata": {
  "kernelspec": {
   "display_name": "Python 2",
   "language": "python",
   "name": "python2"
  },
  "language_info": {
   "codemirror_mode": {
    "name": "ipython",
    "version": 2
   },
   "file_extension": ".py",
   "mimetype": "text/x-python",
   "name": "python",
   "nbconvert_exporter": "python",
   "pygments_lexer": "ipython2",
   "version": "2.7.11"
  }
 },
 "nbformat": 4,
 "nbformat_minor": 0
}
