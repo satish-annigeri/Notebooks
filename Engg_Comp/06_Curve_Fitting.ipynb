{
 "cells": [
  {
   "cell_type": "markdown",
   "metadata": {},
   "source": [
    "# Curve Fitting\n",
    "Curve fitting differs from interpolation in that the fitted curve may not pass through all the points in the data set whereas an interpolated curve necesarily passes through every point in the data set. Further, interpolation usually is not used to obtain the interpolant for a point that lies outside the range of the given data set, that is, extrapolation is not done whereas curve fitting may be used for points outside the data set.\n",
    "\n",
    "## Least-Squares Polynomial Fit\n",
    "Given a set of data with $N$ points, we wish to fit a polynomial curve of degree $n$ to the data. Obviously, $N \\geq n+1$. If $N = n+1$, it is the same as interpolation. Assuming the relationship:\n",
    "$$\n",
    "y = a_0 + a_1 x + a_2 x^2 + \\cdots + a_n x^n\n",
    "$$\n",
    "If $Y_i$ are the observed or experimental value and $y_i$ are the calculated values, corresponding to $x_i$ (with $x_i$ free of error), the errors are defined by\n",
    "$$\n",
    "e_i = Y_i - y_i = Y_i - a_0 - a_1 x - a_2 x^2 - \\cdots - a_n x^2\n",
    "$$\n",
    "We minimize the sum of sqaures:\n",
    "\n",
    "$$\n",
    "S = \\sum_{i=1}^{N} \\left( Y_i - a_0 - a_1 x - a_2 x^2 - \\cdots - a_n x^2 \\right)^2\n",
    "$$\n",
    "At the minimum, all the partial derivatives $\\partial S/\\partial a_i=0, \\quad i=1, 2, \\ldots , n$. Writing the equations for these gives $n+1$ equations:\n",
    "$$\n",
    "\\begin{align*}\n",
    "\\frac{\\partial S}{\\partial a_0} &= 0 = \\sum_{}^{} 2 \\left( Y_i - a_0 - a_1 x - a_2 x^2 - \\cdots - a_n x^n \\right) \\left( -1 \\right) \\\\\n",
    "\\frac{\\partial S}{\\partial a_1} &= 0 = \\sum_{}^{} 2 \\left( Y_i - a_0 - a_1 x - a_2 x^2 - \\cdots - a_n x^n \\right) \\left( -x_i \\right) \\\\\n",
    "& \\vdots \\\\\n",
    "\\frac{\\partial S}{\\partial a_n} &= 0 = \\sum_{}^{} 2 \\left( Y_i - a_0 - a_1 x - a_2 x^2 - \\cdots - a_n x^n \\right) \\left( -x_i^n \\right) \\\\\n",
    "\\end{align*}\n",
    "$$\n",
    "Dividing each equation by $-2$ and rearranging gives the $n+1$ normal equations to be solved simultaneously:\n",
    "$$\n",
    "\\begin{align*}\n",
    "a_0 N + a_1 \\sum x_i + a_2 x_i^2 + \\cdots + a_n \\sum x_i^n &= \\sum Y_i \\\\\n",
    "a_0 \\sum x_i + a_1 x_i^2 + a_2 \\sum x_i^3 \\cdots + a_n \\sum x_i^{n+1} &= \\sum x_i Y_i \\\\\n",
    "a_0 \\sum x_i^2 + a_1 \\sum x_i^3 + a_2 x_i^4 + \\cdots + a_n \\sum x_i^{n+2} &= \\sum x_i^2 Y_i \\\\\n",
    "& \\vdots \\\\\n",
    "a_0 x_i^n + a_1 \\sum x_i^{n+1} + a_2 \\sum x_i^{n+2} \\cdots + a_n \\sum x_i^{n+1} &= \\sum x_i^{2n} Y_i\n",
    "\\end{align*}\n",
    "$$\n",
    "In matrix form, the equations can be written as:\n",
    "$$\n",
    "\\begin{bmatrix}\n",
    "N & \\sum x_i & \\sum x_i^{2} & \\sum x_i^{3} & \\cdots & \\sum x_i^{n} \\\\\n",
    "\\sum x_i & \\sum x_i^{2} & \\sum x_i^{3} & \\sum x_i^{4} & \\cdots & \\sum x_i^{n+1} \\\\\n",
    "\\sum x_i^{2} & \\sum x_i^{3} & \\sum x_i^{4} & \\sum x_i^{5} & \\cdots & \\sum x_i^{n+2} \\\\\n",
    "         &    &  \\vdots & ~ & \\ddots & \\dots \\\\\n",
    "\\sum x_i^{n} & \\sum x_i^{n+1} & \\sum x_i^{n+2} & \\sum x_i^{n+3} & \\cdots & \\sum x_i^{2n}\n",
    "\\end{bmatrix}\n",
    "\\begin{bmatrix} a_0 \\\\ a_1 \\\\ a_2 \\\\ \\vdots \\\\ a_n \\end{bmatrix} = \n",
    "\\begin{bmatrix} \\sum Y_i \\\\ \\sum x_i Y_i \\\\ \\sum x_i^{2} Y_i \\\\ \\vdots \\\\ \\sum x_i^{n} Y_i \\end{bmatrix}\n",
    "$$\n",
    "\n",
    "## Least-Squares Polynomial Fit using AvailableFunctions in NumPy\n",
    "We will first use the available functions from NumPy to carry out least-squares polynomial fit **`numpy.polyfit()`** and polynomial evaluation **`numpy.polyval()`**."
   ]
  },
  {
   "cell_type": "code",
   "execution_count": 1,
   "metadata": {
    "collapsed": false
   },
   "outputs": [
    {
     "name": "stdout",
     "output_type": "stream",
     "text": [
      "0 -1.0 -1.0\n",
      "1 0.0 3.0\n",
      "2 1.0 2.5\n",
      "3 2.0 5.0\n",
      "4 3.0 4.0\n",
      "5 5.0 2.0\n",
      "6 7.0 5.0\n",
      "7 9.0 4.0\n",
      "n = 4 Coefficients [-0.01181972  0.21689153 -1.23263048  2.30145967  2.68558951]\n",
      "[-1.07721189  2.68558951  3.95949051  3.90400358  3.39496782  3.10123928\n",
      "  4.41155004  4.12037114]\n",
      "n = 3 Coefficients [ 0.03026042 -0.44164664  1.8132651   1.89427432]\n",
      "n = 2 Coefficients [-0.08571764  0.99555712  1.64843913]\n",
      "n = 1 Coefficients [ 0.31432749  2.04093567]\n"
     ]
    },
    {
     "data": {
      "image/png": "[encoded data removed]",
      "text/plain": [
       "<matplotlib.figure.Figure at 0x3fff6d8>"
      ]
     },
     "metadata": {},
     "output_type": "display_data"
    }
   ],
   "source": [
    "from __future__ import division\n",
    "import numpy as np\n",
    "import matplotlib.pyplot as plt\n",
    "%matplotlib inline\n",
    "\n",
    "x = np.array([-1, 0, 1, 2, 3, 5, 7, 9.0])\n",
    "y = np.array([-1, 3, 2.5, 5, 4, 2, 5, 4])\n",
    "for i in range(len(x)):\n",
    "    print i, x[i], y[i]\n",
    "\n",
    "xx = np.linspace(np.min(x), np.max(x), 101)\n",
    "\n",
    "# Using available function polyfit) from NumPy\n",
    "p4 = np.polyfit(x, y, 4)\n",
    "y4 = np.polyval(p4, xx)\n",
    "print 'n =', 4, 'Coefficients', p4\n",
    "print np.polyval(p4, x)\n",
    "\n",
    "p3 = np.polyfit(x, y, 3)\n",
    "y3 = np.polyval(p3, xx)\n",
    "print 'n =', 3, 'Coefficients', p3\n",
    "\n",
    "p2 = np.polyfit(x, y, 2)\n",
    "y2 = np.polyval(p2, xx)\n",
    "print 'n =', 2, 'Coefficients', p2\n",
    "\n",
    "p1 = np.polyfit(x, y, 1)\n",
    "y1 = np.polyval(p1, xx)\n",
    "print 'n =', 1, 'Coefficients', p1\n",
    "\n",
    "plt.ylim((-2, 6))\n",
    "plt.plot(x, y, 'o')\n",
    "plt.plot(xx, y1)\n",
    "plt.plot(xx, y2)\n",
    "plt.plot(xx, y3)\n",
    "plt.plot(xx, y4)\n",
    "plt.grid()\n",
    "plt.legend(['Data', 'n=1', 'n=2', 'n=3', 'n=4'], loc=4)\n",
    "plt.show()"
   ]
  },
  {
   "cell_type": "markdown",
   "metadata": {},
   "source": [
    "## Least-Squares Polynomial Fit using Our Own Functions\n",
    "We can develop our own function for least-squares polynomial fit based on theory given above and use Horner's method to efficiently evaluate the resulting polynomial at selected values of $x$. Here are our own functions equivalent to **`numpy.polyfit()`** and **`numpy.polyval()`**."
   ]
  },
  {
   "cell_type": "code",
   "execution_count": 2,
   "metadata": {
    "collapsed": false
   },
   "outputs": [
    {
     "name": "stdout",
     "output_type": "stream",
     "text": [
      "[-1.  0.  1.  2.  3.  5.  7.  9.]\n",
      "[-1.   3.   2.5  5.   4.   2.   5.   4. ]\n",
      "[ 2.68558951  2.30145967 -1.23263048  0.21689153 -0.01181972]\n",
      "3 0.21689152773\n",
      "2 -1.23263047652\n",
      "1 2.30145966906\n",
      "0 2.68558951215\n",
      "[-1.07721189  2.68558951  3.95949051  3.90400358  3.39496782  3.10123928\n",
      "  4.41155004  4.12037114]\n"
     ]
    }
   ],
   "source": [
    "def regression(x, y, n):\n",
    "    m = len(x)\n",
    "    if len(y) != m:\n",
    "        return None\n",
    "\n",
    "    xx = np.zeros((m, n+1), dtype=float)\n",
    "    for j in range(n+1):\n",
    "        xx[:, j] = x**j\n",
    "    \n",
    "    X = np.dot(xx.T, xx)\n",
    "    b = np.dot(xx.T, y)\n",
    "    a = np.linalg.solve(X, b)\n",
    "    return a\n",
    "\n",
    "def horner(a, x):\n",
    "    '''\n",
    "    horner(a[0:n-1]:float, x[0:m-1]:float) -> s[0:m-1]:float\n",
    "    Evaluation of a polynomial by Horner's method\n",
    "    '''\n",
    "    s = a[-1]\n",
    "    for i in range(len(a)-2, -1, -1):\n",
    "        print i, a[i]\n",
    "        s = a[i] + s * x\n",
    "    return s\n",
    "\n",
    "print x\n",
    "print y\n",
    "p = regression(x, y, 4)\n",
    "print p\n",
    "xx = np.linspace(np.min(x), np.max(x), 101)\n",
    "\n",
    "print horner(p, x)"
   ]
  },
  {
   "cell_type": "markdown",
   "metadata": {},
   "source": [
    "We see that the results obtained using our functions are identical to those obtained using available functions in NumPy.\n",
    "\n",
    "## Solved Example from Gerald and Wheatley\n",
    "\n",
    "Example from Gerald, C.F. and Wheatley, P.O., _Applied Numerical Analysis_, 6ed., Pearson Education, 1999, pp. 271"
   ]
  },
  {
   "cell_type": "code",
   "execution_count": 19,
   "metadata": {
    "collapsed": false
   },
   "outputs": [
    {
     "name": "stdout",
     "output_type": "stream",
     "text": [
      "[ 0.05  0.11  0.15  0.31  0.46  0.52  0.7   0.74  0.82  0.98  1.17]\n",
      "[ 0.956  0.89   0.832  0.717  0.571  0.539  0.378  0.37   0.306  0.242\n",
      "  0.104]\n",
      "[ 0.99796838 -1.01804246  0.22468213]\n",
      "1 -1.01804246474\n",
      "0 0.997968384183\n",
      "    i        x        Y        y  (Y - y)/Y\n",
      "-------------------------------------------\n",
      "    0    0.050    0.956    0.948      0.876\n",
      "    1    0.110    0.890    0.889      0.146\n",
      "    2    0.150    0.832    0.850     -2.202\n",
      "    3    0.310    0.717    0.704      1.818\n",
      "    4    0.460    0.571    0.577     -1.088\n",
      "    5    0.520    0.539    0.529      1.792\n",
      "    6    0.700    0.378    0.395     -4.612\n",
      "    7    0.740    0.370    0.368      0.634\n",
      "    8    0.820    0.306    0.314     -2.696\n",
      "    9    0.980    0.242    0.216     10.714\n",
      "   10    1.170    0.104    0.114    -10.025\n",
      "\n",
      "Using numpy.polyfit()\n",
      "[ 0.22468213 -1.01804246  0.99796838]\n"
     ]
    },
    {
     "data": {
      "image/png": "[encoded data removed]",
      "text/plain": [
       "<matplotlib.figure.Figure at 0x82d2d68>"
      ]
     },
     "metadata": {},
     "output_type": "display_data"
    }
   ],
   "source": [
    "x = np.array([ 0.05,  0.11,  0.15,  0.31,  0.46,  0.52,  0.70,  0.74,  0.82,  0.98,  1.17])\n",
    "Y = np.array([0.956, 0.890, 0.832, 0.717, 0.571, 0.539, 0.378, 0.370, 0.306, 0.242, 0.104])\n",
    "print x\n",
    "print Y\n",
    "\n",
    "a = regression(x, Y, 2)\n",
    "print a\n",
    "\n",
    "y = horner(a, x)\n",
    "print \"%5s %8s %8s %8s %10s\" % ('i', 'x', 'Y', 'y', '(Y - y)/Y')\n",
    "print '-'*43\n",
    "for i in range(len(x)):\n",
    "    print \"%5d %8.3f %8.3f %8.3f %10.3f\" %  (i, x[i], Y[i], y[i], (Y[i] - y[i])/Y[i]*100)\n",
    "print '\\nUsing numpy.polyfit()'\n",
    "print np.polyfit(x, Y, 2)\n",
    "\n",
    "plt.plot(x, Y, 'o')\n",
    "plt.plot(x, y)\n",
    "plt.grid()\n",
    "plt.legend(['Observed', 'Computed'])\n",
    "plt.show()"
   ]
  }
 ],
 "metadata": {
  "kernelspec": {
   "display_name": "Python 2",
   "language": "python",
   "name": "python2"
  },
  "language_info": {
   "codemirror_mode": {
    "name": "ipython",
    "version": 2
   },
   "file_extension": ".py",
   "mimetype": "text/x-python",
   "name": "python",
   "nbconvert_exporter": "python",
   "pygments_lexer": "ipython2",
   "version": "2.7.11"
  }
 },
 "nbformat": 4,
 "nbformat_minor": 0
}
