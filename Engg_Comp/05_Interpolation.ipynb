{
 "cells": [
  {
   "cell_type": "markdown",
   "metadata": {},
   "source": [
    "# Interpolation\n",
    "\n",
    "Given a discrete data set of the form $x_0, x_1, \\ldots , x_n$ and $y_0, y_1, \\ldots , y_n$, to determine a curve that passes through every point in the given data set and able to obtain the value of $y$ for a given value of $x$ as long as $x_0 \\leq x \\leq x_n$. \n",
    "\n",
    "Curve fitting is differnt in that the curve may or may not pass through all points of the data set.\n",
    "\n",
    "## Polynomial Interpolation\n",
    "\n",
    "### Lagrange's Method\n",
    "$$P_n (x) = \\sum_{i=0}^{n} y_i \\, l_i(x)$$\n",
    "where $n$ denotes the degree of the polynomial and $l_i(x)$ are the _cardinal functions_.\n",
    "$$\n",
    "\\begin{align*}l_i(x) & = \\frac{x - x_0}{x_i - x_0} \\cdot \\frac{x - x_1}{x_i - x_1} \\cdots \\frac{x - x_{i-1}}{x_i - x_{i-1}} \\cdot \\frac{x - x_{i+1}}{x_i - x_{i+1}} \\cdots \\frac{x - x_n}{x_i - x_n} \\\\\n",
    " & = \\Pi_{j=0; j \\neq i}^{n} \\frac{x - x_j}{x_i - x_j}, \\quad i=0, 1, \\ldots , n\n",
    "\\end{align*}$$\n",
    "\n",
    "If $n = 1$, the interpolant is a straight line $P_1(x) = y_0 \\, l_0(x) + y_1 \\, l_1(x)$, where\n",
    "$$\n",
    "\\begin{align*}\n",
    "l_0(x) & = \\frac{x - x_1}{x_0 - x_1} & l_1(x) = \\frac{x - x_0}{x_1 - x_0}\n",
    "\\end{align*}\n",
    "$$\n",
    "\n",
    "If $n = 2$, the interpolant is parabolic $P_2(x) = y_0 \\, l_0(x) + y_1 \\, l_1(x) + y_2 \\, l_2(x)$, where\n",
    "$$\n",
    "\\begin{align*}\n",
    "l_0 (x) & = \\frac{x - x_1}{x_0 - x_1} \\cdot \\frac{x - x_2}{x_0 - x_2} \\\\\n",
    "l_1 (x) & = \\frac{x - x_0}{x_1 - x_0} \\cdot \\frac{x - x_2}{x_0 - x_2} \\\\\n",
    "l_2 (x) & = \\frac{x - x_0}{x_1 - x_0} \\cdot \\frac{x - x_1}{x_2 - x_1}\n",
    "\\end{align*}\n",
    "$$\n",
    "\n",
    "Cardinal functions are polynomials of degree $n$, and have the property\n",
    "$$\n",
    "\\begin{align*}\n",
    "l_i(x_j) & = \\begin{cases}\n",
    "0 & \\text{if } i \\neq j \\\\\n",
    "1 & \\text{if } i = j\n",
    "\\end{cases}\n",
    "\\end{align*}\n",
    "$$"
   ]
  },
  {
   "cell_type": "code",
   "execution_count": 3,
   "metadata": {
    "collapsed": false
   },
   "outputs": [
    {
     "name": "stdout",
     "output_type": "stream",
     "text": [
      "[ 0.  2.  3.]\n",
      "[  7.  11.  28.]\n"
     ]
    },
    {
     "data": {
      "image/png": "[encoded data removed]",
      "text/plain": [
       "<matplotlib.figure.Figure at 0x3bd0a58>"
      ]
     },
     "metadata": {},
     "output_type": "display_data"
    },
    {
     "name": "stdout",
     "output_type": "stream",
     "text": [
      "At x= 0.0 y = 7.0\n",
      "At x= 2.0 y = 11.0\n",
      "At x= 3.0 y = 28.0\n",
      "At x= 1.0 y = 4.0\n"
     ]
    }
   ],
   "source": [
    "from __future__ import division\n",
    "import numpy as np\n",
    "import matplotlib.pyplot as plt\n",
    "%matplotlib inline\n",
    "\n",
    "def lagrange(x, y, xx):\n",
    "    n = len(x)  # number of data points\n",
    "    if len(y) != n:\n",
    "        return None\n",
    "\n",
    "    s = 0.0\n",
    "    for i in range(n):\n",
    "        p = 1.0\n",
    "        for j in range(n):\n",
    "            if i != j:\n",
    "                p *=(xx - x[j]) / (x[i] - x[j])\n",
    "        s += y[i] * p\n",
    "    return s\n",
    "\n",
    "x = np.array([0, 2, 3.0])\n",
    "y = np.array([7, 11, 28.0])\n",
    "print x\n",
    "print y\n",
    "\n",
    "plt.stem(x, y, 'b')\n",
    "plt.grid()\n",
    "plt.xlim(-1, 4)\n",
    "plt.show()\n",
    "\n",
    "for xx in x:\n",
    "    yy = lagrange(x, y, xx)\n",
    "    print 'At x=', xx, 'y =', yy\n",
    "\n",
    "xx = 1.0\n",
    "yy = lagrange(x, y, xx)\n",
    "print 'At x=', xx, 'y =', yy\n"
   ]
  },
  {
   "cell_type": "markdown",
   "metadata": {},
   "source": [
    "### Newton's Divided Difference Method\n",
    "$$P_n(x) = a_0 + (x - x_0) a_1 + (x - x_0)(x - x_1) a_2 + \\cdots + (x - x_0)(x-x_1)( \\cdots (x-x_n) a_n\n",
    "$$\n",
    "As an example, for four data points ($n=3$),\n",
    "$$\n",
    "\\begin{align*}P_3(x) &= a_0 + (x-x_0) a_1 + (x-x_0)(x-x_1)a_2 + (x-x_0)(x-x_1)(x-x_2)a_3 \\\\\n",
    " & = a_0 + (x-x_0) \\left\\{ a_1 + (x-x_1) \\left[ a_2 + (x-x_2) a_3 \\right] \\right\\}\n",
    "\\end{align*}$$\n",
    "This can be evaluated backwards with the following recurrence relations\n",
    "$$\n",
    "\\begin{align*}\n",
    "P_0(x) &= a_3 \\\\\n",
    "P_1(x) &= a_2 + (x - x_2) P_0(x) \\\\\n",
    "P_2(x) &= a_1 + (x - x_1) P_1(x) \\\\\n",
    "P_3(x) &= a_0 + (x - x_0) P_2(x)\n",
    "\\end{align*}\n",
    "$$\n",
    "For arbitrary $n$, we have\n",
    "$$\n",
    "\\begin{align*}\n",
    "P_o(x) &= a_n \\\\\n",
    "P_k(x) &= a_{n-k} + (x - x_{n-k}) P_{k-1}(x), \\quad k = 1, 2, \\ldots , n\n",
    "\\end{align*}\n",
    "$$\n",
    "The coefficients $a_i$ of $P_n$ can be obtained by forcing the polynomial to pass through each data point: $y_i = P_n(x_i), \\quad i=0, 1, \\ldots , n$. This yields the following simultaneous equations:\n",
    "$$\n",
    "\\begin{align*}\n",
    "y_0 &= a_0 \\\\\n",
    "y_1 &= a_0 + (x_1 - x_0) a_1 \\\\\n",
    "y_2 &= a_0 + (x_2 - x_0) a_1 + (x_2 - x_0)(x_2 - x_1) a_2 \\\\\n",
    "& \\vdots \\\\\n",
    "y_n &= a_0 + (x_n - x_0) a_1 + \\cdots + (x_n - x_0)(x_n - x_1) \\cdots (x_n - x_{n-1}) a_n\n",
    "\\end{align*}\n",
    "$$\n",
    "Introducing divided differences\n",
    "$$\n",
    "\\begin{align*}\n",
    "\\nabla y_i &= \\frac{y_i - y_0}{x_i - x_0}, \\quad i=1, 2, \\ldots , n \\\\\n",
    "\\nabla^2 y_i &= \\frac{\\nabla y_i - \\nabla y_1}{x_i - x_1}, \\quad i=2, 3, \\ldots , n \\\\\n",
    "\\nabla^3 y_i &= \\frac{\\nabla^2 y_i - \\nabla^2 y_2}{x_i - x_2}, \\quad i=3, 4, \\ldots , n \\\\\n",
    "& \\vdots \\\\\n",
    "\\nabla^n y_n &= \\frac{\\nabla^{n-1} y_n - \\nabla^{n-1} y_{n-1}}{x_n - x_{n-1}}\n",
    "\\end{align*}\n",
    "$$\n",
    "The solution of the simultaneous equations is\n",
    "$$\n",
    "\\begin{align*}\n",
    "a_0 &= y_0 \\\\\n",
    "a_1 &= \\nabla y_1 \\\\\n",
    "a_2 &= \\nabla^2 y_2 \\\\\n",
    "& \\vdots \\\\\n",
    "a_n &= \\nabla^n y_n\n",
    "\\end{align*}\n",
    "$$\n",
    "\n",
    "<table>\n",
    "<tr>\n",
    "    <td>i</td><td>$x_i$</td><td>$y_i$</td><td>$\\nabla y_i$</td><td>$\\nabla^2 y_i$</td><td>$\\nabla^3 y_i$</td><td>$\\nabla^4 y_i$</td>\n",
    "</tr>\n",
    "<tr>\n",
    "    <td>0</td><td>$x_0$</td><td>$y_0$</td><td></td><td></td><td></td><td></td>\n",
    "</tr>\n",
    "<tr>\n",
    "    <td>1</td><td>$x_1$</td><td>$y_1$</td><td>$\\nabla y_1$</td><td></td><td></td><td></td>\n",
    "</tr>\n",
    "<tr>\n",
    "    <td>2</td><td>$x_2$</td><td>$y_2$</td><td>$\\nabla y_2$</td><td>$\\nabla^2 y_2$</td><td></td><td></td>\n",
    "</tr>\n",
    "<tr>\n",
    "    <td>3</td><td>$x_3$</td><td>$y_3$</td><td>$\\nabla y_3$</td><td>$\\nabla^2 y_3$</td><td>$\\nabla^3 y_3$</td><td></td>\n",
    "</tr>\n",
    "<tr>\n",
    "    <td>4</td><td>$x_4$</td><td>$y_4$</td><td>$\\nabla y_4$</td><td>$\\nabla^2 y_4$</td><td>$\\nabla^3 y_4$</td><td>$\\nabla^4 y_4$</td>\n",
    "</tr>\n",
    "</table>\n",
    "\n",
    "Consider the following solved example:\n",
    "\n",
    "<table>\n",
    "<tr>\n",
    "<td>$i$</td><td>$x_i$</td><td>$y_i$</td><td>$\\nabla y_i$</td><td>$\\nabla^2 y_i$</td><td>$\\nabla^3 y_i$</td><td>$\\nabla^4 y_i$</td><td>$\\nabla^5 y_i$</td>\n",
    "</tr>\n",
    "<tr>\n",
    "<td>$0$</td><td>$-2$</td><td>$-1$</td><td> </td><td> </td><td> </td><td> </td><td> </td>\n",
    "</tr>\n",
    "<tr>\n",
    "<td>$1$</td><td>$1$</td><td>$2$</td><td>$1$</td><td> </td><td> </td><td> </td><td> </td>\n",
    "</tr>\n",
    "<tr>\n",
    "<td>$2$</td><td>$4$</td><td>$59$</td><td>$10$</td><td>$3$</td><td> </td><td> </td><td> </td>\n",
    "</tr>\n",
    "<tr>\n",
    "<td>$3$</td><td>$-1$</td><td>$4$</td><td>$5$</td><td>$-2$</td><td>$1$</td><td> </td><td> </td>\n",
    "</tr>\n",
    "<tr>\n",
    "<td>$4$</td><td>$3$</td><td>$24$</td><td>$5$</td><td>$2$</td><td>$1$</td><td>$0$</td><td> </td>\n",
    "</tr>\n",
    "<tr>\n",
    "<td>$5$</td><td>$-4$</td><td>$-53$</td><td>$26$</td><td>$-5$</td><td>$1$</td><td>$0$</td><td>$0$</td>\n",
    "</tr>\n",
    "</table>\n"
   ]
  },
  {
   "cell_type": "code",
   "execution_count": 4,
   "metadata": {
    "collapsed": false
   },
   "outputs": [
    {
     "name": "stdout",
     "output_type": "stream",
     "text": [
      "Given Data\n",
      "   -2.00    -1.00\n",
      "    1.00     2.00\n",
      "    4.00    59.00\n",
      "   -1.00     4.00\n",
      "    3.00    24.00\n",
      "   -4.00   -53.00\n",
      "\n"
     ]
    },
    {
     "data": {
      "image/png": "[encoded data removed]",
      "text/plain": [
       "<matplotlib.figure.Figure at 0x7f11c88>"
      ]
     },
     "metadata": {},
     "output_type": "display_data"
    },
    {
     "name": "stdout",
     "output_type": "stream",
     "text": [
      "Newton Divided Difference Coefficients: [-1.  1.  3.  1.  0.  0.]\n",
      "\n",
      "Interpolated values at points in data set\n",
      "   -2.00    -1.00    -1.00\n",
      "    1.00     2.00     2.00\n",
      "    4.00    59.00    59.00\n",
      "   -1.00     4.00     4.00\n",
      "    3.00    24.00    24.00\n",
      "   -4.00   -53.00   -53.00\n",
      "\n",
      "    0.00     3.00\n",
      "    1.50     3.38\n"
     ]
    }
   ],
   "source": [
    "def newton_coeff(x, y):\n",
    "    m = len(x)\n",
    "    if len(y) != m:\n",
    "        return None\n",
    "    a = y.copy()\n",
    "    for k in range(1, m):\n",
    "        a[k:m] = (a[k:m] - a[k-1]) / (x[k:m] - x[k-1])\n",
    "    return a\n",
    "\n",
    "def eval_poly(a, x, xx):\n",
    "    n = len(x) - 1  # Degree of polynomial\n",
    "    p = a[n]\n",
    "    for k in range(1, n+1):\n",
    "        p = a[n-k] + (xx - x[n-k]) * p\n",
    "    return p\n",
    "\n",
    "x = np.array([-2, 1, 4, -1, 3, -4.0])\n",
    "y = np.array([-1, 2, 59, 4, 24, -53.0])\n",
    "print 'Given Data'\n",
    "for xx, yy in zip(x, y):\n",
    "    print '%8.2f %8.2f' % (xx, yy)\n",
    "print\n",
    "\n",
    "plt.stem(x, y)\n",
    "plt.grid()\n",
    "plt.xlim(-5, 5)\n",
    "plt.axhline(0.0)\n",
    "plt.show()\n",
    "\n",
    "a = newton_coeff(x, y)\n",
    "print 'Newton Divided Difference Coefficients:', a\n",
    "print\n",
    "print 'Interpolated values at points in data set'\n",
    "for i in range(len(x)):\n",
    "    print \"%8.2f %8.2f %8.2f\" % (x[i], eval_poly(a, x, x[i]), y[i])\n",
    "print\n",
    "\n",
    "xx = 0.0\n",
    "yy = eval_poly(a, x, xx)\n",
    "print '%8.2f %8.2f' % (xx, yy)\n",
    "xx = 1.5\n",
    "print '%8.2f %8.2f' % (xx, eval_poly(a, x, xx))"
   ]
  },
  {
   "cell_type": "markdown",
   "metadata": {},
   "source": [
    "When all you want to do is to determine the interpolant at just one point, Lagrange's method serves the purpose very well. However, when you want to determine the interpolant at several points for a given data set, Lagrange's method is inefficient. In such a case, Newton's method is appropriate as it calculates the coefficients for the given set of data once, and uses them any number of times to determine the interpolant at any number of desired points.\n",
    "\n",
    "### Neville's Method\n",
    "Neville's method is well suited when you want to determine the interpolant at only one point.\n"
   ]
  },
  {
   "cell_type": "code",
   "execution_count": 5,
   "metadata": {
    "collapsed": false
   },
   "outputs": [
    {
     "name": "stdout",
     "output_type": "stream",
     "text": [
      " 4.0   -0.06604   -0.06604\n",
      " 3.9   -0.02724   -0.02724\n",
      " 3.8    0.01282    0.01282\n",
      " 3.7    0.05383    0.05383\n",
      "\n",
      "y = 0 at x = 3.83170355972 Interpolated value at x= 3.83170355972 is 1.97128605479e-06\n"
     ]
    }
   ],
   "source": [
    "def neville(x, y, xx):\n",
    "    m = len(x)\n",
    "    yy = y.copy()\n",
    "    for k in range(1, m):\n",
    "        yy[0:m-k] = ((xx - x[k:m])*yy[0:m-k] + (x[0:m-k] - xx) * yy[1:m-k+1]) / (x[0:m-k] - x[k:m])\n",
    "    return yy[0]\n",
    "\n",
    "x = np.array([4, 3.9, 3.8, 3.7])\n",
    "y = np.array([-0.06604, -0.02724, 0.01282, 0.05383])\n",
    "\n",
    "for i in range(len(x)):\n",
    "    yy = neville(x, y, x[i])\n",
    "    print '%4.1f %10.5f %10.5f' % (x[i], y[i], yy)\n",
    "print\n",
    "\n",
    "xx = neville(y, x, 0.0)  # Inverse interpolation\n",
    "print 'y = 0 at x =', xx, 'Interpolated value at x=', xx, 'is', neville(x, y, xx)"
   ]
  },
  {
   "cell_type": "markdown",
   "metadata": {},
   "source": [
    "## Application - Predicting Population\n",
    "As mentioned at the start, interpolation must be used only to determine the interpolant at data points that lie within the range of given data set. However, in the following application, we are attempting to predict the value at a data point outside the range of the given data set, namely year 2000 which lies outside the range 1920 to 1990.\n",
    "\n",
    "The population (in million) of a country from 1920 to 2000 is tabulated below. Fit a 7th order polynomial to the first 8 points (1920 to 1990). Use it to compute the population in 2000 by extrapolation and compare your prediction with the actual result. Repeat the solution by using first-, second-, third- and fourth-order interpolation in 2000 based on most recent data. That is, for the linear prediction use data from 1980 and 1990, for the quadratic predction use data from 1970, 1980 and 1990, and so on. Which approach yields the best result?\n",
    "<table>\n",
    "<tr>\n",
    "<td><b>Year</b></td><td>1920</td><td>1930</td><td>1940</td><td>1950</td><td>1960</td><td>1970</td><td>1980</td><td>1990</td><td>2000</td>\n",
    "</tr>\n",
    "<tr>\n",
    "<td><b>Population (million)</b></td><td>106.46</td><td>123.08</td><td>132.12</td><td>152.27</td><td>180.67</td><td>205.05</td><td>227.23</td><td>249.46</td><td>281.42</td>\n",
    "</tr>\n",
    "</table>"
   ]
  },
  {
   "cell_type": "code",
   "execution_count": 6,
   "metadata": {
    "collapsed": false
   },
   "outputs": [
    {
     "name": "stdout",
     "output_type": "stream",
     "text": [
      "1920   106.46\n",
      "1930   123.08\n",
      "1940   132.12\n",
      "1950   152.27\n",
      "1960   180.67\n",
      "1970   205.05\n",
      "1980   227.23\n",
      "1990   249.46\n"
     ]
    },
    {
     "data": {
      "image/png": "[encoded data removed]",
      "text/plain": [
       "<matplotlib.figure.Figure at 0x7de5e48>"
      ]
     },
     "metadata": {},
     "output_type": "display_data"
    },
    {
     "name": "stdout",
     "output_type": "stream",
     "text": [
      "\n",
      "Lagrange Interpolation\n",
      "7 1920 to 1990:  2000.00,   175.08,   281.42  -106.34\n",
      "6 1930 to 1990:  2000.00,   223.60,   281.42   -57.82\n",
      "5 1940 to 1990:  2000.00,   260.76,   281.42   -20.66\n",
      "4 1950 to 1990:  2000.00,   274.42,   281.42    -7.00\n",
      "3 1960 to 1990:  2000.00,   273.99,   281.42    -7.43\n",
      "2 1970 to 1990:  2000.00,   271.74,   281.42    -9.68\n",
      "1 1980 to 1990:  2000.00,   271.69,   281.42    -9.73\n",
      "\n",
      "Newton Interpolation\n",
      "7 1920 to 1990:  2000.00,   175.08,   281.42  -106.34\n",
      "6 1930 to 1990:  2000.00,   223.60,   281.42   -57.82\n",
      "5 1940 to 1990:  2000.00,   260.76,   281.42   -20.66\n",
      "4 1950 to 1990:  2000.00,   274.42,   281.42    -7.00\n",
      "3 1960 to 1990:  2000.00,   273.99,   281.42    -7.43\n",
      "2 1970 to 1990:  2000.00,   271.74,   281.42    -9.68\n",
      "1 1980 to 1990:  2000.00,   271.69,   281.42    -9.73\n",
      "\n",
      "Neville's Method\n",
      "7 1920 to 1990:  2000.00,   175.08,   281.42  -106.34\n",
      "6 1930 to 1990:  2000.00,   223.60,   281.42   -57.82\n",
      "5 1940 to 1990:  2000.00,   260.76,   281.42   -20.66\n",
      "4 1950 to 1990:  2000.00,   274.42,   281.42    -7.00\n",
      "3 1960 to 1990:  2000.00,   273.99,   281.42    -7.43\n",
      "2 1970 to 1990:  2000.00,   271.74,   281.42    -9.68\n",
      "1 1980 to 1990:  2000.00,   271.69,   281.42    -9.73\n"
     ]
    }
   ],
   "source": [
    "t = np.array(range(1920, 1991, 10), dtype=float)\n",
    "pop = np.array([106.46, 123.08, 132.12, 152.27, 180.67, 205.05, 227.23, 249.46])\n",
    "p2000 = 281.42\n",
    "\n",
    "for xx, yy in zip(t, pop):\n",
    "    print '%4d %8.2f' % (xx, yy)\n",
    "\n",
    "plt.stem(t, pop)\n",
    "plt.grid()\n",
    "plt.xlim(1910, 2000)\n",
    "plt.ylim(0, 300)\n",
    "plt.xlabel('Year')\n",
    "plt.ylabel('Population (million)')\n",
    "plt.show()\n",
    "\n",
    "def lagrange_interp(x, y, xstart, xx, yknown):\n",
    "    x1 = x[xstart:]\n",
    "    y1 = y[xstart:]\n",
    "    yy = lagrange(x1, y1, xx)\n",
    "    print '%4d to %4d: %8.2f, %8.2f, %8.2f %8.2f' % (int(x1[0]), int(x1[-1]), xx, yy, yknown, yy - yknown)\n",
    "    return\n",
    "\n",
    "print\n",
    "print 'Lagrange Interpolation'\n",
    "for i in range(0, len(t)-1):\n",
    "    print len(t)-i-1,\n",
    "    lagrange_interp(t, pop, i, 2000, p2000)\n",
    "\n",
    "def newton_interp(x, y, xstart, xx, yknown):\n",
    "    x1 = x[xstart:]\n",
    "    y1 = y[xstart:]\n",
    "    a = newton_coeff(x1, y1)\n",
    "    yy = eval_poly(a, x1, xx)\n",
    "    print '%4d to %4d: %8.2f, %8.2f, %8.2f %8.2f' % (int(x1[0]), int(x1[-1]), xx, yy, yknown, yy - yknown)\n",
    "    return\n",
    "\n",
    "print\n",
    "print 'Newton Interpolation'\n",
    "for i in range(0, len(t)-1):\n",
    "    print len(t)-i-1,\n",
    "    newton_interp(t, pop, i, 2000, p2000)\n",
    "\n",
    "def neville_interp(x, y, xstart, xx, yknown):\n",
    "    x1 = x[xstart:]\n",
    "    y1 = y[xstart:]\n",
    "    yy = neville(x1, y1, xx)\n",
    "    print '%4d to %4d: %8.2f, %8.2f, %8.2f %8.2f' % (int(x1[0]), int(x1[-1]), xx, yy, yknown, yy - yknown)\n",
    "    return\n",
    "\n",
    "print\n",
    "print \"Neville's Method\"\n",
    "for i in range(0, len(t)-1):\n",
    "    print len(t)-i-1,\n",
    "    neville_interp(t, pop, i, 2000, p2000)"
   ]
  },
  {
   "cell_type": "code",
   "execution_count": 16,
   "metadata": {
    "collapsed": false
   },
   "outputs": [
    {
     "name": "stdout",
     "output_type": "stream",
     "text": [
      "[-2.  1.  4. -1.  3. -4.]\n",
      "[ -1.   2.  59.   4.  24. -53.]\n",
      "[ -1.   2.  59.   4.  24. -53.]\n",
      "[ -1.   1.  10.   5.   5.  26.]\n",
      "[-1.  1.  3. -2.  2. -5.]\n",
      "[-1.  1.  3.  1.  1.  1.]\n",
      "[-1.  1.  3.  1.  0. -0.]\n",
      "[-1.  1.  3.  1.  0.  0.]\n"
     ]
    }
   ],
   "source": [
    "x = np.array([-2, 1, 4, -1, 3, -4], dtype=float)\n",
    "y = np.array([-1, 2, 59, 4, 24, -53], dtype=float)\n",
    "print x\n",
    "print y\n",
    "\n",
    "a = y.copy()\n",
    "print a\n",
    "a[1:] = (a[1:] - a[0]) / (x[1:] - x[0])\n",
    "print a\n",
    "\n",
    "a[2:] = (a[2:] - a[1]) / (x[2:] - x[1])\n",
    "print a\n",
    "\n",
    "a[3:] = (a[3:] - a[2]) / (x[3:] - x[2])\n",
    "print a\n",
    "\n",
    "a[4:] = (a[4:] - a[3]) / (x[4:] - x[3])\n",
    "print a\n",
    "\n",
    "a[5:] = (a[5:] - a[4]) / (x[5:] - x[4])\n",
    "print a"
   ]
  }
 ],
 "metadata": {
  "kernelspec": {
   "display_name": "Python 2",
   "language": "python",
   "name": "python2"
  },
  "language_info": {
   "codemirror_mode": {
    "name": "ipython",
    "version": 2
   },
   "file_extension": ".py",
   "mimetype": "text/x-python",
   "name": "python",
   "nbconvert_exporter": "python",
   "pygments_lexer": "ipython2",
   "version": "2.7.11"
  }
 },
 "nbformat": 4,
 "nbformat_minor": 0
}
