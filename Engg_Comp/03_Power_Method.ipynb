{
 "cells": [
  {
   "cell_type": "markdown",
   "metadata": {},
   "source": [
    "# Largest Eigenvalue using Power Method\n",
    "\n",
    "## Introduction\n",
    "Linear algebraic equations are of the general form\n",
    "$$ [A]\\{x \\} = \\{b \\} $$\n",
    "If $\\{ b \\} \\neq 0$, that is, at least one element of $\\{ b \\}$ is non-zero, equations are said to _nonhomogeneous_. If the equations are linearly independent, they will have a unique solution. In contrast, _homogeneous_ equations has a right hand side equal to zero:\n",
    "$$ [A]\\{x \\} = \\{ 0 \\} $$\n",
    "One obvious solution to this set of equations is $\\{ x \\} = \\{ 0 \\}$. This in most cases has little significance for physical systems and hence is called the _trivial solution_. The solution of interest must be _non-trivial_. Eigenvalue problems associated with engineering problems are usually of the form:\n",
    "$$ \\left[ [A] - \\lambda [I] \\right] \\{ x \\} = \\{ 0 \\} $$\n",
    "where $\\lambda$ is called the eigenvalue. Thus, instead of setting the $\\{ x \\} = \\{ 0 \\}$, we can satisfy the equation by determining $\\lambda$ such that the equations are satisfied. One way to solve such a set of homogeneous equations is to equate the following determinant to zero\n",
    "$$| [A] - \\lambda [I] | = 0$$\n",
    "Expanding the determinant yields a polynomial in $\\lambda$, which is called the _characteristic polynomial_. The order of the polynmial is the same as the size of the coefficient matrix. The roots of this polynomial are the eigenvalues.\n",
    "\n",
    "## Power Method\n",
    "The power  method is an iterative approach that can be used to compute the largest or dominant eigenvalue and the corresponding eigenvector. With slight modification, it can also be used to determine the smallest eigenvalue and the corresponding eigenvector. To implement the power method, the system being analyzed must be expressed in the form\n",
    "$$[A] \\{ x \\} = \\lambda \\{ x \\}$$\n",
    "\n",
    "## Problem Definition\n",
    "To develop an algorithm to determine the largest eigenvalue and corresponding eigenvector of a given coefficient matrix starting from an assumed eigenvector given as input. Iterations will be carried out either until eigenvalue reaches a specified tolerance or until a specified maximum number of iterations are completed without reaching the specified tolerance.\n",
    "\n",
    "## Theory\n",
    "The eigenvalue problem is expressed in the following form for the purpose of the power method:\n",
    "$$[A] \\{ x \\} = \\lambda \\{ x \\}$$\n",
    "where $[A]$ is the given coefficient matrix, which must be a square matrix, and $\\{ x \\}$ is the assumed eigenvector which can conveniently be assumed to be a vector with all elements equal to 1. We can then calculate the matrix product $\\{ x' \\} = [A] \\{ x \\}$ and normalize it with respect to one of the elements, usually the largest element ignoring the sign. This is the eigenvalue $\\lambda$. If the normalized eigenvector $\\{ x' \\}$ is same as the initial vector $\\{ x \\}$ within the specified tolerance, the eigenvalue and eigenvector have been found. Otherwise, we must repeat these calculations until solution converges. One way to test for convergence is to compare the current value of $\\lambda$ with the previous value and test if it is within the specified tolerance. If yes, eigenvalue has been found. Otherwise iteration must be continued, either until required tolerance is reached or until maximum number of iterations is exceeded.\n",
    "\n",
    "## Variables\n",
    "### Input Variables\n",
    "$[A]$ the square matrix whose largest eigenvalue and corresponding eigenvector are to be found.\n",
    "\n",
    "$\\{ x \\}$ the initial guess for the eigenvector, which can conveniently be taken as containing all ones.\n",
    "\n",
    "``tol`` the specified tolerance for $\\frac{|\\lambda' - \\lambda|}{\\lambda}$\n",
    "\n",
    "``maxiter`` the maximum number of iterations to be performed\n",
    "\n",
    "### Output Variables\n",
    "$\\lambda$ the largest eigenvalue of the given coefficient matrix $[A]$. None in case solution does not converge within the specified number of iterations.\n",
    "\n",
    "$\\{ x \\}$ the eigenvector corresponding to the largest eigenvector. None in case solution does not converge within the specified number of iterations.\n",
    "\n",
    "## Algorithm\n",
    "1. Input $[A]$ and assume $\\{ x \\}$\n",
    "2. Compute $\\{ x' \\} = [A] \\{ x \\}$.\n",
    "3. Determine the largest value amongst the elements of $[A]$ and store as $\\lambda'$.\n",
    "4. Normalize $\\{ x' \\}$ by dividing all its elements by $\\lambda$.\n",
    "5. $i = 0$\n",
    "6. Start iterations\n",
    "   1. $i = i + 1$\n",
    "   2. $\\{ x \\} = \\{ x' \\}$\n",
    "   3. $\\lambda = \\lambda'$\n",
    "   4. $\\{ x' \\} = [A] \\{ x \\}$\n",
    "   5. $\\lambda' = max(\\{ x' \\})$\n",
    "   6. $\\{ x' \\} = \\frac{ \\{ x' \\} }{\\lambda'}$\n",
    "   7. $error = \\left| \\frac{\\lambda' - \\lambda}{\\lambda} \\right| $\n",
    "   8. If $error \\leq tol$ return $\\lambda$ and $\\{ x' \\}$. Else if $i = maxiter$ stop iterations and return None and None. Else if $i < maxiter$, continue iterations"
   ]
  },
  {
   "cell_type": "code",
   "execution_count": 2,
   "metadata": {
    "collapsed": false
   },
   "outputs": [
    {
     "name": "stdout",
     "output_type": "stream",
     "text": [
      "[[ 40. -20.   0.]\n",
      " [-20.  40. -20.]\n",
      " [  0. -20.  40.]]\n",
      "Answer using np.eig()\n",
      "68.2842712475\n",
      "[-0.5         0.70710678 -0.5       ]\n",
      "\n",
      "Answer using power() function\n",
      "Largest eigenvalue = 68.2842712475\n",
      "Eigenvector = [-0.70710678  1.         -0.70710678]\n"
     ]
    }
   ],
   "source": [
    "from __future__ import division\n",
    "import numpy as np\n",
    "\n",
    "def power(a, x, eps=1e-6, niter=50, verbose=False):\n",
    "    \n",
    "    xnew = np.dot(a, x)\n",
    "    wnew = xnew[np.abs(xnew).argmax()]\n",
    "    xnew = xnew / wnew\n",
    "    i = 0\n",
    "\n",
    "    while i <= niter:\n",
    "        i += 1\n",
    "        w = wnew\n",
    "        x = xnew[:]\n",
    "        xnew = np.dot(a, x)\n",
    "        wnew = xnew[np.abs(xnew).argmax()]\n",
    "        xnew = xnew / wnew\n",
    "        diff = np.abs(wnew - w)\n",
    "        if verbose:\n",
    "            print \"%5d %12.4f %12.4f %12.6f\" %  (i, w, wnew, diff),\n",
    "            print xnew\n",
    "        if diff <- eps:\n",
    "            break\n",
    "\n",
    "    if abs(diff) > eps:\n",
    "        print 'Solution did not converge'\n",
    "        return None, None\n",
    "    else:\n",
    "        return w, x\n",
    "\n",
    "# Solved example 13.3 from Chapra, S.C., Applied Numerical Methods with MATLAB for Engineers and Scientists, 3ed., \n",
    "# McGraw Hill, 2008\n",
    "a = np.array([[40, -20, 0], \n",
    "              [-20, 40, -20], \n",
    "              [0, -20, 40]], dtype=float)\n",
    "x = np.ones((3,), dtype=float)\n",
    "print a\n",
    "ww, xx = np.linalg.eig(a)\n",
    "print 'Answer using np.eig()'\n",
    "print ww[0]\n",
    "print xx[:,0]\n",
    "\n",
    "w, x = power(a, x, 1e-6, 100)\n",
    "print\n",
    "print 'Answer using power() function'\n",
    "print 'Largest eigenvalue =', w\n",
    "print 'Eigenvector =', x"
   ]
  },
  {
   "cell_type": "markdown",
   "metadata": {},
   "source": [
    "## Results and Discussion\n",
    "Note that the eigenvalue obtained using **``power()``** function is identical to that obtained using **``np.linalg.eig()``** but the eigenvector is not. But it is proportional to it. If we normalize the eigenvector obtained from **``np.linalg.eig()``**, it will be found to be the same."
   ]
  },
  {
   "cell_type": "code",
   "execution_count": 3,
   "metadata": {
    "collapsed": false
   },
   "outputs": [
    {
     "name": "stdout",
     "output_type": "stream",
     "text": [
      "1\n",
      "[-0.70710678  1.         -0.70710678]\n"
     ]
    }
   ],
   "source": [
    "xxx =xx[:,0]\n",
    "print np.abs(xxx).argmax()\n",
    "print xx[:,0] / xxx[np.abs(xxx).argmax()]"
   ]
  },
  {
   "cell_type": "markdown",
   "metadata": {},
   "source": [
    "## Improvements\n",
    "### Smallest Eigenvalue\n",
    "Inverse power method can determine the smallest eigenvalue of the given coefficient matrix $[A]$ and the corresponding eigenvector. It involves inverting the given coefficient matrix $[A]$ and determining its largest eigenvalue and corresponding eigenvector using power method. The inverse of this calculated largest eigenvector is the smallest eigenvalue of the given coefficient matrix."
   ]
  },
  {
   "cell_type": "code",
   "execution_count": 4,
   "metadata": {
    "collapsed": false
   },
   "outputs": [
    {
     "name": "stdout",
     "output_type": "stream",
     "text": [
      "11.7157287525 11.7157287525\n",
      "[ 0.70710678  1.          0.70710678] [ 0.70710678  1.          0.70710678]\n"
     ]
    }
   ],
   "source": [
    "aa = np.linalg.inv(a)\n",
    "x = np.ones((aa.shape[0],))\n",
    "w2, x2 = power(aa, x)\n",
    "print ww[-1], 1.0 / w2\n",
    "print xx[:,-1] / np.max(np.abs(xx)), x2"
   ]
  },
  {
   "cell_type": "markdown",
   "metadata": {},
   "source": [
    "### Intermediate Eigenvalues\n",
    "It is possible to determine the remaining intermediate eigenvalues and the corresponding eigenvectors by _deflation_. This is left as an exercise to the motivated student.\n",
    "\n",
    "It is also possible to plot a graph of the eigenvector, which in many problems has a pysical interpretation.\n",
    "\n",
    "## References\n",
    "1. Chapra, S.C. and Canale, R.P., _Numerical Methods for Engineers_, 6ed., McGraw Hill, 2010 (Chapter 27. Boundary Value and Eigenvalue Problems, pp. 778).\n",
    "2. Chapra, S.C., _Applied Numerical Methods with MATLAB for Engineers and Scientists, 3ed., McGraw Hill, 2008 (Chapter 13. Eigenvalues, pp. 303)."
   ]
  },
  {
   "cell_type": "markdown",
   "metadata": {},
   "source": [
    "## Applications\n",
    "### Principal Stress and Principal Direction\n",
    "In a solid subjected to three-dimensional state of stress, the state of stress is expressed in the form of the stress matrix:\n",
    "$$\n",
    "\\begin{align*}\n",
    "[\\sigma] & = \\begin{bmatrix}\n",
    "\\sigma_x  & \\tau_{xy} & \\tau_{xz} \\\\\n",
    "\\tau_{xy} & \\sigma_y  & \\tau_{yz} \\\\\n",
    "\\tau_{xz} & \\tau_{yz} & \\sigma_z\n",
    "\\end{bmatrix}\n",
    "\\end{align*}\n",
    "$$\n",
    "where $\\sigma_x, \\sigma_y, \\sigma_z$ are normal stresses and $\\tau_{xy}, \\tau_{yz}, \\tau_{xz}$ are shear stresses. Principal stresses and are given by the eigenvalues of the stress matrix $[\\sigma]$ and the principal planes by the eigenvectors."
   ]
  },
  {
   "cell_type": "code",
   "execution_count": 12,
   "metadata": {
    "collapsed": false
   },
   "outputs": [
    {
     "name": "stdout",
     "output_type": "stream",
     "text": [
      "[[ 100.   75.   50.]\n",
      " [  75. -120.   20.]\n",
      " [  50.   20.   25.]]\n",
      "[ 146.80049737 -143.25673922    1.45624185]\n",
      "146.800497369\n"
     ]
    }
   ],
   "source": [
    "s = np.diag([100.0, -120.0, 25.0])\n",
    "\n",
    "s[0,1] = s[1,0] = 75\n",
    "s[0,2] = s[2,0] = 50\n",
    "s[1,2] = s[2,1] = 20\n",
    "print s\n",
    "\n",
    "ww, xx = np.linalg.eig(s)\n",
    "print ww\n",
    "\n",
    "x = np.array([1, 1, 1], dtype=float)\n",
    "w, x = power(s, x, 1e-6, 1000)\n",
    "print w"
   ]
  },
  {
   "cell_type": "markdown",
   "metadata": {},
   "source": [
    "### Free Vibration of Multi Degree of Freedom Systems\n",
    "Free vibration of an MDOF system consists of determining the fundamental natural period of vibration of the system and its mode shape. These attributes are characteristic of the vibrating system and are useful in determining the dynamic response of systems under free and forced vibration.\n",
    "\n",
    "The dynamic matrix $[D]$ of a system is obtained as:\n",
    "$$[D] = [K]^{-1} [M]$$\n",
    "where $[K]$ is the stiffness matrix and $[M]$ is the mass matrix of the system. For a simple spring mass system with three masses, with each mass connected in sequence, mass matrix $[M]$ is obtained as:\n",
    "$$\\begin{align*}\n",
    "[M] & = \\begin{bmatrix}\n",
    "m_1 & 0 & 0 \\\\ 0 & m_2 & 0 \\\\ 0 & 0 & m_3\n",
    "\\end{bmatrix} \\\\\n",
    "[K] & = \\begin{bmatrix}\n",
    "k_1 + k_2  & -k_2  & 0 \\\\\n",
    "-k_1 & k_2 + k_3 & -k_2 \\\\\n",
    "0 & -k_2 & k_3\n",
    "\\end{bmatrix}\n",
    "\\end{align*}\n",
    "$$\n",
    "Fundamental natural frequency is obtained as the inverse of the largest eigenvalue of the dynamic matrix $[D]$."
   ]
  },
  {
   "cell_type": "code",
   "execution_count": 13,
   "metadata": {
    "collapsed": false
   },
   "outputs": [
    {
     "name": "stdout",
     "output_type": "stream",
     "text": [
      "[ 12000.  10000.   8000.]\n",
      "[[ 12000.      0.      0.]\n",
      " [     0.  10000.      0.]\n",
      " [     0.      0.   8000.]]\n"
     ]
    }
   ],
   "source": [
    "def mass_matrix(m):\n",
    "    return np.diag(m)\n",
    "\n",
    "m = np.array([12, 10, 8], dtype=float) * 1e3\n",
    "print m\n",
    "M = mass_matrix(m)\n",
    "print M"
   ]
  },
  {
   "cell_type": "code",
   "execution_count": 14,
   "metadata": {
    "collapsed": false
   },
   "outputs": [
    {
     "name": "stdout",
     "output_type": "stream",
     "text": [
      "3 [0, 1, 2]\n",
      "[ 3000.  2400.  1800.]\n",
      "[[ 5400. -3000.     0.]\n",
      " [-3000.  4200. -2400.]\n",
      " [    0. -2400.  1800.]]\n"
     ]
    }
   ],
   "source": [
    "def stiffness_matrix(k):\n",
    "    K = np.diag(k) - np.diag(k[:-1], 1) - np.diag(k[:-1], -1)\n",
    "    for i in range(len(k)-1):\n",
    "        K[i,i] += k[i+1]\n",
    "    return K\n",
    "\n",
    "k = np.array([30, 24, 18], dtype=float) * 100\n",
    "print len(k), range(len(k-1))\n",
    "print k\n",
    "K = stiffness_matrix(k)\n",
    "print K"
   ]
  },
  {
   "cell_type": "code",
   "execution_count": 15,
   "metadata": {
    "collapsed": false
   },
   "outputs": [
    {
     "name": "stdout",
     "output_type": "stream",
     "text": [
      "[[ -3.33333333  -8.33333333  -8.88888889]\n",
      " [-10.         -15.         -16.        ]\n",
      " [-13.33333333 -20.         -16.88888889]]\n",
      "\n",
      "np.linalg.eig()\n",
      "[-39.43152714   2.9246909    1.28461401]\n",
      "[[ 0.31932763  0.64314997  0.55614305]\n",
      " [ 0.60718286  0.27805567 -0.73064727]\n",
      " [ 0.72757051 -0.7134726   0.39605489]]\n",
      "\n",
      "-39.4315271409\n",
      "[ 0.43889578  0.83453473  1.        ]\n"
     ]
    }
   ],
   "source": [
    "def dynamic_matrix(m, k):\n",
    "    M = mass_matrix(m)\n",
    "    K = stiffness_matrix(k)\n",
    "    return np.dot(np.linalg.inv(K), M)\n",
    "\n",
    "D = dynamic_matrix(m, k)\n",
    "print D\n",
    "print\n",
    "ww, xx = np.linalg.eig(D)\n",
    "print 'np.linalg.eig()'\n",
    "print ww\n",
    "print xx\n",
    "print\n",
    "x = np.array([1, 1, 1], dtype=float)\n",
    "w, x = power(D, x)\n",
    "print w\n",
    "print x"
   ]
  },
  {
   "cell_type": "code",
   "execution_count": 16,
   "metadata": {
    "collapsed": false
   },
   "outputs": [
    {
     "name": "stdout",
     "output_type": "stream",
     "text": [
      "Help on function power in module __main__:\n",
      "\n",
      "power(a, x, eps=1e-06, niter=50, verbose=False)\n",
      "    power(a, x, eps, niter) -> w, x\n",
      "    \n",
      "    a   - 2 dimensioned array whose largest eigenvalue and corresponding eigenvector are to be determined\n",
      "    x   - initial guess for the eigenvector\n",
      "    eps - tolerance to determine when to stop iterations\n",
      "    niter - maximum number of iterations if solution does not converge to required tolerance\n",
      "    \n",
      "    w - largest eigenvalue\n",
      "    x - corresponding eigenvector\n",
      "\n"
     ]
    }
   ],
   "source": [
    "help(power)"
   ]
  },
  {
   "cell_type": "code",
   "execution_count": 20,
   "metadata": {
    "collapsed": false
   },
   "outputs": [
    {
     "name": "stdout",
     "output_type": "stream",
     "text": [
      "-5.76851284051\n",
      "[-0.11574358 -0.13064265  1.        ]\n",
      "[-5.76851284  3.46936062  1.29915222]\n",
      "[[-0.11401985 -0.9338679   0.37892254]\n",
      " [-0.12869703 -0.29830718  0.91958565]\n",
      " [ 0.98510738  0.19723991 -0.10382645]]\n",
      "[[ 4. -1.  1.]\n",
      " [ 1.  1.  1.]\n",
      " [-2.  0. -6.]]\n",
      "[[ 0.23076923  0.23076923  0.07692308]\n",
      " [-0.15384615  0.84615385  0.11538462]\n",
      " [-0.07692308 -0.07692308 -0.19230769]]\n",
      "[[  1.00000000e+00   5.55111512e-17   0.00000000e+00]\n",
      " [  0.00000000e+00   1.00000000e+00   0.00000000e+00]\n",
      " [  5.55111512e-17   0.00000000e+00   1.00000000e+00]]\n"
     ]
    },
    {
     "ename": "IndexError",
     "evalue": "index 5 is out of bounds for axis 0 with size 3",
     "output_type": "error",
     "traceback": [
      "\u001b[1;31m---------------------------------------------------------------------------\u001b[0m",
      "\u001b[1;31mIndexError\u001b[0m                                Traceback (most recent call last)",
      "\u001b[1;32m<ipython-input-20-72a23808a74e>\u001b[0m in \u001b[0;36m<module>\u001b[1;34m()\u001b[0m\n\u001b[0;32m     18\u001b[0m \u001b[1;32mprint\u001b[0m \u001b[0maa\u001b[0m\u001b[1;33m\u001b[0m\u001b[0m\n\u001b[0;32m     19\u001b[0m \u001b[1;32mprint\u001b[0m \u001b[0mnp\u001b[0m\u001b[1;33m.\u001b[0m\u001b[0mdot\u001b[0m\u001b[1;33m(\u001b[0m\u001b[0ma\u001b[0m\u001b[1;33m,\u001b[0m \u001b[0maa\u001b[0m\u001b[1;33m)\u001b[0m\u001b[1;33m\u001b[0m\u001b[0m\n\u001b[1;32m---> 20\u001b[1;33m \u001b[0ma2\u001b[0m\u001b[1;33m,\u001b[0m \u001b[0mx2\u001b[0m \u001b[1;33m=\u001b[0m \u001b[0mpower\u001b[0m\u001b[1;33m(\u001b[0m\u001b[0maa\u001b[0m\u001b[1;33m,\u001b[0m \u001b[0mx\u001b[0m\u001b[1;33m)\u001b[0m\u001b[1;33m\u001b[0m\u001b[0m\n\u001b[0m",
      "\u001b[1;32m<ipython-input-2-74bf16c28b4a>\u001b[0m in \u001b[0;36mpower\u001b[1;34m(a, x, eps, niter, verbose)\u001b[0m\n\u001b[0;32m      5\u001b[0m \u001b[1;33m\u001b[0m\u001b[0m\n\u001b[0;32m      6\u001b[0m     \u001b[0mxnew\u001b[0m \u001b[1;33m=\u001b[0m \u001b[0mnp\u001b[0m\u001b[1;33m.\u001b[0m\u001b[0mdot\u001b[0m\u001b[1;33m(\u001b[0m\u001b[0ma\u001b[0m\u001b[1;33m,\u001b[0m \u001b[0mx\u001b[0m\u001b[1;33m)\u001b[0m\u001b[1;33m\u001b[0m\u001b[0m\n\u001b[1;32m----> 7\u001b[1;33m     \u001b[0mwnew\u001b[0m \u001b[1;33m=\u001b[0m \u001b[0mxnew\u001b[0m\u001b[1;33m[\u001b[0m\u001b[0mnp\u001b[0m\u001b[1;33m.\u001b[0m\u001b[0mabs\u001b[0m\u001b[1;33m(\u001b[0m\u001b[0mxnew\u001b[0m\u001b[1;33m)\u001b[0m\u001b[1;33m.\u001b[0m\u001b[0margmax\u001b[0m\u001b[1;33m(\u001b[0m\u001b[1;33m)\u001b[0m\u001b[1;33m]\u001b[0m\u001b[1;33m\u001b[0m\u001b[0m\n\u001b[0m\u001b[0;32m      8\u001b[0m     \u001b[0mxnew\u001b[0m \u001b[1;33m=\u001b[0m \u001b[0mxnew\u001b[0m \u001b[1;33m/\u001b[0m \u001b[0mwnew\u001b[0m\u001b[1;33m\u001b[0m\u001b[0m\n\u001b[0;32m      9\u001b[0m     \u001b[0mi\u001b[0m \u001b[1;33m=\u001b[0m \u001b[1;36m0\u001b[0m\u001b[1;33m\u001b[0m\u001b[0m\n",
      "\u001b[1;31mIndexError\u001b[0m: index 5 is out of bounds for axis 0 with size 3"
     ]
    }
   ],
   "source": [
    "def invpower(a, x, tol=1e-6, maxiter=60):\n",
    "    L, x = power(np.linalg.inv(a), tol, maxiter)\n",
    "    return 1.0 / L, x\n",
    "\n",
    "a = np.array([[4, -1, 1], [1, 1, 1], [-2, 0, -6]], dtype=float)\n",
    "x = np.ones(len(a), dtype=float)\n",
    "\n",
    "L1, x1 = power(a, x)\n",
    "print(L1)\n",
    "print(x1)\n",
    "\n",
    "L, x = np.linalg.eig(a)\n",
    "print(L)\n",
    "print(x)\n",
    "\n",
    "aa = np.linalg.inv(a)\n",
    "print a\n",
    "print aa\n",
    "print np.dot(a, aa)\n",
    "a2, x2 = power(aa, x)"
   ]
  },
  {
   "cell_type": "code",
   "execution_count": 14,
   "metadata": {
    "collapsed": false
   },
   "outputs": [
    {
     "name": "stdout",
     "output_type": "stream",
     "text": [
      "[-0.11574358 -0.13064265  1.        ]\n"
     ]
    }
   ],
   "source": [
    "print(x[:,0] / x[2,0])"
   ]
  },
  {
   "cell_type": "code",
   "execution_count": null,
   "metadata": {
    "collapsed": true
   },
   "outputs": [],
   "source": []
  }
 ],
 "metadata": {
  "kernelspec": {
   "display_name": "Python 2",
   "language": "python",
   "name": "python2"
  },
  "language_info": {
   "codemirror_mode": {
    "name": "ipython",
    "version": 2
   },
   "file_extension": ".py",
   "mimetype": "text/x-python",
   "name": "python",
   "nbconvert_exporter": "python",
   "pygments_lexer": "ipython2",
   "version": "2.7.11"
  }
 },
 "nbformat": 4,
 "nbformat_minor": 0
}
