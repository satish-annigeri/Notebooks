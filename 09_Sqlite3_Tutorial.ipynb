{
 "cells": [
  {
   "cell_type": "markdown",
   "metadata": {},
   "source": [
    "# Sqlite 3 Tutorial\n",
    "\n",
    "Sqlite3 is a file based database. Unlike a database server, it does not require much configuration, but at the same time, it must reside on the local file system and cannot be accessed across the network."
   ]
  },
  {
   "cell_type": "code",
   "execution_count": 1,
   "metadata": {
    "collapsed": false
   },
   "outputs": [
    {
     "name": "stdout",
     "output_type": "stream",
     "text": [
      "Sqlite version (u'3.6.21',)\n"
     ]
    }
   ],
   "source": [
    "import sqlite3 as lite\n",
    "import sys\n",
    "\n",
    "conn = None\n",
    "\n",
    "try:\n",
    "    conn = lite.connect('test.db')\n",
    "    cur = conn.cursor()\n",
    "    cur.execute('SELECT SQLITE_VERSION()')\n",
    "    data = cur.fetchone()\n",
    "    print \"Sqlite version\", data\n",
    "except lite.Error, e:\n",
    "        print \"Error:\", e.args[0]\n",
    "        sys.exit(1)\n",
    "finally:\n",
    "    if conn:\n",
    "        conn.close()"
   ]
  },
  {
   "cell_type": "code",
   "execution_count": 2,
   "metadata": {
    "collapsed": false
   },
   "outputs": [],
   "source": [
    "conn = lite.connect('test.db')\n",
    "with conn:\n",
    "    cur = conn.cursor()\n",
    "    cur.execute(\"CREATE TABLE Users(Id INT, Name TEXT)\")\n",
    "    cur.execute(\"INSERT INTO Users VALUES(1, 'Michelle')\")\n",
    "    cur.execute(\"INSERT INTO Users VALUES(2, 'Sonya')\")\n",
    "    cur.execute(\"INSERT INTO Users VALUES(3, 'Greg')\")"
   ]
  },
  {
   "cell_type": "code",
   "execution_count": 5,
   "metadata": {
    "collapsed": false
   },
   "outputs": [
    {
     "name": "stdout",
     "output_type": "stream",
     "text": [
      "(1, u'Michelle')\n",
      "(2, u'Sonya')\n",
      "(3, u'Greg')\n"
     ]
    }
   ],
   "source": [
    "cur.execute(\"SELECT * FROM Users\")\n",
    "rows = cur.fetchall()\n",
    "for row in rows:\n",
    "    print row"
   ]
  },
  {
   "cell_type": "code",
   "execution_count": 8,
   "metadata": {
    "collapsed": false
   },
   "outputs": [],
   "source": [
    "with conn:\n",
    "    \n",
    "    cur = conn.cursor()    \n",
    "\n",
    "    cur.execute(\"CREATE TABLE Jobs(Id INT, Uid INT, Profession TEXT)\")\n",
    "    cur.execute(\"INSERT INTO Jobs VALUES(1,1,'Scientist')\")\n",
    "    cur.execute(\"INSERT INTO Jobs VALUES(2,2,'Marketeer')\")\n",
    "    cur.execute(\"INSERT INTO Jobs VALUES(3,3,'Developer')\")"
   ]
  },
  {
   "cell_type": "code",
   "execution_count": 9,
   "metadata": {
    "collapsed": false
   },
   "outputs": [
    {
     "name": "stdout",
     "output_type": "stream",
     "text": [
      "(u'Michelle', u'Scientist')\n",
      "(u'Sonya', u'Marketeer')\n",
      "(u'Greg', u'Developer')\n"
     ]
    }
   ],
   "source": [
    "with conn:    \n",
    "    \n",
    "    cur = conn.cursor()    \n",
    "    cur.execute(\"SELECT users.name, jobs.profession FROM jobs INNER JOIN users ON users.ID = jobs.uid\")\n",
    "\n",
    "    rows = cur.fetchall()\n",
    "\n",
    "    for row in rows:\n",
    "        print row"
   ]
  },
  {
   "cell_type": "code",
   "execution_count": null,
   "metadata": {
    "collapsed": false
   },
   "outputs": [],
   "source": []
  }
 ],
 "metadata": {
  "kernelspec": {
   "display_name": "Python 2",
   "language": "python",
   "name": "python2"
  },
  "language_info": {
   "codemirror_mode": {
    "name": "ipython",
    "version": 2
   },
   "file_extension": ".py",
   "mimetype": "text/x-python",
   "name": "python",
   "nbconvert_exporter": "python",
   "pygments_lexer": "ipython2",
   "version": "2.7.7"
  }
 },
 "nbformat": 4,
 "nbformat_minor": 0
}
