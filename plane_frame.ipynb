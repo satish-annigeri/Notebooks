{
 "cells": [
  {
   "cell_type": "code",
   "execution_count": 1,
   "metadata": {
    "collapsed": false
   },
   "outputs": [],
   "source": [
    "from __future__ import division, print_function\n",
    "\n",
    "import numpy as np"
   ]
  },
  {
   "cell_type": "markdown",
   "metadata": {},
   "source": [
    "## Utility Function"
   ]
  },
  {
   "cell_type": "code",
   "execution_count": 2,
   "metadata": {
    "collapsed": true
   },
   "outputs": [],
   "source": [
    "def atba(a, b):\n",
    "    return np.dot(np.dot(a.T, b), a)"
   ]
  },
  {
   "cell_type": "markdown",
   "metadata": {},
   "source": [
    "## Structure Input Data\n",
    "Example problem from Weaver and Gere"
   ]
  },
  {
   "cell_type": "code",
   "execution_count": 3,
   "metadata": {
    "collapsed": false
   },
   "outputs": [],
   "source": [
    "#Weaver & Gere\n",
    "xy = np.array([[100.0, 75.0], [0.0, 75.0], [200.0, 0.0]])\n",
    "conn = np.array([[2, 1, 1], [1, 3, 1]])\n",
    "bc = np.array([[2, 1, 1, 1], [3, 1, 1, 1]])\n",
    "mprop = np.array([[1.0e4, 10, 1.0e3]])\n",
    "jtloads = np.array([[1, 0, -10.0, -1000.0]])\n",
    "memloads = np.array([[1, 0.0, 12.0,200.0, 0.0, 12.0, -200.0],\n",
    "                     [2, -6.0, 8.0, 250.0, -6.0, 8.0, -250.0]])"
   ]
  },
  {
   "cell_type": "markdown",
   "metadata": {},
   "source": [
    "## Location Matrix"
   ]
  },
  {
   "cell_type": "code",
   "execution_count": 4,
   "metadata": {
    "collapsed": false
   },
   "outputs": [
    {
     "name": "stdout",
     "output_type": "stream",
     "text": [
      "Number of degrees of freedom = 3\n",
      "Location matrix\n",
      "[[1 2 3]\n",
      " [0 0 0]\n",
      " [0 0 0]]\n"
     ]
    }
   ],
   "source": [
    "# Location Matrix. Related to structure\n",
    "def pf_calclm(n, bc):\n",
    "    \"\"\"\n",
    "    Calculate location matrix containing degree of freedom numbers of each node\n",
    "    \"\"\"\n",
    "    lm = np.zeros((n, 3), dtype=int)\n",
    "    nd = 0\n",
    "    ns = bc.shape[0]\n",
    "    for i in range(ns):\n",
    "        node = bc[i, 0]\n",
    "        lm[node-1, 0:3] = bc[i, 1:4]\n",
    "\n",
    "    for node in range(n):\n",
    "        for j in range(3):\n",
    "            if lm[node, j] == 0:\n",
    "                nd += 1\n",
    "                lm[node, j] = nd\n",
    "            else:\n",
    "                lm[node, j] = 0\n",
    "    return lm, nd\n",
    "\n",
    "n = xy.shape[0]\n",
    "lm, ndof = pf_calclm(n, bc)\n",
    "print('Number of degrees of freedom = %d' % ndof)\n",
    "print('Location matrix')\n",
    "print(lm)"
   ]
  },
  {
   "cell_type": "markdown",
   "metadata": {},
   "source": [
    "## Member Stiffness Matrix in Member Coordinates"
   ]
  },
  {
   "cell_type": "code",
   "execution_count": 5,
   "metadata": {
    "collapsed": false
   },
   "outputs": [
    {
     "name": "stdout",
     "output_type": "stream",
     "text": [
      "Stiffness Matrix\n",
      "[[  1.   0.   0.  -1.   0.   0.]\n",
      " [  0.  12.   6.   0. -12.   6.]\n",
      " [  0.   6.   4.   0.  -6.   2.]\n",
      " [ -1.   0.   0.   1.   0.   0.]\n",
      " [  0. -12.  -6.   0.  12.  -6.]\n",
      " [  0.   6.   2.   0.  -6.   4.]]\n",
      "Stiffness Matrix\n",
      "[[  8.00000000e+02   0.00000000e+00   0.00000000e+00  -8.00000000e+02\n",
      "    0.00000000e+00   0.00000000e+00]\n",
      " [  0.00000000e+00   6.14400000e+01   3.84000000e+03   0.00000000e+00\n",
      "   -6.14400000e+01   3.84000000e+03]\n",
      " [  0.00000000e+00   3.84000000e+03   3.20000000e+05   0.00000000e+00\n",
      "   -3.84000000e+03   1.60000000e+05]\n",
      " [ -8.00000000e+02   0.00000000e+00   0.00000000e+00   8.00000000e+02\n",
      "    0.00000000e+00   0.00000000e+00]\n",
      " [  0.00000000e+00  -6.14400000e+01  -3.84000000e+03   0.00000000e+00\n",
      "    6.14400000e+01  -3.84000000e+03]\n",
      " [  0.00000000e+00   3.84000000e+03   1.60000000e+05   0.00000000e+00\n",
      "   -3.84000000e+03   3.20000000e+05]]\n"
     ]
    }
   ],
   "source": [
    "# Stiffness matrix in local coordinate system. Related to element\n",
    "def pf_stiff(E, A, I, L):\n",
    "    \"\"\"\n",
    "    Calculate stiffness of a plane frame member in local coordinate system\n",
    "    \"\"\"\n",
    "    k = np.zeros((6, 6), dtype=float)\n",
    "    k[0, 0] = float(E) * A / L\n",
    "    k[0, 3] = -k[0, 0]\n",
    "\n",
    "    k[1,1] = (12.0 * E * I) / L**3\n",
    "    k[1, 2] = (6.0 * E * I) / L**2\n",
    "    k[1, 4] = -k[1, 1]\n",
    "    k[1, 5] = k[1, 2]\n",
    "\n",
    "    k[2, 2] = (4.0 * E * I) / L\n",
    "    k[2, 4] = -k[1, 2]\n",
    "    k[2, 5] = k[2, 2] / 2.0\n",
    "\n",
    "    k[3, 3] = k[0, 0]\n",
    "\n",
    "    k[4, 4] = k[1, 1]\n",
    "    k[4, 5] = -k[1, 2]\n",
    "\n",
    "    k[5, 5] = k[2, 2]\n",
    "\n",
    "    for i in range(6):\n",
    "        for j in range(i):\n",
    "            k[i, j] = k[j, i]\n",
    "\n",
    "    return k\n",
    "\n",
    "k = pf_stiff(1, 1, 1, 1)\n",
    "print('Stiffness Matrix')\n",
    "print(k)\n",
    "\n",
    "k = pf_stiff(1e4, 10, 1e3, 125)\n",
    "print('Stiffness Matrix')\n",
    "print(k)"
   ]
  },
  {
   "cell_type": "markdown",
   "metadata": {},
   "source": [
    "## Rotation Matrix"
   ]
  },
  {
   "cell_type": "code",
   "execution_count": 6,
   "metadata": {
    "collapsed": false
   },
   "outputs": [
    {
     "name": "stdout",
     "output_type": "stream",
     "text": [
      "5.0 [ 0.6  0.8]\n",
      "[[ 0.6  0.8  0.   0.   0.   0. ]\n",
      " [-0.8  0.6  0.   0.   0.   0. ]\n",
      " [ 0.   0.   1.   0.   0.   0. ]\n",
      " [ 0.   0.   0.   0.6  0.8  0. ]\n",
      " [ 0.   0.   0.  -0.8  0.6  0. ]\n",
      " [ 0.   0.   0.   0.   0.   1. ]]\n"
     ]
    }
   ],
   "source": [
    "# Length and direction cosines of a member. Related to element\n",
    "def pf_calclen(xy1, xy2):\n",
    "    \"\"\"Return length and direction cosines of a plane frame member\n",
    "\n",
    "\n",
    "    Calculate length and direction cosines of a plane frame member\n",
    "    \"\"\"\n",
    "    delta = xy2 - xy1\n",
    "    L = np.sqrt(np.sum(delta**2))\n",
    "    dc = delta / L\n",
    "    return L, dc\n",
    "\n",
    "# Rotation matrix. Related to element\n",
    "def pf_calcrot(dc):\n",
    "    \"\"\"Return rotation matrix\n",
    "\n",
    "\n",
    "    Calculate rotation matrix of a plane frame member\n",
    "    \"\"\"\n",
    "    r = np.zeros((6, 6), dtype=float)\n",
    "    cx = dc[0]\n",
    "    cy = dc[1]\n",
    "    r[0, 0] = cx\n",
    "    r[0, 1] = cy\n",
    "    r[1, 0] = -cy\n",
    "    r[1, 1] = cx\n",
    "    r[2, 2] = 1\n",
    "    r[3:6, 3:6] = r[0:3, 0:3]\n",
    "    return r\n",
    "\n",
    "p1 = np.array([0, 0], dtype=float)\n",
    "p2 = np.array([3, 4], dtype=float)\n",
    "L, dc = pf_calclen(p1, p2)\n",
    "print(L, dc)\n",
    "\n",
    "r = pf_calcrot(dc)\n",
    "print(r)"
   ]
  },
  {
   "cell_type": "markdown",
   "metadata": {},
   "source": [
    "## Utility Functions"
   ]
  },
  {
   "cell_type": "code",
   "execution_count": 7,
   "metadata": {
    "collapsed": false
   },
   "outputs": [
    {
     "name": "stdout",
     "output_type": "stream",
     "text": [
      "0 1 3 10000.0 10.0 1000.0 125.0 [ 0.8 -0.6]\n",
      "1 2 1 10000.0 10.0 1000.0 100.0 [ 1.  0.]\n"
     ]
    }
   ],
   "source": [
    "# Utility function to get number of end joints. Related to element\n",
    "def pf_get_endjts(imem, conn):\n",
    "    \"\"\"Return numbers of first and second end of a plane frame member.\n",
    "       Members are assumed to be numbered starting from 1\n",
    "    \"\"\"\n",
    "    jt1 = conn[imem - 1, 0]\n",
    "    jt2 = conn[imem - 1, 1]\n",
    "    return jt1, jt2\n",
    "\n",
    "# Utility function to get coordinates of end joints. Related to element\n",
    "def pf_get_endcoord(imem, xy, conn):\n",
    "    \"\"\"Return the coordinates of the first and second end of a plane frame member.\n",
    "       Joints are assumend to be numbered starting from 1.\"\"\"\n",
    "    jt1, jt2 = pf_get_endjts(imem, conn)\n",
    "    xy1 = xy[jt1 - 1, :]\n",
    "    xy2 = xy[jt2 - 1, :]\n",
    "    return xy1, xy2\n",
    "\n",
    "# Utility function to get member properties. Related to element\n",
    "def pf_get_memprop(imem, xy, conn, mprop):\n",
    "    \"\"\"Return the properties of specified plane frame member.\n",
    "       Members are assumed to be numbered starting from 1.\"\"\"\n",
    "    m = conn[imem-1, 2] - 1\n",
    "    E = mprop[m, 0]\n",
    "    A = mprop[m, 1]\n",
    "    I = mprop[m, 2]\n",
    "    xy1, xy2 = pf_get_endcoord(imem, xy, conn)\n",
    "    L, dc = pf_calclen(xy1, xy2)\n",
    "    return E, A, I, L, dc\n",
    "\n",
    "# Utility function to get dof numbers at end joints. Related to element\n",
    "def pf_get_dof(imem, conn, lm):\n",
    "    \"\"\"Return degree of freedom numbers of the ends of a plane frame member.\n",
    "       Members and joints are assumed to be numbered starting from 1.\"\"\"\n",
    "    jt1, jt2 = pf_get_endjts(imem, conn)\n",
    "    memdof = np.array([0, 0, 0, 0, 0, 0])\n",
    "    memdof[0:3] = lm[jt1-1,:]\n",
    "    memdof[3:6] = lm[jt2-1, :]\n",
    "    return memdof\n",
    "\n",
    "nmem = conn.shape[0]\n",
    "for imem in range(nmem):\n",
    "    j1, j2 = pf_get_endjts(imem, conn)\n",
    "    E, A, I, L, dc = pf_get_memprop(imem, xy, conn, mprop)\n",
    "    print(imem, j1, j2, E, A, I, L, dc)"
   ]
  },
  {
   "cell_type": "markdown",
   "metadata": {},
   "source": [
    "## Member Stiffness Matrix in Structure Coordinates"
   ]
  },
  {
   "cell_type": "code",
   "execution_count": 8,
   "metadata": {
    "collapsed": false,
    "scrolled": true
   },
   "outputs": [
    {
     "name": "stdout",
     "output_type": "stream",
     "text": [
      "Member 0\n",
      "[[    534.1184    -354.5088    2304.        -534.1184     354.5088    2304.    ]\n",
      " [   -354.5088     327.3216    3072.         354.5088    -327.3216    3072.    ]\n",
      " [   2304.        3072.      320000.       -2304.       -3072.      160000.    ]\n",
      " [   -534.1184     354.5088   -2304.         534.1184    -354.5088   -2304.    ]\n",
      " [    354.5088    -327.3216   -3072.        -354.5088     327.3216   -3072.    ]\n",
      " [   2304.        3072.      160000.       -2304.       -3072.      320000.    ]]\n",
      "Member 1\n",
      "[[  1.00000000e+03   0.00000000e+00   0.00000000e+00  -1.00000000e+03\n",
      "    0.00000000e+00   0.00000000e+00]\n",
      " [  0.00000000e+00   1.20000000e+02   6.00000000e+03   0.00000000e+00\n",
      "   -1.20000000e+02   6.00000000e+03]\n",
      " [  0.00000000e+00   6.00000000e+03   4.00000000e+05   0.00000000e+00\n",
      "   -6.00000000e+03   2.00000000e+05]\n",
      " [ -1.00000000e+03   0.00000000e+00   0.00000000e+00   1.00000000e+03\n",
      "    0.00000000e+00   0.00000000e+00]\n",
      " [  0.00000000e+00  -1.20000000e+02  -6.00000000e+03   0.00000000e+00\n",
      "    1.20000000e+02  -6.00000000e+03]\n",
      " [  0.00000000e+00   6.00000000e+03   2.00000000e+05   0.00000000e+00\n",
      "   -6.00000000e+03   4.00000000e+05]]\n"
     ]
    }
   ],
   "source": [
    "# Stiffness matrix in structure coordinate system. Related to element\n",
    "def pf_gstiff(imem, xy, conn, mprop):\n",
    "    \"\"\"\n",
    "    Calculate the stiffness matrix of a plane frame member in strucutre\n",
    "    coordinate system\n",
    "    \"\"\"\n",
    "    E, A, I, L, dc = pf_get_memprop(imem, xy, conn, mprop)\n",
    "    r = pf_calcrot(dc)\n",
    "    k = pf_stiff(E, A, I, L)\n",
    "    return atba(r, k)\n",
    "\n",
    "for imem in range(nmem):\n",
    "    k = pf_gstiff(imem, xy, conn, mprop)\n",
    "    print('Member', imem)\n",
    "    print(k)"
   ]
  },
  {
   "cell_type": "markdown",
   "metadata": {},
   "source": [
    "## Assembling Structure Stiffness Matrix"
   ]
  },
  {
   "cell_type": "code",
   "execution_count": 9,
   "metadata": {
    "collapsed": false
   },
   "outputs": [
    {
     "name": "stdout",
     "output_type": "stream",
     "text": [
      "Number of degrees of freedom = 3\n",
      "Location Matrix\n",
      "[[1 2 3]\n",
      " [0 0 0]\n",
      " [0 0 0]]\n",
      "Structure Stiffness Matrix\n",
      "[[  1.53411840e+03  -3.54508800e+02   2.30400000e+03]\n",
      " [ -3.54508800e+02   4.47321600e+02  -2.92800000e+03]\n",
      " [  2.30400000e+03  -2.92800000e+03   7.20000000e+05]]\n"
     ]
    }
   ],
   "source": [
    "# Assemble structure stiffness matrix, contribution from one member. Related to structure\n",
    "def pf_assemssm(imem, xy, conn, mprop, lm, ssm):\n",
    "    \"\"\"\n",
    "    Superpose stiffness matrix of plane frame member on the structure\n",
    "    stiffness matrix\n",
    "    \"\"\"\n",
    "    K = pf_gstiff(imem, xy, conn, mprop)\n",
    "    memdof = pf_get_dof(imem, conn, lm)\n",
    "    for i in range(len(memdof)):\n",
    "        if memdof[i]:\n",
    "            for j in range(len(memdof)):\n",
    "                if memdof[j]:\n",
    "                    ii = memdof[i] - 1\n",
    "                    jj = memdof[j] - 1\n",
    "                    ssm[ii, jj] += K[i, j]\n",
    "    return ssm\n",
    "\n",
    "# Assemble structure stiffness matrix, contribution from all members. Related to structure\n",
    "def pf_ssm(xy, conn, bc, mprop):\n",
    "    \"\"\"\n",
    "    Assemble structure stiffness matrix by superposing stiffness matrices of\n",
    "    individual members\n",
    "    \"\"\"\n",
    "    n = xy.shape[0]\n",
    "    lm, ndof = pf_calclm(n, bc)\n",
    "    nmem = conn.shape[0]\n",
    "    ssm = np.zeros((ndof, ndof), dtype=float)\n",
    "    for imem in range(1, nmem+1):\n",
    "        ssm = pf_assemssm(imem, xy,conn, mprop, lm, ssm)\n",
    "    return ssm, lm, ndof\n",
    "\n",
    "ssm, lm, ndof = pf_ssm(xy, conn, bc, mprop)\n",
    "print('Number of degrees of freedom =', ndof)\n",
    "print('Location Matrix')\n",
    "print(lm)\n",
    "print('Structure Stiffness Matrix')\n",
    "print(ssm)"
   ]
  },
  {
   "cell_type": "markdown",
   "metadata": {},
   "source": [
    "## Assembling Load Vector"
   ]
  },
  {
   "cell_type": "code",
   "execution_count": 10,
   "metadata": {
    "collapsed": false
   },
   "outputs": [
    {
     "name": "stdout",
     "output_type": "stream",
     "text": [
      "Load Vector\n",
      "[[  8.88178420e-16]\n",
      " [ -3.20000000e+01]\n",
      " [ -1.05000000e+03]]\n"
     ]
    },
    {
     "name": "stderr",
     "output_type": "stream",
     "text": [
      "C:\\Users\\Satish\\Anaconda2\\lib\\site-packages\\ipykernel\\__main__.py:6: DeprecationWarning: using a non-integer number instead of an integer will result in an error in the future\n",
      "C:\\Users\\Satish\\Anaconda2\\lib\\site-packages\\ipykernel\\__main__.py:7: DeprecationWarning: using a non-integer number instead of an integer will result in an error in the future\n"
     ]
    }
   ],
   "source": [
    "# Assemble structure loadvector due to all joint loads. Related to structure\n",
    "def pf_assem_loadvec_jl(lm, jtloads, P):\n",
    "    \"\"\"\n",
    "    Superpose joint loads on structure load vector\n",
    "    \"\"\"\n",
    "    nloads = jtloads.shape[0]\n",
    "    for iload in range(nloads):\n",
    "        jt = int(jtloads[iload, 0])\n",
    "        jtdof = lm[jt-1, :]\n",
    "        for j in range(3):\n",
    "            if jtdof[j]:\n",
    "                i = jtdof[j] - 1\n",
    "                P[i] += jtloads[iload, j+1]\n",
    "    return P\n",
    "\n",
    "# Assemble structure loadvector due to one member load. Related to structure\n",
    "def pf_assem_loadvec_ml(iload, xy, conn, lm, memloads, P):\n",
    "    \"\"\"\n",
    "    Superpose equivalent joint loads due to loads applied on members onto\n",
    "    structure load vector\n",
    "    \"\"\"\n",
    "    imem = memloads[iload-1, 0]\n",
    "    xy1, xy2 = pf_get_endcoord(imem, xy, conn)\n",
    "    L, dc = pf_calclen(xy1, xy2)\n",
    "    r = pf_calcrot(dc)\n",
    "    ml = memloads[iload-1, 1:7]\n",
    "    ml = ml.reshape(len(ml), 1)\n",
    "    am = np.dot(-r.T, ml)\n",
    "    memdof = pf_get_dof(imem, conn, lm)\n",
    "    for i in range(6):\n",
    "        if memdof[i]:\n",
    "            ii = memdof[i] - 1\n",
    "            P[ii] += am[i]\n",
    "    return P\n",
    "\n",
    "# Assemble structure loadvector due to all loads. Related to structure\n",
    "def pf_loadvec(xy, conn, jtloads, memloads, ndof, lm):\n",
    "    \"\"\"\n",
    "    Assemble structure load vector due to joint loads and loads applied\n",
    "    directly on members\n",
    "    \"\"\"\n",
    "    P = np.zeros((ndof,1), dtype=float)\n",
    "    P = pf_assem_loadvec_jl(lm, jtloads, P)\n",
    "    nml = memloads.shape[0]\n",
    "    for iload in range(1, nml+1):\n",
    "        P = pf_assem_loadvec_ml(iload, xy, conn, lm, memloads, P)\n",
    "    return P\n",
    "\n",
    "P = pf_loadvec(xy, conn, jtloads, memloads, ndof, lm)\n",
    "print('Load Vector')\n",
    "print(P)"
   ]
  },
  {
   "cell_type": "markdown",
   "metadata": {},
   "source": [
    "## Solve Stiffness Equation for Displacements"
   ]
  },
  {
   "cell_type": "code",
   "execution_count": 11,
   "metadata": {
    "collapsed": false
   },
   "outputs": [
    {
     "name": "stdout",
     "output_type": "stream",
     "text": [
      "Displacements\n",
      "[[-0.02026077]\n",
      " [-0.09936002]\n",
      " [-0.00179756]]\n"
     ]
    }
   ],
   "source": [
    "x = np.linalg.solve(ssm, P)\n",
    "print('Displacements')\n",
    "print(x)"
   ]
  },
  {
   "cell_type": "markdown",
   "metadata": {},
   "source": [
    "## Putting It All Together"
   ]
  },
  {
   "cell_type": "code",
   "execution_count": 12,
   "metadata": {
    "collapsed": false
   },
   "outputs": [
    {
     "name": "stdout",
     "output_type": "stream",
     "text": [
      "[[  1.53411840e+03  -3.54508800e+02   2.30400000e+03]\n",
      " [ -3.54508800e+02   4.47321600e+02  -2.92800000e+03]\n",
      " [  2.30400000e+03  -2.92800000e+03   7.20000000e+05]]\n",
      "[[  8.88178420e-16]\n",
      " [ -3.20000000e+01]\n",
      " [ -1.05000000e+03]]\n",
      "[[-0.02026077]\n",
      " [-0.09936002]\n",
      " [-0.00179756]]\n"
     ]
    },
    {
     "name": "stderr",
     "output_type": "stream",
     "text": [
      "C:\\Users\\Satish\\Anaconda2\\lib\\site-packages\\ipykernel\\__main__.py:6: DeprecationWarning: using a non-integer number instead of an integer will result in an error in the future\n",
      "C:\\Users\\Satish\\Anaconda2\\lib\\site-packages\\ipykernel\\__main__.py:7: DeprecationWarning: using a non-integer number instead of an integer will result in an error in the future\n"
     ]
    }
   ],
   "source": [
    "def pf(xy, conn, bc, mprop, jtloads, memloads):\n",
    "    nodes = xy.shape[0]\n",
    "    ssm, lm, ndof = pf_ssm(xy, conn, bc, mprop)\n",
    "    P = pf_loadvec(xy, conn, jtloads, memloads, ndof, lm)\n",
    "    x = np.linalg.solve(ssm, P)\n",
    "    return ssm, x, P, lm, ndof\n",
    "\n",
    "ssm, x, P, lm, ndof = pf(xy, conn, bc, mprop, jtloads, memloads)\n",
    "print(ssm)\n",
    "print(P)\n",
    "print(x)"
   ]
  },
  {
   "cell_type": "markdown",
   "metadata": {},
   "source": [
    "## Member End Forces"
   ]
  },
  {
   "cell_type": "code",
   "execution_count": 13,
   "metadata": {
    "collapsed": false
   },
   "outputs": [
    {
     "name": "stdout",
     "output_type": "stream",
     "text": [
      "Member Number 1\n",
      "[[  20.26076865]\n",
      " [  13.13782511]\n",
      " [ 436.64755273]\n",
      " [ -20.26076865]\n",
      " [  10.86217489]\n",
      " [-322.86504198]]\n",
      "\n",
      "Member Number 2\n",
      "[[  28.72591986]\n",
      " [  -4.53327872]\n",
      " [-677.13495802]\n",
      " [ -40.72591986]\n",
      " [  20.53327872]\n",
      " [-889.52488224]]\n",
      "\n"
     ]
    }
   ],
   "source": [
    "# Element end forces in one element. Related to element\n",
    "def pf_mem_endforces(imem, xy, conn, mprop, memloads, lm, x):\n",
    "    \"\"\"\n",
    "    Calculate member end forces from joint displacements, for one chosen member\n",
    "    \"\"\"\n",
    "    xy1, xy2 = pf_get_endcoord(imem, xy, conn)\n",
    "    L, dc = pf_calclen(xy1, xy2)\n",
    "    E, A, I, L, dc = pf_get_memprop(imem, xy, conn, mprop)\n",
    "    r = pf_calcrot(dc)\n",
    "    u = np.zeros((6, 1), dtype=float)\n",
    "    memdof = pf_get_dof(imem, conn, lm)\n",
    "    for i in range(6):\n",
    "        if memdof[i]:\n",
    "            idof = memdof[i]\n",
    "            u[i] = x[idof-1]\n",
    "    uu = np.dot(r, u)\n",
    "    k = pf_stiff(E, A, I, L)\n",
    "    f = np.zeros((6, 1), dtype=float)\n",
    "    f = np.dot(k, uu)\n",
    "\n",
    "    nml = memloads.shape[0]\n",
    "    for i in range(nml):\n",
    "        if memloads[i, 0] == imem:\n",
    "            f += memloads[i, 1:].reshape(6,1)\n",
    "    return f\n",
    "\n",
    "for imem in range(1, nmem+1):\n",
    "    print('Member Number', imem)\n",
    "    f = pf_mem_endforces(imem, xy, conn, mprop, memloads, lm, x)\n",
    "    print(f)\n",
    "    print()"
   ]
  },
  {
   "cell_type": "markdown",
   "metadata": {},
   "source": [
    "## Example 2: Hall and Kabaila"
   ]
  },
  {
   "cell_type": "code",
   "execution_count": 14,
   "metadata": {
    "collapsed": false
   },
   "outputs": [],
   "source": [
    "# Hall & Kabaila\n",
    "xy = np.array([[0.0, 8.0], [8.0, 8.0], [0.0, 4.0], [8.0, 4.0], [0.0, 0.0], [8.0, 0.0]])\n",
    "conn = np.array([[5, 3, 1], [3, 1, 1], [6, 4, 1], [4, 2, 1], [3, 4, 2], [1, 2, 2]])\n",
    "bc = np.array([[5, 1, 1, 1], [6, 1, 1, 1]])\n",
    "mprop = np.array([[20.0e6, 0.1, 0.0008], [20.0e6, 0.15, 0.0030]])\n",
    "jtloads = np.array([])\n",
    "memloads = np.array([[6, 0.0, 10.0, 20.0, 0.0, 10.0, -20.0],\n",
    "                     [5, 0.0, 40.0, 53.3, 0.0, 40.0, -53.3]])"
   ]
  },
  {
   "cell_type": "code",
   "execution_count": 15,
   "metadata": {
    "collapsed": false
   },
   "outputs": [
    {
     "name": "stderr",
     "output_type": "stream",
     "text": [
      "C:\\Users\\Satish\\Anaconda2\\lib\\site-packages\\ipykernel\\__main__.py:6: DeprecationWarning: using a non-integer number instead of an integer will result in an error in the future\n",
      "C:\\Users\\Satish\\Anaconda2\\lib\\site-packages\\ipykernel\\__main__.py:7: DeprecationWarning: using a non-integer number instead of an integer will result in an error in the future\n"
     ]
    },
    {
     "name": "stdout",
     "output_type": "stream",
     "text": [
      "[[  378000.          0.       6000.    -375000.          0.          0.\n",
      "     -3000.          0.       6000.          0.          0.          0.  ]\n",
      " [       0.     501406.25     5625.          0.      -1406.25     5625.\n",
      "         0.    -500000.          0.          0.          0.          0.  ]\n",
      " [    6000.       5625.      46000.          0.      -5625.      15000.\n",
      "     -6000.          0.       8000.          0.          0.          0.  ]\n",
      " [ -375000.          0.          0.     378000.          0.       6000.\n",
      "         0.          0.          0.      -3000.          0.       6000.  ]\n",
      " [       0.      -1406.25    -5625.          0.     501406.25    -5625.\n",
      "         0.          0.          0.          0.    -500000.          0.  ]\n",
      " [       0.       5625.      15000.       6000.      -5625.      46000.\n",
      "         0.          0.          0.      -6000.          0.       8000.  ]\n",
      " [   -3000.          0.      -6000.          0.          0.          0.\n",
      "    381000.          0.          0.    -375000.          0.          0.  ]\n",
      " [       0.    -500000.          0.          0.          0.          0.\n",
      "         0.    1001406.25     5625.          0.      -1406.25     5625.  ]\n",
      " [    6000.          0.       8000.          0.          0.          0.\n",
      "         0.       5625.      62000.          0.      -5625.      15000.  ]\n",
      " [       0.          0.          0.      -3000.          0.      -6000.\n",
      "   -375000.          0.          0.     381000.          0.          0.  ]\n",
      " [       0.          0.          0.          0.    -500000.          0.\n",
      "         0.      -1406.25    -5625.          0.    1001406.25    -5625.  ]\n",
      " [       0.          0.          0.       6000.          0.       8000.\n",
      "         0.       5625.      15000.          0.      -5625.      62000.  ]]\n",
      "[[  0. ]\n",
      " [-10. ]\n",
      " [-20. ]\n",
      " [  0. ]\n",
      " [-10. ]\n",
      " [ 20. ]\n",
      " [  0. ]\n",
      " [-40. ]\n",
      " [-53.3]\n",
      " [  0. ]\n",
      " [-40. ]\n",
      " [ 53.3]]\n",
      "[[  1.14907666e-05]\n",
      " [ -1.20000000e-04]\n",
      " [ -3.71218092e-04]\n",
      " [ -1.14907666e-05]\n",
      " [ -1.20000000e-04]\n",
      " [  3.71218092e-04]\n",
      " [ -2.90057705e-06]\n",
      " [ -1.00000000e-04]\n",
      " [ -1.07232340e-03]\n",
      " [  2.90057705e-06]\n",
      " [ -1.00000000e-04]\n",
      " [  1.07232340e-03]]\n",
      "Member Number 1\n",
      "[[ 50.        ]\n",
      " [ -6.44264214]\n",
      " [ -8.59599067]\n",
      " [-50.        ]\n",
      " [  6.44264214]\n",
      " [-17.17457788]]\n",
      "\n",
      "Member Number 2\n",
      "[[ 10.        ]\n",
      " [ -8.61807493]\n",
      " [-20.0405711 ]\n",
      " [-10.        ]\n",
      " [  8.61807493]\n",
      " [-14.43172862]]\n",
      "\n",
      "Member Number 3\n",
      "[[ 50.        ]\n",
      " [  6.44264214]\n",
      " [  8.59599067]\n",
      " [-50.        ]\n",
      " [ -6.44264214]\n",
      " [ 17.17457788]]\n",
      "\n",
      "Member Number 4\n",
      "[[ 10.        ]\n",
      " [  8.61807493]\n",
      " [ 20.0405711 ]\n",
      " [-10.        ]\n",
      " [ -8.61807493]\n",
      " [ 14.43172862]]\n",
      "\n",
      "Member Number 5\n",
      "[[ -2.17543279]\n",
      " [ 40.        ]\n",
      " [ 37.21514898]\n",
      " [  2.17543279]\n",
      " [ 40.        ]\n",
      " [-37.21514898]]\n",
      "\n",
      "Member Number 6\n",
      "[[  8.61807493]\n",
      " [ 10.        ]\n",
      " [ 14.43172862]\n",
      " [ -8.61807493]\n",
      " [ 10.        ]\n",
      " [-14.43172862]]\n",
      "\n"
     ]
    }
   ],
   "source": [
    "ssm, x, P, lm, ndof = pf(xy, conn, bc, mprop, jtloads, memloads)\n",
    "print(ssm)\n",
    "print(P)\n",
    "print(x)\n",
    "nmem = conn.shape[0]\n",
    "for imem in range(1, nmem+1):\n",
    "    print('Member Number', imem)\n",
    "    f = pf_mem_endforces(imem, xy, conn, mprop, memloads, lm, x)\n",
    "    print(f)\n",
    "    print()"
   ]
  },
  {
   "cell_type": "markdown",
   "metadata": {},
   "source": [
    "## Pretty Printing"
   ]
  },
  {
   "cell_type": "code",
   "execution_count": 16,
   "metadata": {
    "collapsed": false
   },
   "outputs": [
    {
     "name": "stdout",
     "output_type": "stream",
     "text": [
      "Node Coordinates Size: 6 x 2\n",
      "    0      0.0000      8.0000\n",
      "    1      8.0000      8.0000\n",
      "    2      0.0000      4.0000\n",
      "    3      8.0000      4.0000\n",
      "    4      0.0000      0.0000\n",
      "    5      8.0000      0.0000\n",
      "\n",
      "Member Connectivity Size: 6 x 3\n",
      "    0    5    3    1\n",
      "    1    3    1    1\n",
      "    2    6    4    1\n",
      "    3    4    2    1\n",
      "    4    3    4    2\n",
      "    5    1    2    2\n",
      "\n",
      "Zero Boundary Conditions Size: 2 x 4\n",
      "    0    5    1    1    1\n",
      "    1    6    1    1    1\n",
      "\n",
      "Member Properties Size: 2 x 3\n",
      "    0      2.0000e+07      0.1000      0.0008\n",
      "    1      2.0000e+07      0.1500      0.0030\n",
      "\n",
      "Joint Loads Size: 2 x 7\n",
      "    0    6      0.0000     10.0000     20.0000      0.0000     10.0000    -20.0000\n",
      "    1    5      0.0000     40.0000     53.3000      0.0000     40.0000    -53.3000\n"
     ]
    }
   ],
   "source": [
    "# Utility functions. Not directly related to DSM\n",
    "def print_mat(header, k, fmt = \"%12.4f\"):\n",
    "    \"\"\"Print the array with a heading\n",
    "\n",
    "    Print the array k, preceded by a header string. Each element of k is\n",
    "    printed using the format string fmt\n",
    "    \"\"\"\n",
    "    m, n = k.shape\n",
    "    print(header, \"Size: %d x %d\" % (m, n))\n",
    "    fmt = fmt.split(' ')\n",
    "    for i in range(m):\n",
    "        print(\"%5d\" % (i), end='')\n",
    "        for j in range(n):\n",
    "            print(fmt[j] % (k[i, j]), end='')\n",
    "        print()\n",
    "    return\n",
    "\n",
    "print_mat('Node Coordinates', xy, fmt='%12.4f %12.4f')\n",
    "print()\n",
    "print_mat('Member Connectivity', conn, fmt='%5d %5d %5d')\n",
    "print()\n",
    "print_mat('Zero Boundary Conditions', bc, fmt='%5d %5d %5d %5d')\n",
    "print()\n",
    "print_mat('Member Properties', mprop, fmt='%16.4e %12.4f %12.4f')\n",
    "print()\n",
    "print_mat('Joint Loads', memloads, fmt='%5d %12.4f %12.4f %12.4f %12.4f %12.4f %12.4f')"
   ]
  },
  {
   "cell_type": "code",
   "execution_count": null,
   "metadata": {
    "collapsed": true
   },
   "outputs": [],
   "source": []
  }
 ],
 "metadata": {
  "kernelspec": {
   "display_name": "Python 2",
   "language": "python",
   "name": "python2"
  },
  "language_info": {
   "codemirror_mode": {
    "name": "ipython",
    "version": 2
   },
   "file_extension": ".py",
   "mimetype": "text/x-python",
   "name": "python",
   "nbconvert_exporter": "python",
   "pygments_lexer": "ipython2",
   "version": "2.7.11"
  }
 },
 "nbformat": 4,
 "nbformat_minor": 0
}
