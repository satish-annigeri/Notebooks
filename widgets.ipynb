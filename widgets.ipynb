{
 "cells": [
  {
   "cell_type": "code",
   "execution_count": 2,
   "metadata": {
    "collapsed": false
   },
   "outputs": [
    {
     "data": {
      "image/png": "[encoded data removed]",
      "text/plain": [
       "<matplotlib.figure.Figure at 0x39b12b0>"
      ]
     },
     "metadata": {},
     "output_type": "display_data"
    },
    {
     "name": "stderr",
     "output_type": "stream",
     "text": [
      "C:\\Anaconda\\lib\\site-packages\\IPython\\html.py:14: ShimWarning: The `IPython.html` package has been deprecated. You should import from `notebook` instead. `IPython.html.widgets` has moved to `ipywidgets`.\n",
      "  \"`IPython.html.widgets` has moved to `ipywidgets`.\", ShimWarning)\n"
     ]
    },
    {
     "ename": "ImportError",
     "evalue": "cannot import name interact",
     "output_type": "error",
     "traceback": [
      "\u001b[1;31m---------------------------------------------------------------------------\u001b[0m",
      "\u001b[1;31mImportError\u001b[0m                               Traceback (most recent call last)",
      "\u001b[1;32m<ipython-input-2-2ff3632f2538>\u001b[0m in \u001b[0;36m<module>\u001b[1;34m()\u001b[0m\n\u001b[0;32m     15\u001b[0m \u001b[0mplt\u001b[0m\u001b[1;33m.\u001b[0m\u001b[0mshow\u001b[0m\u001b[1;33m(\u001b[0m\u001b[1;33m)\u001b[0m\u001b[1;33m\u001b[0m\u001b[0m\n\u001b[0;32m     16\u001b[0m \u001b[1;33m\u001b[0m\u001b[0m\n\u001b[1;32m---> 17\u001b[1;33m \u001b[1;32mfrom\u001b[0m \u001b[0mIPython\u001b[0m\u001b[1;33m.\u001b[0m\u001b[0mhtml\u001b[0m\u001b[1;33m.\u001b[0m\u001b[0mwidgets\u001b[0m \u001b[1;32mimport\u001b[0m \u001b[0minteract\u001b[0m\u001b[1;33m,\u001b[0m \u001b[0mFloatSliderWidget\u001b[0m\u001b[1;33m,\u001b[0m \u001b[0mRadioButtonsWidget\u001b[0m\u001b[1;33m\u001b[0m\u001b[0m\n\u001b[0m\u001b[0;32m     18\u001b[0m \u001b[1;33m\u001b[0m\u001b[0m\n\u001b[0;32m     19\u001b[0m \u001b[1;31m#interact(plot, amplitude=FloatSliderWidget(0.1, 1.0, 0.1), color=RadioButtonsWidget(['blue', 'green', 'red']))\u001b[0m\u001b[1;33m\u001b[0m\u001b[1;33m\u001b[0m\u001b[0m\n",
      "\u001b[1;31mImportError\u001b[0m: cannot import name interact"
     ]
    }
   ],
   "source": [
    "%matplotlib inline\n",
    "import numpy as np\n",
    "import matplotlib.pyplot as plt\n",
    "\n",
    "def plot(amplitude, color):\n",
    "    fig, ax = plt.subplots(figsize=(4,3 ), subplot_kw={'axisbg': '#EEEEEE', 'axisbelow': True})\n",
    "    ax.grid(color='w', linewidth=2, linestyle='solid')\n",
    "    x = np.linspace(0, 10, 1000)\n",
    "    ax.plot(x, amplitude * np.sin(x), color=color, lw=5, alpha=0.4)\n",
    "    ax.set_xlim(0, 10)\n",
    "    ax.set_ylim(-1.1, 1.1)\n",
    "    return fig\n",
    "\n",
    "fig = plot(0.1, 'blue')\n",
    "plt.show()\n",
    "\n",
    "from IPython.html.widgets import interact, FloatSliderWidget, RadioButtonsWidget\n",
    "\n",
    "#interact(plot, amplitude=FloatSliderWidget(0.1, 1.0, 0.1), color=RadioButtonsWidget(['blue', 'green', 'red']))"
   ]
  },
  {
   "cell_type": "code",
   "execution_count": 12,
   "metadata": {
    "collapsed": false
   },
   "outputs": [
    {
     "data": {
      "text/html": [
       "<h3>Arguments:</h3><table>\n",
       "<tr><td>a</td><td>10</td></tr>\n",
       "<tr><td>c</td><td>True</td></tr>\n",
       "<tr><td>b</td><td>Hi There</td></tr>\n",
       "</table>"
      ],
      "text/plain": [
       "<IPython.core.display.HTML at 0xa64b898>"
      ]
     },
     "metadata": {},
     "output_type": "display_data"
    }
   ],
   "source": [
    "from IPython.html.widgets import interact, interactive, fixed\n",
    "from IPython.html import widgets\n",
    "from IPython.display import clear_output, display, HTML\n",
    "\n",
    "def show_args(**kwargs):\n",
    "    s = '<h3>Arguments:</h3><table>\\n'\n",
    "    for k,v in kwargs.items():\n",
    "        s += '<tr><td>{0}</td><td>{1}</td></tr>\\n'.format(k,v)\n",
    "    s += '</table>'\n",
    "    display(HTML(s))\n",
    "    return\n",
    "\n",
    "show_args(a=10, b='Hi There', c=True)"
   ]
  },
  {
   "cell_type": "code",
   "execution_count": 13,
   "metadata": {
    "collapsed": false
   },
   "outputs": [
    {
     "data": {
      "text/html": [
       "<h3>Arguments:</h3><table>\n",
       "<tr><td>Current</td><td>0.0</td></tr>\n",
       "<tr><td>Text</td><td>Type here!</td></tr>\n",
       "<tr><td>z</td><td>True</td></tr>\n",
       "<tr><td>a</td><td>5.0</td></tr>\n",
       "<tr><td>Temp</td><td>5</td></tr>\n",
       "</table>"
      ],
      "text/plain": [
       "<IPython.core.display.HTML at 0xa91b748>"
      ]
     },
     "metadata": {},
     "output_type": "display_data"
    }
   ],
   "source": [
    "i = interact(show_args,\n",
    "         Temp=(0,10),\n",
    "         Current=(0.,10.,0.01),\n",
    "         z=True,\n",
    "         Text=u'Type here!',\n",
    "         #Algorithm=['This','That','Other'],\n",
    "         a=widgets.FloatSliderWidget(min=-10.0, max=10.0, step=0.1, value=5.0)\n",
    "         )"
   ]
  },
  {
   "cell_type": "code",
   "execution_count": 1,
   "metadata": {
    "collapsed": false
   },
   "outputs": [
    {
     "ename": "NameError",
     "evalue": "name 'i' is not defined",
     "output_type": "error",
     "traceback": [
      "\u001b[1;31m---------------------------------------------------------------------------\u001b[0m",
      "\u001b[1;31mNameError\u001b[0m                                 Traceback (most recent call last)",
      "\u001b[1;32m<ipython-input-1-a555805eb60a>\u001b[0m in \u001b[0;36m<module>\u001b[1;34m()\u001b[0m\n\u001b[1;32m----> 1\u001b[1;33m \u001b[0mi\u001b[0m\u001b[1;33m.\u001b[0m\u001b[0mwidget\u001b[0m\u001b[1;33m\u001b[0m\u001b[0m\n\u001b[0m",
      "\u001b[1;31mNameError\u001b[0m: name 'i' is not defined"
     ]
    }
   ],
   "source": [
    "i.widget"
   ]
  },
  {
   "cell_type": "code",
   "execution_count": null,
   "metadata": {
    "collapsed": false
   },
   "outputs": [],
   "source": []
  }
 ],
 "metadata": {
  "kernelspec": {
   "display_name": "Python 2",
   "language": "python",
   "name": "python2"
  },
  "language_info": {
   "codemirror_mode": {
    "name": "ipython",
    "version": 2
   },
   "file_extension": ".py",
   "mimetype": "text/x-python",
   "name": "python",
   "nbconvert_exporter": "python",
   "pygments_lexer": "ipython2",
   "version": "2.7.11"
  }
 },
 "nbformat": 4,
 "nbformat_minor": 0
}
