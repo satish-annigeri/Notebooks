{
 "cells": [
  {
   "cell_type": "markdown",
   "metadata": {},
   "source": [
    "# Pandas and Pandasql\n",
    "While NumPy adds the n-dimensioned array data type to Python, Pandas provides the DataFrame data type. A DataFrame is like the sheet of a spreadsheet application in memory. Each row is an observation and each column is a parameter. Columns have headings and rows are indexed. Data type of data in each column is usually the same but different columns can be of different type. Pandas provides methods to manipulate and plot this data.\n",
    "\n",
    "Pandasql enables running SQL queries on a DataFrame object, thereby making it easy to query and select data in a dataframe."
   ]
  },
  {
   "cell_type": "code",
   "execution_count": 3,
   "metadata": {
    "collapsed": false
   },
   "outputs": [
    {
     "name": "stdout",
     "output_type": "stream",
     "text": [
      "       Name     w      A    h    b   tf    tw     Ixx    Iyy   rxx   ryy  \\\n",
      "0   ISHB150  27.1  34.48  150  150  9.0   5.4  1455.6  431.7  6.50  3.54   \n",
      "1  ISHB150A  30.6  38.98  150  150  9.0   8.4  1540.0  460.3  6.29  3.44   \n",
      "2  ISHB150B  34.6  44.08  150  150  9.0  11.8  1635.6  494.9  6.09  3.35   \n",
      "3   ISHB200  37.3  47.54  200  200  9.0   6.1  3608.4  967.1  8.71  4.51   \n",
      "4  ISHB200A  40.0  50.94  200  200  9.0   7.8  3721.8  994.6  8.55  4.42   \n",
      "\n",
      "     Zxx   Zyy   R1   R2     D    G   G2  G1     h1  \n",
      "0  194.1  57.6  8.0  4.0  94.0   55    0  55  112.0  \n",
      "1  205.3  60.2  8.0  4.0  94.0   55    0  55  112.0  \n",
      "2  218.1  63.2  8.0  4.0  94.0   55    0  55  112.0  \n",
      "3  360.8  96.7  9.0  4.5  94.0  140  100  55  158.4  \n",
      "4  372.2  98.6  9.0  4.5  94.0  140  100  55  158.4  \n"
     ]
    }
   ],
   "source": [
    "import pandas as pd\n",
    "\n",
    "xls = pd.ExcelFile('ind_i_sec.xls')\n",
    "isec = xls.parse('Sheet1')\n",
    "print isec.head()"
   ]
  },
  {
   "cell_type": "code",
   "execution_count": 4,
   "metadata": {
    "collapsed": false
   },
   "outputs": [
    {
     "name": "stdout",
     "output_type": "stream",
     "text": [
      "      Name     w      A      h      b    tf   tw     Ixx    Iyy    rxx   ryy  \\\n",
      "0  ISMB300  44.2  56.26  300.0  140.0  12.4  7.5  8603.6  453.9  12.37  2.84   \n",
      "\n",
      "     Zxx   Zyy    R1   R2     D     G   G2    G1     h1  \n",
      "0  573.6  64.8  14.0  7.0  98.0  80.0  0.0  65.0  241.5  \n"
     ]
    }
   ],
   "source": [
    "from pandasql import sqldf, load_meat, load_births\n",
    "\n",
    "pysqldf = lambda q: sqldf(q, globals())\n",
    "\n",
    "df = pysqldf(\"SELECT * FROM isec WHERE Name LIKE 'ISMB300'\")\n",
    "print df"
   ]
  },
  {
   "cell_type": "code",
   "execution_count": 5,
   "metadata": {
    "collapsed": false,
    "scrolled": true
   },
   "outputs": [
    {
     "name": "stdout",
     "output_type": "stream",
     "text": [
      "      Name     w      A      h     b   tf   tw    Ixx   Iyy   rxx   ryy   Zxx  \\\n",
      "0  ISMB100  11.5  14.60  100.0  75.0  7.2  4.0  257.5  40.8  4.20  1.67  51.5   \n",
      "1  ISLB125  11.9  15.12  125.0  75.0  6.5  4.4  406.8  43.4  5.19  1.69  65.1   \n",
      "2  ISMB125  13.0  16.60  125.0  75.0  7.6  4.4  449.0  43.7  5.20  1.62  71.8   \n",
      "3  ISLB150  14.2  18.08  150.0  80.0  6.8  4.8  688.2  55.2  6.17  1.75  91.8   \n",
      "4  ISMB150  14.9  19.00  150.0  80.0  7.6  4.8  726.4  52.6  6.18  1.66  96.9   \n",
      "\n",
      "    Zyy   R1   R2     D     G   G2    G1     h1  \n",
      "0  10.9  9.0  4.5  98.0  35.0  0.0  55.0   65.0  \n",
      "1  11.6  8.0  3.0  91.5  35.0  0.0  50.0   95.4  \n",
      "2  11.7  9.0  4.5  98.0  35.0  0.0  55.0   89.2  \n",
      "3  13.8  9.5  3.0  91.5  40.0  0.0  50.0  116.9  \n",
      "4  13.1  9.0  4.5  98.0  40.0  0.0  55.0  113.9  \n"
     ]
    }
   ],
   "source": [
    "df = pysqldf(\"SELECT * FROM isec WHERE NAME LIKE 'ISMB%' OR NAME LIKE 'ISLB%' AND Ixx > 200 ORDER BY w LIMIT 5\")\n",
    "print df"
   ]
  },
  {
   "cell_type": "code",
   "execution_count": 6,
   "metadata": {
    "collapsed": false
   },
   "outputs": [
    {
     "name": "stdout",
     "output_type": "stream",
     "text": [
      "      Name     w      A      h      b    tf   tw     Ixx    Iyy    rxx   ryy  \\\n",
      "0  ISMB300  44.2  56.26  300.0  140.0  12.4  7.5  8603.6  453.9  12.37  2.84   \n",
      "\n",
      "     Zxx   Zyy    R1   R2     D     G   G2    G1     h1  \n",
      "0  573.6  64.8  14.0  7.0  98.0  80.0  0.0  65.0  241.5  \n"
     ]
    }
   ],
   "source": [
    "df = pysqldf(\"SELECT * FROM isec WHERE Name LIKE 'ISMB300'\")\n",
    "print df"
   ]
  },
  {
   "cell_type": "code",
   "execution_count": 9,
   "metadata": {
    "collapsed": false
   },
   "outputs": [
    {
     "name": "stdout",
     "output_type": "stream",
     "text": [
      "None\n"
     ]
    }
   ],
   "source": [
    "df = pysqldf(\"SELECT * FROM isec WHERE Iz > 200 ORDER BY Iz LIMIT 3\")\n",
    "print df"
   ]
  },
  {
   "cell_type": "code",
   "execution_count": 7,
   "metadata": {
    "collapsed": false
   },
   "outputs": [
    {
     "name": "stdout",
     "output_type": "stream",
     "text": [
      "        date   beef   veal    pork  lamb_and_mutton  broilers  other_chicken  \\\n",
      "0 1944-01-01  751.0   85.0  1280.0             89.0       NaN            NaN   \n",
      "1 1944-02-01  713.0   77.0  1169.0             72.0       NaN            NaN   \n",
      "2 1944-03-01  741.0   90.0  1128.0             75.0       NaN            NaN   \n",
      "3 1944-04-01  650.0   89.0   978.0             66.0       NaN            NaN   \n",
      "4 1944-05-01  681.0  106.0  1029.0             78.0       NaN            NaN   \n",
      "\n",
      "   turkey  \n",
      "0     NaN  \n",
      "1     NaN  \n",
      "2     NaN  \n",
      "3     NaN  \n",
      "4     NaN  \n",
      "        date  births\n",
      "0 1975-01-01  265775\n",
      "1 1975-02-01  241045\n",
      "2 1975-03-01  268849\n",
      "3 1975-04-01  247455\n",
      "4 1975-05-01  254545\n"
     ]
    }
   ],
   "source": [
    "meat = load_meat()\n",
    "births = load_births()\n",
    "\n",
    "print meat.head()\n",
    "print births.head()"
   ]
  },
  {
   "cell_type": "code",
   "execution_count": 8,
   "metadata": {
    "collapsed": false
   },
   "outputs": [
    {
     "name": "stdout",
     "output_type": "stream",
     "text": [
      "        date   beef   veal    pork  lamb_and_mutton  broilers  other_chicken  \\\n",
      "0 1944-01-01  751.0   85.0  1280.0             89.0       NaN            NaN   \n",
      "1 1944-02-01  713.0   77.0  1169.0             72.0       NaN            NaN   \n",
      "2 1944-03-01  741.0   90.0  1128.0             75.0       NaN            NaN   \n",
      "3 1944-04-01  650.0   89.0   978.0             66.0       NaN            NaN   \n",
      "4 1944-05-01  681.0  106.0  1029.0             78.0       NaN            NaN   \n",
      "\n",
      "   turkey  \n",
      "0     NaN  \n",
      "1     NaN  \n",
      "2     NaN  \n",
      "3     NaN  \n",
      "4     NaN  \n",
      "                  date    beef\n",
      "0  1963-10-01 00:00:00  1513.0\n",
      "1  1964-01-01 00:00:00  1512.0\n",
      "2  1964-04-01 00:00:00  1515.0\n",
      "3  1964-05-01 00:00:00  1511.0\n",
      "4  1964-06-01 00:00:00  1589.0\n"
     ]
    }
   ],
   "source": [
    "q = \"\"\"\n",
    "SELECT m.date, m.beef\n",
    "FROM meat m\n",
    "WHERE m.date > '1974-12-31'\n",
    "\"\"\"\n",
    "\n",
    "print meat.head()\n",
    "df = pysqldf(\"SELECT date, beef FROM meat WHERE beef > 1500\")\n",
    "print df.head()"
   ]
  },
  {
   "cell_type": "code",
   "execution_count": null,
   "metadata": {
    "collapsed": true
   },
   "outputs": [],
   "source": []
  }
 ],
 "metadata": {
  "kernelspec": {
   "display_name": "Python 2",
   "language": "python",
   "name": "python2"
  },
  "language_info": {
   "codemirror_mode": {
    "name": "ipython",
    "version": 2
   },
   "file_extension": ".py",
   "mimetype": "text/x-python",
   "name": "python",
   "nbconvert_exporter": "python",
   "pygments_lexer": "ipython2",
   "version": "2.7.11"
  }
 },
 "nbformat": 4,
 "nbformat_minor": 0
}
