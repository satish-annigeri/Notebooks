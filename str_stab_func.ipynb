{
 "cells": [
  {
   "cell_type": "code",
   "execution_count": 11,
   "metadata": {
    "collapsed": false
   },
   "outputs": [
    {
     "name": "stdout",
     "output_type": "stream",
     "text": [
      "2.44342052755 1.01338575695\n"
     ]
    }
   ],
   "source": [
    "%matplotlib inline\n",
    "\n",
    "from numpy import sqrt, sin, cos\n",
    "\n",
    "def stab_func(phi):\n",
    "    x = sqrt(phi)\n",
    "    r = x * (sin(x) - x*cos(x)) / (2*(1-cos(x)) - x*sin(x))\n",
    "    c = (-x + sin(x)) / (x*cos(x) - sin(x))\n",
    "    return r, c\n",
    "\n",
    "r, c = stab_func(10.0)\n",
    "print r, c"
   ]
  },
  {
   "cell_type": "code",
   "execution_count": null,
   "metadata": {
    "collapsed": true
   },
   "outputs": [],
   "source": []
  }
 ],
 "metadata": {
  "kernelspec": {
   "display_name": "Python 2",
   "language": "python",
   "name": "python2"
  },
  "language_info": {
   "codemirror_mode": {
    "name": "ipython",
    "version": 2
   },
   "file_extension": ".py",
   "mimetype": "text/x-python",
   "name": "python",
   "nbconvert_exporter": "python",
   "pygments_lexer": "ipython2",
   "version": "2.7.11"
  }
 },
 "nbformat": 4,
 "nbformat_minor": 0
}
